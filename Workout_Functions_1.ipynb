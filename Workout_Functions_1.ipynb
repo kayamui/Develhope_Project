{
 "cells": [
  {
   "cell_type": "code",
   "execution_count": 2,
   "id": "2be489e4",
   "metadata": {},
   "outputs": [],
   "source": [
    "# def function_name(input):\n",
    "#    output"
   ]
  },
  {
   "cell_type": "code",
   "execution_count": 11,
   "id": "423549fa",
   "metadata": {},
   "outputs": [],
   "source": [
    "def square(x):\n",
    "    x * x"
   ]
  },
  {
   "cell_type": "code",
   "execution_count": 12,
   "id": "4cd2d60b",
   "metadata": {},
   "outputs": [],
   "source": [
    "a = square(3)"
   ]
  },
  {
   "cell_type": "code",
   "execution_count": 14,
   "id": "72f85104",
   "metadata": {},
   "outputs": [],
   "source": [
    "a"
   ]
  },
  {
   "cell_type": "code",
   "execution_count": 15,
   "id": "a8dafc40",
   "metadata": {},
   "outputs": [
    {
     "data": {
      "text/plain": [
       "NoneType"
      ]
     },
     "execution_count": 15,
     "metadata": {},
     "output_type": "execute_result"
    }
   ],
   "source": [
    "type(a)"
   ]
  },
  {
   "cell_type": "code",
   "execution_count": 16,
   "id": "61ecf61b",
   "metadata": {},
   "outputs": [
    {
     "data": {
      "text/plain": [
       "NoneType"
      ]
     },
     "execution_count": 16,
     "metadata": {},
     "output_type": "execute_result"
    }
   ],
   "source": [
    "type(square(3))"
   ]
  },
  {
   "cell_type": "code",
   "execution_count": 17,
   "id": "d89a407a",
   "metadata": {},
   "outputs": [],
   "source": [
    "# Hiçbir şey döndürmemesinin sebebi return keywordunun kullanılmaması"
   ]
  },
  {
   "cell_type": "code",
   "execution_count": 18,
   "id": "44e94642",
   "metadata": {},
   "outputs": [],
   "source": [
    "def square(x):\n",
    "    return x * x"
   ]
  },
  {
   "cell_type": "code",
   "execution_count": 19,
   "id": "033a8a5f",
   "metadata": {},
   "outputs": [
    {
     "data": {
      "text/plain": [
       "4"
      ]
     },
     "execution_count": 19,
     "metadata": {},
     "output_type": "execute_result"
    }
   ],
   "source": [
    "square(2)"
   ]
  },
  {
   "cell_type": "code",
   "execution_count": 22,
   "id": "6964c0d8",
   "metadata": {},
   "outputs": [],
   "source": [
    "a = square(2)"
   ]
  },
  {
   "cell_type": "code",
   "execution_count": 23,
   "id": "887ded8f",
   "metadata": {},
   "outputs": [
    {
     "data": {
      "text/plain": [
       "4"
      ]
     },
     "execution_count": 23,
     "metadata": {},
     "output_type": "execute_result"
    }
   ],
   "source": [
    "a"
   ]
  },
  {
   "cell_type": "code",
   "execution_count": 29,
   "id": "af48250d",
   "metadata": {},
   "outputs": [],
   "source": [
    "def square(x):\n",
    "    res = x * x\n",
    "    return res"
   ]
  },
  {
   "cell_type": "code",
   "execution_count": 25,
   "id": "ad7b8338",
   "metadata": {},
   "outputs": [
    {
     "data": {
      "text/plain": [
       "25"
      ]
     },
     "execution_count": 25,
     "metadata": {},
     "output_type": "execute_result"
    }
   ],
   "source": [
    "square(5)"
   ]
  },
  {
   "cell_type": "code",
   "execution_count": 26,
   "id": "d5d94f62",
   "metadata": {},
   "outputs": [],
   "source": [
    "def weird():\n",
    "    return 5"
   ]
  },
  {
   "cell_type": "code",
   "execution_count": 27,
   "id": "348f8129",
   "metadata": {},
   "outputs": [
    {
     "data": {
      "text/plain": [
       "5"
      ]
     },
     "execution_count": 27,
     "metadata": {},
     "output_type": "execute_result"
    }
   ],
   "source": [
    "weird()"
   ]
  },
  {
   "cell_type": "code",
   "execution_count": 28,
   "id": "89ec4492",
   "metadata": {},
   "outputs": [
    {
     "ename": "NameError",
     "evalue": "name 'x' is not defined",
     "output_type": "error",
     "traceback": [
      "\u001b[0;31m---------------------------------------------------------------------------\u001b[0m",
      "\u001b[0;31mNameError\u001b[0m                                 Traceback (most recent call last)",
      "\u001b[0;32m/var/folders/cr/dmdsfj5n5r9ccpwhwhw9_1c80000gn/T/ipykernel_26646/2423978403.py\u001b[0m in \u001b[0;36m<module>\u001b[0;34m\u001b[0m\n\u001b[0;32m----> 1\u001b[0;31m \u001b[0mweird\u001b[0m\u001b[0;34m(\u001b[0m\u001b[0mx\u001b[0m\u001b[0;34m)\u001b[0m\u001b[0;34m\u001b[0m\u001b[0;34m\u001b[0m\u001b[0m\n\u001b[0m",
      "\u001b[0;31mNameError\u001b[0m: name 'x' is not defined"
     ]
    }
   ],
   "source": [
    "weird(x)"
   ]
  },
  {
   "cell_type": "markdown",
   "id": "79b41f1c",
   "metadata": {},
   "source": [
    "# fonksiyon returnu gördükten sonra devamına bakmaz!!"
   ]
  },
  {
   "cell_type": "code",
   "execution_count": 30,
   "id": "d088b9b2",
   "metadata": {},
   "outputs": [],
   "source": [
    "def square(x):\n",
    "    return x * x\n",
    "    print(f\"square of {x} equal to {res}\")"
   ]
  },
  {
   "cell_type": "code",
   "execution_count": 31,
   "id": "26d03e02",
   "metadata": {},
   "outputs": [
    {
     "data": {
      "text/plain": [
       "49"
      ]
     },
     "execution_count": 31,
     "metadata": {},
     "output_type": "execute_result"
    }
   ],
   "source": [
    "square(7)"
   ]
  },
  {
   "cell_type": "code",
   "execution_count": 72,
   "id": "207e2eff",
   "metadata": {},
   "outputs": [],
   "source": [
    "def square(x):\n",
    "    res = x * x\n",
    "    print(f\"Square of {x} equal to {res}\")\n",
    "    return"
   ]
  },
  {
   "cell_type": "code",
   "execution_count": 73,
   "id": "9c0289f6",
   "metadata": {},
   "outputs": [
    {
     "name": "stdout",
     "output_type": "stream",
     "text": [
      "Square of 9 equal to 81\n"
     ]
    }
   ],
   "source": [
    "square(9)"
   ]
  },
  {
   "cell_type": "code",
   "execution_count": 37,
   "id": "5d10829e",
   "metadata": {},
   "outputs": [],
   "source": [
    "def square(x):\n",
    "    res = x * x\n",
    "    print(f\"Square of {x} equal to :\")\n",
    "    return res"
   ]
  },
  {
   "cell_type": "code",
   "execution_count": 38,
   "id": "64fc7be7",
   "metadata": {},
   "outputs": [
    {
     "name": "stdout",
     "output_type": "stream",
     "text": [
      "Square of 9 equal to :\n"
     ]
    },
    {
     "data": {
      "text/plain": [
       "81"
      ]
     },
     "execution_count": 38,
     "metadata": {},
     "output_type": "execute_result"
    }
   ],
   "source": [
    "square(9)"
   ]
  },
  {
   "cell_type": "code",
   "execution_count": 39,
   "id": "911c4028",
   "metadata": {},
   "outputs": [],
   "source": [
    "# Fonksiyonlara durumsallık da katılabilir"
   ]
  },
  {
   "cell_type": "code",
   "execution_count": 40,
   "id": "b5d44d05",
   "metadata": {},
   "outputs": [],
   "source": [
    "def f(x):\n",
    "    res = x * x\n",
    "    if x % 2 == 0:\n",
    "        return res\n",
    "    else:\n",
    "        return res + 10\n",
    "    print(f\"Square of {x} equal to {res}\")"
   ]
  },
  {
   "cell_type": "code",
   "execution_count": 42,
   "id": "b74c07c7",
   "metadata": {},
   "outputs": [
    {
     "data": {
      "text/plain": [
       "100"
      ]
     },
     "execution_count": 42,
     "metadata": {},
     "output_type": "execute_result"
    }
   ],
   "source": [
    "f(10) #Gördüğünüz gibi printe gitmedi çünkü return gördüğü gibi durdu!!!"
   ]
  },
  {
   "cell_type": "code",
   "execution_count": 43,
   "id": "c7e6dbf4",
   "metadata": {},
   "outputs": [
    {
     "data": {
      "text/plain": [
       "179"
      ]
     },
     "execution_count": 43,
     "metadata": {},
     "output_type": "execute_result"
    }
   ],
   "source": [
    "f(13)"
   ]
  },
  {
   "cell_type": "code",
   "execution_count": 74,
   "id": "13226845",
   "metadata": {},
   "outputs": [],
   "source": [
    "# Normalde for döngüsünde 10 defa dönmesi gerekirdi ama fonksiyon returnü gördüğü an fonksiyondan çıkar\n",
    "def f(x):\n",
    "    res = x * x\n",
    "    for i in range(10):\n",
    "        res += 20\n",
    "        return res\n",
    "        print(\"Burası asla yazılmayacak\")"
   ]
  },
  {
   "cell_type": "code",
   "execution_count": 75,
   "id": "d3186963",
   "metadata": {},
   "outputs": [
    {
     "data": {
      "text/plain": [
       "120"
      ]
     },
     "execution_count": 75,
     "metadata": {},
     "output_type": "execute_result"
    }
   ],
   "source": [
    "f(10)"
   ]
  },
  {
   "cell_type": "code",
   "execution_count": 76,
   "id": "66823691",
   "metadata": {},
   "outputs": [],
   "source": [
    "def f(x):\n",
    "    res = x * x\n",
    "    for i in range(10):\n",
    "        res +=20\n",
    "    return res #Burada return forun dışına yazılmış yani önce for döngüsü on defa dönüyor ,sonra return geliyor"
   ]
  },
  {
   "cell_type": "code",
   "execution_count": 77,
   "id": "d86829e5",
   "metadata": {},
   "outputs": [
    {
     "data": {
      "text/plain": [
       "300"
      ]
     },
     "execution_count": 77,
     "metadata": {},
     "output_type": "execute_result"
    }
   ],
   "source": [
    "f(10)"
   ]
  },
  {
   "cell_type": "code",
   "execution_count": 80,
   "id": "5c4f33ca",
   "metadata": {},
   "outputs": [],
   "source": [
    "def f(x):\n",
    "    l = []\n",
    "    res = x * x\n",
    "    for i in range(10):\n",
    "        res += 20\n",
    "        l.append(res)\n",
    "    return l"
   ]
  },
  {
   "cell_type": "code",
   "execution_count": 81,
   "id": "963bbeca",
   "metadata": {},
   "outputs": [
    {
     "data": {
      "text/plain": [
       "[120, 140, 160, 180, 200, 220, 240, 260, 280, 300]"
      ]
     },
     "execution_count": 81,
     "metadata": {},
     "output_type": "execute_result"
    }
   ],
   "source": [
    "f(10)"
   ]
  },
  {
   "cell_type": "markdown",
   "id": "012a9bd9",
   "metadata": {},
   "source": [
    "# Void Fonksiyonlar (Değer Döndürmeyen Fonksiyonlar)"
   ]
  },
  {
   "cell_type": "code",
   "execution_count": 61,
   "id": "7591be62",
   "metadata": {},
   "outputs": [],
   "source": [
    "def f(x):\n",
    "    x = 2"
   ]
  },
  {
   "cell_type": "code",
   "execution_count": 62,
   "id": "53d0aa40",
   "metadata": {},
   "outputs": [],
   "source": [
    "f(2)"
   ]
  },
  {
   "cell_type": "code",
   "execution_count": 63,
   "id": "328eaf94",
   "metadata": {},
   "outputs": [
    {
     "ename": "TypeError",
     "evalue": "unsupported operand type(s) for +: 'NoneType' and 'int'",
     "output_type": "error",
     "traceback": [
      "\u001b[0;31m---------------------------------------------------------------------------\u001b[0m",
      "\u001b[0;31mTypeError\u001b[0m                                 Traceback (most recent call last)",
      "\u001b[0;32m/var/folders/cr/dmdsfj5n5r9ccpwhwhw9_1c80000gn/T/ipykernel_26646/3417252273.py\u001b[0m in \u001b[0;36m<module>\u001b[0;34m\u001b[0m\n\u001b[0;32m----> 1\u001b[0;31m \u001b[0mf\u001b[0m\u001b[0;34m(\u001b[0m\u001b[0;36m10\u001b[0m\u001b[0;34m)\u001b[0m \u001b[0;34m+\u001b[0m \u001b[0;36m4\u001b[0m\u001b[0;34m\u001b[0m\u001b[0;34m\u001b[0m\u001b[0m\n\u001b[0m",
      "\u001b[0;31mTypeError\u001b[0m: unsupported operand type(s) for +: 'NoneType' and 'int'"
     ]
    }
   ],
   "source": [
    "f(10) + 4"
   ]
  },
  {
   "cell_type": "code",
   "execution_count": 64,
   "id": "4e160239",
   "metadata": {},
   "outputs": [
    {
     "name": "stdout",
     "output_type": "stream",
     "text": [
      "None\n"
     ]
    }
   ],
   "source": [
    "print(f(3))"
   ]
  },
  {
   "cell_type": "code",
   "execution_count": 65,
   "id": "205a7029",
   "metadata": {},
   "outputs": [],
   "source": [
    "# Bu kod x in karesini değer olarak bize veriyor ama sadece ekrana bastıracak herhamgi bir tipi yok.\n",
    "def f(x):\n",
    "    print(f\"{x}'in/un/ün karesi {x * x}\")"
   ]
  },
  {
   "cell_type": "code",
   "execution_count": 66,
   "id": "e258b850",
   "metadata": {},
   "outputs": [
    {
     "name": "stdout",
     "output_type": "stream",
     "text": [
      "4'in/un/ün karesi 16\n"
     ]
    }
   ],
   "source": [
    "f(4)"
   ]
  },
  {
   "cell_type": "code",
   "execution_count": 67,
   "id": "ba390a9f",
   "metadata": {},
   "outputs": [
    {
     "name": "stdout",
     "output_type": "stream",
     "text": [
      "4'in/un/ün karesi 16\n"
     ]
    },
    {
     "data": {
      "text/plain": [
       "NoneType"
      ]
     },
     "execution_count": 67,
     "metadata": {},
     "output_type": "execute_result"
    }
   ],
   "source": [
    "type(f(4))"
   ]
  },
  {
   "cell_type": "code",
   "execution_count": 68,
   "id": "7943a3b9",
   "metadata": {},
   "outputs": [],
   "source": [
    "def square(x):\n",
    "    res = x * x\n",
    "    print(f\"Sayının karesi {res}\")\n",
    "    return res"
   ]
  },
  {
   "cell_type": "code",
   "execution_count": 69,
   "id": "c2df0935",
   "metadata": {},
   "outputs": [
    {
     "name": "stdout",
     "output_type": "stream",
     "text": [
      "Sayının karesi 16\n"
     ]
    },
    {
     "data": {
      "text/plain": [
       "16"
      ]
     },
     "execution_count": 69,
     "metadata": {},
     "output_type": "execute_result"
    }
   ],
   "source": [
    "square(4)"
   ]
  },
  {
   "cell_type": "code",
   "execution_count": 71,
   "id": "ab432292",
   "metadata": {},
   "outputs": [
    {
     "name": "stdout",
     "output_type": "stream",
     "text": [
      "Sayının karesi 16\n"
     ]
    },
    {
     "data": {
      "text/plain": [
       "int"
      ]
     },
     "execution_count": 71,
     "metadata": {},
     "output_type": "execute_result"
    }
   ],
   "source": [
    "type(square(4)) # Görüldüğü gibi bu fonksiyon void değil"
   ]
  }
 ],
 "metadata": {
  "kernelspec": {
   "display_name": "Python 3 (ipykernel)",
   "language": "python",
   "name": "python3"
  },
  "language_info": {
   "codemirror_mode": {
    "name": "ipython",
    "version": 3
   },
   "file_extension": ".py",
   "mimetype": "text/x-python",
   "name": "python",
   "nbconvert_exporter": "python",
   "pygments_lexer": "ipython3",
   "version": "3.9.13"
  }
 },
 "nbformat": 4,
 "nbformat_minor": 5
}

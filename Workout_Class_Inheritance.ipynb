{
 "cells": [
  {
   "cell_type": "markdown",
   "id": "c80ca58d",
   "metadata": {},
   "source": [
    "# Inheritance"
   ]
  },
  {
   "cell_type": "raw",
   "id": "c21b1122",
   "metadata": {},
   "source": [
    "# Inheritance class içine class eklemektir. Belirttiğimiz başka classlardaki method ve attributelara erişmemizi sağlar\n",
    "# Diyelim ki farklı tipte çalışanlar yaratmak istiyorum. IT ve HR çalışanları olsun"
   ]
  },
  {
   "cell_type": "code",
   "execution_count": 26,
   "id": "7d8b8c00",
   "metadata": {},
   "outputs": [],
   "source": [
    "class Employee:\n",
    "    raise_percent = 1.05\n",
    "    num_emp = 0\n",
    "    \n",
    "    def __init__(self,name,last,age,pay):\n",
    "        self.name = name\n",
    "        self.last = last\n",
    "        self.age = age\n",
    "        self.pay = pay\n",
    "        \n",
    "    @classmethod\n",
    "    def apply_rise(cls,amount):\n",
    "        Employee.raise_percent = amount\n",
    "        return raise_percent\n",
    "    @classmethod\n",
    "    def add_from_here(cls, name, last, age, pay):\n",
    "        Employee.name = name\n",
    "        Employee.last = last\n",
    "        Employee.age = age\n",
    "        Employee.pay = pay\n",
    "        return name, last, age, pay\n",
    "    @classmethod\n",
    "    def change_num_emp(cls,number):\n",
    "        Employee.num_emp = number\n",
    "        return number"
   ]
  },
  {
   "cell_type": "code",
   "execution_count": 20,
   "id": "e20c0328",
   "metadata": {},
   "outputs": [],
   "source": [
    "#BUNLAR DENEME AMAÇLI KONU DIŞI ÇALIŞMALARIM\n",
    "######################################################"
   ]
  },
  {
   "cell_type": "code",
   "execution_count": 3,
   "id": "58c1459e",
   "metadata": {},
   "outputs": [
    {
     "data": {
      "text/plain": [
       "2.02"
      ]
     },
     "execution_count": 3,
     "metadata": {},
     "output_type": "execute_result"
    }
   ],
   "source": [
    "Employee.apply_rise(2.02)"
   ]
  },
  {
   "cell_type": "code",
   "execution_count": 4,
   "id": "01b91dd4",
   "metadata": {},
   "outputs": [
    {
     "data": {
      "text/plain": [
       "2.02"
      ]
     },
     "execution_count": 4,
     "metadata": {},
     "output_type": "execute_result"
    }
   ],
   "source": [
    "Employee.raise_percent"
   ]
  },
  {
   "cell_type": "code",
   "execution_count": 5,
   "id": "c0b6161b",
   "metadata": {},
   "outputs": [],
   "source": [
    "emp1 = Employee(\"Muhammed\", \"Kaya\", 27 , 13500)"
   ]
  },
  {
   "cell_type": "code",
   "execution_count": 7,
   "id": "29d9cbd6",
   "metadata": {},
   "outputs": [
    {
     "data": {
      "text/plain": [
       "{'name': 'Muhammed', 'last': 'Kaya', 'age': 27, 'pay': 13500}"
      ]
     },
     "execution_count": 7,
     "metadata": {},
     "output_type": "execute_result"
    }
   ],
   "source": [
    "emp1.__dict__"
   ]
  },
  {
   "cell_type": "code",
   "execution_count": 15,
   "id": "29a284dd",
   "metadata": {},
   "outputs": [],
   "source": [
    "emp2 = Employee.add_from_here(\"Muberra\",\"Kaya\", 28, 15000)"
   ]
  },
  {
   "cell_type": "code",
   "execution_count": 16,
   "id": "0d2ed004",
   "metadata": {},
   "outputs": [
    {
     "data": {
      "text/plain": [
       "tuple"
      ]
     },
     "execution_count": 16,
     "metadata": {},
     "output_type": "execute_result"
    }
   ],
   "source": [
    "type(emp2)"
   ]
  },
  {
   "cell_type": "code",
   "execution_count": 19,
   "id": "8af6cccb",
   "metadata": {},
   "outputs": [
    {
     "data": {
      "text/plain": [
       "('Muberra', 'Kaya', 28, 15000)"
      ]
     },
     "execution_count": 19,
     "metadata": {},
     "output_type": "execute_result"
    }
   ],
   "source": [
    "emp2"
   ]
  },
  {
   "cell_type": "code",
   "execution_count": 30,
   "id": "a79952b0",
   "metadata": {},
   "outputs": [
    {
     "data": {
      "text/plain": [
       "20"
      ]
     },
     "execution_count": 30,
     "metadata": {},
     "output_type": "execute_result"
    }
   ],
   "source": [
    "Employee.change_num_emp(20)"
   ]
  },
  {
   "cell_type": "code",
   "execution_count": 31,
   "id": "b8872282",
   "metadata": {},
   "outputs": [
    {
     "name": "stdout",
     "output_type": "stream",
     "text": [
      "20\n"
     ]
    }
   ],
   "source": [
    "print(Employee.num_emp)"
   ]
  },
  {
   "cell_type": "code",
   "execution_count": 23,
   "id": "25dead14",
   "metadata": {},
   "outputs": [],
   "source": [
    "#####################################################"
   ]
  },
  {
   "cell_type": "code",
   "execution_count": 25,
   "id": "e7a39758",
   "metadata": {},
   "outputs": [],
   "source": [
    "#DERS KONUSU BURADAN BAŞLIYOR..."
   ]
  },
  {
   "cell_type": "code",
   "execution_count": 8,
   "id": "cfa62d19",
   "metadata": {},
   "outputs": [],
   "source": [
    "class Employee:\n",
    "    raise_percent = 1.05\n",
    "    num_emp = 0\n",
    "    def __init__(self, name, last, age, salary):\n",
    "        self.name = name\n",
    "        self.last = last\n",
    "        self.age = age\n",
    "        self.salary = salary\n",
    "    @classmethod\n",
    "    def apply_raise_percent(cls, amount):\n",
    "        Employee.raise_percent = amount\n",
    "        return amount\n",
    "    def apply_raise(self):\n",
    "        self.salary = self.salary * Employee.raise_percent\n",
    "        return self.salary"
   ]
  },
  {
   "cell_type": "code",
   "execution_count": 43,
   "id": "a5e54b68",
   "metadata": {},
   "outputs": [],
   "source": [
    "emp_1 = Employee(\"Muhammed\", \"Kaya\", \"28\", 150000)"
   ]
  },
  {
   "cell_type": "code",
   "execution_count": 44,
   "id": "f522dfd7",
   "metadata": {},
   "outputs": [],
   "source": [
    "emp_2 = Employee(\"John\", \"Smith\", 45, 10000)"
   ]
  },
  {
   "cell_type": "code",
   "execution_count": 45,
   "id": "02cf8ced",
   "metadata": {},
   "outputs": [
    {
     "data": {
      "text/plain": [
       "{'name': 'Muhammed', 'last': 'Kaya', 'age': '28', 'salary': 150000}"
      ]
     },
     "execution_count": 45,
     "metadata": {},
     "output_type": "execute_result"
    }
   ],
   "source": [
    "emp_1.__dict__"
   ]
  },
  {
   "cell_type": "code",
   "execution_count": 46,
   "id": "cbe6fbe1",
   "metadata": {},
   "outputs": [
    {
     "data": {
      "text/plain": [
       "157500.0"
      ]
     },
     "execution_count": 46,
     "metadata": {},
     "output_type": "execute_result"
    }
   ],
   "source": [
    "Employee.apply_raise(emp_1)"
   ]
  },
  {
   "cell_type": "code",
   "execution_count": 47,
   "id": "9407e2b9",
   "metadata": {},
   "outputs": [
    {
     "data": {
      "text/plain": [
       "{'name': 'Muhammed', 'last': 'Kaya', 'age': '28', 'salary': 157500.0}"
      ]
     },
     "execution_count": 47,
     "metadata": {},
     "output_type": "execute_result"
    }
   ],
   "source": [
    "emp_1.__dict__"
   ]
  },
  {
   "cell_type": "code",
   "execution_count": 48,
   "id": "a3837164",
   "metadata": {},
   "outputs": [],
   "source": [
    "# Şimdi class içine class ekleyeceğiz"
   ]
  },
  {
   "cell_type": "code",
   "execution_count": 49,
   "id": "d83548c6",
   "metadata": {},
   "outputs": [],
   "source": [
    "# Anne classa parent class veya super class, içindekine subclass/chilclass diyoruz"
   ]
  },
  {
   "cell_type": "code",
   "execution_count": 51,
   "id": "e9d8bfdc",
   "metadata": {},
   "outputs": [],
   "source": [
    "class IT(Employee):\n",
    "    pass"
   ]
  },
  {
   "cell_type": "code",
   "execution_count": 52,
   "id": "46ce830e",
   "metadata": {},
   "outputs": [],
   "source": [
    "# IT nin içinde hiçbir şey olmasa bile Employeenin özelliklerine erişimi var"
   ]
  },
  {
   "cell_type": "code",
   "execution_count": 53,
   "id": "df597280",
   "metadata": {},
   "outputs": [],
   "source": [
    "# Program IT nin içinde aradığını bulamazsa super classa gidip bakacak. IT nin içinde __init__ methodu yok o yüzden direk Employee Classına bakacak"
   ]
  },
  {
   "cell_type": "code",
   "execution_count": 55,
   "id": "02f27568",
   "metadata": {},
   "outputs": [],
   "source": [
    "it_1 = IT(\"James\", \"Hughes\", 32, 5000)#Şimdi burada IT classın içinde init metodu yok ama parent classta olduğundan onu aradı buldu oradan ekledi"
   ]
  },
  {
   "cell_type": "code",
   "execution_count": 57,
   "id": "4557a625",
   "metadata": {},
   "outputs": [
    {
     "data": {
      "text/plain": [
       "__main__.IT"
      ]
     },
     "execution_count": 57,
     "metadata": {},
     "output_type": "execute_result"
    }
   ],
   "source": [
    "type(it_1)"
   ]
  },
  {
   "cell_type": "code",
   "execution_count": 60,
   "id": "b1711dec",
   "metadata": {},
   "outputs": [
    {
     "data": {
      "text/plain": [
       "{'name': 'James', 'last': 'Hughes', 'age': 32, 'salary': 5000}"
      ]
     },
     "execution_count": 60,
     "metadata": {},
     "output_type": "execute_result"
    }
   ],
   "source": [
    "it_1.__dict__"
   ]
  },
  {
   "cell_type": "code",
   "execution_count": 62,
   "id": "82896b40",
   "metadata": {},
   "outputs": [
    {
     "name": "stdout",
     "output_type": "stream",
     "text": [
      "Help on class IT in module __main__:\n",
      "\n",
      "class IT(Employee)\n",
      " |  IT(name, last, age, salary)\n",
      " |  \n",
      " |  Method resolution order:\n",
      " |      IT\n",
      " |      Employee\n",
      " |      builtins.object\n",
      " |  \n",
      " |  Methods inherited from Employee:\n",
      " |  \n",
      " |  __init__(self, name, last, age, salary)\n",
      " |      Initialize self.  See help(type(self)) for accurate signature.\n",
      " |  \n",
      " |  apply_raise(self)\n",
      " |  \n",
      " |  ----------------------------------------------------------------------\n",
      " |  Class methods inherited from Employee:\n",
      " |  \n",
      " |  apply_raise_percent(amount) from builtins.type\n",
      " |  \n",
      " |  ----------------------------------------------------------------------\n",
      " |  Data descriptors inherited from Employee:\n",
      " |  \n",
      " |  __dict__\n",
      " |      dictionary for instance variables (if defined)\n",
      " |  \n",
      " |  __weakref__\n",
      " |      list of weak references to the object (if defined)\n",
      " |  \n",
      " |  ----------------------------------------------------------------------\n",
      " |  Data and other attributes inherited from Employee:\n",
      " |  \n",
      " |  num_emp = 0\n",
      " |  \n",
      " |  raise_percent = 1.05\n",
      "\n"
     ]
    }
   ],
   "source": [
    "help(IT)"
   ]
  },
  {
   "cell_type": "code",
   "execution_count": 64,
   "id": "9da2ce50",
   "metadata": {},
   "outputs": [
    {
     "data": {
      "text/plain": [
       "5000"
      ]
     },
     "execution_count": 64,
     "metadata": {},
     "output_type": "execute_result"
    }
   ],
   "source": [
    "it_1.salary"
   ]
  },
  {
   "cell_type": "code",
   "execution_count": 65,
   "id": "c53ef77f",
   "metadata": {},
   "outputs": [
    {
     "data": {
      "text/plain": [
       "5250.0"
      ]
     },
     "execution_count": 65,
     "metadata": {},
     "output_type": "execute_result"
    }
   ],
   "source": [
    "it_1.apply_raise()"
   ]
  },
  {
   "cell_type": "code",
   "execution_count": 66,
   "id": "8b4bd184",
   "metadata": {},
   "outputs": [
    {
     "data": {
      "text/plain": [
       "5250.0"
      ]
     },
     "execution_count": 66,
     "metadata": {},
     "output_type": "execute_result"
    }
   ],
   "source": [
    "it_1.salary"
   ]
  },
  {
   "cell_type": "raw",
   "id": "7c1ce5c1",
   "metadata": {},
   "source": [
    "# Diyelim ki IT lerin maaş artış yüzdesini farklı girmek istiyorum"
   ]
  },
  {
   "cell_type": "code",
   "execution_count": 11,
   "id": "ebf4b120",
   "metadata": {},
   "outputs": [],
   "source": [
    "class IT(Employee):\n",
    "    raise_percent = 1.2"
   ]
  },
  {
   "cell_type": "code",
   "execution_count": 12,
   "id": "02b87468",
   "metadata": {},
   "outputs": [],
   "source": [
    "it_1= IT(\"James\",\"Hughes\", 27, 1000)"
   ]
  },
  {
   "cell_type": "code",
   "execution_count": 13,
   "id": "1c317a05",
   "metadata": {},
   "outputs": [
    {
     "data": {
      "text/plain": [
       "1.2"
      ]
     },
     "execution_count": 13,
     "metadata": {},
     "output_type": "execute_result"
    }
   ],
   "source": [
    "it_1.raise_percent"
   ]
  },
  {
   "cell_type": "code",
   "execution_count": 14,
   "id": "d00e46a0",
   "metadata": {},
   "outputs": [
    {
     "data": {
      "text/plain": [
       "1000"
      ]
     },
     "execution_count": 14,
     "metadata": {},
     "output_type": "execute_result"
    }
   ],
   "source": [
    "it_1.salary"
   ]
  },
  {
   "cell_type": "code",
   "execution_count": 15,
   "id": "8284819f",
   "metadata": {},
   "outputs": [
    {
     "data": {
      "text/plain": [
       "1.2"
      ]
     },
     "execution_count": 15,
     "metadata": {},
     "output_type": "execute_result"
    }
   ],
   "source": [
    "it_1.raise_percent"
   ]
  },
  {
   "cell_type": "code",
   "execution_count": 16,
   "id": "28b7fc14",
   "metadata": {},
   "outputs": [
    {
     "data": {
      "text/plain": [
       "1050.0"
      ]
     },
     "execution_count": 16,
     "metadata": {},
     "output_type": "execute_result"
    }
   ],
   "source": [
    "it_1.apply_raise()"
   ]
  },
  {
   "cell_type": "code",
   "execution_count": 17,
   "id": "97e70ea1",
   "metadata": {},
   "outputs": [],
   "source": [
    "# Diyelim ki IT cilere yeni bir özellik olarak bildikleri programlama dillerini de katmak istiyorum"
   ]
  },
  {
   "cell_type": "code",
   "execution_count": 18,
   "id": "ad2ddd92",
   "metadata": {},
   "outputs": [],
   "source": [
    "class IT(Employee):\n",
    "    raise_percent = 1.2\n",
    "    def __init__(self, name, last, age, salary, lang):\n",
    "        self.name = name\n",
    "        self.last = last\n",
    "        self.age = age\n",
    "        self.salary = salary\n",
    "        self.lang = lang"
   ]
  },
  {
   "cell_type": "code",
   "execution_count": 19,
   "id": "3beae1f7",
   "metadata": {},
   "outputs": [],
   "source": [
    "it_1 = IT(\"Muhammed\", \"Kaya\", \"27\", 10000, \"python3\")"
   ]
  },
  {
   "cell_type": "code",
   "execution_count": 20,
   "id": "37a14f10",
   "metadata": {},
   "outputs": [
    {
     "data": {
      "text/plain": [
       "'python3'"
      ]
     },
     "execution_count": 20,
     "metadata": {},
     "output_type": "execute_result"
    }
   ],
   "source": [
    "it_1.lang"
   ]
  },
  {
   "cell_type": "code",
   "execution_count": 28,
   "id": "72fc0b6c",
   "metadata": {},
   "outputs": [],
   "source": [
    "#Bunun yerine şöyle de tanımlayabiliriz"
   ]
  },
  {
   "cell_type": "code",
   "execution_count": 29,
   "id": "3908a67d",
   "metadata": {},
   "outputs": [],
   "source": [
    "class IT(Employee):\n",
    "    raise_percent = 1.2\n",
    "    def __init__(self, name, last, age, salary, lang):\n",
    "        super().__init__(name, last, age, salary)\n",
    "        self.lang = lang"
   ]
  },
  {
   "cell_type": "code",
   "execution_count": 30,
   "id": "69defdbb",
   "metadata": {},
   "outputs": [],
   "source": [
    "#Böylece tekrar tekrar init yapmamış olduk zaten superclass init yapıyorsa bir daha eklemeye gerek yok"
   ]
  },
  {
   "cell_type": "code",
   "execution_count": 32,
   "id": "08751cbd",
   "metadata": {},
   "outputs": [],
   "source": [
    "class IK(Employee):\n",
    "    raise_percent = 1.3\n",
    "    def __init__(self, name, last,age, salary, experience):\n",
    "        super().__init__(name, last, age, salary)\n",
    "        self.experience = experience\n",
    "    def print_exp(self):\n",
    "        print(f\"This worker has {self.experience} years of experience\")"
   ]
  },
  {
   "cell_type": "code",
   "execution_count": 33,
   "id": "baea434d",
   "metadata": {},
   "outputs": [],
   "source": [
    "ik_1 = IK(\"Charlie\", \"Brown\", \"22\", 3000, 12)"
   ]
  },
  {
   "cell_type": "code",
   "execution_count": 34,
   "id": "6c7f1083",
   "metadata": {},
   "outputs": [
    {
     "data": {
      "text/plain": [
       "12"
      ]
     },
     "execution_count": 34,
     "metadata": {},
     "output_type": "execute_result"
    }
   ],
   "source": [
    "ik_1.experience"
   ]
  },
  {
   "cell_type": "code",
   "execution_count": 37,
   "id": "ad59e175",
   "metadata": {},
   "outputs": [
    {
     "name": "stdout",
     "output_type": "stream",
     "text": [
      "This worker has 12 years of experience\n"
     ]
    }
   ],
   "source": [
    "IK.print_exp(ik_1)"
   ]
  },
  {
   "cell_type": "code",
   "execution_count": 38,
   "id": "2ef27fc9",
   "metadata": {},
   "outputs": [
    {
     "name": "stdout",
     "output_type": "stream",
     "text": [
      "This worker has 12 years of experience\n"
     ]
    }
   ],
   "source": [
    "ik_1.print_exp()"
   ]
  },
  {
   "cell_type": "code",
   "execution_count": 39,
   "id": "2aa5dcf8",
   "metadata": {},
   "outputs": [
    {
     "data": {
      "text/plain": [
       "True"
      ]
     },
     "execution_count": 39,
     "metadata": {},
     "output_type": "execute_result"
    }
   ],
   "source": [
    "isinstance(ik_1, IK)"
   ]
  },
  {
   "cell_type": "code",
   "execution_count": 40,
   "id": "0878839b",
   "metadata": {},
   "outputs": [
    {
     "data": {
      "text/plain": [
       "True"
      ]
     },
     "execution_count": 40,
     "metadata": {},
     "output_type": "execute_result"
    }
   ],
   "source": [
    "isinstance(ik_1, Employee)"
   ]
  },
  {
   "cell_type": "code",
   "execution_count": 42,
   "id": "6e50e114",
   "metadata": {},
   "outputs": [
    {
     "data": {
      "text/plain": [
       "True"
      ]
     },
     "execution_count": 42,
     "metadata": {},
     "output_type": "execute_result"
    }
   ],
   "source": [
    "issubclass(IK, Employee)"
   ]
  },
  {
   "cell_type": "code",
   "execution_count": 43,
   "id": "5b53cd0b",
   "metadata": {},
   "outputs": [
    {
     "data": {
      "text/plain": [
       "True"
      ]
     },
     "execution_count": 43,
     "metadata": {},
     "output_type": "execute_result"
    }
   ],
   "source": [
    "issubclass(IT, Employee)"
   ]
  },
  {
   "cell_type": "code",
   "execution_count": 44,
   "id": "c0c62462",
   "metadata": {},
   "outputs": [
    {
     "data": {
      "text/plain": [
       "False"
      ]
     },
     "execution_count": 44,
     "metadata": {},
     "output_type": "execute_result"
    }
   ],
   "source": [
    "issubclass(IK,IT)"
   ]
  },
  {
   "cell_type": "code",
   "execution_count": null,
   "id": "a80ae7f1",
   "metadata": {},
   "outputs": [],
   "source": []
  }
 ],
 "metadata": {
  "kernelspec": {
   "display_name": "Python 3 (ipykernel)",
   "language": "python",
   "name": "python3"
  },
  "language_info": {
   "codemirror_mode": {
    "name": "ipython",
    "version": 3
   },
   "file_extension": ".py",
   "mimetype": "text/x-python",
   "name": "python",
   "nbconvert_exporter": "python",
   "pygments_lexer": "ipython3",
   "version": "3.9.13"
  }
 },
 "nbformat": 4,
 "nbformat_minor": 5
}

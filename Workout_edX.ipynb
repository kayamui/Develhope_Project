{
 "cells": [
  {
   "cell_type": "markdown",
   "id": "ae204061",
   "metadata": {},
   "source": [
    "# Approximate Solution"
   ]
  },
  {
   "cell_type": "code",
   "execution_count": 34,
   "id": "371d8393",
   "metadata": {
    "ExecuteTime": {
     "end_time": "2023-02-15T13:37:21.671936Z",
     "start_time": "2023-02-15T13:37:21.665936Z"
    }
   },
   "outputs": [],
   "source": [
    "def approximate():\n",
    "    cube = int(input('Write the cube of any number: '))\n",
    "    epsilon = 0.01\n",
    "    guess = 0.0\n",
    "    increment = 0.001\n",
    "    num_guesses  = 0\n",
    "    while abs(guess ** 3 - cube) >= epsilon:\n",
    "        guess += increment\n",
    "        num_guesses += 1\n",
    "    return(guess, num_guesses)"
   ]
  },
  {
   "cell_type": "code",
   "execution_count": 38,
   "id": "69863027",
   "metadata": {
    "ExecuteTime": {
     "end_time": "2023-02-15T13:37:59.800642Z",
     "start_time": "2023-02-15T13:37:58.119034Z"
    }
   },
   "outputs": [
    {
     "name": "stdout",
     "output_type": "stream",
     "text": [
      "Write the cube of any number: 29\n"
     ]
    },
    {
     "data": {
      "text/plain": [
       "(3.0719999999997727, 3072)"
      ]
     },
     "execution_count": 38,
     "metadata": {},
     "output_type": "execute_result"
    }
   ],
   "source": [
    "approximate()"
   ]
  },
  {
   "cell_type": "code",
   "execution_count": 39,
   "id": "bf60352e",
   "metadata": {
    "ExecuteTime": {
     "end_time": "2023-02-15T13:38:16.227541Z",
     "start_time": "2023-02-15T13:38:16.216525Z"
    }
   },
   "outputs": [
    {
     "data": {
      "text/plain": [
       "28.991029248"
      ]
     },
     "execution_count": 39,
     "metadata": {},
     "output_type": "execute_result"
    }
   ],
   "source": [
    "3.072*3.072*3.072"
   ]
  },
  {
   "cell_type": "markdown",
   "id": "0b312a16",
   "metadata": {
    "ExecuteTime": {
     "end_time": "2023-02-16T15:17:59.649587Z",
     "start_time": "2023-02-16T15:17:59.631225Z"
    }
   },
   "source": [
    "# Bisection Search"
   ]
  },
  {
   "cell_type": "code",
   "execution_count": 6,
   "id": "e277476e",
   "metadata": {
    "ExecuteTime": {
     "end_time": "2023-02-16T15:26:11.151544Z",
     "start_time": "2023-02-16T15:26:11.140389Z"
    }
   },
   "outputs": [
    {
     "name": "stdout",
     "output_type": "stream",
     "text": [
      "low = 1.0 high = 155 ans = 78.0\n",
      "low = 1.0 high = 78.0 ans = 39.5\n",
      "low = 1.0 high = 39.5 ans = 20.25\n",
      "low = 1.0 high = 20.25 ans = 10.625\n",
      "low = 10.625 high = 20.25 ans = 15.4375\n",
      "low = 10.625 high = 15.4375 ans = 13.03125\n",
      "low = 10.625 high = 13.03125 ans = 11.828125\n",
      "low = 11.828125 high = 13.03125 ans = 12.4296875\n",
      "low = 12.4296875 high = 13.03125 ans = 12.73046875\n",
      "low = 12.4296875 high = 12.73046875 ans = 12.580078125\n",
      "low = 12.4296875 high = 12.580078125 ans = 12.5048828125\n",
      "low = 12.4296875 high = 12.5048828125 ans = 12.46728515625\n",
      "low = 12.4296875 high = 12.46728515625 ans = 12.448486328125\n",
      "low = 12.448486328125 high = 12.46728515625 ans = 12.4578857421875\n",
      "low = 12.448486328125 high = 12.4578857421875 ans = 12.45318603515625\n",
      "low = 12.448486328125 high = 12.45318603515625 ans = 12.450836181640625\n",
      "numGuesses = 16\n",
      "12.449661254882812 is close to square root of 155\n"
     ]
    }
   ],
   "source": [
    "#square root\n",
    "x = 155\n",
    "epsilon = 0.01\n",
    "numGuesses = 0\n",
    "low = 1.0\n",
    "high = x\n",
    "ans = (high + low) / 2.0\n",
    "\n",
    "while abs(ans**2 - x) >= epsilon:\n",
    "    print('low = ' + str(low) + ' high = ' + str(high) + ' ans = ' + str(ans))\n",
    "    numGuesses += 1\n",
    "    if ans ** 2 < x:\n",
    "        low = ans\n",
    "    else:\n",
    "        high = ans\n",
    "    ans = (high + low) / 2.0\n",
    "print('numGuesses = '+ str(numGuesses))\n",
    "print(str(ans) + ' is close to square root of '+str(x))"
   ]
  },
  {
   "cell_type": "code",
   "execution_count": 23,
   "id": "a2e5fabc",
   "metadata": {
    "ExecuteTime": {
     "end_time": "2023-02-16T15:32:45.925809Z",
     "start_time": "2023-02-16T15:32:45.917972Z"
    }
   },
   "outputs": [
    {
     "name": "stdout",
     "output_type": "stream",
     "text": [
      "numGuesses =  53\n",
      "3.0 is close to the cube root of  27\n"
     ]
    }
   ],
   "source": [
    "#cube root\n",
    "cube = 27\n",
    "epsilon = 0.000000000000001\n",
    "numGuesses = 0\n",
    "low = 1\n",
    "high = cube\n",
    "guess = (high + low) / 2.0\n",
    "while abs(guess ** 3 - cube) >= epsilon:\n",
    "    if guess ** 3 < cube:\n",
    "        low = guess\n",
    "    else:\n",
    "        high = guess\n",
    "    guess = (high + low)/ 2.0\n",
    "    numGuesses += 1\n",
    "print('numGuesses = ' , numGuesses)\n",
    "print(guess, 'is close to the cube root of ', cube)"
   ]
  },
  {
   "cell_type": "code",
   "execution_count": 118,
   "id": "38acd14b",
   "metadata": {
    "ExecuteTime": {
     "end_time": "2023-02-16T17:26:47.356448Z",
     "start_time": "2023-02-16T17:26:44.362891Z"
    },
    "collapsed": true
   },
   "outputs": [
    {
     "name": "stdout",
     "output_type": "stream",
     "text": [
      "Please think of a number between 0 and 100!\n",
      "Is your secret number  50 ?\n"
     ]
    },
    {
     "ename": "KeyboardInterrupt",
     "evalue": "Interrupted by user",
     "output_type": "error",
     "traceback": [
      "\u001b[1;31m---------------------------------------------------------------------------\u001b[0m",
      "\u001b[1;31mKeyboardInterrupt\u001b[0m                         Traceback (most recent call last)",
      "\u001b[1;32m~\\AppData\\Local\\Temp\\ipykernel_6040\\2297536651.py\u001b[0m in \u001b[0;36m<module>\u001b[1;34m\u001b[0m\n\u001b[0;32m      6\u001b[0m \u001b[1;32mwhile\u001b[0m \u001b[1;32mTrue\u001b[0m\u001b[1;33m:\u001b[0m\u001b[1;33m\u001b[0m\u001b[1;33m\u001b[0m\u001b[0m\n\u001b[0;32m      7\u001b[0m     \u001b[0mprint\u001b[0m\u001b[1;33m(\u001b[0m\u001b[1;34m'Is your secret number '\u001b[0m\u001b[1;33m,\u001b[0m \u001b[0mguess\u001b[0m\u001b[1;33m,\u001b[0m \u001b[1;34m\"?\"\u001b[0m\u001b[1;33m)\u001b[0m\u001b[1;33m\u001b[0m\u001b[1;33m\u001b[0m\u001b[0m\n\u001b[1;32m----> 8\u001b[1;33m     \u001b[0mans\u001b[0m \u001b[1;33m=\u001b[0m \u001b[0mstr\u001b[0m\u001b[1;33m(\u001b[0m\u001b[0minput\u001b[0m\u001b[1;33m(\u001b[0m\u001b[1;34m\"Enter 'h' to indicate the guess is too high. Enter 'l' to indicate the guess is too low. Enter 'c' to indicate I guessed correctly. \"\u001b[0m\u001b[1;33m)\u001b[0m\u001b[1;33m)\u001b[0m\u001b[1;33m\u001b[0m\u001b[1;33m\u001b[0m\u001b[0m\n\u001b[0m\u001b[0;32m      9\u001b[0m     \u001b[1;32mif\u001b[0m \u001b[0mans\u001b[0m \u001b[1;33m==\u001b[0m \u001b[1;34m'l'\u001b[0m\u001b[1;33m:\u001b[0m\u001b[1;33m\u001b[0m\u001b[1;33m\u001b[0m\u001b[0m\n\u001b[0;32m     10\u001b[0m         \u001b[0mlow\u001b[0m \u001b[1;33m=\u001b[0m \u001b[0mguess\u001b[0m\u001b[1;33m\u001b[0m\u001b[1;33m\u001b[0m\u001b[0m\n",
      "\u001b[1;32mC:\\ProgramData\\Anaconda3\\lib\\site-packages\\ipykernel\\kernelbase.py\u001b[0m in \u001b[0;36mraw_input\u001b[1;34m(self, prompt)\u001b[0m\n\u001b[0;32m   1175\u001b[0m                 \u001b[1;34m\"raw_input was called, but this frontend does not support input requests.\"\u001b[0m\u001b[1;33m\u001b[0m\u001b[1;33m\u001b[0m\u001b[0m\n\u001b[0;32m   1176\u001b[0m             )\n\u001b[1;32m-> 1177\u001b[1;33m         return self._input_request(\n\u001b[0m\u001b[0;32m   1178\u001b[0m             \u001b[0mstr\u001b[0m\u001b[1;33m(\u001b[0m\u001b[0mprompt\u001b[0m\u001b[1;33m)\u001b[0m\u001b[1;33m,\u001b[0m\u001b[1;33m\u001b[0m\u001b[1;33m\u001b[0m\u001b[0m\n\u001b[0;32m   1179\u001b[0m             \u001b[0mself\u001b[0m\u001b[1;33m.\u001b[0m\u001b[0m_parent_ident\u001b[0m\u001b[1;33m[\u001b[0m\u001b[1;34m\"shell\"\u001b[0m\u001b[1;33m]\u001b[0m\u001b[1;33m,\u001b[0m\u001b[1;33m\u001b[0m\u001b[1;33m\u001b[0m\u001b[0m\n",
      "\u001b[1;32mC:\\ProgramData\\Anaconda3\\lib\\site-packages\\ipykernel\\kernelbase.py\u001b[0m in \u001b[0;36m_input_request\u001b[1;34m(self, prompt, ident, parent, password)\u001b[0m\n\u001b[0;32m   1217\u001b[0m             \u001b[1;32mexcept\u001b[0m \u001b[0mKeyboardInterrupt\u001b[0m\u001b[1;33m:\u001b[0m\u001b[1;33m\u001b[0m\u001b[1;33m\u001b[0m\u001b[0m\n\u001b[0;32m   1218\u001b[0m                 \u001b[1;31m# re-raise KeyboardInterrupt, to truncate traceback\u001b[0m\u001b[1;33m\u001b[0m\u001b[1;33m\u001b[0m\u001b[0m\n\u001b[1;32m-> 1219\u001b[1;33m                 \u001b[1;32mraise\u001b[0m \u001b[0mKeyboardInterrupt\u001b[0m\u001b[1;33m(\u001b[0m\u001b[1;34m\"Interrupted by user\"\u001b[0m\u001b[1;33m)\u001b[0m \u001b[1;32mfrom\u001b[0m \u001b[1;32mNone\u001b[0m\u001b[1;33m\u001b[0m\u001b[1;33m\u001b[0m\u001b[0m\n\u001b[0m\u001b[0;32m   1220\u001b[0m             \u001b[1;32mexcept\u001b[0m \u001b[0mException\u001b[0m\u001b[1;33m:\u001b[0m\u001b[1;33m\u001b[0m\u001b[1;33m\u001b[0m\u001b[0m\n\u001b[0;32m   1221\u001b[0m                 \u001b[0mself\u001b[0m\u001b[1;33m.\u001b[0m\u001b[0mlog\u001b[0m\u001b[1;33m.\u001b[0m\u001b[0mwarning\u001b[0m\u001b[1;33m(\u001b[0m\u001b[1;34m\"Invalid Message:\"\u001b[0m\u001b[1;33m,\u001b[0m \u001b[0mexc_info\u001b[0m\u001b[1;33m=\u001b[0m\u001b[1;32mTrue\u001b[0m\u001b[1;33m)\u001b[0m\u001b[1;33m\u001b[0m\u001b[1;33m\u001b[0m\u001b[0m\n",
      "\u001b[1;31mKeyboardInterrupt\u001b[0m: Interrupted by user"
     ]
    }
   ],
   "source": [
    "high = 100\n",
    "low = 0\n",
    "epsilon = 0.01\n",
    "guess = (high + low)//2\n",
    "print('Please think of a number between 0 and 100!')\n",
    "while True:\n",
    "    print('Is your secret number ', guess, \"?\")\n",
    "    ans = str(input(\"Enter 'h' to indicate the guess is too high. Enter 'l' to indicate the guess is too low. Enter 'c' to indicate I guessed correctly. \"))\n",
    "    if ans == 'l':\n",
    "        low = guess\n",
    "    elif ans == 'h':\n",
    "        high = guess\n",
    "    elif ans == 'c':\n",
    "        print('Game over. Your secret number was: ', guess)\n",
    "        break\n",
    "    else:\n",
    "        print('Sorry, I did not understand your input.')\n",
    "    guess = (high + low) // 2"
   ]
  },
  {
   "cell_type": "code",
   "execution_count": 184,
   "id": "9e86769e",
   "metadata": {
    "ExecuteTime": {
     "end_time": "2023-02-16T18:20:05.159538Z",
     "start_time": "2023-02-16T18:20:05.148816Z"
    }
   },
   "outputs": [
    {
     "name": "stdout",
     "output_type": "stream",
     "text": [
      "90325.03\n"
     ]
    }
   ],
   "source": [
    "balance = 999999\n",
    "annualInterestRate = 0.18\n",
    "monthlyInterestRate = annualInterestRate /12\n",
    "high  = (balance * (1+ monthlyInterestRate)**12) / 12\n",
    "low = balance / 12\n",
    "epsilon = 0.01\n",
    "guess = (high + low) / 2\n",
    "a = balance\n",
    "while True:\n",
    "    balance = a\n",
    "    for _ in range(12):\n",
    "        unpaid_balance = balance - guess\n",
    "        interest = unpaid_balance * (annualInterestRate/12)\n",
    "        unpaid_balance+= interest\n",
    "        balance = unpaid_balance\n",
    "    if balance >= epsilon:\n",
    "        low = guess\n",
    "    if abs(balance) < epsilon:\n",
    "        break\n",
    "    if balance < 0:\n",
    "        if abs(balance) >= epsilon:\n",
    "            high = guess\n",
    "        else:\n",
    "            continue\n",
    "    guess = (high+low)/2\n",
    "print(round(guess ,2))"
   ]
  },
  {
   "cell_type": "code",
   "execution_count": 196,
   "id": "38f7f8ec",
   "metadata": {
    "ExecuteTime": {
     "end_time": "2023-02-16T19:32:32.870561Z",
     "start_time": "2023-02-16T19:32:32.863561Z"
    }
   },
   "outputs": [],
   "source": [
    "string = \"\"\"Actully because of my Data Engineering educational background, I didn't face very big problems while I solving tests or taking quizzes.But still, when I watched the videos there were crazy techniques to solve many problems. For example the Newthon-Raphson technique was the craziest and brightest thing I've seen in this journey. It made me think about Newton and how smart that guy was. WOW!\n",
    "So I think being multidimensional is a very good choice to complete the course and learn new things. I mean, to be honest I don't just look at this course, I am searching, looking at the many variety of different websites, and taking many challenges to solve. And as far as I see,  the most you solve the problems, it is the most you open your mind. Especially in coding the thing I see, in this learning path information is 20% and being creative is 80% effective in coding. There is not just one solution for one problem in this world,  there are so many varieties of ways that can help us one problem. So I believe this educations, that certificate, and my other studies all together will have a huge effect on my educational life. But somehow, and most of the time even when I am so sure about myself, I need to prove myself. That certificate will be the proof of that I am successfull being at a python learner and a Data Engineer, and of course it will be very helpful to get a nice job\"\"\""
   ]
  },
  {
   "cell_type": "code",
   "execution_count": null,
   "id": "35ad0c70",
   "metadata": {
    "ExecuteTime": {
     "end_time": "2023-02-16T18:49:54.445035Z",
     "start_time": "2023-02-16T18:49:54.438039Z"
    }
   },
   "outputs": [],
   "source": []
  },
  {
   "cell_type": "code",
   "execution_count": 197,
   "id": "05c4e2c5",
   "metadata": {
    "ExecuteTime": {
     "end_time": "2023-02-16T19:32:33.524879Z",
     "start_time": "2023-02-16T19:32:33.511882Z"
    }
   },
   "outputs": [
    {
     "name": "stdout",
     "output_type": "stream",
     "text": [
      "1385\n"
     ]
    }
   ],
   "source": [
    "count = 0\n",
    "for _ in string:\n",
    "    count += 1\n",
    "print(count)"
   ]
  },
  {
   "cell_type": "code",
   "execution_count": null,
   "id": "bf55e050",
   "metadata": {},
   "outputs": [],
   "source": []
  },
  {
   "cell_type": "code",
   "execution_count": null,
   "id": "238d6bfc",
   "metadata": {},
   "outputs": [],
   "source": []
  },
  {
   "cell_type": "code",
   "execution_count": null,
   "id": "edeea75f",
   "metadata": {},
   "outputs": [],
   "source": []
  },
  {
   "cell_type": "code",
   "execution_count": 49,
   "id": "8b2693b6",
   "metadata": {
    "ExecuteTime": {
     "end_time": "2023-02-16T16:29:13.841838Z",
     "start_time": "2023-02-16T16:29:13.824895Z"
    }
   },
   "outputs": [],
   "source": [
    "def binary_num():\n",
    "    num = int(input())\n",
    "    a = num\n",
    "    if num < 0 :\n",
    "        isNeg = True\n",
    "        num = abs(num)\n",
    "    else:\n",
    "        isNeg = False\n",
    "    result = ''\n",
    "    if num == 0:\n",
    "        result = '0'\n",
    "    while num > 0 :\n",
    "        result = str(num%2) + result\n",
    "        num = num // 2\n",
    "    if isNeg:\n",
    "        result = '-' + result\n",
    "    return f'Binary of {a} is {result}!'"
   ]
  },
  {
   "cell_type": "code",
   "execution_count": 75,
   "id": "43b3e0bb",
   "metadata": {
    "ExecuteTime": {
     "end_time": "2023-02-16T16:47:35.349087Z",
     "start_time": "2023-02-16T16:47:34.074450Z"
    }
   },
   "outputs": [
    {
     "name": "stdout",
     "output_type": "stream",
     "text": [
      "11\n"
     ]
    },
    {
     "data": {
      "text/plain": [
       "'Binary of 11 is 1011!'"
      ]
     },
     "execution_count": 75,
     "metadata": {},
     "output_type": "execute_result"
    }
   ],
   "source": [
    "binary_num()"
   ]
  },
  {
   "cell_type": "code",
   "execution_count": 69,
   "id": "3f32ee14",
   "metadata": {
    "ExecuteTime": {
     "end_time": "2023-02-16T16:43:45.582651Z",
     "start_time": "2023-02-16T16:43:45.572960Z"
    }
   },
   "outputs": [],
   "source": [
    "def decimal_binary():\n",
    "    x = float(input('Enter a decimal number between 0 and 1: '))\n",
    "    p = 0\n",
    "    while ((2**p)*x)%1 != 0:\n",
    "        print('Remainder = ' + str((2**p)*x - int((2**p)*x)))\n",
    "        p+=1\n",
    "        \n",
    "    num = int(x*(2**p))\n",
    "    \n",
    "    result = ''\n",
    "    if num == 0:\n",
    "        result = '0'\n",
    "    while num > 0:\n",
    "        result = str(num%2) + result\n",
    "        num = num//2\n",
    "        \n",
    "    for i in range(p - len(result)):\n",
    "        result = '0' + result\n",
    "    result = result[0:-p] + '.' + result[-p:]\n",
    "    print('The binary representation of the decimal ' + str(x) + ' is ' + str(result))"
   ]
  },
  {
   "cell_type": "code",
   "execution_count": 76,
   "id": "531bb50d",
   "metadata": {
    "ExecuteTime": {
     "end_time": "2023-02-16T16:47:49.851216Z",
     "start_time": "2023-02-16T16:47:47.379158Z"
    }
   },
   "outputs": [
    {
     "name": "stdout",
     "output_type": "stream",
     "text": [
      "Enter a decimal number between 0 and 1: 0.1\n",
      "Remainder = 0.1\n",
      "Remainder = 0.2\n",
      "Remainder = 0.4\n",
      "Remainder = 0.8\n",
      "Remainder = 0.6000000000000001\n",
      "Remainder = 0.20000000000000018\n",
      "Remainder = 0.40000000000000036\n",
      "Remainder = 0.8000000000000007\n",
      "Remainder = 0.6000000000000014\n",
      "Remainder = 0.20000000000000284\n",
      "Remainder = 0.4000000000000057\n",
      "Remainder = 0.8000000000000114\n",
      "Remainder = 0.6000000000000227\n",
      "Remainder = 0.20000000000004547\n",
      "Remainder = 0.40000000000009095\n",
      "Remainder = 0.8000000000001819\n",
      "Remainder = 0.6000000000003638\n",
      "Remainder = 0.2000000000007276\n",
      "Remainder = 0.4000000000014552\n",
      "Remainder = 0.8000000000029104\n",
      "Remainder = 0.6000000000058208\n",
      "Remainder = 0.20000000001164153\n",
      "Remainder = 0.40000000002328306\n",
      "Remainder = 0.8000000000465661\n",
      "Remainder = 0.6000000000931323\n",
      "Remainder = 0.20000000018626451\n",
      "Remainder = 0.40000000037252903\n",
      "Remainder = 0.8000000007450581\n",
      "Remainder = 0.6000000014901161\n",
      "Remainder = 0.20000000298023224\n",
      "Remainder = 0.4000000059604645\n",
      "Remainder = 0.800000011920929\n",
      "Remainder = 0.6000000238418579\n",
      "Remainder = 0.20000004768371582\n",
      "Remainder = 0.40000009536743164\n",
      "Remainder = 0.8000001907348633\n",
      "Remainder = 0.6000003814697266\n",
      "Remainder = 0.20000076293945312\n",
      "Remainder = 0.40000152587890625\n",
      "Remainder = 0.8000030517578125\n",
      "Remainder = 0.600006103515625\n",
      "Remainder = 0.20001220703125\n",
      "Remainder = 0.4000244140625\n",
      "Remainder = 0.800048828125\n",
      "Remainder = 0.60009765625\n",
      "Remainder = 0.2001953125\n",
      "Remainder = 0.400390625\n",
      "Remainder = 0.80078125\n",
      "Remainder = 0.6015625\n",
      "Remainder = 0.203125\n",
      "Remainder = 0.40625\n",
      "Remainder = 0.8125\n",
      "Remainder = 0.625\n",
      "Remainder = 0.25\n",
      "Remainder = 0.5\n",
      "The binary representation of the decimal 0.1 is .0001100110011001100110011001100110011001100110011001101\n"
     ]
    }
   ],
   "source": [
    "decimal_binary()"
   ]
  },
  {
   "cell_type": "code",
   "execution_count": 74,
   "id": "9bae2391",
   "metadata": {
    "ExecuteTime": {
     "end_time": "2023-02-16T16:47:02.620257Z",
     "start_time": "2023-02-16T16:47:02.614259Z"
    }
   },
   "outputs": [
    {
     "name": "stdout",
     "output_type": "stream",
     "text": [
      "0.1\n"
     ]
    }
   ],
   "source": [
    "print(0.1)"
   ]
  },
  {
   "cell_type": "markdown",
   "id": "9178dcab",
   "metadata": {},
   "source": [
    "# Newton-Raphson"
   ]
  },
  {
   "cell_type": "code",
   "execution_count": 115,
   "id": "6456d177",
   "metadata": {
    "ExecuteTime": {
     "end_time": "2023-02-16T17:04:38.069245Z",
     "start_time": "2023-02-16T17:04:38.050657Z"
    }
   },
   "outputs": [],
   "source": [
    "# This gives us another way of generating guesses, which we can check; very efficient\n",
    "def newton_raphson():\n",
    "    epsilon = 0.000000000001\n",
    "    y = float(input('Enter a number: '))\n",
    "    guess = y / 2.0\n",
    "    numGuesses = 0\n",
    "    \n",
    "    while abs(guess ** 2 - y) >= epsilon:\n",
    "        numGuesses += 1\n",
    "        guess = guess - (((guess**2) -y) / (2*guess))\n",
    "    print('numGuesses : ' + str(numGuesses))\n",
    "    print('Square root of ' + str(y) + ' is about ' + str(guess))"
   ]
  },
  {
   "cell_type": "code",
   "execution_count": 116,
   "id": "ebabd26e",
   "metadata": {
    "ExecuteTime": {
     "end_time": "2023-02-16T17:04:39.889217Z",
     "start_time": "2023-02-16T17:04:38.171863Z"
    }
   },
   "outputs": [
    {
     "name": "stdout",
     "output_type": "stream",
     "text": [
      "Enter a number: 54\n",
      "numGuesses : 6\n",
      "Square root of 54.0 is about 7.348469228349539\n"
     ]
    }
   ],
   "source": [
    "newton_raphson()"
   ]
  },
  {
   "cell_type": "code",
   "execution_count": 117,
   "id": "0f5779c9",
   "metadata": {
    "ExecuteTime": {
     "end_time": "2023-02-16T17:04:50.611471Z",
     "start_time": "2023-02-16T17:04:50.597468Z"
    }
   },
   "outputs": [
    {
     "data": {
      "text/plain": [
       "54.00000000000007"
      ]
     },
     "execution_count": 117,
     "metadata": {},
     "output_type": "execute_result"
    }
   ],
   "source": [
    "7.348469228349539 * 7.348469228349539"
   ]
  },
  {
   "cell_type": "code",
   "execution_count": 1,
   "id": "39eb467a",
   "metadata": {
    "ExecuteTime": {
     "end_time": "2023-02-16T22:25:01.921161Z",
     "start_time": "2023-02-16T22:25:01.905327Z"
    }
   },
   "outputs": [],
   "source": [
    "def is_even(i):\n",
    "    print('hi')\n",
    "    return i % 2 == 0"
   ]
  },
  {
   "cell_type": "code",
   "execution_count": 3,
   "id": "5356f8d8",
   "metadata": {
    "ExecuteTime": {
     "end_time": "2023-02-16T22:25:15.760953Z",
     "start_time": "2023-02-16T22:25:15.741964Z"
    }
   },
   "outputs": [
    {
     "name": "stdout",
     "output_type": "stream",
     "text": [
      "hi\n"
     ]
    },
    {
     "data": {
      "text/plain": [
       "True"
      ]
     },
     "execution_count": 3,
     "metadata": {},
     "output_type": "execute_result"
    }
   ],
   "source": [
    "is_even(4)"
   ]
  },
  {
   "cell_type": "code",
   "execution_count": 4,
   "id": "16fd533a",
   "metadata": {
    "ExecuteTime": {
     "end_time": "2023-02-16T22:33:27.578326Z",
     "start_time": "2023-02-16T22:33:27.564339Z"
    }
   },
   "outputs": [],
   "source": [
    "def f(x):\n",
    "    return x + 1"
   ]
  },
  {
   "cell_type": "code",
   "execution_count": 5,
   "id": "766409ed",
   "metadata": {
    "ExecuteTime": {
     "end_time": "2023-02-16T22:33:37.561518Z",
     "start_time": "2023-02-16T22:33:37.557520Z"
    }
   },
   "outputs": [],
   "source": [
    "z = f(4)"
   ]
  },
  {
   "cell_type": "code",
   "execution_count": 6,
   "id": "daef2dc3",
   "metadata": {
    "ExecuteTime": {
     "end_time": "2023-02-16T22:33:40.040624Z",
     "start_time": "2023-02-16T22:33:40.029637Z"
    }
   },
   "outputs": [
    {
     "data": {
      "text/plain": [
       "5"
      ]
     },
     "execution_count": 6,
     "metadata": {},
     "output_type": "execute_result"
    }
   ],
   "source": [
    "z"
   ]
  },
  {
   "cell_type": "code",
   "execution_count": 12,
   "id": "cd9c2243",
   "metadata": {
    "ExecuteTime": {
     "end_time": "2023-02-16T22:43:54.985875Z",
     "start_time": "2023-02-16T22:43:54.971876Z"
    }
   },
   "outputs": [],
   "source": [
    "def func_a():\n",
    "    print('inside a')\n",
    "def func_b(y):\n",
    "    print('inside b')\n",
    "    return y\n",
    "def func_c(z):\n",
    "    print('inside z')\n",
    "    return z"
   ]
  },
  {
   "cell_type": "code",
   "execution_count": 13,
   "id": "fd31a6d8",
   "metadata": {
    "ExecuteTime": {
     "end_time": "2023-02-16T22:43:55.246631Z",
     "start_time": "2023-02-16T22:43:55.243629Z"
    }
   },
   "outputs": [
    {
     "name": "stdout",
     "output_type": "stream",
     "text": [
      "inside a\n",
      "None\n"
     ]
    }
   ],
   "source": [
    "print(func_a())"
   ]
  },
  {
   "cell_type": "code",
   "execution_count": 14,
   "id": "c9838ef1",
   "metadata": {
    "ExecuteTime": {
     "end_time": "2023-02-16T22:43:55.588499Z",
     "start_time": "2023-02-16T22:43:55.571502Z"
    }
   },
   "outputs": [
    {
     "name": "stdout",
     "output_type": "stream",
     "text": [
      "inside b\n",
      "7\n"
     ]
    }
   ],
   "source": [
    "print(5+func_b(2))"
   ]
  },
  {
   "cell_type": "code",
   "execution_count": 15,
   "id": "99fa0057",
   "metadata": {
    "ExecuteTime": {
     "end_time": "2023-02-16T22:43:56.120465Z",
     "start_time": "2023-02-16T22:43:56.107463Z"
    }
   },
   "outputs": [
    {
     "name": "stdout",
     "output_type": "stream",
     "text": [
      "inside a\n",
      "inside z\n",
      "None\n"
     ]
    }
   ],
   "source": [
    "print(func_c(func_a()))"
   ]
  },
  {
   "cell_type": "code",
   "execution_count": 27,
   "id": "74a71ae9",
   "metadata": {
    "ExecuteTime": {
     "end_time": "2023-02-16T22:55:53.534703Z",
     "start_time": "2023-02-16T22:55:53.526705Z"
    }
   },
   "outputs": [],
   "source": [
    "def g(x):\n",
    "    def h():\n",
    "        x='abc'\n",
    "        print(x)\n",
    "    x += 1\n",
    "    h()\n",
    "    print('in g(x): x= ', x)\n",
    "    return x"
   ]
  },
  {
   "cell_type": "code",
   "execution_count": 28,
   "id": "42b6b503",
   "metadata": {
    "ExecuteTime": {
     "end_time": "2023-02-16T22:55:53.977613Z",
     "start_time": "2023-02-16T22:55:53.966610Z"
    }
   },
   "outputs": [
    {
     "name": "stdout",
     "output_type": "stream",
     "text": [
      "abc\n",
      "in g(x): x=  4\n"
     ]
    },
    {
     "data": {
      "text/plain": [
       "4"
      ]
     },
     "execution_count": 28,
     "metadata": {},
     "output_type": "execute_result"
    }
   ],
   "source": [
    "g(3)"
   ]
  },
  {
   "cell_type": "code",
   "execution_count": 29,
   "id": "414cc059",
   "metadata": {
    "ExecuteTime": {
     "end_time": "2023-02-16T23:08:57.174152Z",
     "start_time": "2023-02-16T23:08:57.163164Z"
    }
   },
   "outputs": [],
   "source": [
    "def a(x, y, z):\n",
    "     if x:\n",
    "        return y\n",
    "     else:\n",
    "        return z"
   ]
  },
  {
   "cell_type": "code",
   "execution_count": 30,
   "id": "84053ead",
   "metadata": {
    "ExecuteTime": {
     "end_time": "2023-02-16T23:09:09.093056Z",
     "start_time": "2023-02-16T23:09:09.083058Z"
    }
   },
   "outputs": [
    {
     "ename": "NameError",
     "evalue": "name 'b' is not defined",
     "output_type": "error",
     "traceback": [
      "\u001b[1;31m---------------------------------------------------------------------------\u001b[0m",
      "\u001b[1;31mNameError\u001b[0m                                 Traceback (most recent call last)",
      "\u001b[1;32m~\\AppData\\Local\\Temp\\ipykernel_15436\\3386694874.py\u001b[0m in \u001b[0;36m<module>\u001b[1;34m\u001b[0m\n\u001b[1;32m----> 1\u001b[1;33m \u001b[0ma\u001b[0m\u001b[1;33m(\u001b[0m\u001b[1;36m3\u001b[0m\u001b[1;33m>\u001b[0m\u001b[1;36m2\u001b[0m\u001b[1;33m,\u001b[0m \u001b[0ma\u001b[0m\u001b[1;33m,\u001b[0m \u001b[0mb\u001b[0m\u001b[1;33m)\u001b[0m\u001b[1;33m\u001b[0m\u001b[1;33m\u001b[0m\u001b[0m\n\u001b[0m",
      "\u001b[1;31mNameError\u001b[0m: name 'b' is not defined"
     ]
    }
   ],
   "source": [
    "a(3>2, a, b)"
   ]
  },
  {
   "cell_type": "code",
   "execution_count": 34,
   "id": "d9425073",
   "metadata": {
    "ExecuteTime": {
     "end_time": "2023-02-16T23:27:36.784587Z",
     "start_time": "2023-02-16T23:27:36.775594Z"
    }
   },
   "outputs": [],
   "source": [
    "import math\n",
    "\n",
    "def polysium(n, s):\n",
    "    area = (0.25 * n * (s**2)) / math.tan(math.pi / n)\n",
    "    perimeter = n * s\n",
    "\n",
    "    return area, perimeter, round(area + perimeter**2, 4)"
   ]
  },
  {
   "cell_type": "code",
   "execution_count": 37,
   "id": "3963e867",
   "metadata": {
    "ExecuteTime": {
     "end_time": "2023-02-16T23:27:54.600158Z",
     "start_time": "2023-02-16T23:27:54.587158Z"
    }
   },
   "outputs": [
    {
     "data": {
      "text/plain": [
       "(43.301270189221945, 30, 943.3013)"
      ]
     },
     "execution_count": 37,
     "metadata": {},
     "output_type": "execute_result"
    }
   ],
   "source": [
    "polysium(3,10)"
   ]
  },
  {
   "cell_type": "code",
   "execution_count": 38,
   "id": "caaf6487",
   "metadata": {
    "ExecuteTime": {
     "end_time": "2023-02-16T23:33:32.394257Z",
     "start_time": "2023-02-16T23:33:32.381258Z"
    }
   },
   "outputs": [],
   "source": [
    "#First, import everything from the math library\n",
    "from math import *\n",
    "\n",
    "#Second, define the function\n",
    "def polysum(n, s):\n",
    "    #Third, make required calculations\n",
    "    area = (0.25*n*s**2)/(tan(pi/n))\n",
    "    perimeter = n * s\n",
    "\n",
    "    #Finally return the answer rounded to 4 decimal places.\n",
    "    return round((area + perimeter**2),4)"
   ]
  },
  {
   "cell_type": "code",
   "execution_count": 39,
   "id": "4fd25db6",
   "metadata": {
    "ExecuteTime": {
     "end_time": "2023-02-16T23:33:40.202089Z",
     "start_time": "2023-02-16T23:33:40.191090Z"
    }
   },
   "outputs": [
    {
     "data": {
      "text/plain": [
       "235.8253"
      ]
     },
     "execution_count": 39,
     "metadata": {},
     "output_type": "execute_result"
    }
   ],
   "source": [
    "polysum(3,5)"
   ]
  },
  {
   "cell_type": "code",
   "execution_count": null,
   "id": "482d9877",
   "metadata": {},
   "outputs": [],
   "source": []
  }
 ],
 "metadata": {
  "kernelspec": {
   "display_name": "Python 3 (ipykernel)",
   "language": "python",
   "name": "python3"
  },
  "language_info": {
   "codemirror_mode": {
    "name": "ipython",
    "version": 3
   },
   "file_extension": ".py",
   "mimetype": "text/x-python",
   "name": "python",
   "nbconvert_exporter": "python",
   "pygments_lexer": "ipython3",
   "version": "3.9.13"
  },
  "toc": {
   "base_numbering": 1,
   "nav_menu": {},
   "number_sections": true,
   "sideBar": true,
   "skip_h1_title": false,
   "title_cell": "Table of Contents",
   "title_sidebar": "Contents",
   "toc_cell": false,
   "toc_position": {},
   "toc_section_display": true,
   "toc_window_display": false
  },
  "varInspector": {
   "cols": {
    "lenName": 16,
    "lenType": 16,
    "lenVar": 40
   },
   "kernels_config": {
    "python": {
     "delete_cmd_postfix": "",
     "delete_cmd_prefix": "del ",
     "library": "var_list.py",
     "varRefreshCmd": "print(var_dic_list())"
    },
    "r": {
     "delete_cmd_postfix": ") ",
     "delete_cmd_prefix": "rm(",
     "library": "var_list.r",
     "varRefreshCmd": "cat(var_dic_list()) "
    }
   },
   "types_to_exclude": [
    "module",
    "function",
    "builtin_function_or_method",
    "instance",
    "_Feature"
   ],
   "window_display": false
  }
 },
 "nbformat": 4,
 "nbformat_minor": 5
}

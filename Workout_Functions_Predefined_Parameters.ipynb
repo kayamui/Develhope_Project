{
 "cells": [
  {
   "cell_type": "markdown",
   "id": "6eccd13c",
   "metadata": {},
   "source": [
    "# Predefined Parameters"
   ]
  },
  {
   "cell_type": "code",
   "execution_count": 6,
   "id": "de38ad17",
   "metadata": {},
   "outputs": [],
   "source": [
    "def f(end, start = \"Hello\"): #Burada demek istediği start yerine başka bir değer verilmedikçe onu sürekli Hello olarak al\n",
    "    return print(start, end)\n"
   ]
  },
  {
   "cell_type": "code",
   "execution_count": 7,
   "id": "d6d88ed3",
   "metadata": {},
   "outputs": [
    {
     "name": "stdout",
     "output_type": "stream",
     "text": [
      "Hello Muhammed\n"
     ]
    }
   ],
   "source": [
    "f(\"Muhammed\")"
   ]
  },
  {
   "cell_type": "code",
   "execution_count": 8,
   "id": "75bda0d2",
   "metadata": {},
   "outputs": [
    {
     "data": {
      "text/plain": [
       "function"
      ]
     },
     "execution_count": 8,
     "metadata": {},
     "output_type": "execute_result"
    }
   ],
   "source": [
    "type(f)"
   ]
  },
  {
   "cell_type": "code",
   "execution_count": 13,
   "id": "5f16a1b2",
   "metadata": {},
   "outputs": [
    {
     "name": "stdout",
     "output_type": "stream",
     "text": [
      "Hey Denis\n"
     ]
    }
   ],
   "source": [
    "f(\"Denis\", start = \"Hey\")#Fonksiyon bir kere oluşturulduğu için Denis i direk end olarak aldı"
   ]
  },
  {
   "cell_type": "code",
   "execution_count": 14,
   "id": "0f602b09",
   "metadata": {},
   "outputs": [
    {
     "name": "stdout",
     "output_type": "stream",
     "text": [
      "Hello Denis\n"
     ]
    }
   ],
   "source": [
    "f(\"Denis\")"
   ]
  },
  {
   "cell_type": "code",
   "execution_count": 15,
   "id": "2e7abc4d",
   "metadata": {},
   "outputs": [],
   "source": [
    "def power(x, y = 1):\n",
    "    return x**y"
   ]
  },
  {
   "cell_type": "code",
   "execution_count": 16,
   "id": "0bdf76e1",
   "metadata": {},
   "outputs": [
    {
     "data": {
      "text/plain": [
       "3"
      ]
     },
     "execution_count": 16,
     "metadata": {},
     "output_type": "execute_result"
    }
   ],
   "source": [
    "power(3)"
   ]
  },
  {
   "cell_type": "code",
   "execution_count": 17,
   "id": "c915d820",
   "metadata": {},
   "outputs": [
    {
     "data": {
      "text/plain": [
       "16"
      ]
     },
     "execution_count": 17,
     "metadata": {},
     "output_type": "execute_result"
    }
   ],
   "source": [
    "power(4,2)"
   ]
  },
  {
   "cell_type": "markdown",
   "id": "7e543107",
   "metadata": {},
   "source": [
    "# pythonda şu kural var, predefined parametreleri HER ZAMAN sona yazmalıyız"
   ]
  },
  {
   "cell_type": "code",
   "execution_count": 19,
   "id": "e4497b56",
   "metadata": {},
   "outputs": [
    {
     "ename": "SyntaxError",
     "evalue": "non-default argument follows default argument (4252726469.py, line 1)",
     "output_type": "error",
     "traceback": [
      "\u001b[0;36m  File \u001b[0;32m\"/var/folders/cr/dmdsfj5n5r9ccpwhwhw9_1c80000gn/T/ipykernel_28923/4252726469.py\"\u001b[0;36m, line \u001b[0;32m1\u001b[0m\n\u001b[0;31m    def hello(start = \"Hello\", end):\u001b[0m\n\u001b[0m                                  ^\u001b[0m\n\u001b[0;31mSyntaxError\u001b[0m\u001b[0;31m:\u001b[0m non-default argument follows default argument\n"
     ]
    }
   ],
   "source": [
    "def hello(start = \"Hello\", end):\n",
    "    print(start, end)"
   ]
  },
  {
   "cell_type": "code",
   "execution_count": 24,
   "id": "33c341d8",
   "metadata": {},
   "outputs": [],
   "source": [
    "#predefined parametreler sen aksini belirtmedikçe hep sabit değerini alır.\n",
    "def f(x,y=1,z=2):\n",
    "    return x + y + z"
   ]
  },
  {
   "cell_type": "code",
   "execution_count": 21,
   "id": "438efd6f",
   "metadata": {},
   "outputs": [
    {
     "data": {
      "text/plain": [
       "5"
      ]
     },
     "execution_count": 21,
     "metadata": {},
     "output_type": "execute_result"
    }
   ],
   "source": [
    "f(2)"
   ]
  },
  {
   "cell_type": "code",
   "execution_count": 22,
   "id": "dc339a4a",
   "metadata": {},
   "outputs": [
    {
     "data": {
      "text/plain": [
       "9"
      ]
     },
     "execution_count": 22,
     "metadata": {},
     "output_type": "execute_result"
    }
   ],
   "source": [
    "f(2,5)"
   ]
  },
  {
   "cell_type": "code",
   "execution_count": 23,
   "id": "02557546",
   "metadata": {},
   "outputs": [
    {
     "data": {
      "text/plain": [
       "13"
      ]
     },
     "execution_count": 23,
     "metadata": {},
     "output_type": "execute_result"
    }
   ],
   "source": [
    "f(2,5,6)"
   ]
  },
  {
   "cell_type": "code",
   "execution_count": null,
   "id": "337475cf",
   "metadata": {},
   "outputs": [],
   "source": []
  }
 ],
 "metadata": {
  "kernelspec": {
   "display_name": "Python 3 (ipykernel)",
   "language": "python",
   "name": "python3"
  },
  "language_info": {
   "codemirror_mode": {
    "name": "ipython",
    "version": 3
   },
   "file_extension": ".py",
   "mimetype": "text/x-python",
   "name": "python",
   "nbconvert_exporter": "python",
   "pygments_lexer": "ipython3",
   "version": "3.9.13"
  }
 },
 "nbformat": 4,
 "nbformat_minor": 5
}

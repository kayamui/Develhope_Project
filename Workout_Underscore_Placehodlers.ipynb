{
 "cells": [
  {
   "cell_type": "markdown",
   "id": "43ecba6a",
   "metadata": {},
   "source": [
    "# Underscore_Placeholder"
   ]
  },
  {
   "cell_type": "code",
   "execution_count": 2,
   "id": "cfc9f7d0",
   "metadata": {},
   "outputs": [],
   "source": [
    "num1 = 90000000000000"
   ]
  },
  {
   "cell_type": "code",
   "execution_count": 3,
   "id": "47423334",
   "metadata": {},
   "outputs": [
    {
     "data": {
      "text/plain": [
       "90000000000000"
      ]
     },
     "execution_count": 3,
     "metadata": {},
     "output_type": "execute_result"
    }
   ],
   "source": [
    "num1"
   ]
  },
  {
   "cell_type": "code",
   "execution_count": 4,
   "id": "67caeea3",
   "metadata": {},
   "outputs": [],
   "source": [
    "num2 = 90_000_000_000_000"
   ]
  },
  {
   "cell_type": "code",
   "execution_count": 5,
   "id": "ff60603b",
   "metadata": {},
   "outputs": [
    {
     "data": {
      "text/plain": [
       "90000000000000"
      ]
     },
     "execution_count": 5,
     "metadata": {},
     "output_type": "execute_result"
    }
   ],
   "source": [
    "num2"
   ]
  },
  {
   "cell_type": "code",
   "execution_count": 7,
   "id": "9269f85e",
   "metadata": {},
   "outputs": [
    {
     "data": {
      "text/plain": [
       "int"
      ]
     },
     "execution_count": 7,
     "metadata": {},
     "output_type": "execute_result"
    }
   ],
   "source": [
    "type(num2)"
   ]
  },
  {
   "cell_type": "code",
   "execution_count": 8,
   "id": "c44248cf",
   "metadata": {},
   "outputs": [],
   "source": [
    "# float veri tipleri için de kullanabiliriz"
   ]
  },
  {
   "cell_type": "code",
   "execution_count": 9,
   "id": "d22b2649",
   "metadata": {},
   "outputs": [],
   "source": [
    "floaat = 0.12_65_73"
   ]
  },
  {
   "cell_type": "code",
   "execution_count": 11,
   "id": "00b86cfd",
   "metadata": {},
   "outputs": [
    {
     "data": {
      "text/plain": [
       "0.126573"
      ]
     },
     "execution_count": 11,
     "metadata": {},
     "output_type": "execute_result"
    }
   ],
   "source": [
    "floaat"
   ]
  },
  {
   "cell_type": "code",
   "execution_count": null,
   "id": "dc321631",
   "metadata": {},
   "outputs": [],
   "source": []
  }
 ],
 "metadata": {
  "kernelspec": {
   "display_name": "Python 3 (ipykernel)",
   "language": "python",
   "name": "python3"
  },
  "language_info": {
   "codemirror_mode": {
    "name": "ipython",
    "version": 3
   },
   "file_extension": ".py",
   "mimetype": "text/x-python",
   "name": "python",
   "nbconvert_exporter": "python",
   "pygments_lexer": "ipython3",
   "version": "3.9.13"
  }
 },
 "nbformat": 4,
 "nbformat_minor": 5
}

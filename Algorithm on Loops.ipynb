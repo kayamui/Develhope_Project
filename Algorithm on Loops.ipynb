{
 "cells": [
  {
   "cell_type": "code",
   "execution_count": 1,
   "id": "cac451b4",
   "metadata": {},
   "outputs": [],
   "source": [
    "#Iteration and Algorithm"
   ]
  },
  {
   "cell_type": "code",
   "execution_count": 16,
   "id": "262025eb",
   "metadata": {},
   "outputs": [
    {
     "name": "stdout",
     "output_type": "stream",
     "text": [
      "Madam m\n",
      "Madam ma\n",
      "Madam mad\n",
      "Madam mada\n",
      "Madam madaM\n",
      "The sentence ----- Madam ----- is a palindrome\n"
     ]
    }
   ],
   "source": [
    "#reverse a string\n",
    "string = \"Madam\"\n",
    "#palindrome: a word, phrase, or sequence that reads the same backwards as forwards\n",
    "#Madam is a palindrome\n",
    "reverse_string= ''\n",
    "for letter in reversed(string):\n",
    "    reverse_string = reverse_string + letter\n",
    "    print(string, reverse_string)\n",
    "#check if it is a palindrome\n",
    "if string.lower() == reverse_string.lower():\n",
    "    print(f'The sentence ----- {string} ----- is a palindrome')\n",
    "else:\n",
    "    print(\"This is not a palindrome\" )"
   ]
  },
  {
   "cell_type": "code",
   "execution_count": 20,
   "id": "34d95c55",
   "metadata": {},
   "outputs": [],
   "source": [
    "#### Fibonacci sequences"
   ]
  },
  {
   "cell_type": "code",
   "execution_count": 26,
   "id": "391aaced",
   "metadata": {},
   "outputs": [
    {
     "name": "stdout",
     "output_type": "stream",
     "text": [
      "2\n",
      "3\n",
      "5\n",
      "8\n",
      "13\n",
      "21\n",
      "34\n",
      "55\n",
      "89\n",
      "144\n"
     ]
    }
   ],
   "source": [
    "sequence = 1,1,2,3,5,8,13\n",
    "n1 = 1\n",
    "n2 = 1\n",
    "for i in range(10):\n",
    "    new_element = n1 + n2\n",
    "    n1 = n2\n",
    "    n2 = new_element\n",
    "    print(new_element)"
   ]
  },
  {
   "cell_type": "code",
   "execution_count": 25,
   "id": "2d7b6e19",
   "metadata": {},
   "outputs": [
    {
     "data": {
      "text/plain": [
       "1.618033988749895"
      ]
     },
     "execution_count": 25,
     "metadata": {},
     "output_type": "execute_result"
    }
   ],
   "source": [
    "734544867157818093234908902110449296423351 / 453973694165307953197296969697410619233826"
   ]
  },
  {
   "cell_type": "code",
   "execution_count": 27,
   "id": "c5dea429",
   "metadata": {},
   "outputs": [
    {
     "data": {
      "text/plain": [
       "1.6179775280898876"
      ]
     },
     "execution_count": 27,
     "metadata": {},
     "output_type": "execute_result"
    }
   ],
   "source": [
    "144 / 89"
   ]
  },
  {
   "cell_type": "code",
   "execution_count": 2,
   "id": "ecff8fb9",
   "metadata": {},
   "outputs": [
    {
     "name": "stdout",
     "output_type": "stream",
     "text": [
      "The zeros counted are 2\n"
     ]
    }
   ],
   "source": [
    "liste = [0,1,2,3,4,5,10,20,0,30]\n",
    "count = 0\n",
    "for x in liste:\n",
    "    if x == 0:\n",
    "        count+=1\n",
    "    else:\n",
    "        continue\n",
    "print(f\"The zeros counted are {count}\")"
   ]
  },
  {
   "cell_type": "code",
   "execution_count": 48,
   "id": "3626838a",
   "metadata": {},
   "outputs": [
    {
     "name": "stdout",
     "output_type": "stream",
     "text": [
      "0 0\n",
      "Minimum iteration of 0 is 0\n",
      "1 1\n",
      "2 2\n",
      "3 3\n",
      "4 4\n",
      "5 5\n",
      "6 10\n",
      "7 20\n",
      "8 0\n",
      "9 30\n"
     ]
    }
   ],
   "source": [
    "liste = [0,1,2,3,4,5,10,20,0,30]\n",
    "for c, l in enumerate(liste):\n",
    "    print(c, l)\n",
    "    if c == 0:\n",
    "        minimum = l\n",
    "        print(f\"Minimum iteration of {c} is {l}\")\n",
    "    elif l < minimum:\n",
    "        minimum = l\n",
    "        print(f\"Minimum iteration of {c} is {l}\")"
   ]
  },
  {
   "cell_type": "code",
   "execution_count": 49,
   "id": "38d7371f",
   "metadata": {},
   "outputs": [
    {
     "name": "stdout",
     "output_type": "stream",
     "text": [
      "The equality is verified for 3, 4 and 5\n",
      "The equality is verified for 4, 3 and 5\n",
      "The equality is verified for 5, 12 and 13\n",
      "The equality is verified for 6, 8 and 10\n",
      "The equality is verified for 7, 24 and 25\n",
      "The equality is verified for 8, 6 and 10\n",
      "The equality is verified for 8, 15 and 17\n",
      "The equality is verified for 9, 12 and 15\n",
      "The equality is verified for 9, 40 and 41\n",
      "The equality is verified for 10, 24 and 26\n",
      "The equality is verified for 11, 60 and 61\n",
      "The equality is verified for 12, 5 and 13\n",
      "The equality is verified for 12, 9 and 15\n",
      "The equality is verified for 12, 16 and 20\n",
      "The equality is verified for 12, 35 and 37\n",
      "The equality is verified for 13, 84 and 85\n",
      "The equality is verified for 14, 48 and 50\n",
      "The equality is verified for 15, 8 and 17\n",
      "The equality is verified for 15, 20 and 25\n",
      "The equality is verified for 15, 36 and 39\n",
      "The equality is verified for 16, 12 and 20\n",
      "The equality is verified for 16, 30 and 34\n",
      "The equality is verified for 16, 63 and 65\n",
      "The equality is verified for 18, 24 and 30\n",
      "The equality is verified for 18, 80 and 82\n",
      "The equality is verified for 20, 15 and 25\n",
      "The equality is verified for 20, 21 and 29\n",
      "The equality is verified for 20, 48 and 52\n",
      "The equality is verified for 21, 20 and 29\n",
      "The equality is verified for 21, 28 and 35\n",
      "The equality is verified for 21, 72 and 75\n",
      "The equality is verified for 24, 7 and 25\n",
      "The equality is verified for 24, 10 and 26\n",
      "The equality is verified for 24, 18 and 30\n",
      "The equality is verified for 24, 32 and 40\n",
      "The equality is verified for 24, 45 and 51\n",
      "The equality is verified for 24, 70 and 74\n",
      "The equality is verified for 25, 60 and 65\n",
      "The equality is verified for 27, 36 and 45\n",
      "The equality is verified for 28, 21 and 35\n",
      "The equality is verified for 28, 45 and 53\n",
      "The equality is verified for 28, 96 and 100\n",
      "The equality is verified for 30, 16 and 34\n",
      "The equality is verified for 30, 40 and 50\n",
      "The equality is verified for 30, 72 and 78\n",
      "The equality is verified for 32, 24 and 40\n",
      "The equality is verified for 32, 60 and 68\n",
      "The equality is verified for 33, 44 and 55\n",
      "The equality is verified for 33, 56 and 65\n",
      "The equality is verified for 35, 12 and 37\n",
      "The equality is verified for 35, 84 and 91\n",
      "The equality is verified for 36, 15 and 39\n",
      "The equality is verified for 36, 27 and 45\n",
      "The equality is verified for 36, 48 and 60\n",
      "The equality is verified for 36, 77 and 85\n",
      "The equality is verified for 39, 52 and 65\n",
      "The equality is verified for 39, 80 and 89\n",
      "The equality is verified for 40, 9 and 41\n",
      "The equality is verified for 40, 30 and 50\n",
      "The equality is verified for 40, 42 and 58\n",
      "The equality is verified for 40, 75 and 85\n",
      "The equality is verified for 42, 40 and 58\n",
      "The equality is verified for 42, 56 and 70\n",
      "The equality is verified for 44, 33 and 55\n",
      "The equality is verified for 45, 24 and 51\n",
      "The equality is verified for 45, 28 and 53\n",
      "The equality is verified for 45, 60 and 75\n",
      "The equality is verified for 48, 14 and 50\n",
      "The equality is verified for 48, 20 and 52\n",
      "The equality is verified for 48, 36 and 60\n",
      "The equality is verified for 48, 55 and 73\n",
      "The equality is verified for 48, 64 and 80\n",
      "The equality is verified for 51, 68 and 85\n",
      "The equality is verified for 52, 39 and 65\n",
      "The equality is verified for 54, 72 and 90\n",
      "The equality is verified for 55, 48 and 73\n",
      "The equality is verified for 56, 33 and 65\n",
      "The equality is verified for 56, 42 and 70\n",
      "The equality is verified for 57, 76 and 95\n",
      "The equality is verified for 60, 11 and 61\n",
      "The equality is verified for 60, 25 and 65\n",
      "The equality is verified for 60, 32 and 68\n",
      "The equality is verified for 60, 45 and 75\n",
      "The equality is verified for 60, 63 and 87\n",
      "The equality is verified for 60, 80 and 100\n",
      "The equality is verified for 63, 16 and 65\n",
      "The equality is verified for 63, 60 and 87\n",
      "The equality is verified for 64, 48 and 80\n",
      "The equality is verified for 65, 72 and 97\n",
      "The equality is verified for 68, 51 and 85\n",
      "The equality is verified for 70, 24 and 74\n",
      "The equality is verified for 72, 21 and 75\n",
      "The equality is verified for 72, 30 and 78\n",
      "The equality is verified for 72, 54 and 90\n",
      "The equality is verified for 72, 65 and 97\n",
      "The equality is verified for 75, 40 and 85\n",
      "The equality is verified for 76, 57 and 95\n",
      "The equality is verified for 77, 36 and 85\n",
      "The equality is verified for 80, 18 and 82\n",
      "The equality is verified for 80, 39 and 89\n",
      "The equality is verified for 80, 60 and 100\n",
      "The equality is verified for 84, 13 and 85\n",
      "The equality is verified for 84, 35 and 91\n",
      "The equality is verified for 96, 28 and 100\n"
     ]
    }
   ],
   "source": [
    "for a in range(1,101):\n",
    "    for b in range(1,101):\n",
    "        for c in range(1,101):\n",
    "            if a **2 + b**2 == c**2:\n",
    "                print(f\"The equality is verified for {a}, {b} and {c}\")"
   ]
  },
  {
   "cell_type": "code",
   "execution_count": null,
   "id": "8dd4d0b6",
   "metadata": {},
   "outputs": [],
   "source": []
  }
 ],
 "metadata": {
  "kernelspec": {
   "display_name": "Python 3 (ipykernel)",
   "language": "python",
   "name": "python3"
  },
  "language_info": {
   "codemirror_mode": {
    "name": "ipython",
    "version": 3
   },
   "file_extension": ".py",
   "mimetype": "text/x-python",
   "name": "python",
   "nbconvert_exporter": "python",
   "pygments_lexer": "ipython3",
   "version": "3.9.13"
  }
 },
 "nbformat": 4,
 "nbformat_minor": 5
}

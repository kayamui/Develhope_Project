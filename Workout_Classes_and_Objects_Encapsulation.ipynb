{
 "cells": [
  {
   "cell_type": "code",
   "execution_count": 115,
   "id": "dc33b6c0",
   "metadata": {},
   "outputs": [],
   "source": [
    "class Cake:\n",
    "    def __init__(self, main_ingredients, allergens, chocolate, cake_type, degree = 180, weight = 500):\n",
    "        self.main_ingredients = main_ingredients\n",
    "        self.allergens = allergens\n",
    "        if type(allergens) == str:\n",
    "            self.allergens = [allergens]\n",
    "        self.chocolate = chocolate\n",
    "        self.cake_type = cake_type\n",
    "        #make degree private\n",
    "        self.degree = __degree\n",
    "        self.weight = weight\n",
    "        \n",
    "    def get_allergens(self):\n",
    "        print(f\"This cake contains {','.join(self.allergens)}\")\n",
    "    \n",
    "    def get_baking_time():\n",
    "        if self.__degree < 200:\n",
    "            return 30\n",
    "        else:\n",
    "            return 20\n",
    "        \n",
    "    def increase_degree(self, d = 10):\n",
    "        self.__degree += d\n",
    "        return print(f\"The degree is increased to {self.__degree}\")\n",
    "    \n",
    "    def get_degree(self):\n",
    "        return self.__degree\n",
    "    \n",
    "    def slice_cake(self, n = 4):\n",
    "        # Given a cake object, this function returns n different object from it\n",
    "        args = self.__dict__\n",
    "        slices= []\n",
    "        \n",
    "        for i in range(n):\n",
    "            new_slice = Cake(**args)\n",
    "            new_slice.weight = self.weight / n\n",
    "            slices.append(new_slice)\n",
    "        return slices, new_slice.weight\n",
    "        \n",
    "    def reset_degree(self):\n",
    "        self.__degree = 180\n",
    "    "
   ]
  },
  {
   "cell_type": "code",
   "execution_count": 116,
   "id": "51b2ee29",
   "metadata": {},
   "outputs": [
    {
     "ename": "NameError",
     "evalue": "name '_Cake__degree' is not defined",
     "output_type": "error",
     "traceback": [
      "\u001b[1;31m---------------------------------------------------------------------------\u001b[0m",
      "\u001b[1;31mNameError\u001b[0m                                 Traceback (most recent call last)",
      "\u001b[1;32m~\\AppData\\Local\\Temp\\ipykernel_1160\\4093465299.py\u001b[0m in \u001b[0;36m<module>\u001b[1;34m\u001b[0m\n\u001b[1;32m----> 1\u001b[1;33m pear_fondant = Cake(['flour', 'almond', 'pear', 'chocolate'], \n\u001b[0m\u001b[0;32m      2\u001b[0m                    \u001b[1;33m[\u001b[0m\u001b[1;34m'Gluten'\u001b[0m\u001b[1;33m,\u001b[0m\u001b[1;34m'lactose'\u001b[0m\u001b[1;33m]\u001b[0m\u001b[1;33m,\u001b[0m\u001b[1;33m\u001b[0m\u001b[1;33m\u001b[0m\u001b[0m\n\u001b[0;32m      3\u001b[0m                    \u001b[1;32mTrue\u001b[0m\u001b[1;33m,\u001b[0m\u001b[1;33m\u001b[0m\u001b[1;33m\u001b[0m\u001b[0m\n\u001b[0;32m      4\u001b[0m                     \u001b[1;34m'Fondant'\u001b[0m\u001b[1;33m,\u001b[0m\u001b[1;33m\u001b[0m\u001b[1;33m\u001b[0m\u001b[0m\n\u001b[0;32m      5\u001b[0m                     220)\n",
      "\u001b[1;32m~\\AppData\\Local\\Temp\\ipykernel_1160\\2495708622.py\u001b[0m in \u001b[0;36m__init__\u001b[1;34m(self, main_ingredients, allergens, chocolate, cake_type, degree, weight)\u001b[0m\n\u001b[0;32m      8\u001b[0m         \u001b[0mself\u001b[0m\u001b[1;33m.\u001b[0m\u001b[0mcake_type\u001b[0m \u001b[1;33m=\u001b[0m \u001b[0mcake_type\u001b[0m\u001b[1;33m\u001b[0m\u001b[1;33m\u001b[0m\u001b[0m\n\u001b[0;32m      9\u001b[0m         \u001b[1;31m#make degree private\u001b[0m\u001b[1;33m\u001b[0m\u001b[1;33m\u001b[0m\u001b[0m\n\u001b[1;32m---> 10\u001b[1;33m         \u001b[0mself\u001b[0m\u001b[1;33m.\u001b[0m\u001b[0mdegree\u001b[0m \u001b[1;33m=\u001b[0m \u001b[0m__degree\u001b[0m\u001b[1;33m\u001b[0m\u001b[1;33m\u001b[0m\u001b[0m\n\u001b[0m\u001b[0;32m     11\u001b[0m         \u001b[0mself\u001b[0m\u001b[1;33m.\u001b[0m\u001b[0mweight\u001b[0m \u001b[1;33m=\u001b[0m \u001b[0mweight\u001b[0m\u001b[1;33m\u001b[0m\u001b[1;33m\u001b[0m\u001b[0m\n\u001b[0;32m     12\u001b[0m \u001b[1;33m\u001b[0m\u001b[0m\n",
      "\u001b[1;31mNameError\u001b[0m: name '_Cake__degree' is not defined"
     ]
    }
   ],
   "source": [
    "pear_fondant = Cake(['flour', 'almond', 'pear', 'chocolate'], \n",
    "                   ['Gluten','lactose'],\n",
    "                   True,\n",
    "                    'Fondant',\n",
    "                    220)"
   ]
  },
  {
   "cell_type": "code",
   "execution_count": 113,
   "id": "2f63e6d0",
   "metadata": {},
   "outputs": [],
   "source": [
    "brownie_sunday = Cake(['flour', 'almond', 'pear', 'chocolate'],\n",
    "                     ['Gluten','lactose'],\n",
    "                     True,\n",
    "                     'Brownie')"
   ]
  },
  {
   "cell_type": "code",
   "execution_count": 117,
   "id": "0817943f",
   "metadata": {},
   "outputs": [
    {
     "data": {
      "text/plain": [
       "220"
      ]
     },
     "execution_count": 117,
     "metadata": {},
     "output_type": "execute_result"
    }
   ],
   "source": [
    " pear_fondant._Cake__degree"
   ]
  },
  {
   "cell_type": "code",
   "execution_count": 103,
   "id": "4d0938a2",
   "metadata": {},
   "outputs": [
    {
     "data": {
      "text/plain": [
       "500"
      ]
     },
     "execution_count": 103,
     "metadata": {},
     "output_type": "execute_result"
    }
   ],
   "source": [
    "pear_fondant.weight"
   ]
  },
  {
   "cell_type": "code",
   "execution_count": 104,
   "id": "5c84e1b2",
   "metadata": {},
   "outputs": [
    {
     "data": {
      "text/plain": [
       "True"
      ]
     },
     "execution_count": 104,
     "metadata": {},
     "output_type": "execute_result"
    }
   ],
   "source": [
    "pear_fondant.chocolate"
   ]
  },
  {
   "cell_type": "code",
   "execution_count": 105,
   "id": "8606100d",
   "metadata": {},
   "outputs": [
    {
     "name": "stdout",
     "output_type": "stream",
     "text": [
      "The degree is increased to 230\n"
     ]
    }
   ],
   "source": [
    "pear_fondant.increase_degree()"
   ]
  },
  {
   "cell_type": "code",
   "execution_count": 106,
   "id": "7ec7e93d",
   "metadata": {},
   "outputs": [
    {
     "ename": "TypeError",
     "evalue": "__init__() got an unexpected keyword argument '_degree'",
     "output_type": "error",
     "traceback": [
      "\u001b[1;31m---------------------------------------------------------------------------\u001b[0m",
      "\u001b[1;31mTypeError\u001b[0m                                 Traceback (most recent call last)",
      "\u001b[1;32m~\\AppData\\Local\\Temp\\ipykernel_1160\\3402517988.py\u001b[0m in \u001b[0;36m<module>\u001b[1;34m\u001b[0m\n\u001b[1;32m----> 1\u001b[1;33m \u001b[0msliced\u001b[0m \u001b[1;33m=\u001b[0m\u001b[0mpear_fondant\u001b[0m\u001b[1;33m.\u001b[0m\u001b[0mslice_cake\u001b[0m\u001b[1;33m(\u001b[0m\u001b[1;36m10\u001b[0m\u001b[1;33m)\u001b[0m\u001b[1;33m\u001b[0m\u001b[1;33m\u001b[0m\u001b[0m\n\u001b[0m",
      "\u001b[1;32m~\\AppData\\Local\\Temp\\ipykernel_1160\\1872074010.py\u001b[0m in \u001b[0;36mslice_cake\u001b[1;34m(self, n)\u001b[0m\n\u001b[0;32m     33\u001b[0m \u001b[1;33m\u001b[0m\u001b[0m\n\u001b[0;32m     34\u001b[0m         \u001b[1;32mfor\u001b[0m \u001b[0mi\u001b[0m \u001b[1;32min\u001b[0m \u001b[0mrange\u001b[0m\u001b[1;33m(\u001b[0m\u001b[0mn\u001b[0m\u001b[1;33m)\u001b[0m\u001b[1;33m:\u001b[0m\u001b[1;33m\u001b[0m\u001b[1;33m\u001b[0m\u001b[0m\n\u001b[1;32m---> 35\u001b[1;33m             \u001b[0mnew_slice\u001b[0m \u001b[1;33m=\u001b[0m \u001b[0mCake\u001b[0m\u001b[1;33m(\u001b[0m\u001b[1;33m**\u001b[0m\u001b[0margs\u001b[0m\u001b[1;33m)\u001b[0m\u001b[1;33m\u001b[0m\u001b[1;33m\u001b[0m\u001b[0m\n\u001b[0m\u001b[0;32m     36\u001b[0m             \u001b[0mnew_slice\u001b[0m\u001b[1;33m.\u001b[0m\u001b[0mweight\u001b[0m \u001b[1;33m=\u001b[0m \u001b[0mself\u001b[0m\u001b[1;33m.\u001b[0m\u001b[0mweight\u001b[0m \u001b[1;33m/\u001b[0m \u001b[0mn\u001b[0m\u001b[1;33m\u001b[0m\u001b[1;33m\u001b[0m\u001b[0m\n\u001b[0;32m     37\u001b[0m             \u001b[0mslices\u001b[0m\u001b[1;33m.\u001b[0m\u001b[0mappend\u001b[0m\u001b[1;33m(\u001b[0m\u001b[0mnew_slice\u001b[0m\u001b[1;33m)\u001b[0m\u001b[1;33m\u001b[0m\u001b[1;33m\u001b[0m\u001b[0m\n",
      "\u001b[1;31mTypeError\u001b[0m: __init__() got an unexpected keyword argument '_degree'"
     ]
    }
   ],
   "source": [
    "sliced =pear_fondant.slice_cake(10)"
   ]
  },
  {
   "cell_type": "code",
   "execution_count": 107,
   "id": "57f2149e",
   "metadata": {},
   "outputs": [
    {
     "data": {
      "text/plain": [
       "([<__main__.Cake at 0x26a20a95310>,\n",
       "  <__main__.Cake at 0x26a20a95a60>,\n",
       "  <__main__.Cake at 0x26a20a95340>,\n",
       "  <__main__.Cake at 0x26a20a95cd0>,\n",
       "  <__main__.Cake at 0x26a20a95580>,\n",
       "  <__main__.Cake at 0x26a20a95fd0>,\n",
       "  <__main__.Cake at 0x26a20a95f40>,\n",
       "  <__main__.Cake at 0x26a20a95160>,\n",
       "  <__main__.Cake at 0x26a20a95640>,\n",
       "  <__main__.Cake at 0x26a20a95490>],\n",
       " 50.0)"
      ]
     },
     "execution_count": 107,
     "metadata": {},
     "output_type": "execute_result"
    }
   ],
   "source": [
    "sliced"
   ]
  },
  {
   "cell_type": "code",
   "execution_count": 108,
   "id": "d7e244c7",
   "metadata": {},
   "outputs": [],
   "source": [
    "pear_fondant.reset_degree()"
   ]
  },
  {
   "cell_type": "code",
   "execution_count": 109,
   "id": "ffaf0076",
   "metadata": {},
   "outputs": [
    {
     "ename": "AttributeError",
     "evalue": "'Cake' object has no attribute 'degree'",
     "output_type": "error",
     "traceback": [
      "\u001b[1;31m---------------------------------------------------------------------------\u001b[0m",
      "\u001b[1;31mAttributeError\u001b[0m                            Traceback (most recent call last)",
      "\u001b[1;32m~\\AppData\\Local\\Temp\\ipykernel_1160\\1528953760.py\u001b[0m in \u001b[0;36m<module>\u001b[1;34m\u001b[0m\n\u001b[1;32m----> 1\u001b[1;33m \u001b[0mpear_fondant\u001b[0m\u001b[1;33m.\u001b[0m\u001b[0mdegree\u001b[0m\u001b[1;33m\u001b[0m\u001b[1;33m\u001b[0m\u001b[0m\n\u001b[0m",
      "\u001b[1;31mAttributeError\u001b[0m: 'Cake' object has no attribute 'degree'"
     ]
    }
   ],
   "source": [
    "pear_fondant.degree"
   ]
  },
  {
   "cell_type": "code",
   "execution_count": 110,
   "id": "b9125b51",
   "metadata": {},
   "outputs": [
    {
     "data": {
      "text/plain": [
       "{'main_ingredients': ['flour', 'almond', 'pear', 'chocolate'],\n",
       " 'allergens': ['Gluten', 'lactose'],\n",
       " 'chocolate': True,\n",
       " 'cake_type': 'Fondant',\n",
       " '_degree': 180,\n",
       " 'weight': 500}"
      ]
     },
     "execution_count": 110,
     "metadata": {},
     "output_type": "execute_result"
    }
   ],
   "source": [
    "pear_fondant.__dict__"
   ]
  },
  {
   "cell_type": "code",
   "execution_count": null,
   "id": "6ff14785",
   "metadata": {},
   "outputs": [],
   "source": []
  }
 ],
 "metadata": {
  "kernelspec": {
   "display_name": "Python 3 (ipykernel)",
   "language": "python",
   "name": "python3"
  },
  "language_info": {
   "codemirror_mode": {
    "name": "ipython",
    "version": 3
   },
   "file_extension": ".py",
   "mimetype": "text/x-python",
   "name": "python",
   "nbconvert_exporter": "python",
   "pygments_lexer": "ipython3",
   "version": "3.9.13"
  }
 },
 "nbformat": 4,
 "nbformat_minor": 5
}

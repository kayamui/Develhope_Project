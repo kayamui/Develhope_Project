{
 "cells": [
  {
   "cell_type": "code",
   "execution_count": 1,
   "id": "0f8f1a9e",
   "metadata": {},
   "outputs": [],
   "source": [
    "#Prime numbers: The numbers can't be divided by any number \n",
    "#except 1 and 0"
   ]
  },
  {
   "cell_type": "code",
   "execution_count": 2,
   "id": "b4d21401",
   "metadata": {},
   "outputs": [
    {
     "data": {
      "text/plain": [
       "3"
      ]
     },
     "execution_count": 2,
     "metadata": {},
     "output_type": "execute_result"
    }
   ],
   "source": [
    "7//2"
   ]
  },
  {
   "cell_type": "code",
   "execution_count": 3,
   "id": "d6db29ce",
   "metadata": {},
   "outputs": [
    {
     "data": {
      "text/plain": [
       "3.5"
      ]
     },
     "execution_count": 3,
     "metadata": {},
     "output_type": "execute_result"
    }
   ],
   "source": [
    "7/2"
   ]
  },
  {
   "cell_type": "code",
   "execution_count": 4,
   "id": "54d72f91",
   "metadata": {},
   "outputs": [
    {
     "data": {
      "text/plain": [
       "1"
      ]
     },
     "execution_count": 4,
     "metadata": {},
     "output_type": "execute_result"
    }
   ],
   "source": [
    "7%2"
   ]
  },
  {
   "cell_type": "code",
   "execution_count": 5,
   "id": "aaa70998",
   "metadata": {},
   "outputs": [
    {
     "data": {
      "text/plain": [
       "2.3333333333333335"
      ]
     },
     "execution_count": 5,
     "metadata": {},
     "output_type": "execute_result"
    }
   ],
   "source": [
    "7/3"
   ]
  },
  {
   "cell_type": "code",
   "execution_count": 6,
   "id": "935e15db",
   "metadata": {},
   "outputs": [
    {
     "data": {
      "text/plain": [
       "2"
      ]
     },
     "execution_count": 6,
     "metadata": {},
     "output_type": "execute_result"
    }
   ],
   "source": [
    "7//3"
   ]
  },
  {
   "cell_type": "code",
   "execution_count": 7,
   "id": "530e6278",
   "metadata": {},
   "outputs": [
    {
     "data": {
      "text/plain": [
       "1"
      ]
     },
     "execution_count": 7,
     "metadata": {},
     "output_type": "execute_result"
    }
   ],
   "source": [
    "7%3"
   ]
  },
  {
   "cell_type": "code",
   "execution_count": 8,
   "id": "cc614a90",
   "metadata": {},
   "outputs": [],
   "source": [
    "#7 is a prime number"
   ]
  },
  {
   "cell_type": "code",
   "execution_count": 12,
   "id": "c8e809ca",
   "metadata": {},
   "outputs": [
    {
     "name": "stdout",
     "output_type": "stream",
     "text": [
      "The result of euclidean division of 10 with 2 is 0\n",
      "The result of euclidean division of 10 with 3 is 1\n",
      "The result of euclidean division of 10 with 4 is 2\n",
      "The result of euclidean division of 10 with 5 is 0\n",
      "The result of euclidean division of 10 with 6 is 4\n",
      "The result of euclidean division of 10 with 7 is 3\n",
      "The result of euclidean division of 10 with 8 is 2\n",
      "The result of euclidean division of 10 with 9 is 1\n"
     ]
    }
   ],
   "source": [
    "my_number = 10\n",
    "i = 2\n",
    "while i < my_number:\n",
    "    print(f\"The result of euclidean division of {my_number} with {i} is {my_number % i}\")\n",
    "    i+=1"
   ]
  },
  {
   "cell_type": "code",
   "execution_count": 29,
   "id": "2b829da2",
   "metadata": {},
   "outputs": [
    {
     "name": "stdout",
     "output_type": "stream",
     "text": [
      "97 is prime\n"
     ]
    }
   ],
   "source": [
    "given_number=97\n",
    "x = 2\n",
    "while x < given_number:\n",
    "    if given_number % x == 0:\n",
    "        print(f\"The {given_number} is not prime number, it divided by {x}\")\n",
    "        break\n",
    "    x = x+1\n",
    "else:\n",
    "    print(f\"{given_number} is prime\")"
   ]
  },
  {
   "cell_type": "code",
   "execution_count": 36,
   "id": "f5956dd1",
   "metadata": {},
   "outputs": [],
   "source": [
    "#For loop lessons is starting here"
   ]
  },
  {
   "cell_type": "code",
   "execution_count": 37,
   "id": "5e2b0df1",
   "metadata": {},
   "outputs": [
    {
     "name": "stdout",
     "output_type": "stream",
     "text": [
      "i is equal to 0\n",
      "i is equal to 1\n",
      "i is equal to 2\n",
      "i is equal to 3\n",
      "i is equal to 4\n",
      "i is equal to 5\n",
      "i is equal to 6\n",
      "i is equal to 7\n",
      "i is equal to 8\n",
      "i is equal to 9\n"
     ]
    }
   ],
   "source": [
    "values = [0,1,2,3,4,5,6,7,8,9]\n",
    "for i in values:\n",
    "    print(f\"i is equal to {i}\")"
   ]
  },
  {
   "cell_type": "code",
   "execution_count": 40,
   "id": "e07c82c2",
   "metadata": {},
   "outputs": [
    {
     "name": "stdout",
     "output_type": "stream",
     "text": [
      "when i is equal to 1 and ix2 equal to 2\n",
      "when i is equal to 2 and ix2 equal to 4\n",
      "when i is equal to 3 and ix2 equal to 6\n",
      "when i is equal to 4 and ix2 equal to 8\n"
     ]
    }
   ],
   "source": [
    "i=1\n",
    "print(f\"when i is equal to {i} and ix2 equal to {i * 2}\")\n",
    "i=2\n",
    "print(f\"when i is equal to {i} and ix2 equal to {i * 2}\")\n",
    "i=3\n",
    "print(f\"when i is equal to {i} and ix2 equal to {i * 2}\")\n",
    "i=4\n",
    "print(f\"when i is equal to {i} and ix2 equal to {i * 2}\")"
   ]
  },
  {
   "cell_type": "code",
   "execution_count": 50,
   "id": "39dd259c",
   "metadata": {},
   "outputs": [
    {
     "data": {
      "text/plain": [
       "'\\nWhile you in a loop and if you put a break code in the loop and when if \\nthis Break code work ,that will end the loop and will take you outside of loop.\\nfor example: \\nFor i in object:\\n    Do sth \\n        if condition1:\\n            Break    #if this code work, loop will end and you will directly go to the Else condition\\n        if condition2:\\n            Continue #if this code work, loop will rollover again\\nElse:\\n    Do sth\\n'"
      ]
     },
     "execution_count": 50,
     "metadata": {},
     "output_type": "execute_result"
    }
   ],
   "source": [
    "#Break and continue?\n",
    "\"\"\"\n",
    "While you in a loop and if you put a break code in the loop and when if \n",
    "this Break code work ,that will end the loop and will take you outside of loop.\n",
    "for example: \n",
    "For i in object:\n",
    "    Do sth \n",
    "        if condition1:\n",
    "            Break    #if this code work, loop will end and you will directly go to the Else condition\n",
    "        if condition2:\n",
    "            Continue #if this code work, loop will rollover again\n",
    "Else:\n",
    "    Do sth\n",
    "\"\"\""
   ]
  },
  {
   "cell_type": "code",
   "execution_count": 51,
   "id": "8efde929",
   "metadata": {},
   "outputs": [
    {
     "name": "stdout",
     "output_type": "stream",
     "text": [
      "i is equal to 0\n",
      "i is equal to 1\n",
      "i is equal to 2\n",
      "i is equal to 3\n",
      "i is equal to 4\n",
      "heheh the number is 5\n",
      "i is equal to 6\n",
      "i is equal to 7\n",
      "i is equal to 8\n",
      "i is equal to 9\n"
     ]
    }
   ],
   "source": [
    "#continue \n",
    "i = 0\n",
    "values = [0,1,2,3,4,5,6,7,8,9]\n",
    "for i in values:\n",
    "    if i == 5:\n",
    "        print(\"heheh the number is 5\" )\n",
    "        continue\n",
    "    print(f\"i is equal to {i}\")"
   ]
  },
  {
   "cell_type": "code",
   "execution_count": 53,
   "id": "cdb470b5",
   "metadata": {},
   "outputs": [
    {
     "name": "stdout",
     "output_type": "stream",
     "text": [
      "hello!\n",
      "good morning!\n",
      "weather is clear!\n"
     ]
    }
   ],
   "source": [
    "str_values=[\"hello\", \"good morning\", \"weather is clear\"]\n",
    "for string in str_values:\n",
    "    print(string + \"!\")"
   ]
  },
  {
   "cell_type": "code",
   "execution_count": 57,
   "id": "bc8cb77c",
   "metadata": {},
   "outputs": [
    {
     "name": "stdout",
     "output_type": "stream",
     "text": [
      "hello\n",
      "good morning\n",
      "weather is clear\n"
     ]
    }
   ],
   "source": [
    "#We can also write like this\n",
    "for string in [\"hello\", \"good morning\", \"weather is clear\"]:\n",
    "    print(string)"
   ]
  },
  {
   "cell_type": "code",
   "execution_count": 58,
   "id": "3fa2d845",
   "metadata": {},
   "outputs": [
    {
     "name": "stdout",
     "output_type": "stream",
     "text": [
      "['hello', 'good morning', 'weather is clear']\n"
     ]
    }
   ],
   "source": [
    "print(str_values\n",
    "     )"
   ]
  },
  {
   "cell_type": "code",
   "execution_count": 61,
   "id": "79aab349",
   "metadata": {},
   "outputs": [
    {
     "name": "stdout",
     "output_type": "stream",
     "text": [
      "['My', 'name', 'is', 'muhammed', 'and', 'im', 'learning', 'python']\n"
     ]
    }
   ],
   "source": [
    "\"\"\"\n",
    "test_string=(\"My name is muhammed and im learning python\")\n",
    "print(test_string.split())\n",
    "\n",
    "\"\"\""
   ]
  },
  {
   "cell_type": "code",
   "execution_count": 66,
   "id": "05f2376e",
   "metadata": {},
   "outputs": [
    {
     "name": "stdout",
     "output_type": "stream",
     "text": [
      "HH\n",
      "ii\n",
      "  \n",
      "gg\n",
      "uu\n",
      "yy\n",
      "ss\n",
      ",,\n",
      "  \n",
      "tt\n",
      "hh\n",
      "ee\n",
      "  \n",
      "ww\n",
      "ee\n",
      "aa\n",
      "tt\n",
      "hh\n",
      "ee\n",
      "rr\n",
      "  \n",
      "ii\n",
      "ss\n",
      "  \n",
      "gg\n",
      "rr\n",
      "ee\n",
      "aa\n",
      "tt\n",
      "  \n",
      "tt\n",
      "oo\n",
      "dd\n",
      "aa\n",
      "yy\n",
      "!!\n"
     ]
    }
   ],
   "source": [
    "for letter in (\"Hi guys, the weather is great today!\"):\n",
    "    print(letter + letter)"
   ]
  },
  {
   "cell_type": "code",
   "execution_count": 70,
   "id": "15912456",
   "metadata": {},
   "outputs": [
    {
     "name": "stdout",
     "output_type": "stream",
     "text": [
      "Hi guys, the weather is great today!Hi guys, the weather is great today!\n"
     ]
    }
   ],
   "source": [
    "for letter in [\"Hi guys, the weather is great today!\"]:\n",
    "    print(letter + letter)"
   ]
  },
  {
   "cell_type": "code",
   "execution_count": 71,
   "id": "2823a964",
   "metadata": {},
   "outputs": [
    {
     "name": "stdout",
     "output_type": "stream",
     "text": [
      " H\n",
      "Hi\n",
      "i \n",
      " g\n",
      "gu\n",
      "uy\n",
      "ys\n",
      "s,\n",
      ", \n",
      " t\n",
      "th\n",
      "he\n",
      "e \n",
      " w\n",
      "we\n",
      "ea\n",
      "at\n",
      "th\n",
      "he\n",
      "er\n",
      "r \n",
      " i\n",
      "is\n",
      "s \n",
      " g\n",
      "gr\n",
      "re\n",
      "ea\n",
      "at\n",
      "t \n",
      " t\n",
      "to\n",
      "od\n",
      "da\n",
      "ay\n",
      "y!\n"
     ]
    }
   ],
   "source": [
    "previous_letter=\" \"\n",
    "for letter in \"Hi guys, the weather is great today!\":\n",
    "    print(previous_letter + letter)\n",
    "    previous_letter = letter"
   ]
  },
  {
   "cell_type": "code",
   "execution_count": null,
   "id": "4f9aef49",
   "metadata": {},
   "outputs": [],
   "source": []
  }
 ],
 "metadata": {
  "kernelspec": {
   "display_name": "Python 3 (ipykernel)",
   "language": "python",
   "name": "python3"
  },
  "language_info": {
   "codemirror_mode": {
    "name": "ipython",
    "version": 3
   },
   "file_extension": ".py",
   "mimetype": "text/x-python",
   "name": "python",
   "nbconvert_exporter": "python",
   "pygments_lexer": "ipython3",
   "version": "3.9.13"
  }
 },
 "nbformat": 4,
 "nbformat_minor": 5
}

{
 "cells": [
  {
   "cell_type": "code",
   "execution_count": 6,
   "id": "7adfbb4e",
   "metadata": {},
   "outputs": [],
   "source": [
    "def akilli_bolme(func):\n",
    "    def inner(a,b):\n",
    "        print(\"Bölme işlemi: \", a, \"and\" , b)\n",
    "        if b == 0:\n",
    "            print(\"Hoooppp, böyle bir bölme olmaz.\")\n",
    "            return\n",
    "        return func(a,b)\n",
    "    return inner\n"
   ]
  },
  {
   "cell_type": "code",
   "execution_count": 7,
   "id": "e25f7ce6",
   "metadata": {},
   "outputs": [
    {
     "name": "stdout",
     "output_type": "stream",
     "text": [
      "Bölme işlemi:  2 and 5\n",
      "0.4\n",
      "Bölme işlemi:  0 and 5\n",
      "0.0\n",
      "Bölme işlemi:  2 and 0\n",
      "Hoooppp, böyle bir bölme olmaz.\n",
      "None\n"
     ]
    }
   ],
   "source": [
    "@akilli_bolme\n",
    "def bol(a,b):\n",
    "    return a/b\n",
    "\n",
    "print(bol(2,5))\n",
    "print(bol(0,5))\n",
    "print(bol(2,0))"
   ]
  },
  {
   "cell_type": "code",
   "execution_count": null,
   "id": "19e85072",
   "metadata": {},
   "outputs": [],
   "source": []
  }
 ],
 "metadata": {
  "kernelspec": {
   "display_name": "Python 3 (ipykernel)",
   "language": "python",
   "name": "python3"
  },
  "language_info": {
   "codemirror_mode": {
    "name": "ipython",
    "version": 3
   },
   "file_extension": ".py",
   "mimetype": "text/x-python",
   "name": "python",
   "nbconvert_exporter": "python",
   "pygments_lexer": "ipython3",
   "version": "3.9.13"
  }
 },
 "nbformat": 4,
 "nbformat_minor": 5
}

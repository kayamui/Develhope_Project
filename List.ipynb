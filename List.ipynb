{
 "cells": [
  {
   "cell_type": "code",
   "execution_count": 1,
   "id": "684af62c",
   "metadata": {},
   "outputs": [],
   "source": [
    "student_1 = 78\n",
    "student_2 = 80\n",
    "student_3 = 43\n",
    "student_4 = 65\n",
    "student_5 = 90"
   ]
  },
  {
   "cell_type": "code",
   "execution_count": 2,
   "id": "c569c066",
   "metadata": {},
   "outputs": [],
   "source": [
    "grades = [78, 80, 43, 65, 90]"
   ]
  },
  {
   "cell_type": "code",
   "execution_count": 3,
   "id": "49e348fc",
   "metadata": {},
   "outputs": [
    {
     "data": {
      "text/plain": [
       "78"
      ]
     },
     "execution_count": 3,
     "metadata": {},
     "output_type": "execute_result"
    }
   ],
   "source": [
    "grades[0]"
   ]
  },
  {
   "cell_type": "code",
   "execution_count": 4,
   "id": "45dc48a8",
   "metadata": {},
   "outputs": [
    {
     "data": {
      "text/plain": [
       "90"
      ]
     },
     "execution_count": 4,
     "metadata": {},
     "output_type": "execute_result"
    }
   ],
   "source": [
    "grades[4]"
   ]
  },
  {
   "cell_type": "code",
   "execution_count": 5,
   "id": "02e423f7",
   "metadata": {},
   "outputs": [],
   "source": [
    "#You can also make it like this: \n",
    "grades = [student_1, student_2, student_3, student_4, student_5]"
   ]
  },
  {
   "cell_type": "code",
   "execution_count": 6,
   "id": "941a44cc",
   "metadata": {},
   "outputs": [
    {
     "data": {
      "text/plain": [
       "78"
      ]
     },
     "execution_count": 6,
     "metadata": {},
     "output_type": "execute_result"
    }
   ],
   "source": [
    "grades[0]"
   ]
  },
  {
   "cell_type": "code",
   "execution_count": 7,
   "id": "dd4f73e8",
   "metadata": {},
   "outputs": [
    {
     "data": {
      "text/plain": [
       "65"
      ]
     },
     "execution_count": 7,
     "metadata": {},
     "output_type": "execute_result"
    }
   ],
   "source": [
    "grades[3]"
   ]
  },
  {
   "cell_type": "code",
   "execution_count": 8,
   "id": "ed6f1f98",
   "metadata": {},
   "outputs": [],
   "source": [
    "#a List can contain any type of values:\n"
   ]
  },
  {
   "cell_type": "code",
   "execution_count": 9,
   "id": "e2c95296",
   "metadata": {
    "collapsed": true
   },
   "outputs": [
    {
     "data": {
      "text/plain": [
       "['a', 'b']"
      ]
     },
     "execution_count": 9,
     "metadata": {},
     "output_type": "execute_result"
    }
   ],
   "source": [
    "[\"a\",\"b\"]"
   ]
  },
  {
   "cell_type": "code",
   "execution_count": 10,
   "id": "daca15b3",
   "metadata": {},
   "outputs": [
    {
     "data": {
      "text/plain": [
       "[True, False]"
      ]
     },
     "execution_count": 10,
     "metadata": {},
     "output_type": "execute_result"
    }
   ],
   "source": [
    "[True, False]"
   ]
  },
  {
   "cell_type": "code",
   "execution_count": 11,
   "id": "6f33bf2f",
   "metadata": {},
   "outputs": [
    {
     "data": {
      "text/plain": [
       "[[1, 2], [3, 4, 5]]"
      ]
     },
     "execution_count": 11,
     "metadata": {},
     "output_type": "execute_result"
    }
   ],
   "source": [
    "[[1,2], [3,4,5]]"
   ]
  },
  {
   "cell_type": "code",
   "execution_count": 12,
   "id": "04e0a819",
   "metadata": {},
   "outputs": [],
   "source": [
    "#a List can include different type of values:"
   ]
  },
  {
   "cell_type": "code",
   "execution_count": 15,
   "id": "e03a8e2c",
   "metadata": {},
   "outputs": [
    {
     "name": "stdout",
     "output_type": "stream",
     "text": [
      "[1, 2, 'a', 'b', True, 4.5, [1, 2, 3]]\n"
     ]
    }
   ],
   "source": [
    "l = [1, 2, \"a\", \"b\", True, 4.5, [1,2,3]]\n",
    "print(l)"
   ]
  },
  {
   "cell_type": "markdown",
   "id": "c52e7ea3",
   "metadata": {},
   "source": [
    "# INDEXING AND SLICING"
   ]
  },
  {
   "cell_type": "code",
   "execution_count": 17,
   "id": "a8b6d38b",
   "metadata": {},
   "outputs": [
    {
     "data": {
      "text/plain": [
       "[78, 80, 43, 65, 90]"
      ]
     },
     "execution_count": 17,
     "metadata": {},
     "output_type": "execute_result"
    }
   ],
   "source": [
    "grades"
   ]
  },
  {
   "cell_type": "code",
   "execution_count": 18,
   "id": "47f4a6b5",
   "metadata": {},
   "outputs": [
    {
     "data": {
      "text/plain": [
       "78"
      ]
     },
     "execution_count": 18,
     "metadata": {},
     "output_type": "execute_result"
    }
   ],
   "source": [
    "grades[0]"
   ]
  },
  {
   "cell_type": "code",
   "execution_count": 19,
   "id": "e8c489b6",
   "metadata": {},
   "outputs": [
    {
     "data": {
      "text/plain": [
       "90"
      ]
     },
     "execution_count": 19,
     "metadata": {},
     "output_type": "execute_result"
    }
   ],
   "source": [
    "grades[-1]"
   ]
  },
  {
   "cell_type": "code",
   "execution_count": 20,
   "id": "7783693c",
   "metadata": {},
   "outputs": [
    {
     "ename": "IndexError",
     "evalue": "list index out of range",
     "output_type": "error",
     "traceback": [
      "\u001b[1;31m---------------------------------------------------------------------------\u001b[0m",
      "\u001b[1;31mIndexError\u001b[0m                                Traceback (most recent call last)",
      "\u001b[1;32m~\\AppData\\Local\\Temp\\ipykernel_6160\\1940922568.py\u001b[0m in \u001b[0;36m<module>\u001b[1;34m\u001b[0m\n\u001b[1;32m----> 1\u001b[1;33m \u001b[0mgrades\u001b[0m\u001b[1;33m[\u001b[0m\u001b[1;36m10\u001b[0m\u001b[1;33m]\u001b[0m\u001b[1;33m\u001b[0m\u001b[1;33m\u001b[0m\u001b[0m\n\u001b[0m",
      "\u001b[1;31mIndexError\u001b[0m: list index out of range"
     ]
    }
   ],
   "source": [
    "grades[10]"
   ]
  },
  {
   "cell_type": "code",
   "execution_count": 21,
   "id": "e7b32165",
   "metadata": {},
   "outputs": [
    {
     "data": {
      "text/plain": [
       "[80, 43, 65, 90]"
      ]
     },
     "execution_count": 21,
     "metadata": {},
     "output_type": "execute_result"
    }
   ],
   "source": [
    "grades[1:]"
   ]
  },
  {
   "cell_type": "code",
   "execution_count": 22,
   "id": "903088cc",
   "metadata": {},
   "outputs": [
    {
     "data": {
      "text/plain": [
       "[80, 43]"
      ]
     },
     "execution_count": 22,
     "metadata": {},
     "output_type": "execute_result"
    }
   ],
   "source": [
    "grades[1:3]"
   ]
  },
  {
   "cell_type": "code",
   "execution_count": 23,
   "id": "84383625",
   "metadata": {},
   "outputs": [
    {
     "data": {
      "text/plain": [
       "[78, 80, 43, 65, 90]"
      ]
     },
     "execution_count": 23,
     "metadata": {},
     "output_type": "execute_result"
    }
   ],
   "source": [
    "grades[:200]"
   ]
  },
  {
   "cell_type": "code",
   "execution_count": 25,
   "id": "ac7455e3",
   "metadata": {},
   "outputs": [
    {
     "data": {
      "text/plain": [
       "[78, 80, 43, 65, 90]"
      ]
     },
     "execution_count": 25,
     "metadata": {},
     "output_type": "execute_result"
    }
   ],
   "source": [
    "grades[:3000]"
   ]
  },
  {
   "cell_type": "code",
   "execution_count": 26,
   "id": "da163860",
   "metadata": {},
   "outputs": [],
   "source": [
    "#lists are mutable, that means you can update a list. But strings are not, you cannot update a string value"
   ]
  },
  {
   "cell_type": "code",
   "execution_count": 27,
   "id": "c455e2eb",
   "metadata": {},
   "outputs": [],
   "source": [
    "s = \"hey\""
   ]
  },
  {
   "cell_type": "code",
   "execution_count": 28,
   "id": "e298826d",
   "metadata": {},
   "outputs": [
    {
     "data": {
      "text/plain": [
       "'h'"
      ]
     },
     "execution_count": 28,
     "metadata": {},
     "output_type": "execute_result"
    }
   ],
   "source": [
    "s[0]"
   ]
  },
  {
   "cell_type": "code",
   "execution_count": 29,
   "id": "bd2ad451",
   "metadata": {},
   "outputs": [
    {
     "ename": "TypeError",
     "evalue": "'str' object does not support item assignment",
     "output_type": "error",
     "traceback": [
      "\u001b[1;31m---------------------------------------------------------------------------\u001b[0m",
      "\u001b[1;31mTypeError\u001b[0m                                 Traceback (most recent call last)",
      "\u001b[1;32m~\\AppData\\Local\\Temp\\ipykernel_6160\\311494905.py\u001b[0m in \u001b[0;36m<module>\u001b[1;34m\u001b[0m\n\u001b[1;32m----> 1\u001b[1;33m \u001b[0ms\u001b[0m\u001b[1;33m[\u001b[0m\u001b[1;36m0\u001b[0m\u001b[1;33m]\u001b[0m \u001b[1;33m=\u001b[0m \u001b[1;34m\"f\"\u001b[0m\u001b[1;33m\u001b[0m\u001b[1;33m\u001b[0m\u001b[0m\n\u001b[0m",
      "\u001b[1;31mTypeError\u001b[0m: 'str' object does not support item assignment"
     ]
    }
   ],
   "source": [
    "s[0] = \"f\""
   ]
  },
  {
   "cell_type": "code",
   "execution_count": 30,
   "id": "d5e93f7b",
   "metadata": {},
   "outputs": [
    {
     "data": {
      "text/plain": [
       "[78, 80, 43, 65, 90]"
      ]
     },
     "execution_count": 30,
     "metadata": {},
     "output_type": "execute_result"
    }
   ],
   "source": [
    "#For example: We accidentally inserted the second grade 5 point less, so we update the second grade:\n",
    "grades"
   ]
  },
  {
   "cell_type": "code",
   "execution_count": 34,
   "id": "48137300",
   "metadata": {},
   "outputs": [],
   "source": [
    "grades[1] += 5 #grades[1] = grades[1] + 5"
   ]
  },
  {
   "cell_type": "code",
   "execution_count": 35,
   "id": "d4201c3f",
   "metadata": {},
   "outputs": [
    {
     "data": {
      "text/plain": [
       "[78, 85, 43, 65, 90]"
      ]
     },
     "execution_count": 35,
     "metadata": {},
     "output_type": "execute_result"
    }
   ],
   "source": [
    "grades"
   ]
  },
  {
   "cell_type": "code",
   "execution_count": 36,
   "id": "68725951",
   "metadata": {},
   "outputs": [
    {
     "data": {
      "text/plain": [
       "[1, 2, 'a', 'b', True, 4.5, [1, 2, 3]]"
      ]
     },
     "execution_count": 36,
     "metadata": {},
     "output_type": "execute_result"
    }
   ],
   "source": [
    "#You can change multiple items:\n",
    "\n",
    "l"
   ]
  },
  {
   "cell_type": "code",
   "execution_count": 37,
   "id": "17fe1b5a",
   "metadata": {},
   "outputs": [],
   "source": [
    "l[0:3] = 30, 40, 50"
   ]
  },
  {
   "cell_type": "code",
   "execution_count": 38,
   "id": "6841b59a",
   "metadata": {},
   "outputs": [
    {
     "data": {
      "text/plain": [
       "[30, 40, 50, 'b', True, 4.5, [1, 2, 3]]"
      ]
     },
     "execution_count": 38,
     "metadata": {},
     "output_type": "execute_result"
    }
   ],
   "source": [
    "l"
   ]
  },
  {
   "cell_type": "code",
   "execution_count": 46,
   "id": "40be4287",
   "metadata": {},
   "outputs": [
    {
     "data": {
      "text/plain": [
       "[1, 2, 3, 4]"
      ]
     },
     "execution_count": 46,
     "metadata": {},
     "output_type": "execute_result"
    }
   ],
   "source": [
    "n = [1, 2, 3, 4]\n",
    "n"
   ]
  },
  {
   "cell_type": "code",
   "execution_count": 47,
   "id": "9c026ead",
   "metadata": {},
   "outputs": [
    {
     "ename": "TypeError",
     "evalue": "list indices must be integers or slices, not tuple",
     "output_type": "error",
     "traceback": [
      "\u001b[1;31m---------------------------------------------------------------------------\u001b[0m",
      "\u001b[1;31mTypeError\u001b[0m                                 Traceback (most recent call last)",
      "\u001b[1;32m~\\AppData\\Local\\Temp\\ipykernel_6160\\1435801291.py\u001b[0m in \u001b[0;36m<module>\u001b[1;34m\u001b[0m\n\u001b[0;32m      1\u001b[0m \u001b[1;31m#if you want to change all values with one variable you should'nt do like that:\u001b[0m\u001b[1;33m\u001b[0m\u001b[1;33m\u001b[0m\u001b[0m\n\u001b[1;32m----> 2\u001b[1;33m \u001b[0mn\u001b[0m\u001b[1;33m[\u001b[0m\u001b[1;36m0\u001b[0m\u001b[1;33m,\u001b[0m\u001b[1;36m3\u001b[0m\u001b[1;33m]\u001b[0m \u001b[1;33m=\u001b[0m \u001b[1;36m30\u001b[0m\u001b[1;33m\u001b[0m\u001b[1;33m\u001b[0m\u001b[0m\n\u001b[0m",
      "\u001b[1;31mTypeError\u001b[0m: list indices must be integers or slices, not tuple"
     ]
    }
   ],
   "source": [
    "#if you want to change all values with one variable you should'nt do like that:\n",
    "n[0,3] = 30"
   ]
  },
  {
   "cell_type": "markdown",
   "id": "0bce65f3",
   "metadata": {},
   "source": [
    "## len()"
   ]
  },
  {
   "cell_type": "code",
   "execution_count": 51,
   "id": "6da1a8da",
   "metadata": {},
   "outputs": [
    {
     "data": {
      "text/plain": [
       "'hey'"
      ]
     },
     "execution_count": 51,
     "metadata": {},
     "output_type": "execute_result"
    }
   ],
   "source": [
    "s"
   ]
  },
  {
   "cell_type": "code",
   "execution_count": 52,
   "id": "c01292a5",
   "metadata": {},
   "outputs": [
    {
     "data": {
      "text/plain": [
       "3"
      ]
     },
     "execution_count": 52,
     "metadata": {},
     "output_type": "execute_result"
    }
   ],
   "source": [
    "len(s)"
   ]
  },
  {
   "cell_type": "code",
   "execution_count": 56,
   "id": "d7a9efc3",
   "metadata": {},
   "outputs": [
    {
     "data": {
      "text/plain": [
       "[1, 2, 'a', 'b', True, 4.5, [1, 2, 3]]"
      ]
     },
     "execution_count": 56,
     "metadata": {},
     "output_type": "execute_result"
    }
   ],
   "source": [
    "l "
   ]
  },
  {
   "cell_type": "code",
   "execution_count": 57,
   "id": "17c25003",
   "metadata": {},
   "outputs": [
    {
     "data": {
      "text/plain": [
       "7"
      ]
     },
     "execution_count": 57,
     "metadata": {},
     "output_type": "execute_result"
    }
   ],
   "source": [
    "len(l)"
   ]
  },
  {
   "cell_type": "markdown",
   "id": "bf1fb49b",
   "metadata": {},
   "source": [
    "# .append()"
   ]
  },
  {
   "cell_type": "code",
   "execution_count": 68,
   "id": "dcb08eeb",
   "metadata": {},
   "outputs": [
    {
     "data": {
      "text/plain": [
       "[0, 1, 2, 44, 3, 4, 5]"
      ]
     },
     "execution_count": 68,
     "metadata": {},
     "output_type": "execute_result"
    }
   ],
   "source": [
    "#With append you add value at the end of the list:\n",
    "l"
   ]
  },
  {
   "cell_type": "code",
   "execution_count": 59,
   "id": "7c24b50d",
   "metadata": {},
   "outputs": [],
   "source": [
    "l.append(200)"
   ]
  },
  {
   "cell_type": "code",
   "execution_count": 60,
   "id": "350c6ea9",
   "metadata": {},
   "outputs": [
    {
     "data": {
      "text/plain": [
       "[1, 2, 'a', 'b', True, 4.5, [1, 2, 3], 200]"
      ]
     },
     "execution_count": 60,
     "metadata": {},
     "output_type": "execute_result"
    }
   ],
   "source": [
    "l"
   ]
  },
  {
   "cell_type": "markdown",
   "id": "cc7a5240",
   "metadata": {},
   "source": [
    "# .extend()"
   ]
  },
  {
   "cell_type": "code",
   "execution_count": 61,
   "id": "f335620a",
   "metadata": {},
   "outputs": [
    {
     "data": {
      "text/plain": [
       "[1, 2, 'a', 'b', True, 4.5, [1, 2, 3], 200]"
      ]
     },
     "execution_count": 61,
     "metadata": {},
     "output_type": "execute_result"
    }
   ],
   "source": [
    "#With extend you can add multiple values at the end of the list:\n",
    "l"
   ]
  },
  {
   "cell_type": "code",
   "execution_count": 63,
   "id": "4523ab2c",
   "metadata": {},
   "outputs": [],
   "source": [
    "l.extend([300, 400, 500]) #Don't forget []"
   ]
  },
  {
   "cell_type": "code",
   "execution_count": 64,
   "id": "16e71486",
   "metadata": {},
   "outputs": [
    {
     "data": {
      "text/plain": [
       "[1, 2, 'a', 'b', True, 4.5, [1, 2, 3], 200, 300, 400, 500]"
      ]
     },
     "execution_count": 64,
     "metadata": {},
     "output_type": "execute_result"
    }
   ],
   "source": [
    "l"
   ]
  },
  {
   "cell_type": "markdown",
   "id": "24656006",
   "metadata": {},
   "source": [
    "# .insert()\n",
    "## -Adds value in a specific index"
   ]
  },
  {
   "cell_type": "code",
   "execution_count": 69,
   "id": "6471cfc2",
   "metadata": {},
   "outputs": [],
   "source": [
    "l = [0,1,2,3,4,5]"
   ]
  },
  {
   "cell_type": "code",
   "execution_count": 70,
   "id": "74a5bf21",
   "metadata": {},
   "outputs": [],
   "source": [
    "l.insert(3, 44) #adding the fourth column 44"
   ]
  },
  {
   "cell_type": "code",
   "execution_count": 71,
   "id": "dcdbab2e",
   "metadata": {},
   "outputs": [
    {
     "data": {
      "text/plain": [
       "[0, 1, 2, 44, 3, 4, 5]"
      ]
     },
     "execution_count": 71,
     "metadata": {},
     "output_type": "execute_result"
    }
   ],
   "source": [
    "l"
   ]
  },
  {
   "cell_type": "markdown",
   "id": "fbe6d1f3",
   "metadata": {},
   "source": [
    "# .remove()\n",
    "## Removes value from index"
   ]
  },
  {
   "cell_type": "code",
   "execution_count": 85,
   "id": "220cad9d",
   "metadata": {},
   "outputs": [],
   "source": [
    "l = [0, 1, 2, 44, 3, 4, 5]"
   ]
  },
  {
   "cell_type": "code",
   "execution_count": 74,
   "id": "570d828d",
   "metadata": {},
   "outputs": [
    {
     "ename": "ValueError",
     "evalue": "list.remove(x): x not in list",
     "output_type": "error",
     "traceback": [
      "\u001b[1;31m---------------------------------------------------------------------------\u001b[0m",
      "\u001b[1;31mValueError\u001b[0m                                Traceback (most recent call last)",
      "\u001b[1;32m~\\AppData\\Local\\Temp\\ipykernel_6160\\1513277737.py\u001b[0m in \u001b[0;36m<module>\u001b[1;34m\u001b[0m\n\u001b[0;32m      1\u001b[0m \u001b[1;31m#If you remove an index doesn't exists :\u001b[0m\u001b[1;33m\u001b[0m\u001b[1;33m\u001b[0m\u001b[0m\n\u001b[1;32m----> 2\u001b[1;33m \u001b[0ml\u001b[0m\u001b[1;33m.\u001b[0m\u001b[0mremove\u001b[0m\u001b[1;33m(\u001b[0m\u001b[1;36m40\u001b[0m\u001b[1;33m)\u001b[0m\u001b[1;33m\u001b[0m\u001b[1;33m\u001b[0m\u001b[0m\n\u001b[0m\u001b[0;32m      3\u001b[0m \u001b[1;31m#it will give you an error\u001b[0m\u001b[1;33m\u001b[0m\u001b[1;33m\u001b[0m\u001b[0m\n",
      "\u001b[1;31mValueError\u001b[0m: list.remove(x): x not in list"
     ]
    }
   ],
   "source": [
    "#If you remove a value doesn't exists : \n",
    "l.remove(40)\n",
    "#it will give you an error, there is no 44 in the list"
   ]
  },
  {
   "cell_type": "code",
   "execution_count": 86,
   "id": "382048a0",
   "metadata": {},
   "outputs": [
    {
     "data": {
      "text/plain": [
       "[0, 1, 2, 44, 3, 4, 5]"
      ]
     },
     "execution_count": 86,
     "metadata": {},
     "output_type": "execute_result"
    }
   ],
   "source": [
    "l"
   ]
  },
  {
   "cell_type": "code",
   "execution_count": 87,
   "id": "2d01d738",
   "metadata": {},
   "outputs": [],
   "source": [
    "l.remove(44)"
   ]
  },
  {
   "cell_type": "code",
   "execution_count": 88,
   "id": "e0179f1d",
   "metadata": {},
   "outputs": [
    {
     "data": {
      "text/plain": [
       "[0, 1, 2, 3, 4, 5]"
      ]
     },
     "execution_count": 88,
     "metadata": {},
     "output_type": "execute_result"
    }
   ],
   "source": [
    "l"
   ]
  },
  {
   "cell_type": "code",
   "execution_count": 89,
   "id": "9f907bc4",
   "metadata": {},
   "outputs": [],
   "source": [
    "#if there is two same numbers in the list and you want to remove : \n",
    "l = [1, 2, 40, 3, 4, 40, 5]"
   ]
  },
  {
   "cell_type": "code",
   "execution_count": 90,
   "id": "33b677a3",
   "metadata": {},
   "outputs": [],
   "source": [
    "l.remove(40)"
   ]
  },
  {
   "cell_type": "code",
   "execution_count": 91,
   "id": "4f313a7c",
   "metadata": {},
   "outputs": [
    {
     "data": {
      "text/plain": [
       "[1, 2, 3, 4, 40, 5]"
      ]
     },
     "execution_count": 91,
     "metadata": {},
     "output_type": "execute_result"
    }
   ],
   "source": [
    "l\n",
    "#Deleted only the first 40, .remove() only removes the first value it sees."
   ]
  },
  {
   "cell_type": "markdown",
   "id": "790f017f",
   "metadata": {},
   "source": [
    "# .pop() \n",
    "## Removes the value and prints it  \n",
    "### (.remove da direk değer silmek istediğin değeri yazman gerekiyor bunda ise değerin indexteki sırasını yazıyorsun)"
   ]
  },
  {
   "cell_type": "code",
   "execution_count": 97,
   "id": "979f729e",
   "metadata": {},
   "outputs": [],
   "source": [
    "l = [1, 2, 3, 4, 40, 5]"
   ]
  },
  {
   "cell_type": "code",
   "execution_count": 94,
   "id": "e266f961",
   "metadata": {},
   "outputs": [
    {
     "data": {
      "text/plain": [
       "40"
      ]
     },
     "execution_count": 94,
     "metadata": {},
     "output_type": "execute_result"
    }
   ],
   "source": [
    "l.pop(4)"
   ]
  },
  {
   "cell_type": "code",
   "execution_count": 96,
   "id": "34f1aa08",
   "metadata": {},
   "outputs": [
    {
     "data": {
      "text/plain": [
       "14"
      ]
     },
     "execution_count": 96,
     "metadata": {},
     "output_type": "execute_result"
    }
   ],
   "source": [
    "l.pop(3) + 10"
   ]
  },
  {
   "cell_type": "code",
   "execution_count": 98,
   "id": "71939531",
   "metadata": {},
   "outputs": [
    {
     "ename": "IndexError",
     "evalue": "pop index out of range",
     "output_type": "error",
     "traceback": [
      "\u001b[1;31m---------------------------------------------------------------------------\u001b[0m",
      "\u001b[1;31mIndexError\u001b[0m                                Traceback (most recent call last)",
      "\u001b[1;32m~\\AppData\\Local\\Temp\\ipykernel_6160\\1596601177.py\u001b[0m in \u001b[0;36m<module>\u001b[1;34m\u001b[0m\n\u001b[1;32m----> 1\u001b[1;33m \u001b[0ml\u001b[0m\u001b[1;33m.\u001b[0m\u001b[0mpop\u001b[0m\u001b[1;33m(\u001b[0m\u001b[1;36m40\u001b[0m\u001b[1;33m)\u001b[0m\u001b[1;33m\u001b[0m\u001b[1;33m\u001b[0m\u001b[0m\n\u001b[0m",
      "\u001b[1;31mIndexError\u001b[0m: pop index out of range"
     ]
    }
   ],
   "source": [
    "l.pop(40)"
   ]
  },
  {
   "cell_type": "markdown",
   "id": "a4e8fdc4",
   "metadata": {},
   "source": [
    "# .count()\n",
    "## Shows how many times the same value has been written in the list"
   ]
  },
  {
   "cell_type": "code",
   "execution_count": 100,
   "id": "a2a85832",
   "metadata": {},
   "outputs": [],
   "source": [
    "l = [1, 2, 3, 4, 40, 5, 40]"
   ]
  },
  {
   "cell_type": "code",
   "execution_count": 101,
   "id": "bc4c9747",
   "metadata": {},
   "outputs": [
    {
     "data": {
      "text/plain": [
       "2"
      ]
     },
     "execution_count": 101,
     "metadata": {},
     "output_type": "execute_result"
    }
   ],
   "source": [
    "l.count(40)"
   ]
  },
  {
   "cell_type": "code",
   "execution_count": 102,
   "id": "290d8ce1",
   "metadata": {},
   "outputs": [
    {
     "data": {
      "text/plain": [
       "0"
      ]
     },
     "execution_count": 102,
     "metadata": {},
     "output_type": "execute_result"
    }
   ],
   "source": [
    "l.count(1000)"
   ]
  },
  {
   "cell_type": "code",
   "execution_count": 103,
   "id": "324876d7",
   "metadata": {},
   "outputs": [
    {
     "data": {
      "text/plain": [
       "1"
      ]
     },
     "execution_count": 103,
     "metadata": {},
     "output_type": "execute_result"
    }
   ],
   "source": [
    "l.count(2)"
   ]
  },
  {
   "cell_type": "markdown",
   "id": "09047ae2",
   "metadata": {},
   "source": [
    "# Aliasing\n",
    "## Bir listeyi kopyaladığında örn l_2 = l yaptığında aslında bu iki isim de aynı kutuyu işaret eder, o yüzden kutu içeriğini değiştiğin zaman her iki listenin de içeriği aynı şekilde değişir"
   ]
  },
  {
   "cell_type": "code",
   "execution_count": 104,
   "id": "33b47b96",
   "metadata": {},
   "outputs": [],
   "source": [
    "a = 2\n",
    "b = a "
   ]
  },
  {
   "cell_type": "code",
   "execution_count": 105,
   "id": "f614e516",
   "metadata": {},
   "outputs": [
    {
     "data": {
      "text/plain": [
       "2"
      ]
     },
     "execution_count": 105,
     "metadata": {},
     "output_type": "execute_result"
    }
   ],
   "source": [
    "a"
   ]
  },
  {
   "cell_type": "code",
   "execution_count": 106,
   "id": "af404696",
   "metadata": {},
   "outputs": [
    {
     "data": {
      "text/plain": [
       "2"
      ]
     },
     "execution_count": 106,
     "metadata": {},
     "output_type": "execute_result"
    }
   ],
   "source": [
    "b"
   ]
  },
  {
   "cell_type": "code",
   "execution_count": 107,
   "id": "47cbc6cb",
   "metadata": {},
   "outputs": [
    {
     "data": {
      "text/plain": [
       "3"
      ]
     },
     "execution_count": 107,
     "metadata": {},
     "output_type": "execute_result"
    }
   ],
   "source": [
    "a += 1\n",
    "a"
   ]
  },
  {
   "cell_type": "code",
   "execution_count": 108,
   "id": "f26d9f46",
   "metadata": {},
   "outputs": [
    {
     "data": {
      "text/plain": [
       "2"
      ]
     },
     "execution_count": 108,
     "metadata": {},
     "output_type": "execute_result"
    }
   ],
   "source": [
    "b #b stayed same"
   ]
  },
  {
   "cell_type": "code",
   "execution_count": 109,
   "id": "d7c80cea",
   "metadata": {},
   "outputs": [
    {
     "data": {
      "text/plain": [
       "[1, 2, 3, 4, 40, 5, 40]"
      ]
     },
     "execution_count": 109,
     "metadata": {},
     "output_type": "execute_result"
    }
   ],
   "source": [
    "#-----Bu kısım önemli--- This chapter is important -----\n",
    "l"
   ]
  },
  {
   "cell_type": "code",
   "execution_count": 110,
   "id": "25cac6a4",
   "metadata": {},
   "outputs": [],
   "source": [
    "l_2 = l"
   ]
  },
  {
   "cell_type": "code",
   "execution_count": 111,
   "id": "9871f768",
   "metadata": {},
   "outputs": [
    {
     "data": {
      "text/plain": [
       "[1, 2, 3, 4, 40, 5, 40]"
      ]
     },
     "execution_count": 111,
     "metadata": {},
     "output_type": "execute_result"
    }
   ],
   "source": [
    "l_2"
   ]
  },
  {
   "cell_type": "code",
   "execution_count": 112,
   "id": "a2d09b32",
   "metadata": {},
   "outputs": [],
   "source": [
    "l.insert(-1, 100)"
   ]
  },
  {
   "cell_type": "code",
   "execution_count": 113,
   "id": "8f69a8af",
   "metadata": {},
   "outputs": [
    {
     "data": {
      "text/plain": [
       "[1, 2, 3, 4, 40, 5, 100, 40]"
      ]
     },
     "execution_count": 113,
     "metadata": {},
     "output_type": "execute_result"
    }
   ],
   "source": [
    "l"
   ]
  },
  {
   "cell_type": "code",
   "execution_count": 114,
   "id": "df9226b6",
   "metadata": {},
   "outputs": [
    {
     "data": {
      "text/plain": [
       "[1, 2, 3, 4, 40, 5, 100, 40]"
      ]
     },
     "execution_count": 114,
     "metadata": {},
     "output_type": "execute_result"
    }
   ],
   "source": [
    "l_2 #Both lists are changed"
   ]
  },
  {
   "cell_type": "markdown",
   "id": "d9da3dd9",
   "metadata": {},
   "source": [
    "# .copy()\n",
    "## Bir liste kopyalamak istiyorsun ama birinde değişiklik yaptığında kopyaladığın liste de değişmesin istiyorsan bunu kullanacaksın"
   ]
  },
  {
   "cell_type": "code",
   "execution_count": 115,
   "id": "e65f46b5",
   "metadata": {},
   "outputs": [
    {
     "data": {
      "text/plain": [
       "[1, 2, 3, 4, 40, 5, 100, 40]"
      ]
     },
     "execution_count": 115,
     "metadata": {},
     "output_type": "execute_result"
    }
   ],
   "source": [
    "l"
   ]
  },
  {
   "cell_type": "code",
   "execution_count": 116,
   "id": "e97341df",
   "metadata": {},
   "outputs": [],
   "source": [
    "l2 = l.copy()"
   ]
  },
  {
   "cell_type": "code",
   "execution_count": 117,
   "id": "951ae214",
   "metadata": {},
   "outputs": [
    {
     "data": {
      "text/plain": [
       "[1, 2, 3, 4, 40, 5, 100, 40]"
      ]
     },
     "execution_count": 117,
     "metadata": {},
     "output_type": "execute_result"
    }
   ],
   "source": [
    "l2"
   ]
  },
  {
   "cell_type": "code",
   "execution_count": 118,
   "id": "67f147fe",
   "metadata": {},
   "outputs": [],
   "source": [
    "l[0] = 300"
   ]
  },
  {
   "cell_type": "code",
   "execution_count": 119,
   "id": "e25d4a43",
   "metadata": {},
   "outputs": [
    {
     "data": {
      "text/plain": [
       "[300, 2, 3, 4, 40, 5, 100, 40]"
      ]
     },
     "execution_count": 119,
     "metadata": {},
     "output_type": "execute_result"
    }
   ],
   "source": [
    "l"
   ]
  },
  {
   "cell_type": "code",
   "execution_count": 120,
   "id": "f569c338",
   "metadata": {},
   "outputs": [
    {
     "data": {
      "text/plain": [
       "[1, 2, 3, 4, 40, 5, 100, 40]"
      ]
     },
     "execution_count": 120,
     "metadata": {},
     "output_type": "execute_result"
    }
   ],
   "source": [
    "l2"
   ]
  },
  {
   "cell_type": "markdown",
   "id": "20d6f5b2",
   "metadata": {},
   "source": [
    "# Concatenate lists"
   ]
  },
  {
   "cell_type": "code",
   "execution_count": 121,
   "id": "b7fa47a5",
   "metadata": {},
   "outputs": [],
   "source": [
    "l = [1, 2, 3]"
   ]
  },
  {
   "cell_type": "code",
   "execution_count": 122,
   "id": "b262dfc2",
   "metadata": {},
   "outputs": [],
   "source": [
    "l2 = [4, 5, 6]"
   ]
  },
  {
   "cell_type": "code",
   "execution_count": 124,
   "id": "50709b00",
   "metadata": {},
   "outputs": [
    {
     "data": {
      "text/plain": [
       "[1, 2, 3]"
      ]
     },
     "execution_count": 124,
     "metadata": {},
     "output_type": "execute_result"
    }
   ],
   "source": [
    "l"
   ]
  },
  {
   "cell_type": "code",
   "execution_count": 125,
   "id": "2316d6a6",
   "metadata": {},
   "outputs": [
    {
     "data": {
      "text/plain": [
       "[4, 5, 6]"
      ]
     },
     "execution_count": 125,
     "metadata": {},
     "output_type": "execute_result"
    }
   ],
   "source": [
    "l2"
   ]
  },
  {
   "cell_type": "code",
   "execution_count": 126,
   "id": "9ebfb533",
   "metadata": {},
   "outputs": [
    {
     "data": {
      "text/plain": [
       "[1, 2, 3, 4, 5, 6]"
      ]
     },
     "execution_count": 126,
     "metadata": {},
     "output_type": "execute_result"
    }
   ],
   "source": [
    "l + l2"
   ]
  },
  {
   "cell_type": "code",
   "execution_count": 127,
   "id": "4305b6c2",
   "metadata": {},
   "outputs": [
    {
     "data": {
      "text/plain": [
       "[1, 2, 3]"
      ]
     },
     "execution_count": 127,
     "metadata": {},
     "output_type": "execute_result"
    }
   ],
   "source": [
    "l"
   ]
  },
  {
   "cell_type": "code",
   "execution_count": 128,
   "id": "0138b28a",
   "metadata": {},
   "outputs": [
    {
     "data": {
      "text/plain": [
       "[4, 5, 6]"
      ]
     },
     "execution_count": 128,
     "metadata": {},
     "output_type": "execute_result"
    }
   ],
   "source": [
    "l2"
   ]
  },
  {
   "cell_type": "code",
   "execution_count": 129,
   "id": "58ba3e50",
   "metadata": {},
   "outputs": [],
   "source": [
    "l3 = l + l2"
   ]
  },
  {
   "cell_type": "code",
   "execution_count": 130,
   "id": "b65d0b49",
   "metadata": {},
   "outputs": [
    {
     "data": {
      "text/plain": [
       "[1, 2, 3, 4, 5, 6]"
      ]
     },
     "execution_count": 130,
     "metadata": {},
     "output_type": "execute_result"
    }
   ],
   "source": [
    "l3"
   ]
  },
  {
   "cell_type": "markdown",
   "id": "61c0d340",
   "metadata": {},
   "source": [
    "# Finding index of a value\n",
    "## .index() \n",
    "### --Shows the place of value you write in the brackets -- Parantez içine yazdığın değerin hangi sırada olduğunu gösterir"
   ]
  },
  {
   "cell_type": "code",
   "execution_count": 133,
   "id": "79caab7c",
   "metadata": {},
   "outputs": [],
   "source": [
    "l = [1, 2, 3, 80, 4, 3, 80, 5, 6]"
   ]
  },
  {
   "cell_type": "code",
   "execution_count": 135,
   "id": "d91a130c",
   "metadata": {},
   "outputs": [
    {
     "data": {
      "text/plain": [
       "3"
      ]
     },
     "execution_count": 135,
     "metadata": {},
     "output_type": "execute_result"
    }
   ],
   "source": [
    "l.index(80) #Shows the first 80"
   ]
  },
  {
   "cell_type": "code",
   "execution_count": 136,
   "id": "2de718c8",
   "metadata": {},
   "outputs": [
    {
     "data": {
      "text/plain": [
       "7"
      ]
     },
     "execution_count": 136,
     "metadata": {},
     "output_type": "execute_result"
    }
   ],
   "source": [
    "l.index(5)"
   ]
  },
  {
   "cell_type": "code",
   "execution_count": 138,
   "id": "2c8e8ad2",
   "metadata": {},
   "outputs": [
    {
     "ename": "ValueError",
     "evalue": "100 is not in list",
     "output_type": "error",
     "traceback": [
      "\u001b[1;31m---------------------------------------------------------------------------\u001b[0m",
      "\u001b[1;31mValueError\u001b[0m                                Traceback (most recent call last)",
      "\u001b[1;32m~\\AppData\\Local\\Temp\\ipykernel_6160\\1071002792.py\u001b[0m in \u001b[0;36m<module>\u001b[1;34m\u001b[0m\n\u001b[1;32m----> 1\u001b[1;33m \u001b[0ml\u001b[0m\u001b[1;33m.\u001b[0m\u001b[0mindex\u001b[0m\u001b[1;33m(\u001b[0m\u001b[1;36m100\u001b[0m\u001b[1;33m)\u001b[0m\u001b[1;33m\u001b[0m\u001b[1;33m\u001b[0m\u001b[0m\n\u001b[0m",
      "\u001b[1;31mValueError\u001b[0m: 100 is not in list"
     ]
    }
   ],
   "source": [
    "l.index(100) #There is no 100 in the list so it gives error"
   ]
  },
  {
   "cell_type": "markdown",
   "id": "88db2bd9",
   "metadata": {},
   "source": [
    "# .reverse()\n",
    "## Reverses the list -- Listeyi tersine çevirir"
   ]
  },
  {
   "cell_type": "code",
   "execution_count": 139,
   "id": "9c86bab9",
   "metadata": {},
   "outputs": [],
   "source": [
    "l = [1, 2, 3, 4]"
   ]
  },
  {
   "cell_type": "code",
   "execution_count": 140,
   "id": "5ae9c726",
   "metadata": {},
   "outputs": [],
   "source": [
    "l.reverse() #inplace : Means updating the list permanently"
   ]
  },
  {
   "cell_type": "code",
   "execution_count": 141,
   "id": "4740e94d",
   "metadata": {},
   "outputs": [
    {
     "data": {
      "text/plain": [
       "[4, 3, 2, 1]"
      ]
     },
     "execution_count": 141,
     "metadata": {},
     "output_type": "execute_result"
    }
   ],
   "source": [
    "l"
   ]
  },
  {
   "cell_type": "code",
   "execution_count": 142,
   "id": "4564099b",
   "metadata": {},
   "outputs": [],
   "source": [
    "#We can use slicing too in this situation"
   ]
  },
  {
   "cell_type": "code",
   "execution_count": 143,
   "id": "4c581486",
   "metadata": {},
   "outputs": [],
   "source": [
    "l = [1, 2, 3, 4]"
   ]
  },
  {
   "cell_type": "code",
   "execution_count": 144,
   "id": "8b900c1b",
   "metadata": {},
   "outputs": [
    {
     "data": {
      "text/plain": [
       "[4, 3, 2, 1]"
      ]
     },
     "execution_count": 144,
     "metadata": {},
     "output_type": "execute_result"
    }
   ],
   "source": [
    "l[::-1] #This is not an inplace"
   ]
  },
  {
   "cell_type": "code",
   "execution_count": 145,
   "id": "59aa5717",
   "metadata": {},
   "outputs": [
    {
     "data": {
      "text/plain": [
       "[1, 2, 3, 4]"
      ]
     },
     "execution_count": 145,
     "metadata": {},
     "output_type": "execute_result"
    }
   ],
   "source": [
    "l"
   ]
  },
  {
   "cell_type": "code",
   "execution_count": 146,
   "id": "417b35e8",
   "metadata": {},
   "outputs": [],
   "source": [
    "l3 = l[::-1]"
   ]
  },
  {
   "cell_type": "code",
   "execution_count": 147,
   "id": "7fab85a3",
   "metadata": {},
   "outputs": [
    {
     "data": {
      "text/plain": [
       "[4, 3, 2, 1]"
      ]
     },
     "execution_count": 147,
     "metadata": {},
     "output_type": "execute_result"
    }
   ],
   "source": [
    "l3"
   ]
  },
  {
   "cell_type": "code",
   "execution_count": 148,
   "id": "88f34521",
   "metadata": {},
   "outputs": [
    {
     "data": {
      "text/plain": [
       "[1, 2, 3, 4]"
      ]
     },
     "execution_count": 148,
     "metadata": {},
     "output_type": "execute_result"
    }
   ],
   "source": [
    "l"
   ]
  },
  {
   "cell_type": "markdown",
   "id": "b4bd0360",
   "metadata": {},
   "source": [
    "# Sorting List\n",
    "## sorted() and .sort()\n",
    "### İkisi de default olarak büyükten küçüğe sıralar;  sayıları büyüklüğüne göre, stringleri alfabetik olarak"
   ]
  },
  {
   "cell_type": "code",
   "execution_count": 161,
   "id": "cf678308",
   "metadata": {},
   "outputs": [],
   "source": [
    "l = [\"b\", \"a\", \"c\"]"
   ]
  },
  {
   "cell_type": "code",
   "execution_count": 162,
   "id": "af24800d",
   "metadata": {},
   "outputs": [
    {
     "data": {
      "text/plain": [
       "['a', 'b', 'c']"
      ]
     },
     "execution_count": 162,
     "metadata": {},
     "output_type": "execute_result"
    }
   ],
   "source": [
    "sorted(l) #NOT an inplace"
   ]
  },
  {
   "cell_type": "code",
   "execution_count": 153,
   "id": "ce1fd5dc",
   "metadata": {},
   "outputs": [
    {
     "data": {
      "text/plain": [
       "['a', 'b', 'c']"
      ]
     },
     "execution_count": 153,
     "metadata": {},
     "output_type": "execute_result"
    }
   ],
   "source": [
    "l"
   ]
  },
  {
   "cell_type": "code",
   "execution_count": 155,
   "id": "f612d51e",
   "metadata": {},
   "outputs": [],
   "source": [
    "l2 = [\"b\", \"a\", \"c\"]"
   ]
  },
  {
   "cell_type": "code",
   "execution_count": 156,
   "id": "97934556",
   "metadata": {},
   "outputs": [],
   "source": [
    "l2.sort() #inplace : Permanent"
   ]
  },
  {
   "cell_type": "code",
   "execution_count": 157,
   "id": "68bcff93",
   "metadata": {},
   "outputs": [
    {
     "data": {
      "text/plain": [
       "['a', 'b', 'c']"
      ]
     },
     "execution_count": 157,
     "metadata": {},
     "output_type": "execute_result"
    }
   ],
   "source": [
    "l2"
   ]
  },
  {
   "cell_type": "code",
   "execution_count": 165,
   "id": "f8a4857c",
   "metadata": {},
   "outputs": [
    {
     "data": {
      "text/plain": [
       "['b', 'a', 'c']"
      ]
     },
     "execution_count": 165,
     "metadata": {},
     "output_type": "execute_result"
    }
   ],
   "source": [
    "l"
   ]
  },
  {
   "cell_type": "code",
   "execution_count": 166,
   "id": "48f8282d",
   "metadata": {},
   "outputs": [],
   "source": [
    "l3 = sorted(l)"
   ]
  },
  {
   "cell_type": "code",
   "execution_count": 164,
   "id": "66f37c66",
   "metadata": {},
   "outputs": [
    {
     "data": {
      "text/plain": [
       "['a', 'b', 'c']"
      ]
     },
     "execution_count": 164,
     "metadata": {},
     "output_type": "execute_result"
    }
   ],
   "source": [
    "l3"
   ]
  },
  {
   "cell_type": "code",
   "execution_count": 167,
   "id": "ce363307",
   "metadata": {},
   "outputs": [],
   "source": [
    "#What if we have both numbers and strings in the list"
   ]
  },
  {
   "cell_type": "code",
   "execution_count": 168,
   "id": "c3bc14e0",
   "metadata": {},
   "outputs": [],
   "source": [
    "l = [\"b\", \"a\", \"c\", \"1\", \"4\", \"3\"]"
   ]
  },
  {
   "cell_type": "code",
   "execution_count": 169,
   "id": "75d4b1b2",
   "metadata": {},
   "outputs": [
    {
     "data": {
      "text/plain": [
       "['1', '3', '4', 'a', 'b', 'c']"
      ]
     },
     "execution_count": 169,
     "metadata": {},
     "output_type": "execute_result"
    }
   ],
   "source": [
    "sorted(l)"
   ]
  },
  {
   "cell_type": "code",
   "execution_count": 170,
   "id": "3bf0d0cc",
   "metadata": {},
   "outputs": [],
   "source": [
    "l = [0.6, 1, 3, 1, 2, 3.1, \"c\", \"a\", \"b\"]"
   ]
  },
  {
   "cell_type": "code",
   "execution_count": 171,
   "id": "baff6a6d",
   "metadata": {},
   "outputs": [
    {
     "ename": "TypeError",
     "evalue": "'<' not supported between instances of 'str' and 'int'",
     "output_type": "error",
     "traceback": [
      "\u001b[1;31m---------------------------------------------------------------------------\u001b[0m",
      "\u001b[1;31mTypeError\u001b[0m                                 Traceback (most recent call last)",
      "\u001b[1;32m~\\AppData\\Local\\Temp\\ipykernel_6160\\2087725330.py\u001b[0m in \u001b[0;36m<module>\u001b[1;34m\u001b[0m\n\u001b[1;32m----> 1\u001b[1;33m \u001b[0msorted\u001b[0m\u001b[1;33m(\u001b[0m\u001b[0ml\u001b[0m\u001b[1;33m)\u001b[0m\u001b[1;33m\u001b[0m\u001b[1;33m\u001b[0m\u001b[0m\n\u001b[0m",
      "\u001b[1;31mTypeError\u001b[0m: '<' not supported between instances of 'str' and 'int'"
     ]
    }
   ],
   "source": [
    "sorted(l) #Gives error "
   ]
  },
  {
   "cell_type": "code",
   "execution_count": 172,
   "id": "608146e6",
   "metadata": {},
   "outputs": [],
   "source": [
    "l = [0.6, 1, 3, 1, 2, 3.1]"
   ]
  },
  {
   "cell_type": "code",
   "execution_count": 173,
   "id": "4d921329",
   "metadata": {},
   "outputs": [
    {
     "data": {
      "text/plain": [
       "[0.6, 1, 1, 2, 3, 3.1]"
      ]
     },
     "execution_count": 173,
     "metadata": {},
     "output_type": "execute_result"
    }
   ],
   "source": [
    "sorted(l)"
   ]
  },
  {
   "cell_type": "code",
   "execution_count": 174,
   "id": "f305a5cc",
   "metadata": {},
   "outputs": [],
   "source": [
    "l = [\"1\", \"3\", \"1\", \"2\", \"3.1\", \"0.6\", \"c\", \"a\", \"b\"]"
   ]
  },
  {
   "cell_type": "code",
   "execution_count": 175,
   "id": "4d8d6f70",
   "metadata": {},
   "outputs": [],
   "source": [
    "l.sort()"
   ]
  },
  {
   "cell_type": "code",
   "execution_count": 176,
   "id": "e06d6a3c",
   "metadata": {},
   "outputs": [
    {
     "data": {
      "text/plain": [
       "['0.6', '1', '1', '2', '3', '3.1', 'a', 'b', 'c']"
      ]
     },
     "execution_count": 176,
     "metadata": {},
     "output_type": "execute_result"
    }
   ],
   "source": [
    "l"
   ]
  },
  {
   "cell_type": "code",
   "execution_count": 177,
   "id": "316dca32",
   "metadata": {},
   "outputs": [],
   "source": [
    "l = [[1,-20,3], [2,-200,-3]]"
   ]
  },
  {
   "cell_type": "code",
   "execution_count": 178,
   "id": "b5a8e855",
   "metadata": {},
   "outputs": [],
   "source": [
    "l.sort()"
   ]
  },
  {
   "cell_type": "code",
   "execution_count": 179,
   "id": "8f19f561",
   "metadata": {},
   "outputs": [
    {
     "data": {
      "text/plain": [
       "[[1, -20, 3], [2, -200, -3]]"
      ]
     },
     "execution_count": 179,
     "metadata": {},
     "output_type": "execute_result"
    }
   ],
   "source": [
    "l"
   ]
  },
  {
   "cell_type": "code",
   "execution_count": 180,
   "id": "72bdbd50",
   "metadata": {},
   "outputs": [],
   "source": [
    "l = [[10,-20,-3], [2,-2,3]]"
   ]
  },
  {
   "cell_type": "code",
   "execution_count": 181,
   "id": "93bf6077",
   "metadata": {},
   "outputs": [],
   "source": [
    "l.sort() #Önce listeleri kendi içinde sıralıyor, sonra liste elemanlarını tek tek diğeri ile karşılaştırıyor, hangisi küçükse o listeyi önce yazıyor"
   ]
  },
  {
   "cell_type": "code",
   "execution_count": 182,
   "id": "a3c0aadf",
   "metadata": {},
   "outputs": [
    {
     "data": {
      "text/plain": [
       "[[2, -2, 3], [10, -20, -3]]"
      ]
     },
     "execution_count": 182,
     "metadata": {},
     "output_type": "execute_result"
    }
   ],
   "source": [
    "l"
   ]
  },
  {
   "cell_type": "code",
   "execution_count": null,
   "id": "a52d2659",
   "metadata": {},
   "outputs": [],
   "source": []
  }
 ],
 "metadata": {
  "kernelspec": {
   "display_name": "Python 3 (ipykernel)",
   "language": "python",
   "name": "python3"
  },
  "language_info": {
   "codemirror_mode": {
    "name": "ipython",
    "version": 3
   },
   "file_extension": ".py",
   "mimetype": "text/x-python",
   "name": "python",
   "nbconvert_exporter": "python",
   "pygments_lexer": "ipython3",
   "version": "3.9.13"
  }
 },
 "nbformat": 4,
 "nbformat_minor": 5
}

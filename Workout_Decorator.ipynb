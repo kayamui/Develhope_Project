{
 "cells": [
  {
   "cell_type": "markdown",
   "id": "220d6de9",
   "metadata": {},
   "source": [
    "# Decorators\n",
    "## Decoratorlar başka fonksiyonları parametre olarak kabul edip yeni bir şekilde yeni bir fonksiyon döndüren yapılardır"
   ]
  },
  {
   "cell_type": "code",
   "execution_count": 18,
   "id": "ace86013",
   "metadata": {},
   "outputs": [],
   "source": [
    "def print_func():\n",
    "    print(\"hey\")"
   ]
  },
  {
   "cell_type": "code",
   "execution_count": 2,
   "id": "03623dca",
   "metadata": {},
   "outputs": [
    {
     "name": "stdout",
     "output_type": "stream",
     "text": [
      "hey\n"
     ]
    }
   ],
   "source": [
    "print_func()"
   ]
  },
  {
   "cell_type": "code",
   "execution_count": 3,
   "id": "7ec57281",
   "metadata": {},
   "outputs": [
    {
     "ename": "TypeError",
     "evalue": "print_func() takes 0 positional arguments but 1 was given",
     "output_type": "error",
     "traceback": [
      "\u001b[1;31m---------------------------------------------------------------------------\u001b[0m",
      "\u001b[1;31mTypeError\u001b[0m                                 Traceback (most recent call last)",
      "\u001b[1;32m~\\AppData\\Local\\Temp\\ipykernel_16592\\2295017934.py\u001b[0m in \u001b[0;36m<module>\u001b[1;34m\u001b[0m\n\u001b[1;32m----> 1\u001b[1;33m \u001b[0mprint_func\u001b[0m\u001b[1;33m(\u001b[0m\u001b[1;34m\"a\"\u001b[0m\u001b[1;33m)\u001b[0m\u001b[1;33m\u001b[0m\u001b[1;33m\u001b[0m\u001b[0m\n\u001b[0m",
      "\u001b[1;31mTypeError\u001b[0m: print_func() takes 0 positional arguments but 1 was given"
     ]
    }
   ],
   "source": [
    "print_func(\"a\")"
   ]
  },
  {
   "cell_type": "code",
   "execution_count": 9,
   "id": "91237fa3",
   "metadata": {},
   "outputs": [],
   "source": [
    "def decorator_func(func):\n",
    "    def wrapper_func():\n",
    "        return func()\n",
    "    \n",
    "    return wrapper_func"
   ]
  },
  {
   "cell_type": "code",
   "execution_count": 10,
   "id": "762d04e1",
   "metadata": {},
   "outputs": [],
   "source": [
    "@decorator_func\n",
    "def decorated_print():\n",
    "    return print_func()"
   ]
  },
  {
   "cell_type": "code",
   "execution_count": 12,
   "id": "32ae012e",
   "metadata": {},
   "outputs": [],
   "source": [
    "decorated_print = decorator_func(print_func)"
   ]
  },
  {
   "cell_type": "code",
   "execution_count": 11,
   "id": "c3456647",
   "metadata": {},
   "outputs": [
    {
     "name": "stdout",
     "output_type": "stream",
     "text": [
      "hey\n"
     ]
    }
   ],
   "source": [
    "decorated_print()"
   ]
  },
  {
   "cell_type": "code",
   "execution_count": 26,
   "id": "99620c89",
   "metadata": {},
   "outputs": [],
   "source": [
    "def decorator_func(func):\n",
    "    def wrapper_func():\n",
    "        print(f\"the name of the function is {func.__name__}\")\n",
    "        return func()\n",
    "    \n",
    "    return wrapper_func"
   ]
  },
  {
   "cell_type": "code",
   "execution_count": 27,
   "id": "af191a10",
   "metadata": {},
   "outputs": [],
   "source": [
    "decorated_print = decorator_func(print_func)"
   ]
  },
  {
   "cell_type": "code",
   "execution_count": 31,
   "id": "be6720f0",
   "metadata": {},
   "outputs": [
    {
     "name": "stdout",
     "output_type": "stream",
     "text": [
      "the name of the function is print_func\n",
      "hey\n"
     ]
    }
   ],
   "source": [
    "decorated_print()"
   ]
  },
  {
   "cell_type": "code",
   "execution_count": 32,
   "id": "e0f2a348",
   "metadata": {},
   "outputs": [],
   "source": [
    "@decorator_func\n",
    "def decorated_print_two():\n",
    "    return print_func()"
   ]
  },
  {
   "cell_type": "code",
   "execution_count": 33,
   "id": "69e0a34a",
   "metadata": {},
   "outputs": [
    {
     "name": "stdout",
     "output_type": "stream",
     "text": [
      "the name of the function is decorated_print_two\n",
      "hey\n"
     ]
    }
   ],
   "source": [
    "decorated_print_two()"
   ]
  },
  {
   "cell_type": "markdown",
   "id": "21baca47",
   "metadata": {},
   "source": [
    "### Aynı şeyi şöyle de yapabilirdik"
   ]
  },
  {
   "cell_type": "code",
   "execution_count": 15,
   "id": "57e45391",
   "metadata": {},
   "outputs": [],
   "source": [
    "#Şununla aynı : print_func = decorator_func(print_func)\n",
    "@decorator_func\n",
    "def print_func():\n",
    "    print(\"hey\")"
   ]
  },
  {
   "cell_type": "code",
   "execution_count": 16,
   "id": "e8e1901e",
   "metadata": {},
   "outputs": [
    {
     "name": "stdout",
     "output_type": "stream",
     "text": [
      "the name of the function is print_func\n",
      "hey\n"
     ]
    }
   ],
   "source": [
    "print_func()"
   ]
  },
  {
   "cell_type": "code",
   "execution_count": 34,
   "id": "5b9e5f18",
   "metadata": {},
   "outputs": [],
   "source": [
    "def f(name,number):\n",
    "    print(f\"name:{name}, number:{number}\")"
   ]
  },
  {
   "cell_type": "code",
   "execution_count": 35,
   "id": "3f51a765",
   "metadata": {},
   "outputs": [
    {
     "name": "stdout",
     "output_type": "stream",
     "text": [
      "name:muhammed, number:kaya\n"
     ]
    }
   ],
   "source": [
    "f(\"muhammed\",\"kaya\")"
   ]
  },
  {
   "cell_type": "code",
   "execution_count": 36,
   "id": "40ef776d",
   "metadata": {},
   "outputs": [
    {
     "name": "stdout",
     "output_type": "stream",
     "text": [
      "name:jack, number:102\n"
     ]
    }
   ],
   "source": [
    "f(\"jack\", 102)"
   ]
  },
  {
   "cell_type": "code",
   "execution_count": 37,
   "id": "40bada8c",
   "metadata": {},
   "outputs": [],
   "source": [
    "def decorator_func(func):\n",
    "    def wrapper_func():\n",
    "        print(f\"the name of the function is: {func.__name__}\")\n",
    "        return func (*args)\n",
    "    return wrapper_func"
   ]
  },
  {
   "cell_type": "code",
   "execution_count": 38,
   "id": "1a0b82b7",
   "metadata": {},
   "outputs": [],
   "source": [
    "@decorator_func #func = decorator_func(func)\n",
    "def f(name,number):\n",
    "    print(f\"Name: {name}, number: {number}\")"
   ]
  },
  {
   "cell_type": "code",
   "execution_count": 39,
   "id": "eb58322e",
   "metadata": {},
   "outputs": [
    {
     "ename": "TypeError",
     "evalue": "wrapper_func() takes 0 positional arguments but 2 were given",
     "output_type": "error",
     "traceback": [
      "\u001b[1;31m---------------------------------------------------------------------------\u001b[0m",
      "\u001b[1;31mTypeError\u001b[0m                                 Traceback (most recent call last)",
      "\u001b[1;32m~\\AppData\\Local\\Temp\\ipykernel_16592\\3900506494.py\u001b[0m in \u001b[0;36m<module>\u001b[1;34m\u001b[0m\n\u001b[0;32m      1\u001b[0m \u001b[1;31m#Wrapper a bunları argüman olarak verir\u001b[0m\u001b[1;33m\u001b[0m\u001b[1;33m\u001b[0m\u001b[0m\n\u001b[1;32m----> 2\u001b[1;33m \u001b[0mf\u001b[0m\u001b[1;33m(\u001b[0m\u001b[1;34m\"Jack\"\u001b[0m\u001b[1;33m,\u001b[0m \u001b[1;36m102\u001b[0m\u001b[1;33m)\u001b[0m\u001b[1;33m\u001b[0m\u001b[1;33m\u001b[0m\u001b[0m\n\u001b[0m",
      "\u001b[1;31mTypeError\u001b[0m: wrapper_func() takes 0 positional arguments but 2 were given"
     ]
    }
   ],
   "source": [
    "#Wrapper a bunları argüman olarak verir\n",
    "f(\"Jack\", 102)"
   ]
  },
  {
   "cell_type": "code",
   "execution_count": 40,
   "id": "f74cbf8a",
   "metadata": {},
   "outputs": [],
   "source": [
    "def decorator_func(func):\n",
    "    def wrapper_func(*args):\n",
    "        print(f\"the name of the function is: {func.__name__}\")\n",
    "        return func (*args)\n",
    "    return wrapper_func"
   ]
  },
  {
   "cell_type": "code",
   "execution_count": 44,
   "id": "24bfbc6d",
   "metadata": {},
   "outputs": [],
   "source": [
    "@decorator_func #func = decorator_func(func)\n",
    "def f(name,number):\n",
    "    print(f\"Name: {name}, number: {number}\")"
   ]
  },
  {
   "cell_type": "code",
   "execution_count": 45,
   "id": "69214b73",
   "metadata": {},
   "outputs": [
    {
     "name": "stdout",
     "output_type": "stream",
     "text": [
      "the name of the function is: f\n",
      "Name: Jack, number: 102\n"
     ]
    }
   ],
   "source": [
    "f(\"Jack\", 102)"
   ]
  },
  {
   "cell_type": "code",
   "execution_count": 51,
   "id": "2246c0a2",
   "metadata": {},
   "outputs": [],
   "source": [
    "def akilli_bolme(func):\n",
    "    def inner(a,b):\n",
    "        print(\"Bölme işlemi: \", a, \"and\" , b)\n",
    "        if b == 0:\n",
    "            print(\"Hoooppp, böyle bir bölme olmaz.\")\n",
    "            return\n",
    "        return func(a,b)\n",
    "    return inner"
   ]
  },
  {
   "cell_type": "code",
   "execution_count": 52,
   "id": "3d200b1c",
   "metadata": {},
   "outputs": [
    {
     "name": "stdout",
     "output_type": "stream",
     "text": [
      "Bölme işlemi:  2 and 5\n",
      "0.4\n",
      "Bölme işlemi:  0 and 5\n",
      "0.0\n",
      "Bölme işlemi:  2 and 0\n",
      "Hoooppp, böyle bir bölme olmaz.\n",
      "None\n"
     ]
    }
   ],
   "source": [
    "@akilli_bolme\n",
    "def bol(a,b):\n",
    "    return a/b\n",
    "\n",
    "print(bol(2,5))\n",
    "print(bol(0,5))\n",
    "print(bol(2,0))"
   ]
  },
  {
   "cell_type": "code",
   "execution_count": null,
   "id": "47ef7cb5",
   "metadata": {},
   "outputs": [],
   "source": []
  },
  {
   "cell_type": "code",
   "execution_count": null,
   "id": "fdb2b7c4",
   "metadata": {},
   "outputs": [],
   "source": []
  }
 ],
 "metadata": {
  "kernelspec": {
   "display_name": "Python 3 (ipykernel)",
   "language": "python",
   "name": "python3"
  },
  "language_info": {
   "codemirror_mode": {
    "name": "ipython",
    "version": 3
   },
   "file_extension": ".py",
   "mimetype": "text/x-python",
   "name": "python",
   "nbconvert_exporter": "python",
   "pygments_lexer": "ipython3",
   "version": "3.9.13"
  }
 },
 "nbformat": 4,
 "nbformat_minor": 5
}

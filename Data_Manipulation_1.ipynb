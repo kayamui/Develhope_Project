{
 "cells": [
  {
   "cell_type": "markdown",
   "id": "8dc7fc71",
   "metadata": {},
   "source": [
    "# Combinations\n"
   ]
  },
  {
   "cell_type": "raw",
   "id": "fdf107e6",
   "metadata": {},
   "source": [
    "### cardinal: Kümelerin toplam sayısını ifade eder.\n",
    "örneğin:\n",
    "A = {1,2,3,4,5} kümesinin cardinali 5 tir \n",
    "B= {4,5,6,7} kümesinin kardinali 4 tür\n",
    "card(A U B) = 7dir {1,2,3,4,5,6,7}\n",
    "card(A n B) = 2 dir {4,5}\n",
    "Eğer iki kümenin kesişimi veya birleşimi 0 sa cardinal 0 dır\n",
    "card(A) X card(B) = card(A X B )"
   ]
  },
  {
   "cell_type": "raw",
   "id": "cf6d5164",
   "metadata": {},
   "source": [
    "### cartesian = bildiğimiz kartezyen\n",
    "Diyelim ki 3 hamburger 2 patates 2 içecek seçeneği olsun\n",
    "üçünün kartezyeni = 3 X 2 X 2 = 12 dir\n"
   ]
  },
  {
   "cell_type": "markdown",
   "id": "bb4f8899",
   "metadata": {},
   "source": [
    "Combinasyon(n)  \n",
    "           (k) = ___n!____\n",
    "                  k!(n-k)!"
   ]
  },
  {
   "cell_type": "markdown",
   "id": "1ce70ae2",
   "metadata": {},
   "source": [
    "# Probability"
   ]
  },
  {
   "cell_type": "code",
   "execution_count": null,
   "id": "215f5699",
   "metadata": {},
   "outputs": [],
   "source": []
  }
 ],
 "metadata": {
  "kernelspec": {
   "display_name": "Python 3 (ipykernel)",
   "language": "python",
   "name": "python3"
  },
  "language_info": {
   "codemirror_mode": {
    "name": "ipython",
    "version": 3
   },
   "file_extension": ".py",
   "mimetype": "text/x-python",
   "name": "python",
   "nbconvert_exporter": "python",
   "pygments_lexer": "ipython3",
   "version": "3.9.13"
  }
 },
 "nbformat": 4,
 "nbformat_minor": 5
}

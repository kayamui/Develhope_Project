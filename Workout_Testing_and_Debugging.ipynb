{
 "cells": [
  {
   "cell_type": "markdown",
   "id": "982a13da",
   "metadata": {},
   "source": [
    "# TESTING METHODS"
   ]
  },
  {
   "cell_type": "markdown",
   "id": "559254b0",
   "metadata": {},
   "source": [
    "## Unit Testing"
   ]
  },
  {
   "cell_type": "code",
   "execution_count": 1,
   "id": "650ce13c",
   "metadata": {
    "ExecuteTime": {
     "end_time": "2023-03-03T11:35:01.430764Z",
     "start_time": "2023-03-03T11:35:01.416765Z"
    }
   },
   "outputs": [],
   "source": [
    "# Validate each piece of program\n",
    "# testing each function seperately"
   ]
  },
  {
   "cell_type": "markdown",
   "id": "4759b420",
   "metadata": {},
   "source": [
    "## Regression Testing"
   ]
  },
  {
   "cell_type": "code",
   "execution_count": 2,
   "id": "3f41f6e5",
   "metadata": {
    "ExecuteTime": {
     "end_time": "2023-03-03T11:35:53.426832Z",
     "start_time": "2023-03-03T11:35:53.412830Z"
    }
   },
   "outputs": [],
   "source": [
    "# add test for bugs as you find them in a function\n",
    "# catch reintroduced errors that were previously fixed"
   ]
  },
  {
   "cell_type": "markdown",
   "id": "eb2be7d4",
   "metadata": {},
   "source": [
    "## Integration Testing"
   ]
  },
  {
   "cell_type": "code",
   "execution_count": 3,
   "id": "b94aeaa4",
   "metadata": {
    "ExecuteTime": {
     "end_time": "2023-03-03T11:36:35.928151Z",
     "start_time": "2023-03-03T11:36:35.914153Z"
    }
   },
   "outputs": [],
   "source": [
    "# does overall program work?\n",
    "# tend to rush to do this"
   ]
  },
  {
   "cell_type": "markdown",
   "id": "942f5fa3",
   "metadata": {},
   "source": [
    "# TESTING APPROACHES"
   ]
  },
  {
   "cell_type": "markdown",
   "id": "9c43774a",
   "metadata": {},
   "source": [
    "## intuition"
   ]
  },
  {
   "cell_type": "code",
   "execution_count": 15,
   "id": "e00ee746",
   "metadata": {
    "ExecuteTime": {
     "end_time": "2023-03-03T11:49:29.463961Z",
     "start_time": "2023-03-03T11:49:29.450962Z"
    }
   },
   "outputs": [],
   "source": [
    "def intuition():    \n",
    "    \"\"\"Intuition is about natural boundaries to the problem,\n",
    "    can you come up with some natural partitions?\"\"\"\n",
    "\n",
    "    def is_bigger(x, y):\n",
    "        \"\"\"Assumes x and y are ints\n",
    "        Returns True if y is less than x else False\"\"\"\n",
    "\n",
    "        return x > y\n",
    "    return help(intuition), help(is_bigger)"
   ]
  },
  {
   "cell_type": "code",
   "execution_count": 16,
   "id": "f47af03b",
   "metadata": {
    "ExecuteTime": {
     "end_time": "2023-03-03T11:49:30.688788Z",
     "start_time": "2023-03-03T11:49:30.666081Z"
    }
   },
   "outputs": [
    {
     "name": "stdout",
     "output_type": "stream",
     "text": [
      "Help on function intuition in module __main__:\n",
      "\n",
      "intuition()\n",
      "    Intuition is about natural boundaries to the problem,\n",
      "    can you come up with some natural partitions?\n",
      "\n",
      "Help on function is_bigger in module __main__:\n",
      "\n",
      "is_bigger(x, y)\n",
      "    Assumes x and y are ints\n",
      "    Returns True if y is less than x else False\n",
      "\n"
     ]
    },
    {
     "data": {
      "text/plain": [
       "(None, None)"
      ]
     },
     "execution_count": 16,
     "metadata": {},
     "output_type": "execute_result"
    }
   ],
   "source": [
    "intuition()"
   ]
  },
  {
   "cell_type": "markdown",
   "id": "baf65e6a",
   "metadata": {},
   "source": [
    "## random Testing"
   ]
  },
  {
   "cell_type": "code",
   "execution_count": 10,
   "id": "54aa720b",
   "metadata": {
    "ExecuteTime": {
     "end_time": "2023-03-03T11:47:16.095368Z",
     "start_time": "2023-03-03T11:47:16.081306Z"
    }
   },
   "outputs": [],
   "source": [
    "def random_testing():\n",
    "    \"\"\"If no natural partitions, might do random testing\n",
    "    -> Probability that code is correct increases with more tests\n",
    "    -> better options below\n",
    "    \"\"\"\n",
    "    return help(random_testing)"
   ]
  },
  {
   "cell_type": "code",
   "execution_count": 11,
   "id": "af6a30ca",
   "metadata": {
    "ExecuteTime": {
     "end_time": "2023-03-03T11:47:20.992522Z",
     "start_time": "2023-03-03T11:47:20.978522Z"
    }
   },
   "outputs": [
    {
     "name": "stdout",
     "output_type": "stream",
     "text": [
      "Help on function random_testing in module __main__:\n",
      "\n",
      "random_testing()\n",
      "    If no natural partitions, might do random testing\n",
      "    -> Probability that code is correct increases with more tests\n",
      "    -> better options below\n",
      "\n"
     ]
    }
   ],
   "source": [
    "random_testing()"
   ]
  },
  {
   "cell_type": "markdown",
   "id": "21c22e74",
   "metadata": {},
   "source": [
    "## black box testing"
   ]
  },
  {
   "cell_type": "code",
   "execution_count": 40,
   "id": "822cae21",
   "metadata": {
    "ExecuteTime": {
     "end_time": "2023-03-03T12:04:01.972062Z",
     "start_time": "2023-03-03T12:04:01.960268Z"
    }
   },
   "outputs": [],
   "source": [
    "def black_box():\n",
    "    \"\"\"explore paths through specification\"\"\"\n",
    "    \n",
    "    def sqrt(x, eps):\n",
    "        \"\"\"Assumes x, eps floats, x >= 0, eps > 0\n",
    "        Return res such that x-eps <= res*res <= x+eps\n",
    "        -> Designed without looking at the code\n",
    "        -> Can be done by someone other than the implementer to avoid some implementer bias\n",
    "        -> testing can be reused if implement<tion changes\n",
    "        -> paths through specification :\n",
    "            > build test cases in different natural space points\n",
    "            > also consider boundary conditions (empty lists, singleton list,large numbers,small numbers)\n",
    "        \"\"\"\n",
    "    return help(black_box), help(sqrt)"
   ]
  },
  {
   "cell_type": "code",
   "execution_count": 41,
   "id": "9208ec54",
   "metadata": {
    "ExecuteTime": {
     "end_time": "2023-03-03T12:04:02.140497Z",
     "start_time": "2023-03-03T12:04:02.127257Z"
    }
   },
   "outputs": [
    {
     "name": "stdout",
     "output_type": "stream",
     "text": [
      "Help on function black_box in module __main__:\n",
      "\n",
      "black_box()\n",
      "    explore paths through specification\n",
      "\n",
      "Help on function sqrt in module __main__:\n",
      "\n",
      "sqrt(x, eps)\n",
      "    Assumes x, eps floats, x >= 0, eps > 0\n",
      "    Return res such that x-eps <= res*res <= x+eps\n",
      "    -> Designed without looking at the code\n",
      "    -> Can be done by someone other than the implementer to avoid some implementer bias\n",
      "    -> testing can be reused if implement<tion changes\n",
      "    -> paths through specification :\n",
      "        > build test cases in different natural space points\n",
      "        > also consider boundary conditions (empty lists, singleton list,large numbers,small numbers)\n",
      "\n"
     ]
    },
    {
     "data": {
      "text/plain": [
       "(None, None)"
      ]
     },
     "execution_count": 41,
     "metadata": {},
     "output_type": "execute_result"
    }
   ],
   "source": [
    "black_box()"
   ]
  },
  {
   "cell_type": "markdown",
   "id": "dff18ffa",
   "metadata": {},
   "source": [
    "## glass box testing"
   ]
  },
  {
   "cell_type": "code",
   "execution_count": 50,
   "id": "d5cd3a65",
   "metadata": {
    "ExecuteTime": {
     "end_time": "2023-03-03T12:18:44.556289Z",
     "start_time": "2023-03-03T12:18:44.541650Z"
    }
   },
   "outputs": [],
   "source": [
    "def glass_box():\n",
    "    \"\"\"explore paths through code\n",
    "    -> Use code directly to guide design of test cases\n",
    "    -> Called path-complete if every potential path through code is tested at least once\n",
    "    -> What are the some drawbacks of this type of testing? :\n",
    "        > can go through loop arbitrarily many times\n",
    "        > missing paths\n",
    "    -> Guidelines :\n",
    "        > branches: \n",
    "            -- exercise all part of a conditional\n",
    "        > for loops:\n",
    "            -- loop not entered\n",
    "            -- body of loop executed only once\n",
    "            -- body of loop executed more than once\n",
    "        > while loops:\n",
    "            -- same as for loops, cases that catch all ways to exit loop\n",
    "    \"\"\"\n",
    "    def abs(x):\n",
    "        \"\"\" Assumes x is an int\n",
    "           Returns x if x >= 0 and  -x otherwise \n",
    "           -> A path-complete test suite could miss a bug :\n",
    "               > path-complete test suite: 2 and -2\n",
    "               > but abs(-1) incorrectly returns -1\n",
    "               > should still test boundary cases\n",
    "           \"\"\"\n",
    "        if x < -1:\n",
    "            return -x\n",
    "        else:\n",
    "            return x\n",
    "    \n",
    "    return help(glass_box), help(abs)"
   ]
  },
  {
   "cell_type": "code",
   "execution_count": 51,
   "id": "27db97b7",
   "metadata": {
    "ExecuteTime": {
     "end_time": "2023-03-03T12:18:44.750286Z",
     "start_time": "2023-03-03T12:18:44.735137Z"
    }
   },
   "outputs": [
    {
     "name": "stdout",
     "output_type": "stream",
     "text": [
      "Help on function glass_box in module __main__:\n",
      "\n",
      "glass_box()\n",
      "    explore paths through code\n",
      "    -> Use code directly to guide design of test cases\n",
      "    -> Called path-complete if every potential path through code is tested at least once\n",
      "    -> What are the some drawbacks of this type of testing? :\n",
      "        > can go through loop arbitrarily many times\n",
      "        > missing paths\n",
      "    -> Guidelines :\n",
      "        > branches: \n",
      "            -- exercise all part of a conditional\n",
      "        > for loops:\n",
      "            -- loop not entered\n",
      "            -- body of loop executed only once\n",
      "            -- body of loop executed more than once\n",
      "        > while loops:\n",
      "            -- same as for loops, cases that catch all ways to exit loop\n",
      "\n",
      "Help on function abs in module __main__:\n",
      "\n",
      "abs(x)\n",
      "    Assumes x is an int\n",
      "    Returns x if x >= 0 and  -x otherwise \n",
      "    -> A path-complete test suite could miss a bug :\n",
      "        > path-complete test suite: 2 and -2\n",
      "        > but abs(-1) incorrectly returns -1\n",
      "        > should still test boundary cases\n",
      "\n"
     ]
    },
    {
     "data": {
      "text/plain": [
       "(None, None)"
      ]
     },
     "execution_count": 51,
     "metadata": {},
     "output_type": "execute_result"
    }
   ],
   "source": [
    "glass_box()"
   ]
  },
  {
   "cell_type": "code",
   "execution_count": null,
   "id": "04aa36b3",
   "metadata": {},
   "outputs": [],
   "source": []
  }
 ],
 "metadata": {
  "kernelspec": {
   "display_name": "Python 3 (ipykernel)",
   "language": "python",
   "name": "python3"
  },
  "language_info": {
   "codemirror_mode": {
    "name": "ipython",
    "version": 3
   },
   "file_extension": ".py",
   "mimetype": "text/x-python",
   "name": "python",
   "nbconvert_exporter": "python",
   "pygments_lexer": "ipython3",
   "version": "3.9.13"
  },
  "toc": {
   "base_numbering": 1,
   "nav_menu": {},
   "number_sections": true,
   "sideBar": true,
   "skip_h1_title": false,
   "title_cell": "Table of Contents",
   "title_sidebar": "Contents",
   "toc_cell": false,
   "toc_position": {},
   "toc_section_display": true,
   "toc_window_display": false
  },
  "varInspector": {
   "cols": {
    "lenName": 16,
    "lenType": 16,
    "lenVar": 40
   },
   "kernels_config": {
    "python": {
     "delete_cmd_postfix": "",
     "delete_cmd_prefix": "del ",
     "library": "var_list.py",
     "varRefreshCmd": "print(var_dic_list())"
    },
    "r": {
     "delete_cmd_postfix": ") ",
     "delete_cmd_prefix": "rm(",
     "library": "var_list.r",
     "varRefreshCmd": "cat(var_dic_list()) "
    }
   },
   "types_to_exclude": [
    "module",
    "function",
    "builtin_function_or_method",
    "instance",
    "_Feature"
   ],
   "window_display": false
  }
 },
 "nbformat": 4,
 "nbformat_minor": 5
}

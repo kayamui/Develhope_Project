{
 "cells": [
  {
   "cell_type": "markdown",
   "id": "6862149d",
   "metadata": {},
   "source": [
    "# Dictionaries"
   ]
  },
  {
   "cell_type": "code",
   "execution_count": 2,
   "id": "60c77441",
   "metadata": {},
   "outputs": [],
   "source": [
    "notlar = [80, 72, 95]"
   ]
  },
  {
   "cell_type": "code",
   "execution_count": 3,
   "id": "25198e41",
   "metadata": {},
   "outputs": [],
   "source": [
    "isim = [\"Deniz\", \"Ege\", \"Gizem\"]"
   ]
  },
  {
   "cell_type": "code",
   "execution_count": 51,
   "id": "ed232da4",
   "metadata": {},
   "outputs": [
    {
     "data": {
      "text/plain": [
       "'Deniz'"
      ]
     },
     "execution_count": 51,
     "metadata": {},
     "output_type": "execute_result"
    }
   ],
   "source": [
    "isim[0]"
   ]
  },
  {
   "cell_type": "code",
   "execution_count": 52,
   "id": "4ce87b8a",
   "metadata": {},
   "outputs": [
    {
     "data": {
      "text/plain": [
       "80"
      ]
     },
     "execution_count": 52,
     "metadata": {},
     "output_type": "execute_result"
    }
   ],
   "source": [
    "notlar[0]"
   ]
  },
  {
   "cell_type": "code",
   "execution_count": 6,
   "id": "8c5563d9",
   "metadata": {},
   "outputs": [
    {
     "name": "stdout",
     "output_type": "stream",
     "text": [
      "Deniz adlı öğrencinin notu 80\n"
     ]
    }
   ],
   "source": [
    "print(isim[0], \"adlı öğrencinin notu\", notlar[0])"
   ]
  },
  {
   "cell_type": "code",
   "execution_count": 62,
   "id": "48e55732",
   "metadata": {},
   "outputs": [],
   "source": [
    "ogr_no = [703, 408, 690]"
   ]
  },
  {
   "cell_type": "code",
   "execution_count": 56,
   "id": "1f30794e",
   "metadata": {},
   "outputs": [
    {
     "data": {
      "text/plain": [
       "'Deniz'"
      ]
     },
     "execution_count": 56,
     "metadata": {},
     "output_type": "execute_result"
    }
   ],
   "source": [
    "isim[0]"
   ]
  },
  {
   "cell_type": "code",
   "execution_count": 57,
   "id": "ea8b8232",
   "metadata": {},
   "outputs": [
    {
     "data": {
      "text/plain": [
       "80"
      ]
     },
     "execution_count": 57,
     "metadata": {},
     "output_type": "execute_result"
    }
   ],
   "source": [
    "notlar[0]"
   ]
  },
  {
   "cell_type": "code",
   "execution_count": 63,
   "id": "aaa25400",
   "metadata": {},
   "outputs": [
    {
     "data": {
      "text/plain": [
       "703"
      ]
     },
     "execution_count": 63,
     "metadata": {},
     "output_type": "execute_result"
    }
   ],
   "source": [
    "ogr_no[0]"
   ]
  },
  {
   "cell_type": "code",
   "execution_count": 64,
   "id": "19d78a68",
   "metadata": {},
   "outputs": [],
   "source": [
    "notlar = {\"Ege\": 72, \"Deniz\": 80, \"Gizem\" : 95}"
   ]
  },
  {
   "cell_type": "code",
   "execution_count": 65,
   "id": "bcf53c01",
   "metadata": {},
   "outputs": [
    {
     "data": {
      "text/plain": [
       "72"
      ]
     },
     "execution_count": 65,
     "metadata": {},
     "output_type": "execute_result"
    }
   ],
   "source": [
    "notlar[\"Ege\"]"
   ]
  },
  {
   "cell_type": "code",
   "execution_count": 66,
   "id": "178b4cc4",
   "metadata": {},
   "outputs": [
    {
     "data": {
      "text/plain": [
       "95"
      ]
     },
     "execution_count": 66,
     "metadata": {},
     "output_type": "execute_result"
    }
   ],
   "source": [
    "notlar[\"Gizem\"]"
   ]
  },
  {
   "cell_type": "code",
   "execution_count": 67,
   "id": "9ee24455",
   "metadata": {},
   "outputs": [],
   "source": [
    "ogrenciler = {\"Deniz\" : {\"not\" : 80, \"ogrenci_no\" : 703}, \"Ege\": {\"not\":72, \"ogrenci_no\": 408}, \"Gizem\" : {\"not\": 95, \"ogrenci_no\": 690}}"
   ]
  },
  {
   "cell_type": "code",
   "execution_count": 68,
   "id": "42867a07",
   "metadata": {},
   "outputs": [
    {
     "data": {
      "text/plain": [
       "{'not': 80, 'ogrenci_no': 703}"
      ]
     },
     "execution_count": 68,
     "metadata": {},
     "output_type": "execute_result"
    }
   ],
   "source": [
    "ogrenciler[\"Deniz\"]"
   ]
  },
  {
   "cell_type": "code",
   "execution_count": 8,
   "id": "70f5a7b2",
   "metadata": {},
   "outputs": [],
   "source": [
    "l = [1,2,3,4]"
   ]
  },
  {
   "cell_type": "code",
   "execution_count": 9,
   "id": "d0a03c0e",
   "metadata": {},
   "outputs": [
    {
     "data": {
      "text/plain": [
       "1"
      ]
     },
     "execution_count": 9,
     "metadata": {},
     "output_type": "execute_result"
    }
   ],
   "source": [
    "l[0] #in lists you use numbers for locations, but in dictionaries you use keywords for your search"
   ]
  },
  {
   "cell_type": "code",
   "execution_count": 72,
   "id": "3af14bc6",
   "metadata": {},
   "outputs": [
    {
     "data": {
      "text/plain": [
       "80"
      ]
     },
     "execution_count": 72,
     "metadata": {},
     "output_type": "execute_result"
    }
   ],
   "source": [
    "ogrenciler[\"Deniz\"][\"not\"]"
   ]
  },
  {
   "cell_type": "code",
   "execution_count": 74,
   "id": "b2e2f020",
   "metadata": {},
   "outputs": [
    {
     "data": {
      "text/plain": [
       "408"
      ]
     },
     "execution_count": 74,
     "metadata": {},
     "output_type": "execute_result"
    }
   ],
   "source": [
    "ogrenciler[\"Ege\"][\"ogrenci_no\"]"
   ]
  },
  {
   "cell_type": "markdown",
   "id": "2947b0ff",
   "metadata": {},
   "source": [
    "# Searching for a key doesn't exist"
   ]
  },
  {
   "cell_type": "code",
   "execution_count": 75,
   "id": "f2d5d5f8",
   "metadata": {},
   "outputs": [
    {
     "data": {
      "text/plain": [
       "{'Ege': 72, 'Deniz': 80, 'Gizem': 95}"
      ]
     },
     "execution_count": 75,
     "metadata": {},
     "output_type": "execute_result"
    }
   ],
   "source": [
    "notlar"
   ]
  },
  {
   "cell_type": "code",
   "execution_count": 76,
   "id": "2065ea1e",
   "metadata": {},
   "outputs": [
    {
     "ename": "KeyError",
     "evalue": "'Mert'",
     "output_type": "error",
     "traceback": [
      "\u001b[1;31m---------------------------------------------------------------------------\u001b[0m",
      "\u001b[1;31mKeyError\u001b[0m                                  Traceback (most recent call last)",
      "\u001b[1;32m~\\AppData\\Local\\Temp\\ipykernel_10136\\3837485061.py\u001b[0m in \u001b[0;36m<module>\u001b[1;34m\u001b[0m\n\u001b[1;32m----> 1\u001b[1;33m \u001b[0mnotlar\u001b[0m\u001b[1;33m[\u001b[0m\u001b[1;34m\"Mert\"\u001b[0m\u001b[1;33m]\u001b[0m\u001b[1;33m\u001b[0m\u001b[1;33m\u001b[0m\u001b[0m\n\u001b[0m",
      "\u001b[1;31mKeyError\u001b[0m: 'Mert'"
     ]
    }
   ],
   "source": [
    "notlar[\"Mert\"]"
   ]
  },
  {
   "cell_type": "code",
   "execution_count": 77,
   "id": "adbf3334",
   "metadata": {},
   "outputs": [
    {
     "ename": "KeyError",
     "evalue": "0",
     "output_type": "error",
     "traceback": [
      "\u001b[1;31m---------------------------------------------------------------------------\u001b[0m",
      "\u001b[1;31mKeyError\u001b[0m                                  Traceback (most recent call last)",
      "\u001b[1;32m~\\AppData\\Local\\Temp\\ipykernel_10136\\3376965370.py\u001b[0m in \u001b[0;36m<module>\u001b[1;34m\u001b[0m\n\u001b[1;32m----> 1\u001b[1;33m \u001b[0mnotlar\u001b[0m\u001b[1;33m[\u001b[0m\u001b[1;36m0\u001b[0m\u001b[1;33m]\u001b[0m\u001b[1;33m\u001b[0m\u001b[1;33m\u001b[0m\u001b[0m\n\u001b[0m",
      "\u001b[1;31mKeyError\u001b[0m: 0"
     ]
    }
   ],
   "source": [
    "notlar[0]"
   ]
  },
  {
   "cell_type": "code",
   "execution_count": 78,
   "id": "0ed34083",
   "metadata": {},
   "outputs": [],
   "source": [
    "notlar = {'Ege': 72, 'Deniz': 80, 'Gizem': 95, 0:20}"
   ]
  },
  {
   "cell_type": "code",
   "execution_count": 79,
   "id": "0a1ba5cf",
   "metadata": {},
   "outputs": [
    {
     "data": {
      "text/plain": [
       "20"
      ]
     },
     "execution_count": 79,
     "metadata": {},
     "output_type": "execute_result"
    }
   ],
   "source": [
    "notlar[0]"
   ]
  },
  {
   "cell_type": "markdown",
   "id": "efdc1f11",
   "metadata": {},
   "source": [
    "# Changing values in Dictionaries"
   ]
  },
  {
   "cell_type": "code",
   "execution_count": 81,
   "id": "dfe4920a",
   "metadata": {},
   "outputs": [
    {
     "data": {
      "text/plain": [
       "{'Ege': 72, 'Deniz': 80, 'Gizem': 95, 0: 20}"
      ]
     },
     "execution_count": 81,
     "metadata": {},
     "output_type": "execute_result"
    }
   ],
   "source": [
    "notlar"
   ]
  },
  {
   "cell_type": "code",
   "execution_count": 82,
   "id": "9310f078",
   "metadata": {},
   "outputs": [],
   "source": [
    "notlar[\"Ege\"] += 5"
   ]
  },
  {
   "cell_type": "code",
   "execution_count": 83,
   "id": "9d1e829b",
   "metadata": {},
   "outputs": [
    {
     "data": {
      "text/plain": [
       "{'Ege': 77, 'Deniz': 80, 'Gizem': 95, 0: 20}"
      ]
     },
     "execution_count": 83,
     "metadata": {},
     "output_type": "execute_result"
    }
   ],
   "source": [
    "notlar"
   ]
  },
  {
   "cell_type": "code",
   "execution_count": 84,
   "id": "edb73331",
   "metadata": {},
   "outputs": [
    {
     "data": {
      "text/plain": [
       "{'Deniz': {'not': 80, 'ogrenci_no': 703},\n",
       " 'Ege': {'not': 72, 'ogrenci_no': 408},\n",
       " 'Gizem': {'not': 95, 'ogrenci_no': 690}}"
      ]
     },
     "execution_count": 84,
     "metadata": {},
     "output_type": "execute_result"
    }
   ],
   "source": [
    "ogrenciler"
   ]
  },
  {
   "cell_type": "code",
   "execution_count": 85,
   "id": "a6577f04",
   "metadata": {},
   "outputs": [
    {
     "ename": "TypeError",
     "evalue": "unsupported operand type(s) for +=: 'dict' and 'int'",
     "output_type": "error",
     "traceback": [
      "\u001b[1;31m---------------------------------------------------------------------------\u001b[0m",
      "\u001b[1;31mTypeError\u001b[0m                                 Traceback (most recent call last)",
      "\u001b[1;32m~\\AppData\\Local\\Temp\\ipykernel_10136\\1068616658.py\u001b[0m in \u001b[0;36m<module>\u001b[1;34m\u001b[0m\n\u001b[1;32m----> 1\u001b[1;33m \u001b[0mogrenciler\u001b[0m\u001b[1;33m[\u001b[0m\u001b[1;34m\"Deniz\"\u001b[0m\u001b[1;33m]\u001b[0m \u001b[1;33m+=\u001b[0m \u001b[1;36m5\u001b[0m\u001b[1;33m\u001b[0m\u001b[1;33m\u001b[0m\u001b[0m\n\u001b[0m",
      "\u001b[1;31mTypeError\u001b[0m: unsupported operand type(s) for +=: 'dict' and 'int'"
     ]
    }
   ],
   "source": [
    "ogrenciler[\"Deniz\"] += 5"
   ]
  },
  {
   "cell_type": "code",
   "execution_count": 86,
   "id": "958c752b",
   "metadata": {},
   "outputs": [],
   "source": [
    "ogrenciler[\"Deniz\"][\"not\"] += 5"
   ]
  },
  {
   "cell_type": "code",
   "execution_count": 87,
   "id": "29975888",
   "metadata": {},
   "outputs": [
    {
     "data": {
      "text/plain": [
       "85"
      ]
     },
     "execution_count": 87,
     "metadata": {},
     "output_type": "execute_result"
    }
   ],
   "source": [
    "ogrenciler [\"Deniz\"][\"not\"]"
   ]
  },
  {
   "cell_type": "markdown",
   "id": "0bee9095",
   "metadata": {},
   "source": [
    "# len()"
   ]
  },
  {
   "cell_type": "code",
   "execution_count": 88,
   "id": "1ad8e0e5",
   "metadata": {},
   "outputs": [
    {
     "data": {
      "text/plain": [
       "{'Ege': 77, 'Deniz': 80, 'Gizem': 95, 0: 20}"
      ]
     },
     "execution_count": 88,
     "metadata": {},
     "output_type": "execute_result"
    }
   ],
   "source": [
    "notlar"
   ]
  },
  {
   "cell_type": "code",
   "execution_count": 89,
   "id": "99095c02",
   "metadata": {},
   "outputs": [
    {
     "data": {
      "text/plain": [
       "4"
      ]
     },
     "execution_count": 89,
     "metadata": {},
     "output_type": "execute_result"
    }
   ],
   "source": [
    "len(notlar)"
   ]
  },
  {
   "cell_type": "markdown",
   "id": "f067b85c",
   "metadata": {},
   "source": [
    "# Adding Values"
   ]
  },
  {
   "cell_type": "code",
   "execution_count": 93,
   "id": "0cbb6e36",
   "metadata": {},
   "outputs": [
    {
     "data": {
      "text/plain": [
       "{'Ege': 77, 'Deniz': 80, 'Gizem': 95, 0: 20}"
      ]
     },
     "execution_count": 93,
     "metadata": {},
     "output_type": "execute_result"
    }
   ],
   "source": [
    "notlar"
   ]
  },
  {
   "cell_type": "code",
   "execution_count": 94,
   "id": "3b1a86e1",
   "metadata": {},
   "outputs": [],
   "source": [
    "notlar[\"Mert\"] = 58"
   ]
  },
  {
   "cell_type": "code",
   "execution_count": 95,
   "id": "f9cc1792",
   "metadata": {},
   "outputs": [
    {
     "data": {
      "text/plain": [
       "{'Ege': 77, 'Deniz': 80, 'Gizem': 95, 0: 20, 'Mert': 58}"
      ]
     },
     "execution_count": 95,
     "metadata": {},
     "output_type": "execute_result"
    }
   ],
   "source": [
    "notlar"
   ]
  },
  {
   "cell_type": "markdown",
   "id": "911e5cdd",
   "metadata": {},
   "source": [
    "\n",
    "# Deleting Values"
   ]
  },
  {
   "cell_type": "code",
   "execution_count": 96,
   "id": "8d4be5a7",
   "metadata": {},
   "outputs": [
    {
     "data": {
      "text/plain": [
       "{'Ege': 77, 'Deniz': 80, 'Gizem': 95, 0: 20, 'Mert': 58}"
      ]
     },
     "execution_count": 96,
     "metadata": {},
     "output_type": "execute_result"
    }
   ],
   "source": [
    "notlar"
   ]
  },
  {
   "cell_type": "code",
   "execution_count": 97,
   "id": "fe0b87e4",
   "metadata": {},
   "outputs": [],
   "source": [
    "del notlar[0]"
   ]
  },
  {
   "cell_type": "code",
   "execution_count": 98,
   "id": "f9705e5c",
   "metadata": {},
   "outputs": [
    {
     "data": {
      "text/plain": [
       "{'Ege': 77, 'Deniz': 80, 'Gizem': 95, 'Mert': 58}"
      ]
     },
     "execution_count": 98,
     "metadata": {},
     "output_type": "execute_result"
    }
   ],
   "source": [
    "notlar"
   ]
  },
  {
   "cell_type": "markdown",
   "id": "33f93c8b",
   "metadata": {},
   "source": [
    "# Only immutable(non-changing) values can be keys"
   ]
  },
  {
   "cell_type": "code",
   "execution_count": 14,
   "id": "7f4c10bb",
   "metadata": {},
   "outputs": [],
   "source": [
    "d = {1:2, 3:\"b\"}"
   ]
  },
  {
   "cell_type": "code",
   "execution_count": 101,
   "id": "47707fce",
   "metadata": {},
   "outputs": [
    {
     "data": {
      "text/plain": [
       "2"
      ]
     },
     "execution_count": 101,
     "metadata": {},
     "output_type": "execute_result"
    }
   ],
   "source": [
    "d[1]"
   ]
  },
  {
   "cell_type": "code",
   "execution_count": 102,
   "id": "a3ee477a",
   "metadata": {},
   "outputs": [
    {
     "data": {
      "text/plain": [
       "'b'"
      ]
     },
     "execution_count": 102,
     "metadata": {},
     "output_type": "execute_result"
    }
   ],
   "source": [
    "d[3]"
   ]
  },
  {
   "cell_type": "code",
   "execution_count": 103,
   "id": "f43fc47d",
   "metadata": {},
   "outputs": [],
   "source": [
    "d2 = {(1,2):\"a\", (4,5):[1, 2, 3]}"
   ]
  },
  {
   "cell_type": "code",
   "execution_count": 104,
   "id": "b01eafc9",
   "metadata": {},
   "outputs": [
    {
     "data": {
      "text/plain": [
       "'a'"
      ]
     },
     "execution_count": 104,
     "metadata": {},
     "output_type": "execute_result"
    }
   ],
   "source": [
    "d2[(1,2)]"
   ]
  },
  {
   "cell_type": "code",
   "execution_count": 105,
   "id": "7e9b7927",
   "metadata": {},
   "outputs": [
    {
     "data": {
      "text/plain": [
       "[1, 2, 3]"
      ]
     },
     "execution_count": 105,
     "metadata": {},
     "output_type": "execute_result"
    }
   ],
   "source": [
    "d2[(4,5)]"
   ]
  },
  {
   "cell_type": "code",
   "execution_count": 13,
   "id": "7cffaad8",
   "metadata": {},
   "outputs": [
    {
     "ename": "SyntaxError",
     "evalue": "invalid syntax (4054408216.py, line 1)",
     "output_type": "error",
     "traceback": [
      "\u001b[1;36m  File \u001b[1;32m\"C:\\Users\\mkaya\\AppData\\Local\\Temp\\ipykernel_7228\\4054408216.py\"\u001b[1;36m, line \u001b[1;32m1\u001b[0m\n\u001b[1;33m    d{[1,2] : 4} #It gives error because lists are mutable(can be changed)\u001b[0m\n\u001b[1;37m     ^\u001b[0m\n\u001b[1;31mSyntaxError\u001b[0m\u001b[1;31m:\u001b[0m invalid syntax\n"
     ]
    }
   ],
   "source": [
    "d{[1,2] : 4} #It gives error because lists are mutable(can be changed)"
   ]
  },
  {
   "cell_type": "markdown",
   "id": "277a2c08",
   "metadata": {},
   "source": [
    "# Creating an empty dictionary"
   ]
  },
  {
   "cell_type": "code",
   "execution_count": 108,
   "id": "7227aae7",
   "metadata": {},
   "outputs": [],
   "source": [
    "d = {}"
   ]
  },
  {
   "cell_type": "code",
   "execution_count": 111,
   "id": "17394b0b",
   "metadata": {},
   "outputs": [],
   "source": [
    "d[1] =\"a\""
   ]
  },
  {
   "cell_type": "code",
   "execution_count": 112,
   "id": "05f4ef47",
   "metadata": {},
   "outputs": [
    {
     "data": {
      "text/plain": [
       "{1: 'a'}"
      ]
     },
     "execution_count": 112,
     "metadata": {},
     "output_type": "execute_result"
    }
   ],
   "source": [
    "d"
   ]
  },
  {
   "cell_type": "code",
   "execution_count": 113,
   "id": "02010208",
   "metadata": {},
   "outputs": [
    {
     "data": {
      "text/plain": [
       "{'Ege': 77, 'Deniz': 80, 'Gizem': 95, 'Mert': 58}"
      ]
     },
     "execution_count": 113,
     "metadata": {},
     "output_type": "execute_result"
    }
   ],
   "source": [
    "notlar"
   ]
  },
  {
   "cell_type": "code",
   "execution_count": 114,
   "id": "e7065fdb",
   "metadata": {},
   "outputs": [
    {
     "data": {
      "text/plain": [
       "True"
      ]
     },
     "execution_count": 114,
     "metadata": {},
     "output_type": "execute_result"
    }
   ],
   "source": [
    "\"Mert\" in notlar"
   ]
  },
  {
   "cell_type": "code",
   "execution_count": 115,
   "id": "5a960849",
   "metadata": {},
   "outputs": [
    {
     "data": {
      "text/plain": [
       "False"
      ]
     },
     "execution_count": 115,
     "metadata": {},
     "output_type": "execute_result"
    }
   ],
   "source": [
    "\"Muhammed\" in notlar"
   ]
  },
  {
   "cell_type": "code",
   "execution_count": null,
   "id": "97bdfa8c",
   "metadata": {},
   "outputs": [],
   "source": []
  }
 ],
 "metadata": {
  "kernelspec": {
   "display_name": "Python 3 (ipykernel)",
   "language": "python",
   "name": "python3"
  },
  "language_info": {
   "codemirror_mode": {
    "name": "ipython",
    "version": 3
   },
   "file_extension": ".py",
   "mimetype": "text/x-python",
   "name": "python",
   "nbconvert_exporter": "python",
   "pygments_lexer": "ipython3",
   "version": "3.9.13"
  }
 },
 "nbformat": 4,
 "nbformat_minor": 5
}

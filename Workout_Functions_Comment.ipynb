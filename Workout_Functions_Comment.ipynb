{
 "cells": [
  {
   "cell_type": "markdown",
   "id": "841fd18a",
   "metadata": {},
   "source": [
    "# Fonksiyonlara açıklama yazmak"
   ]
  },
  {
   "cell_type": "code",
   "execution_count": 1,
   "id": "3aba0ec0",
   "metadata": {},
   "outputs": [],
   "source": [
    "def square(x):\n",
    "    res = x * x\n",
    "    return res"
   ]
  },
  {
   "cell_type": "code",
   "execution_count": 2,
   "id": "a5007ee7",
   "metadata": {},
   "outputs": [
    {
     "data": {
      "text/plain": [
       "9"
      ]
     },
     "execution_count": 2,
     "metadata": {},
     "output_type": "execute_result"
    }
   ],
   "source": [
    "square(3)"
   ]
  },
  {
   "cell_type": "code",
   "execution_count": 3,
   "id": "8ea2423c",
   "metadata": {},
   "outputs": [],
   "source": [
    "?square"
   ]
  },
  {
   "cell_type": "code",
   "execution_count": 4,
   "id": "d78ba96a",
   "metadata": {},
   "outputs": [],
   "source": [
    "??square"
   ]
  },
  {
   "cell_type": "code",
   "execution_count": 20,
   "id": "ab181059",
   "metadata": {},
   "outputs": [],
   "source": [
    "# üç tırnak işareti comment ekler fonksiyonun başına ? soru işareti getirerek o fonksiyonda comment olup olmadığını kontrol edersin\n",
    "def square2(x):\n",
    "    res= x * x\n",
    "    \"\"\"\n",
    "         x'n karesini hesaplar\n",
    "    \"\"\"\n",
    "    return res"
   ]
  },
  {
   "cell_type": "code",
   "execution_count": 21,
   "id": "11d4b2a3",
   "metadata": {},
   "outputs": [],
   "source": [
    "?square2"
   ]
  },
  {
   "cell_type": "code",
   "execution_count": 22,
   "id": "90508755",
   "metadata": {},
   "outputs": [],
   "source": [
    "??square2"
   ]
  },
  {
   "cell_type": "code",
   "execution_count": null,
   "id": "3e5953bf",
   "metadata": {},
   "outputs": [],
   "source": []
  }
 ],
 "metadata": {
  "kernelspec": {
   "display_name": "Python 3 (ipykernel)",
   "language": "python",
   "name": "python3"
  },
  "language_info": {
   "codemirror_mode": {
    "name": "ipython",
    "version": 3
   },
   "file_extension": ".py",
   "mimetype": "text/x-python",
   "name": "python",
   "nbconvert_exporter": "python",
   "pygments_lexer": "ipython3",
   "version": "3.9.13"
  }
 },
 "nbformat": 4,
 "nbformat_minor": 5
}

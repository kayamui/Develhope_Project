{
 "cells": [
  {
   "cell_type": "markdown",
   "id": "473adbc7",
   "metadata": {},
   "source": [
    "# Class Tanımlamak"
   ]
  },
  {
   "cell_type": "code",
   "execution_count": 3,
   "id": "ee74c61b",
   "metadata": {},
   "outputs": [],
   "source": [
    "# Fonksiyon mantığında belli mantığa sahip fonksiyonları görmüştük, \n",
    "#class mantığında hem fonksiyon hem veriyi bir arada tutmayı öğreneceğiz"
   ]
  },
  {
   "cell_type": "code",
   "execution_count": 4,
   "id": "e41222a1",
   "metadata": {},
   "outputs": [],
   "source": [
    "#Classın içindeki verilere(datalara) attribute, fonksiyonlara method diyeceğiz"
   ]
  },
  {
   "cell_type": "code",
   "execution_count": 5,
   "id": "5913e1dc",
   "metadata": {},
   "outputs": [],
   "source": [
    "#Diyelim ki bir iş yeri çalışanları kodumuzda ilerlemek istiyoruz,\n",
    "#işyeri : class , çalışanların_özellikleri : attribute , yaptıkları_iş : method olur"
   ]
  },
  {
   "cell_type": "code",
   "execution_count": 6,
   "id": "760efe67",
   "metadata": {},
   "outputs": [],
   "source": [
    "#fonksiyon tanımlarken def kullanıyorduk class yaratırken class diyoruz"
   ]
  },
  {
   "cell_type": "markdown",
   "id": "78f59056",
   "metadata": {},
   "source": [
    "# Attribute"
   ]
  },
  {
   "cell_type": "code",
   "execution_count": 8,
   "id": "eed83dbf",
   "metadata": {},
   "outputs": [
    {
     "ename": "IndentationError",
     "evalue": "expected an indented block (1128266490.py, line 2)",
     "output_type": "error",
     "traceback": [
      "\u001b[0;36m  File \u001b[0;32m\"/var/folders/cr/dmdsfj5n5r9ccpwhwhw9_1c80000gn/T/ipykernel_35876/1128266490.py\"\u001b[0;36m, line \u001b[0;32m2\u001b[0m\n\u001b[0;31m    class Employee:\u001b[0m\n\u001b[0m                   ^\u001b[0m\n\u001b[0;31mIndentationError\u001b[0m\u001b[0;31m:\u001b[0m expected an indented block\n"
     ]
    }
   ],
   "source": [
    "#içi boş olduğu için hata veriyor\n",
    "class Employee:"
   ]
  },
  {
   "cell_type": "code",
   "execution_count": 9,
   "id": "bc798463",
   "metadata": {},
   "outputs": [],
   "source": [
    "# içi boş olup da hata vermesin istiyorsam pass yazmam lazım\n",
    "class Employee:\n",
    "    pass"
   ]
  },
  {
   "cell_type": "code",
   "execution_count": 10,
   "id": "9379965b",
   "metadata": {},
   "outputs": [],
   "source": [
    "#Employee classına e objesini oluşturdum\n",
    "e = Employee()"
   ]
  },
  {
   "cell_type": "raw",
   "id": "5bedd53b",
   "metadata": {},
   "source": [
    "#Şimdi diyelim ki elimizde araba planı var bu plan class oluyor. içinde çeşit çeşit arabalar var bu arabaların her biri obje oluyor. Bir de bu arabaların çeşitli özellikleri var kırmızı mavi sarı gibi. Bunlar da arabanın attribute u oluyor"
   ]
  },
  {
   "cell_type": "code",
   "execution_count": 12,
   "id": "492bb4c8",
   "metadata": {},
   "outputs": [],
   "source": [
    "#e objesine a attribute u ekledim\n",
    "e.a = 4"
   ]
  },
  {
   "cell_type": "code",
   "execution_count": 13,
   "id": "61d8c59f",
   "metadata": {},
   "outputs": [],
   "source": [
    "#Şimdi böyle tek tek yazmak yerine en baştan da atrributeları verebiliriz"
   ]
  },
  {
   "cell_type": "code",
   "execution_count": 21,
   "id": "5c7517d6",
   "metadata": {},
   "outputs": [],
   "source": [
    "#buradaki self biz aksini belirtmedikçe kendisi class tarafından otomatik atanıyor objeyi çağırmak için kullanıyoruz\n",
    "class Employee:\n",
    "    def __init__(self, name, last_name, age, pay):\n",
    "        self.name = name\n",
    "        self.last_name = last_name\n",
    "        self.age = age\n",
    "        self.pay = pay"
   ]
  },
  {
   "cell_type": "raw",
   "id": "98330544",
   "metadata": {},
   "source": [
    "Class bunlardan objeler yaratmak için bir kalıptır sadece!"
   ]
  },
  {
   "cell_type": "code",
   "execution_count": 22,
   "id": "74af9939",
   "metadata": {},
   "outputs": [],
   "source": [
    "emp_1 = Employee(\"james\", \"Hughes\", \"32\", 5000)"
   ]
  },
  {
   "cell_type": "code",
   "execution_count": 23,
   "id": "ef744559",
   "metadata": {},
   "outputs": [],
   "source": [
    "emp_2 = Employee(\"Charlie\", \"Brown\", \"32\", 3000) "
   ]
  },
  {
   "cell_type": "code",
   "execution_count": 24,
   "id": "8e6fe2ba",
   "metadata": {},
   "outputs": [
    {
     "data": {
      "text/plain": [
       "'james'"
      ]
     },
     "execution_count": 24,
     "metadata": {},
     "output_type": "execute_result"
    }
   ],
   "source": [
    "emp_1.name"
   ]
  },
  {
   "cell_type": "markdown",
   "id": "c49913fb",
   "metadata": {},
   "source": [
    "# Method"
   ]
  },
  {
   "cell_type": "code",
   "execution_count": 38,
   "id": "16683610",
   "metadata": {},
   "outputs": [],
   "source": [
    "class Employee:\n",
    "    def __init__(self, name, surname, age , pay):\n",
    "        self.name = name\n",
    "        self.surname = surname\n",
    "        self.age = age\n",
    "        self.pay = pay\n",
    "    def fullname(self):\n",
    "        print(f\"Full name of employee is {self.name} {self.surname}\")"
   ]
  },
  {
   "cell_type": "code",
   "execution_count": 39,
   "id": "5ade3fe4",
   "metadata": {},
   "outputs": [],
   "source": [
    "emp_1 = Employee(\"Muhammed\", \"Kaya\", 27, 13500)"
   ]
  },
  {
   "cell_type": "code",
   "execution_count": 40,
   "id": "ae461530",
   "metadata": {},
   "outputs": [],
   "source": [
    "emp_2 = Employee(\"Charlie\" , \"Brown\", 32, 3000)"
   ]
  },
  {
   "cell_type": "code",
   "execution_count": 41,
   "id": "ad4d2b5f",
   "metadata": {},
   "outputs": [
    {
     "name": "stdout",
     "output_type": "stream",
     "text": [
      "Full name of employee is Muhammed Kaya\n"
     ]
    }
   ],
   "source": [
    "emp_1.fullname()"
   ]
  },
  {
   "cell_type": "code",
   "execution_count": 42,
   "id": "0137ad3e",
   "metadata": {},
   "outputs": [
    {
     "name": "stdout",
     "output_type": "stream",
     "text": [
      "Full name of employee is Charlie Brown\n"
     ]
    }
   ],
   "source": [
    "emp_2.fullname()"
   ]
  },
  {
   "cell_type": "code",
   "execution_count": 43,
   "id": "4972abba",
   "metadata": {},
   "outputs": [],
   "source": [
    "#Peki fullname fonksiyonuna selfi yazmasam ne olur"
   ]
  },
  {
   "cell_type": "code",
   "execution_count": 44,
   "id": "5745b870",
   "metadata": {},
   "outputs": [],
   "source": [
    "class Employee:\n",
    "    def __init__(self, name, surname, age, pay):\n",
    "        self.name = name\n",
    "        self.surname = surname\n",
    "        self.age = age\n",
    "        self.pay = pay\n",
    "    \n",
    "    def fullname():\n",
    "        print(f\"Full name of employee is {self.name} {self.surname}\")"
   ]
  },
  {
   "cell_type": "code",
   "execution_count": 45,
   "id": "967553fb",
   "metadata": {},
   "outputs": [],
   "source": [
    "emp_1 = Employee(\"Muhammed\", \"Kaya\", 27, 13500)"
   ]
  },
  {
   "cell_type": "code",
   "execution_count": 47,
   "id": "8db8d9c1",
   "metadata": {},
   "outputs": [
    {
     "ename": "TypeError",
     "evalue": "fullname() takes 0 positional arguments but 1 was given",
     "output_type": "error",
     "traceback": [
      "\u001b[0;31m---------------------------------------------------------------------------\u001b[0m",
      "\u001b[0;31mTypeError\u001b[0m                                 Traceback (most recent call last)",
      "\u001b[0;32m/var/folders/cr/dmdsfj5n5r9ccpwhwhw9_1c80000gn/T/ipykernel_35876/662380869.py\u001b[0m in \u001b[0;36m<module>\u001b[0;34m\u001b[0m\n\u001b[1;32m      1\u001b[0m \u001b[0;31m#fullname() 0 argüman almış ama bana bir tane verilmiş bunu düzelt der\u001b[0m\u001b[0;34m\u001b[0m\u001b[0;34m\u001b[0m\u001b[0m\n\u001b[0;32m----> 2\u001b[0;31m \u001b[0memp_1\u001b[0m\u001b[0;34m.\u001b[0m\u001b[0mfullname\u001b[0m\u001b[0;34m(\u001b[0m\u001b[0;34m)\u001b[0m\u001b[0;34m\u001b[0m\u001b[0;34m\u001b[0m\u001b[0m\n\u001b[0m",
      "\u001b[0;31mTypeError\u001b[0m: fullname() takes 0 positional arguments but 1 was given"
     ]
    }
   ],
   "source": [
    "#fullname() 0 argüman almış ama bana bir tane verilmiş bunu düzelt der\n",
    "emp_1.fullname()"
   ]
  },
  {
   "cell_type": "code",
   "execution_count": null,
   "id": "e603801c",
   "metadata": {},
   "outputs": [],
   "source": []
  }
 ],
 "metadata": {
  "kernelspec": {
   "display_name": "Python 3 (ipykernel)",
   "language": "python",
   "name": "python3"
  },
  "language_info": {
   "codemirror_mode": {
    "name": "ipython",
    "version": 3
   },
   "file_extension": ".py",
   "mimetype": "text/x-python",
   "name": "python",
   "nbconvert_exporter": "python",
   "pygments_lexer": "ipython3",
   "version": "3.9.13"
  }
 },
 "nbformat": 4,
 "nbformat_minor": 5
}

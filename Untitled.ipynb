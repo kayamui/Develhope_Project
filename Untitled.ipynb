{
 "cells": [
  {
   "cell_type": "code",
   "execution_count": 1,
   "id": "5be01578",
   "metadata": {},
   "outputs": [],
   "source": [
    "def very_first_func():\n",
    "    print(\"hey man, i hope you'll succeed\")"
   ]
  },
  {
   "cell_type": "code",
   "execution_count": 2,
   "id": "925f0ed5",
   "metadata": {},
   "outputs": [],
   "source": [
    "def decorator_func(func):\n",
    "    def wrapper_func():\n",
    "        print (\"If you succeded, that will be shown\")\n",
    "        return func()\n",
    "    return wrapper_func"
   ]
  },
  {
   "cell_type": "code",
   "execution_count": 9,
   "id": "241a0ae0",
   "metadata": {},
   "outputs": [],
   "source": [
    "@decorator_func\n",
    "def very_first_func():\n",
    "    print(\"heyoo\")"
   ]
  },
  {
   "cell_type": "code",
   "execution_count": 10,
   "id": "e6ac85ff",
   "metadata": {},
   "outputs": [
    {
     "name": "stdout",
     "output_type": "stream",
     "text": [
      "If you succeded, that will be shown\n",
      "heyoo\n"
     ]
    }
   ],
   "source": [
    "very_first_func()"
   ]
  },
  {
   "cell_type": "code",
   "execution_count": null,
   "id": "828e01b8",
   "metadata": {},
   "outputs": [],
   "source": []
  }
 ],
 "metadata": {
  "kernelspec": {
   "display_name": "Python 3 (ipykernel)",
   "language": "python",
   "name": "python3"
  },
  "language_info": {
   "codemirror_mode": {
    "name": "ipython",
    "version": 3
   },
   "file_extension": ".py",
   "mimetype": "text/x-python",
   "name": "python",
   "nbconvert_exporter": "python",
   "pygments_lexer": "ipython3",
   "version": "3.9.13"
  }
 },
 "nbformat": 4,
 "nbformat_minor": 5
}

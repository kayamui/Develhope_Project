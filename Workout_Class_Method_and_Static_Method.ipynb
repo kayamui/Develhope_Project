{
 "cells": [
  {
   "cell_type": "markdown",
   "id": "742ea908",
   "metadata": {},
   "source": [
    "# Class Method"
   ]
  },
  {
   "cell_type": "raw",
   "id": "f388cb65",
   "metadata": {},
   "source": [
    "# @classmethod decorator metodu ilk arguman olarak instance yerine classı alacak şekilde günceller"
   ]
  },
  {
   "cell_type": "code",
   "execution_count": 10,
   "id": "89c2c79a",
   "metadata": {},
   "outputs": [],
   "source": [
    "class Employee:\n",
    "    raise_percent = 1.05\n",
    "    num_emp = 0\n",
    "    def __init__(self, name, last, age, pay):\n",
    "        self.name = name\n",
    "        self.last = last\n",
    "        self.age = age\n",
    "        self.pay = pay\n",
    "        Employee.num_emp += 1\n",
    "    def apply_raise(self):\n",
    "        self.pay *= Employee.raise_percent\n",
    "    @classmethod #Bunu yazdığım zaman direk class variableını değiştirir.\n",
    "    def set_raise(cls, amount):\n",
    "        cls.raise_percent = amount"
   ]
  },
  {
   "cell_type": "code",
   "execution_count": 11,
   "id": "656e36f3",
   "metadata": {},
   "outputs": [],
   "source": [
    "emp_1 = Employee(\"James\", \"Hughes\", \"32\", 5000)"
   ]
  },
  {
   "cell_type": "code",
   "execution_count": 12,
   "id": "0a7a69d1",
   "metadata": {},
   "outputs": [],
   "source": [
    "emp_2 = Employee(\"Charlie\", \"Brown\", \"22\", 3000)"
   ]
  },
  {
   "cell_type": "code",
   "execution_count": 13,
   "id": "a4bcf1ae",
   "metadata": {},
   "outputs": [],
   "source": [
    "Employee.set_raise(1.6)"
   ]
  },
  {
   "cell_type": "code",
   "execution_count": 15,
   "id": "561dd092",
   "metadata": {},
   "outputs": [
    {
     "data": {
      "text/plain": [
       "1.6"
      ]
     },
     "execution_count": 15,
     "metadata": {},
     "output_type": "execute_result"
    }
   ],
   "source": [
    "Employee.raise_percent"
   ]
  },
  {
   "cell_type": "code",
   "execution_count": 16,
   "id": "bfef7636",
   "metadata": {},
   "outputs": [
    {
     "name": "stdout",
     "output_type": "stream",
     "text": [
      "1.6\n",
      "1.6\n",
      "1.6\n"
     ]
    }
   ],
   "source": [
    "print(emp_1.raise_percent)\n",
    "print(emp_2.raise_percent)\n",
    "print(Employee.raise_percent)"
   ]
  },
  {
   "cell_type": "code",
   "execution_count": 17,
   "id": "72fdedce",
   "metadata": {},
   "outputs": [],
   "source": [
    "emp_1.set_raise(2.3)"
   ]
  },
  {
   "cell_type": "code",
   "execution_count": 18,
   "id": "b29bf64b",
   "metadata": {},
   "outputs": [
    {
     "name": "stdout",
     "output_type": "stream",
     "text": [
      "2.3\n",
      "2.3\n",
      "2.3\n"
     ]
    }
   ],
   "source": [
    "print(emp_1.raise_percent)\n",
    "print(emp_2.raise_percent)\n",
    "print(Employee.raise_percent)"
   ]
  },
  {
   "cell_type": "code",
   "execution_count": 19,
   "id": "7e6e36ea",
   "metadata": {},
   "outputs": [],
   "source": [
    "emp_1.raise_percent = 0"
   ]
  },
  {
   "cell_type": "code",
   "execution_count": 20,
   "id": "3d8ea92a",
   "metadata": {},
   "outputs": [
    {
     "name": "stdout",
     "output_type": "stream",
     "text": [
      "0\n",
      "2.3\n",
      "2.3\n"
     ]
    }
   ],
   "source": [
    "print(emp_1.raise_percent)\n",
    "print(emp_2.raise_percent)\n",
    "print(Employee.raise_percent)"
   ]
  },
  {
   "cell_type": "markdown",
   "id": "11640595",
   "metadata": {},
   "source": [
    "# Alternative Constructor"
   ]
  },
  {
   "cell_type": "raw",
   "id": "c3f78222",
   "metadata": {},
   "source": [
    "# Diyelim ki classı oluştururken bize input olarak string veriyorlar ve bizim bu stringden name age gibi bilgileri kendimiz çıkarmamız lazım"
   ]
  },
  {
   "cell_type": "code",
   "execution_count": 21,
   "id": "907aed2c",
   "metadata": {},
   "outputs": [],
   "source": [
    "emp_1_str = \"James-Hughes-32-5000\""
   ]
  },
  {
   "cell_type": "code",
   "execution_count": 22,
   "id": "b6fd7005",
   "metadata": {},
   "outputs": [],
   "source": [
    "emp_2_str = \"Charlie-Brown-22-3000\""
   ]
  },
  {
   "cell_type": "code",
   "execution_count": 23,
   "id": "a99ec09e",
   "metadata": {},
   "outputs": [
    {
     "data": {
      "text/plain": [
       "['James', 'Hughes', '32', '5000']"
      ]
     },
     "execution_count": 23,
     "metadata": {},
     "output_type": "execute_result"
    }
   ],
   "source": [
    "emp_1_str.split(\"-\")"
   ]
  },
  {
   "cell_type": "code",
   "execution_count": 24,
   "id": "2c1ad33c",
   "metadata": {},
   "outputs": [],
   "source": [
    "name , last, age, pay = emp_1_str.split(\"-\")"
   ]
  },
  {
   "cell_type": "code",
   "execution_count": 26,
   "id": "ed05b190",
   "metadata": {},
   "outputs": [],
   "source": [
    "emp_1 = Employee(name,last,age,pay)"
   ]
  },
  {
   "cell_type": "code",
   "execution_count": 27,
   "id": "41a2a2b1",
   "metadata": {},
   "outputs": [],
   "source": [
    "# Bunu method olarak yazalım"
   ]
  },
  {
   "cell_type": "code",
   "execution_count": 1,
   "id": "d35ff5d0",
   "metadata": {},
   "outputs": [],
   "source": [
    "class Employee:\n",
    "    raise_percent = 1.05\n",
    "    num_emp = 0\n",
    "    def __init__(self, name, last, age, pay):\n",
    "        self.name = name\n",
    "        self.last = last\n",
    "        self.age = age\n",
    "        self.pay = pay\n",
    "    def apply_raise(self):\n",
    "        self.pay = self.pay =self.pay * Employee.raise_percent\n",
    "    @classmethod\n",
    "    def set_raise(cls, amt):\n",
    "        cls.raise_percent = amt\n",
    "    @classmethod\n",
    "    def from_string(cls, emp_str):\n",
    "        name, last, age, pay = emp_str.split(\"-\")\n",
    "        return cls(name, last, int(age), float(pay)) #Yeni çalışan yaratacak ve döndürecek"
   ]
  },
  {
   "cell_type": "code",
   "execution_count": 2,
   "id": "272ca334",
   "metadata": {},
   "outputs": [],
   "source": [
    "emp_1_str = \"James-Hughes-32-5000\""
   ]
  },
  {
   "cell_type": "code",
   "execution_count": 3,
   "id": "fc0b929b",
   "metadata": {},
   "outputs": [],
   "source": [
    "emp_2_str = \"Charlie-Brown-22-5000\""
   ]
  },
  {
   "cell_type": "code",
   "execution_count": 4,
   "id": "6f8c222f",
   "metadata": {},
   "outputs": [],
   "source": [
    "emp1 = Employee.from_string(emp_1_str)"
   ]
  },
  {
   "cell_type": "code",
   "execution_count": 5,
   "id": "f2b98609",
   "metadata": {},
   "outputs": [],
   "source": [
    "emp2 = Employee.from_string(emp_2_str)"
   ]
  },
  {
   "cell_type": "code",
   "execution_count": 6,
   "id": "1f07d9d2",
   "metadata": {},
   "outputs": [
    {
     "data": {
      "text/plain": [
       "{'name': 'James', 'last': 'Hughes', 'age': 32, 'pay': 5000.0}"
      ]
     },
     "execution_count": 6,
     "metadata": {},
     "output_type": "execute_result"
    }
   ],
   "source": [
    "emp1.__dict__"
   ]
  },
  {
   "cell_type": "code",
   "execution_count": 7,
   "id": "ceff30b1",
   "metadata": {},
   "outputs": [
    {
     "data": {
      "text/plain": [
       "{'name': 'Charlie', 'last': 'Brown', 'age': 22, 'pay': 5000.0}"
      ]
     },
     "execution_count": 7,
     "metadata": {},
     "output_type": "execute_result"
    }
   ],
   "source": [
    "emp2.__dict__"
   ]
  },
  {
   "cell_type": "markdown",
   "id": "228c8cc4",
   "metadata": {},
   "source": [
    "# Static Method"
   ]
  },
  {
   "cell_type": "code",
   "execution_count": 8,
   "id": "dc503630",
   "metadata": {},
   "outputs": [],
   "source": [
    "class Employee:\n",
    "    raise_percent = 1.05\n",
    "    num_emp = 0\n",
    "    def __init__(self, name, last, age, pay):\n",
    "        self.name = name\n",
    "        self.last = last\n",
    "        self.age = age\n",
    "        self.pay = pay\n",
    "    def apply_raise(self):\n",
    "        self.pay = self.pay =self.pay * Employee.raise_percent\n",
    "    @classmethod\n",
    "    def set_raise(cls, amt):\n",
    "        cls.raise_percent = amt\n",
    "    @classmethod\n",
    "    def from_string(cls, emp_str):\n",
    "        name, last, age, pay = emp_1_str.split(\"-\")\n",
    "        return cls(name, last, int(age), float(pay)) #Yeni çalışan yaratacak ve döndürecek\n",
    "    @staticmethod # Hiçbir değere bağlı olmadan değişmeden kendi kendini yazan metod, bir havası yok\n",
    "    def holiday_print(day):\n",
    "        if day == \"Weekend\":\n",
    "            print(\"This is a day off\")\n",
    "        else:\n",
    "            print(\"This is not a day off\")"
   ]
  },
  {
   "cell_type": "code",
   "execution_count": 9,
   "id": "1becc985",
   "metadata": {},
   "outputs": [
    {
     "name": "stdout",
     "output_type": "stream",
     "text": [
      "This is a day off\n"
     ]
    }
   ],
   "source": [
    "Employee.holiday_print(\"Weekend\")"
   ]
  },
  {
   "cell_type": "code",
   "execution_count": 7,
   "id": "af78c94e",
   "metadata": {},
   "outputs": [],
   "source": [
    "emp_1 = Employee(\"James\", \"Hughes\", 32, 5000)"
   ]
  },
  {
   "cell_type": "code",
   "execution_count": 14,
   "id": "c5f29feb",
   "metadata": {},
   "outputs": [
    {
     "name": "stdout",
     "output_type": "stream",
     "text": [
      "This is not a day off\n"
     ]
    }
   ],
   "source": [
    "emp_1.holiday_print(\"Working Day\")"
   ]
  },
  {
   "cell_type": "code",
   "execution_count": 1,
   "id": "c45dfbff",
   "metadata": {},
   "outputs": [],
   "source": [
    "emp_1_str = \"muhammed-kaya-27-13500\""
   ]
  },
  {
   "cell_type": "code",
   "execution_count": 2,
   "id": "24bc2b3f",
   "metadata": {},
   "outputs": [],
   "source": [
    "class Employee:\n",
    "    def __init__(self, name, last, age, pay):\n",
    "        self.name = name\n",
    "        self.last = last\n",
    "        self.age = age\n",
    "        self.pay = pay\n",
    "    @classmethod\n",
    "    def add_from_str(cls, emp):\n",
    "        name, last, age, pay = emp.split(\"-\")\n",
    "        "
   ]
  },
  {
   "cell_type": "code",
   "execution_count": 3,
   "id": "1348d9ea",
   "metadata": {},
   "outputs": [],
   "source": [
    "emp1 = Employee.add_from_str(emp_1_str)"
   ]
  },
  {
   "cell_type": "code",
   "execution_count": 13,
   "id": "2d2adaac",
   "metadata": {},
   "outputs": [
    {
     "ename": "AttributeError",
     "evalue": "'NoneType' object has no attribute '__dict__'",
     "output_type": "error",
     "traceback": [
      "\u001b[1;31m---------------------------------------------------------------------------\u001b[0m",
      "\u001b[1;31mAttributeError\u001b[0m                            Traceback (most recent call last)",
      "\u001b[1;32m~\\AppData\\Local\\Temp\\ipykernel_21192\\346341304.py\u001b[0m in \u001b[0;36m<module>\u001b[1;34m\u001b[0m\n\u001b[1;32m----> 1\u001b[1;33m \u001b[0memp1\u001b[0m\u001b[1;33m.\u001b[0m\u001b[0m__dict__\u001b[0m\u001b[1;33m\u001b[0m\u001b[1;33m\u001b[0m\u001b[0m\n\u001b[0m",
      "\u001b[1;31mAttributeError\u001b[0m: 'NoneType' object has no attribute '__dict__'"
     ]
    }
   ],
   "source": [
    "emp1.__dict__"
   ]
  },
  {
   "cell_type": "code",
   "execution_count": null,
   "id": "223162bb",
   "metadata": {},
   "outputs": [],
   "source": []
  }
 ],
 "metadata": {
  "kernelspec": {
   "display_name": "Python 3 (ipykernel)",
   "language": "python",
   "name": "python3"
  },
  "language_info": {
   "codemirror_mode": {
    "name": "ipython",
    "version": 3
   },
   "file_extension": ".py",
   "mimetype": "text/x-python",
   "name": "python",
   "nbconvert_exporter": "python",
   "pygments_lexer": "ipython3",
   "version": "3.9.13"
  }
 },
 "nbformat": 4,
 "nbformat_minor": 5
}

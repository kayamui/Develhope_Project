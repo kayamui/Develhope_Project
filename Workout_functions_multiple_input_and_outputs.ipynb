{
 "cells": [
  {
   "cell_type": "markdown",
   "id": "e9615203",
   "metadata": {},
   "source": [
    "# Birden çok değer döndürme"
   ]
  },
  {
   "cell_type": "code",
   "execution_count": 5,
   "id": "91efab3f",
   "metadata": {},
   "outputs": [],
   "source": [
    "def power(x,y):\n",
    "    return x ** y # üs aldı"
   ]
  },
  {
   "cell_type": "code",
   "execution_count": 6,
   "id": "fc47ab0b",
   "metadata": {},
   "outputs": [
    {
     "data": {
      "text/plain": [
       "8"
      ]
     },
     "execution_count": 6,
     "metadata": {},
     "output_type": "execute_result"
    }
   ],
   "source": [
    "power(2,3)"
   ]
  },
  {
   "cell_type": "markdown",
   "id": "da800ae4",
   "metadata": {},
   "source": [
    "# Birden çok değer döndüren fonksiyonlar"
   ]
  },
  {
   "cell_type": "code",
   "execution_count": 8,
   "id": "1714f673",
   "metadata": {},
   "outputs": [],
   "source": [
    "def f(x):\n",
    "    return 2 * x, 10 * x"
   ]
  },
  {
   "cell_type": "code",
   "execution_count": 9,
   "id": "8d9fb29a",
   "metadata": {},
   "outputs": [
    {
     "data": {
      "text/plain": [
       "(20, 100)"
      ]
     },
     "execution_count": 9,
     "metadata": {},
     "output_type": "execute_result"
    }
   ],
   "source": [
    "f(10) #Değeri tuple olarak çevirdi burası önemli"
   ]
  },
  {
   "cell_type": "code",
   "execution_count": 10,
   "id": "6a5b7fa1",
   "metadata": {},
   "outputs": [],
   "source": [
    "a, b = f(10)"
   ]
  },
  {
   "cell_type": "code",
   "execution_count": 11,
   "id": "642eb488",
   "metadata": {},
   "outputs": [
    {
     "data": {
      "text/plain": [
       "20"
      ]
     },
     "execution_count": 11,
     "metadata": {},
     "output_type": "execute_result"
    }
   ],
   "source": [
    "a"
   ]
  },
  {
   "cell_type": "code",
   "execution_count": 12,
   "id": "50095e32",
   "metadata": {},
   "outputs": [
    {
     "data": {
      "text/plain": [
       "100"
      ]
     },
     "execution_count": 12,
     "metadata": {},
     "output_type": "execute_result"
    }
   ],
   "source": [
    "b"
   ]
  },
  {
   "cell_type": "code",
   "execution_count": 13,
   "id": "a9365960",
   "metadata": {},
   "outputs": [],
   "source": [
    "def f(x,y):\n",
    "    return 2*x*y, (10*x)**y"
   ]
  },
  {
   "cell_type": "code",
   "execution_count": 15,
   "id": "60fdffa2",
   "metadata": {},
   "outputs": [
    {
     "data": {
      "text/plain": [
       "(40, 10000)"
      ]
     },
     "execution_count": 15,
     "metadata": {},
     "output_type": "execute_result"
    }
   ],
   "source": [
    "f(10,2)"
   ]
  },
  {
   "cell_type": "code",
   "execution_count": null,
   "id": "a5b456d5",
   "metadata": {},
   "outputs": [],
   "source": []
  }
 ],
 "metadata": {
  "kernelspec": {
   "display_name": "Python 3 (ipykernel)",
   "language": "python",
   "name": "python3"
  },
  "language_info": {
   "codemirror_mode": {
    "name": "ipython",
    "version": 3
   },
   "file_extension": ".py",
   "mimetype": "text/x-python",
   "name": "python",
   "nbconvert_exporter": "python",
   "pygments_lexer": "ipython3",
   "version": "3.9.13"
  }
 },
 "nbformat": 4,
 "nbformat_minor": 5
}

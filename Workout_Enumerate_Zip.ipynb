{
 "cells": [
  {
   "cell_type": "markdown",
   "id": "c41452c4",
   "metadata": {},
   "source": [
    "# Enumerate and Zip"
   ]
  },
  {
   "cell_type": "code",
   "execution_count": 13,
   "id": "f2428896",
   "metadata": {},
   "outputs": [],
   "source": [
    " l = [(1,2), (10,20)]"
   ]
  },
  {
   "cell_type": "code",
   "execution_count": 14,
   "id": "69f8f621",
   "metadata": {},
   "outputs": [],
   "source": [
    "l_flattened = [e for i in l for e in i ]"
   ]
  },
  {
   "cell_type": "code",
   "execution_count": 15,
   "id": "a933ec28",
   "metadata": {},
   "outputs": [
    {
     "data": {
      "text/plain": [
       "[1, 2, 10, 20]"
      ]
     },
     "execution_count": 15,
     "metadata": {},
     "output_type": "execute_result"
    }
   ],
   "source": [
    "l_flattened"
   ]
  },
  {
   "cell_type": "code",
   "execution_count": 17,
   "id": "09ae964b",
   "metadata": {},
   "outputs": [],
   "source": [
    "l_flattened_tuple = tuple(l_flattened)\n"
   ]
  },
  {
   "cell_type": "code",
   "execution_count": 19,
   "id": "752e8416",
   "metadata": {},
   "outputs": [
    {
     "data": {
      "text/plain": [
       "(1, 2, 10, 20)"
      ]
     },
     "execution_count": 19,
     "metadata": {},
     "output_type": "execute_result"
    }
   ],
   "source": [
    "l_flattened_tuple"
   ]
  },
  {
   "cell_type": "code",
   "execution_count": 25,
   "id": "0aece4a1",
   "metadata": {},
   "outputs": [],
   "source": [
    " l = [(1,2), (10,20)]"
   ]
  },
  {
   "cell_type": "code",
   "execution_count": 21,
   "id": "021e9e56",
   "metadata": {},
   "outputs": [
    {
     "name": "stdout",
     "output_type": "stream",
     "text": [
      "(1, 2)\n",
      "(10, 20)\n"
     ]
    }
   ],
   "source": [
    "for e in l:\n",
    "    print(e)"
   ]
  },
  {
   "cell_type": "code",
   "execution_count": 22,
   "id": "56f8813e",
   "metadata": {},
   "outputs": [
    {
     "data": {
      "text/plain": [
       "tuple"
      ]
     },
     "execution_count": 22,
     "metadata": {},
     "output_type": "execute_result"
    }
   ],
   "source": [
    "type(e)"
   ]
  },
  {
   "cell_type": "code",
   "execution_count": 31,
   "id": "92fe557a",
   "metadata": {},
   "outputs": [
    {
     "name": "stdout",
     "output_type": "stream",
     "text": [
      "1 2\n",
      "----------\n",
      "10 20\n",
      "----------\n"
     ]
    }
   ],
   "source": [
    "for e in l:\n",
    "    a, b = e\n",
    "    print(a, b)\n",
    "    print(\"----------\")"
   ]
  },
  {
   "cell_type": "code",
   "execution_count": 33,
   "id": "269d28c5",
   "metadata": {},
   "outputs": [
    {
     "name": "stdout",
     "output_type": "stream",
     "text": [
      "tuple'ın ilk elemanı: 1\n",
      "tuple'ın ikinci elemanı: 2\n",
      "-------\n",
      "tuple'ın ilk elemanı: 10\n",
      "tuple'ın ikinci elemanı: 20\n",
      "-------\n"
     ]
    }
   ],
   "source": [
    "for a,b in l:\n",
    "    print(\"tuple'ın ilk elemanı:\", a )\n",
    "    print(\"tuple'ın ikinci elemanı:\", b)\n",
    "    print(\"-------\")"
   ]
  },
  {
   "cell_type": "markdown",
   "id": "5db6e4a3",
   "metadata": {},
   "source": [
    "# enumerate() \n",
    "## bize index ve elemanı verecek"
   ]
  },
  {
   "cell_type": "code",
   "execution_count": 46,
   "id": "477f9120",
   "metadata": {},
   "outputs": [],
   "source": [
    "adlar = ['Tyler', 'Blake', 'Cory', 'Cameron']"
   ]
  },
  {
   "cell_type": "code",
   "execution_count": 45,
   "id": "4fdf13c8",
   "metadata": {},
   "outputs": [
    {
     "name": "stdout",
     "output_type": "stream",
     "text": [
      "0 indexindeki eleman : Tyler\n",
      "1 indexindeki eleman : Blake\n",
      "2 indexindeki eleman : Cory\n",
      "3 indexindeki eleman : Cameron\n"
     ]
    }
   ],
   "source": [
    "for i,e in enumerate(adlar):\n",
    "    print(f\"{i} indexindeki eleman : {e}\")"
   ]
  },
  {
   "cell_type": "code",
   "execution_count": 38,
   "id": "ce72cb23",
   "metadata": {},
   "outputs": [
    {
     "name": "stdout",
     "output_type": "stream",
     "text": [
      "0 indexindeki eleman: Tyler\n",
      "1 indexindeki eleman: Blake\n",
      "2 indexindeki eleman: Cory\n",
      "3 indexindeki eleman: Cameron\n"
     ]
    }
   ],
   "source": [
    "t  = 0\n",
    "for e in adlar:\n",
    "    print(t, \"indexindeki eleman:\", e)\n",
    "    t+=1"
   ]
  },
  {
   "cell_type": "code",
   "execution_count": 39,
   "id": "dcaac8bb",
   "metadata": {},
   "outputs": [],
   "source": [
    "#enumerate 0 dan başlamak zorunda değil istediğimiz yerden başlatabiliriz"
   ]
  },
  {
   "cell_type": "code",
   "execution_count": 42,
   "id": "fe22afa4",
   "metadata": {},
   "outputs": [
    {
     "name": "stdout",
     "output_type": "stream",
     "text": [
      "1 Tyler\n",
      "2 Blake\n",
      "3 Cory\n",
      "4 Cameron\n"
     ]
    }
   ],
   "source": [
    "for i,e in enumerate(adlar, start=1):\n",
    "    print(i,e)"
   ]
  },
  {
   "cell_type": "markdown",
   "id": "f26c5a58",
   "metadata": {},
   "source": [
    "# zip()\n",
    "## Farklı elemanları paralel iterasyon yapmamızı sağlar"
   ]
  },
  {
   "cell_type": "code",
   "execution_count": 53,
   "id": "aa2b5e46",
   "metadata": {},
   "outputs": [],
   "source": [
    "adlar = ['Tyler', 'Blake', 'Cory']"
   ]
  },
  {
   "cell_type": "code",
   "execution_count": 54,
   "id": "bda35b4f",
   "metadata": {},
   "outputs": [],
   "source": [
    "notlar = [90,80,72]"
   ]
  },
  {
   "cell_type": "code",
   "execution_count": 55,
   "id": "a3204d80",
   "metadata": {},
   "outputs": [
    {
     "name": "stdout",
     "output_type": "stream",
     "text": [
      "Tyler 90\n",
      "Blake 80\n",
      "Cory 72\n"
     ]
    }
   ],
   "source": [
    "for i in range(len(adlar)):\n",
    "    print(adlar[i], notlar[i])"
   ]
  },
  {
   "cell_type": "code",
   "execution_count": 56,
   "id": "39b5c97b",
   "metadata": {},
   "outputs": [
    {
     "name": "stdout",
     "output_type": "stream",
     "text": [
      "Tyler 90\n",
      "Blake 80\n",
      "Cory 72\n"
     ]
    }
   ],
   "source": [
    "for s,g in zip(adlar, notlar):\n",
    "    print(s,g)"
   ]
  },
  {
   "cell_type": "markdown",
   "id": "0dab1da7",
   "metadata": {},
   "source": [
    "# zip() örnek"
   ]
  },
  {
   "cell_type": "code",
   "execution_count": 58,
   "id": "fc566a07",
   "metadata": {},
   "outputs": [],
   "source": [
    "satis = [3500.00, 76300.00, 67200.00]"
   ]
  },
  {
   "cell_type": "code",
   "execution_count": 59,
   "id": "b3725487",
   "metadata": {},
   "outputs": [],
   "source": [
    "maliyet = [56700.00, 21900.00, 12100.00]"
   ]
  },
  {
   "cell_type": "code",
   "execution_count": 61,
   "id": "6f98b500",
   "metadata": {},
   "outputs": [
    {
     "name": "stdout",
     "output_type": "stream",
     "text": [
      "Total profit: -53200.0\n",
      "Total profit: 54400.0\n",
      "Total profit: 55100.0\n"
     ]
    }
   ],
   "source": [
    "for i in range(len(satis)):\n",
    "    s = satis[i]\n",
    "    m = maliyet[i]\n",
    "    kar = s - m\n",
    "    print('Total profit:',kar)"
   ]
  },
  {
   "cell_type": "code",
   "execution_count": 63,
   "id": "b8d6c64a",
   "metadata": {},
   "outputs": [
    {
     "name": "stdout",
     "output_type": "stream",
     "text": [
      "-53200.0\n",
      "54400.0\n",
      "55100.0\n"
     ]
    }
   ],
   "source": [
    "for s,m in zip(satis, maliyet):\n",
    "    kar = s - m\n",
    "    print(kar)"
   ]
  },
  {
   "cell_type": "markdown",
   "id": "3b06ee9c",
   "metadata": {},
   "source": [
    "# zip() ile dictionary yaratma"
   ]
  },
  {
   "cell_type": "code",
   "execution_count": 64,
   "id": "3c80a239",
   "metadata": {},
   "outputs": [],
   "source": [
    "keys = ['isim', 'soyad', 'ulke', 'is']\n",
    "values = ['Denis', 'Walker', 'Turkey', 'data scientist']"
   ]
  },
  {
   "cell_type": "code",
   "execution_count": 65,
   "id": "aedbfdc9",
   "metadata": {},
   "outputs": [],
   "source": [
    "d = {}"
   ]
  },
  {
   "cell_type": "code",
   "execution_count": 67,
   "id": "d025c965",
   "metadata": {},
   "outputs": [],
   "source": [
    "for k,v in zip(keys, values):\n",
    "    d[k]=v"
   ]
  },
  {
   "cell_type": "code",
   "execution_count": 68,
   "id": "aaf74d3a",
   "metadata": {},
   "outputs": [
    {
     "data": {
      "text/plain": [
       "{'isim': 'Denis', 'soyad': 'Walker', 'ulke': 'Turkey', 'is': 'data scientist'}"
      ]
     },
     "execution_count": 68,
     "metadata": {},
     "output_type": "execute_result"
    }
   ],
   "source": [
    "d"
   ]
  },
  {
   "cell_type": "code",
   "execution_count": 69,
   "id": "4e10f480",
   "metadata": {},
   "outputs": [
    {
     "data": {
      "text/plain": [
       "{'isim': 'Denis', 'soyad': 'Walker', 'ulke': 'Turkey', 'is': 'data scientist'}"
      ]
     },
     "execution_count": 69,
     "metadata": {},
     "output_type": "execute_result"
    }
   ],
   "source": [
    "for i in range(len(keys)):\n",
    "    k = keys[i]\n",
    "    v = values[i]\n",
    "    d[k] = v\n",
    "d"
   ]
  },
  {
   "cell_type": "code",
   "execution_count": null,
   "id": "5ebd7dbd",
   "metadata": {},
   "outputs": [],
   "source": []
  }
 ],
 "metadata": {
  "kernelspec": {
   "display_name": "Python 3 (ipykernel)",
   "language": "python",
   "name": "python3"
  },
  "language_info": {
   "codemirror_mode": {
    "name": "ipython",
    "version": 3
   },
   "file_extension": ".py",
   "mimetype": "text/x-python",
   "name": "python",
   "nbconvert_exporter": "python",
   "pygments_lexer": "ipython3",
   "version": "3.9.13"
  }
 },
 "nbformat": 4,
 "nbformat_minor": 5
}

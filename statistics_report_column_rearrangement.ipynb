{
  "nbformat": 4,
  "nbformat_minor": 0,
  "metadata": {
    "colab": {
      "provenance": [],
      "authorship_tag": "ABX9TyPWZ2CGeyrQ1vpX764ns1zI",
      "include_colab_link": true
    },
    "kernelspec": {
      "name": "python3",
      "display_name": "Python 3"
    },
    "language_info": {
      "name": "python"
    }
  },
  "cells": [
    {
      "cell_type": "markdown",
      "metadata": {
        "id": "view-in-github",
        "colab_type": "text"
      },
      "source": [
        "<a href=\"https://colab.research.google.com/github/kayamui/Develhope_Project/blob/main/statistics_report_column_rearrangement.ipynb\" target=\"_parent\"><img src=\"https://colab.research.google.com/assets/colab-badge.svg\" alt=\"Open In Colab\"/></a>"
      ]
    },
    {
      "cell_type": "code",
      "source": [
        "import pandas as pd\n",
        "import numpy as np\n",
        "import datetime as dt\n",
        "\n",
        "import os"
      ],
      "metadata": {
        "id": "L3V87hsEwgV7"
      },
      "execution_count": null,
      "outputs": []
    },
    {
      "cell_type": "code",
      "source": [],
      "metadata": {
        "id": "Ug8CShF3BO7y"
      },
      "execution_count": null,
      "outputs": []
    },
    {
      "cell_type": "code",
      "execution_count": null,
      "metadata": {
        "id": "GBPJUT4EwRI5"
      },
      "outputs": [],
      "source": [
        "df= pd.read_excel('C:/Users/mkaya/Downloads/GENEL VAKA ARAŞTIRMA DEFTERİ MART.xls')"
      ]
    },
    {
      "cell_type": "code",
      "source": [
        "df.columns.get_loc('Ekip No')"
      ],
      "metadata": {
        "id": "nMYhE2BVwhMT"
      },
      "execution_count": null,
      "outputs": []
    },
    {
      "cell_type": "code",
      "source": [
        "[x for x in df.columns if x.startswith('İhbar')]"
      ],
      "metadata": {
        "id": "TBk_TCVpwp4K"
      },
      "execution_count": null,
      "outputs": []
    },
    {
      "cell_type": "code",
      "source": [],
      "metadata": {
        "id": "6_LuozAThCyM"
      },
      "execution_count": null,
      "outputs": []
    },
    {
      "cell_type": "code",
      "source": [
        "df['Tarih']= pd.to_datetime(df['İhbar/Çağrı Tarihi'] + ' ' + df['İhbar/Çağrı  Saati'], format= '%d-%m-%Y %H:%M:%S')"
      ],
      "metadata": {
        "id": "C_XCTH22w9Zx"
      },
      "execution_count": null,
      "outputs": []
    },
    {
      "cell_type": "code",
      "source": [
        "df['MANUEL ŞEF TARİHİ']= df['Tarih'].apply(lambda x:( x.date() - dt.timedelta(days=1)) if 0 <= x.hour < 8 else x.date())"
      ],
      "metadata": {
        "id": "Q1dyJ_IvxUTh"
      },
      "execution_count": null,
      "outputs": []
    },
    {
      "cell_type": "code",
      "source": [
        "manual_chef_loc= df.columns.get_loc('İhbar/Çağrı Tarihi')-1"
      ],
      "metadata": {
        "id": "Q6nXnKVpygLx"
      },
      "execution_count": null,
      "outputs": []
    },
    {
      "cell_type": "code",
      "source": [
        "df.insert(manual_chef_loc+1, 'MANUEL ŞEF TARİHİ', df.pop('MANUEL ŞEF TARİHİ'))"
      ],
      "metadata": {
        "id": "0mN-edMjyA3Q"
      },
      "execution_count": null,
      "outputs": []
    },
    {
      "cell_type": "code",
      "source": [
        "print([col for col in df.columns])"
      ],
      "metadata": {
        "id": "TaEegAFgyK4J"
      },
      "execution_count": null,
      "outputs": []
    },
    {
      "cell_type": "code",
      "source": [
        "month_dict= {1:'OCAK', 2:'ŞUBAT',3:'MART', 4:'NİSAN', 5:'MAYIS', 6:'HAZİRAN', 7:'TEMMUZ', 8:'AĞUSTOS', 9:'EYLÜL', 10:'EKİM', 11:'KASIM', 12:'ARALIK'}"
      ],
      "metadata": {
        "id": "6DjvtjAIyv63"
      },
      "execution_count": null,
      "outputs": []
    },
    {
      "cell_type": "code",
      "source": [
        "df['month']= df['Tarih'].dt.month\n",
        "df['AY']= df['month'].map(month_dict)"
      ],
      "metadata": {
        "id": "a7vxKZ7766Ap"
      },
      "execution_count": null,
      "outputs": []
    },
    {
      "cell_type": "code",
      "source": [
        "df.drop(columns='month', inplace=True)"
      ],
      "metadata": {
        "id": "OmXPc7Pi7Foc"
      },
      "execution_count": null,
      "outputs": []
    },
    {
      "cell_type": "code",
      "source": [
        "df.insert(0, 'AY', df.pop('AY'))"
      ],
      "metadata": {
        "id": "i-gmjFM67KHa"
      },
      "execution_count": null,
      "outputs": []
    },
    {
      "cell_type": "code",
      "source": [
        "df"
      ],
      "metadata": {
        "id": "m4ZtMhUs1D86"
      },
      "execution_count": null,
      "outputs": []
    },
    {
      "cell_type": "code",
      "source": [
        "\"\"\"current_2024_dir= [excel for excel in os.listdir(os.getcwd() +\"\\\\Onedrive\\\\Masaüstü\\\\istanbul112_hidden\\\\data\\\\case_reports\\\\europe\\\\2024\\\\monthly\") if 'DEFTER' in excel]\n",
        "current_2025_dir= [excel for excel in os.listdir(os.getcwd() +\"\\\\Onedrive\\\\Masaüstü\\\\istanbul112_hidden\\\\data\\\\case_reports\\\\europe\\\\2025\\\\monthly\") if 'DEFTER' in excel]\"\"\""
      ],
      "metadata": {
        "id": "ibs5rTzRg8iS"
      },
      "execution_count": null,
      "outputs": []
    },
    {
      "cell_type": "code",
      "source": [
        "\"\"\"dir_2024= os.getcwd() +\"\\\\Onedrive\\\\Masaüstü\\\\istanbul112_hidden\\\\data\\\\case_reports\\\\europe\\\\2024\\\\monthly\\\\\"\n",
        "dir_2025= os.getcwd() +\"\\\\Onedrive\\\\Masaüstü\\\\istanbul112_hidden\\\\data\\\\case_reports\\\\europe\\\\2025\\\\monthly\\\\\"\"\"\""
      ],
      "metadata": {
        "id": "P5oEGp911HH9"
      },
      "execution_count": null,
      "outputs": []
    },
    {
      "cell_type": "code",
      "source": [
        "\"\"\"count= 1\n",
        "2024\n",
        "for file in current_2024_dir:\n",
        "  temp_excel= pd.ExcelFile(dir_2024+file)\n",
        "  exec(f'dataframes_{count} = {{sheet_name: temp_excel.parse(sheet_name) for sheet_name in temp_excel.sheet_names}}')\n",
        "  print(f'{count}:' ,eval(f'dataframes_{count}').keys() )\n",
        "  count+=1\"\"\""
      ],
      "metadata": {
        "id": "GOpKW2-jg8kf"
      },
      "execution_count": null,
      "outputs": []
    },
    {
      "cell_type": "code",
      "source": [
        "\"\"\"count\"\"\""
      ],
      "metadata": {
        "id": "HbG0nd5VBJkI"
      },
      "execution_count": null,
      "outputs": []
    },
    {
      "cell_type": "code",
      "source": [
        "\"\"\"\"2025\n",
        "for file in current_2025_dir:\n",
        "  temp_excel= pd.ExcelFile(dir_2025+file)\n",
        "  exec(f'dataframes_{count} = {{sheet_name: temp_excel.parse(sheet_name) for sheet_name in temp_excel.sheet_names}}')\n",
        "  print(f'{count}:' ,eval(f'dataframes_{count}').keys() )\n",
        "  count+=1\"\"\"\""
      ],
      "metadata": {
        "id": "eLzegKkZ1zCw"
      },
      "execution_count": null,
      "outputs": []
    },
    {
      "cell_type": "code",
      "source": [
        "\"\"\"\"df= pd.concat([dataframes_1['54230'], dataframes_2['EKİM MAH. DEFTER - 43557'], dataframes_3['50903'], dataframes_4['53930'], dataframes_5['48247'], dataframes_6['49926'], dataframes_7['NİSAN - 50.014'], dataframes_8['52340'], dataframes_9['52852-DEFTER'], dataframes_10['55923 defter avrupa'], dataframes_11['54070'], dataframes_12['7 KALEM ACİL VAKA DEFTER-41.562'], dataframes_13['60.230'], dataframes_14['ŞUBAT DEFTER - 49.952 ']])\"\"\"\""
      ],
      "metadata": {
        "id": "PSNAoGcUBYvB"
      },
      "execution_count": null,
      "outputs": []
    },
    {
      "cell_type": "code",
      "source": [
        "df_total= df.copy()"
      ],
      "metadata": {
        "id": "qGwCORIhDXi6"
      },
      "execution_count": null,
      "outputs": []
    },
    {
      "cell_type": "code",
      "source": [
        "df_total"
      ],
      "metadata": {
        "id": "RtzOpEPFDdIC"
      },
      "execution_count": null,
      "outputs": []
    },
    {
      "cell_type": "code",
      "source": [
        "df_total['count']= 1"
      ],
      "metadata": {
        "id": "b_-l05ktDkFH"
      },
      "execution_count": null,
      "outputs": []
    },
    {
      "cell_type": "code",
      "source": [
        "\"\"\"try:\n",
        "  df_total['MANUEL DÜZENLEME Nakledilen Hastane'].fillna(df_total['MANUEL DÜZENLENMİŞ Nakledilen Hastane'], inplace=True)\n",
        "except:\n",
        "  pass\"\"\""
      ],
      "metadata": {
        "id": "u2kXgCcYDtXt"
      },
      "execution_count": null,
      "outputs": []
    },
    {
      "cell_type": "code",
      "source": [
        "\"\"\"df_total.drop(columns=['MANUEL DÜZENLENMİŞ Nakledilen Hastane'], inplace=True)\"\"\""
      ],
      "metadata": {
        "id": "PfLQpgQdEBfM"
      },
      "execution_count": null,
      "outputs": []
    },
    {
      "cell_type": "code",
      "source": [
        "\"\"\"hosp_1_df= df_total.groupby(['Nakledilen Hastane', 'MANUEL DÜZENLEME Nakledilen Hastane']).agg({'count':'sum'}).reset_index().sort_values('count', ascending=False)\n",
        "hosp_1_df\"\"\""
      ],
      "metadata": {
        "id": "065UP2zfDkHj"
      },
      "execution_count": null,
      "outputs": []
    },
    {
      "cell_type": "code",
      "source": [
        "\"\"\"hosp_1_df.drop_duplicates(subset='Nakledilen Hastane', keep='first',inplace=True)\"\"\""
      ],
      "metadata": {
        "id": "TwV2gGUiDkKH"
      },
      "execution_count": null,
      "outputs": []
    },
    {
      "cell_type": "code",
      "source": [
        "\"\"\"hosp_1_df\"\"\""
      ],
      "metadata": {
        "id": "EPGmGtMFDg51"
      },
      "execution_count": null,
      "outputs": []
    },
    {
      "cell_type": "code",
      "source": [
        "\"\"\"df_total['MANUEL DÜZENLEME Sevk Eden Hastane'].fillna(df_total['MANUEL DÜZENLEME  Sevk Eden Hastane'], inplace=True)\n",
        "df_total.drop(columns=['MANUEL DÜZENLEME  Sevk Eden Hastane'], inplace=True)\n",
        "df_total['MANUEL DÜZENLEME Sevk Edilen Hastane'].fillna(df_total['MANUEL DÜZENLEME  Sevk Edilen Hastane'], inplace=True)\n",
        "df_total.drop(columns=['MANUEL DÜZENLEME  Sevk Edilen Hastane'], inplace=True)\"\"\""
      ],
      "metadata": {
        "id": "-wD5k2fMDg8P"
      },
      "execution_count": null,
      "outputs": []
    },
    {
      "cell_type": "code",
      "source": [
        "\"\"\"hosp_2_df= df_total.groupby(['Sevk Eden Hastane', 'MANUEL DÜZENLEME Sevk Eden Hastane']).agg({'count':'sum'}).reset_index().sort_values('count', ascending=False)\n",
        "hosp_3_df= df_total.groupby(['Sevk Edilen Hastane', 'MANUEL DÜZENLEME Sevk Edilen Hastane']).agg({'count':'sum'}).reset_index().sort_values('count', ascending=False)\"\"\""
      ],
      "metadata": {
        "id": "j6S0UcqSDg-q"
      },
      "execution_count": null,
      "outputs": []
    },
    {
      "cell_type": "code",
      "source": [
        "\"\"\"hosp_1_df.columns= ['Hastane', 'MANUEL DÜZENLEME Hastane', 'count']\n",
        "hosp_2_df.columns= ['Hastane', 'MANUEL DÜZENLEME Hastane', 'count']\n",
        "hosp_3_df.columns= ['Hastane', 'MANUEL DÜZENLEME Hastane', 'count']\n",
        "hosp_df= pd.concat([hosp_1_df, hosp_2_df, hosp_3_df])\"\"\""
      ],
      "metadata": {
        "id": "qGLVA67RDhAj"
      },
      "execution_count": null,
      "outputs": []
    },
    {
      "cell_type": "code",
      "source": [
        "\"\"\"hosp_df.reset_index(drop=True, inplace=True)\n",
        "hosp_df.sort_values('count', ascending=False)\n",
        "hosp_df.drop_duplicates(subset='Hastane', keep='first',inplace=True)\"\"\""
      ],
      "metadata": {
        "id": "8_vSO47BFKvN"
      },
      "execution_count": null,
      "outputs": []
    },
    {
      "cell_type": "code",
      "source": [
        "\"\"\"hosp_df\"\"\""
      ],
      "metadata": {
        "id": "cjQNCXruFKxq"
      },
      "execution_count": null,
      "outputs": []
    },
    {
      "cell_type": "code",
      "source": [
        "\"\"\"hospital_dict= dict(zip(hosp_df['Hastane'], hosp_df['MANUEL DÜZENLEME Hastane']))\n",
        "hospital_dict\"\"\""
      ],
      "metadata": {
        "id": "Mb405K5qFK0G"
      },
      "execution_count": null,
      "outputs": []
    },
    {
      "cell_type": "code",
      "source": [],
      "metadata": {
        "id": "TVFSEw3RIxKL"
      },
      "execution_count": null,
      "outputs": []
    },
    {
      "cell_type": "code",
      "source": [
        "\"\"\"temp_df= pd.DataFrame(columns=['Hastane', 'Manuel Hastane'])\n",
        "for key, value in hospital_dict.items():\n",
        "  if key== value:\n",
        "    temp_df.loc[len(temp_df)] = [key, value]\n",
        "  else:\n",
        "    pass\n",
        "  print(key,':', value, '\\n__________________________________________\\n')\"\"\""
      ],
      "metadata": {
        "id": "aBig7jEkFnnG"
      },
      "execution_count": null,
      "outputs": []
    },
    {
      "cell_type": "code",
      "source": [
        "\"\"\"hospital_dict['BİRUNİ ÜNİVERSİTESİ TIP FAKÜLTESİ HASTANESİ']= 'İSTANBUL BİRUNİ ÜNİVERSİTESİ TIP FAKÜLTESİ HASTANESİ'\n",
        "hospital_dict['İSTANBUL ÜNİVERSİTESİ İSTANBUL HASTANESİ']= 'İSTANBUL ÜNİVERSİTESİ İSTANBUL HASTANESİ'\n",
        "hospital_dict['(EK KAMPÜS) PROF. DR. MURAT DİLMENER ACİL DURUM HASTANESİ EK HİZMET BİNASI'] = 'İSTANBUL ÜNİVERSİTESİ -CERRAHPAŞA CERRAHPAŞA HASTANESİ'\n",
        "hospital_dict['BEYKENT ÜNİVERSİTESİ'] = 'ÖZEL BEYKENT HASTANESİ'\n",
        "hospital_dict['YEŞİLKÖY PROF.DR.MURAT DİLMENER ACİL DURUM HASTANESİ EK HİZMET BİNASI']= 'İSTANBUL ÜNİVERSİTESİ -CERRAHPAŞA CERRAHPAŞA HASTANESİ'\n",
        "hospital_dict['ÖZEL ÇAPA HASTANESİ'] = 'ÖZEL ÇAPA HASTANESİ'\n",
        "hospital_dict['BİRUNİ ÜNİVERSİTESİ']= 'İSTANBUL BİRUNİ ÜNİVERSİTESİ TIP FAKÜLTESİ HASTANESİ'\"\"\""
      ],
      "metadata": {
        "id": "qZoZEMYrbERu"
      },
      "execution_count": null,
      "outputs": []
    },
    {
      "cell_type": "code",
      "source": [
        "\"\"\"hospital_dict['-']\"\"\""
      ],
      "metadata": {
        "id": "-5_hOWT0dr8A"
      },
      "execution_count": null,
      "outputs": []
    },
    {
      "cell_type": "code",
      "source": [
        "\"\"\"print(hospital_dict)\"\"\""
      ],
      "metadata": {
        "id": "Ej8Ta6xwddcX"
      },
      "execution_count": null,
      "outputs": []
    },
    {
      "cell_type": "code",
      "source": [
        "\"\"\"temp_df= pd.DataFrame(columns=['Hastane', 'Manuel Hastane'])\n",
        "for key, value in hospital_dict.items():\n",
        "  temp_df.loc[len(temp_df)] = [key, value]\n",
        "  # print(key,':', value, '\\n__________________________________________\\n')\"\"\""
      ],
      "metadata": {
        "id": "ubpbME48dzo9"
      },
      "execution_count": null,
      "outputs": []
    },
    {
      "cell_type": "code",
      "source": [
        "\"\"\"temp_df\"\"\""
      ],
      "metadata": {
        "id": "7xEWp-PXddet"
      },
      "execution_count": null,
      "outputs": []
    },
    {
      "cell_type": "code",
      "source": [
        "hospital_dict= {'-': '-', 'T.C. SAĞLIK BAKANLIĞI BAĞCILAR EĞİTİM VE ARAŞTIRMA HASTANESİ': 'T.C. SAĞLIK BAKANLIĞI BAĞCILAR EĞİTİM VE ARAŞTIRMA HASTANESİ', 'T.C. SAĞLIK BAKANLIĞI İSTANBUL PROF. DR. CEMİL TAŞCIOĞLU ŞEHİR HASTANESİ': 'T.C. SAĞLIK BAKANLIĞI İSTANBUL PROF. DR. CEMİL TAŞCIOĞLU ŞEHİR HASTANESİ', '(EK KAMPÜS) SEYRANTEPE HAMİDİYE ETFAL EK HİZMET BİNASI': '(EK KAMPÜS) SEYRANTEPE HAMİDİYE ETFAL EK HİZMET BİNASI', 'T.C. SAĞLIK BAKANLIĞI BAŞAKŞEHİR ÇAM VE SAKURA ŞEHİR HASTANESİ': 'T.C. SAĞLIK BAKANLIĞI BAŞAKŞEHİR ÇAM VE SAKURA ŞEHİR HASTANESİ', 'T.C. SAĞLIK BAKANLIĞI ESENYURT NECMİ KADIOĞLU DEVLET HASTANESİ': 'T.C. SAĞLIK BAKANLIĞI ESENYURT NECMİ KADIOĞLU DEVLET HASTANESİ', 'T.C. SAĞLIK BAKANLIĞI BAKIRKÖY DR. SADİ KONUK EĞİTİM VE ARAŞTIRMA HASTANESİ': 'T.C. SAĞLIK BAKANLIĞI BAKIRKÖY DR. SADİ KONUK EĞİTİM VE ARAŞTIRMA HASTANESİ', '(EK KAMPÜS SULTANGAZİ) T.C. SAĞLIK BAKANLIĞI SBÜ İSTANBUL HASEKİ EĞİTİM VE ARAŞTIRMA HASTANESİ': '(EK KAMPÜS SULTANGAZİ) T.C. SAĞLIK BAKANLIĞI SBÜ İSTANBUL HASEKİ EĞİTİM VE ARAŞTIRMA HASTANESİ', 'T.C. SAĞLIK BAKANLIĞI İSTANBUL KANUNİ SULTAN SÜLEYMAN EĞİTİM VE ARAŞTIRMA HASTANESİ': 'T.C. SAĞLIK BAKANLIĞI İSTANBUL KANUNİ SULTAN SÜLEYMAN EĞİTİM VE ARAŞTIRMA HASTANESİ', 'T.C. SAĞLIK BAKANLIĞI İSTANBUL EĞİTİM VE ARAŞTIRMA HASTANESİ': 'T.C. SAĞLIK BAKANLIĞI İSTANBUL EĞİTİM VE ARAŞTIRMA HASTANESİ', 'T.C. SAĞLIK BAKANLIĞI GAZİOSMANPAŞA EĞİTİM VE ARAŞTIRMA HASTANESİ': 'T.C. SAĞLIK BAKANLIĞI GAZİOSMANPAŞA EĞİTİM VE ARAŞTIRMA HASTANESİ', 'T.C. SAĞLIK BAKANLIĞI BEYLİKDÜZÜ DEVLET HASTANESİ': 'T.C. SAĞLIK BAKANLIĞI BEYLİKDÜZÜ DEVLET HASTANESİ', 'T.C. SAĞLIK BAKANLIĞI TAKSİM EĞİTİM VE ARAŞTIRMA HASTANESİ': 'T.C. SAĞLIK BAKANLIĞI TAKSİM EĞİTİM VE ARAŞTIRMA HASTANESİ', 'T.C. SAĞLIK BAKANLIĞI BAHÇELİEVLER DEVLET HASTANESİ': 'T.C. SAĞLIK BAKANLIĞI BAHÇELİEVLER DEVLET HASTANESİ', 'T.C. SAĞLIK BAKANLIĞI ARNAVUTKÖY DEVLET HASTANESİ': 'T.C. SAĞLIK BAKANLIĞI ARNAVUTKÖY DEVLET HASTANESİ', 'İSTANBUL BEZMİALEM VAKIF ÜNİVERSİTESİ SAĞLIK UYGULAMA VE ARAŞTIRMA MERKEZİ': 'İSTANBUL BEZMİALEM VAKIF ÜNİVERSİTESİ SAĞLIK UYGULAMA VE ARAŞTIRMA MERKEZİ', 'T.C. SAĞLIK BAKANLIĞI AVCILAR MURAT KÖLÜK DEVLET HASTANESİ': 'T.C. SAĞLIK BAKANLIĞI AVCILAR MURAT KÖLÜK DEVLET HASTANESİ', 'T.C. SAĞLIK BAKANLIĞI SİLİVRİ DEVLET HASTANESİ': 'T.C. SAĞLIK BAKANLIĞI SİLİVRİ DEVLET HASTANESİ', 'T.C. SAĞLIK BAKANLIĞI BÜYÜKÇEKMECE MİMAR SİNAN DEVLET HASTANESİ': 'T.C. SAĞLIK BAKANLIĞI BÜYÜKÇEKMECE MİMAR SİNAN DEVLET HASTANESİ', 'İSTANBUL İSTİNYE ÜNİVERSİTESİ SAĞLIK UYGULAMA VE ARAŞTIRMA MERKEZİ': 'İSTANBUL İSTİNYE ÜNİVERSİTESİ SAĞLIK UYGULAMA VE ARAŞTIRMA MERKEZİ', '(EK KAMPÜS GAZİOSMANPAŞA) İSTANBUL İSTİNYE ÜNİVERSİTESİ SAĞLIK UYGULAMA VE ARAŞTIRMA MERKEZİ': '(EK KAMPÜS GAZİOSMANPAŞA) İSTANBUL İSTİNYE ÜNİVERSİTESİ SAĞLIK UYGULAMA VE ARAŞTIRMA MERKEZİ', 'İSTANBUL ÜNİVERSİTESİ -CERRAHPAŞA CERRAHPAŞA HASTANESİ': 'İSTANBUL ÜNİVERSİTESİ -CERRAHPAŞA CERRAHPAŞA HASTANESİ', 'ÖZEL MEDİCANA İNTERNATİONAL  İSTANBUL HASTANESİ': 'ÖZEL MEDİCANA İNTERNATİONAL  İSTANBUL HASTANESİ', 'ÖZEL MEDİPOL MEGA HASTANELER KOMPLEKSİ': 'ÖZEL MEDİPOL MEGA HASTANELER KOMPLEKSİ', 'T.C. SAĞLIK BAKANLIĞI İSTANBUL PROF. DR. MAZHAR OSMAN RUH SAĞLIĞI VE SİNİR HASTALIKLARI EAH': 'T.C. SAĞLIK BAKANLIĞI İSTANBUL PROF. DR. MAZHAR OSMAN RUH SAĞLIĞI VE SİNİR HASTALIKLARI EAH', 'İSTANBUL AYDIN ÜNİVERSİTESİ SAĞLIK UYGULAMA VE ARAŞTIRMA MERKEZİ': 'İSTANBUL AYDIN ÜNİVERSİTESİ SAĞLIK UYGULAMA VE ARAŞTIRMA MERKEZİ', 'YENİ YÜZYIL ÜNİVERSİTESİ ÖZEL GAZİOSMANPAŞA HASTANESİ': 'YENİ YÜZYIL ÜNİVERSİTESİ ÖZEL GAZİOSMANPAŞA HASTANESİ', 'ACIBADEM ÜNİVERSİTESİ ÖZEL ACIBADEM ATAKENT HASTANESİ': 'ACIBADEM ÜNİVERSİTESİ ÖZEL ACIBADEM ATAKENT HASTANESİ', 'ÖZEL BEYLİKDÜZÜ KOLAN HOSPİTAL HASTANESİ': 'ÖZEL BEYLİKDÜZÜ KOLAN HOSPİTAL HASTANESİ', 'T.C. SAĞLIK BAKANLIĞI ÇATALCA İLYAS ÇOKAY DEVLET HASTANESİ': 'T.C. SAĞLIK BAKANLIĞI ÇATALCA İLYAS ÇOKAY DEVLET HASTANESİ', 'İSTANBUL ÜNİVERSİTESİ': 'İSTANBUL ÜNİVERSİTESİ', 'İSTANBUL KOÇ ÜNİVERSİTESİ SAĞLIK EĞİTİM VE UYGULAMA MERKEZİ': 'İSTANBUL KOÇ ÜNİVERSİTESİ SAĞLIK EĞİTİM VE UYGULAMA MERKEZİ', 'ÖZEL İSTANBUL MEDİCİNE HOSPİTAL HASTANESİ': 'ÖZEL İSTANBUL MEDİCİNE HOSPİTAL HASTANESİ', 'ÖZEL SİLİVRİ ANADOLU HASTANESİ': 'ÖZEL SİLİVRİ ANADOLU HASTANESİ', 'ÖZEL MEDİCAL PARK BAHÇELİEVLER HASTANESİ': 'ÖZEL MEDİCAL PARK BAHÇELİEVLER HASTANESİ', 'ÖZEL MEDİCANA HOSPİTALS AVCILAR': 'ÖZEL MEDİCANA HOSPİTALS AVCILAR', 'ÖZEL REYAP İSTANBUL HASTANESİ': 'ÖZEL REYAP İSTANBUL HASTANESİ', 'ÖZEL MEMORİAL BAHÇELİEVLER HASTANESİ': 'ÖZEL MEMORİAL BAHÇELİEVLER HASTANESİ', 'ÖZEL BEYKENT HASTANESİ': 'ÖZEL BEYKENT HASTANESİ', 'ÖZEL MEDİPOL BAHÇELİEVLER HASTANESİ': 'ÖZEL MEDİPOL BAHÇELİEVLER HASTANESİ', 'ÖZEL AVCILAR ANADOLU HASTANESİ': 'ÖZEL AVCILAR ANADOLU HASTANESİ', 'T.C. SAĞLIK BAKANLIĞI BAŞAKŞEHİR DEVLET HASTANESİ': 'T.C. SAĞLIK BAKANLIĞI BAŞAKŞEHİR DEVLET HASTANESİ', 'ÖZEL ACIBADEM MASLAK HASTANESİ': 'ÖZEL ACIBADEM MASLAK HASTANESİ', 'BİRUNİ ÜNİVERSİTESİ TIP FAKÜLTESİ HASTANESİ': 'İSTANBUL BİRUNİ ÜNİVERSİTESİ TIP FAKÜLTESİ HASTANESİ', 'ÖZEL İSTANBUL FLORENCE NIGHTINGALE HASTANESİ': 'ÖZEL İSTANBUL FLORENCE NIGHTINGALE HASTANESİ', 'ÖZEL AVRUPA ŞAFAK HASTANESİ': 'ÖZEL AVRUPA ŞAFAK HASTANESİ', 'ÖZEL AVCILAR HOSPİTAL': 'ÖZEL AVCILAR HOSPİTAL', 'ÖZEL MEMORİAL ŞİŞLİ HASTANESİ': 'ÖZEL MEMORİAL ŞİŞLİ HASTANESİ', 'ÖZEL BAYRAMPAŞA KOLAN HOSPITAL HASTANESİ': 'ÖZEL BAYRAMPAŞA KOLAN HOSPITAL HASTANESİ', 'T.C. SAĞLIK BAKANLIĞI İSTANBUL YEDİKULE GÖĞÜS HASTALIKLARI VE GÖĞÜS CERRAHİSİ EAH': 'T.C. SAĞLIK BAKANLIĞI İSTANBUL YEDİKULE GÖĞÜS HASTALIKLARI VE GÖĞÜS CERRAHİSİ EAH', 'T.C. SAĞLIK BAKANLIĞI İSTANBUL MEHMET AKİF ERSOY GÖĞÜS KALP VE DAMAR CERRAHİSİ EAH': 'T.C. SAĞLIK BAKANLIĞI İSTANBUL MEHMET AKİF ERSOY GÖĞÜS KALP VE DAMAR CERRAHİSİ EAH', 'ÖZEL BÜYÜKÇEKMECE KOLAN HOSPİTAL HASTANESİ': 'ÖZEL BÜYÜKÇEKMECE KOLAN HOSPİTAL HASTANESİ', 'ÖZEL ESENCAN HASTANESİ': 'ÖZEL ESENCAN HASTANESİ', 'ÖZEL VEHBİ KOÇ VAKFI AMERİKAN HASTANESİ': 'ÖZEL VEHBİ KOÇ VAKFI AMERİKAN HASTANESİ', 'İSTANBUL ÜNİVERSİTESİ İSTANBUL HASTANESİ': 'İSTANBUL ÜNİVERSİTESİ İSTANBUL HASTANESİ', 'T.C. SAĞLIK BAKANLIĞI BAYRAMPAŞA DEVLET HASTANESİ': 'T.C. SAĞLIK BAKANLIĞI BAYRAMPAŞA DEVLET HASTANESİ', 'T.C. SAĞLIK BAKANLIĞI BAŞAKŞEHİR ÇAM VE SAKURA HASTANESİ GENEL HASTANE': 'T.C. SAĞLIK BAKANLIĞI BAŞAKŞEHİR ÇAM VE SAKURA ŞEHİR HASTANESİ', 'ÖZEL LİV HOSPİTAL ULUS HASTANESİ': 'ÖZEL LİV HOSPİTAL ULUS HASTANESİ', 'T.C. SAĞLIK BAKANLIĞI EYÜPSULTAN DEVLET HASTANESİ': 'T.C. SAĞLIK BAKANLIĞI EYÜPSULTAN DEVLET HASTANESİ', 'İSTANBUL BİRUNİ ÜNİVERSİTESİ SAĞLIK EĞİTİMİ UYGULAMA VE ARAŞTIRMA MERKEZİ': 'İSTANBUL BİRUNİ ÜNİVERSİTESİ SAĞLIK EĞİTİMİ UYGULAMA VE ARAŞTIRMA MERKEZİ', '(EK KAMPÜS) SARIYER HAMİDİYE ETFAL EK HİZMET BİNASI': '(EK KAMPÜS) SARIYER HAMİDİYE ETFAL EK HİZMET BİNASI', 'ÖZEL ACIBADEM BAKIRKÖY HASTANESİ': 'ÖZEL ACIBADEM BAKIRKÖY HASTANESİ', 'T.C. SAĞLIK BAKANLIĞI MARMARA CEZA İNFAZ KURUMU DEVLET HASTANESİ': 'T.C. SAĞLIK BAKANLIĞI MARMARA CEZA İNFAZ KURUMU DEVLET HASTANESİ', 'ÖZEL GÜNEŞLİ ERDEM HASTANESİ': 'ÖZEL GÜNEŞLİ ERDEM HASTANESİ', 'ÖZEL GÜNGÖREN HASTANESİ': 'ÖZEL GÜNGÖREN HASTANESİ', 'ÖZEL ŞİŞLİ KOLAN İNTERNATIONAL HOSPİTAL HASTANESİ': 'ÖZEL ŞİŞLİ KOLAN İNTERNATIONAL HOSPİTAL HASTANESİ', 'ÖZEL AVRASYA HASTANESİ': 'ÖZEL AVRASYA HASTANESİ', '(EK KAMPÜS ZEYTİNBURNU) T.C. SAĞLIK BAKANLIĞI SBÜ İSTANBUL EĞİTİM VE ARAŞTIRMA HASTANESİ': '(EK KAMPÜS ZEYTİNBURNU) T.C. SAĞLIK BAKANLIĞI SBÜ İSTANBUL EĞİTİM VE ARAŞTIRMA HASTANESİ', 'T.C. SAĞLIK BAKANLIĞI İSTANBUL BALTALİMANI METİN SABANCI KEMİK HASTALIKLARI EAH': 'T.C. SAĞLIK BAKANLIĞI İSTANBUL BALTALİMANI METİN SABANCI KEMİK HASTALIKLARI EAH', '(EK KAMPÜS) T.C. SAĞLIK BAKANLIĞI ŞİŞLİ HAMİDİYE ETFAL EĞİTİM VE ARAŞTIRMA HASTANESİ': '(EK KAMPÜS) SARIYER HAMİDİYE ETFAL EK HİZMET BİNASI', 'ÖZEL MEDİCANA HOSPİTALS BAHÇELİEVLER HASTANESİ': 'ÖZEL MEDİCANA HOSPİTALS BAHÇELİEVLER HASTANESİ', 'ÖZEL BİRİNCİ HASTANESİ': 'ÖZEL BİRİNCİ HASTANESİ', 'ÖZEL LİV HOSPİTAL VADİ İSTANBUL HASTANESİ': 'ÖZEL LİV HOSPİTAL VADİ İSTANBUL HASTANESİ', 'ÖZEL AVİCENNA  HASTANESİ': 'ÖZEL AVİCENNA  HASTANESİ', 'ÖZEL BEYLİKDÜZÜ MEDİLİFE HASTANESİ': 'ÖZEL BEYLİKDÜZÜ MEDİLİFE HASTANESİ', 'İSTANBUL MEDİPOL ÜNİVERSİTESİ SAĞLIK EĞİTİM UYGULAMA MERKEZİ': 'İSTANBUL MEDİPOL ÜNİVERSİTESİ SAĞLIK EĞİTİM UYGULAMA MERKEZİ', 'T.C. SAĞLIK BAKANLIĞI ÇERKEZKÖY DEVLET HASTANESİ': 'T.C. SAĞLIK BAKANLIĞI ÇERKEZKÖY DEVLET HASTANESİ', 'ÖZEL ŞAFAK HASTANESİ BAĞCILAR': 'ÖZEL ŞAFAK HASTANESİ BAĞCILAR', 'ÖZEL ACIBADEM İNTERNATİONAL HASTANESİ': 'ÖZEL ACIBADEM İNTERNATİONAL HASTANESİ', 'ÖZEL ACIBADEM FULYA HASTANESİ': 'ÖZEL ACIBADEM FULYA HASTANESİ', 'ÖZEL BAYPARK HOSPİTAL HASTANESİ': 'ÖZEL BAYPARK HOSPİTAL HASTANESİ', 'T.C. SAĞLIK BAKANLIĞI İSTANBUL İSTİNYE DEVLET HASTANESİ': 'T.C. SAĞLIK BAKANLIĞI İSTANBUL İSTİNYE DEVLET HASTANESİ', 'ÖZEL YENİBOSNA SAFA HASTANESİ': 'ÖZEL YENİBOSNA SAFA HASTANESİ', '(EK KAMPÜS) PROF. DR. MURAT DİLMENER ACİL DURUM HASTANESİ EK HİZMET BİNASI': 'İSTANBUL ÜNİVERSİTESİ -CERRAHPAŞA CERRAHPAŞA HASTANESİ', 'ÖZEL RUMELİ HOSPİTAL HASTANESİ': 'ÖZEL RUMELİ HOSPİTAL HASTANESİ', 'ÖZEL KIZILAY KAĞITHANE HASTANESİ': 'ÖZEL KIZILAY KAĞITHANE HASTANESİ', 'ÖZEL İSTANBUL TEMA HASTANESİ': 'ÖZEL İSTANBUL TEMA HASTANESİ', 'ÖZEL MEDİSTANBUL HASTANESİ': 'ÖZEL MEDİSTANBUL HASTANESİ', 'T.C. SAĞLIK BAKANLIĞI ÇORLU DEVLET HASTANESİ': 'T.C. SAĞLIK BAKANLIĞI ÇORLU DEVLET HASTANESİ', 'BEYKENT ÜNİVERSİTESİ TIP FAKÜLTESİ HASTANESİ': 'BEYKENT ÜNİVERSİTESİ TIP FAKÜLTESİ HASTANESİ', 'ÖZEL MEDİGOLD SULTAN HASTANESİ': 'ÖZEL MEDİGOLD SULTAN HASTANESİ', 'ÖZEL SİLİVRİ KOLAN HOSPİTAL HASTANESİ': 'ÖZEL SİLİVRİ KOLAN HOSPİTAL HASTANESİ', 'ÖZEL AVRASYA HASTANESİ GAZİOSMANPAŞA': 'ÖZEL AVRASYA HASTANESİ GAZİOSMANPAŞA', 'ÖZEL GAYRETTEPE  FLORENCE NİGHTİNGALE HASTANESİ': 'ÖZEL GAYRETTEPE  FLORENCE NİGHTİNGALE HASTANESİ', 'ÖZEL TRG HOSPİTALİST HASTANESİ': 'ÖZEL TRG HOSPİTALİST HASTANESİ', 'ÖZEL BAHAT HOSPİTAL HASTANESİ': 'ÖZEL BAHAT HOSPİTAL HASTANESİ', 'ÖZEL AKTİF İNTERNATIONAL HOSPİTAL BAHÇELİEVLER HASTANESİ': 'ÖZEL AKTİF İNTERNATIONAL HOSPİTAL BAHÇELİEVLER HASTANESİ', 'ÖZEL FLORYA HASTANESİ': 'ÖZEL FLORYA HASTANESİ', 'T.C. SAĞLIK BAKANLIĞI ESENLER KADIN DOĞUM VE ÇOCUK HASTALIKLARI HASTANESİ': 'T.C. SAĞLIK BAKANLIĞI ESENLER KADIN DOĞUM VE ÇOCUK HASTALIKLARI HASTANESİ', 'ÖZEL ACIBADEM TAKSİM HASTANESİ': 'ÖZEL ACIBADEM TAKSİM HASTANESİ', 'T.C. SAĞLIK BAKANLIĞI TEKİRDAĞ SARAY DEVLET HASTANESİ': 'T.C. SAĞLIK BAKANLIĞI TEKİRDAĞ SARAY DEVLET HASTANESİ', 'T.C. SAĞLIK BAKANLIĞI İSTANBUL HASEKİ EĞİTİM VE ARAŞTIRMA HASTANESİ': '(EK KAMPÜS SULTANGAZİ) T.C. SAĞLIK BAKANLIĞI SBÜ İSTANBUL HASEKİ EĞİTİM VE ARAŞTIRMA HASTANESİ', 'T.C. SAĞLIK BAKANLIĞI ŞİŞLİ HAMİDİYE ETFAL EĞİTİM VE ARAŞTIRMA HASTANESİ': '(EK KAMPÜS) SEYRANTEPE HAMİDİYE ETFAL EK HİZMET BİNASI', 'ÖZEL BAŞARI HASTANESİ': 'ÖZEL BAŞARI HASTANESİ', 'T.C. SAĞLIK BAKANLIĞI KARTAL KOŞUYOLU YÜKSEK İHTİSAS EĞİTİM VE ARAŞTIRMA HASTANESİ': 'T.C. SAĞLIK BAKANLIĞI KARTAL KOŞUYOLU YÜKSEK İHTİSAS EĞİTİM VE ARAŞTIRMA HASTANESİ', '(EK KAMPÜS ESENLER) İSTANBUL MEDİPOL ÜNİVERSİTESİ SAĞLIK EĞİTİM UYGULAMA MERKEZİ': 'İSTANBUL MEDİPOL ÜNİVERSİTESİ SAĞLIK EĞİTİM UYGULAMA MERKEZİ', 'BEYKENT ÜNİVERSİTESİ': 'ÖZEL BEYKENT HASTANESİ', 'İstanbul Beykent Üniversitesi Tı Fakültesi  hastanesi': 'BEYKENT ÜNİVERSİTESİ TIP FAKÜLTESİ HASTANESİ', 'ÖZEL DOĞAN HASTANESİ': 'ÖZEL DOĞAN HASTANESİ', 'T.C. SAĞLIK BAKANLIĞI BAŞAKŞEHİR ÇAM VE SAKURA HASTANESİ ÇOCUK HASTANESİ': 'T.C. SAĞLIK BAKANLIĞI BAŞAKŞEHİR ÇAM VE SAKURA ŞEHİR HASTANESİ', 'İSTANBUL ÖZEL MEMORİAL HİZMET HASTANESİ': 'ÖZEL MEMORİAL BAHÇELİEVLER HASTANESİ', 'ÖZEL LEVENT HASTANESİ': 'ÖZEL LEVENT HASTANESİ', 'T.C. SAĞLIK BAKANLIĞI ÜMRANİYE EĞİTİM VE ARAŞTIRMA HASTANESİ': 'T.C. SAĞLIK BAKANLIĞI ÜMRANİYE EĞİTİM VE ARAŞTIRMA HASTANESİ', 'T.C. SAĞLIK BAKANLIĞI İSTANBUL HAYDARPAŞA NUMUNE EĞİTİM VE ARAŞTIRMA HASTANESİ': 'T.C. SAĞLIK BAKANLIĞI İSTANBUL HAYDARPAŞA NUMUNE EĞİTİM VE ARAŞTIRMA HASTANESİ', 'ÖZEL YEDİKULE SURP PIRGİÇ ERMENİ HASTANESİ': 'ÖZEL YEDİKULE SURP PIRGİÇ ERMENİ HASTANESİ', 'ÖZEL MEDİVİTA İNCİRLİ HASTANESİ': 'ÖZEL MEDİVİTA İNCİRLİ HASTANESİ', 'T.C. SAĞLIK BAKANLIĞI İSTANBUL DR. SİYAMİ ERSEK GÖĞÜS KALP VE DAMAR CERRAHİSİ EAH': 'T.C. SAĞLIK BAKANLIĞI İSTANBUL DR. SİYAMİ ERSEK GÖĞÜS KALP VE DAMAR CERRAHİSİ EAH', 'ÖZEL İSTANBUL ŞAFAK HASTANESİ': 'ÖZEL İSTANBUL ŞAFAK HASTANESİ', 'ÖZEL İKİTELLİ BAHAT HASTANESİ': 'ÖZEL İKİTELLİ BAHAT HASTANESİ', 'İSTANBUL BAKIRKÖY DR.SADİ KONUK EĞİTİM VE ARAŞTIRMA HASTANESİ BAHÇELİEVLER SEMT POLİKLİNİĞİ': 'T.C. SAĞLIK BAKANLIĞI BAKIRKÖY DR. SADİ KONUK EĞİTİM VE ARAŞTIRMA HASTANESİ', 'ÖZEL AİLE HASTANESİ': 'ÖZEL AİLE HASTANESİ', 'T.C. SAĞLIK BAKANLIĞI İSTANBUL FİZİK TEDAVİ VE REHABİLİTASYON EĞİTİM VE ARAŞTIRMA HASTANESİ': 'T.C. SAĞLIK BAKANLIĞI İSTANBUL FİZİK TEDAVİ VE REHABİLİTASYON EĞİTİM VE ARAŞTIRMA HASTANESİ', 'İSTANBUL BAKIRKÖY  DR.SADİ KONUK EĞİTİM VE ARAŞTIRMA HASTANESİ BAKIRKÖY SEMT POLİKLİNİĞİ': 'T.C. SAĞLIK BAKANLIĞI BAKIRKÖY DR. SADİ KONUK EĞİTİM VE ARAŞTIRMA HASTANESİ', 'ÖZEL AVRUPA HOSPITAL HASTANESİ': 'ÖZEL AVRUPA HOSPITAL HASTANESİ', 'T.C. SAĞLIK BAKANLIĞI İSTANBUL OKMEYDANI AĞIZ VE DİŞ SAĞLIĞI HASTANESİ': 'T.C. SAĞLIK BAKANLIĞI İSTANBUL OKMEYDANI AĞIZ VE DİŞ SAĞLIĞI HASTANESİ', 'AYDIN ÜNİVERSİTESİ SAĞLIK UYGULAMA VE ARAŞTIRMA HASTANESİ': 'İSTANBUL AYDIN ÜNİVERSİTESİ SAĞLIK UYGULAMA VE ARAŞTIRMA MERKEZİ', 'T.C. SAĞLIK BAKANLIĞI KARTAL DR. LÜTFİ KIRDAR ŞEHİR HASTANESİ': 'T.C. SAĞLIK BAKANLIĞI KARTAL DR. LÜTFİ KIRDAR ŞEHİR HASTANESİ', 'T.C. SAĞLIK BAKANLIĞI İSTANBUL SULTAN 2. ABDÜLHAMİD HAN EĞİTİM VE ARAŞTIRMA HASTANESİ': 'T.C. SAĞLIK BAKANLIĞI İSTANBUL SULTAN 2. ABDÜLHAMİD HAN EĞİTİM VE ARAŞTIRMA HASTANESİ', 'T.C. SAĞLIK BAKANLIĞI GÖZTEPE PROF. DR. SÜLEYMAN YALÇIN ŞEHİR HASTANESİ': 'T.C. SAĞLIK BAKANLIĞI GÖZTEPE PROF. DR. SÜLEYMAN YALÇIN ŞEHİR HASTANESİ', 'ÖZEL ASYA HASTANESİ': 'ÖZEL ASYA HASTANESİ', 'ÖZEL AVİCENNA HASTANESİ GÜLTEPE': 'ÖZEL AVİCENNA HASTANESİ GÜLTEPE', 'İSTANBUL ADLİ TIP KURUMU': 'İSTANBUL ADLİ TIP KURUMU', '(EK KAMPÜS BEYLİKDÜZÜ) İSTANBUL T.C. SB KANUNİ SULTAN SÜLEYMAN EAH': 'T.C. SAĞLIK BAKANLIĞI BEYLİKDÜZÜ DEVLET HASTANESİ', 'T.C. SAĞLIK BAKANLIĞI MARMARA ÜNİVERSİTESİ PENDİK EĞİTİM VE ARAŞTIRMA HASTANESİ': 'T.C. SAĞLIK BAKANLIĞI MARMARA ÜNİVERSİTESİ PENDİK EĞİTİM VE ARAŞTIRMA HASTANESİ', 'ÖZEL TÜRKİYE GAZETESİ HASTANESİ': 'ÖZEL TÜRKİYE GAZETESİ HASTANESİ', 'İSTANBUL BAĞCILAR EĞİTİM VE ARAŞTIRMA HASTANESİ GÜNGÖREN SEMT POLİKLİNİĞİ': 'T.C. SAĞLIK BAKANLIĞI BAĞCILAR EĞİTİM VE ARAŞTIRMA HASTANESİ', 'İSTANBUL ÜNİVERSİTESİ -CERRAHPAŞA KARDİYOLOJİ ENSTİTÜSÜ HASTANESİ': 'İSTANBUL ÜNİVERSİTESİ -CERRAHPAŞA KARDİYOLOJİ ENSTİTÜSÜ HASTANESİ', 'ÖZEL ÇAPA HASTANESİ': 'ÖZEL ÇAPA HASTANESİ', 'T.C. SAĞLIK BAKANLIĞI BAŞAKŞEHİR ÇAM VE SAKURA ŞEHİR HASTANESİ KADIN DOĞUM HASTANESİ': 'T.C. SAĞLIK BAKANLIĞI BAŞAKŞEHİR ÇAM VE SAKURA ŞEHİR HASTANESİ', 'ÖZEL MEDİCANA ATAKÖY HASTANESİ': 'ÖZEL MEDİCANA ATAKÖY HASTANESİ', 'T.C. SAĞLIK BAKANLIĞI İSTANBUL PROF. DR. CEMİL TAŞÇIOĞLU ŞEHİR HAST.KAĞITHANE AİLE SAĞLIĞI MERKEZİ': 'T.C. SAĞLIK BAKANLIĞI İSTANBUL PROF. DR. CEMİL TAŞÇIOĞLU ŞEHİR HAST.KAĞITHANE AİLE SAĞLIĞI MERKEZİ', 'ÖZEL ESENLER ENSAR HASTANESİ AVİCENNA': 'ÖZEL ESENLER ENSAR HASTANESİ AVİCENNA', 'T.C. SAĞLIK BAKANLIĞI ERENKÖY RUH VE SİNİR HASTALIKLARI EĞİTİM VE ARAŞTIRMA HASTANESİ': 'T.C. SAĞLIK BAKANLIĞI ERENKÖY RUH VE SİNİR HASTALIKLARI EĞİTİM VE ARAŞTIRMA HASTANESİ', 'ÖZEL MEDİCANA ZİNCİRLİKUYU HASTANESİ': 'ÖZEL MEDİCANA ZİNCİRLİKUYU HASTANESİ', 'T.C. SAĞLIK BAKANLIĞI BEŞİKTAŞ SAİT ÇİFTÇİ DEVLET HASTANESİ': 'T.C. SAĞLIK BAKANLIĞI BEŞİKTAŞ SAİT ÇİFTÇİ DEVLET HASTANESİ', 'T.C. SAĞLIK BAKANLIĞI BEYOĞLU GÖZ EĞİTİM VE ARAŞTIRMA HASTANESİ': 'T.C. SAĞLIK BAKANLIĞI BEYOĞLU GÖZ EĞİTİM VE ARAŞTIRMA HASTANESİ', 'BİRUNİ ÜNİVERSİTESİ': 'İSTANBUL BİRUNİ ÜNİVERSİTESİ TIP FAKÜLTESİ HASTANESİ', 'T.C. SAĞLIK BAKANLIĞI BEYKOZ DEVLET HASTANESİ': 'T.C. SAĞLIK BAKANLIĞI BEYKOZ DEVLET HASTANESİ', 'AYDIN ÜNİVERSİTESİ SAĞLIK UYGULAMA VE ARAŞTIRMA MERKEZİ': 'İSTANBUL AYDIN ÜNİVERSİTESİ SAĞLIK UYGULAMA VE ARAŞTIRMA MERKEZİ', 'T.C. SAĞLIK BAKANLIĞI SANCAKTEPE ŞEHİT PROF. DR. İLHAN VARANK EĞİTİM VE ARAŞTIRMA HASTANESİ': 'T.C. SAĞLIK BAKANLIĞI SANCAKTEPE ŞEHİT PROF. DR. İLHAN VARANK EĞİTİM VE ARAŞTIRMA HASTANESİ', 'KANUNİ SULTAN SÜLEYMAN EĞİTİM VE ARAŞTIRMA HASTANESİ ÇOCUK PERİTON MERKEZİ': 'KANUNİ SULTAN SÜLEYMAN EĞİTİM VE ARAŞTIRMA HASTANESİ ÇOCUK PERİTON MERKEZİ', 'ÖZEL KADIKÖY FLORANCE NİGHTİNGALE HASTANESİ': 'ÖZEL KADIKÖY FLORANCE NİGHTİNGALE HASTANESİ', 'T.C. SAĞLIK BAKANLIĞI MARMARA EREĞLİSİ DEVLET HASTANESİ': 'T.C. SAĞLIK BAKANLIĞI MARMARA EREĞLİSİ DEVLET HASTANESİ', 'ÖZEL ACIBADEM ALTUNİZADE HASTANESİ': 'ÖZEL ACIBADEM ALTUNİZADE HASTANESİ', 'ESENYURT NECMİ KADIOĞLU DEVLET HASTANESİ HEMODİYALİZ MERKEZİ': 'ESENYURT NECMİ KADIOĞLU DEVLET HASTANESİ HEMODİYALİZ MERKEZİ', 'PROF.DR. CEMİL TAŞCIOĞLU ŞEHİR HASTANESİ HEMODİYALİZ VE PERİTON DİYALİZ MERKEZİ': 'PROF.DR. CEMİL TAŞCIOĞLU ŞEHİR HASTANESİ HEMODİYALİZ VE PERİTON DİYALİZ MERKEZİ', 'ÖZEL ERDEM HASTANESİ': 'ÖZEL ERDEM HASTANESİ', 'ADLİ TIP KURUMU BAŞKANLIĞI': 'ADLİ TIP KURUMU BAŞKANLIĞI', 'ÖZEL ŞİŞLİ FLORENCE NIGHTINGALE HASTANESİ KORDON KANI BANKASI': 'ÖZEL ŞİŞLİ FLORENCE NIGHTINGALE HASTANESİ KORDON KANI BANKASI', 'T.C. SAĞLIK BAKANLIĞI BAŞAKŞEHİR ÇAM VE SAKURA ŞEHİR HASTANESİ KALP VE DAMAR HASTANESİ': 'T.C. SAĞLIK BAKANLIĞI BAŞAKŞEHİR ÇAM VE SAKURA ŞEHİR HASTANESİ', 'ÖZEL MEDİCANA HOSPİTALS AVCILAR DİYALİZ MERKEZİ': 'ÖZEL MEDİCANA HOSPİTALS AVCILAR DİYALİZ MERKEZİ', 'ÖZEL İRMET HOSPİTAL HASTANESİ': 'ÖZEL İRMET HOSPİTAL HASTANESİ', 'İSTANBUL EYÜP DEVLET HASTANESİ ALİBEYKÖY SEMT POLİKLİNİĞİ': 'T.C. SAĞLIK BAKANLIĞI EYÜPSULTAN DEVLET HASTANESİ', 'ÖZEL İSTANBUL BALIKLI RUM HASTANESİ': 'ÖZEL İSTANBUL BALIKLI RUM HASTANESİ', 'İSTANBUL EĞİTİM VE ARAŞTIRMA HASTANESİ OSMANİYE SEMT POLİKLİNİĞİ': 'T.C. SAĞLIK BAKANLIĞI İSTANBUL EĞİTİM VE ARAŞTIRMA HASTANESİ', 'SULTANGAZİ HASEKİ EĞİTİM VE ARAŞTIRMA HASTANESİ HEMODİYALİZ VE PERİTON DİYALİZ MERKEZİ': 'SULTANGAZİ HASEKİ EĞİTİM VE ARAŞTIRMA HASTANESİ HEMODİYALİZ VE PERİTON DİYALİZ MERKEZİ', 'ÖZEL MEDİPOL MEGA HASTANELERİ KOMPLEKSİ HİPERBARİK OKSİJEN TEDAVİ MERKEZİ': 'ÖZEL MEDİPOL MEGA HASTANELERİ KOMPLEKSİ HİPERBARİK OKSİJEN TEDAVİ MERKEZİ', 'İSTANBUL ATAŞEHİR KANUNİ SULTAN SÜLEYMAN AİLE SAĞLIĞI MERKEZİ': 'İSTANBUL ATAŞEHİR KANUNİ SULTAN SÜLEYMAN AİLE SAĞLIĞI MERKEZİ', 'ÖZEL VM MEDİCALPARK PENDİK HASTANESİ': 'ÖZEL VM MEDİCALPARK PENDİK HASTANESİ', 'ÖZEL RAMİ HASTANESİ': 'ÖZEL RAMİ HASTANESİ', 'ÖZEL REYAP HASTANESİ': 'ÖZEL REYAP HASTANESİ', 'T.C. SAĞLIK BAKANLIĞI BAŞAKŞEHİR ÇAM VE SAKURA HASTANESİ RUH VE SİNİR HASTALIKLARI HASTANESİ': 'T.C. SAĞLIK BAKANLIĞI BAŞAKŞEHİR ÇAM VE SAKURA ŞEHİR HASTANESİ', 'ŞİŞLİ HAMİDİYE ETFAL EĞİTİM VE ARAŞTIRMA HASTANESİ SEYRANTEPE EK HİZMET BİNASI HEMODİYALİZ VE PERİTON DİYALİZ MERKEZİ': 'ŞİŞLİ HAMİDİYE ETFAL EĞİTİM VE ARAŞTIRMA HASTANESİ SEYRANTEPE EK HİZMET BİNASI HEMODİYALİZ VE PERİTON DİYALİZ MERKEZİ', 'ÖZEL İSTANBUL MEDİPOL HASTANESİ': 'ÖZEL İSTANBUL MEDİPOL HASTANESİ', 'T.C. SAĞLIK BAKANLIĞI İSTANBUL FATİH SULTAN MEHMET EĞİTİM VE ARAŞTIRMA HASTANESİ': 'T.C. SAĞLIK BAKANLIĞI İSTANBUL FATİH SULTAN MEHMET EĞİTİM VE ARAŞTIRMA HASTANESİ', 'ÖZEL DUYGU HASTANESİ': 'ÖZEL DUYGU HASTANESİ', 'ÖZEL GAZİ HASTANESİ': 'ÖZEL GAZİ HASTANESİ', 'T.C. SAĞLIK BAKANLIĞI GÜNGÖREN AĞIZ VE DİŞ SAĞLIĞI MERKEZİ': 'T.C. SAĞLIK BAKANLIĞI GÜNGÖREN AĞIZ VE DİŞ SAĞLIĞI MERKEZİ', 'ÖZEL DAİSY POLİKLİNİĞİ': 'ÖZEL DAİSY POLİKLİNİĞİ', 'İSTANBUL PROF.DR. CEMİL TAŞÇIOĞLU ŞEHİR HASTANESİ ŞİŞLİ EĞİTİM AİLE SAĞLIĞI MERKEZİ': 'İSTANBUL PROF.DR. CEMİL TAŞÇIOĞLU ŞEHİR HASTANESİ ŞİŞLİ EĞİTİM AİLE SAĞLIĞI MERKEZİ', 'İSTANBUL ÜNİVERSİTESİ ONKOLOJİ ENSTİTÜSÜ HASTANESİ': 'İSTANBUL ÜNİVERSİTESİ ONKOLOJİ ENSTİTÜSÜ HASTANESİ', 'İSTANBUL PROF.DR. CEMİL TAŞCIOĞLU ŞEHİR HASTANESİ GÜLBAHAR SEMT POLİKLİNİĞİ': 'T.C. SAĞLIK BAKANLIĞI İSTANBUL PROF. DR. CEMİL TAŞCIOĞLU ŞEHİR HASTANESİ', '(EK KAMPÜS ÇEKMEKÖY) T.C. SAĞLIK BAKANLIĞI SANCAKTEPE ŞEHİT PROF. DR. İLHAN VARANK EAH': '(EK KAMPÜS ÇEKMEKÖY) T.C. SAĞLIK BAKANLIĞI SANCAKTEPE ŞEHİT PROF. DR. İLHAN VARANK EAH', 'BAKIRKÖY ADLİ TIP ŞUBE MÜDÜRLÜĞÜ': 'BAKIRKÖY ADLİ TIP ŞUBE MÜDÜRLÜĞÜ', 'İSTANBUL GÜNGÖREN BAĞCILAR EĞİTİM VE ARAŞTIRMA HASTANESİ EĞİTİM AİLE SAĞLIĞI MERKEZİ': 'İSTANBUL GÜNGÖREN BAĞCILAR EĞİTİM VE ARAŞTIRMA HASTANESİ EĞİTİM AİLE SAĞLIĞI MERKEZİ', 'İSTANBUL GAZİOSMANPAŞA HASEKİ EAH EĞİTİM AİLE SAĞLIĞI MERKEZİ': 'İSTANBUL GAZİOSMANPAŞA HASEKİ EAH EĞİTİM AİLE SAĞLIĞI MERKEZİ', 'İSTANBUL GAZİOSMANPAŞA EĞİTİM VE ARAŞTIRMA HASTANESİ ALİYA İZZETBEGOVİÇ SEMT POLİKLİNİĞİ': 'T.C. SAĞLIK BAKANLIĞI GAZİOSMANPAŞA EĞİTİM VE ARAŞTIRMA HASTANESİ', 'ÖZEL DOĞAN TIP MERKEZİ': 'ÖZEL DOĞAN TIP MERKEZİ', '(EK KAMPÜS) PROF. DR. FERİHA ÖZ ACİL DURUM HASTANESİ EK HİZMET BİNASI ': '(EK KAMPÜS) PROF. DR. FERİHA ÖZ ACİL DURUM HASTANESİ EK HİZMET BİNASI ', 'BİRUNİ ÜNİVERSİTESİ AĞIZ VE DİŞ SAĞLIĞI EĞİTİM VE ARAŞTIRMA MERKEZİ': 'BİRUNİ ÜNİVERSİTESİ AĞIZ VE DİŞ SAĞLIĞI EĞİTİM VE ARAŞTIRMA MERKEZİ', '(EK KAMPÜS MALTEPE) İSTANBUL BEZMİALEM VAKIF ÜNİVERSİTESİ SAĞLIK UYGULAMA VE ARAŞTIRMA MERKEZİ DRAGOS HASTANESİ': '(EK KAMPÜS MALTEPE) İSTANBUL BEZMİALEM VAKIF ÜNİVERSİTESİ SAĞLIK UYGULAMA VE ARAŞTIRMA MERKEZİ DRAGOS HASTANESİ', 'FİZİK TEDAVİ VE REHABİLİTİASYON EK HİZMET BİNASI TIBBİ PATOLOJİ': 'FİZİK TEDAVİ VE REHABİLİTİASYON EK HİZMET BİNASI TIBBİ PATOLOJİ', 'DHMİ İSTANBUL ATATÜRK HAVALİMANI SAĞLIK ÜNİTESİ': 'DHMİ İSTANBUL ATATÜRK HAVALİMANI SAĞLIK ÜNİTESİ', 'ACIBADEM ÜNİVERSİTESİ': 'ACIBADEM ÜNİVERSİTESİ ÖZEL ACIBADEM ATAKENT HASTANESİ', 'İSTANBUL FATİH NESLİŞAH SULTAN AİLE SAĞLIĞI MERKEZİ': 'İSTANBUL FATİH NESLİŞAH SULTAN AİLE SAĞLIĞI MERKEZİ', 'İSTANBUL BAHÇELİEVLER DR. SADİ KONUK EAH EĞİTİM AİLE SAĞLIĞI MERKEZİ': 'İSTANBUL BAHÇELİEVLER DR. SADİ KONUK EAH EĞİTİM AİLE SAĞLIĞI MERKEZİ', 'ARNAVUTKÖY BELEDİYESİ': 'ARNAVUTKÖY BELEDİYESİ', 'İSTANBUL ÇEKMEKÖY MİMAR SİNAN AİLE SAĞLIĞI MERKEZİ': 'İSTANBUL ÇEKMEKÖY MİMAR SİNAN AİLE SAĞLIĞI MERKEZİ', 'İSTANBUL BAŞKENT ÜNİVERSİTESİ İSTANBUL SAĞLIK UYGULAMA VE ARAŞTIRMA MERKEZİ': 'İSTANBUL BAŞKENT ÜNİVERSİTESİ İSTANBUL SAĞLIK UYGULAMA VE ARAŞTIRMA MERKEZİ', 'İSTANBUL BEZMİALEM VAKIF ÜNİVERSİTESİ AĞIZ VE DİŞ SAĞLIĞI UYGULAMA VE ARAŞTIRMA MERKEZİ': 'İSTANBUL BEZMİALEM VAKIF ÜNİVERSİTESİ AĞIZ VE DİŞ SAĞLIĞI UYGULAMA VE ARAŞTIRMA MERKEZİ', 'İSTANBUL PROF.DR. CEMİL TAŞÇIOĞLU ŞEHİR HASTANESİ GAZİOSMANPAŞA HÜRRİYET AİLE SAĞLIĞI MERKEZİ': 'İSTANBUL PROF.DR. CEMİL TAŞÇIOĞLU ŞEHİR HASTANESİ GAZİOSMANPAŞA HÜRRİYET AİLE SAĞLIĞI MERKEZİ', 'İSTANBUL OKAN ÜNİVERSİTESİ SAĞLIK UYGULAMA VE ARAŞTIRMA MERKEZİ': 'İSTANBUL OKAN ÜNİVERSİTESİ SAĞLIK UYGULAMA VE ARAŞTIRMA MERKEZİ', 'BEZMİALEM VAKIF ÜNİVERSİTESİ TIP FAKÜLTESİ HASTANESİ HEMODİYALİZ VE PERİTON DİYALİZ MERKEZİ': 'BEZMİALEM VAKIF ÜNİVERSİTESİ TIP FAKÜLTESİ HASTANESİ HEMODİYALİZ VE PERİTON DİYALİZ MERKEZİ', 'İSTANBUL ESENYURT 9 NOLU AİLE SAĞLIĞI MERKEZİ': 'İSTANBUL ESENYURT 9 NOLU AİLE SAĞLIĞI MERKEZİ', 'İSTANBUL HASEKİ EĞİTİM VE ARAŞTIRMA HASTANESİ FATİH SEMT POLİKLİNİĞİ': '(EK KAMPÜS SULTANGAZİ) T.C. SAĞLIK BAKANLIĞI SBÜ İSTANBUL HASEKİ EĞİTİM VE ARAŞTIRMA HASTANESİ', 'KÜÇÜKÇEKMECE SEMT POLİKLİNİĞİ': 'T.C. SAĞLIK BAKANLIĞI İSTANBUL MEHMET AKİF ERSOY GÖĞÜS KALP VE DAMAR CERRAHİSİ EAH', 'T.C. SAĞLIK BAKANLIĞI SARIYER AĞIZ VE DİŞ SAĞLIĞI MERKEZİ': 'T.C. SAĞLIK BAKANLIĞI SARIYER AĞIZ VE DİŞ SAĞLIĞI MERKEZİ', 'T.C. SAĞLIK BAKANLIĞI TUZLA DEVLET HASTANESİ': 'T.C. SAĞLIK BAKANLIĞI TUZLA DEVLET HASTANESİ', 'T.C. SAĞLIK BAKANLIĞI ÜSKÜDAR DEVLET HASTANESİ': 'T.C. SAĞLIK BAKANLIĞI ÜSKÜDAR DEVLET HASTANESİ', 'T.C. SAĞLIK BAKANLIĞI İSTANBUL TOPÇULAR AĞIZ VE DİŞ SAĞLIĞI MERKEZİ': 'T.C. SAĞLIK BAKANLIĞI İSTANBUL TOPÇULAR AĞIZ VE DİŞ SAĞLIĞI MERKEZİ', 'ÖZEL KARACA AĞIZ VE DİŞ SAĞLIĞI POLİKLİNİĞİ': 'ÖZEL KARACA AĞIZ VE DİŞ SAĞLIĞI POLİKLİNİĞİ', 'ÖZEL HALKALI DİYALİZ MERKEZİ': 'ÖZEL HALKALI DİYALİZ MERKEZİ', 'T.C.SAĞLIK BAKANLIĞI ARNAVUTKÖY DEVLET HASTANESİ HADIMKÖY SEMT POLİKLİNİĞİ': 'T.C. SAĞLIK BAKANLIĞI ARNAVUTKÖY DEVLET HASTANESİ', 'YEŞİLKÖY PROF.DR.MURAT DİLMENER ACİL DURUM HASTANESİ EK HİZMET BİNASI': 'İSTANBUL ÜNİVERSİTESİ -CERRAHPAŞA CERRAHPAŞA HASTANESİ', 'ÇERKEZKÖY DEVLET HASTANESİ PATOLOJİ LABARATUVARI': 'ÇERKEZKÖY DEVLET HASTANESİ PATOLOJİ LABARATUVARI', 'ÖZEL A PLUS HASTANESİ': 'ÖZEL A PLUS HASTANESİ', 'ÖZEL DÜNYA GÖZ HASTANESİ ATAKÖY': 'ÖZEL DÜNYA GÖZ HASTANESİ ATAKÖY', 'ÖZEL ARNAVUTKÖY DİYALİZ MERKEZİ': 'ÖZEL ARNAVUTKÖY DİYALİZ MERKEZİ', 'ÖZEL DOĞA HOSPİTAL HASTANESİ': 'ÖZEL DOĞA HOSPİTAL HASTANESİ', 'ÖZEL ATAKÖY HASTANESİ': 'ÖZEL ATAKÖY HASTANESİ', 'ÖZEL BİRİNCİ GÖZ HASTANESİ': 'ÖZEL BİRİNCİ GÖZ HASTANESİ', 'ÖZEL AVCILAR HOSPİTAL DİYALİZ MERKEZİ': 'ÖZEL AVCILAR HOSPİTAL DİYALİZ MERKEZİ', 'ÖZEL BÜYÜK ANADOLU TIP MERKEZİ': 'ÖZEL BÜYÜK ANADOLU TIP MERKEZİ', 'ÖZEL AVRUPA DİŞ AĞIZ VE DİŞ SAĞLIĞI POLİKLİNİĞİ AMBARLI': 'ÖZEL AVRUPA DİŞ AĞIZ VE DİŞ SAĞLIĞI POLİKLİNİĞİ AMBARLI', 'ÖZEL MEDİCANA ATAŞEHİR HASTANESİ': 'ÖZEL MEDİCANA ATAŞEHİR HASTANESİ', 'ÖZEL MEDİCANA HOSPİTALS ÇAMLICA DİYALİZ MERKEZİ': 'ÖZEL MEDİCANA HOSPİTALS ÇAMLICA DİYALİZ MERKEZİ', 'MARMARA CEZA İNFAZ KURUMU DEVLET HASTANESİ HEMODİYALİZ ÜNİTESİ': 'MARMARA CEZA İNFAZ KURUMU DEVLET HASTANESİ HEMODİYALİZ ÜNİTESİ', 'ÖZEL MEDİCANA TIP MERKEZİ': 'ÖZEL MEDİCANA TIP MERKEZİ', 'ÖZEL İSTANBUL HOSPİTAL HASTANESİ': 'ÖZEL İSTANBUL HOSPİTAL HASTANESİ', 'SİLİVRİ BELEDİYESİ': 'SİLİVRİ BELEDİYESİ', 'ÖZEL ÇEKMEKÖY TIP MERKEZİ': 'ÖZEL ÇEKMEKÖY TIP MERKEZİ', 'ÖZEL YUNUS EMRE TIP MERKEZİ': 'ÖZEL YUNUS EMRE TIP MERKEZİ', 'T.C. SAĞLIK BAKANLIĞI ANKARA GÜLHANE EĞİTİM VE ARAŞTIRMA HASTANESİ': 'T.C. SAĞLIK BAKANLIĞI ANKARA GÜLHANE EĞİTİM VE ARAŞTIRMA HASTANESİ', 'T.C. SAĞLIK BAKANLIĞI BAHÇELİEVLER AĞIZ VE DİŞ SAĞLIĞI MERKEZİ': 'T.C. SAĞLIK BAKANLIĞI BAHÇELİEVLER AĞIZ VE DİŞ SAĞLIĞI MERKEZİ', 'T.C. SAĞLIK BAKANLIĞI BAĞCILAR AĞIZ VE DİŞ SAĞLIĞI HASTANESİ': 'T.C. SAĞLIK BAKANLIĞI BAĞCILAR AĞIZ VE DİŞ SAĞLIĞI HASTANESİ', 'ÖZEL TARABYA AĞIZ VE DİŞ SAĞLIĞI POLİKLİNİĞİ': 'ÖZEL TARABYA AĞIZ VE DİŞ SAĞLIĞI POLİKLİNİĞİ', 'T.C. SAĞLIK BAKANLIĞI BAŞAKŞEHİR ÇAM VE SAKURA HASTANESİ ONKOLOJİ HASTANESİ': 'T.C. SAĞLIK BAKANLIĞI BAŞAKŞEHİR ÇAM VE SAKURA ŞEHİR HASTANESİ', 'ÖZEL SARIYER DİYALİZ MERKEZİ': 'ÖZEL SARIYER DİYALİZ MERKEZİ', 'ÖZEL OTA-JİNEMED HASTANESİ': 'ÖZEL OTA-JİNEMED HASTANESİ', 'ÖZEL OKMEYDANI HASTANESİ': 'ÖZEL OKMEYDANI HASTANESİ', 'ÖZEL MURAT ALTUN AĞIZ VE DİŞ SAĞLIĞI POLİKLİNİĞİ': 'ÖZEL MURAT ALTUN AĞIZ VE DİŞ SAĞLIĞI POLİKLİNİĞİ', 'ÖZEL MEMORİAL ATAŞEHİR HASTANESİ': 'ÖZEL MEMORİAL ATAŞEHİR HASTANESİ', 'ÖZEL MEDİSTATE KAVACIK HASTANESİ': 'ÖZEL MEDİSTATE KAVACIK HASTANESİ', 'T.C. SAĞLIK BAKANLIĞI BÜYÜKÇEKMECE AĞIZ VE DİŞ SAĞLIĞI MERKEZİ': 'T.C. SAĞLIK BAKANLIĞI BÜYÜKÇEKMECE AĞIZ VE DİŞ SAĞLIĞI MERKEZİ', 'T.C. SAĞLIK BAKANLIĞI BAŞAKŞEHİR ÇAM VE SAKURA HASTANESİ FİZİK TEDAVİ VE REHABİLİTASYON HASTANESİ': 'T.C. SAĞLIK BAKANLIĞI BAŞAKŞEHİR ÇAM VE SAKURA ŞEHİR HASTANESİ', 'ÖZEL ALİBEY HOSPİTAL HASTANESİ': 'ÖZEL ALİBEY HOSPİTAL HASTANESİ', 'ÖZEL YAŞAR DİYALİZ MERKEZİ': 'ÖZEL YAŞAR DİYALİZ MERKEZİ', 'ÖZEL HALKALI KENT HASTANESİ': 'ÖZEL HALKALI KENT HASTANESİ', 'ÖZEL KÜÇÜKÇEKMECE HASTANESİ': 'ÖZEL KÜÇÜKÇEKMECE HASTANESİ', 'ÖZEL MECİDİYEKÖY ÇEVRE HASTANESİ': 'ÖZEL MECİDİYEKÖY ÇEVRE HASTANESİ', 'ÜSKÜDAR ÜNİVERSİTESİ': 'ÜSKÜDAR ÜNİVERSİTESİ', 'ÖZEL SANTE PLUS  HASTANESİ': 'ÖZEL SANTE PLUS  HASTANESİ', 'İSTANBUL ATLAS ÜNİVERSİTESİ TIP FAKÜLTESİ HASTANESİ': 'İSTANBUL ATLAS ÜNİVERSİTESİ TIP FAKÜLTESİ HASTANESİ', 'T.C. SAĞLIK BAKANLIĞI VAN EĞİTİM VE ARAŞTIRMA HASTANESİ': 'T.C. SAĞLIK BAKANLIĞI VAN EĞİTİM VE ARAŞTIRMA HASTANESİ', 'ÖZEL FATİH HASTANESİ': 'ÖZEL FATİH HASTANESİ', 'ÖZEL ERKLİ DİYALİZ MERKEZİ': 'ÖZEL ERKLİ DİYALİZ MERKEZİ', 'ÖZEL AVUSTURYA SEN JORJ HASTANESİ': 'ÖZEL AVUSTURYA SEN JORJ HASTANESİ', 'ÖZEL DELTA HOSPİTAL': 'ÖZEL DELTA HOSPİTAL', 'T.C. SAĞLIK BAKANLIĞI BAYRAMPAŞA DEVLET HASTANESİ TOPÇULAR SEMT POLİKLİNİĞİ': 'T.C. SAĞLIK BAKANLIĞI BAYRAMPAŞA DEVLET HASTANESİ', 'İSTANBUL SULTANGAZİ ŞİŞLİ HAMİDİYE ETFAL EĞİTİM VE ARAŞTIRMA HASTANESİ EĞİTİM AİLE SAĞLIĞI MERKEZİ': 'İSTANBUL SULTANGAZİ ŞİŞLİ HAMİDİYE ETFAL EĞİTİM VE ARAŞTIRMA HASTANESİ EĞİTİM AİLE SAĞLIĞI MERKEZİ', 'ÖZEL BAĞCILAR ŞİFA DİYALİZ MERKEZİ': 'ÖZEL BAĞCILAR ŞİFA DİYALİZ MERKEZİ', 'ÖZEL MED-OK HİPERBARİK OKSİJEN TEDAVİ MERKEZİ': 'ÖZEL MED-OK HİPERBARİK OKSİJEN TEDAVİ MERKEZİ', 'T.C. SAĞLIK BAKANLIĞI TATVAN DEVLET HASTANESİ': 'T.C. SAĞLIK BAKANLIĞI TATVAN DEVLET HASTANESİ', 'ÖZEL MEDİKARE BAĞCILAR DİYALİZ MERKEZİ': 'ÖZEL MEDİKARE BAĞCILAR DİYALİZ MERKEZİ', 'T.C. SAĞLIK BAKANLIĞI LÜLEBURGAZ DEVLET HASTANESİ': 'T.C. SAĞLIK BAKANLIĞI LÜLEBURGAZ DEVLET HASTANESİ', 'ŞİŞLİ HAMİDİYE ETFAL EĞİTİM VE ARAŞTIRMA HASTANESİ SARİYER EK HİZMET BİNASI HEMODİYALİZ MERKEZİ': 'ŞİŞLİ HAMİDİYE ETFAL EĞİTİM VE ARAŞTIRMA HASTANESİ SARİYER EK HİZMET BİNASI HEMODİYALİZ MERKEZİ', 'ÖZEL BİLGE HASTANESİ': 'ÖZEL BİLGE HASTANESİ', 'ÖZEL HİSAR İNTERCONTİNENTAL HOSPİTAL HASTANESİ': 'ÖZEL HİSAR İNTERCONTİNENTAL HOSPİTAL HASTANESİ', 'T.C. SAĞLIK BAKANLIĞI İSTANBUL SÜREYYAPAŞA GÖĞÜS HASTALIKLARI VE GÖĞÜS CERRAHİSİ EAH': 'T.C. SAĞLIK BAKANLIĞI İSTANBUL SÜREYYAPAŞA GÖĞÜS HASTALIKLARI VE GÖĞÜS CERRAHİSİ EAH', 'ÖZEL KOZYATAĞI CENTRAL HOSPİTAL ETİLER HASTANESİ': 'ÖZEL KOZYATAĞI CENTRAL HOSPİTAL ETİLER HASTANESİ', '(EK KAMPÜS) PROF. DR. ASAF ATASEVEN EK HİZMET BİNASI': '(EK KAMPÜS) PROF. DR. ASAF ATASEVEN EK HİZMET BİNASI', 'T.C. SAĞLIK BAKANLIĞI SULTANBEYLİ DEVLET HASTANESİ': 'T.C. SAĞLIK BAKANLIĞI SULTANBEYLİ DEVLET HASTANESİ', 'ÖZEL MELTEM  HASTANESİ VE DOĞUM HASTANESİ': 'ÖZEL MELTEM  HASTANESİ VE DOĞUM HASTANESİ', 'ÖZEL BALAT  OR-AHAYİM MUSEVİ HASTANESİ  VAKFI İKTİSADİ İŞLETMESİ HASTANESİ': 'ÖZEL BALAT  OR-AHAYİM MUSEVİ HASTANESİ  VAKFI İKTİSADİ İŞLETMESİ HASTANESİ', 'Özel MEDİPOL Acıbadem Bölge Hastanesi': 'Özel MEDİPOL Acıbadem Bölge Hastanesi', 'T.C. SAĞLIK BAKANLIĞI TEKİRDAĞ DR. İSMAİL FEHMİ CUMALIOĞLU ŞEHİR HASTANESİ': 'T.C. SAĞLIK BAKANLIĞI TEKİRDAĞ DR. İSMAİL FEHMİ CUMALIOĞLU ŞEHİR HASTANESİ', 'ÇEKMEKÖY DEVLET HASTANESİ DİYALİZ ÜNİTESİ': 'ÇEKMEKÖY DEVLET HASTANESİ DİYALİZ ÜNİTESİ', 'ÖZEL YÜZYIL HASTANESİ PENDİK': 'ÖZEL YÜZYIL HASTANESİ PENDİK', '(EK KAMPÜS PENDİK) İSTANBUL MEDİPOL ÜNİVERSİTESİ SAĞLIK EĞİTİM UYGULAMA MERKEZİ': 'İSTANBUL MEDİPOL ÜNİVERSİTESİ SAĞLIK EĞİTİM UYGULAMA MERKEZİ', 'ÖZEL İDM BÜYÜKÇEKMECE DİYALİZ MERKEZİ': 'ÖZEL İDM BÜYÜKÇEKMECE DİYALİZ MERKEZİ', 'İSTANBUL MALTEPE ÜNİVERSİTESİ TIP FAKÜLTESİ HASTANESİ': 'İSTANBUL MALTEPE ÜNİVERSİTESİ TIP FAKÜLTESİ HASTANESİ', 'İSTANBUL KÜÇÜKÇEKMECE MEHMET AKİF AİLE SAĞLIĞI MERKEZİ': 'İSTANBUL KÜÇÜKÇEKMECE MEHMET AKİF AİLE SAĞLIĞI MERKEZİ', 'T.C. SAĞLIK BAKANLIĞI ANTALYA ATATÜRK DEVLET HASTANESİ': 'T.C. SAĞLIK BAKANLIĞI ANTALYA ATATÜRK DEVLET HASTANESİ', 'İSTANBUL BÜYÜKŞEHİR BELEDİYESİ DARÜLACEZE TIP MERKEZİ': 'İSTANBUL BÜYÜKŞEHİR BELEDİYESİ DARÜLACEZE TIP MERKEZİ', 'T.C. SAĞLIK BAKANLIĞI ANKARA BİLKENT ŞEHİR HASTANESİ ÇOCUK HASTANESİ': 'T.C. SAĞLIK BAKANLIĞI ANKARA BİLKENT ŞEHİR HASTANESİ ÇOCUK HASTANESİ', 'KOCAELİ ÜNİVERSİTESİ   HASTANESİ': 'KOCAELİ ÜNİVERSİTESİ   HASTANESİ', 'T.C. SAĞLIK BAKANLIĞI ADANA ŞEHİR HASTANESİ': 'T.C. SAĞLIK BAKANLIĞI ADANA ŞEHİR HASTANESİ', '(EK KAMPÜS YAKACIK) T.C. SB KARTAL DR. LÜTFİ KIRDAR ŞEHİR HASTANESİ YAKACIK EK HİZMET BİNASI': 'T.C. SAĞLIK BAKANLIĞI KARTAL DR. LÜTFİ KIRDAR ŞEHİR HASTANESİ', 'ÖZEL ATAKENT HASTANESİ': 'ÖZEL ATAKENT HASTANESİ', 'ÖZEL VM MEDİCAL PARK MALTEPE HASTANESİ': 'ÖZEL VM MEDİCAL PARK MALTEPE HASTANESİ', 'ÖZEL AFİYET HASTANESİ': 'ÖZEL AFİYET HASTANESİ', 'ÖZEL ACIBADEM DR. ŞİNASİ CAN HASTANESİ': 'ÖZEL ACIBADEM DR. ŞİNASİ CAN HASTANESİ', 'Ö. MEDİCANA ZİNCİRLİKUYU HASTANESİ': 'Ö. MEDİCANA ZİNCİRLİKUYU HASTANESİ', 'ÖZEL EMSEY HOSPİTAL HASTANESİ': 'ÖZEL EMSEY HOSPİTAL HASTANESİ', 'ÇANAKKALE ONSEKİZ MART ÜNİVERSİTESİ HASTANESİ': 'ÇANAKKALE ONSEKİZ MART ÜNİVERSİTESİ HASTANESİ', 'TRAKYA ÜNİVERSİTESİ HASTANESİ': 'TRAKYA ÜNİVERSİTESİ HASTANESİ', 'T.C. SAĞLIK BAKANLIĞI İSTANBUL ZEYNEP KAMİL KADIN VE ÇOCUK HASTALIKLARI EAH': 'T.C. SAĞLIK BAKANLIĞI İSTANBUL ZEYNEP KAMİL KADIN VE ÇOCUK HASTALIKLARI EAH', 'ÖZEL LOKMAN HEKİM İSTANBUL HASTANESİ': 'ÖZEL LOKMAN HEKİM İSTANBUL HASTANESİ', 'T.C. SAĞLIK BAKANLIĞI ÇİĞLİ EĞİTİM VE ARAŞTIRMA HASTANESİ': 'T.C. SAĞLIK BAKANLIĞI ÇİĞLİ EĞİTİM VE ARAŞTIRMA HASTANESİ', 'ÖZEL MEDİCAL PARK GÖZTEPE HASTANESİ KOMPLEKSİ (GENEL HASTANE-KANSER HASTANESİ-AĞIZ VE DİŞ HASTANESİ)': 'ÖZEL MEDİCAL PARK GÖZTEPE HASTANESİ KOMPLEKSİ (GENEL HASTANE-KANSER HASTANESİ-AĞIZ VE DİŞ HASTANESİ)', 'ÖZEL MEDİCANA HOSPİTALS ÇAMLICA HASTANESİ': 'ÖZEL MEDİCANA HOSPİTALS ÇAMLICA HASTANESİ', 'T.C. SAĞLIK BAKANLIĞI SEYHAN DEVLET HASTANESİ': 'T.C. SAĞLIK BAKANLIĞI SEYHAN DEVLET HASTANESİ', 'T.C. SAĞLIK BAKANLIĞI KOCAELİ ŞEHİR HASTANESİ': 'T.C. SAĞLIK BAKANLIĞI KOCAELİ ŞEHİR HASTANESİ', 'ÖZEL SEYRANTEPE AVRUPA DİYALİZ MERKEZİ': 'ÖZEL SEYRANTEPE AVRUPA DİYALİZ MERKEZİ', 'T.C. SAĞLIK BAKANLIĞI DARICA FARABİ EĞİTİM VE ARAŞTIRMA HASTANESİ': 'T.C. SAĞLIK BAKANLIĞI DARICA FARABİ EĞİTİM VE ARAŞTIRMA HASTANESİ', 'ÖZEL VEGA HOSPİTAL HASTANE': 'ÖZEL VEGA HOSPİTAL HASTANE', 'T.C. SAĞLIK BAKANLIĞI HAVZA DEVLET HASTANESİ': 'T.C. SAĞLIK BAKANLIĞI HAVZA DEVLET HASTANESİ'}\n"
      ],
      "metadata": {
        "id": "4opZWKEZeLOB"
      },
      "execution_count": null,
      "outputs": []
    },
    {
      "cell_type": "code",
      "source": [],
      "metadata": {
        "id": "b5mPnx6feLQ5"
      },
      "execution_count": null,
      "outputs": []
    },
    {
      "cell_type": "code",
      "source": [
        "cleared_hosp_dict= {k:v for k,v in hospital_dict.items() if pd.notnull(v)}"
      ],
      "metadata": {
        "id": "53Yq7Zuo8oT0"
      },
      "execution_count": null,
      "outputs": []
    },
    {
      "cell_type": "code",
      "source": [
        "cleared_hospital_keyword= pd.DataFrame(index= range(len(cleared_hosp_dict)), columns=['Nakledilen Hastane', 'MANUEL DÜZENLEME Nakledilen Hastane'] , data= cleared_hosp_dict.items())"
      ],
      "metadata": {
        "id": "hDGKXjNK8toP"
      },
      "execution_count": null,
      "outputs": []
    },
    {
      "cell_type": "code",
      "source": [
        "# cleared_hospital_keyword.to_excel(r'C:\\Users\\mkaya\\OneDrive\\Masaüstü\\istanbul112_hidden\\data\\keywords\\asos_hospital_correction\\eu\\hospital_dict.xlsx')"
      ],
      "metadata": {
        "id": "hbEu0pQg8zpI"
      },
      "execution_count": null,
      "outputs": []
    },
    {
      "cell_type": "code",
      "source": [
        "df['MANUEL DÜZENLEME Nakledilen Hastane']= df['Nakledilen Hastane'].map(cleared_hosp_dict)\n",
        "df['MANUEL DÜZENLEME Sevk Eden Hastane']= df['Sevk Eden Hastane'].map(cleared_hosp_dict)\n",
        "df['MANUEL DÜZENLEME Sevk Edilen Hastane']= df['Sevk Edilen Hastane'].map(cleared_hosp_dict)\n",
        "df['MANUEL DÜZENLEME Nakledilen Hastane'].fillna(value=df['Nakledilen Hastane'], inplace=True)\n",
        "df['MANUEL DÜZENLEME Sevk Eden Hastane'].fillna(value=df['Sevk Eden Hastane'], inplace=True)\n",
        "df['MANUEL DÜZENLEME Sevk Edilen Hastane'].fillna(value=df['Sevk Edilen Hastane'], inplace=True)"
      ],
      "metadata": {
        "id": "IVXCRSFs9dT_"
      },
      "execution_count": null,
      "outputs": []
    },
    {
      "cell_type": "code",
      "source": [
        "manuel_nakledilen_loc=df.columns.get_loc('Nakledilen Hastane') + 1\n",
        "df.insert(manuel_nakledilen_loc, 'MANUEL DÜZENLEME Nakledilen Hastane', df.pop('MANUEL DÜZENLEME Nakledilen Hastane'))\n",
        "manuel_sevk_eden_loc=df.columns.get_loc('Sevk Eden Hastane') + 1\n",
        "df.insert(manuel_sevk_eden_loc, 'MANUEL DÜZENLEME Sevk Eden Hastane', df.pop('MANUEL DÜZENLEME Sevk Eden Hastane'))\n",
        "manuel_sevk_edilen_loc=df.columns.get_loc('Sevk Edilen Hastane') + 1\n",
        "df.insert(manuel_sevk_edilen_loc, 'MANUEL DÜZENLEME Sevk Edilen Hastane', df.pop('MANUEL DÜZENLEME Sevk Edilen Hastane'))"
      ],
      "metadata": {
        "id": "TwWxWIhA-zxR"
      },
      "execution_count": null,
      "outputs": []
    },
    {
      "cell_type": "code",
      "source": [
        "print([col for col in df.columns])"
      ],
      "metadata": {
        "id": "0Ep77_Zc-8V8"
      },
      "execution_count": null,
      "outputs": []
    },
    {
      "cell_type": "code",
      "source": [
        "month= df['AY'][0]"
      ],
      "metadata": {
        "id": "Ri4WljpnkbSd"
      },
      "execution_count": null,
      "outputs": []
    },
    {
      "cell_type": "code",
      "source": [
        "month_number= 0"
      ],
      "metadata": {
        "id": "Mh5Ks-b1kyJf"
      },
      "execution_count": null,
      "outputs": []
    },
    {
      "cell_type": "code",
      "source": [
        "for key,value in month_dict.items():\n",
        "  if value == month:\n",
        "    month_number= key"
      ],
      "metadata": {
        "id": "uWOfgdFgkfGv"
      },
      "execution_count": null,
      "outputs": []
    },
    {
      "cell_type": "code",
      "source": [
        "month_number"
      ],
      "metadata": {
        "id": "8YEOJopck2OP"
      },
      "execution_count": null,
      "outputs": []
    },
    {
      "cell_type": "code",
      "source": [
        "year= df['Tarih'].dt.year[0]"
      ],
      "metadata": {
        "id": "bnyGUsZVk2Qk"
      },
      "execution_count": null,
      "outputs": []
    },
    {
      "cell_type": "code",
      "source": [
        "year"
      ],
      "metadata": {
        "id": "Xz1SdfcIlL5j"
      },
      "execution_count": null,
      "outputs": []
    },
    {
      "cell_type": "code",
      "source": [
        "df['MANUEL ICD DÜZENLEME']= df[\"ICD10 1'İNCİ SEVİYE GRUP ADI\"].astype(str).str.split(',').apply(lambda x: x[0])"
      ],
      "metadata": {
        "id": "5dL8phxelcdM"
      },
      "execution_count": null,
      "outputs": []
    },
    {
      "cell_type": "code",
      "source": [
        "df['MANUEL ICD DÜZENLEME'].fillna(value='TÜRÜ BELİRTİLMEMİŞ', inplace=True)"
      ],
      "metadata": {
        "id": "SmTeXABjmBXm"
      },
      "execution_count": null,
      "outputs": []
    },
    {
      "cell_type": "code",
      "source": [
        "manuel_icd_loc= df.columns.get_loc(\"ICD10 1'İNCİ SEVİYE GRUP ADI\")"
      ],
      "metadata": {
        "id": "EzY916qbmPpZ"
      },
      "execution_count": null,
      "outputs": []
    },
    {
      "cell_type": "code",
      "source": [
        "df.insert(manuel_icd_loc, 'MANUEL ICD DÜZENLEME', df.pop('MANUEL ICD DÜZENLEME'))"
      ],
      "metadata": {
        "id": "7ZPe1sdNmMMb"
      },
      "execution_count": null,
      "outputs": []
    },
    {
      "cell_type": "code",
      "source": [
        "df.columns.get_loc(\"ICD10 1'İNCİ SEVİYE GRUP ADI\")"
      ],
      "metadata": {
        "id": "EPW5elBTmnkG"
      },
      "execution_count": null,
      "outputs": []
    },
    {
      "cell_type": "code",
      "source": [
        "df.columns.get_loc(\"MANUEL ICD DÜZENLEME\")"
      ],
      "metadata": {
        "id": "xyHBDYS7m21h"
      },
      "execution_count": null,
      "outputs": []
    },
    {
      "cell_type": "code",
      "source": [
        "df.loc[df['MANUEL ICD DÜZENLEME']=='nan', 'MANUEL ICD DÜZENLEME']= 'TÜRÜ BELİRTİLMEMİŞ'"
      ],
      "metadata": {
        "id": "W1l-bfXaFSFF"
      },
      "execution_count": null,
      "outputs": []
    },
    {
      "cell_type": "code",
      "source": [
        "df.loc[df['MANUEL ICD DÜZENLEME']=='TÜRÜ BELİRTİLMEMİŞ']"
      ],
      "metadata": {
        "id": "gTdkg86QFkdR"
      },
      "execution_count": null,
      "outputs": []
    },
    {
      "cell_type": "code",
      "source": [
        "df['Tarih']= pd.to_datetime(df['Tarih'], format= '%d-%m-%Y %H:%M')"
      ],
      "metadata": {
        "id": "z7WkEtXEJyFJ"
      },
      "execution_count": null,
      "outputs": []
    },
    {
      "cell_type": "code",
      "source": [
        "shift_list= pd.read_excel('C:/Users/mkaya/Downloads/ŞEF ÇİZELGESİ MART.xlsx') #STATISTICS SENDS THIS FILE"
      ],
      "metadata": {
        "id": "ZXxLggy6F1Q-"
      },
      "execution_count": null,
      "outputs": []
    },
    {
      "cell_type": "code",
      "source": [
        "shift_list_2= pd.read_excel('C:/Users/mkaya/Downloads/ŞEF ÇİZELGESİ ŞUBAT.xlsx')\n",
        "shift_list_2.columns= shift_list_2.iloc[0]\n",
        "shift_list_2= shift_list_2.iloc[1::]"
      ],
      "metadata": {
        "id": "s1S4NU5JHoK_"
      },
      "execution_count": null,
      "outputs": []
    },
    {
      "cell_type": "code",
      "source": [
        "shift_list_2['İSİM']= shift_list_2['İSİM'].astype(str).str.strip()\n",
        "shift_list_2['TARİH'] = pd.to_datetime(shift_list_2['TARİH']).dt.date\n",
        "shift_list_2= shift_list_2[['TARİH', 'İSİM']]"
      ],
      "metadata": {
        "id": "Z5F6nkbuH0DN"
      },
      "execution_count": null,
      "outputs": []
    },
    {
      "cell_type": "code",
      "source": [],
      "metadata": {
        "id": "YaRH-3W_H0Fq"
      },
      "execution_count": null,
      "outputs": []
    },
    {
      "cell_type": "code",
      "source": [
        "shift_list.columns= shift_list.iloc[0]"
      ],
      "metadata": {
        "id": "XpVdAWdoF1TV"
      },
      "execution_count": null,
      "outputs": []
    },
    {
      "cell_type": "code",
      "source": [
        "shift_list= shift_list.iloc[1::]"
      ],
      "metadata": {
        "id": "IpNR2WZiGGjs"
      },
      "execution_count": null,
      "outputs": []
    },
    {
      "cell_type": "code",
      "source": [
        "shift_list['İSİM']= shift_list['İSİM'].astype(str).str.strip()"
      ],
      "metadata": {
        "id": "5ksiwDbTGGl6"
      },
      "execution_count": null,
      "outputs": []
    },
    {
      "cell_type": "code",
      "source": [
        "df"
      ],
      "metadata": {
        "id": "AhibuSCLGXef"
      },
      "execution_count": null,
      "outputs": []
    },
    {
      "cell_type": "code",
      "source": [
        "df.drop(columns='Komuta Şefi', inplace=True)"
      ],
      "metadata": {
        "id": "wToWy6TZGGn2"
      },
      "execution_count": null,
      "outputs": []
    },
    {
      "cell_type": "code",
      "source": [
        "df.drop(columns='KOMUTA ŞEFİ', inplace=True)"
      ],
      "metadata": {
        "id": "7gzevjH-GGqG"
      },
      "execution_count": null,
      "outputs": []
    },
    {
      "cell_type": "code",
      "source": [
        "shift_list['TARİH'] = pd.to_datetime(shift_list['TARİH']).dt.date"
      ],
      "metadata": {
        "id": "jH8l7qdLGgYa"
      },
      "execution_count": null,
      "outputs": []
    },
    {
      "cell_type": "code",
      "source": [
        "shift_list= shift_list[['TARİH', 'İSİM']]"
      ],
      "metadata": {
        "id": "s64Rlh9ZGgav"
      },
      "execution_count": null,
      "outputs": []
    },
    {
      "cell_type": "code",
      "source": [
        "shift_list= pd.concat([shift_list, shift_list_2])"
      ],
      "metadata": {
        "id": "FIdxSV5LIBVk"
      },
      "execution_count": null,
      "outputs": []
    },
    {
      "cell_type": "code",
      "source": [
        "type(df['MANUEL ŞEF TARİHİ'])"
      ],
      "metadata": {
        "id": "VKwEuvREGgdQ"
      },
      "execution_count": null,
      "outputs": []
    },
    {
      "cell_type": "code",
      "source": [
        "type(shift_list['TARİH'])"
      ],
      "metadata": {
        "id": "VF5bpOctG_2u"
      },
      "execution_count": null,
      "outputs": []
    },
    {
      "cell_type": "code",
      "source": [
        "df= pd.merge(df, shift_list, left_on='MANUEL ŞEF TARİHİ', right_on='TARİH', how='left')"
      ],
      "metadata": {
        "id": "8uXLWXN7HDNG"
      },
      "execution_count": null,
      "outputs": []
    },
    {
      "cell_type": "code",
      "source": [],
      "metadata": {
        "id": "_0iWxfeFHDPg"
      },
      "execution_count": null,
      "outputs": []
    },
    {
      "cell_type": "code",
      "source": [],
      "metadata": {
        "id": "dfWwFSS0HDRx"
      },
      "execution_count": null,
      "outputs": []
    },
    {
      "cell_type": "code",
      "source": [
        "\"\"\"import pandas as pd\n",
        "\n",
        "# Convert date columns to datetime for both DataFrames\n",
        "df['Tarih'] = pd.to_datetime(df['Tarih'])\n",
        "shift_list['Başlangıç Tarihi'] = pd.to_datetime(shift_list['Başlangıç Tarihi'])\n",
        "shift_list['Bitiş Tarihi'] = pd.to_datetime(shift_list['Bitiş Tarihi'])\n",
        "\n",
        "# Create an interval index from shift_list for fast lookups\n",
        "intervals = pd.IntervalIndex.from_arrays(\n",
        "    shift_list['Başlangıç Tarihi'],\n",
        "    shift_list['Bitiş Tarihi'],\n",
        "    closed='both'\n",
        ")\n",
        "\n",
        "# Function to find matching shift person for a given date\n",
        "def find_shift_person(date):\n",
        "    # Use the IntervalIndex directly for contains check\n",
        "    mask = intervals.contains(date)\n",
        "    if mask.any():\n",
        "        return shift_list.loc[mask, 'İsim Soyisim'].iloc[0]\n",
        "    return 'KOMUTA ŞEFİ BELİRTİLMEMİŞ'\n",
        "\n",
        "# Apply the function to each date in df (vectorized operation)\n",
        "df['Komuta Şefi'] = df['Tarih'].apply(find_shift_person)\n",
        "\n",
        "# No need to drop 'interval' as it's not a column in shift_list\"\"\""
      ],
      "metadata": {
        "id": "B8vtdYse_e2V"
      },
      "execution_count": null,
      "outputs": []
    },
    {
      "cell_type": "code",
      "source": [
        "df.rename(columns={'İSİM':'KOMUTA ŞEFİ'}, inplace=True)"
      ],
      "metadata": {
        "id": "vlIP_PjM_e5D"
      },
      "execution_count": null,
      "outputs": []
    },
    {
      "cell_type": "code",
      "source": [
        "\"\"\"import pandas as pd\n",
        "\n",
        "def assign_komuta_sefi(x):\n",
        "  \"\"\"Assigns 'KOMUTA ŞEFİ' based on shift timings.\n",
        "  Args:\n",
        "    x: A row of the DataFrame.\n",
        "  Returns:\n",
        "    The 'İsim Soyisim' from shift_list if the row's 'Tarih' falls within\n",
        "    a shift's start and end time, otherwise 'KOMUTA ŞEFİ BELİRTİLMEMİŞ'.\n",
        "  \"\"\"\n",
        "  for _, shift in shift_list.iterrows():\n",
        "    if shift['Başlangıç Tarihi'] < x['Tarih'] < shift['Bitiş Tarihi']:\n",
        "      return shift['İsim Soyisim']\n",
        "  return 'KOMUTA ŞEFİ BELİRTİLMEMİŞ'\n",
        "\n",
        "df['KOMUTA ŞEFİ'] = df.apply(assign_komuta_sefi, axis=1)\"\"\""
      ],
      "metadata": {
        "id": "SieBUDL5GsRj"
      },
      "execution_count": null,
      "outputs": []
    },
    {
      "cell_type": "code",
      "source": [
        "df.insert(df.columns.get_loc('MANUEL ŞEF TARİHİ'), 'KOMUTA ŞEFİ', df.pop('KOMUTA ŞEFİ'))"
      ],
      "metadata": {
        "id": "37psYQA6Ka-9"
      },
      "execution_count": null,
      "outputs": []
    },
    {
      "cell_type": "code",
      "source": [
        "df.drop(columns='TARİH', inplace=True)"
      ],
      "metadata": {
        "id": "V89NTEeznXao"
      },
      "execution_count": null,
      "outputs": []
    },
    {
      "cell_type": "code",
      "source": [
        "df"
      ],
      "metadata": {
        "id": "-PGdSAFtIlq_"
      },
      "execution_count": null,
      "outputs": []
    },
    {
      "cell_type": "code",
      "source": [
        "for index, column in enumerate(df.columns):\n",
        "    # print the current index and column name.\n",
        "    print(index, column)\n",
        "    # Do things with index and column"
      ],
      "metadata": {
        "id": "bGz7RYGs2ZBE"
      },
      "execution_count": null,
      "outputs": []
    },
    {
      "cell_type": "code",
      "source": [
        "header_index = [df.columns.get_loc(\"AY\"), df.columns.get_loc('KOMUTA ŞEFİ'), df.columns.get_loc('MANUEL ŞEF TARİHİ'), df.columns.get_loc('MANUEL DÜZENLEME Nakledilen Hastane'), df.columns.get_loc('MANUEL DÜZENLEME Sevk Eden Hastane'), df.columns.get_loc('MANUEL DÜZENLEME Sevk Edilen Hastane'), df.columns.get_loc('MANUEL ICD DÜZENLEME')]\n",
        "# Create a Pandas Excel writer using XlsxWriter as the engine.\n",
        "writer = pd.ExcelWriter(f'{month_number}-{month} {year} AVR ASOS TANI DÖNÜŞTÜRÜLMÜŞ DEFTER - {len(df)}.xlsx', engine=\"xlsxwriter\")\n",
        "\n",
        "# Convert the dataframe to an XlsxWriter Excel object. Note that we turn off\n",
        "# the default header and skip one row to allow us to insert a user defined\n",
        "# header.\n",
        "df.to_excel(writer, sheet_name=f\"{month}-{year}\", startrow=1, index=False,header=False)\n",
        "\n",
        "# Get the xlsxwriter workbook and worksheet objects.\n",
        "workbook = writer.book\n",
        "worksheet = writer.sheets[f\"{month}-{year}\"]\n",
        "\n",
        "# Add a header format.\n",
        "header_format = workbook.add_format(\n",
        "    {\n",
        "        \"bold\": True,\n",
        "        \"text_wrap\": True,\n",
        "        \"valign\": \"top\",\n",
        "        \"fg_color\": \"#D7E4BC\",\n",
        "        \"border\": 1,\n",
        "    }\n",
        ")\n",
        "\n",
        "header_format_2= workbook.add_format(\n",
        "    {\n",
        "        \"bold\": True,\n",
        "        \"text_wrap\": True,\n",
        "        \"valign\": \"top\",\n",
        "        \"fg_color\":'#ADD8E6',\n",
        "        \"border\": 1,\n",
        "    }\n",
        ")\n",
        "\n",
        "# Write the column headers with the defined format.\n",
        "for col_num, value in enumerate(df.columns.values):\n",
        "  if col_num in header_index:\n",
        "    worksheet.write(0, col_num, value, header_format)\n",
        "  else:\n",
        "    worksheet.write(0, col_num, value, header_format_2)\n",
        "\n",
        "# Close the Pandas Excel writer and output the Excel file.\n",
        "writer.close()"
      ],
      "metadata": {
        "id": "ZjrCs-Lo1QuW"
      },
      "execution_count": null,
      "outputs": []
    },
    {
      "cell_type": "code",
      "source": [
        "# df.to_excel(f'{month_number}-{month} {year} AVR ASOS TANI DÖNÜŞTÜRÜLMÜŞ DEFTER.xlsx')"
      ],
      "metadata": {
        "id": "h8pFuwSX_LwW"
      },
      "execution_count": null,
      "outputs": []
    },
    {
      "cell_type": "code",
      "source": [
        "df[df['AY'].isna()]['Vaka Veriliş\\nSaati']"
      ],
      "metadata": {
        "id": "QMQpAOoN_vH3"
      },
      "execution_count": null,
      "outputs": []
    },
    {
      "cell_type": "code",
      "source": [
        "len(df.columns)"
      ],
      "metadata": {
        "id": "MChAw5h_gr31"
      },
      "execution_count": null,
      "outputs": []
    },
    {
      "cell_type": "code",
      "source": [],
      "metadata": {
        "id": "eEbEz21-CQZW"
      },
      "execution_count": null,
      "outputs": []
    }
  ]
}
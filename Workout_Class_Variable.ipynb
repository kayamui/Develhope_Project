{
 "cells": [
  {
   "cell_type": "markdown",
   "id": "97a43180",
   "metadata": {},
   "source": [
    "# Class Variable"
   ]
  },
  {
   "cell_type": "code",
   "execution_count": 37,
   "id": "6448c4ce",
   "metadata": {},
   "outputs": [],
   "source": [
    "class Employee:\n",
    "    def __init__(self, name, last, age, pay):\n",
    "        self.name = name\n",
    "        self.last = last\n",
    "        self.age = age\n",
    "        self.pay = pay"
   ]
  },
  {
   "cell_type": "code",
   "execution_count": 54,
   "id": "5d129fc4",
   "metadata": {},
   "outputs": [],
   "source": [
    "emp_1 = Employee(\"james\", \"hugh\", \"32\", 5000)"
   ]
  },
  {
   "cell_type": "code",
   "execution_count": 64,
   "id": "f88d9b52",
   "metadata": {},
   "outputs": [],
   "source": [
    "emp_2 = Employee(\"Charlie\",\"Brown\" , \"22\" ,3000 )"
   ]
  },
  {
   "cell_type": "raw",
   "id": "2ede93e8",
   "metadata": {},
   "source": [
    "# Instance variable : Classtan yaratılan objelerin kendilerine özgü değişkenleri. Buradaki name, last, age, pay gibi."
   ]
  },
  {
   "cell_type": "raw",
   "id": "ffa59c09",
   "metadata": {},
   "source": [
    "# Class variable : Classtan yaratılan tüm objelerde paylaşılan değişkenler,\n",
    "# Diyelim ki tüm çalışanlara eşit oranda zam uygulayacağım, bunun için class variable kullanıyorum"
   ]
  },
  {
   "cell_type": "code",
   "execution_count": 26,
   "id": "f9d2ff15",
   "metadata": {},
   "outputs": [],
   "source": [
    "class Employee:\n",
    "    \n",
    "    \n",
    "    def __init__(self,name,last,age,pay):\n",
    "        self.age = age\n",
    "        self.last = last\n",
    "        self.name = name\n",
    "        self.pay = pay\n",
    "    def apply_raise(self):\n",
    "        raise_percent = 1.05\n",
    "        self.pay = self.pay * raise_percent"
   ]
  },
  {
   "cell_type": "code",
   "execution_count": 27,
   "id": "2fffc6a8",
   "metadata": {},
   "outputs": [],
   "source": [
    "emp_1 = Employee(\"Muhammed\", \"Kaya\", \"27\", 5000)"
   ]
  },
  {
   "cell_type": "code",
   "execution_count": 28,
   "id": "844282ec",
   "metadata": {},
   "outputs": [],
   "source": [
    "emp_1.apply_raise()"
   ]
  },
  {
   "cell_type": "code",
   "execution_count": 32,
   "id": "88773a2f",
   "metadata": {},
   "outputs": [
    {
     "data": {
      "text/plain": [
       "5250.0"
      ]
     },
     "execution_count": 32,
     "metadata": {},
     "output_type": "execute_result"
    }
   ],
   "source": [
    "emp_1.pay"
   ]
  },
  {
   "cell_type": "code",
   "execution_count": 56,
   "id": "45e78e37",
   "metadata": {},
   "outputs": [],
   "source": [
    "class Employee:\n",
    "    raise_percent = 1.05\n",
    "\n",
    "    \n",
    "    def __init__(self,name,last,age,pay):\n",
    "        self.age = age\n",
    "        self.last = last\n",
    "        self.name = name\n",
    "        self.pay = pay\n",
    "    def apply_raise(self):\n",
    "        self.pay = self.pay * Employee.raise_percent #eğer employee classın içine variable ı eklediysen başına employee. koymak lazım"
   ]
  },
  {
   "cell_type": "code",
   "execution_count": 57,
   "id": "130cdd46",
   "metadata": {},
   "outputs": [
    {
     "data": {
      "text/plain": [
       "1.05"
      ]
     },
     "execution_count": 57,
     "metadata": {},
     "output_type": "execute_result"
    }
   ],
   "source": [
    "Employee.raise_percent"
   ]
  },
  {
   "cell_type": "code",
   "execution_count": 58,
   "id": "55794036",
   "metadata": {},
   "outputs": [
    {
     "data": {
      "text/plain": [
       "5000"
      ]
     },
     "execution_count": 58,
     "metadata": {},
     "output_type": "execute_result"
    }
   ],
   "source": [
    "emp_1.pay"
   ]
  },
  {
   "cell_type": "code",
   "execution_count": 59,
   "id": "81112c9b",
   "metadata": {},
   "outputs": [],
   "source": [
    "emp_1.apply_raise()"
   ]
  },
  {
   "cell_type": "code",
   "execution_count": 61,
   "id": "cc1f6f90",
   "metadata": {},
   "outputs": [
    {
     "data": {
      "text/plain": [
       "5250.0"
      ]
     },
     "execution_count": 61,
     "metadata": {},
     "output_type": "execute_result"
    }
   ],
   "source": [
    "emp_1.pay"
   ]
  },
  {
   "cell_type": "code",
   "execution_count": 62,
   "id": "3525eca9",
   "metadata": {},
   "outputs": [
    {
     "data": {
      "text/plain": [
       "'3000'"
      ]
     },
     "execution_count": 62,
     "metadata": {},
     "output_type": "execute_result"
    }
   ],
   "source": [
    "emp_2.pay"
   ]
  },
  {
   "cell_type": "code",
   "execution_count": 65,
   "id": "f3b44c95",
   "metadata": {},
   "outputs": [],
   "source": [
    "emp_2.apply_raise()"
   ]
  },
  {
   "cell_type": "code",
   "execution_count": 66,
   "id": "7e669c5e",
   "metadata": {},
   "outputs": [
    {
     "data": {
      "text/plain": [
       "3150.0"
      ]
     },
     "execution_count": 66,
     "metadata": {},
     "output_type": "execute_result"
    }
   ],
   "source": [
    "emp_2.pay"
   ]
  },
  {
   "cell_type": "code",
   "execution_count": 67,
   "id": "5cac9b90",
   "metadata": {},
   "outputs": [
    {
     "name": "stdout",
     "output_type": "stream",
     "text": [
      "{'age': '32', 'last': 'hugh', 'name': 'james', 'pay': 5250.0}\n"
     ]
    }
   ],
   "source": [
    "print(emp_1.__dict__) #objenin attributelarını döndürür"
   ]
  },
  {
   "cell_type": "code",
   "execution_count": 68,
   "id": "22e2a0bc",
   "metadata": {},
   "outputs": [
    {
     "name": "stdout",
     "output_type": "stream",
     "text": [
      "{'__module__': '__main__', 'raise_percent': 1.05, '__init__': <function Employee.__init__ at 0x00000216A1C09EE0>, 'apply_raise': <function Employee.apply_raise at 0x00000216A1CFBA60>, '__dict__': <attribute '__dict__' of 'Employee' objects>, '__weakref__': <attribute '__weakref__' of 'Employee' objects>, '__doc__': None}\n"
     ]
    }
   ],
   "source": [
    "print(Employee.__dict__)"
   ]
  },
  {
   "cell_type": "code",
   "execution_count": 69,
   "id": "85dbab69",
   "metadata": {},
   "outputs": [],
   "source": [
    "emp_1.experience = 10 #emp_1 e yeni attribute ekledim"
   ]
  },
  {
   "cell_type": "code",
   "execution_count": 78,
   "id": "e3e3c343",
   "metadata": {},
   "outputs": [
    {
     "name": "stdout",
     "output_type": "stream",
     "text": [
      "{'age': '32', 'last': 'hugh', 'name': 'james', 'pay': 5250.0, 'experience': 10}\n"
     ]
    }
   ],
   "source": [
    "print(emp_1.__dict__)"
   ]
  },
  {
   "cell_type": "code",
   "execution_count": 79,
   "id": "b5e6f0f2",
   "metadata": {},
   "outputs": [
    {
     "name": "stdout",
     "output_type": "stream",
     "text": [
      "{'age': '22', 'last': 'Brown', 'name': 'Charlie', 'pay': 3150.0}\n"
     ]
    }
   ],
   "source": [
    "print(emp_2.__dict__) # emp_1e eklediğim attribute emp_2 yi etkilemez"
   ]
  },
  {
   "cell_type": "code",
   "execution_count": 80,
   "id": "fd870fde",
   "metadata": {},
   "outputs": [
    {
     "name": "stdout",
     "output_type": "stream",
     "text": [
      "{'__module__': '__main__', 'raise_percent': 1.06, '__init__': <function Employee.__init__ at 0x00000216A1C09EE0>, 'apply_raise': <function Employee.apply_raise at 0x00000216A1CFBA60>, '__dict__': <attribute '__dict__' of 'Employee' objects>, '__weakref__': <attribute '__weakref__' of 'Employee' objects>, '__doc__': None}\n"
     ]
    }
   ],
   "source": [
    "print(Employee.__dict__)"
   ]
  },
  {
   "cell_type": "code",
   "execution_count": 81,
   "id": "be6adbca",
   "metadata": {},
   "outputs": [
    {
     "name": "stdout",
     "output_type": "stream",
     "text": [
      "1.05\n",
      "1.06\n",
      "1.06\n"
     ]
    }
   ],
   "source": [
    "print(emp_1.raise_percent)\n",
    "print(emp_2.raise_percent)\n",
    "print(Employee.raise_percent)"
   ]
  },
  {
   "cell_type": "code",
   "execution_count": 82,
   "id": "505f42b8",
   "metadata": {},
   "outputs": [],
   "source": [
    "Employee.raise_percent = 1.06"
   ]
  },
  {
   "cell_type": "code",
   "execution_count": 83,
   "id": "fb456258",
   "metadata": {},
   "outputs": [
    {
     "name": "stdout",
     "output_type": "stream",
     "text": [
      "1.05\n",
      "1.06\n",
      "1.06\n"
     ]
    }
   ],
   "source": [
    "print(emp_1.raise_percent)\n",
    "print(emp_2.raise_percent)\n",
    "print(Employee.raise_percent)"
   ]
  },
  {
   "cell_type": "raw",
   "id": "7f77696b",
   "metadata": {},
   "source": [
    "# Diyelim ki class variableı(raise_percent) instance(obje) üzerinden güncellemek istiyorum"
   ]
  },
  {
   "cell_type": "code",
   "execution_count": 84,
   "id": "d87df328",
   "metadata": {},
   "outputs": [
    {
     "data": {
      "text/plain": [
       "{'age': '32', 'last': 'hugh', 'name': 'james', 'pay': 5250.0, 'experience': 10}"
      ]
     },
     "execution_count": 84,
     "metadata": {},
     "output_type": "execute_result"
    }
   ],
   "source": [
    "emp_1.__dict__ #Dikkat et emp_1 in dizininde raise_percent yok"
   ]
  },
  {
   "cell_type": "code",
   "execution_count": 86,
   "id": "0e7c3ce8",
   "metadata": {},
   "outputs": [],
   "source": [
    "emp_1.raise_percent = 1.07 #Burada güncelleme olmyor, emp_1 e yeni bir variable tanımlamış oluyorum"
   ]
  },
  {
   "cell_type": "code",
   "execution_count": 87,
   "id": "a2b2e94a",
   "metadata": {},
   "outputs": [
    {
     "data": {
      "text/plain": [
       "{'age': '32',\n",
       " 'last': 'hugh',\n",
       " 'name': 'james',\n",
       " 'pay': 5250.0,\n",
       " 'experience': 10,\n",
       " 'raise_percent': 1.07}"
      ]
     },
     "execution_count": 87,
     "metadata": {},
     "output_type": "execute_result"
    }
   ],
   "source": [
    "emp_1.__dict__"
   ]
  },
  {
   "cell_type": "code",
   "execution_count": 89,
   "id": "7aa03a38",
   "metadata": {},
   "outputs": [
    {
     "data": {
      "text/plain": [
       "{'age': '22', 'last': 'Brown', 'name': 'Charlie', 'pay': 3150.0}"
      ]
     },
     "execution_count": 89,
     "metadata": {},
     "output_type": "execute_result"
    }
   ],
   "source": [
    "emp_2.__dict__ #Burada raise_percent yok"
   ]
  },
  {
   "cell_type": "markdown",
   "id": "96806815",
   "metadata": {},
   "source": [
    "# Kaç Tane Çalışan Olduğunu Class Variable'ı Olarak Tutmak\n",
    "### Her yeni çalışan geldiğinde çalışan sayısını bir artırmak istiyorum"
   ]
  },
  {
   "cell_type": "code",
   "execution_count": 96,
   "id": "a10a4dac",
   "metadata": {},
   "outputs": [],
   "source": [
    "class Employee : \n",
    "    raise_percent = 1.05\n",
    "    num_emp = 0\n",
    "    def __init__(self, name, last, age, pay):\n",
    "        self.name = name\n",
    "        self.last = last\n",
    "        self.age = age\n",
    "        self.pay = pay\n",
    "        Employee.num_emp += 1\n",
    "    def apply_raise(self) :\n",
    "        self.pay = self.pay * Employee.raise_percent"
   ]
  },
  {
   "cell_type": "code",
   "execution_count": 97,
   "id": "946c90e3",
   "metadata": {},
   "outputs": [
    {
     "data": {
      "text/plain": [
       "0"
      ]
     },
     "execution_count": 97,
     "metadata": {},
     "output_type": "execute_result"
    }
   ],
   "source": [
    "Employee.num_emp"
   ]
  },
  {
   "cell_type": "code",
   "execution_count": 98,
   "id": "65aca5a1",
   "metadata": {},
   "outputs": [],
   "source": [
    "emp_1 = Employee(\"Muhammed\", \"Kaya\", 27, 5000)"
   ]
  },
  {
   "cell_type": "code",
   "execution_count": 99,
   "id": "925f3f59",
   "metadata": {},
   "outputs": [
    {
     "data": {
      "text/plain": [
       "1"
      ]
     },
     "execution_count": 99,
     "metadata": {},
     "output_type": "execute_result"
    }
   ],
   "source": [
    "Employee.num_emp"
   ]
  },
  {
   "cell_type": "code",
   "execution_count": 100,
   "id": "9282d8ec",
   "metadata": {},
   "outputs": [],
   "source": [
    "emp_2 = Employee(\"Deniz\", \"Arslan\", 35, 4000)"
   ]
  },
  {
   "cell_type": "code",
   "execution_count": 101,
   "id": "f37606a9",
   "metadata": {},
   "outputs": [
    {
     "data": {
      "text/plain": [
       "2"
      ]
     },
     "execution_count": 101,
     "metadata": {},
     "output_type": "execute_result"
    }
   ],
   "source": [
    "Employee.num_emp"
   ]
  },
  {
   "cell_type": "code",
   "execution_count": null,
   "id": "0f90b841",
   "metadata": {},
   "outputs": [],
   "source": []
  }
 ],
 "metadata": {
  "kernelspec": {
   "display_name": "Python 3 (ipykernel)",
   "language": "python",
   "name": "python3"
  },
  "language_info": {
   "codemirror_mode": {
    "name": "ipython",
    "version": 3
   },
   "file_extension": ".py",
   "mimetype": "text/x-python",
   "name": "python",
   "nbconvert_exporter": "python",
   "pygments_lexer": "ipython3",
   "version": "3.9.13"
  }
 },
 "nbformat": 4,
 "nbformat_minor": 5
}

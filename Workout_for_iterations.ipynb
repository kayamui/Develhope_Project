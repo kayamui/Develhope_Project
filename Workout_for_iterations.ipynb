{
 "cells": [
  {
   "cell_type": "markdown",
   "id": "94a57189",
   "metadata": {},
   "source": [
    "# Iteration on the lists"
   ]
  },
  {
   "cell_type": "code",
   "execution_count": 29,
   "id": "831b3fbb",
   "metadata": {},
   "outputs": [],
   "source": [
    "notlar = [90,72, 81,77]"
   ]
  },
  {
   "cell_type": "code",
   "execution_count": 3,
   "id": "0b24cf3d",
   "metadata": {},
   "outputs": [
    {
     "name": "stdout",
     "output_type": "stream",
     "text": [
      "90\n",
      "72\n",
      "81\n",
      "77\n"
     ]
    }
   ],
   "source": [
    "for e in notlar:\n",
    "    print(e)"
   ]
  },
  {
   "cell_type": "code",
   "execution_count": 6,
   "id": "c3ccf6c1",
   "metadata": {},
   "outputs": [
    {
     "name": "stdout",
     "output_type": "stream",
     "text": [
      "80.0\n"
     ]
    }
   ],
   "source": [
    "#take the average of numbers\n",
    "t = 0\n",
    "for e in notlar:\n",
    "    t += e\n",
    "average = t / len(notlar)\n",
    "print(average)\n",
    "    "
   ]
  },
  {
   "cell_type": "code",
   "execution_count": 7,
   "id": "702c250e",
   "metadata": {},
   "outputs": [],
   "source": [
    "# we can use range() function as well"
   ]
  },
  {
   "cell_type": "code",
   "execution_count": 10,
   "id": "d1d89e78",
   "metadata": {},
   "outputs": [
    {
     "name": "stdout",
     "output_type": "stream",
     "text": [
      "Puan ortalaması: 80.0\n"
     ]
    }
   ],
   "source": [
    "t = 0\n",
    "for i in range(len(notlar)):\n",
    "    t = t+notlar[i]\n",
    "ortalama = t / len(notlar)\n",
    "print(\"Puan ortalaması:\",ortalama)"
   ]
  },
  {
   "cell_type": "raw",
   "id": "58c24e9f",
   "metadata": {},
   "source": [
    "Diyelim ki tüm notlar 5er puan eksik yazılmış, öğretmen herkese 5 puan fazla yazacak"
   ]
  },
  {
   "cell_type": "code",
   "execution_count": 19,
   "id": "a3e2b9f5",
   "metadata": {},
   "outputs": [
    {
     "name": "stdout",
     "output_type": "stream",
     "text": [
      "[90, 72, 81, 77]\n"
     ]
    }
   ],
   "source": [
    "for e in notlar:\n",
    "    e = e + 5\n",
    "print(notlar)\n",
    "#eğer range fonksiyonu kullanmazsak listeden hiçbir şey değişmez, çünkü biz e yi değiştiriyoruz listedeki notları değil"
   ]
  },
  {
   "cell_type": "code",
   "execution_count": 23,
   "id": "380d7e0e",
   "metadata": {},
   "outputs": [
    {
     "name": "stdout",
     "output_type": "stream",
     "text": [
      "[95, 77, 86, 82]\n"
     ]
    }
   ],
   "source": [
    "for i in range(len(notlar)):\n",
    "    notlar[i] +=5\n",
    "print(notlar) #Gördüğün gibi tüm notlar değişti"
   ]
  },
  {
   "cell_type": "raw",
   "id": "0c77e4e1",
   "metadata": {},
   "source": [
    "Diyelim ki 2. öğrencinin notu doğru okunmuş, 2. öğrenci hariç herkesin notu 5 artırılacak"
   ]
  },
  {
   "cell_type": "code",
   "execution_count": 30,
   "id": "588f0c4c",
   "metadata": {},
   "outputs": [
    {
     "name": "stdout",
     "output_type": "stream",
     "text": [
      "[95, 72, 86, 82]\n"
     ]
    }
   ],
   "source": [
    "for i in range(len(notlar)):\n",
    "    if i == 1:\n",
    "        continue\n",
    "    else:\n",
    "        notlar[i]+=5\n",
    "print(notlar)"
   ]
  },
  {
   "cell_type": "raw",
   "id": "3465950e",
   "metadata": {},
   "source": [
    "Şimdi de break fonksiyonunu kullanalım, bir listemiz var ve bu listede istedğim eleman var mı diye kontrol edeceğim. Elemanı bulunca da fonksiyonum duracak"
   ]
  },
  {
   "cell_type": "code",
   "execution_count": 38,
   "id": "e96bf6de",
   "metadata": {},
   "outputs": [
    {
     "name": "stdout",
     "output_type": "stream",
     "text": [
      "Lütfen aradığınız sayıyı girin\t:100\n",
      "2\n",
      "3\n",
      "40\n",
      "100\n",
      "Buldum!\n"
     ]
    }
   ],
   "source": [
    "x=int(input(\"Lütfen aradığınız sayıyı girin\\t:\"))\n",
    "l = [2,3,40,100,10,1]\n",
    "for e in l:\n",
    "    print(e)\n",
    "    if e == x:\n",
    "        print(\"Buldum!\")\n",
    "        break"
   ]
  },
  {
   "cell_type": "raw",
   "id": "1eb43439",
   "metadata": {},
   "source": [
    "Tuple'larda iterasyon listlerle tamamen aynı tek fark tuplelar değişmez"
   ]
  },
  {
   "cell_type": "markdown",
   "id": "e0303620",
   "metadata": {},
   "source": [
    "# Dictionarylerde iterasyon"
   ]
  },
  {
   "cell_type": "code",
   "execution_count": 39,
   "id": "09f53ba6",
   "metadata": {},
   "outputs": [],
   "source": [
    "d = {\"student_1\" : [90,89], \"student_2\" : [80,83], \"student_3\" : [72,71]}"
   ]
  },
  {
   "cell_type": "code",
   "execution_count": 42,
   "id": "03f5dd77",
   "metadata": {},
   "outputs": [
    {
     "name": "stdout",
     "output_type": "stream",
     "text": [
      "student_1\n",
      "student_2\n",
      "student_3\n"
     ]
    }
   ],
   "source": [
    "for k in d:\n",
    "    print(k)"
   ]
  },
  {
   "cell_type": "code",
   "execution_count": 43,
   "id": "12cf6a7e",
   "metadata": {},
   "outputs": [
    {
     "name": "stdout",
     "output_type": "stream",
     "text": [
      "[90, 89]\n",
      "[80, 83]\n",
      "[72, 71]\n"
     ]
    }
   ],
   "source": [
    "for k in d:\n",
    "    v= d[k]\n",
    "    print(v)"
   ]
  },
  {
   "cell_type": "markdown",
   "id": "a19a82a0",
   "metadata": {},
   "source": [
    "# .values()\n",
    "## Dictionarylerde value lar üzerinden işlem yapmamızı sağlar"
   ]
  },
  {
   "cell_type": "code",
   "execution_count": 44,
   "id": "89d6f5c8",
   "metadata": {},
   "outputs": [
    {
     "data": {
      "text/plain": [
       "{'student_1': [90, 89], 'student_2': [80, 83], 'student_3': [72, 71]}"
      ]
     },
     "execution_count": 44,
     "metadata": {},
     "output_type": "execute_result"
    }
   ],
   "source": [
    "d"
   ]
  },
  {
   "cell_type": "code",
   "execution_count": 46,
   "id": "ff4bba88",
   "metadata": {},
   "outputs": [
    {
     "name": "stdout",
     "output_type": "stream",
     "text": [
      "[90, 89]\n",
      "[80, 83]\n",
      "[72, 71]\n"
     ]
    }
   ],
   "source": [
    "for v in d.values():\n",
    "    print(v)"
   ]
  },
  {
   "cell_type": "code",
   "execution_count": 48,
   "id": "dd7c1eb7",
   "metadata": {},
   "outputs": [],
   "source": [
    "d = {\"student_1\":90, \"student_2\":80,\"student_3\":72}"
   ]
  },
  {
   "cell_type": "code",
   "execution_count": 49,
   "id": "f7ea37f6",
   "metadata": {},
   "outputs": [
    {
     "data": {
      "text/plain": [
       "{'student_1': 90, 'student_2': 80, 'student_3': 72}"
      ]
     },
     "execution_count": 49,
     "metadata": {},
     "output_type": "execute_result"
    }
   ],
   "source": [
    "d"
   ]
  },
  {
   "cell_type": "code",
   "execution_count": 51,
   "id": "4f399a45",
   "metadata": {},
   "outputs": [
    {
     "name": "stdout",
     "output_type": "stream",
     "text": [
      "student_1\n"
     ]
    }
   ],
   "source": [
    "for k in d:\n",
    "    value = d[k]\n",
    "    if value > 85:\n",
    "        print(k)"
   ]
  },
  {
   "cell_type": "markdown",
   "id": "c0ea928a",
   "metadata": {},
   "source": [
    "# .items() , Bunu kullandığında hem key hem value değerini vermiş oluyor"
   ]
  },
  {
   "cell_type": "code",
   "execution_count": 52,
   "id": "3de8f83f",
   "metadata": {},
   "outputs": [
    {
     "data": {
      "text/plain": [
       "{'student_1': 90, 'student_2': 80, 'student_3': 72}"
      ]
     },
     "execution_count": 52,
     "metadata": {},
     "output_type": "execute_result"
    }
   ],
   "source": [
    "d"
   ]
  },
  {
   "cell_type": "code",
   "execution_count": 53,
   "id": "32a86f22",
   "metadata": {},
   "outputs": [
    {
     "name": "stdout",
     "output_type": "stream",
     "text": [
      "student_1 90\n",
      "student_2 80\n",
      "student_3 72\n"
     ]
    }
   ],
   "source": [
    "for k,v in d.items():\n",
    "    print(k, v)"
   ]
  },
  {
   "cell_type": "code",
   "execution_count": null,
   "id": "ec23ebaa",
   "metadata": {},
   "outputs": [],
   "source": []
  }
 ],
 "metadata": {
  "kernelspec": {
   "display_name": "Python 3 (ipykernel)",
   "language": "python",
   "name": "python3"
  },
  "language_info": {
   "codemirror_mode": {
    "name": "ipython",
    "version": 3
   },
   "file_extension": ".py",
   "mimetype": "text/x-python",
   "name": "python",
   "nbconvert_exporter": "python",
   "pygments_lexer": "ipython3",
   "version": "3.9.13"
  }
 },
 "nbformat": 4,
 "nbformat_minor": 5
}

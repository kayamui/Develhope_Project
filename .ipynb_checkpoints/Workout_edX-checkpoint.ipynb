{
 "cells": [
  {
   "cell_type": "markdown",
   "id": "ae204061",
   "metadata": {},
   "source": [
    "# Approximate Solution"
   ]
  },
  {
   "cell_type": "code",
   "execution_count": 34,
   "id": "371d8393",
   "metadata": {
    "ExecuteTime": {
     "end_time": "2023-02-15T13:37:21.671936Z",
     "start_time": "2023-02-15T13:37:21.665936Z"
    }
   },
   "outputs": [],
   "source": [
    "def approximate():\n",
    "    cube = int(input('Write the cube of any number: '))\n",
    "    epsilon = 0.01\n",
    "    guess = 0.0\n",
    "    increment = 0.001\n",
    "    num_guesses  = 0\n",
    "    while abs(guess ** 3 - cube) >= epsilon:\n",
    "        guess += increment\n",
    "        num_guesses += 1\n",
    "    return(guess, num_guesses)"
   ]
  },
  {
   "cell_type": "code",
   "execution_count": 38,
   "id": "69863027",
   "metadata": {
    "ExecuteTime": {
     "end_time": "2023-02-15T13:37:59.800642Z",
     "start_time": "2023-02-15T13:37:58.119034Z"
    }
   },
   "outputs": [
    {
     "name": "stdout",
     "output_type": "stream",
     "text": [
      "Write the cube of any number: 29\n"
     ]
    },
    {
     "data": {
      "text/plain": [
       "(3.0719999999997727, 3072)"
      ]
     },
     "execution_count": 38,
     "metadata": {},
     "output_type": "execute_result"
    }
   ],
   "source": [
    "approximate()"
   ]
  },
  {
   "cell_type": "code",
   "execution_count": 39,
   "id": "bf60352e",
   "metadata": {
    "ExecuteTime": {
     "end_time": "2023-02-15T13:38:16.227541Z",
     "start_time": "2023-02-15T13:38:16.216525Z"
    }
   },
   "outputs": [
    {
     "data": {
      "text/plain": [
       "28.991029248"
      ]
     },
     "execution_count": 39,
     "metadata": {},
     "output_type": "execute_result"
    }
   ],
   "source": [
    "3.072*3.072*3.072"
   ]
  },
  {
   "cell_type": "markdown",
   "id": "0b312a16",
   "metadata": {
    "ExecuteTime": {
     "end_time": "2023-02-16T15:17:59.649587Z",
     "start_time": "2023-02-16T15:17:59.631225Z"
    }
   },
   "source": [
    "# Bisection Search"
   ]
  },
  {
   "cell_type": "code",
   "execution_count": 6,
   "id": "e277476e",
   "metadata": {
    "ExecuteTime": {
     "end_time": "2023-02-16T15:26:11.151544Z",
     "start_time": "2023-02-16T15:26:11.140389Z"
    }
   },
   "outputs": [
    {
     "name": "stdout",
     "output_type": "stream",
     "text": [
      "low = 1.0 high = 155 ans = 78.0\n",
      "low = 1.0 high = 78.0 ans = 39.5\n",
      "low = 1.0 high = 39.5 ans = 20.25\n",
      "low = 1.0 high = 20.25 ans = 10.625\n",
      "low = 10.625 high = 20.25 ans = 15.4375\n",
      "low = 10.625 high = 15.4375 ans = 13.03125\n",
      "low = 10.625 high = 13.03125 ans = 11.828125\n",
      "low = 11.828125 high = 13.03125 ans = 12.4296875\n",
      "low = 12.4296875 high = 13.03125 ans = 12.73046875\n",
      "low = 12.4296875 high = 12.73046875 ans = 12.580078125\n",
      "low = 12.4296875 high = 12.580078125 ans = 12.5048828125\n",
      "low = 12.4296875 high = 12.5048828125 ans = 12.46728515625\n",
      "low = 12.4296875 high = 12.46728515625 ans = 12.448486328125\n",
      "low = 12.448486328125 high = 12.46728515625 ans = 12.4578857421875\n",
      "low = 12.448486328125 high = 12.4578857421875 ans = 12.45318603515625\n",
      "low = 12.448486328125 high = 12.45318603515625 ans = 12.450836181640625\n",
      "numGuesses = 16\n",
      "12.449661254882812 is close to square root of 155\n"
     ]
    }
   ],
   "source": [
    "#square root\n",
    "x = 155\n",
    "epsilon = 0.01\n",
    "numGuesses = 0\n",
    "low = 1.0\n",
    "high = x\n",
    "ans = (high + low) / 2.0\n",
    "\n",
    "while abs(ans**2 - x) >= epsilon:\n",
    "    print('low = ' + str(low) + ' high = ' + str(high) + ' ans = ' + str(ans))\n",
    "    numGuesses += 1\n",
    "    if ans ** 2 < x:\n",
    "        low = ans\n",
    "    else:\n",
    "        high = ans\n",
    "    ans = (high + low) / 2.0\n",
    "print('numGuesses = '+ str(numGuesses))\n",
    "print(str(ans) + ' is close to square root of '+str(x))"
   ]
  },
  {
   "cell_type": "code",
   "execution_count": 23,
   "id": "a2e5fabc",
   "metadata": {
    "ExecuteTime": {
     "end_time": "2023-02-16T15:32:45.925809Z",
     "start_time": "2023-02-16T15:32:45.917972Z"
    }
   },
   "outputs": [
    {
     "name": "stdout",
     "output_type": "stream",
     "text": [
      "numGuesses =  53\n",
      "3.0 is close to the cube root of  27\n"
     ]
    }
   ],
   "source": [
    "#cube root\n",
    "cube = 27\n",
    "epsilon = 0.000000000000001\n",
    "numGuesses = 0\n",
    "low = 1\n",
    "high = cube\n",
    "guess = (high + low) / 2.0\n",
    "while abs(guess ** 3 - cube) >= epsilon:\n",
    "    if guess ** 3 < cube:\n",
    "        low = guess\n",
    "    else:\n",
    "        high = guess\n",
    "    guess = (high + low)/ 2.0\n",
    "    numGuesses += 1\n",
    "print('numGuesses = ' , numGuesses)\n",
    "print(guess, 'is close to the cube root of ', cube)"
   ]
  },
  {
   "cell_type": "code",
   "execution_count": 118,
   "id": "38acd14b",
   "metadata": {
    "ExecuteTime": {
     "end_time": "2023-02-16T17:26:47.356448Z",
     "start_time": "2023-02-16T17:26:44.362891Z"
    },
    "collapsed": true
   },
   "outputs": [
    {
     "name": "stdout",
     "output_type": "stream",
     "text": [
      "Please think of a number between 0 and 100!\n",
      "Is your secret number  50 ?\n"
     ]
    },
    {
     "ename": "KeyboardInterrupt",
     "evalue": "Interrupted by user",
     "output_type": "error",
     "traceback": [
      "\u001b[1;31m---------------------------------------------------------------------------\u001b[0m",
      "\u001b[1;31mKeyboardInterrupt\u001b[0m                         Traceback (most recent call last)",
      "\u001b[1;32m~\\AppData\\Local\\Temp\\ipykernel_6040\\2297536651.py\u001b[0m in \u001b[0;36m<module>\u001b[1;34m\u001b[0m\n\u001b[0;32m      6\u001b[0m \u001b[1;32mwhile\u001b[0m \u001b[1;32mTrue\u001b[0m\u001b[1;33m:\u001b[0m\u001b[1;33m\u001b[0m\u001b[1;33m\u001b[0m\u001b[0m\n\u001b[0;32m      7\u001b[0m     \u001b[0mprint\u001b[0m\u001b[1;33m(\u001b[0m\u001b[1;34m'Is your secret number '\u001b[0m\u001b[1;33m,\u001b[0m \u001b[0mguess\u001b[0m\u001b[1;33m,\u001b[0m \u001b[1;34m\"?\"\u001b[0m\u001b[1;33m)\u001b[0m\u001b[1;33m\u001b[0m\u001b[1;33m\u001b[0m\u001b[0m\n\u001b[1;32m----> 8\u001b[1;33m     \u001b[0mans\u001b[0m \u001b[1;33m=\u001b[0m \u001b[0mstr\u001b[0m\u001b[1;33m(\u001b[0m\u001b[0minput\u001b[0m\u001b[1;33m(\u001b[0m\u001b[1;34m\"Enter 'h' to indicate the guess is too high. Enter 'l' to indicate the guess is too low. Enter 'c' to indicate I guessed correctly. \"\u001b[0m\u001b[1;33m)\u001b[0m\u001b[1;33m)\u001b[0m\u001b[1;33m\u001b[0m\u001b[1;33m\u001b[0m\u001b[0m\n\u001b[0m\u001b[0;32m      9\u001b[0m     \u001b[1;32mif\u001b[0m \u001b[0mans\u001b[0m \u001b[1;33m==\u001b[0m \u001b[1;34m'l'\u001b[0m\u001b[1;33m:\u001b[0m\u001b[1;33m\u001b[0m\u001b[1;33m\u001b[0m\u001b[0m\n\u001b[0;32m     10\u001b[0m         \u001b[0mlow\u001b[0m \u001b[1;33m=\u001b[0m \u001b[0mguess\u001b[0m\u001b[1;33m\u001b[0m\u001b[1;33m\u001b[0m\u001b[0m\n",
      "\u001b[1;32mC:\\ProgramData\\Anaconda3\\lib\\site-packages\\ipykernel\\kernelbase.py\u001b[0m in \u001b[0;36mraw_input\u001b[1;34m(self, prompt)\u001b[0m\n\u001b[0;32m   1175\u001b[0m                 \u001b[1;34m\"raw_input was called, but this frontend does not support input requests.\"\u001b[0m\u001b[1;33m\u001b[0m\u001b[1;33m\u001b[0m\u001b[0m\n\u001b[0;32m   1176\u001b[0m             )\n\u001b[1;32m-> 1177\u001b[1;33m         return self._input_request(\n\u001b[0m\u001b[0;32m   1178\u001b[0m             \u001b[0mstr\u001b[0m\u001b[1;33m(\u001b[0m\u001b[0mprompt\u001b[0m\u001b[1;33m)\u001b[0m\u001b[1;33m,\u001b[0m\u001b[1;33m\u001b[0m\u001b[1;33m\u001b[0m\u001b[0m\n\u001b[0;32m   1179\u001b[0m             \u001b[0mself\u001b[0m\u001b[1;33m.\u001b[0m\u001b[0m_parent_ident\u001b[0m\u001b[1;33m[\u001b[0m\u001b[1;34m\"shell\"\u001b[0m\u001b[1;33m]\u001b[0m\u001b[1;33m,\u001b[0m\u001b[1;33m\u001b[0m\u001b[1;33m\u001b[0m\u001b[0m\n",
      "\u001b[1;32mC:\\ProgramData\\Anaconda3\\lib\\site-packages\\ipykernel\\kernelbase.py\u001b[0m in \u001b[0;36m_input_request\u001b[1;34m(self, prompt, ident, parent, password)\u001b[0m\n\u001b[0;32m   1217\u001b[0m             \u001b[1;32mexcept\u001b[0m \u001b[0mKeyboardInterrupt\u001b[0m\u001b[1;33m:\u001b[0m\u001b[1;33m\u001b[0m\u001b[1;33m\u001b[0m\u001b[0m\n\u001b[0;32m   1218\u001b[0m                 \u001b[1;31m# re-raise KeyboardInterrupt, to truncate traceback\u001b[0m\u001b[1;33m\u001b[0m\u001b[1;33m\u001b[0m\u001b[0m\n\u001b[1;32m-> 1219\u001b[1;33m                 \u001b[1;32mraise\u001b[0m \u001b[0mKeyboardInterrupt\u001b[0m\u001b[1;33m(\u001b[0m\u001b[1;34m\"Interrupted by user\"\u001b[0m\u001b[1;33m)\u001b[0m \u001b[1;32mfrom\u001b[0m \u001b[1;32mNone\u001b[0m\u001b[1;33m\u001b[0m\u001b[1;33m\u001b[0m\u001b[0m\n\u001b[0m\u001b[0;32m   1220\u001b[0m             \u001b[1;32mexcept\u001b[0m \u001b[0mException\u001b[0m\u001b[1;33m:\u001b[0m\u001b[1;33m\u001b[0m\u001b[1;33m\u001b[0m\u001b[0m\n\u001b[0;32m   1221\u001b[0m                 \u001b[0mself\u001b[0m\u001b[1;33m.\u001b[0m\u001b[0mlog\u001b[0m\u001b[1;33m.\u001b[0m\u001b[0mwarning\u001b[0m\u001b[1;33m(\u001b[0m\u001b[1;34m\"Invalid Message:\"\u001b[0m\u001b[1;33m,\u001b[0m \u001b[0mexc_info\u001b[0m\u001b[1;33m=\u001b[0m\u001b[1;32mTrue\u001b[0m\u001b[1;33m)\u001b[0m\u001b[1;33m\u001b[0m\u001b[1;33m\u001b[0m\u001b[0m\n",
      "\u001b[1;31mKeyboardInterrupt\u001b[0m: Interrupted by user"
     ]
    }
   ],
   "source": [
    "high = 100\n",
    "low = 0\n",
    "epsilon = 0.01\n",
    "guess = (high + low)//2\n",
    "print('Please think of a number between 0 and 100!')\n",
    "while True:\n",
    "    print('Is your secret number ', guess, \"?\")\n",
    "    ans = str(input(\"Enter 'h' to indicate the guess is too high. Enter 'l' to indicate the guess is too low. Enter 'c' to indicate I guessed correctly. \"))\n",
    "    if ans == 'l':\n",
    "        low = guess\n",
    "    elif ans == 'h':\n",
    "        high = guess\n",
    "    elif ans == 'c':\n",
    "        print('Game over. Your secret number was: ', guess)\n",
    "        break\n",
    "    else:\n",
    "        print('Sorry, I did not understand your input.')\n",
    "    guess = (high + low) // 2"
   ]
  },
  {
   "cell_type": "code",
   "execution_count": 184,
   "id": "9e86769e",
   "metadata": {
    "ExecuteTime": {
     "end_time": "2023-02-16T18:20:05.159538Z",
     "start_time": "2023-02-16T18:20:05.148816Z"
    }
   },
   "outputs": [
    {
     "name": "stdout",
     "output_type": "stream",
     "text": [
      "90325.03\n"
     ]
    }
   ],
   "source": [
    "balance = 999999\n",
    "annualInterestRate = 0.18\n",
    "monthlyInterestRate = annualInterestRate /12\n",
    "high  = (balance * (1+ monthlyInterestRate)**12) / 12\n",
    "low = balance / 12\n",
    "epsilon = 0.01\n",
    "guess = (high + low) / 2\n",
    "a = balance\n",
    "while True:\n",
    "    balance = a\n",
    "    for _ in range(12):\n",
    "        unpaid_balance = balance - guess\n",
    "        interest = unpaid_balance * (annualInterestRate/12)\n",
    "        unpaid_balance+= interest\n",
    "        balance = unpaid_balance\n",
    "    if balance >= epsilon:\n",
    "        low = guess\n",
    "    if abs(balance) < epsilon:\n",
    "        break\n",
    "    if balance < 0:\n",
    "        if abs(balance) >= epsilon:\n",
    "            high = guess\n",
    "        else:\n",
    "            continue\n",
    "    guess = (high+low)/2\n",
    "print(round(guess ,2))"
   ]
  },
  {
   "cell_type": "code",
   "execution_count": 196,
   "id": "38f7f8ec",
   "metadata": {
    "ExecuteTime": {
     "end_time": "2023-02-16T19:32:32.870561Z",
     "start_time": "2023-02-16T19:32:32.863561Z"
    }
   },
   "outputs": [],
   "source": [
    "string = \"\"\"Actully because of my Data Engineering educational background, I didn't face very big problems while I solving tests or taking quizzes.But still, when I watched the videos there were crazy techniques to solve many problems. For example the Newthon-Raphson technique was the craziest and brightest thing I've seen in this journey. It made me think about Newton and how smart that guy was. WOW!\n",
    "So I think being multidimensional is a very good choice to complete the course and learn new things. I mean, to be honest I don't just look at this course, I am searching, looking at the many variety of different websites, and taking many challenges to solve. And as far as I see,  the most you solve the problems, it is the most you open your mind. Especially in coding the thing I see, in this learning path information is 20% and being creative is 80% effective in coding. There is not just one solution for one problem in this world,  there are so many varieties of ways that can help us one problem. So I believe this educations, that certificate, and my other studies all together will have a huge effect on my educational life. But somehow, and most of the time even when I am so sure about myself, I need to prove myself. That certificate will be the proof of that I am successfull being at a python learner and a Data Engineer, and of course it will be very helpful to get a nice job\"\"\""
   ]
  },
  {
   "cell_type": "code",
   "execution_count": null,
   "id": "35ad0c70",
   "metadata": {
    "ExecuteTime": {
     "end_time": "2023-02-16T18:49:54.445035Z",
     "start_time": "2023-02-16T18:49:54.438039Z"
    }
   },
   "outputs": [],
   "source": []
  },
  {
   "cell_type": "code",
   "execution_count": 197,
   "id": "05c4e2c5",
   "metadata": {
    "ExecuteTime": {
     "end_time": "2023-02-16T19:32:33.524879Z",
     "start_time": "2023-02-16T19:32:33.511882Z"
    }
   },
   "outputs": [
    {
     "name": "stdout",
     "output_type": "stream",
     "text": [
      "1385\n"
     ]
    }
   ],
   "source": [
    "count = 0\n",
    "for _ in string:\n",
    "    count += 1\n",
    "print(count)"
   ]
  },
  {
   "cell_type": "code",
   "execution_count": null,
   "id": "bf55e050",
   "metadata": {},
   "outputs": [],
   "source": []
  },
  {
   "cell_type": "code",
   "execution_count": null,
   "id": "238d6bfc",
   "metadata": {},
   "outputs": [],
   "source": []
  },
  {
   "cell_type": "code",
   "execution_count": null,
   "id": "edeea75f",
   "metadata": {},
   "outputs": [],
   "source": []
  },
  {
   "cell_type": "code",
   "execution_count": 49,
   "id": "8b2693b6",
   "metadata": {
    "ExecuteTime": {
     "end_time": "2023-02-16T16:29:13.841838Z",
     "start_time": "2023-02-16T16:29:13.824895Z"
    }
   },
   "outputs": [],
   "source": [
    "def binary_num():\n",
    "    num = int(input())\n",
    "    a = num\n",
    "    if num < 0 :\n",
    "        isNeg = True\n",
    "        num = abs(num)\n",
    "    else:\n",
    "        isNeg = False\n",
    "    result = ''\n",
    "    if num == 0:\n",
    "        result = '0'\n",
    "    while num > 0 :\n",
    "        result = str(num%2) + result\n",
    "        num = num // 2\n",
    "    if isNeg:\n",
    "        result = '-' + result\n",
    "    return f'Binary of {a} is {result}!'"
   ]
  },
  {
   "cell_type": "code",
   "execution_count": 75,
   "id": "43b3e0bb",
   "metadata": {
    "ExecuteTime": {
     "end_time": "2023-02-16T16:47:35.349087Z",
     "start_time": "2023-02-16T16:47:34.074450Z"
    }
   },
   "outputs": [
    {
     "name": "stdout",
     "output_type": "stream",
     "text": [
      "11\n"
     ]
    },
    {
     "data": {
      "text/plain": [
       "'Binary of 11 is 1011!'"
      ]
     },
     "execution_count": 75,
     "metadata": {},
     "output_type": "execute_result"
    }
   ],
   "source": [
    "binary_num()"
   ]
  },
  {
   "cell_type": "code",
   "execution_count": 69,
   "id": "3f32ee14",
   "metadata": {
    "ExecuteTime": {
     "end_time": "2023-02-16T16:43:45.582651Z",
     "start_time": "2023-02-16T16:43:45.572960Z"
    }
   },
   "outputs": [],
   "source": [
    "def decimal_binary():\n",
    "    x = float(input('Enter a decimal number between 0 and 1: '))\n",
    "    p = 0\n",
    "    while ((2**p)*x)%1 != 0:\n",
    "        print('Remainder = ' + str((2**p)*x - int((2**p)*x)))\n",
    "        p+=1\n",
    "        \n",
    "    num = int(x*(2**p))\n",
    "    \n",
    "    result = ''\n",
    "    if num == 0:\n",
    "        result = '0'\n",
    "    while num > 0:\n",
    "        result = str(num%2) + result\n",
    "        num = num//2\n",
    "        \n",
    "    for i in range(p - len(result)):\n",
    "        result = '0' + result\n",
    "    result = result[0:-p] + '.' + result[-p:]\n",
    "    print('The binary representation of the decimal ' + str(x) + ' is ' + str(result))"
   ]
  },
  {
   "cell_type": "code",
   "execution_count": 76,
   "id": "531bb50d",
   "metadata": {
    "ExecuteTime": {
     "end_time": "2023-02-16T16:47:49.851216Z",
     "start_time": "2023-02-16T16:47:47.379158Z"
    }
   },
   "outputs": [
    {
     "name": "stdout",
     "output_type": "stream",
     "text": [
      "Enter a decimal number between 0 and 1: 0.1\n",
      "Remainder = 0.1\n",
      "Remainder = 0.2\n",
      "Remainder = 0.4\n",
      "Remainder = 0.8\n",
      "Remainder = 0.6000000000000001\n",
      "Remainder = 0.20000000000000018\n",
      "Remainder = 0.40000000000000036\n",
      "Remainder = 0.8000000000000007\n",
      "Remainder = 0.6000000000000014\n",
      "Remainder = 0.20000000000000284\n",
      "Remainder = 0.4000000000000057\n",
      "Remainder = 0.8000000000000114\n",
      "Remainder = 0.6000000000000227\n",
      "Remainder = 0.20000000000004547\n",
      "Remainder = 0.40000000000009095\n",
      "Remainder = 0.8000000000001819\n",
      "Remainder = 0.6000000000003638\n",
      "Remainder = 0.2000000000007276\n",
      "Remainder = 0.4000000000014552\n",
      "Remainder = 0.8000000000029104\n",
      "Remainder = 0.6000000000058208\n",
      "Remainder = 0.20000000001164153\n",
      "Remainder = 0.40000000002328306\n",
      "Remainder = 0.8000000000465661\n",
      "Remainder = 0.6000000000931323\n",
      "Remainder = 0.20000000018626451\n",
      "Remainder = 0.40000000037252903\n",
      "Remainder = 0.8000000007450581\n",
      "Remainder = 0.6000000014901161\n",
      "Remainder = 0.20000000298023224\n",
      "Remainder = 0.4000000059604645\n",
      "Remainder = 0.800000011920929\n",
      "Remainder = 0.6000000238418579\n",
      "Remainder = 0.20000004768371582\n",
      "Remainder = 0.40000009536743164\n",
      "Remainder = 0.8000001907348633\n",
      "Remainder = 0.6000003814697266\n",
      "Remainder = 0.20000076293945312\n",
      "Remainder = 0.40000152587890625\n",
      "Remainder = 0.8000030517578125\n",
      "Remainder = 0.600006103515625\n",
      "Remainder = 0.20001220703125\n",
      "Remainder = 0.4000244140625\n",
      "Remainder = 0.800048828125\n",
      "Remainder = 0.60009765625\n",
      "Remainder = 0.2001953125\n",
      "Remainder = 0.400390625\n",
      "Remainder = 0.80078125\n",
      "Remainder = 0.6015625\n",
      "Remainder = 0.203125\n",
      "Remainder = 0.40625\n",
      "Remainder = 0.8125\n",
      "Remainder = 0.625\n",
      "Remainder = 0.25\n",
      "Remainder = 0.5\n",
      "The binary representation of the decimal 0.1 is .0001100110011001100110011001100110011001100110011001101\n"
     ]
    }
   ],
   "source": [
    "decimal_binary()"
   ]
  },
  {
   "cell_type": "code",
   "execution_count": 74,
   "id": "9bae2391",
   "metadata": {
    "ExecuteTime": {
     "end_time": "2023-02-16T16:47:02.620257Z",
     "start_time": "2023-02-16T16:47:02.614259Z"
    }
   },
   "outputs": [
    {
     "name": "stdout",
     "output_type": "stream",
     "text": [
      "0.1\n"
     ]
    }
   ],
   "source": [
    "print(0.1)"
   ]
  },
  {
   "cell_type": "markdown",
   "id": "9178dcab",
   "metadata": {},
   "source": [
    "# Newton-Raphson"
   ]
  },
  {
   "cell_type": "code",
   "execution_count": 115,
   "id": "6456d177",
   "metadata": {
    "ExecuteTime": {
     "end_time": "2023-02-16T17:04:38.069245Z",
     "start_time": "2023-02-16T17:04:38.050657Z"
    }
   },
   "outputs": [],
   "source": [
    "# This gives us another way of generating guesses, which we can check; very efficient\n",
    "def newton_raphson():\n",
    "    epsilon = 0.000000000001\n",
    "    y = float(input('Enter a number: '))\n",
    "    guess = y / 2.0\n",
    "    numGuesses = 0\n",
    "    \n",
    "    while abs(guess ** 2 - y) >= epsilon:\n",
    "        numGuesses += 1\n",
    "        guess = guess - (((guess**2) -y) / (2*guess))\n",
    "    print('numGuesses : ' + str(numGuesses))\n",
    "    print('Square root of ' + str(y) + ' is about ' + str(guess))"
   ]
  },
  {
   "cell_type": "code",
   "execution_count": 116,
   "id": "ebabd26e",
   "metadata": {
    "ExecuteTime": {
     "end_time": "2023-02-16T17:04:39.889217Z",
     "start_time": "2023-02-16T17:04:38.171863Z"
    }
   },
   "outputs": [
    {
     "name": "stdout",
     "output_type": "stream",
     "text": [
      "Enter a number: 54\n",
      "numGuesses : 6\n",
      "Square root of 54.0 is about 7.348469228349539\n"
     ]
    }
   ],
   "source": [
    "newton_raphson()"
   ]
  },
  {
   "cell_type": "code",
   "execution_count": 117,
   "id": "0f5779c9",
   "metadata": {
    "ExecuteTime": {
     "end_time": "2023-02-16T17:04:50.611471Z",
     "start_time": "2023-02-16T17:04:50.597468Z"
    }
   },
   "outputs": [
    {
     "data": {
      "text/plain": [
       "54.00000000000007"
      ]
     },
     "execution_count": 117,
     "metadata": {},
     "output_type": "execute_result"
    }
   ],
   "source": [
    "7.348469228349539 * 7.348469228349539"
   ]
  },
  {
   "cell_type": "code",
   "execution_count": 1,
   "id": "39eb467a",
   "metadata": {
    "ExecuteTime": {
     "end_time": "2023-02-16T22:25:01.921161Z",
     "start_time": "2023-02-16T22:25:01.905327Z"
    }
   },
   "outputs": [],
   "source": [
    "def is_even(i):\n",
    "    print('hi')\n",
    "    return i % 2 == 0"
   ]
  },
  {
   "cell_type": "code",
   "execution_count": 3,
   "id": "5356f8d8",
   "metadata": {
    "ExecuteTime": {
     "end_time": "2023-02-16T22:25:15.760953Z",
     "start_time": "2023-02-16T22:25:15.741964Z"
    }
   },
   "outputs": [
    {
     "name": "stdout",
     "output_type": "stream",
     "text": [
      "hi\n"
     ]
    },
    {
     "data": {
      "text/plain": [
       "True"
      ]
     },
     "execution_count": 3,
     "metadata": {},
     "output_type": "execute_result"
    }
   ],
   "source": [
    "is_even(4)"
   ]
  },
  {
   "cell_type": "code",
   "execution_count": 4,
   "id": "16fd533a",
   "metadata": {
    "ExecuteTime": {
     "end_time": "2023-02-16T22:33:27.578326Z",
     "start_time": "2023-02-16T22:33:27.564339Z"
    }
   },
   "outputs": [],
   "source": [
    "def f(x):\n",
    "    return x + 1"
   ]
  },
  {
   "cell_type": "code",
   "execution_count": 5,
   "id": "766409ed",
   "metadata": {
    "ExecuteTime": {
     "end_time": "2023-02-16T22:33:37.561518Z",
     "start_time": "2023-02-16T22:33:37.557520Z"
    }
   },
   "outputs": [],
   "source": [
    "z = f(4)"
   ]
  },
  {
   "cell_type": "code",
   "execution_count": 6,
   "id": "daef2dc3",
   "metadata": {
    "ExecuteTime": {
     "end_time": "2023-02-16T22:33:40.040624Z",
     "start_time": "2023-02-16T22:33:40.029637Z"
    }
   },
   "outputs": [
    {
     "data": {
      "text/plain": [
       "5"
      ]
     },
     "execution_count": 6,
     "metadata": {},
     "output_type": "execute_result"
    }
   ],
   "source": [
    "z"
   ]
  },
  {
   "cell_type": "code",
   "execution_count": 12,
   "id": "cd9c2243",
   "metadata": {
    "ExecuteTime": {
     "end_time": "2023-02-16T22:43:54.985875Z",
     "start_time": "2023-02-16T22:43:54.971876Z"
    }
   },
   "outputs": [],
   "source": [
    "def func_a():\n",
    "    print('inside a')\n",
    "def func_b(y):\n",
    "    print('inside b')\n",
    "    return y\n",
    "def func_c(z):\n",
    "    print('inside z')\n",
    "    return z"
   ]
  },
  {
   "cell_type": "code",
   "execution_count": 13,
   "id": "fd31a6d8",
   "metadata": {
    "ExecuteTime": {
     "end_time": "2023-02-16T22:43:55.246631Z",
     "start_time": "2023-02-16T22:43:55.243629Z"
    }
   },
   "outputs": [
    {
     "name": "stdout",
     "output_type": "stream",
     "text": [
      "inside a\n",
      "None\n"
     ]
    }
   ],
   "source": [
    "print(func_a())"
   ]
  },
  {
   "cell_type": "code",
   "execution_count": 14,
   "id": "c9838ef1",
   "metadata": {
    "ExecuteTime": {
     "end_time": "2023-02-16T22:43:55.588499Z",
     "start_time": "2023-02-16T22:43:55.571502Z"
    }
   },
   "outputs": [
    {
     "name": "stdout",
     "output_type": "stream",
     "text": [
      "inside b\n",
      "7\n"
     ]
    }
   ],
   "source": [
    "print(5+func_b(2))"
   ]
  },
  {
   "cell_type": "code",
   "execution_count": 15,
   "id": "99fa0057",
   "metadata": {
    "ExecuteTime": {
     "end_time": "2023-02-16T22:43:56.120465Z",
     "start_time": "2023-02-16T22:43:56.107463Z"
    }
   },
   "outputs": [
    {
     "name": "stdout",
     "output_type": "stream",
     "text": [
      "inside a\n",
      "inside z\n",
      "None\n"
     ]
    }
   ],
   "source": [
    "print(func_c(func_a()))"
   ]
  },
  {
   "cell_type": "code",
   "execution_count": 27,
   "id": "74a71ae9",
   "metadata": {
    "ExecuteTime": {
     "end_time": "2023-02-16T22:55:53.534703Z",
     "start_time": "2023-02-16T22:55:53.526705Z"
    }
   },
   "outputs": [],
   "source": [
    "def g(x):\n",
    "    def h():\n",
    "        x='abc'\n",
    "        print(x)\n",
    "    x += 1\n",
    "    h()\n",
    "    print('in g(x): x= ', x)\n",
    "    return x"
   ]
  },
  {
   "cell_type": "code",
   "execution_count": 28,
   "id": "42b6b503",
   "metadata": {
    "ExecuteTime": {
     "end_time": "2023-02-16T22:55:53.977613Z",
     "start_time": "2023-02-16T22:55:53.966610Z"
    }
   },
   "outputs": [
    {
     "name": "stdout",
     "output_type": "stream",
     "text": [
      "abc\n",
      "in g(x): x=  4\n"
     ]
    },
    {
     "data": {
      "text/plain": [
       "4"
      ]
     },
     "execution_count": 28,
     "metadata": {},
     "output_type": "execute_result"
    }
   ],
   "source": [
    "g(3)"
   ]
  },
  {
   "cell_type": "code",
   "execution_count": 29,
   "id": "414cc059",
   "metadata": {
    "ExecuteTime": {
     "end_time": "2023-02-16T23:08:57.174152Z",
     "start_time": "2023-02-16T23:08:57.163164Z"
    }
   },
   "outputs": [],
   "source": [
    "def a(x, y, z):\n",
    "     if x:\n",
    "        return y\n",
    "     else:\n",
    "        return z"
   ]
  },
  {
   "cell_type": "code",
   "execution_count": 30,
   "id": "84053ead",
   "metadata": {
    "ExecuteTime": {
     "end_time": "2023-02-16T23:09:09.093056Z",
     "start_time": "2023-02-16T23:09:09.083058Z"
    }
   },
   "outputs": [
    {
     "ename": "NameError",
     "evalue": "name 'b' is not defined",
     "output_type": "error",
     "traceback": [
      "\u001b[1;31m---------------------------------------------------------------------------\u001b[0m",
      "\u001b[1;31mNameError\u001b[0m                                 Traceback (most recent call last)",
      "\u001b[1;32m~\\AppData\\Local\\Temp\\ipykernel_15436\\3386694874.py\u001b[0m in \u001b[0;36m<module>\u001b[1;34m\u001b[0m\n\u001b[1;32m----> 1\u001b[1;33m \u001b[0ma\u001b[0m\u001b[1;33m(\u001b[0m\u001b[1;36m3\u001b[0m\u001b[1;33m>\u001b[0m\u001b[1;36m2\u001b[0m\u001b[1;33m,\u001b[0m \u001b[0ma\u001b[0m\u001b[1;33m,\u001b[0m \u001b[0mb\u001b[0m\u001b[1;33m)\u001b[0m\u001b[1;33m\u001b[0m\u001b[1;33m\u001b[0m\u001b[0m\n\u001b[0m",
      "\u001b[1;31mNameError\u001b[0m: name 'b' is not defined"
     ]
    }
   ],
   "source": [
    "a(3>2, a, b)"
   ]
  },
  {
   "cell_type": "code",
   "execution_count": 34,
   "id": "d9425073",
   "metadata": {
    "ExecuteTime": {
     "end_time": "2023-02-16T23:27:36.784587Z",
     "start_time": "2023-02-16T23:27:36.775594Z"
    }
   },
   "outputs": [],
   "source": [
    "import math\n",
    "\n",
    "def polysium(n, s):\n",
    "    area = (0.25 * n * (s**2)) / math.tan(math.pi / n)\n",
    "    perimeter = n * s\n",
    "\n",
    "    return area, perimeter, round(area + perimeter**2, 4)"
   ]
  },
  {
   "cell_type": "code",
   "execution_count": 37,
   "id": "3963e867",
   "metadata": {
    "ExecuteTime": {
     "end_time": "2023-02-16T23:27:54.600158Z",
     "start_time": "2023-02-16T23:27:54.587158Z"
    }
   },
   "outputs": [
    {
     "data": {
      "text/plain": [
       "(43.301270189221945, 30, 943.3013)"
      ]
     },
     "execution_count": 37,
     "metadata": {},
     "output_type": "execute_result"
    }
   ],
   "source": [
    "polysium(3,10)"
   ]
  },
  {
   "cell_type": "code",
   "execution_count": 38,
   "id": "caaf6487",
   "metadata": {
    "ExecuteTime": {
     "end_time": "2023-02-16T23:33:32.394257Z",
     "start_time": "2023-02-16T23:33:32.381258Z"
    }
   },
   "outputs": [],
   "source": [
    "#First, import everything from the math library\n",
    "from math import *\n",
    "\n",
    "#Second, define the function\n",
    "def polysum(n, s):\n",
    "    #Third, make required calculations\n",
    "    area = (0.25*n*s**2)/(tan(pi/n))\n",
    "    perimeter = n * s\n",
    "\n",
    "    #Finally return the answer rounded to 4 decimal places.\n",
    "    return round((area + perimeter**2),4)"
   ]
  },
  {
   "cell_type": "code",
   "execution_count": 39,
   "id": "4fd25db6",
   "metadata": {
    "ExecuteTime": {
     "end_time": "2023-02-16T23:33:40.202089Z",
     "start_time": "2023-02-16T23:33:40.191090Z"
    }
   },
   "outputs": [
    {
     "data": {
      "text/plain": [
       "235.8253"
      ]
     },
     "execution_count": 39,
     "metadata": {},
     "output_type": "execute_result"
    }
   ],
   "source": [
    "polysum(3,5)"
   ]
  },
  {
   "cell_type": "code",
   "execution_count": 1,
   "id": "482d9877",
   "metadata": {
    "ExecuteTime": {
     "end_time": "2023-02-21T20:39:37.106026Z",
     "start_time": "2023-02-21T20:39:37.101026Z"
    }
   },
   "outputs": [],
   "source": [
    "#First of all we should import the modules we need, which is for this exercise math module\n",
    "\n",
    "import math\n",
    "\n",
    "#Let's define our function name and parameters\n",
    "def polysum(n,s):\n",
    "    \"\"\"\n",
    "    We created to arguments name is 'area' and 'perimeter'.\n",
    "    Made the calculations than assign them to the 'area' and 'perimeter'\n",
    "    \"\"\"\n",
    "    area = (0.25 * n * s**2) / (math.tan(math.pi / n))\n",
    "    perimeter = n*s\n",
    "    \n",
    "    return f'The area of polygon is: {round(area, 4)}. Perimeter is: {round(perimeter, 4)}. The sum of area and perimeter square is: {round(area + perimeter**2, 4)}'"
   ]
  },
  {
   "cell_type": "markdown",
   "id": "48cd0ca7",
   "metadata": {},
   "source": [
    "# Tuples"
   ]
  },
  {
   "cell_type": "code",
   "execution_count": 3,
   "id": "dd927050",
   "metadata": {
    "ExecuteTime": {
     "end_time": "2023-02-21T20:49:35.551245Z",
     "start_time": "2023-02-21T20:49:35.543247Z"
    }
   },
   "outputs": [],
   "source": [
    "def get_data(aTuple):\n",
    "    nums = ()\n",
    "    words = ()\n",
    "    for t in aTuple:\n",
    "        nums = nums + (t[0],)\n",
    "        if t[1] not in words:\n",
    "            words = words + (t[1],)\n",
    "    min_nums = min(nums)\n",
    "    max_nums = max(nums)\n",
    "    unique_words = len(words)\n",
    "    return (min_nums, max_nums, unique_words)"
   ]
  },
  {
   "cell_type": "code",
   "execution_count": 4,
   "id": "b41cf912",
   "metadata": {
    "ExecuteTime": {
     "end_time": "2023-02-21T20:51:56.191519Z",
     "start_time": "2023-02-21T20:51:56.176516Z"
    }
   },
   "outputs": [],
   "source": [
    "small, large, word = get_data(((1,'mine'),\n",
    "                              (2,'yours'),\n",
    "                              (3,'ours'),\n",
    "                              (7,'mine')))"
   ]
  },
  {
   "cell_type": "code",
   "execution_count": 5,
   "id": "0c5047f7",
   "metadata": {
    "ExecuteTime": {
     "end_time": "2023-02-21T20:52:01.576069Z",
     "start_time": "2023-02-21T20:52:01.554072Z"
    }
   },
   "outputs": [
    {
     "data": {
      "text/plain": [
       "1"
      ]
     },
     "execution_count": 5,
     "metadata": {},
     "output_type": "execute_result"
    }
   ],
   "source": [
    "small"
   ]
  },
  {
   "cell_type": "code",
   "execution_count": 6,
   "id": "b75b5bb8",
   "metadata": {
    "ExecuteTime": {
     "end_time": "2023-02-21T20:52:03.775564Z",
     "start_time": "2023-02-21T20:52:03.761568Z"
    }
   },
   "outputs": [
    {
     "data": {
      "text/plain": [
       "7"
      ]
     },
     "execution_count": 6,
     "metadata": {},
     "output_type": "execute_result"
    }
   ],
   "source": [
    "large"
   ]
  },
  {
   "cell_type": "code",
   "execution_count": 7,
   "id": "2427f0f3",
   "metadata": {
    "ExecuteTime": {
     "end_time": "2023-02-21T20:52:06.621788Z",
     "start_time": "2023-02-21T20:52:06.609789Z"
    }
   },
   "outputs": [
    {
     "data": {
      "text/plain": [
       "3"
      ]
     },
     "execution_count": 7,
     "metadata": {},
     "output_type": "execute_result"
    }
   ],
   "source": [
    "word"
   ]
  },
  {
   "cell_type": "code",
   "execution_count": 8,
   "id": "ff52c9b3",
   "metadata": {
    "ExecuteTime": {
     "end_time": "2023-02-21T20:54:55.650670Z",
     "start_time": "2023-02-21T20:54:55.647666Z"
    }
   },
   "outputs": [],
   "source": [
    "x = (1, 2, (3, 'John', 4), 'Hi')"
   ]
  },
  {
   "cell_type": "code",
   "execution_count": 9,
   "id": "abdfdda3",
   "metadata": {
    "ExecuteTime": {
     "end_time": "2023-02-21T20:54:59.990881Z",
     "start_time": "2023-02-21T20:54:59.975630Z"
    }
   },
   "outputs": [
    {
     "data": {
      "text/plain": [
       "int"
      ]
     },
     "execution_count": 9,
     "metadata": {},
     "output_type": "execute_result"
    }
   ],
   "source": [
    "type(x[0])"
   ]
  },
  {
   "cell_type": "code",
   "execution_count": 11,
   "id": "33d4733e",
   "metadata": {
    "ExecuteTime": {
     "end_time": "2023-02-21T20:55:39.506452Z",
     "start_time": "2023-02-21T20:55:39.492465Z"
    }
   },
   "outputs": [
    {
     "data": {
      "text/plain": [
       "tuple"
      ]
     },
     "execution_count": 11,
     "metadata": {},
     "output_type": "execute_result"
    }
   ],
   "source": [
    "type(x[2])"
   ]
  },
  {
   "cell_type": "code",
   "execution_count": 12,
   "id": "6158066f",
   "metadata": {
    "ExecuteTime": {
     "end_time": "2023-02-21T20:56:01.821820Z",
     "start_time": "2023-02-21T20:56:01.807833Z"
    }
   },
   "outputs": [
    {
     "data": {
      "text/plain": [
       "1"
      ]
     },
     "execution_count": 12,
     "metadata": {},
     "output_type": "execute_result"
    }
   ],
   "source": [
    "x[0]"
   ]
  },
  {
   "cell_type": "code",
   "execution_count": 13,
   "id": "5cf7cdf0",
   "metadata": {
    "ExecuteTime": {
     "end_time": "2023-02-21T20:57:05.393793Z",
     "start_time": "2023-02-21T20:57:05.382798Z"
    }
   },
   "outputs": [
    {
     "data": {
      "text/plain": [
       "(1,)"
      ]
     },
     "execution_count": 13,
     "metadata": {},
     "output_type": "execute_result"
    }
   ],
   "source": [
    "x[0:1]"
   ]
  },
  {
   "cell_type": "code",
   "execution_count": 14,
   "id": "b6c5a034",
   "metadata": {
    "ExecuteTime": {
     "end_time": "2023-02-21T20:57:46.964999Z",
     "start_time": "2023-02-21T20:57:46.949001Z"
    }
   },
   "outputs": [
    {
     "data": {
      "text/plain": [
       "(1, 2, (3, 'John', 4))"
      ]
     },
     "execution_count": 14,
     "metadata": {},
     "output_type": "execute_result"
    }
   ],
   "source": [
    "x[0:-1]"
   ]
  },
  {
   "cell_type": "code",
   "execution_count": 27,
   "id": "994d574f",
   "metadata": {
    "ExecuteTime": {
     "end_time": "2023-02-21T21:03:10.228480Z",
     "start_time": "2023-02-21T21:03:10.220484Z"
    }
   },
   "outputs": [],
   "source": [
    "def oddTuples(aTup):\n",
    "    '''\n",
    "    aTup: a tuple\n",
    "    \n",
    "    returns: tuple, every other element of aTup. \n",
    "    '''\n",
    "    return (aTup[0:: 2])"
   ]
  },
  {
   "cell_type": "code",
   "execution_count": 28,
   "id": "b237784f",
   "metadata": {
    "ExecuteTime": {
     "end_time": "2023-02-21T21:03:10.430165Z",
     "start_time": "2023-02-21T21:03:10.412166Z"
    }
   },
   "outputs": [
    {
     "data": {
      "text/plain": [
       "(8, 18)"
      ]
     },
     "execution_count": 28,
     "metadata": {},
     "output_type": "execute_result"
    }
   ],
   "source": [
    "oddTuples((8, 5, 18, 14))"
   ]
  },
  {
   "cell_type": "code",
   "execution_count": 23,
   "id": "5c2c3048",
   "metadata": {
    "ExecuteTime": {
     "end_time": "2023-02-21T21:02:46.224343Z",
     "start_time": "2023-02-21T21:02:46.210347Z"
    }
   },
   "outputs": [],
   "source": [
    "aList= [8, 5, 18, 14]"
   ]
  },
  {
   "cell_type": "code",
   "execution_count": 26,
   "id": "d08efcec",
   "metadata": {
    "ExecuteTime": {
     "end_time": "2023-02-21T21:03:06.011426Z",
     "start_time": "2023-02-21T21:03:05.995428Z"
    }
   },
   "outputs": [
    {
     "data": {
      "text/plain": [
       "[8, 18]"
      ]
     },
     "execution_count": 26,
     "metadata": {},
     "output_type": "execute_result"
    }
   ],
   "source": [
    "aList[0::2]"
   ]
  },
  {
   "cell_type": "code",
   "execution_count": 29,
   "id": "97228b32",
   "metadata": {
    "ExecuteTime": {
     "end_time": "2023-02-21T21:13:37.948441Z",
     "start_time": "2023-02-21T21:13:37.939454Z"
    }
   },
   "outputs": [],
   "source": [
    "a_tuple=(1,2,3)"
   ]
  },
  {
   "cell_type": "code",
   "execution_count": 36,
   "id": "81a0a391",
   "metadata": {
    "ExecuteTime": {
     "end_time": "2023-02-21T21:14:32.832685Z",
     "start_time": "2023-02-21T21:14:32.818684Z"
    }
   },
   "outputs": [
    {
     "ename": "TypeError",
     "evalue": "can only concatenate tuple (not \"int\") to tuple",
     "output_type": "error",
     "traceback": [
      "\u001b[1;31m---------------------------------------------------------------------------\u001b[0m",
      "\u001b[1;31mTypeError\u001b[0m                                 Traceback (most recent call last)",
      "\u001b[1;32m~\\AppData\\Local\\Temp\\ipykernel_18980\\3857930067.py\u001b[0m in \u001b[0;36m<module>\u001b[1;34m\u001b[0m\n\u001b[1;32m----> 1\u001b[1;33m \u001b[0ma_tuple\u001b[0m \u001b[1;33m+=\u001b[0m \u001b[1;36m4\u001b[0m\u001b[1;33m\u001b[0m\u001b[1;33m\u001b[0m\u001b[0m\n\u001b[0m",
      "\u001b[1;31mTypeError\u001b[0m: can only concatenate tuple (not \"int\") to tuple"
     ]
    }
   ],
   "source": [
    "a_tuple += 4"
   ]
  },
  {
   "cell_type": "code",
   "execution_count": 37,
   "id": "6ba714e7",
   "metadata": {
    "ExecuteTime": {
     "end_time": "2023-02-21T21:14:42.700062Z",
     "start_time": "2023-02-21T21:14:42.683067Z"
    }
   },
   "outputs": [],
   "source": [
    "a_tuple += (4,)"
   ]
  },
  {
   "cell_type": "code",
   "execution_count": 38,
   "id": "19f05835",
   "metadata": {
    "ExecuteTime": {
     "end_time": "2023-02-21T21:14:45.572709Z",
     "start_time": "2023-02-21T21:14:45.554712Z"
    }
   },
   "outputs": [
    {
     "data": {
      "text/plain": [
       "(1, 2, 3, 4)"
      ]
     },
     "execution_count": 38,
     "metadata": {},
     "output_type": "execute_result"
    }
   ],
   "source": [
    "a_tuple"
   ]
  },
  {
   "cell_type": "code",
   "execution_count": 39,
   "id": "e0f8afc0",
   "metadata": {
    "ExecuteTime": {
     "end_time": "2023-02-21T21:15:01.515699Z",
     "start_time": "2023-02-21T21:15:01.509701Z"
    }
   },
   "outputs": [],
   "source": [
    "a_tuple += 5,6,7,8"
   ]
  },
  {
   "cell_type": "code",
   "execution_count": 40,
   "id": "d418f926",
   "metadata": {
    "ExecuteTime": {
     "end_time": "2023-02-21T21:15:04.060094Z",
     "start_time": "2023-02-21T21:15:04.045094Z"
    }
   },
   "outputs": [
    {
     "data": {
      "text/plain": [
       "(1, 2, 3, 4, 5, 6, 7, 8)"
      ]
     },
     "execution_count": 40,
     "metadata": {},
     "output_type": "execute_result"
    }
   ],
   "source": [
    "a_tuple"
   ]
  },
  {
   "cell_type": "code",
   "execution_count": 41,
   "id": "d6a17570",
   "metadata": {
    "ExecuteTime": {
     "end_time": "2023-02-21T21:26:49.923703Z",
     "start_time": "2023-02-21T21:26:49.910704Z"
    }
   },
   "outputs": [],
   "source": [
    "x = [1, 2, [3, 'John', 4], 'Hi'] "
   ]
  },
  {
   "cell_type": "code",
   "execution_count": 42,
   "id": "dea28ef8",
   "metadata": {
    "ExecuteTime": {
     "end_time": "2023-02-21T21:27:39.526942Z",
     "start_time": "2023-02-21T21:27:39.507944Z"
    }
   },
   "outputs": [
    {
     "data": {
      "text/plain": [
       "[1]"
      ]
     },
     "execution_count": 42,
     "metadata": {},
     "output_type": "execute_result"
    }
   ],
   "source": [
    "x[0:1]"
   ]
  },
  {
   "cell_type": "code",
   "execution_count": 52,
   "id": "db3efcf7",
   "metadata": {
    "ExecuteTime": {
     "end_time": "2023-02-21T21:36:18.507118Z",
     "start_time": "2023-02-21T21:36:18.488122Z"
    }
   },
   "outputs": [],
   "source": [
    "L = [2,1,3]"
   ]
  },
  {
   "cell_type": "code",
   "execution_count": 53,
   "id": "e039c06f",
   "metadata": {
    "ExecuteTime": {
     "end_time": "2023-02-21T21:36:18.683015Z",
     "start_time": "2023-02-21T21:36:18.667709Z"
    }
   },
   "outputs": [
    {
     "name": "stdout",
     "output_type": "stream",
     "text": [
      "[2, 1, 3]\n"
     ]
    }
   ],
   "source": [
    "print(L)"
   ]
  },
  {
   "cell_type": "code",
   "execution_count": 54,
   "id": "8d48783e",
   "metadata": {
    "ExecuteTime": {
     "end_time": "2023-02-21T21:36:22.915457Z",
     "start_time": "2023-02-21T21:36:22.900461Z"
    }
   },
   "outputs": [],
   "source": [
    "L.append(4)"
   ]
  },
  {
   "cell_type": "code",
   "execution_count": 55,
   "id": "23a29f06",
   "metadata": {
    "ExecuteTime": {
     "end_time": "2023-02-21T21:36:23.103425Z",
     "start_time": "2023-02-21T21:36:23.084429Z"
    }
   },
   "outputs": [
    {
     "data": {
      "text/plain": [
       "[2, 1, 3, 4]"
      ]
     },
     "execution_count": 55,
     "metadata": {},
     "output_type": "execute_result"
    }
   ],
   "source": [
    "L"
   ]
  },
  {
   "cell_type": "code",
   "execution_count": 56,
   "id": "8ad21c54",
   "metadata": {
    "ExecuteTime": {
     "end_time": "2023-02-21T21:36:24.010035Z",
     "start_time": "2023-02-21T21:36:23.997041Z"
    }
   },
   "outputs": [],
   "source": [
    "L.extend([5,6])"
   ]
  },
  {
   "cell_type": "code",
   "execution_count": 57,
   "id": "2a1c5cc6",
   "metadata": {
    "ExecuteTime": {
     "end_time": "2023-02-21T21:36:24.249663Z",
     "start_time": "2023-02-21T21:36:24.233715Z"
    }
   },
   "outputs": [
    {
     "data": {
      "text/plain": [
       "[2, 1, 3, 4, 5, 6]"
      ]
     },
     "execution_count": 57,
     "metadata": {},
     "output_type": "execute_result"
    }
   ],
   "source": [
    "L"
   ]
  },
  {
   "cell_type": "code",
   "execution_count": 59,
   "id": "4955c45e",
   "metadata": {
    "ExecuteTime": {
     "end_time": "2023-02-21T21:37:06.838837Z",
     "start_time": "2023-02-21T21:37:06.834838Z"
    }
   },
   "outputs": [],
   "source": [
    "del(L[0])"
   ]
  },
  {
   "cell_type": "code",
   "execution_count": 60,
   "id": "aaaf17d6",
   "metadata": {
    "ExecuteTime": {
     "end_time": "2023-02-21T21:37:09.541401Z",
     "start_time": "2023-02-21T21:37:09.530403Z"
    }
   },
   "outputs": [
    {
     "data": {
      "text/plain": [
       "[1, 3, 4, 5, 6]"
      ]
     },
     "execution_count": 60,
     "metadata": {},
     "output_type": "execute_result"
    }
   ],
   "source": [
    "L"
   ]
  },
  {
   "cell_type": "code",
   "execution_count": 61,
   "id": "1a8f7ffd",
   "metadata": {
    "ExecuteTime": {
     "end_time": "2023-02-21T21:37:19.854511Z",
     "start_time": "2023-02-21T21:37:19.836519Z"
    }
   },
   "outputs": [],
   "source": [
    "L.remove(5)"
   ]
  },
  {
   "cell_type": "code",
   "execution_count": 62,
   "id": "7ff6577f",
   "metadata": {
    "ExecuteTime": {
     "end_time": "2023-02-21T21:37:22.834468Z",
     "start_time": "2023-02-21T21:37:22.820728Z"
    }
   },
   "outputs": [
    {
     "data": {
      "text/plain": [
       "[1, 3, 4, 6]"
      ]
     },
     "execution_count": 62,
     "metadata": {},
     "output_type": "execute_result"
    }
   ],
   "source": [
    "L"
   ]
  },
  {
   "cell_type": "code",
   "execution_count": 63,
   "id": "bf5311af",
   "metadata": {
    "ExecuteTime": {
     "end_time": "2023-02-21T21:37:45.890189Z",
     "start_time": "2023-02-21T21:37:45.879191Z"
    }
   },
   "outputs": [],
   "source": [
    "L.extend([1,7])"
   ]
  },
  {
   "cell_type": "code",
   "execution_count": 64,
   "id": "ecb62348",
   "metadata": {
    "ExecuteTime": {
     "end_time": "2023-02-21T21:37:48.308402Z",
     "start_time": "2023-02-21T21:37:48.295885Z"
    }
   },
   "outputs": [
    {
     "data": {
      "text/plain": [
       "[1, 3, 4, 6, 1, 7]"
      ]
     },
     "execution_count": 64,
     "metadata": {},
     "output_type": "execute_result"
    }
   ],
   "source": [
    "L"
   ]
  },
  {
   "cell_type": "code",
   "execution_count": 65,
   "id": "dadf7ff9",
   "metadata": {
    "ExecuteTime": {
     "end_time": "2023-02-21T21:37:57.274804Z",
     "start_time": "2023-02-21T21:37:57.264807Z"
    }
   },
   "outputs": [],
   "source": [
    "L.remove(1)"
   ]
  },
  {
   "cell_type": "code",
   "execution_count": 70,
   "id": "8cfd8afd",
   "metadata": {
    "ExecuteTime": {
     "end_time": "2023-02-21T21:39:04.655800Z",
     "start_time": "2023-02-21T21:39:04.641803Z"
    }
   },
   "outputs": [
    {
     "data": {
      "text/plain": [
       "[3, 4, 6, 7]"
      ]
     },
     "execution_count": 70,
     "metadata": {},
     "output_type": "execute_result"
    }
   ],
   "source": [
    "L"
   ]
  },
  {
   "cell_type": "code",
   "execution_count": 71,
   "id": "309fab5c",
   "metadata": {
    "ExecuteTime": {
     "end_time": "2023-02-21T21:39:06.905816Z",
     "start_time": "2023-02-21T21:39:06.897398Z"
    }
   },
   "outputs": [
    {
     "data": {
      "text/plain": [
       "7"
      ]
     },
     "execution_count": 71,
     "metadata": {},
     "output_type": "execute_result"
    }
   ],
   "source": [
    "L.pop() #removes the last element and bring"
   ]
  },
  {
   "cell_type": "code",
   "execution_count": 80,
   "id": "1829fec9",
   "metadata": {
    "ExecuteTime": {
     "end_time": "2023-02-21T21:42:17.264523Z",
     "start_time": "2023-02-21T21:42:17.249518Z"
    }
   },
   "outputs": [],
   "source": [
    "s = 'abc'"
   ]
  },
  {
   "cell_type": "code",
   "execution_count": 73,
   "id": "9ff0d906",
   "metadata": {
    "ExecuteTime": {
     "end_time": "2023-02-21T21:39:59.622874Z",
     "start_time": "2023-02-21T21:39:59.615877Z"
    }
   },
   "outputs": [
    {
     "data": {
      "text/plain": [
       "['a', 'b', 'c']"
      ]
     },
     "execution_count": 73,
     "metadata": {},
     "output_type": "execute_result"
    }
   ],
   "source": [
    "list(s)"
   ]
  },
  {
   "cell_type": "code",
   "execution_count": 74,
   "id": "498e4d40",
   "metadata": {
    "ExecuteTime": {
     "end_time": "2023-02-21T21:40:54.830246Z",
     "start_time": "2023-02-21T21:40:54.823262Z"
    }
   },
   "outputs": [],
   "source": [
    "s = \"I <3 cs\""
   ]
  },
  {
   "cell_type": "code",
   "execution_count": 75,
   "id": "5866109f",
   "metadata": {
    "ExecuteTime": {
     "end_time": "2023-02-21T21:40:59.763849Z",
     "start_time": "2023-02-21T21:40:59.751850Z"
    }
   },
   "outputs": [
    {
     "data": {
      "text/plain": [
       "['I', ' ', '<', '3', ' ', 'c', 's']"
      ]
     },
     "execution_count": 75,
     "metadata": {},
     "output_type": "execute_result"
    }
   ],
   "source": [
    "list(s)"
   ]
  },
  {
   "cell_type": "code",
   "execution_count": 76,
   "id": "f1594c15",
   "metadata": {
    "ExecuteTime": {
     "end_time": "2023-02-21T21:41:11.105029Z",
     "start_time": "2023-02-21T21:41:11.089035Z"
    }
   },
   "outputs": [
    {
     "data": {
      "text/plain": [
       "['I ', '3 cs']"
      ]
     },
     "execution_count": 76,
     "metadata": {},
     "output_type": "execute_result"
    }
   ],
   "source": [
    "s.split('<')"
   ]
  },
  {
   "cell_type": "code",
   "execution_count": 77,
   "id": "6b91ef3d",
   "metadata": {
    "ExecuteTime": {
     "end_time": "2023-02-21T21:41:27.969972Z",
     "start_time": "2023-02-21T21:41:27.954927Z"
    }
   },
   "outputs": [
    {
     "data": {
      "text/plain": [
       "[3, 4, 6]"
      ]
     },
     "execution_count": 77,
     "metadata": {},
     "output_type": "execute_result"
    }
   ],
   "source": [
    "L"
   ]
  },
  {
   "cell_type": "code",
   "execution_count": 82,
   "id": "7709fcc2",
   "metadata": {
    "ExecuteTime": {
     "end_time": "2023-02-21T21:42:24.681809Z",
     "start_time": "2023-02-21T21:42:24.666828Z"
    }
   },
   "outputs": [
    {
     "data": {
      "text/plain": [
       "['a', 'b', 'c']"
      ]
     },
     "execution_count": 82,
     "metadata": {},
     "output_type": "execute_result"
    }
   ],
   "source": [
    "L"
   ]
  },
  {
   "cell_type": "code",
   "execution_count": 83,
   "id": "a583bef5",
   "metadata": {
    "ExecuteTime": {
     "end_time": "2023-02-21T21:42:33.202022Z",
     "start_time": "2023-02-21T21:42:33.197037Z"
    }
   },
   "outputs": [
    {
     "data": {
      "text/plain": [
       "'abc'"
      ]
     },
     "execution_count": 83,
     "metadata": {},
     "output_type": "execute_result"
    }
   ],
   "source": [
    "''.join(L)"
   ]
  },
  {
   "cell_type": "code",
   "execution_count": 84,
   "id": "9584b954",
   "metadata": {
    "ExecuteTime": {
     "end_time": "2023-02-21T21:42:46.338574Z",
     "start_time": "2023-02-21T21:42:46.325579Z"
    }
   },
   "outputs": [
    {
     "data": {
      "text/plain": [
       "'a_b_c'"
      ]
     },
     "execution_count": 84,
     "metadata": {},
     "output_type": "execute_result"
    }
   ],
   "source": [
    "'_'.join(L)"
   ]
  },
  {
   "cell_type": "code",
   "execution_count": 85,
   "id": "ab975f5c",
   "metadata": {
    "ExecuteTime": {
     "end_time": "2023-02-21T21:46:28.879782Z",
     "start_time": "2023-02-21T21:46:28.864788Z"
    }
   },
   "outputs": [
    {
     "data": {
      "text/plain": [
       "range"
      ]
     },
     "execution_count": 85,
     "metadata": {},
     "output_type": "execute_result"
    }
   ],
   "source": [
    "type(range(5))"
   ]
  },
  {
   "cell_type": "code",
   "execution_count": 87,
   "id": "47482a2b",
   "metadata": {
    "ExecuteTime": {
     "end_time": "2023-02-21T21:46:59.298507Z",
     "start_time": "2023-02-21T21:46:59.285507Z"
    }
   },
   "outputs": [
    {
     "data": {
      "text/plain": [
       "range(0, 5)"
      ]
     },
     "execution_count": 87,
     "metadata": {},
     "output_type": "execute_result"
    }
   ],
   "source": [
    "range(5)"
   ]
  },
  {
   "cell_type": "code",
   "execution_count": 89,
   "id": "37cb4d52",
   "metadata": {
    "ExecuteTime": {
     "end_time": "2023-02-21T21:48:34.645701Z",
     "start_time": "2023-02-21T21:48:34.632688Z"
    }
   },
   "outputs": [],
   "source": [
    "L.insert(0,100)"
   ]
  },
  {
   "cell_type": "code",
   "execution_count": 90,
   "id": "3137ac74",
   "metadata": {
    "ExecuteTime": {
     "end_time": "2023-02-21T21:48:38.453192Z",
     "start_time": "2023-02-21T21:48:38.450192Z"
    }
   },
   "outputs": [
    {
     "data": {
      "text/plain": [
       "[100, 'a', 'b', 'c']"
      ]
     },
     "execution_count": 90,
     "metadata": {},
     "output_type": "execute_result"
    }
   ],
   "source": [
    "L"
   ]
  },
  {
   "cell_type": "code",
   "execution_count": 91,
   "id": "0bbf398e",
   "metadata": {
    "ExecuteTime": {
     "end_time": "2023-02-21T21:49:11.365891Z",
     "start_time": "2023-02-21T21:49:11.357904Z"
    }
   },
   "outputs": [],
   "source": [
    "L.append(5)"
   ]
  },
  {
   "cell_type": "code",
   "execution_count": 92,
   "id": "1c2dd507",
   "metadata": {
    "ExecuteTime": {
     "end_time": "2023-02-21T21:50:49.448217Z",
     "start_time": "2023-02-21T21:50:49.434147Z"
    }
   },
   "outputs": [],
   "source": [
    "listB = ['x', 'z', 't', 'q']"
   ]
  },
  {
   "cell_type": "code",
   "execution_count": 93,
   "id": "c5b9f1a4",
   "metadata": {
    "ExecuteTime": {
     "end_time": "2023-02-21T21:50:56.331166Z",
     "start_time": "2023-02-21T21:50:56.314182Z"
    }
   },
   "outputs": [
    {
     "ename": "ValueError",
     "evalue": "list.remove(x): x not in list",
     "output_type": "error",
     "traceback": [
      "\u001b[1;31m---------------------------------------------------------------------------\u001b[0m",
      "\u001b[1;31mValueError\u001b[0m                                Traceback (most recent call last)",
      "\u001b[1;32m~\\AppData\\Local\\Temp\\ipykernel_18980\\988206756.py\u001b[0m in \u001b[0;36m<module>\u001b[1;34m\u001b[0m\n\u001b[1;32m----> 1\u001b[1;33m \u001b[0mlistB\u001b[0m\u001b[1;33m.\u001b[0m\u001b[0mremove\u001b[0m\u001b[1;33m(\u001b[0m\u001b[1;34m'a'\u001b[0m\u001b[1;33m)\u001b[0m\u001b[1;33m\u001b[0m\u001b[1;33m\u001b[0m\u001b[0m\n\u001b[0m",
      "\u001b[1;31mValueError\u001b[0m: list.remove(x): x not in list"
     ]
    }
   ],
   "source": [
    "listB.remove('a')"
   ]
  },
  {
   "cell_type": "code",
   "execution_count": 94,
   "id": "1681b7f6",
   "metadata": {
    "ExecuteTime": {
     "end_time": "2023-02-21T21:51:52.055757Z",
     "start_time": "2023-02-21T21:51:52.042757Z"
    }
   },
   "outputs": [],
   "source": [
    "lista = [100, 1, 4, 7, 4, 1, 6, 3, 4]"
   ]
  },
  {
   "cell_type": "code",
   "execution_count": 95,
   "id": "ade47f02",
   "metadata": {
    "ExecuteTime": {
     "end_time": "2023-02-21T21:51:58.147648Z",
     "start_time": "2023-02-21T21:51:58.130435Z"
    }
   },
   "outputs": [
    {
     "data": {
      "text/plain": [
       "4"
      ]
     },
     "execution_count": 95,
     "metadata": {},
     "output_type": "execute_result"
    }
   ],
   "source": [
    "lista.pop(4)"
   ]
  },
  {
   "cell_type": "code",
   "execution_count": 97,
   "id": "43957ae2",
   "metadata": {
    "ExecuteTime": {
     "end_time": "2023-02-21T21:52:14.473053Z",
     "start_time": "2023-02-21T21:52:14.468053Z"
    }
   },
   "outputs": [],
   "source": [
    "lista.reverse()"
   ]
  },
  {
   "cell_type": "code",
   "execution_count": 98,
   "id": "e1777f53",
   "metadata": {
    "ExecuteTime": {
     "end_time": "2023-02-21T21:52:27.041918Z",
     "start_time": "2023-02-21T21:52:27.028919Z"
    }
   },
   "outputs": [
    {
     "data": {
      "text/plain": [
       "[4, 3, 6, 1, 7, 4, 1, 100]"
      ]
     },
     "execution_count": 98,
     "metadata": {},
     "output_type": "execute_result"
    }
   ],
   "source": [
    "lista"
   ]
  },
  {
   "cell_type": "code",
   "execution_count": 99,
   "id": "ae4f70b4",
   "metadata": {
    "ExecuteTime": {
     "end_time": "2023-02-21T21:58:32.438346Z",
     "start_time": "2023-02-21T21:58:32.436342Z"
    }
   },
   "outputs": [],
   "source": [
    "lista.insert(1, 6)"
   ]
  },
  {
   "cell_type": "code",
   "execution_count": 100,
   "id": "c3a304cc",
   "metadata": {
    "ExecuteTime": {
     "end_time": "2023-02-21T21:58:35.179860Z",
     "start_time": "2023-02-21T21:58:35.171864Z"
    }
   },
   "outputs": [
    {
     "data": {
      "text/plain": [
       "[4, 6, 3, 6, 1, 7, 4, 1, 100]"
      ]
     },
     "execution_count": 100,
     "metadata": {},
     "output_type": "execute_result"
    }
   ],
   "source": [
    "lista"
   ]
  },
  {
   "cell_type": "code",
   "execution_count": 102,
   "id": "9fb78700",
   "metadata": {
    "ExecuteTime": {
     "end_time": "2023-02-21T22:00:05.230364Z",
     "start_time": "2023-02-21T22:00:05.215363Z"
    }
   },
   "outputs": [
    {
     "data": {
      "text/plain": [
       "list"
      ]
     },
     "execution_count": 102,
     "metadata": {},
     "output_type": "execute_result"
    }
   ],
   "source": [
    "type(lista + listB)"
   ]
  },
  {
   "cell_type": "code",
   "execution_count": 103,
   "id": "6db6d7e2",
   "metadata": {
    "ExecuteTime": {
     "end_time": "2023-02-21T22:01:07.905653Z",
     "start_time": "2023-02-21T22:01:07.896653Z"
    }
   },
   "outputs": [],
   "source": [
    "lista.remove(3)"
   ]
  },
  {
   "cell_type": "code",
   "execution_count": 104,
   "id": "0fe22f3e",
   "metadata": {
    "ExecuteTime": {
     "end_time": "2023-02-21T22:01:14.487205Z",
     "start_time": "2023-02-21T22:01:14.475201Z"
    }
   },
   "outputs": [
    {
     "data": {
      "text/plain": [
       "[4, 6, 6, 1, 7, 4, 1, 100]"
      ]
     },
     "execution_count": 104,
     "metadata": {},
     "output_type": "execute_result"
    }
   ],
   "source": [
    "lista"
   ]
  },
  {
   "cell_type": "code",
   "execution_count": 105,
   "id": "353c7643",
   "metadata": {
    "ExecuteTime": {
     "end_time": "2023-02-21T22:03:54.310321Z",
     "start_time": "2023-02-21T22:03:54.307322Z"
    }
   },
   "outputs": [],
   "source": [
    "lista = [100, 0, 1, 4, 7, 4, 1, 6, 3, 4]"
   ]
  },
  {
   "cell_type": "code",
   "execution_count": 106,
   "id": "d41e3e98",
   "metadata": {
    "ExecuteTime": {
     "end_time": "2023-02-21T22:04:00.043136Z",
     "start_time": "2023-02-21T22:04:00.029139Z"
    }
   },
   "outputs": [
    {
     "data": {
      "text/plain": [
       "7"
      ]
     },
     "execution_count": 106,
     "metadata": {},
     "output_type": "execute_result"
    }
   ],
   "source": [
    "lista.pop(4)"
   ]
  },
  {
   "cell_type": "code",
   "execution_count": 108,
   "id": "0b9ca8e5",
   "metadata": {
    "ExecuteTime": {
     "end_time": "2023-02-21T22:04:50.430318Z",
     "start_time": "2023-02-21T22:04:50.426321Z"
    }
   },
   "outputs": [],
   "source": [
    "lista.reverse()"
   ]
  },
  {
   "cell_type": "code",
   "execution_count": 109,
   "id": "5e779447",
   "metadata": {
    "ExecuteTime": {
     "end_time": "2023-02-21T22:04:55.414560Z",
     "start_time": "2023-02-21T22:04:55.411557Z"
    }
   },
   "outputs": [
    {
     "data": {
      "text/plain": [
       "[4, 3, 6, 1, 4, 4, 1, 0, 100]"
      ]
     },
     "execution_count": 109,
     "metadata": {},
     "output_type": "execute_result"
    }
   ],
   "source": [
    "lista"
   ]
  },
  {
   "cell_type": "code",
   "execution_count": null,
   "id": "c0e00e76",
   "metadata": {},
   "outputs": [],
   "source": []
  }
 ],
 "metadata": {
  "kernelspec": {
   "display_name": "Python 3 (ipykernel)",
   "language": "python",
   "name": "python3"
  },
  "language_info": {
   "codemirror_mode": {
    "name": "ipython",
    "version": 3
   },
   "file_extension": ".py",
   "mimetype": "text/x-python",
   "name": "python",
   "nbconvert_exporter": "python",
   "pygments_lexer": "ipython3",
   "version": "3.9.13"
  },
  "toc": {
   "base_numbering": 1,
   "nav_menu": {},
   "number_sections": true,
   "sideBar": true,
   "skip_h1_title": false,
   "title_cell": "Table of Contents",
   "title_sidebar": "Contents",
   "toc_cell": false,
   "toc_position": {},
   "toc_section_display": true,
   "toc_window_display": false
  },
  "varInspector": {
   "cols": {
    "lenName": 16,
    "lenType": 16,
    "lenVar": 40
   },
   "kernels_config": {
    "python": {
     "delete_cmd_postfix": "",
     "delete_cmd_prefix": "del ",
     "library": "var_list.py",
     "varRefreshCmd": "print(var_dic_list())"
    },
    "r": {
     "delete_cmd_postfix": ") ",
     "delete_cmd_prefix": "rm(",
     "library": "var_list.r",
     "varRefreshCmd": "cat(var_dic_list()) "
    }
   },
   "types_to_exclude": [
    "module",
    "function",
    "builtin_function_or_method",
    "instance",
    "_Feature"
   ],
   "window_display": false
  }
 },
 "nbformat": 4,
 "nbformat_minor": 5
}

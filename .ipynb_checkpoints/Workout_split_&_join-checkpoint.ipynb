{
 "cells": [
  {
   "cell_type": "markdown",
   "id": "6eae3c4b",
   "metadata": {},
   "source": [
    "# .split()\n",
    "## stringi list haline döndürür"
   ]
  },
  {
   "cell_type": "code",
   "execution_count": null,
   "id": "8c209591",
   "metadata": {},
   "outputs": [],
   "source": [
    "s = \"hello how are you?\""
   ]
  },
  {
   "cell_type": "code",
   "execution_count": 2,
   "id": "7f2687bd",
   "metadata": {},
   "outputs": [
    {
     "data": {
      "text/plain": [
       "['hello', 'how', 'are', 'you?']"
      ]
     },
     "execution_count": 2,
     "metadata": {},
     "output_type": "execute_result"
    }
   ],
   "source": [
    "s.split(\" \") #With this code when my function sees a blank it splits the sentence. \n",
    "#Boşluk gördüğüm yerde split yap demek istiyorum bu kodu girerek."
   ]
  },
  {
   "cell_type": "code",
   "execution_count": 3,
   "id": "44a08054",
   "metadata": {},
   "outputs": [],
   "source": [
    "s2 = \"hello howare you ?\""
   ]
  },
  {
   "cell_type": "code",
   "execution_count": 4,
   "id": "3468678b",
   "metadata": {},
   "outputs": [
    {
     "data": {
      "text/plain": [
       "['hello', 'howare', 'you', '?']"
      ]
     },
     "execution_count": 4,
     "metadata": {},
     "output_type": "execute_result"
    }
   ],
   "source": [
    "s2.split(\" \")"
   ]
  },
  {
   "cell_type": "code",
   "execution_count": 6,
   "id": "1895c9e0",
   "metadata": {},
   "outputs": [
    {
     "data": {
      "text/plain": [
       "['hello', 'how', 'are', 'you?']"
      ]
     },
     "execution_count": 6,
     "metadata": {},
     "output_type": "execute_result"
    }
   ],
   "source": [
    "s.split()\n",
    "#Default olarak boşluğa göre ayırıyor"
   ]
  },
  {
   "cell_type": "code",
   "execution_count": 7,
   "id": "bdec4fdb",
   "metadata": {},
   "outputs": [],
   "source": [
    "s3 = \"limon,portakal,elma\""
   ]
  },
  {
   "cell_type": "code",
   "execution_count": 8,
   "id": "9ee93340",
   "metadata": {},
   "outputs": [
    {
     "data": {
      "text/plain": [
       "['limon,portakal,elma']"
      ]
     },
     "execution_count": 8,
     "metadata": {},
     "output_type": "execute_result"
    }
   ],
   "source": [
    "s3.split()"
   ]
  },
  {
   "cell_type": "code",
   "execution_count": 9,
   "id": "18492516",
   "metadata": {},
   "outputs": [
    {
     "data": {
      "text/plain": [
       "['limon', 'portakal', 'elma']"
      ]
     },
     "execution_count": 9,
     "metadata": {},
     "output_type": "execute_result"
    }
   ],
   "source": [
    "s3.split(\",\")"
   ]
  },
  {
   "cell_type": "markdown",
   "id": "1acd480f",
   "metadata": {},
   "source": [
    "# .join()\n",
    "## listi string haline döndürür"
   ]
  },
  {
   "cell_type": "code",
   "execution_count": 13,
   "id": "12d4a0d0",
   "metadata": {},
   "outputs": [],
   "source": [
    "l = ['limon', 'elma', 'portakal']"
   ]
  },
  {
   "cell_type": "code",
   "execution_count": 15,
   "id": "d42e4415",
   "metadata": {},
   "outputs": [
    {
     "data": {
      "text/plain": [
       "'limon,elma,portakal'"
      ]
     },
     "execution_count": 15,
     "metadata": {},
     "output_type": "execute_result"
    }
   ],
   "source": [
    "\",\".join(l)"
   ]
  },
  {
   "cell_type": "code",
   "execution_count": 14,
   "id": "22aa42f2",
   "metadata": {},
   "outputs": [
    {
     "data": {
      "text/plain": [
       "'limon-elma-portakal'"
      ]
     },
     "execution_count": 14,
     "metadata": {},
     "output_type": "execute_result"
    }
   ],
   "source": [
    "\"-\".join(l)"
   ]
  },
  {
   "cell_type": "code",
   "execution_count": 16,
   "id": "6c8f45ef",
   "metadata": {},
   "outputs": [],
   "source": [
    "l2 = \",\".join(l)"
   ]
  },
  {
   "cell_type": "code",
   "execution_count": 17,
   "id": "2816c165",
   "metadata": {},
   "outputs": [
    {
     "data": {
      "text/plain": [
       "'limon,elma,portakal'"
      ]
     },
     "execution_count": 17,
     "metadata": {},
     "output_type": "execute_result"
    }
   ],
   "source": [
    "l2"
   ]
  },
  {
   "cell_type": "code",
   "execution_count": 18,
   "id": "efbb9cbb",
   "metadata": {},
   "outputs": [
    {
     "data": {
      "text/plain": [
       "['limon', 'elma', 'portakal']"
      ]
     },
     "execution_count": 18,
     "metadata": {},
     "output_type": "execute_result"
    }
   ],
   "source": [
    "l2.split(\",\")"
   ]
  },
  {
   "cell_type": "code",
   "execution_count": 19,
   "id": "5189acd6",
   "metadata": {},
   "outputs": [],
   "source": [
    "l3 = l2.split(\",\")"
   ]
  },
  {
   "cell_type": "code",
   "execution_count": 20,
   "id": "b62dd200",
   "metadata": {},
   "outputs": [
    {
     "data": {
      "text/plain": [
       "['limon', 'elma', 'portakal']"
      ]
     },
     "execution_count": 20,
     "metadata": {},
     "output_type": "execute_result"
    }
   ],
   "source": [
    "l3"
   ]
  },
  {
   "cell_type": "code",
   "execution_count": null,
   "id": "e4b7b5f6",
   "metadata": {},
   "outputs": [],
   "source": []
  }
 ],
 "metadata": {
  "kernelspec": {
   "display_name": "Python 3 (ipykernel)",
   "language": "python",
   "name": "python3"
  },
  "language_info": {
   "codemirror_mode": {
    "name": "ipython",
    "version": 3
   },
   "file_extension": ".py",
   "mimetype": "text/x-python",
   "name": "python",
   "nbconvert_exporter": "python",
   "pygments_lexer": "ipython3",
   "version": "3.9.13"
  }
 },
 "nbformat": 4,
 "nbformat_minor": 5
}

{
 "cells": [
  {
   "cell_type": "markdown",
   "id": "2db40888",
   "metadata": {},
   "source": [
    "# Closure\n",
    "## Fonksiyon içine fonksiyon yapabiliriz"
   ]
  },
  {
   "cell_type": "code",
   "execution_count": 1,
   "id": "1eaa6b0d",
   "metadata": {},
   "outputs": [],
   "source": [
    "def outer():\n",
    "    msg = \"hey\"\n",
    "    \n",
    "    def inner():\n",
    "        print(msg)\n",
    "        print(\"how you doin\")\n",
    "        \n",
    "    return inner()"
   ]
  },
  {
   "cell_type": "code",
   "execution_count": 2,
   "id": "fa432263",
   "metadata": {},
   "outputs": [
    {
     "name": "stdout",
     "output_type": "stream",
     "text": [
      "hey\n",
      "how you doin\n"
     ]
    }
   ],
   "source": [
    "outer()"
   ]
  },
  {
   "cell_type": "code",
   "execution_count": 8,
   "id": "60478b26",
   "metadata": {},
   "outputs": [],
   "source": [
    "f = outer"
   ]
  },
  {
   "cell_type": "code",
   "execution_count": 9,
   "id": "9f8c46bb",
   "metadata": {},
   "outputs": [
    {
     "data": {
      "text/plain": [
       "<function __main__.outer()>"
      ]
     },
     "execution_count": 9,
     "metadata": {},
     "output_type": "execute_result"
    }
   ],
   "source": [
    "f"
   ]
  },
  {
   "cell_type": "code",
   "execution_count": 10,
   "id": "09acebd7",
   "metadata": {},
   "outputs": [
    {
     "name": "stdout",
     "output_type": "stream",
     "text": [
      "hey\n",
      "how you doin\n"
     ]
    }
   ],
   "source": [
    "f()"
   ]
  },
  {
   "cell_type": "code",
   "execution_count": 11,
   "id": "41adeb29",
   "metadata": {},
   "outputs": [],
   "source": [
    "def outer(msg):\n",
    "    msg = msg\n",
    "    def inner():\n",
    "        print(msg)\n",
    "    return inner"
   ]
  },
  {
   "cell_type": "code",
   "execution_count": 12,
   "id": "090d02e7",
   "metadata": {},
   "outputs": [],
   "source": [
    "hi_f = outer(\"hi\")"
   ]
  },
  {
   "cell_type": "code",
   "execution_count": 13,
   "id": "dedb4adc",
   "metadata": {},
   "outputs": [],
   "source": [
    "hey_f= outer(\"hey\")"
   ]
  },
  {
   "cell_type": "code",
   "execution_count": 14,
   "id": "5dba9621",
   "metadata": {},
   "outputs": [
    {
     "name": "stdout",
     "output_type": "stream",
     "text": [
      "hi\n"
     ]
    }
   ],
   "source": [
    "hi_f()"
   ]
  },
  {
   "cell_type": "code",
   "execution_count": 15,
   "id": "c1650da9",
   "metadata": {},
   "outputs": [
    {
     "name": "stdout",
     "output_type": "stream",
     "text": [
      "hey\n"
     ]
    }
   ],
   "source": [
    "hey_f()"
   ]
  },
  {
   "cell_type": "code",
   "execution_count": null,
   "id": "f06885f3",
   "metadata": {},
   "outputs": [],
   "source": []
  }
 ],
 "metadata": {
  "kernelspec": {
   "display_name": "Python 3 (ipykernel)",
   "language": "python",
   "name": "python3"
  },
  "language_info": {
   "codemirror_mode": {
    "name": "ipython",
    "version": 3
   },
   "file_extension": ".py",
   "mimetype": "text/x-python",
   "name": "python",
   "nbconvert_exporter": "python",
   "pygments_lexer": "ipython3",
   "version": "3.9.13"
  }
 },
 "nbformat": 4,
 "nbformat_minor": 5
}

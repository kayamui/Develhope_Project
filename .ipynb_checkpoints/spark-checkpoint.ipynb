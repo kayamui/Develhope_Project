{
 "cells": [
  {
   "cell_type": "code",
   "execution_count": 1,
   "id": "a131bc61",
   "metadata": {
    "ExecuteTime": {
     "end_time": "2023-03-02T18:32:28.188958Z",
     "start_time": "2023-03-02T18:32:28.116959Z"
    }
   },
   "outputs": [],
   "source": [
    "import pyspark\n",
    "from pyspark.sql import SparkSession"
   ]
  },
  {
   "cell_type": "code",
   "execution_count": 2,
   "id": "2eddcbc9",
   "metadata": {
    "ExecuteTime": {
     "end_time": "2023-03-02T18:32:29.084706Z",
     "start_time": "2023-03-02T18:32:29.061697Z"
    }
   },
   "outputs": [
    {
     "data": {
      "text/plain": [
       "'C:\\\\apps\\\\opt\\\\spark-3.3.2-bin-hadoop3'"
      ]
     },
     "execution_count": 2,
     "metadata": {},
     "output_type": "execute_result"
    }
   ],
   "source": [
    "import findspark\n",
    "findspark.init()\n",
    "findspark.find()"
   ]
  },
  {
   "cell_type": "code",
   "execution_count": 3,
   "id": "c920152d",
   "metadata": {
    "ExecuteTime": {
     "end_time": "2023-03-02T18:32:34.668910Z",
     "start_time": "2023-03-02T18:32:30.005535Z"
    }
   },
   "outputs": [],
   "source": [
    "spark = SparkSession.builder.master(\"local[*]\").appName(\"Learning\").getOrCreate()"
   ]
  },
  {
   "cell_type": "code",
   "execution_count": 4,
   "id": "43790748",
   "metadata": {
    "ExecuteTime": {
     "end_time": "2023-03-02T18:32:35.230976Z",
     "start_time": "2023-03-02T18:32:35.213975Z"
    }
   },
   "outputs": [
    {
     "data": {
      "text/html": [
       "\n",
       "            <div>\n",
       "                <p><b>SparkSession - in-memory</b></p>\n",
       "                \n",
       "        <div>\n",
       "            <p><b>SparkContext</b></p>\n",
       "\n",
       "            <p><a href=\"http://Kepler-452b:4040\">Spark UI</a></p>\n",
       "\n",
       "            <dl>\n",
       "              <dt>Version</dt>\n",
       "                <dd><code>v3.3.2</code></dd>\n",
       "              <dt>Master</dt>\n",
       "                <dd><code>local[*]</code></dd>\n",
       "              <dt>AppName</dt>\n",
       "                <dd><code>Learning</code></dd>\n",
       "            </dl>\n",
       "        </div>\n",
       "        \n",
       "            </div>\n",
       "        "
      ],
      "text/plain": [
       "<pyspark.sql.session.SparkSession at 0x278c4dc9c10>"
      ]
     },
     "execution_count": 4,
     "metadata": {},
     "output_type": "execute_result"
    }
   ],
   "source": [
    "spark"
   ]
  },
  {
   "cell_type": "code",
   "execution_count": 5,
   "id": "00186589",
   "metadata": {
    "ExecuteTime": {
     "end_time": "2023-03-02T18:32:35.951726Z",
     "start_time": "2023-03-02T18:32:35.934444Z"
    }
   },
   "outputs": [],
   "source": [
    "#write a few RDD's\n",
    "\n"
   ]
  },
  {
   "cell_type": "code",
   "execution_count": 6,
   "id": "82121c22",
   "metadata": {
    "ExecuteTime": {
     "end_time": "2023-03-02T18:32:36.331503Z",
     "start_time": "2023-03-02T18:32:36.326504Z"
    }
   },
   "outputs": [],
   "source": [
    "sc = spark.sparkContext"
   ]
  },
  {
   "cell_type": "code",
   "execution_count": 7,
   "id": "c3b679ee",
   "metadata": {
    "ExecuteTime": {
     "end_time": "2023-03-02T18:32:36.820011Z",
     "start_time": "2023-03-02T18:32:36.814011Z"
    }
   },
   "outputs": [
    {
     "data": {
      "text/html": [
       "\n",
       "        <div>\n",
       "            <p><b>SparkContext</b></p>\n",
       "\n",
       "            <p><a href=\"http://Kepler-452b:4040\">Spark UI</a></p>\n",
       "\n",
       "            <dl>\n",
       "              <dt>Version</dt>\n",
       "                <dd><code>v3.3.2</code></dd>\n",
       "              <dt>Master</dt>\n",
       "                <dd><code>local[*]</code></dd>\n",
       "              <dt>AppName</dt>\n",
       "                <dd><code>Learning</code></dd>\n",
       "            </dl>\n",
       "        </div>\n",
       "        "
      ],
      "text/plain": [
       "<SparkContext master=local[*] appName=Learning>"
      ]
     },
     "execution_count": 7,
     "metadata": {},
     "output_type": "execute_result"
    }
   ],
   "source": [
    "sc"
   ]
  },
  {
   "cell_type": "code",
   "execution_count": 8,
   "id": "01dac04a",
   "metadata": {
    "ExecuteTime": {
     "end_time": "2023-03-02T18:32:37.549118Z",
     "start_time": "2023-03-02T18:32:37.230129Z"
    }
   },
   "outputs": [],
   "source": [
    "data = sc.parallelize(['Muhammed', 'Kaya',180, 'Hayat'])"
   ]
  },
  {
   "cell_type": "code",
   "execution_count": 9,
   "id": "1f1101c5",
   "metadata": {
    "ExecuteTime": {
     "end_time": "2023-03-02T18:32:46.389924Z",
     "start_time": "2023-03-02T18:32:38.287110Z"
    }
   },
   "outputs": [
    {
     "data": {
      "text/plain": [
       "4"
      ]
     },
     "execution_count": 9,
     "metadata": {},
     "output_type": "execute_result"
    }
   ],
   "source": [
    "data.count()"
   ]
  },
  {
   "cell_type": "code",
   "execution_count": 10,
   "id": "159db30f",
   "metadata": {
    "ExecuteTime": {
     "end_time": "2023-03-02T18:32:56.870570Z",
     "start_time": "2023-03-02T18:32:49.520353Z"
    }
   },
   "outputs": [
    {
     "data": {
      "text/plain": [
       "['Muhammed', 'Kaya']"
      ]
     },
     "execution_count": 10,
     "metadata": {},
     "output_type": "execute_result"
    }
   ],
   "source": [
    "data.take(2)"
   ]
  },
  {
   "cell_type": "code",
   "execution_count": 11,
   "id": "749a2d7b",
   "metadata": {
    "ExecuteTime": {
     "end_time": "2023-03-02T18:44:54.683565Z",
     "start_time": "2023-03-02T18:44:46.935782Z"
    }
   },
   "outputs": [
    {
     "data": {
      "text/plain": [
       "['Muhammed', 'Kaya', 180]"
      ]
     },
     "execution_count": 11,
     "metadata": {},
     "output_type": "execute_result"
    }
   ],
   "source": [
    "data.take(3)"
   ]
  },
  {
   "cell_type": "code",
   "execution_count": 12,
   "id": "bc636825",
   "metadata": {
    "ExecuteTime": {
     "end_time": "2023-03-02T18:45:00.907259Z",
     "start_time": "2023-03-02T18:45:00.849256Z"
    }
   },
   "outputs": [
    {
     "data": {
      "text/plain": [
       "['Muhammed', 'Kaya', 180, 'Hayat']"
      ]
     },
     "execution_count": 12,
     "metadata": {},
     "output_type": "execute_result"
    }
   ],
   "source": [
    "data.collect()"
   ]
  },
  {
   "cell_type": "code",
   "execution_count": 13,
   "id": "bbd6ccc9",
   "metadata": {
    "ExecuteTime": {
     "end_time": "2023-03-02T18:45:12.878042Z",
     "start_time": "2023-03-02T18:45:12.819237Z"
    }
   },
   "outputs": [],
   "source": [
    "myData = data.collect()"
   ]
  },
  {
   "cell_type": "code",
   "execution_count": 14,
   "id": "477b60f3",
   "metadata": {
    "ExecuteTime": {
     "end_time": "2023-03-02T18:45:16.728192Z",
     "start_time": "2023-03-02T18:45:16.723193Z"
    }
   },
   "outputs": [
    {
     "data": {
      "text/plain": [
       "['Muhammed', 'Kaya', 180, 'Hayat']"
      ]
     },
     "execution_count": 14,
     "metadata": {},
     "output_type": "execute_result"
    }
   ],
   "source": [
    "myData"
   ]
  },
  {
   "cell_type": "code",
   "execution_count": 15,
   "id": "ff6399bf",
   "metadata": {
    "ExecuteTime": {
     "end_time": "2023-03-02T18:45:20.659061Z",
     "start_time": "2023-03-02T18:45:20.651538Z"
    }
   },
   "outputs": [
    {
     "data": {
      "text/plain": [
       "list"
      ]
     },
     "execution_count": 15,
     "metadata": {},
     "output_type": "execute_result"
    }
   ],
   "source": [
    "type(myData)"
   ]
  },
  {
   "cell_type": "code",
   "execution_count": 16,
   "id": "95618529",
   "metadata": {
    "ExecuteTime": {
     "end_time": "2023-03-02T18:45:28.675411Z",
     "start_time": "2023-03-02T18:45:28.669413Z"
    }
   },
   "outputs": [
    {
     "data": {
      "text/plain": [
       "pyspark.rdd.RDD"
      ]
     },
     "execution_count": 16,
     "metadata": {},
     "output_type": "execute_result"
    }
   ],
   "source": [
    "type(data)"
   ]
  },
  {
   "cell_type": "code",
   "execution_count": 18,
   "id": "d50b7785",
   "metadata": {
    "ExecuteTime": {
     "end_time": "2023-03-02T18:45:48.682477Z",
     "start_time": "2023-03-02T18:45:48.662460Z"
    }
   },
   "outputs": [
    {
     "ename": "AttributeError",
     "evalue": "'RDD' object has no attribute 'columns'",
     "output_type": "error",
     "traceback": [
      "\u001b[1;31m---------------------------------------------------------------------------\u001b[0m",
      "\u001b[1;31mAttributeError\u001b[0m                            Traceback (most recent call last)",
      "\u001b[1;32m~\\AppData\\Local\\Temp\\ipykernel_18920\\2295596747.py\u001b[0m in \u001b[0;36m<module>\u001b[1;34m\u001b[0m\n\u001b[1;32m----> 1\u001b[1;33m \u001b[0mdata\u001b[0m\u001b[1;33m.\u001b[0m\u001b[0mcolumns\u001b[0m\u001b[1;33m\u001b[0m\u001b[1;33m\u001b[0m\u001b[0m\n\u001b[0m",
      "\u001b[1;31mAttributeError\u001b[0m: 'RDD' object has no attribute 'columns'"
     ]
    }
   ],
   "source": [
    "data.columns"
   ]
  },
  {
   "cell_type": "code",
   "execution_count": 19,
   "id": "c4bc208e",
   "metadata": {
    "ExecuteTime": {
     "end_time": "2023-03-02T18:46:08.352814Z",
     "start_time": "2023-03-02T18:46:08.337814Z"
    }
   },
   "outputs": [
    {
     "ename": "TypeError",
     "evalue": "'RDD' object does not support item assignment",
     "output_type": "error",
     "traceback": [
      "\u001b[1;31m---------------------------------------------------------------------------\u001b[0m",
      "\u001b[1;31mTypeError\u001b[0m                                 Traceback (most recent call last)",
      "\u001b[1;32m~\\AppData\\Local\\Temp\\ipykernel_18920\\2434896113.py\u001b[0m in \u001b[0;36m<module>\u001b[1;34m\u001b[0m\n\u001b[1;32m----> 1\u001b[1;33m \u001b[0mdata\u001b[0m\u001b[1;33m[\u001b[0m\u001b[1;34m'University'\u001b[0m\u001b[1;33m]\u001b[0m \u001b[1;33m=\u001b[0m \u001b[1;34m\"some_uni\"\u001b[0m\u001b[1;33m\u001b[0m\u001b[1;33m\u001b[0m\u001b[0m\n\u001b[0m",
      "\u001b[1;31mTypeError\u001b[0m: 'RDD' object does not support item assignment"
     ]
    }
   ],
   "source": [
    "data['University'] = \"some_uni\""
   ]
  },
  {
   "cell_type": "code",
   "execution_count": 21,
   "id": "30520708",
   "metadata": {
    "ExecuteTime": {
     "end_time": "2023-03-02T18:48:01.942989Z",
     "start_time": "2023-03-02T18:48:01.926991Z"
    }
   },
   "outputs": [
    {
     "data": {
      "text/html": [
       "\n",
       "            <div>\n",
       "                <p><b>SparkSession - in-memory</b></p>\n",
       "                \n",
       "        <div>\n",
       "            <p><b>SparkContext</b></p>\n",
       "\n",
       "            <p><a href=\"http://Kepler-452b:4040\">Spark UI</a></p>\n",
       "\n",
       "            <dl>\n",
       "              <dt>Version</dt>\n",
       "                <dd><code>v3.3.2</code></dd>\n",
       "              <dt>Master</dt>\n",
       "                <dd><code>local[*]</code></dd>\n",
       "              <dt>AppName</dt>\n",
       "                <dd><code>Learning</code></dd>\n",
       "            </dl>\n",
       "        </div>\n",
       "        \n",
       "            </div>\n",
       "        "
      ],
      "text/plain": [
       "<pyspark.sql.session.SparkSession at 0x278c4dc9c10>"
      ]
     },
     "execution_count": 21,
     "metadata": {},
     "output_type": "execute_result"
    }
   ],
   "source": [
    "SparkSession.builder.master(\"local[*]\").appName(\"Study\").getOrCreate()"
   ]
  },
  {
   "cell_type": "code",
   "execution_count": 22,
   "id": "7fceba2b",
   "metadata": {
    "ExecuteTime": {
     "end_time": "2023-03-02T18:48:29.670170Z",
     "start_time": "2023-03-02T18:48:29.658173Z"
    }
   },
   "outputs": [
    {
     "data": {
      "text/html": [
       "\n",
       "            <div>\n",
       "                <p><b>SparkSession - in-memory</b></p>\n",
       "                \n",
       "        <div>\n",
       "            <p><b>SparkContext</b></p>\n",
       "\n",
       "            <p><a href=\"http://Kepler-452b:4040\">Spark UI</a></p>\n",
       "\n",
       "            <dl>\n",
       "              <dt>Version</dt>\n",
       "                <dd><code>v3.3.2</code></dd>\n",
       "              <dt>Master</dt>\n",
       "                <dd><code>local[*]</code></dd>\n",
       "              <dt>AppName</dt>\n",
       "                <dd><code>Learning</code></dd>\n",
       "            </dl>\n",
       "        </div>\n",
       "        \n",
       "            </div>\n",
       "        "
      ],
      "text/plain": [
       "<pyspark.sql.session.SparkSession at 0x278c4dc9c10>"
      ]
     },
     "execution_count": 22,
     "metadata": {},
     "output_type": "execute_result"
    }
   ],
   "source": [
    "spark"
   ]
  },
  {
   "cell_type": "code",
   "execution_count": 24,
   "id": "2ae2e211",
   "metadata": {
    "ExecuteTime": {
     "end_time": "2023-03-02T18:51:07.895580Z",
     "start_time": "2023-03-02T18:51:04.693870Z"
    }
   },
   "outputs": [],
   "source": [
    "# read our data - lives in a csv file\n",
    "\n",
    "df = spark.read.option(\"header\",\"true\").csv(\"C:/Users/mkaya/Downloads/Sample - EU Superstore.csv\")"
   ]
  },
  {
   "cell_type": "code",
   "execution_count": 25,
   "id": "1aa79c2a",
   "metadata": {
    "ExecuteTime": {
     "end_time": "2023-03-02T18:51:10.620550Z",
     "start_time": "2023-03-02T18:51:10.606540Z"
    }
   },
   "outputs": [
    {
     "data": {
      "text/plain": [
       "DataFrame[Row ID: string, Order ID: string, Order Date: string, Ship Date: string, Ship Mode: string, Customer ID: string, Customer Name: string, Segment: string, City: string, State: string, Country: string, Region: string, Product ID: string, Category: string, Sub-Category: string, Product Name: string, Sales: string, Quantity: string, Discount: string, Profit: string]"
      ]
     },
     "execution_count": 25,
     "metadata": {},
     "output_type": "execute_result"
    }
   ],
   "source": [
    "df"
   ]
  },
  {
   "cell_type": "code",
   "execution_count": 28,
   "id": "67a7427e",
   "metadata": {
    "ExecuteTime": {
     "end_time": "2023-03-02T18:52:14.715912Z",
     "start_time": "2023-03-02T18:52:14.701913Z"
    }
   },
   "outputs": [
    {
     "data": {
      "text/plain": [
       "pyspark.sql.dataframe.DataFrame"
      ]
     },
     "execution_count": 28,
     "metadata": {},
     "output_type": "execute_result"
    }
   ],
   "source": [
    "type(df)"
   ]
  },
  {
   "cell_type": "code",
   "execution_count": 31,
   "id": "2068789b",
   "metadata": {
    "ExecuteTime": {
     "end_time": "2023-03-02T18:54:43.821380Z",
     "start_time": "2023-03-02T18:54:43.808376Z"
    }
   },
   "outputs": [
    {
     "name": "stdout",
     "output_type": "stream",
     "text": [
      "root\n",
      " |-- Row ID: string (nullable = true)\n",
      " |-- Order ID: string (nullable = true)\n",
      " |-- Order Date: string (nullable = true)\n",
      " |-- Ship Date: string (nullable = true)\n",
      " |-- Ship Mode: string (nullable = true)\n",
      " |-- Customer ID: string (nullable = true)\n",
      " |-- Customer Name: string (nullable = true)\n",
      " |-- Segment: string (nullable = true)\n",
      " |-- City: string (nullable = true)\n",
      " |-- State: string (nullable = true)\n",
      " |-- Country: string (nullable = true)\n",
      " |-- Region: string (nullable = true)\n",
      " |-- Product ID: string (nullable = true)\n",
      " |-- Category: string (nullable = true)\n",
      " |-- Sub-Category: string (nullable = true)\n",
      " |-- Product Name: string (nullable = true)\n",
      " |-- Sales: string (nullable = true)\n",
      " |-- Quantity: string (nullable = true)\n",
      " |-- Discount: string (nullable = true)\n",
      " |-- Profit: string (nullable = true)\n",
      "\n"
     ]
    }
   ],
   "source": [
    "df.printSchema()\n",
    "\n",
    "# dates and measures are being interpreted as strings"
   ]
  },
  {
   "cell_type": "code",
   "execution_count": 34,
   "id": "ffe69a56",
   "metadata": {
    "ExecuteTime": {
     "end_time": "2023-03-02T18:55:56.336302Z",
     "start_time": "2023-03-02T18:55:56.233303Z"
    }
   },
   "outputs": [
    {
     "name": "stdout",
     "output_type": "stream",
     "text": [
      "+------+---------------+----------+----------+--------------+-----------+----------------+-----------+-------------+--------------------+--------------+-------+---------------+---------------+------------+--------------------+--------+--------+--------+-------+\n",
      "|Row ID|       Order ID|Order Date| Ship Date|     Ship Mode|Customer ID|   Customer Name|    Segment|         City|               State|       Country| Region|     Product ID|       Category|Sub-Category|        Product Name|   Sales|Quantity|Discount| Profit|\n",
      "+------+---------------+----------+----------+--------------+-----------+----------------+-----------+-------------+--------------------+--------------+-------+---------------+---------------+------------+--------------------+--------+--------+--------+-------+\n",
      "|     1|ES-2018-1311038|07/02/2018|11/02/2018|Standard Class|   AS-10045|  Aaron Smayling|  Corporate|        Leeds|             England|United Kingdom|  North|OFF-ST-10000988|Office Supplies|     Storage|Fellowes Folders,...|    79.2|       3|       0|   39.6|\n",
      "|     2|ES-2018-1311038|07/02/2018|11/02/2018|Standard Class|   AS-10045|  Aaron Smayling|  Corporate|        Leeds|             England|United Kingdom|  North|TEC-AC-10004144|     Technology| Accessories|SanDisk Numeric K...|  388.92|       7|       0|      0|\n",
      "|     3|ES-2018-1311038|07/02/2018|11/02/2018|Standard Class|   AS-10045|  Aaron Smayling|  Corporate|        Leeds|             England|United Kingdom|  North|OFF-LA-10001915|Office Supplies|      Labels|Avery Legal Exhib...|   35.19|       3|       0|  16.11|\n",
      "|     4|ES-2018-1311038|07/02/2018|11/02/2018|Standard Class|   AS-10045|  Aaron Smayling|  Corporate|        Leeds|             England|United Kingdom|  North|OFF-ST-10004550|Office Supplies|     Storage|Fellowes Folders,...|   50.94|       2|       0|   13.2|\n",
      "|     5|ES-2018-1311038|07/02/2018|11/02/2018|Standard Class|   AS-10045|  Aaron Smayling|  Corporate|        Leeds|             England|United Kingdom|  North|TEC-AC-10004068|     Technology| Accessories|Memorex Memory Ca...|  307.44|       3|       0|  73.71|\n",
      "|     6|ES-2018-1311038|07/02/2018|11/02/2018|Standard Class|   AS-10045|  Aaron Smayling|  Corporate|        Leeds|             England|United Kingdom|  North|OFF-ST-10002271|Office Supplies|     Storage|Rogers Shelving, ...|   122.4|       2|       0|  37.92|\n",
      "|     7|ES-2018-1311038|07/02/2018|11/02/2018|Standard Class|   AS-10045|  Aaron Smayling|  Corporate|        Leeds|             England|United Kingdom|  North|TEC-PH-10003963|     Technology|      Phones|Apple Signal Boos...|  413.82|       3|       0|  20.61|\n",
      "|     8|ES-2016-5113958|02/08/2016|07/08/2016|  Second Class|   EB-13840|   Ellis Ballard|  Corporate|West Bromwich|             England|United Kingdom|  North|TEC-CO-10004325|     Technology|     Copiers|Canon Personal Co...|  428.22|       3|       0| 192.69|\n",
      "|     9|ES-2016-5113958|02/08/2016|07/08/2016|  Second Class|   EB-13840|   Ellis Ballard|  Corporate|West Bromwich|             England|United Kingdom|  North|OFF-AP-10004512|Office Supplies|  Appliances|   Hoover Stove, Red| 3979.29|       7|       0|1989.54|\n",
      "|    10|ES-2016-5113958|02/08/2016|07/08/2016|  Second Class|   EB-13840|   Ellis Ballard|  Corporate|West Bromwich|             England|United Kingdom|  North|OFF-FA-10002393|Office Supplies|   Fasteners|Accos Push Pins, ...|   43.56|       3|       0|   12.6|\n",
      "|    11|ES-2016-2510515|20/06/2016|20/06/2016|      Same Day|   LH-17155|Logan Haushalter|   Consumer|   Le Bouscat|Aquitaine-Limousi...|        France|Central|OFF-LA-10002805|Office Supplies|      Labels|Hon Color Coded L...|   25.26|       2|       0|   0.48|\n",
      "|    12|ES-2016-2510515|20/06/2016|20/06/2016|      Same Day|   LH-17155|Logan Haushalter|   Consumer|   Le Bouscat|Aquitaine-Limousi...|        France|Central|OFF-AP-10002330|Office Supplies|  Appliances|Hamilton Beach St...|2443.905|       5|     0.1|760.305|\n",
      "|    13|ES-2016-2510515|20/06/2016|20/06/2016|      Same Day|   LH-17155|Logan Haushalter|   Consumer|   Le Bouscat|Aquitaine-Limousi...|        France|Central|OFF-AR-10000505|Office Supplies|         Art|Binney & Smith Pe...|   12.21|       1|       0|      0|\n",
      "|    14|ES-2016-2510515|20/06/2016|20/06/2016|      Same Day|   LH-17155|Logan Haushalter|   Consumer|   Le Bouscat|Aquitaine-Limousi...|        France|Central|TEC-PH-10002898|     Technology|      Phones|Samsung Smart Pho...|2167.296|       4|    0.15|790.416|\n",
      "|    15|ES-2016-2510515|20/06/2016|20/06/2016|      Same Day|   LH-17155|Logan Haushalter|   Consumer|   Le Bouscat|Aquitaine-Limousi...|        France|Central|OFF-ST-10001413|Office Supplies|     Storage|Rogers Folders, Blue| 138.105|       5|     0.1|-12.345|\n",
      "|    16|ES-2017-4380115|16/02/2017|20/02/2017|Standard Class|   KC-16540| Kelly Collister|   Consumer|   Strasbourg|Alsace-Champagne-...|        France|Central|OFF-ST-10003931|Office Supplies|     Storage|Smead Trays, Wire...| 128.385|       3|     0.1|  4.275|\n",
      "|    17|ES-2017-4380115|16/02/2017|20/02/2017|Standard Class|   KC-16540| Kelly Collister|   Consumer|   Strasbourg|Alsace-Champagne-...|        France|Central|TEC-AC-10004269|     Technology| Accessories|Belkin Memory Car...|  690.12|       6|       0|      0|\n",
      "|    18|ES-2017-4380115|16/02/2017|20/02/2017|Standard Class|   KC-16540| Kelly Collister|   Consumer|   Strasbourg|Alsace-Champagne-...|        France|Central|OFF-LA-10001676|Office Supplies|      Labels|Hon Removable Lab...|    8.16|       1|       0|   1.14|\n",
      "|    19|ES-2018-2573330|03/11/2018|08/11/2018|Standard Class|   BF-11170|      Ben Ferrer|Home Office|         Unna|North Rhine-Westp...|       Germany|Central|TEC-MA-10000811|     Technology|    Machines|Okidata Phone, Du...|  347.88|       4|       0|  76.44|\n",
      "|    20|ES-2018-2573330|03/11/2018|08/11/2018|Standard Class|   BF-11170|      Ben Ferrer|Home Office|         Unna|North Rhine-Westp...|       Germany|Central|OFF-ST-10000648|Office Supplies|     Storage|Eldon File Cart, ...| 575.505|       5|     0.1| 12.705|\n",
      "+------+---------------+----------+----------+--------------+-----------+----------------+-----------+-------------+--------------------+--------------+-------+---------------+---------------+------------+--------------------+--------+--------+--------+-------+\n",
      "only showing top 20 rows\n",
      "\n"
     ]
    }
   ],
   "source": [
    "# show\n",
    "\n",
    "df.show()"
   ]
  },
  {
   "cell_type": "code",
   "execution_count": 35,
   "id": "e4cee7ec",
   "metadata": {
    "ExecuteTime": {
     "end_time": "2023-03-02T18:56:03.298314Z",
     "start_time": "2023-03-02T18:56:03.209639Z"
    }
   },
   "outputs": [
    {
     "name": "stdout",
     "output_type": "stream",
     "text": [
      "+------+---------------+----------+----------+--------------+-----------+--------------+---------+-----+-------+--------------+------+---------------+---------------+------------+--------------------+-----+--------+--------+------+\n",
      "|Row ID|       Order ID|Order Date| Ship Date|     Ship Mode|Customer ID| Customer Name|  Segment| City|  State|       Country|Region|     Product ID|       Category|Sub-Category|        Product Name|Sales|Quantity|Discount|Profit|\n",
      "+------+---------------+----------+----------+--------------+-----------+--------------+---------+-----+-------+--------------+------+---------------+---------------+------------+--------------------+-----+--------+--------+------+\n",
      "|     1|ES-2018-1311038|07/02/2018|11/02/2018|Standard Class|   AS-10045|Aaron Smayling|Corporate|Leeds|England|United Kingdom| North|OFF-ST-10000988|Office Supplies|     Storage|Fellowes Folders,...| 79.2|       3|       0|  39.6|\n",
      "+------+---------------+----------+----------+--------------+-----------+--------------+---------+-----+-------+--------------+------+---------------+---------------+------------+--------------------+-----+--------+--------+------+\n",
      "only showing top 1 row\n",
      "\n"
     ]
    }
   ],
   "source": [
    "df.show(1)"
   ]
  },
  {
   "cell_type": "code",
   "execution_count": 36,
   "id": "81d9c234",
   "metadata": {
    "ExecuteTime": {
     "end_time": "2023-03-02T19:08:41.625337Z",
     "start_time": "2023-03-02T19:08:41.606338Z"
    }
   },
   "outputs": [
    {
     "data": {
      "text/plain": [
       "pyspark.sql.dataframe.DataFrame"
      ]
     },
     "execution_count": 36,
     "metadata": {},
     "output_type": "execute_result"
    }
   ],
   "source": [
    "# let's explore the type of data we dealing\n",
    "\n",
    "type(df)"
   ]
  },
  {
   "cell_type": "code",
   "execution_count": 38,
   "id": "fddea5c5",
   "metadata": {
    "ExecuteTime": {
     "end_time": "2023-03-02T19:09:12.340189Z",
     "start_time": "2023-03-02T19:09:12.330193Z"
    }
   },
   "outputs": [
    {
     "data": {
      "text/plain": [
       "['Row ID',\n",
       " 'Order ID',\n",
       " 'Order Date',\n",
       " 'Ship Date',\n",
       " 'Ship Mode',\n",
       " 'Customer ID',\n",
       " 'Customer Name',\n",
       " 'Segment',\n",
       " 'City',\n",
       " 'State',\n",
       " 'Country',\n",
       " 'Region',\n",
       " 'Product ID',\n",
       " 'Category',\n",
       " 'Sub-Category',\n",
       " 'Product Name',\n",
       " 'Sales',\n",
       " 'Quantity',\n",
       " 'Discount',\n",
       " 'Profit']"
      ]
     },
     "execution_count": 38,
     "metadata": {},
     "output_type": "execute_result"
    }
   ],
   "source": [
    "#exactly same as pandas\n",
    "df.columns"
   ]
  },
  {
   "cell_type": "code",
   "execution_count": 39,
   "id": "97032a03",
   "metadata": {
    "ExecuteTime": {
     "end_time": "2023-03-02T19:09:18.586468Z",
     "start_time": "2023-03-02T19:09:18.106739Z"
    }
   },
   "outputs": [
    {
     "data": {
      "text/plain": [
       "10000"
      ]
     },
     "execution_count": 39,
     "metadata": {},
     "output_type": "execute_result"
    }
   ],
   "source": [
    "df.count()"
   ]
  },
  {
   "cell_type": "markdown",
   "id": "5f64a2b5",
   "metadata": {},
   "source": [
    "# Lazy and Non-lazy Operations"
   ]
  },
  {
   "cell_type": "code",
   "execution_count": 54,
   "id": "0ab14bcd",
   "metadata": {
    "ExecuteTime": {
     "end_time": "2023-03-02T19:12:28.699192Z",
     "start_time": "2023-03-02T19:12:28.682192Z"
    }
   },
   "outputs": [
    {
     "data": {
      "text/plain": [
       "DataFrame[Row ID: string, Order ID: string, Order Date: string, Ship Date: string, Ship Mode: string, Customer ID: string, Customer Name: string, Segment: string, City: string, State: string, Country: string, Region: string, Product ID: string, Category: string, Sub-Category: string, Product Name: string, Sales: string, Quantity: string, Discount: string, Profit: string]"
      ]
     },
     "execution_count": 54,
     "metadata": {},
     "output_type": "execute_result"
    }
   ],
   "source": [
    "#lazy operation\n",
    "#Bunda spark aslında datayı okumadan direk veriyor o yüzden de aşırı hızlı,\n",
    "df.limit(5)"
   ]
  },
  {
   "cell_type": "code",
   "execution_count": 55,
   "id": "0f1ce7f1",
   "metadata": {
    "ExecuteTime": {
     "end_time": "2023-03-02T19:12:29.574897Z",
     "start_time": "2023-03-02T19:12:29.489898Z"
    }
   },
   "outputs": [
    {
     "data": {
      "text/plain": [
       "[Row(Row ID='1', Order ID='ES-2018-1311038', Order Date='07/02/2018', Ship Date='11/02/2018', Ship Mode='Standard Class', Customer ID='AS-10045', Customer Name='Aaron Smayling', Segment='Corporate', City='Leeds', State='England', Country='United Kingdom', Region='North', Product ID='OFF-ST-10000988', Category='Office Supplies', Sub-Category='Storage', Product Name='Fellowes Folders, Blue', Sales='79.2', Quantity='3', Discount='0', Profit='39.6'),\n",
       " Row(Row ID='2', Order ID='ES-2018-1311038', Order Date='07/02/2018', Ship Date='11/02/2018', Ship Mode='Standard Class', Customer ID='AS-10045', Customer Name='Aaron Smayling', Segment='Corporate', City='Leeds', State='England', Country='United Kingdom', Region='North', Product ID='TEC-AC-10004144', Category='Technology', Sub-Category='Accessories', Product Name='SanDisk Numeric Keypad, Bluetooth', Sales='388.92', Quantity='7', Discount='0', Profit='0')]"
      ]
     },
     "execution_count": 55,
     "metadata": {},
     "output_type": "execute_result"
    }
   ],
   "source": [
    "df.head(2)"
   ]
  },
  {
   "cell_type": "code",
   "execution_count": 57,
   "id": "24816986",
   "metadata": {
    "ExecuteTime": {
     "end_time": "2023-03-02T19:12:53.374795Z",
     "start_time": "2023-03-02T19:12:53.301165Z"
    }
   },
   "outputs": [
    {
     "name": "stdout",
     "output_type": "stream",
     "text": [
      "+------+---------------+----------+----------+--------------+-----------+--------------+---------+-----+-------+--------------+------+---------------+---------------+------------+--------------------+------+--------+--------+------+\n",
      "|Row ID|       Order ID|Order Date| Ship Date|     Ship Mode|Customer ID| Customer Name|  Segment| City|  State|       Country|Region|     Product ID|       Category|Sub-Category|        Product Name| Sales|Quantity|Discount|Profit|\n",
      "+------+---------------+----------+----------+--------------+-----------+--------------+---------+-----+-------+--------------+------+---------------+---------------+------------+--------------------+------+--------+--------+------+\n",
      "|     1|ES-2018-1311038|07/02/2018|11/02/2018|Standard Class|   AS-10045|Aaron Smayling|Corporate|Leeds|England|United Kingdom| North|OFF-ST-10000988|Office Supplies|     Storage|Fellowes Folders,...|  79.2|       3|       0|  39.6|\n",
      "|     2|ES-2018-1311038|07/02/2018|11/02/2018|Standard Class|   AS-10045|Aaron Smayling|Corporate|Leeds|England|United Kingdom| North|TEC-AC-10004144|     Technology| Accessories|SanDisk Numeric K...|388.92|       7|       0|     0|\n",
      "+------+---------------+----------+----------+--------------+-----------+--------------+---------+-----+-------+--------------+------+---------------+---------------+------------+--------------------+------+--------+--------+------+\n",
      "\n"
     ]
    }
   ],
   "source": [
    "#Burada biraz daha sürüyor, çünkü datayı okuyor\n",
    "df.limit(2).show()"
   ]
  },
  {
   "cell_type": "code",
   "execution_count": 60,
   "id": "9aa8afe8",
   "metadata": {
    "ExecuteTime": {
     "end_time": "2023-03-02T19:29:09.036004Z",
     "start_time": "2023-03-02T19:29:09.020036Z"
    }
   },
   "outputs": [
    {
     "data": {
      "text/plain": [
       "StructType(List(StructField(Row ID,StringType,true),StructField(Order ID,StringType,true),StructField(Order Date,StringType,true),StructField(Ship Date,StringType,true),StructField(Ship Mode,StringType,true),StructField(Customer ID,StringType,true),StructField(Customer Name,StringType,true),StructField(Segment,StringType,true),StructField(City,StringType,true),StructField(State,StringType,true),StructField(Country,StringType,true),StructField(Region,StringType,true),StructField(Product ID,StringType,true),StructField(Category,StringType,true),StructField(Sub-Category,StringType,true),StructField(Product Name,StringType,true),StructField(Sales,StringType,true),StructField(Quantity,StringType,true),StructField(Discount,StringType,true),StructField(Profit,StringType,true)))"
      ]
     },
     "execution_count": 60,
     "metadata": {},
     "output_type": "execute_result"
    }
   ],
   "source": [
    "#this operation allows me to see the schema but most importantly to operate it\n",
    "\n",
    "df.schema"
   ]
  },
  {
   "cell_type": "code",
   "execution_count": 59,
   "id": "2067dad8",
   "metadata": {
    "ExecuteTime": {
     "end_time": "2023-03-02T19:14:24.545407Z",
     "start_time": "2023-03-02T19:14:24.535401Z"
    }
   },
   "outputs": [
    {
     "data": {
      "text/plain": [
       "pyspark.sql.types.StructType"
      ]
     },
     "execution_count": 59,
     "metadata": {},
     "output_type": "execute_result"
    }
   ],
   "source": [
    "type(df.schema)"
   ]
  },
  {
   "cell_type": "code",
   "execution_count": 61,
   "id": "0f503bec",
   "metadata": {
    "ExecuteTime": {
     "end_time": "2023-03-02T19:29:30.101768Z",
     "start_time": "2023-03-02T19:29:30.086769Z"
    }
   },
   "outputs": [
    {
     "name": "stdout",
     "output_type": "stream",
     "text": [
      "root\n",
      " |-- Row ID: string (nullable = true)\n",
      " |-- Order ID: string (nullable = true)\n",
      " |-- Order Date: string (nullable = true)\n",
      " |-- Ship Date: string (nullable = true)\n",
      " |-- Ship Mode: string (nullable = true)\n",
      " |-- Customer ID: string (nullable = true)\n",
      " |-- Customer Name: string (nullable = true)\n",
      " |-- Segment: string (nullable = true)\n",
      " |-- City: string (nullable = true)\n",
      " |-- State: string (nullable = true)\n",
      " |-- Country: string (nullable = true)\n",
      " |-- Region: string (nullable = true)\n",
      " |-- Product ID: string (nullable = true)\n",
      " |-- Category: string (nullable = true)\n",
      " |-- Sub-Category: string (nullable = true)\n",
      " |-- Product Name: string (nullable = true)\n",
      " |-- Sales: string (nullable = true)\n",
      " |-- Quantity: string (nullable = true)\n",
      " |-- Discount: string (nullable = true)\n",
      " |-- Profit: string (nullable = true)\n",
      "\n"
     ]
    }
   ],
   "source": [
    "df.printSchema()"
   ]
  },
  {
   "cell_type": "code",
   "execution_count": 62,
   "id": "c1b2917c",
   "metadata": {
    "ExecuteTime": {
     "end_time": "2023-03-02T19:29:41.996190Z",
     "start_time": "2023-03-02T19:29:41.975712Z"
    }
   },
   "outputs": [
    {
     "name": "stdout",
     "output_type": "stream",
     "text": [
      "root\n",
      " |-- Row ID: string (nullable = true)\n",
      " |-- Order ID: string (nullable = true)\n",
      " |-- Order Date: string (nullable = true)\n",
      " |-- Ship Date: string (nullable = true)\n",
      " |-- Ship Mode: string (nullable = true)\n",
      " |-- Customer ID: string (nullable = true)\n",
      " |-- Customer Name: string (nullable = true)\n",
      " |-- Segment: string (nullable = true)\n",
      " |-- City: string (nullable = true)\n",
      " |-- State: string (nullable = true)\n",
      " |-- Country: string (nullable = true)\n",
      " |-- Region: string (nullable = true)\n",
      " |-- Product ID: string (nullable = true)\n",
      " |-- Category: string (nullable = true)\n",
      " |-- Sub-Category: string (nullable = true)\n",
      " |-- Product Name: string (nullable = true)\n",
      " |-- Sales: string (nullable = true)\n",
      " |-- Quantity: string (nullable = true)\n",
      " |-- Discount: string (nullable = true)\n",
      " |-- Profit: string (nullable = true)\n",
      "\n"
     ]
    },
    {
     "data": {
      "text/plain": [
       "NoneType"
      ]
     },
     "execution_count": 62,
     "metadata": {},
     "output_type": "execute_result"
    }
   ],
   "source": [
    "type(df.printSchema())"
   ]
  },
  {
   "cell_type": "code",
   "execution_count": 67,
   "id": "e2b8c7c2",
   "metadata": {
    "ExecuteTime": {
     "end_time": "2023-03-02T19:31:59.937295Z",
     "start_time": "2023-03-02T19:31:59.921300Z"
    }
   },
   "outputs": [
    {
     "data": {
      "text/plain": [
       "DataFrame[Row ID: string, Order ID: string, Order Date: string, Ship Date: string, Ship Mode: string, Customer ID: string, Customer Name: string, Segment: string, City: string, State: string, Country: string, Region: string, Product ID: string, Category: string, Sub-Category: string, Product Name: string, Sales: string, Quantity: string, Discount: string, Profit: string]"
      ]
     },
     "execution_count": 67,
     "metadata": {},
     "output_type": "execute_result"
    }
   ],
   "source": [
    "# generic pyspark cleaning operations\n",
    "\n",
    "#we want to drop all null rows\n",
    "\n",
    "# I like to constantly redefine my operations with these operations\n",
    "\n",
    "df.dropna() #another lazy operation"
   ]
  },
  {
   "cell_type": "code",
   "execution_count": 66,
   "id": "f16ca348",
   "metadata": {
    "ExecuteTime": {
     "end_time": "2023-03-02T19:31:16.549025Z",
     "start_time": "2023-03-02T19:31:16.467035Z"
    }
   },
   "outputs": [
    {
     "name": "stdout",
     "output_type": "stream",
     "text": [
      "+------+---------------+----------+----------+--------------+-----------+----------------+-----------+-------------+--------------------+--------------+-------+---------------+---------------+------------+--------------------+--------+--------+--------+-------+\n",
      "|Row ID|       Order ID|Order Date| Ship Date|     Ship Mode|Customer ID|   Customer Name|    Segment|         City|               State|       Country| Region|     Product ID|       Category|Sub-Category|        Product Name|   Sales|Quantity|Discount| Profit|\n",
      "+------+---------------+----------+----------+--------------+-----------+----------------+-----------+-------------+--------------------+--------------+-------+---------------+---------------+------------+--------------------+--------+--------+--------+-------+\n",
      "|     1|ES-2018-1311038|07/02/2018|11/02/2018|Standard Class|   AS-10045|  Aaron Smayling|  Corporate|        Leeds|             England|United Kingdom|  North|OFF-ST-10000988|Office Supplies|     Storage|Fellowes Folders,...|    79.2|       3|       0|   39.6|\n",
      "|     2|ES-2018-1311038|07/02/2018|11/02/2018|Standard Class|   AS-10045|  Aaron Smayling|  Corporate|        Leeds|             England|United Kingdom|  North|TEC-AC-10004144|     Technology| Accessories|SanDisk Numeric K...|  388.92|       7|       0|      0|\n",
      "|     3|ES-2018-1311038|07/02/2018|11/02/2018|Standard Class|   AS-10045|  Aaron Smayling|  Corporate|        Leeds|             England|United Kingdom|  North|OFF-LA-10001915|Office Supplies|      Labels|Avery Legal Exhib...|   35.19|       3|       0|  16.11|\n",
      "|     4|ES-2018-1311038|07/02/2018|11/02/2018|Standard Class|   AS-10045|  Aaron Smayling|  Corporate|        Leeds|             England|United Kingdom|  North|OFF-ST-10004550|Office Supplies|     Storage|Fellowes Folders,...|   50.94|       2|       0|   13.2|\n",
      "|     5|ES-2018-1311038|07/02/2018|11/02/2018|Standard Class|   AS-10045|  Aaron Smayling|  Corporate|        Leeds|             England|United Kingdom|  North|TEC-AC-10004068|     Technology| Accessories|Memorex Memory Ca...|  307.44|       3|       0|  73.71|\n",
      "|     6|ES-2018-1311038|07/02/2018|11/02/2018|Standard Class|   AS-10045|  Aaron Smayling|  Corporate|        Leeds|             England|United Kingdom|  North|OFF-ST-10002271|Office Supplies|     Storage|Rogers Shelving, ...|   122.4|       2|       0|  37.92|\n",
      "|     7|ES-2018-1311038|07/02/2018|11/02/2018|Standard Class|   AS-10045|  Aaron Smayling|  Corporate|        Leeds|             England|United Kingdom|  North|TEC-PH-10003963|     Technology|      Phones|Apple Signal Boos...|  413.82|       3|       0|  20.61|\n",
      "|     8|ES-2016-5113958|02/08/2016|07/08/2016|  Second Class|   EB-13840|   Ellis Ballard|  Corporate|West Bromwich|             England|United Kingdom|  North|TEC-CO-10004325|     Technology|     Copiers|Canon Personal Co...|  428.22|       3|       0| 192.69|\n",
      "|     9|ES-2016-5113958|02/08/2016|07/08/2016|  Second Class|   EB-13840|   Ellis Ballard|  Corporate|West Bromwich|             England|United Kingdom|  North|OFF-AP-10004512|Office Supplies|  Appliances|   Hoover Stove, Red| 3979.29|       7|       0|1989.54|\n",
      "|    10|ES-2016-5113958|02/08/2016|07/08/2016|  Second Class|   EB-13840|   Ellis Ballard|  Corporate|West Bromwich|             England|United Kingdom|  North|OFF-FA-10002393|Office Supplies|   Fasteners|Accos Push Pins, ...|   43.56|       3|       0|   12.6|\n",
      "|    11|ES-2016-2510515|20/06/2016|20/06/2016|      Same Day|   LH-17155|Logan Haushalter|   Consumer|   Le Bouscat|Aquitaine-Limousi...|        France|Central|OFF-LA-10002805|Office Supplies|      Labels|Hon Color Coded L...|   25.26|       2|       0|   0.48|\n",
      "|    12|ES-2016-2510515|20/06/2016|20/06/2016|      Same Day|   LH-17155|Logan Haushalter|   Consumer|   Le Bouscat|Aquitaine-Limousi...|        France|Central|OFF-AP-10002330|Office Supplies|  Appliances|Hamilton Beach St...|2443.905|       5|     0.1|760.305|\n",
      "|    13|ES-2016-2510515|20/06/2016|20/06/2016|      Same Day|   LH-17155|Logan Haushalter|   Consumer|   Le Bouscat|Aquitaine-Limousi...|        France|Central|OFF-AR-10000505|Office Supplies|         Art|Binney & Smith Pe...|   12.21|       1|       0|      0|\n",
      "|    14|ES-2016-2510515|20/06/2016|20/06/2016|      Same Day|   LH-17155|Logan Haushalter|   Consumer|   Le Bouscat|Aquitaine-Limousi...|        France|Central|TEC-PH-10002898|     Technology|      Phones|Samsung Smart Pho...|2167.296|       4|    0.15|790.416|\n",
      "|    15|ES-2016-2510515|20/06/2016|20/06/2016|      Same Day|   LH-17155|Logan Haushalter|   Consumer|   Le Bouscat|Aquitaine-Limousi...|        France|Central|OFF-ST-10001413|Office Supplies|     Storage|Rogers Folders, Blue| 138.105|       5|     0.1|-12.345|\n",
      "|    16|ES-2017-4380115|16/02/2017|20/02/2017|Standard Class|   KC-16540| Kelly Collister|   Consumer|   Strasbourg|Alsace-Champagne-...|        France|Central|OFF-ST-10003931|Office Supplies|     Storage|Smead Trays, Wire...| 128.385|       3|     0.1|  4.275|\n",
      "|    17|ES-2017-4380115|16/02/2017|20/02/2017|Standard Class|   KC-16540| Kelly Collister|   Consumer|   Strasbourg|Alsace-Champagne-...|        France|Central|TEC-AC-10004269|     Technology| Accessories|Belkin Memory Car...|  690.12|       6|       0|      0|\n",
      "|    18|ES-2017-4380115|16/02/2017|20/02/2017|Standard Class|   KC-16540| Kelly Collister|   Consumer|   Strasbourg|Alsace-Champagne-...|        France|Central|OFF-LA-10001676|Office Supplies|      Labels|Hon Removable Lab...|    8.16|       1|       0|   1.14|\n",
      "|    19|ES-2018-2573330|03/11/2018|08/11/2018|Standard Class|   BF-11170|      Ben Ferrer|Home Office|         Unna|North Rhine-Westp...|       Germany|Central|TEC-MA-10000811|     Technology|    Machines|Okidata Phone, Du...|  347.88|       4|       0|  76.44|\n",
      "|    20|ES-2018-2573330|03/11/2018|08/11/2018|Standard Class|   BF-11170|      Ben Ferrer|Home Office|         Unna|North Rhine-Westp...|       Germany|Central|OFF-ST-10000648|Office Supplies|     Storage|Eldon File Cart, ...| 575.505|       5|     0.1| 12.705|\n",
      "+------+---------------+----------+----------+--------------+-----------+----------------+-----------+-------------+--------------------+--------------+-------+---------------+---------------+------------+--------------------+--------+--------+--------+-------+\n",
      "only showing top 20 rows\n",
      "\n"
     ]
    }
   ],
   "source": [
    "df.dropna().show() # not a lazy operation"
   ]
  },
  {
   "cell_type": "code",
   "execution_count": 68,
   "id": "0263a71d",
   "metadata": {
    "ExecuteTime": {
     "end_time": "2023-03-02T19:32:12.725751Z",
     "start_time": "2023-03-02T19:32:12.713478Z"
    }
   },
   "outputs": [],
   "source": [
    "df = df.dropna()"
   ]
  },
  {
   "cell_type": "code",
   "execution_count": 69,
   "id": "13da013f",
   "metadata": {
    "ExecuteTime": {
     "end_time": "2023-03-02T19:32:14.021651Z",
     "start_time": "2023-03-02T19:32:14.001654Z"
    }
   },
   "outputs": [
    {
     "data": {
      "text/plain": [
       "DataFrame[Row ID: string, Order ID: string, Order Date: string, Ship Date: string, Ship Mode: string, Customer ID: string, Customer Name: string, Segment: string, City: string, State: string, Country: string, Region: string, Product ID: string, Category: string, Sub-Category: string, Product Name: string, Sales: string, Quantity: string, Discount: string, Profit: string]"
      ]
     },
     "execution_count": 69,
     "metadata": {},
     "output_type": "execute_result"
    }
   ],
   "source": [
    "df"
   ]
  },
  {
   "cell_type": "code",
   "execution_count": 70,
   "id": "9f13cbd9",
   "metadata": {
    "ExecuteTime": {
     "end_time": "2023-03-02T19:32:22.009251Z",
     "start_time": "2023-03-02T19:32:21.922519Z"
    }
   },
   "outputs": [
    {
     "name": "stdout",
     "output_type": "stream",
     "text": [
      "+------+---------------+----------+----------+--------------+-----------+----------------+-----------+-------------+--------------------+--------------+-------+---------------+---------------+------------+--------------------+--------+--------+--------+-------+\n",
      "|Row ID|       Order ID|Order Date| Ship Date|     Ship Mode|Customer ID|   Customer Name|    Segment|         City|               State|       Country| Region|     Product ID|       Category|Sub-Category|        Product Name|   Sales|Quantity|Discount| Profit|\n",
      "+------+---------------+----------+----------+--------------+-----------+----------------+-----------+-------------+--------------------+--------------+-------+---------------+---------------+------------+--------------------+--------+--------+--------+-------+\n",
      "|     1|ES-2018-1311038|07/02/2018|11/02/2018|Standard Class|   AS-10045|  Aaron Smayling|  Corporate|        Leeds|             England|United Kingdom|  North|OFF-ST-10000988|Office Supplies|     Storage|Fellowes Folders,...|    79.2|       3|       0|   39.6|\n",
      "|     2|ES-2018-1311038|07/02/2018|11/02/2018|Standard Class|   AS-10045|  Aaron Smayling|  Corporate|        Leeds|             England|United Kingdom|  North|TEC-AC-10004144|     Technology| Accessories|SanDisk Numeric K...|  388.92|       7|       0|      0|\n",
      "|     3|ES-2018-1311038|07/02/2018|11/02/2018|Standard Class|   AS-10045|  Aaron Smayling|  Corporate|        Leeds|             England|United Kingdom|  North|OFF-LA-10001915|Office Supplies|      Labels|Avery Legal Exhib...|   35.19|       3|       0|  16.11|\n",
      "|     4|ES-2018-1311038|07/02/2018|11/02/2018|Standard Class|   AS-10045|  Aaron Smayling|  Corporate|        Leeds|             England|United Kingdom|  North|OFF-ST-10004550|Office Supplies|     Storage|Fellowes Folders,...|   50.94|       2|       0|   13.2|\n",
      "|     5|ES-2018-1311038|07/02/2018|11/02/2018|Standard Class|   AS-10045|  Aaron Smayling|  Corporate|        Leeds|             England|United Kingdom|  North|TEC-AC-10004068|     Technology| Accessories|Memorex Memory Ca...|  307.44|       3|       0|  73.71|\n",
      "|     6|ES-2018-1311038|07/02/2018|11/02/2018|Standard Class|   AS-10045|  Aaron Smayling|  Corporate|        Leeds|             England|United Kingdom|  North|OFF-ST-10002271|Office Supplies|     Storage|Rogers Shelving, ...|   122.4|       2|       0|  37.92|\n",
      "|     7|ES-2018-1311038|07/02/2018|11/02/2018|Standard Class|   AS-10045|  Aaron Smayling|  Corporate|        Leeds|             England|United Kingdom|  North|TEC-PH-10003963|     Technology|      Phones|Apple Signal Boos...|  413.82|       3|       0|  20.61|\n",
      "|     8|ES-2016-5113958|02/08/2016|07/08/2016|  Second Class|   EB-13840|   Ellis Ballard|  Corporate|West Bromwich|             England|United Kingdom|  North|TEC-CO-10004325|     Technology|     Copiers|Canon Personal Co...|  428.22|       3|       0| 192.69|\n",
      "|     9|ES-2016-5113958|02/08/2016|07/08/2016|  Second Class|   EB-13840|   Ellis Ballard|  Corporate|West Bromwich|             England|United Kingdom|  North|OFF-AP-10004512|Office Supplies|  Appliances|   Hoover Stove, Red| 3979.29|       7|       0|1989.54|\n",
      "|    10|ES-2016-5113958|02/08/2016|07/08/2016|  Second Class|   EB-13840|   Ellis Ballard|  Corporate|West Bromwich|             England|United Kingdom|  North|OFF-FA-10002393|Office Supplies|   Fasteners|Accos Push Pins, ...|   43.56|       3|       0|   12.6|\n",
      "|    11|ES-2016-2510515|20/06/2016|20/06/2016|      Same Day|   LH-17155|Logan Haushalter|   Consumer|   Le Bouscat|Aquitaine-Limousi...|        France|Central|OFF-LA-10002805|Office Supplies|      Labels|Hon Color Coded L...|   25.26|       2|       0|   0.48|\n",
      "|    12|ES-2016-2510515|20/06/2016|20/06/2016|      Same Day|   LH-17155|Logan Haushalter|   Consumer|   Le Bouscat|Aquitaine-Limousi...|        France|Central|OFF-AP-10002330|Office Supplies|  Appliances|Hamilton Beach St...|2443.905|       5|     0.1|760.305|\n",
      "|    13|ES-2016-2510515|20/06/2016|20/06/2016|      Same Day|   LH-17155|Logan Haushalter|   Consumer|   Le Bouscat|Aquitaine-Limousi...|        France|Central|OFF-AR-10000505|Office Supplies|         Art|Binney & Smith Pe...|   12.21|       1|       0|      0|\n",
      "|    14|ES-2016-2510515|20/06/2016|20/06/2016|      Same Day|   LH-17155|Logan Haushalter|   Consumer|   Le Bouscat|Aquitaine-Limousi...|        France|Central|TEC-PH-10002898|     Technology|      Phones|Samsung Smart Pho...|2167.296|       4|    0.15|790.416|\n",
      "|    15|ES-2016-2510515|20/06/2016|20/06/2016|      Same Day|   LH-17155|Logan Haushalter|   Consumer|   Le Bouscat|Aquitaine-Limousi...|        France|Central|OFF-ST-10001413|Office Supplies|     Storage|Rogers Folders, Blue| 138.105|       5|     0.1|-12.345|\n",
      "|    16|ES-2017-4380115|16/02/2017|20/02/2017|Standard Class|   KC-16540| Kelly Collister|   Consumer|   Strasbourg|Alsace-Champagne-...|        France|Central|OFF-ST-10003931|Office Supplies|     Storage|Smead Trays, Wire...| 128.385|       3|     0.1|  4.275|\n",
      "|    17|ES-2017-4380115|16/02/2017|20/02/2017|Standard Class|   KC-16540| Kelly Collister|   Consumer|   Strasbourg|Alsace-Champagne-...|        France|Central|TEC-AC-10004269|     Technology| Accessories|Belkin Memory Car...|  690.12|       6|       0|      0|\n",
      "|    18|ES-2017-4380115|16/02/2017|20/02/2017|Standard Class|   KC-16540| Kelly Collister|   Consumer|   Strasbourg|Alsace-Champagne-...|        France|Central|OFF-LA-10001676|Office Supplies|      Labels|Hon Removable Lab...|    8.16|       1|       0|   1.14|\n",
      "|    19|ES-2018-2573330|03/11/2018|08/11/2018|Standard Class|   BF-11170|      Ben Ferrer|Home Office|         Unna|North Rhine-Westp...|       Germany|Central|TEC-MA-10000811|     Technology|    Machines|Okidata Phone, Du...|  347.88|       4|       0|  76.44|\n",
      "|    20|ES-2018-2573330|03/11/2018|08/11/2018|Standard Class|   BF-11170|      Ben Ferrer|Home Office|         Unna|North Rhine-Westp...|       Germany|Central|OFF-ST-10000648|Office Supplies|     Storage|Eldon File Cart, ...| 575.505|       5|     0.1| 12.705|\n",
      "+------+---------------+----------+----------+--------------+-----------+----------------+-----------+-------------+--------------------+--------------+-------+---------------+---------------+------------+--------------------+--------+--------+--------+-------+\n",
      "only showing top 20 rows\n",
      "\n"
     ]
    }
   ],
   "source": [
    "df.show()"
   ]
  },
  {
   "cell_type": "code",
   "execution_count": 71,
   "id": "c7f2764d",
   "metadata": {
    "ExecuteTime": {
     "end_time": "2023-03-02T19:32:30.555072Z",
     "start_time": "2023-03-02T19:32:30.316034Z"
    }
   },
   "outputs": [
    {
     "data": {
      "text/plain": [
       "10000"
      ]
     },
     "execution_count": 71,
     "metadata": {},
     "output_type": "execute_result"
    }
   ],
   "source": [
    "df.count()"
   ]
  },
  {
   "cell_type": "code",
   "execution_count": 72,
   "id": "a8de14ce",
   "metadata": {
    "ExecuteTime": {
     "end_time": "2023-03-02T19:33:16.298560Z",
     "start_time": "2023-03-02T19:33:16.273563Z"
    }
   },
   "outputs": [
    {
     "data": {
      "text/plain": [
       "DataFrame[Row ID: string, Order ID: string, Order Date: string, Ship Date: string, Ship Mode: string, Customer ID: string, Customer Name: string, City: string, State: string, Country: string, Region: string, Product ID: string, Category: string, Sub-Category: string, Product Name: string, Sales: string, Quantity: string, Discount: string, Profit: string]"
      ]
     },
     "execution_count": 72,
     "metadata": {},
     "output_type": "execute_result"
    }
   ],
   "source": [
    "# sometimes we have too many columns -> we need to drop some columns\n",
    "\n",
    "df.drop(\"Segment\")"
   ]
  },
  {
   "cell_type": "code",
   "execution_count": 76,
   "id": "f273af68",
   "metadata": {
    "ExecuteTime": {
     "end_time": "2023-03-02T19:33:49.255739Z",
     "start_time": "2023-03-02T19:33:49.237741Z"
    }
   },
   "outputs": [
    {
     "name": "stdout",
     "output_type": "stream",
     "text": [
      "root\n",
      " |-- Row ID: string (nullable = true)\n",
      " |-- Order ID: string (nullable = true)\n",
      " |-- Order Date: string (nullable = true)\n",
      " |-- Ship Date: string (nullable = true)\n",
      " |-- Ship Mode: string (nullable = true)\n",
      " |-- Customer ID: string (nullable = true)\n",
      " |-- Customer Name: string (nullable = true)\n",
      " |-- Segment: string (nullable = true)\n",
      " |-- City: string (nullable = true)\n",
      " |-- State: string (nullable = true)\n",
      " |-- Country: string (nullable = true)\n",
      " |-- Region: string (nullable = true)\n",
      " |-- Product ID: string (nullable = true)\n",
      " |-- Category: string (nullable = true)\n",
      " |-- Sub-Category: string (nullable = true)\n",
      " |-- Product Name: string (nullable = true)\n",
      " |-- Sales: string (nullable = true)\n",
      " |-- Quantity: string (nullable = true)\n",
      " |-- Discount: string (nullable = true)\n",
      " |-- Profit: string (nullable = true)\n",
      "\n"
     ]
    }
   ],
   "source": [
    "#Segment is still there\n",
    "\n",
    "df.printSchema()"
   ]
  },
  {
   "cell_type": "code",
   "execution_count": 78,
   "id": "c8b08dc0",
   "metadata": {
    "ExecuteTime": {
     "end_time": "2023-03-02T19:34:45.596155Z",
     "start_time": "2023-03-02T19:34:45.573153Z"
    }
   },
   "outputs": [
    {
     "name": "stdout",
     "output_type": "stream",
     "text": [
      "root\n",
      " |-- Row ID: string (nullable = true)\n",
      " |-- Order ID: string (nullable = true)\n",
      " |-- Order Date: string (nullable = true)\n",
      " |-- Ship Date: string (nullable = true)\n",
      " |-- Ship Mode: string (nullable = true)\n",
      " |-- Customer ID: string (nullable = true)\n",
      " |-- Customer Name: string (nullable = true)\n",
      " |-- City: string (nullable = true)\n",
      " |-- State: string (nullable = true)\n",
      " |-- Country: string (nullable = true)\n",
      " |-- Region: string (nullable = true)\n",
      " |-- Product ID: string (nullable = true)\n",
      " |-- Category: string (nullable = true)\n",
      " |-- Sub-Category: string (nullable = true)\n",
      " |-- Product Name: string (nullable = true)\n",
      " |-- Sales: string (nullable = true)\n",
      " |-- Quantity: string (nullable = true)\n",
      " |-- Discount: string (nullable = true)\n",
      " |-- Profit: string (nullable = true)\n",
      "\n"
     ]
    }
   ],
   "source": [
    "# let's try this\n",
    "\n",
    "df.drop(\"Segment\").printSchema() # We don't have segment, but just for now"
   ]
  },
  {
   "cell_type": "code",
   "execution_count": 82,
   "id": "72a09f6c",
   "metadata": {
    "ExecuteTime": {
     "end_time": "2023-03-02T19:35:14.322295Z",
     "start_time": "2023-03-02T19:35:14.304294Z"
    }
   },
   "outputs": [
    {
     "name": "stdout",
     "output_type": "stream",
     "text": [
      "root\n",
      " |-- Row ID: string (nullable = true)\n",
      " |-- Order ID: string (nullable = true)\n",
      " |-- Order Date: string (nullable = true)\n",
      " |-- Ship Date: string (nullable = true)\n",
      " |-- Ship Mode: string (nullable = true)\n",
      " |-- Customer ID: string (nullable = true)\n",
      " |-- Customer Name: string (nullable = true)\n",
      " |-- Segment: string (nullable = true)\n",
      " |-- City: string (nullable = true)\n",
      " |-- State: string (nullable = true)\n",
      " |-- Country: string (nullable = true)\n",
      " |-- Region: string (nullable = true)\n",
      " |-- Product ID: string (nullable = true)\n",
      " |-- Category: string (nullable = true)\n",
      " |-- Sub-Category: string (nullable = true)\n",
      " |-- Product Name: string (nullable = true)\n",
      " |-- Sales: string (nullable = true)\n",
      " |-- Quantity: string (nullable = true)\n",
      " |-- Discount: string (nullable = true)\n",
      " |-- Profit: string (nullable = true)\n",
      "\n"
     ]
    }
   ],
   "source": [
    "#Segment is still there\n",
    "df.printSchema()"
   ]
  },
  {
   "cell_type": "code",
   "execution_count": 83,
   "id": "e40a50c2",
   "metadata": {
    "ExecuteTime": {
     "end_time": "2023-03-02T19:35:32.086609Z",
     "start_time": "2023-03-02T19:35:32.066611Z"
    }
   },
   "outputs": [],
   "source": [
    "df = df.drop(\"Segment\")"
   ]
  },
  {
   "cell_type": "code",
   "execution_count": 85,
   "id": "717741a1",
   "metadata": {
    "ExecuteTime": {
     "end_time": "2023-03-02T19:35:49.660304Z",
     "start_time": "2023-03-02T19:35:49.652302Z"
    }
   },
   "outputs": [
    {
     "name": "stdout",
     "output_type": "stream",
     "text": [
      "root\n",
      " |-- Row ID: string (nullable = true)\n",
      " |-- Order ID: string (nullable = true)\n",
      " |-- Order Date: string (nullable = true)\n",
      " |-- Ship Date: string (nullable = true)\n",
      " |-- Ship Mode: string (nullable = true)\n",
      " |-- Customer ID: string (nullable = true)\n",
      " |-- Customer Name: string (nullable = true)\n",
      " |-- City: string (nullable = true)\n",
      " |-- State: string (nullable = true)\n",
      " |-- Country: string (nullable = true)\n",
      " |-- Region: string (nullable = true)\n",
      " |-- Product ID: string (nullable = true)\n",
      " |-- Category: string (nullable = true)\n",
      " |-- Sub-Category: string (nullable = true)\n",
      " |-- Product Name: string (nullable = true)\n",
      " |-- Sales: string (nullable = true)\n",
      " |-- Quantity: string (nullable = true)\n",
      " |-- Discount: string (nullable = true)\n",
      " |-- Profit: string (nullable = true)\n",
      "\n"
     ]
    }
   ],
   "source": [
    "df.printSchema() #Segment is not here anymore"
   ]
  },
  {
   "cell_type": "code",
   "execution_count": 86,
   "id": "c88cd380",
   "metadata": {
    "ExecuteTime": {
     "end_time": "2023-03-02T19:37:30.790619Z",
     "start_time": "2023-03-02T19:37:30.784618Z"
    }
   },
   "outputs": [],
   "source": [
    "# when i am not fundementally changing the shape of df i keep writing on top of the same variable\n"
   ]
  },
  {
   "cell_type": "markdown",
   "id": "8ca82cd9",
   "metadata": {
    "ExecuteTime": {
     "end_time": "2023-03-02T19:37:48.989012Z",
     "start_time": "2023-03-02T19:37:48.971044Z"
    }
   },
   "source": [
    "# What if we want to drop multiple columns"
   ]
  },
  {
   "cell_type": "code",
   "execution_count": 95,
   "id": "b1334e05",
   "metadata": {
    "ExecuteTime": {
     "end_time": "2023-03-02T19:40:33.190728Z",
     "start_time": "2023-03-02T19:40:33.182728Z"
    }
   },
   "outputs": [
    {
     "ename": "TypeError",
     "evalue": "col should be a string or a Column",
     "output_type": "error",
     "traceback": [
      "\u001b[1;31m---------------------------------------------------------------------------\u001b[0m",
      "\u001b[1;31mTypeError\u001b[0m                                 Traceback (most recent call last)",
      "\u001b[1;32m~\\AppData\\Local\\Temp\\ipykernel_18920\\643831255.py\u001b[0m in \u001b[0;36m<module>\u001b[1;34m\u001b[0m\n\u001b[1;32m----> 1\u001b[1;33m \u001b[0mdf\u001b[0m\u001b[1;33m.\u001b[0m\u001b[0mdrop\u001b[0m\u001b[1;33m(\u001b[0m\u001b[1;33m[\u001b[0m\u001b[1;34m\"Order ID\"\u001b[0m\u001b[1;33m,\u001b[0m \u001b[1;34m\"Order Date\"\u001b[0m\u001b[1;33m]\u001b[0m\u001b[1;33m)\u001b[0m \u001b[1;31m# This won't work on pyspark\u001b[0m\u001b[1;33m\u001b[0m\u001b[1;33m\u001b[0m\u001b[0m\n\u001b[0m",
      "\u001b[1;32mC:\\ProgramData\\Anaconda3\\lib\\site-packages\\pyspark\\sql\\dataframe.py\u001b[0m in \u001b[0;36mdrop\u001b[1;34m(self, *cols)\u001b[0m\n\u001b[0;32m   2533\u001b[0m                 \u001b[0mjdf\u001b[0m \u001b[1;33m=\u001b[0m \u001b[0mself\u001b[0m\u001b[1;33m.\u001b[0m\u001b[0m_jdf\u001b[0m\u001b[1;33m.\u001b[0m\u001b[0mdrop\u001b[0m\u001b[1;33m(\u001b[0m\u001b[0mcol\u001b[0m\u001b[1;33m.\u001b[0m\u001b[0m_jc\u001b[0m\u001b[1;33m)\u001b[0m\u001b[1;33m\u001b[0m\u001b[1;33m\u001b[0m\u001b[0m\n\u001b[0;32m   2534\u001b[0m             \u001b[1;32melse\u001b[0m\u001b[1;33m:\u001b[0m\u001b[1;33m\u001b[0m\u001b[1;33m\u001b[0m\u001b[0m\n\u001b[1;32m-> 2535\u001b[1;33m                 \u001b[1;32mraise\u001b[0m \u001b[0mTypeError\u001b[0m\u001b[1;33m(\u001b[0m\u001b[1;34m\"col should be a string or a Column\"\u001b[0m\u001b[1;33m)\u001b[0m\u001b[1;33m\u001b[0m\u001b[1;33m\u001b[0m\u001b[0m\n\u001b[0m\u001b[0;32m   2536\u001b[0m         \u001b[1;32melse\u001b[0m\u001b[1;33m:\u001b[0m\u001b[1;33m\u001b[0m\u001b[1;33m\u001b[0m\u001b[0m\n\u001b[0;32m   2537\u001b[0m             \u001b[1;32mfor\u001b[0m \u001b[0mcol\u001b[0m \u001b[1;32min\u001b[0m \u001b[0mcols\u001b[0m\u001b[1;33m:\u001b[0m\u001b[1;33m\u001b[0m\u001b[1;33m\u001b[0m\u001b[0m\n",
      "\u001b[1;31mTypeError\u001b[0m: col should be a string or a Column"
     ]
    }
   ],
   "source": [
    "df.drop([\"Order ID\", \"Order Date\"]) # This won't work on pyspark"
   ]
  },
  {
   "cell_type": "code",
   "execution_count": 96,
   "id": "60eee462",
   "metadata": {
    "ExecuteTime": {
     "end_time": "2023-03-02T19:40:33.454846Z",
     "start_time": "2023-03-02T19:40:33.438844Z"
    }
   },
   "outputs": [],
   "source": [
    "drop_cols = (\"Order ID\", \"Order Date\")"
   ]
  },
  {
   "cell_type": "code",
   "execution_count": 97,
   "id": "166af5bb",
   "metadata": {
    "ExecuteTime": {
     "end_time": "2023-03-02T19:40:36.990587Z",
     "start_time": "2023-03-02T19:40:36.967588Z"
    }
   },
   "outputs": [
    {
     "name": "stdout",
     "output_type": "stream",
     "text": [
      "root\n",
      " |-- Row ID: string (nullable = true)\n",
      " |-- Ship Date: string (nullable = true)\n",
      " |-- Ship Mode: string (nullable = true)\n",
      " |-- Customer ID: string (nullable = true)\n",
      " |-- Customer Name: string (nullable = true)\n",
      " |-- City: string (nullable = true)\n",
      " |-- State: string (nullable = true)\n",
      " |-- Country: string (nullable = true)\n",
      " |-- Region: string (nullable = true)\n",
      " |-- Product ID: string (nullable = true)\n",
      " |-- Category: string (nullable = true)\n",
      " |-- Sub-Category: string (nullable = true)\n",
      " |-- Product Name: string (nullable = true)\n",
      " |-- Sales: string (nullable = true)\n",
      " |-- Quantity: string (nullable = true)\n",
      " |-- Discount: string (nullable = true)\n",
      " |-- Profit: string (nullable = true)\n",
      "\n"
     ]
    }
   ],
   "source": [
    "df.drop(*drop_cols).printSchema()"
   ]
  },
  {
   "cell_type": "code",
   "execution_count": 98,
   "id": "79d5983d",
   "metadata": {
    "ExecuteTime": {
     "end_time": "2023-03-02T19:40:55.952302Z",
     "start_time": "2023-03-02T19:40:55.833302Z"
    }
   },
   "outputs": [
    {
     "name": "stdout",
     "output_type": "stream",
     "text": [
      "+------+---------------+----------+----------+--------------+-----------+----------------+-------------+--------------------+--------------+-------+---------------+---------------+------------+--------------------+--------+--------+--------+-------+\n",
      "|Row ID|       Order ID|Order Date| Ship Date|     Ship Mode|Customer ID|   Customer Name|         City|               State|       Country| Region|     Product ID|       Category|Sub-Category|        Product Name|   Sales|Quantity|Discount| Profit|\n",
      "+------+---------------+----------+----------+--------------+-----------+----------------+-------------+--------------------+--------------+-------+---------------+---------------+------------+--------------------+--------+--------+--------+-------+\n",
      "|     1|ES-2018-1311038|07/02/2018|11/02/2018|Standard Class|   AS-10045|  Aaron Smayling|        Leeds|             England|United Kingdom|  North|OFF-ST-10000988|Office Supplies|     Storage|Fellowes Folders,...|    79.2|       3|       0|   39.6|\n",
      "|     2|ES-2018-1311038|07/02/2018|11/02/2018|Standard Class|   AS-10045|  Aaron Smayling|        Leeds|             England|United Kingdom|  North|TEC-AC-10004144|     Technology| Accessories|SanDisk Numeric K...|  388.92|       7|       0|      0|\n",
      "|     3|ES-2018-1311038|07/02/2018|11/02/2018|Standard Class|   AS-10045|  Aaron Smayling|        Leeds|             England|United Kingdom|  North|OFF-LA-10001915|Office Supplies|      Labels|Avery Legal Exhib...|   35.19|       3|       0|  16.11|\n",
      "|     4|ES-2018-1311038|07/02/2018|11/02/2018|Standard Class|   AS-10045|  Aaron Smayling|        Leeds|             England|United Kingdom|  North|OFF-ST-10004550|Office Supplies|     Storage|Fellowes Folders,...|   50.94|       2|       0|   13.2|\n",
      "|     5|ES-2018-1311038|07/02/2018|11/02/2018|Standard Class|   AS-10045|  Aaron Smayling|        Leeds|             England|United Kingdom|  North|TEC-AC-10004068|     Technology| Accessories|Memorex Memory Ca...|  307.44|       3|       0|  73.71|\n",
      "|     6|ES-2018-1311038|07/02/2018|11/02/2018|Standard Class|   AS-10045|  Aaron Smayling|        Leeds|             England|United Kingdom|  North|OFF-ST-10002271|Office Supplies|     Storage|Rogers Shelving, ...|   122.4|       2|       0|  37.92|\n",
      "|     7|ES-2018-1311038|07/02/2018|11/02/2018|Standard Class|   AS-10045|  Aaron Smayling|        Leeds|             England|United Kingdom|  North|TEC-PH-10003963|     Technology|      Phones|Apple Signal Boos...|  413.82|       3|       0|  20.61|\n",
      "|     8|ES-2016-5113958|02/08/2016|07/08/2016|  Second Class|   EB-13840|   Ellis Ballard|West Bromwich|             England|United Kingdom|  North|TEC-CO-10004325|     Technology|     Copiers|Canon Personal Co...|  428.22|       3|       0| 192.69|\n",
      "|     9|ES-2016-5113958|02/08/2016|07/08/2016|  Second Class|   EB-13840|   Ellis Ballard|West Bromwich|             England|United Kingdom|  North|OFF-AP-10004512|Office Supplies|  Appliances|   Hoover Stove, Red| 3979.29|       7|       0|1989.54|\n",
      "|    10|ES-2016-5113958|02/08/2016|07/08/2016|  Second Class|   EB-13840|   Ellis Ballard|West Bromwich|             England|United Kingdom|  North|OFF-FA-10002393|Office Supplies|   Fasteners|Accos Push Pins, ...|   43.56|       3|       0|   12.6|\n",
      "|    11|ES-2016-2510515|20/06/2016|20/06/2016|      Same Day|   LH-17155|Logan Haushalter|   Le Bouscat|Aquitaine-Limousi...|        France|Central|OFF-LA-10002805|Office Supplies|      Labels|Hon Color Coded L...|   25.26|       2|       0|   0.48|\n",
      "|    12|ES-2016-2510515|20/06/2016|20/06/2016|      Same Day|   LH-17155|Logan Haushalter|   Le Bouscat|Aquitaine-Limousi...|        France|Central|OFF-AP-10002330|Office Supplies|  Appliances|Hamilton Beach St...|2443.905|       5|     0.1|760.305|\n",
      "|    13|ES-2016-2510515|20/06/2016|20/06/2016|      Same Day|   LH-17155|Logan Haushalter|   Le Bouscat|Aquitaine-Limousi...|        France|Central|OFF-AR-10000505|Office Supplies|         Art|Binney & Smith Pe...|   12.21|       1|       0|      0|\n",
      "|    14|ES-2016-2510515|20/06/2016|20/06/2016|      Same Day|   LH-17155|Logan Haushalter|   Le Bouscat|Aquitaine-Limousi...|        France|Central|TEC-PH-10002898|     Technology|      Phones|Samsung Smart Pho...|2167.296|       4|    0.15|790.416|\n",
      "|    15|ES-2016-2510515|20/06/2016|20/06/2016|      Same Day|   LH-17155|Logan Haushalter|   Le Bouscat|Aquitaine-Limousi...|        France|Central|OFF-ST-10001413|Office Supplies|     Storage|Rogers Folders, Blue| 138.105|       5|     0.1|-12.345|\n",
      "|    16|ES-2017-4380115|16/02/2017|20/02/2017|Standard Class|   KC-16540| Kelly Collister|   Strasbourg|Alsace-Champagne-...|        France|Central|OFF-ST-10003931|Office Supplies|     Storage|Smead Trays, Wire...| 128.385|       3|     0.1|  4.275|\n",
      "|    17|ES-2017-4380115|16/02/2017|20/02/2017|Standard Class|   KC-16540| Kelly Collister|   Strasbourg|Alsace-Champagne-...|        France|Central|TEC-AC-10004269|     Technology| Accessories|Belkin Memory Car...|  690.12|       6|       0|      0|\n",
      "|    18|ES-2017-4380115|16/02/2017|20/02/2017|Standard Class|   KC-16540| Kelly Collister|   Strasbourg|Alsace-Champagne-...|        France|Central|OFF-LA-10001676|Office Supplies|      Labels|Hon Removable Lab...|    8.16|       1|       0|   1.14|\n",
      "|    19|ES-2018-2573330|03/11/2018|08/11/2018|Standard Class|   BF-11170|      Ben Ferrer|         Unna|North Rhine-Westp...|       Germany|Central|TEC-MA-10000811|     Technology|    Machines|Okidata Phone, Du...|  347.88|       4|       0|  76.44|\n",
      "|    20|ES-2018-2573330|03/11/2018|08/11/2018|Standard Class|   BF-11170|      Ben Ferrer|         Unna|North Rhine-Westp...|       Germany|Central|OFF-ST-10000648|Office Supplies|     Storage|Eldon File Cart, ...| 575.505|       5|     0.1| 12.705|\n",
      "+------+---------------+----------+----------+--------------+-----------+----------------+-------------+--------------------+--------------+-------+---------------+---------------+------------+--------------------+--------+--------+--------+-------+\n",
      "only showing top 20 rows\n",
      "\n"
     ]
    }
   ],
   "source": [
    "df.show()"
   ]
  },
  {
   "cell_type": "code",
   "execution_count": null,
   "id": "09b5c082",
   "metadata": {},
   "outputs": [],
   "source": [
    "df = spark.read.option(\"header\", \"true\").csv(\"blablabla/blabla/bla.csv\")"
   ]
  },
  {
   "cell_type": "code",
   "execution_count": 100,
   "id": "7eb2a018",
   "metadata": {
    "ExecuteTime": {
     "end_time": "2023-03-02T19:51:17.029815Z",
     "start_time": "2023-03-02T19:51:16.940814Z"
    }
   },
   "outputs": [
    {
     "name": "stdout",
     "output_type": "stream",
     "text": [
      "+------+---------------+----------+----------+--------------+-----------+----------------+-------------+--------------------+--------------+-------+---------------+---------------+------------+--------------------+--------+--------+--------+-------+\n",
      "|Row ID|       Order ID|Order Date| Ship Date|     Ship Mode|Customer ID|   Customer Name|         City|               State|       Country| Region|     Product ID|       Category|Sub-Category|        Product Name|   Sales|Quantity|Discount| Profit|\n",
      "+------+---------------+----------+----------+--------------+-----------+----------------+-------------+--------------------+--------------+-------+---------------+---------------+------------+--------------------+--------+--------+--------+-------+\n",
      "|     1|ES-2018-1311038|07/02/2018|11/02/2018|Standard Class|   AS-10045|  Aaron Smayling|        Leeds|             England|United Kingdom|  North|OFF-ST-10000988|Office Supplies|     Storage|Fellowes Folders,...|    79.2|       3|       0|   39.6|\n",
      "|     2|ES-2018-1311038|07/02/2018|11/02/2018|Standard Class|   AS-10045|  Aaron Smayling|        Leeds|             England|United Kingdom|  North|TEC-AC-10004144|     Technology| Accessories|SanDisk Numeric K...|  388.92|       7|       0|      0|\n",
      "|     3|ES-2018-1311038|07/02/2018|11/02/2018|Standard Class|   AS-10045|  Aaron Smayling|        Leeds|             England|United Kingdom|  North|OFF-LA-10001915|Office Supplies|      Labels|Avery Legal Exhib...|   35.19|       3|       0|  16.11|\n",
      "|     4|ES-2018-1311038|07/02/2018|11/02/2018|Standard Class|   AS-10045|  Aaron Smayling|        Leeds|             England|United Kingdom|  North|OFF-ST-10004550|Office Supplies|     Storage|Fellowes Folders,...|   50.94|       2|       0|   13.2|\n",
      "|     5|ES-2018-1311038|07/02/2018|11/02/2018|Standard Class|   AS-10045|  Aaron Smayling|        Leeds|             England|United Kingdom|  North|TEC-AC-10004068|     Technology| Accessories|Memorex Memory Ca...|  307.44|       3|       0|  73.71|\n",
      "|     6|ES-2018-1311038|07/02/2018|11/02/2018|Standard Class|   AS-10045|  Aaron Smayling|        Leeds|             England|United Kingdom|  North|OFF-ST-10002271|Office Supplies|     Storage|Rogers Shelving, ...|   122.4|       2|       0|  37.92|\n",
      "|     7|ES-2018-1311038|07/02/2018|11/02/2018|Standard Class|   AS-10045|  Aaron Smayling|        Leeds|             England|United Kingdom|  North|TEC-PH-10003963|     Technology|      Phones|Apple Signal Boos...|  413.82|       3|       0|  20.61|\n",
      "|     8|ES-2016-5113958|02/08/2016|07/08/2016|  Second Class|   EB-13840|   Ellis Ballard|West Bromwich|             England|United Kingdom|  North|TEC-CO-10004325|     Technology|     Copiers|Canon Personal Co...|  428.22|       3|       0| 192.69|\n",
      "|     9|ES-2016-5113958|02/08/2016|07/08/2016|  Second Class|   EB-13840|   Ellis Ballard|West Bromwich|             England|United Kingdom|  North|OFF-AP-10004512|Office Supplies|  Appliances|   Hoover Stove, Red| 3979.29|       7|       0|1989.54|\n",
      "|    10|ES-2016-5113958|02/08/2016|07/08/2016|  Second Class|   EB-13840|   Ellis Ballard|West Bromwich|             England|United Kingdom|  North|OFF-FA-10002393|Office Supplies|   Fasteners|Accos Push Pins, ...|   43.56|       3|       0|   12.6|\n",
      "|    11|ES-2016-2510515|20/06/2016|20/06/2016|      Same Day|   LH-17155|Logan Haushalter|   Le Bouscat|Aquitaine-Limousi...|        France|Central|OFF-LA-10002805|Office Supplies|      Labels|Hon Color Coded L...|   25.26|       2|       0|   0.48|\n",
      "|    12|ES-2016-2510515|20/06/2016|20/06/2016|      Same Day|   LH-17155|Logan Haushalter|   Le Bouscat|Aquitaine-Limousi...|        France|Central|OFF-AP-10002330|Office Supplies|  Appliances|Hamilton Beach St...|2443.905|       5|     0.1|760.305|\n",
      "|    13|ES-2016-2510515|20/06/2016|20/06/2016|      Same Day|   LH-17155|Logan Haushalter|   Le Bouscat|Aquitaine-Limousi...|        France|Central|OFF-AR-10000505|Office Supplies|         Art|Binney & Smith Pe...|   12.21|       1|       0|      0|\n",
      "|    14|ES-2016-2510515|20/06/2016|20/06/2016|      Same Day|   LH-17155|Logan Haushalter|   Le Bouscat|Aquitaine-Limousi...|        France|Central|TEC-PH-10002898|     Technology|      Phones|Samsung Smart Pho...|2167.296|       4|    0.15|790.416|\n",
      "|    15|ES-2016-2510515|20/06/2016|20/06/2016|      Same Day|   LH-17155|Logan Haushalter|   Le Bouscat|Aquitaine-Limousi...|        France|Central|OFF-ST-10001413|Office Supplies|     Storage|Rogers Folders, Blue| 138.105|       5|     0.1|-12.345|\n",
      "|    16|ES-2017-4380115|16/02/2017|20/02/2017|Standard Class|   KC-16540| Kelly Collister|   Strasbourg|Alsace-Champagne-...|        France|Central|OFF-ST-10003931|Office Supplies|     Storage|Smead Trays, Wire...| 128.385|       3|     0.1|  4.275|\n",
      "|    17|ES-2017-4380115|16/02/2017|20/02/2017|Standard Class|   KC-16540| Kelly Collister|   Strasbourg|Alsace-Champagne-...|        France|Central|TEC-AC-10004269|     Technology| Accessories|Belkin Memory Car...|  690.12|       6|       0|      0|\n",
      "|    18|ES-2017-4380115|16/02/2017|20/02/2017|Standard Class|   KC-16540| Kelly Collister|   Strasbourg|Alsace-Champagne-...|        France|Central|OFF-LA-10001676|Office Supplies|      Labels|Hon Removable Lab...|    8.16|       1|       0|   1.14|\n",
      "|    19|ES-2018-2573330|03/11/2018|08/11/2018|Standard Class|   BF-11170|      Ben Ferrer|         Unna|North Rhine-Westp...|       Germany|Central|TEC-MA-10000811|     Technology|    Machines|Okidata Phone, Du...|  347.88|       4|       0|  76.44|\n",
      "|    20|ES-2018-2573330|03/11/2018|08/11/2018|Standard Class|   BF-11170|      Ben Ferrer|         Unna|North Rhine-Westp...|       Germany|Central|OFF-ST-10000648|Office Supplies|     Storage|Eldon File Cart, ...| 575.505|       5|     0.1| 12.705|\n",
      "+------+---------------+----------+----------+--------------+-----------+----------------+-------------+--------------------+--------------+-------+---------------+---------------+------------+--------------------+--------+--------+--------+-------+\n",
      "only showing top 20 rows\n",
      "\n"
     ]
    }
   ],
   "source": [
    "df.show()"
   ]
  },
  {
   "cell_type": "code",
   "execution_count": 103,
   "id": "287b77a6",
   "metadata": {
    "ExecuteTime": {
     "end_time": "2023-03-02T19:52:04.066373Z",
     "start_time": "2023-03-02T19:52:04.042383Z"
    }
   },
   "outputs": [
    {
     "data": {
      "text/plain": [
       "DataFrame[Country: string]"
      ]
     },
     "execution_count": 103,
     "metadata": {},
     "output_type": "execute_result"
    }
   ],
   "source": [
    "# in order to get only a column we use select method\n",
    "\n",
    "df.select(\"Country\") #lazy operation"
   ]
  },
  {
   "cell_type": "code",
   "execution_count": 106,
   "id": "06cf4116",
   "metadata": {
    "ExecuteTime": {
     "end_time": "2023-03-02T19:52:27.466331Z",
     "start_time": "2023-03-02T19:52:27.405331Z"
    }
   },
   "outputs": [
    {
     "name": "stdout",
     "output_type": "stream",
     "text": [
      "+--------------+\n",
      "|       Country|\n",
      "+--------------+\n",
      "|United Kingdom|\n",
      "|United Kingdom|\n",
      "|United Kingdom|\n",
      "|United Kingdom|\n",
      "|United Kingdom|\n",
      "|United Kingdom|\n",
      "|United Kingdom|\n",
      "|United Kingdom|\n",
      "|United Kingdom|\n",
      "|United Kingdom|\n",
      "|        France|\n",
      "|        France|\n",
      "|        France|\n",
      "|        France|\n",
      "|        France|\n",
      "|        France|\n",
      "|        France|\n",
      "|        France|\n",
      "|       Germany|\n",
      "|       Germany|\n",
      "+--------------+\n",
      "only showing top 20 rows\n",
      "\n"
     ]
    }
   ],
   "source": [
    "df.select(\"Country\").show()"
   ]
  },
  {
   "cell_type": "code",
   "execution_count": 108,
   "id": "123adaec",
   "metadata": {
    "ExecuteTime": {
     "end_time": "2023-03-02T19:53:07.027621Z",
     "start_time": "2023-03-02T19:53:06.954609Z"
    }
   },
   "outputs": [
    {
     "name": "stdout",
     "output_type": "stream",
     "text": [
      "+--------------+\n",
      "|       country|\n",
      "+--------------+\n",
      "|United Kingdom|\n",
      "|United Kingdom|\n",
      "|United Kingdom|\n",
      "|United Kingdom|\n",
      "|United Kingdom|\n",
      "|United Kingdom|\n",
      "|United Kingdom|\n",
      "|United Kingdom|\n",
      "|United Kingdom|\n",
      "|United Kingdom|\n",
      "|        France|\n",
      "|        France|\n",
      "|        France|\n",
      "|        France|\n",
      "|        France|\n",
      "|        France|\n",
      "|        France|\n",
      "|        France|\n",
      "|       Germany|\n",
      "|       Germany|\n",
      "+--------------+\n",
      "only showing top 20 rows\n",
      "\n"
     ]
    }
   ],
   "source": [
    "#in pyspark sql capitalizing letters doesn't matter\n",
    "df.select(\"country\").show()"
   ]
  },
  {
   "cell_type": "code",
   "execution_count": 109,
   "id": "ec8feb3f",
   "metadata": {
    "ExecuteTime": {
     "end_time": "2023-03-02T19:53:57.020513Z",
     "start_time": "2023-03-02T19:53:57.000510Z"
    }
   },
   "outputs": [
    {
     "data": {
      "text/plain": [
       "DataFrame[country: string, city: string, customer name: string]"
      ]
     },
     "execution_count": 109,
     "metadata": {},
     "output_type": "execute_result"
    }
   ],
   "source": [
    "df.select(\"country\", \"city\", \"customer name\")"
   ]
  },
  {
   "cell_type": "code",
   "execution_count": 110,
   "id": "7ddfd298",
   "metadata": {
    "ExecuteTime": {
     "end_time": "2023-03-02T19:54:17.248537Z",
     "start_time": "2023-03-02T19:54:17.163538Z"
    }
   },
   "outputs": [
    {
     "name": "stdout",
     "output_type": "stream",
     "text": [
      "+--------------+-------------+----------------+\n",
      "|       Country|         City|   Customer Name|\n",
      "+--------------+-------------+----------------+\n",
      "|United Kingdom|        Leeds|  Aaron Smayling|\n",
      "|United Kingdom|        Leeds|  Aaron Smayling|\n",
      "|United Kingdom|        Leeds|  Aaron Smayling|\n",
      "|United Kingdom|        Leeds|  Aaron Smayling|\n",
      "|United Kingdom|        Leeds|  Aaron Smayling|\n",
      "|United Kingdom|        Leeds|  Aaron Smayling|\n",
      "|United Kingdom|        Leeds|  Aaron Smayling|\n",
      "|United Kingdom|West Bromwich|   Ellis Ballard|\n",
      "|United Kingdom|West Bromwich|   Ellis Ballard|\n",
      "|United Kingdom|West Bromwich|   Ellis Ballard|\n",
      "|        France|   Le Bouscat|Logan Haushalter|\n",
      "|        France|   Le Bouscat|Logan Haushalter|\n",
      "|        France|   Le Bouscat|Logan Haushalter|\n",
      "|        France|   Le Bouscat|Logan Haushalter|\n",
      "|        France|   Le Bouscat|Logan Haushalter|\n",
      "|        France|   Strasbourg| Kelly Collister|\n",
      "|        France|   Strasbourg| Kelly Collister|\n",
      "|        France|   Strasbourg| Kelly Collister|\n",
      "|       Germany|         Unna|      Ben Ferrer|\n",
      "|       Germany|         Unna|      Ben Ferrer|\n",
      "+--------------+-------------+----------------+\n",
      "only showing top 20 rows\n",
      "\n"
     ]
    }
   ],
   "source": [
    "df.select(\"Country\", \"City\", \"Customer Name\").show()"
   ]
  },
  {
   "cell_type": "code",
   "execution_count": 111,
   "id": "8ee3fd0f",
   "metadata": {
    "ExecuteTime": {
     "end_time": "2023-03-02T19:54:40.047488Z",
     "start_time": "2023-03-02T19:54:40.037491Z"
    }
   },
   "outputs": [
    {
     "data": {
      "text/plain": [
       "['Row ID',\n",
       " 'Order ID',\n",
       " 'Order Date',\n",
       " 'Ship Date',\n",
       " 'Ship Mode',\n",
       " 'Customer ID',\n",
       " 'Customer Name',\n",
       " 'City',\n",
       " 'State',\n",
       " 'Country',\n",
       " 'Region',\n",
       " 'Product ID',\n",
       " 'Category',\n",
       " 'Sub-Category',\n",
       " 'Product Name',\n",
       " 'Sales',\n",
       " 'Quantity',\n",
       " 'Discount',\n",
       " 'Profit']"
      ]
     },
     "execution_count": 111,
     "metadata": {},
     "output_type": "execute_result"
    }
   ],
   "source": [
    "df.columns"
   ]
  },
  {
   "cell_type": "code",
   "execution_count": 113,
   "id": "1b79186b",
   "metadata": {
    "ExecuteTime": {
     "end_time": "2023-03-02T19:55:10.143176Z",
     "start_time": "2023-03-02T19:55:10.138178Z"
    }
   },
   "outputs": [],
   "source": [
    "columns = df.columns"
   ]
  },
  {
   "cell_type": "code",
   "execution_count": 114,
   "id": "46c54772",
   "metadata": {
    "ExecuteTime": {
     "end_time": "2023-03-02T19:55:20.998299Z",
     "start_time": "2023-03-02T19:55:20.859310Z"
    }
   },
   "outputs": [
    {
     "name": "stdout",
     "output_type": "stream",
     "text": [
      "+------+---------------+----------+----------+--------------+-----------+----------------+-------------+--------------------+--------------+-------+---------------+---------------+------------+--------------------+--------+--------+--------+-------+\n",
      "|Row ID|       Order ID|Order Date| Ship Date|     Ship Mode|Customer ID|   Customer Name|         City|               State|       Country| Region|     Product ID|       Category|Sub-Category|        Product Name|   Sales|Quantity|Discount| Profit|\n",
      "+------+---------------+----------+----------+--------------+-----------+----------------+-------------+--------------------+--------------+-------+---------------+---------------+------------+--------------------+--------+--------+--------+-------+\n",
      "|     1|ES-2018-1311038|07/02/2018|11/02/2018|Standard Class|   AS-10045|  Aaron Smayling|        Leeds|             England|United Kingdom|  North|OFF-ST-10000988|Office Supplies|     Storage|Fellowes Folders,...|    79.2|       3|       0|   39.6|\n",
      "|     2|ES-2018-1311038|07/02/2018|11/02/2018|Standard Class|   AS-10045|  Aaron Smayling|        Leeds|             England|United Kingdom|  North|TEC-AC-10004144|     Technology| Accessories|SanDisk Numeric K...|  388.92|       7|       0|      0|\n",
      "|     3|ES-2018-1311038|07/02/2018|11/02/2018|Standard Class|   AS-10045|  Aaron Smayling|        Leeds|             England|United Kingdom|  North|OFF-LA-10001915|Office Supplies|      Labels|Avery Legal Exhib...|   35.19|       3|       0|  16.11|\n",
      "|     4|ES-2018-1311038|07/02/2018|11/02/2018|Standard Class|   AS-10045|  Aaron Smayling|        Leeds|             England|United Kingdom|  North|OFF-ST-10004550|Office Supplies|     Storage|Fellowes Folders,...|   50.94|       2|       0|   13.2|\n",
      "|     5|ES-2018-1311038|07/02/2018|11/02/2018|Standard Class|   AS-10045|  Aaron Smayling|        Leeds|             England|United Kingdom|  North|TEC-AC-10004068|     Technology| Accessories|Memorex Memory Ca...|  307.44|       3|       0|  73.71|\n",
      "|     6|ES-2018-1311038|07/02/2018|11/02/2018|Standard Class|   AS-10045|  Aaron Smayling|        Leeds|             England|United Kingdom|  North|OFF-ST-10002271|Office Supplies|     Storage|Rogers Shelving, ...|   122.4|       2|       0|  37.92|\n",
      "|     7|ES-2018-1311038|07/02/2018|11/02/2018|Standard Class|   AS-10045|  Aaron Smayling|        Leeds|             England|United Kingdom|  North|TEC-PH-10003963|     Technology|      Phones|Apple Signal Boos...|  413.82|       3|       0|  20.61|\n",
      "|     8|ES-2016-5113958|02/08/2016|07/08/2016|  Second Class|   EB-13840|   Ellis Ballard|West Bromwich|             England|United Kingdom|  North|TEC-CO-10004325|     Technology|     Copiers|Canon Personal Co...|  428.22|       3|       0| 192.69|\n",
      "|     9|ES-2016-5113958|02/08/2016|07/08/2016|  Second Class|   EB-13840|   Ellis Ballard|West Bromwich|             England|United Kingdom|  North|OFF-AP-10004512|Office Supplies|  Appliances|   Hoover Stove, Red| 3979.29|       7|       0|1989.54|\n",
      "|    10|ES-2016-5113958|02/08/2016|07/08/2016|  Second Class|   EB-13840|   Ellis Ballard|West Bromwich|             England|United Kingdom|  North|OFF-FA-10002393|Office Supplies|   Fasteners|Accos Push Pins, ...|   43.56|       3|       0|   12.6|\n",
      "|    11|ES-2016-2510515|20/06/2016|20/06/2016|      Same Day|   LH-17155|Logan Haushalter|   Le Bouscat|Aquitaine-Limousi...|        France|Central|OFF-LA-10002805|Office Supplies|      Labels|Hon Color Coded L...|   25.26|       2|       0|   0.48|\n",
      "|    12|ES-2016-2510515|20/06/2016|20/06/2016|      Same Day|   LH-17155|Logan Haushalter|   Le Bouscat|Aquitaine-Limousi...|        France|Central|OFF-AP-10002330|Office Supplies|  Appliances|Hamilton Beach St...|2443.905|       5|     0.1|760.305|\n",
      "|    13|ES-2016-2510515|20/06/2016|20/06/2016|      Same Day|   LH-17155|Logan Haushalter|   Le Bouscat|Aquitaine-Limousi...|        France|Central|OFF-AR-10000505|Office Supplies|         Art|Binney & Smith Pe...|   12.21|       1|       0|      0|\n",
      "|    14|ES-2016-2510515|20/06/2016|20/06/2016|      Same Day|   LH-17155|Logan Haushalter|   Le Bouscat|Aquitaine-Limousi...|        France|Central|TEC-PH-10002898|     Technology|      Phones|Samsung Smart Pho...|2167.296|       4|    0.15|790.416|\n",
      "|    15|ES-2016-2510515|20/06/2016|20/06/2016|      Same Day|   LH-17155|Logan Haushalter|   Le Bouscat|Aquitaine-Limousi...|        France|Central|OFF-ST-10001413|Office Supplies|     Storage|Rogers Folders, Blue| 138.105|       5|     0.1|-12.345|\n",
      "|    16|ES-2017-4380115|16/02/2017|20/02/2017|Standard Class|   KC-16540| Kelly Collister|   Strasbourg|Alsace-Champagne-...|        France|Central|OFF-ST-10003931|Office Supplies|     Storage|Smead Trays, Wire...| 128.385|       3|     0.1|  4.275|\n",
      "|    17|ES-2017-4380115|16/02/2017|20/02/2017|Standard Class|   KC-16540| Kelly Collister|   Strasbourg|Alsace-Champagne-...|        France|Central|TEC-AC-10004269|     Technology| Accessories|Belkin Memory Car...|  690.12|       6|       0|      0|\n",
      "|    18|ES-2017-4380115|16/02/2017|20/02/2017|Standard Class|   KC-16540| Kelly Collister|   Strasbourg|Alsace-Champagne-...|        France|Central|OFF-LA-10001676|Office Supplies|      Labels|Hon Removable Lab...|    8.16|       1|       0|   1.14|\n",
      "|    19|ES-2018-2573330|03/11/2018|08/11/2018|Standard Class|   BF-11170|      Ben Ferrer|         Unna|North Rhine-Westp...|       Germany|Central|TEC-MA-10000811|     Technology|    Machines|Okidata Phone, Du...|  347.88|       4|       0|  76.44|\n",
      "|    20|ES-2018-2573330|03/11/2018|08/11/2018|Standard Class|   BF-11170|      Ben Ferrer|         Unna|North Rhine-Westp...|       Germany|Central|OFF-ST-10000648|Office Supplies|     Storage|Eldon File Cart, ...| 575.505|       5|     0.1| 12.705|\n",
      "+------+---------------+----------+----------+--------------+-----------+----------------+-------------+--------------------+--------------+-------+---------------+---------------+------------+--------------------+--------+--------+--------+-------+\n",
      "only showing top 20 rows\n",
      "\n"
     ]
    }
   ],
   "source": [
    "df.select(columns).show()"
   ]
  },
  {
   "cell_type": "code",
   "execution_count": 118,
   "id": "0539a600",
   "metadata": {
    "ExecuteTime": {
     "end_time": "2023-03-02T19:55:49.750230Z",
     "start_time": "2023-03-02T19:55:49.639232Z"
    }
   },
   "outputs": [
    {
     "name": "stdout",
     "output_type": "stream",
     "text": [
      "+------+---------------+----------+----------+--------------+-----------+----------------+-------------+--------------------+--------------+-------+---------------+---------------+------------+--------------------+--------+--------+--------+-------+\n",
      "|Row ID|       Order ID|Order Date| Ship Date|     Ship Mode|Customer ID|   Customer Name|         City|               State|       Country| Region|     Product ID|       Category|Sub-Category|        Product Name|   Sales|Quantity|Discount| Profit|\n",
      "+------+---------------+----------+----------+--------------+-----------+----------------+-------------+--------------------+--------------+-------+---------------+---------------+------------+--------------------+--------+--------+--------+-------+\n",
      "|     1|ES-2018-1311038|07/02/2018|11/02/2018|Standard Class|   AS-10045|  Aaron Smayling|        Leeds|             England|United Kingdom|  North|OFF-ST-10000988|Office Supplies|     Storage|Fellowes Folders,...|    79.2|       3|       0|   39.6|\n",
      "|     2|ES-2018-1311038|07/02/2018|11/02/2018|Standard Class|   AS-10045|  Aaron Smayling|        Leeds|             England|United Kingdom|  North|TEC-AC-10004144|     Technology| Accessories|SanDisk Numeric K...|  388.92|       7|       0|      0|\n",
      "|     3|ES-2018-1311038|07/02/2018|11/02/2018|Standard Class|   AS-10045|  Aaron Smayling|        Leeds|             England|United Kingdom|  North|OFF-LA-10001915|Office Supplies|      Labels|Avery Legal Exhib...|   35.19|       3|       0|  16.11|\n",
      "|     4|ES-2018-1311038|07/02/2018|11/02/2018|Standard Class|   AS-10045|  Aaron Smayling|        Leeds|             England|United Kingdom|  North|OFF-ST-10004550|Office Supplies|     Storage|Fellowes Folders,...|   50.94|       2|       0|   13.2|\n",
      "|     5|ES-2018-1311038|07/02/2018|11/02/2018|Standard Class|   AS-10045|  Aaron Smayling|        Leeds|             England|United Kingdom|  North|TEC-AC-10004068|     Technology| Accessories|Memorex Memory Ca...|  307.44|       3|       0|  73.71|\n",
      "|     6|ES-2018-1311038|07/02/2018|11/02/2018|Standard Class|   AS-10045|  Aaron Smayling|        Leeds|             England|United Kingdom|  North|OFF-ST-10002271|Office Supplies|     Storage|Rogers Shelving, ...|   122.4|       2|       0|  37.92|\n",
      "|     7|ES-2018-1311038|07/02/2018|11/02/2018|Standard Class|   AS-10045|  Aaron Smayling|        Leeds|             England|United Kingdom|  North|TEC-PH-10003963|     Technology|      Phones|Apple Signal Boos...|  413.82|       3|       0|  20.61|\n",
      "|     8|ES-2016-5113958|02/08/2016|07/08/2016|  Second Class|   EB-13840|   Ellis Ballard|West Bromwich|             England|United Kingdom|  North|TEC-CO-10004325|     Technology|     Copiers|Canon Personal Co...|  428.22|       3|       0| 192.69|\n",
      "|     9|ES-2016-5113958|02/08/2016|07/08/2016|  Second Class|   EB-13840|   Ellis Ballard|West Bromwich|             England|United Kingdom|  North|OFF-AP-10004512|Office Supplies|  Appliances|   Hoover Stove, Red| 3979.29|       7|       0|1989.54|\n",
      "|    10|ES-2016-5113958|02/08/2016|07/08/2016|  Second Class|   EB-13840|   Ellis Ballard|West Bromwich|             England|United Kingdom|  North|OFF-FA-10002393|Office Supplies|   Fasteners|Accos Push Pins, ...|   43.56|       3|       0|   12.6|\n",
      "|    11|ES-2016-2510515|20/06/2016|20/06/2016|      Same Day|   LH-17155|Logan Haushalter|   Le Bouscat|Aquitaine-Limousi...|        France|Central|OFF-LA-10002805|Office Supplies|      Labels|Hon Color Coded L...|   25.26|       2|       0|   0.48|\n",
      "|    12|ES-2016-2510515|20/06/2016|20/06/2016|      Same Day|   LH-17155|Logan Haushalter|   Le Bouscat|Aquitaine-Limousi...|        France|Central|OFF-AP-10002330|Office Supplies|  Appliances|Hamilton Beach St...|2443.905|       5|     0.1|760.305|\n",
      "|    13|ES-2016-2510515|20/06/2016|20/06/2016|      Same Day|   LH-17155|Logan Haushalter|   Le Bouscat|Aquitaine-Limousi...|        France|Central|OFF-AR-10000505|Office Supplies|         Art|Binney & Smith Pe...|   12.21|       1|       0|      0|\n",
      "|    14|ES-2016-2510515|20/06/2016|20/06/2016|      Same Day|   LH-17155|Logan Haushalter|   Le Bouscat|Aquitaine-Limousi...|        France|Central|TEC-PH-10002898|     Technology|      Phones|Samsung Smart Pho...|2167.296|       4|    0.15|790.416|\n",
      "|    15|ES-2016-2510515|20/06/2016|20/06/2016|      Same Day|   LH-17155|Logan Haushalter|   Le Bouscat|Aquitaine-Limousi...|        France|Central|OFF-ST-10001413|Office Supplies|     Storage|Rogers Folders, Blue| 138.105|       5|     0.1|-12.345|\n",
      "|    16|ES-2017-4380115|16/02/2017|20/02/2017|Standard Class|   KC-16540| Kelly Collister|   Strasbourg|Alsace-Champagne-...|        France|Central|OFF-ST-10003931|Office Supplies|     Storage|Smead Trays, Wire...| 128.385|       3|     0.1|  4.275|\n",
      "|    17|ES-2017-4380115|16/02/2017|20/02/2017|Standard Class|   KC-16540| Kelly Collister|   Strasbourg|Alsace-Champagne-...|        France|Central|TEC-AC-10004269|     Technology| Accessories|Belkin Memory Car...|  690.12|       6|       0|      0|\n",
      "|    18|ES-2017-4380115|16/02/2017|20/02/2017|Standard Class|   KC-16540| Kelly Collister|   Strasbourg|Alsace-Champagne-...|        France|Central|OFF-LA-10001676|Office Supplies|      Labels|Hon Removable Lab...|    8.16|       1|       0|   1.14|\n",
      "|    19|ES-2018-2573330|03/11/2018|08/11/2018|Standard Class|   BF-11170|      Ben Ferrer|         Unna|North Rhine-Westp...|       Germany|Central|TEC-MA-10000811|     Technology|    Machines|Okidata Phone, Du...|  347.88|       4|       0|  76.44|\n",
      "|    20|ES-2018-2573330|03/11/2018|08/11/2018|Standard Class|   BF-11170|      Ben Ferrer|         Unna|North Rhine-Westp...|       Germany|Central|OFF-ST-10000648|Office Supplies|     Storage|Eldon File Cart, ...| 575.505|       5|     0.1| 12.705|\n",
      "+------+---------------+----------+----------+--------------+-----------+----------------+-------------+--------------------+--------------+-------+---------------+---------------+------------+--------------------+--------+--------+--------+-------+\n",
      "only showing top 20 rows\n",
      "\n"
     ]
    }
   ],
   "source": [
    "df.select(df.columns).show()"
   ]
  },
  {
   "cell_type": "code",
   "execution_count": 120,
   "id": "3e111eba",
   "metadata": {
    "ExecuteTime": {
     "end_time": "2023-03-02T19:59:42.079696Z",
     "start_time": "2023-03-02T19:59:41.987195Z"
    }
   },
   "outputs": [
    {
     "name": "stdout",
     "output_type": "stream",
     "text": [
      "+------+---------------+----------+----------+\n",
      "|Row ID|       Order ID|Order Date| Ship Date|\n",
      "+------+---------------+----------+----------+\n",
      "|     1|ES-2018-1311038|07/02/2018|11/02/2018|\n",
      "|     2|ES-2018-1311038|07/02/2018|11/02/2018|\n",
      "|     3|ES-2018-1311038|07/02/2018|11/02/2018|\n",
      "|     4|ES-2018-1311038|07/02/2018|11/02/2018|\n",
      "|     5|ES-2018-1311038|07/02/2018|11/02/2018|\n",
      "|     6|ES-2018-1311038|07/02/2018|11/02/2018|\n",
      "|     7|ES-2018-1311038|07/02/2018|11/02/2018|\n",
      "|     8|ES-2016-5113958|02/08/2016|07/08/2016|\n",
      "|     9|ES-2016-5113958|02/08/2016|07/08/2016|\n",
      "|    10|ES-2016-5113958|02/08/2016|07/08/2016|\n",
      "|    11|ES-2016-2510515|20/06/2016|20/06/2016|\n",
      "|    12|ES-2016-2510515|20/06/2016|20/06/2016|\n",
      "|    13|ES-2016-2510515|20/06/2016|20/06/2016|\n",
      "|    14|ES-2016-2510515|20/06/2016|20/06/2016|\n",
      "|    15|ES-2016-2510515|20/06/2016|20/06/2016|\n",
      "|    16|ES-2017-4380115|16/02/2017|20/02/2017|\n",
      "|    17|ES-2017-4380115|16/02/2017|20/02/2017|\n",
      "|    18|ES-2017-4380115|16/02/2017|20/02/2017|\n",
      "|    19|ES-2018-2573330|03/11/2018|08/11/2018|\n",
      "|    20|ES-2018-2573330|03/11/2018|08/11/2018|\n",
      "+------+---------------+----------+----------+\n",
      "only showing top 20 rows\n",
      "\n"
     ]
    }
   ],
   "source": [
    "df.select(columns[:4]).show()"
   ]
  },
  {
   "cell_type": "code",
   "execution_count": 121,
   "id": "27ed69f6",
   "metadata": {
    "ExecuteTime": {
     "end_time": "2023-03-02T20:00:43.386994Z",
     "start_time": "2023-03-02T20:00:43.377994Z"
    }
   },
   "outputs": [
    {
     "data": {
      "text/plain": [
       "['Row ID',\n",
       " 'Order ID',\n",
       " 'Order Date',\n",
       " 'Ship Date',\n",
       " 'Ship Mode',\n",
       " 'Customer ID',\n",
       " 'Customer Name',\n",
       " 'City',\n",
       " 'State',\n",
       " 'Country',\n",
       " 'Region',\n",
       " 'Product ID',\n",
       " 'Category',\n",
       " 'Sub-Category',\n",
       " 'Product Name',\n",
       " 'Sales',\n",
       " 'Quantity',\n",
       " 'Discount',\n",
       " 'Profit']"
      ]
     },
     "execution_count": 121,
     "metadata": {},
     "output_type": "execute_result"
    }
   ],
   "source": [
    "#list comprehension - generating a list on the fly withina loop\n",
    "\n",
    "[col for col in columns]"
   ]
  },
  {
   "cell_type": "code",
   "execution_count": 122,
   "id": "167cc2be",
   "metadata": {
    "ExecuteTime": {
     "end_time": "2023-03-02T20:01:07.008054Z",
     "start_time": "2023-03-02T20:01:06.997056Z"
    }
   },
   "outputs": [
    {
     "data": {
      "text/plain": [
       "['Order Date', 'Ship Date']"
      ]
     },
     "execution_count": 122,
     "metadata": {},
     "output_type": "execute_result"
    }
   ],
   "source": [
    "[col for col in columns if \"Date\" in col]"
   ]
  },
  {
   "cell_type": "code",
   "execution_count": 137,
   "id": "2d5d2df5",
   "metadata": {
    "ExecuteTime": {
     "end_time": "2023-03-02T20:40:59.439031Z",
     "start_time": "2023-03-02T20:40:59.311943Z"
    }
   },
   "outputs": [
    {
     "name": "stdout",
     "output_type": "stream",
     "text": [
      "+----------------+--------------------+\n",
      "|   Customer Name|        Product Name|\n",
      "+----------------+--------------------+\n",
      "|  Aaron Smayling|Fellowes Folders,...|\n",
      "|  Aaron Smayling|SanDisk Numeric K...|\n",
      "|  Aaron Smayling|Avery Legal Exhib...|\n",
      "|  Aaron Smayling|Fellowes Folders,...|\n",
      "|  Aaron Smayling|Memorex Memory Ca...|\n",
      "|  Aaron Smayling|Rogers Shelving, ...|\n",
      "|  Aaron Smayling|Apple Signal Boos...|\n",
      "|   Ellis Ballard|Canon Personal Co...|\n",
      "|   Ellis Ballard|   Hoover Stove, Red|\n",
      "|   Ellis Ballard|Accos Push Pins, ...|\n",
      "|Logan Haushalter|Hon Color Coded L...|\n",
      "|Logan Haushalter|Hamilton Beach St...|\n",
      "|Logan Haushalter|Binney & Smith Pe...|\n",
      "|Logan Haushalter|Samsung Smart Pho...|\n",
      "|Logan Haushalter|Rogers Folders, Blue|\n",
      "| Kelly Collister|Smead Trays, Wire...|\n",
      "| Kelly Collister|Belkin Memory Car...|\n",
      "| Kelly Collister|Hon Removable Lab...|\n",
      "|      Ben Ferrer|Okidata Phone, Du...|\n",
      "|      Ben Ferrer|Eldon File Cart, ...|\n",
      "+----------------+--------------------+\n",
      "only showing top 20 rows\n",
      "\n"
     ]
    }
   ],
   "source": [
    "df.select([col for col in columns if 'Name' in col]).show()"
   ]
  },
  {
   "cell_type": "code",
   "execution_count": 135,
   "id": "f67af7c0",
   "metadata": {
    "ExecuteTime": {
     "end_time": "2023-03-02T20:03:28.390721Z",
     "start_time": "2023-03-02T20:03:28.318721Z"
    }
   },
   "outputs": [
    {
     "name": "stdout",
     "output_type": "stream",
     "text": [
      "+------+---------------+----------+----------+--------------+-----------+----------------+-------------+--------------------+--------------+-------+---------------+---------------+------------+--------------------+--------+--------+--------+-------+\n",
      "|Row ID|       Order ID|Order Date| Ship Date|     Ship Mode|Customer ID|   Customer Name|         City|               State|       Country| Region|     Product ID|       Category|Sub-Category|        Product Name|   Sales|Quantity|Discount| Profit|\n",
      "+------+---------------+----------+----------+--------------+-----------+----------------+-------------+--------------------+--------------+-------+---------------+---------------+------------+--------------------+--------+--------+--------+-------+\n",
      "|     1|ES-2018-1311038|07/02/2018|11/02/2018|Standard Class|   AS-10045|  Aaron Smayling|        Leeds|             England|United Kingdom|  North|OFF-ST-10000988|Office Supplies|     Storage|Fellowes Folders,...|    79.2|       3|       0|   39.6|\n",
      "|     2|ES-2018-1311038|07/02/2018|11/02/2018|Standard Class|   AS-10045|  Aaron Smayling|        Leeds|             England|United Kingdom|  North|TEC-AC-10004144|     Technology| Accessories|SanDisk Numeric K...|  388.92|       7|       0|      0|\n",
      "|     3|ES-2018-1311038|07/02/2018|11/02/2018|Standard Class|   AS-10045|  Aaron Smayling|        Leeds|             England|United Kingdom|  North|OFF-LA-10001915|Office Supplies|      Labels|Avery Legal Exhib...|   35.19|       3|       0|  16.11|\n",
      "|     4|ES-2018-1311038|07/02/2018|11/02/2018|Standard Class|   AS-10045|  Aaron Smayling|        Leeds|             England|United Kingdom|  North|OFF-ST-10004550|Office Supplies|     Storage|Fellowes Folders,...|   50.94|       2|       0|   13.2|\n",
      "|     5|ES-2018-1311038|07/02/2018|11/02/2018|Standard Class|   AS-10045|  Aaron Smayling|        Leeds|             England|United Kingdom|  North|TEC-AC-10004068|     Technology| Accessories|Memorex Memory Ca...|  307.44|       3|       0|  73.71|\n",
      "|     6|ES-2018-1311038|07/02/2018|11/02/2018|Standard Class|   AS-10045|  Aaron Smayling|        Leeds|             England|United Kingdom|  North|OFF-ST-10002271|Office Supplies|     Storage|Rogers Shelving, ...|   122.4|       2|       0|  37.92|\n",
      "|     7|ES-2018-1311038|07/02/2018|11/02/2018|Standard Class|   AS-10045|  Aaron Smayling|        Leeds|             England|United Kingdom|  North|TEC-PH-10003963|     Technology|      Phones|Apple Signal Boos...|  413.82|       3|       0|  20.61|\n",
      "|     8|ES-2016-5113958|02/08/2016|07/08/2016|  Second Class|   EB-13840|   Ellis Ballard|West Bromwich|             England|United Kingdom|  North|TEC-CO-10004325|     Technology|     Copiers|Canon Personal Co...|  428.22|       3|       0| 192.69|\n",
      "|     9|ES-2016-5113958|02/08/2016|07/08/2016|  Second Class|   EB-13840|   Ellis Ballard|West Bromwich|             England|United Kingdom|  North|OFF-AP-10004512|Office Supplies|  Appliances|   Hoover Stove, Red| 3979.29|       7|       0|1989.54|\n",
      "|    10|ES-2016-5113958|02/08/2016|07/08/2016|  Second Class|   EB-13840|   Ellis Ballard|West Bromwich|             England|United Kingdom|  North|OFF-FA-10002393|Office Supplies|   Fasteners|Accos Push Pins, ...|   43.56|       3|       0|   12.6|\n",
      "|    11|ES-2016-2510515|20/06/2016|20/06/2016|      Same Day|   LH-17155|Logan Haushalter|   Le Bouscat|Aquitaine-Limousi...|        France|Central|OFF-LA-10002805|Office Supplies|      Labels|Hon Color Coded L...|   25.26|       2|       0|   0.48|\n",
      "|    12|ES-2016-2510515|20/06/2016|20/06/2016|      Same Day|   LH-17155|Logan Haushalter|   Le Bouscat|Aquitaine-Limousi...|        France|Central|OFF-AP-10002330|Office Supplies|  Appliances|Hamilton Beach St...|2443.905|       5|     0.1|760.305|\n",
      "|    13|ES-2016-2510515|20/06/2016|20/06/2016|      Same Day|   LH-17155|Logan Haushalter|   Le Bouscat|Aquitaine-Limousi...|        France|Central|OFF-AR-10000505|Office Supplies|         Art|Binney & Smith Pe...|   12.21|       1|       0|      0|\n",
      "|    14|ES-2016-2510515|20/06/2016|20/06/2016|      Same Day|   LH-17155|Logan Haushalter|   Le Bouscat|Aquitaine-Limousi...|        France|Central|TEC-PH-10002898|     Technology|      Phones|Samsung Smart Pho...|2167.296|       4|    0.15|790.416|\n",
      "|    15|ES-2016-2510515|20/06/2016|20/06/2016|      Same Day|   LH-17155|Logan Haushalter|   Le Bouscat|Aquitaine-Limousi...|        France|Central|OFF-ST-10001413|Office Supplies|     Storage|Rogers Folders, Blue| 138.105|       5|     0.1|-12.345|\n",
      "|    16|ES-2017-4380115|16/02/2017|20/02/2017|Standard Class|   KC-16540| Kelly Collister|   Strasbourg|Alsace-Champagne-...|        France|Central|OFF-ST-10003931|Office Supplies|     Storage|Smead Trays, Wire...| 128.385|       3|     0.1|  4.275|\n",
      "|    17|ES-2017-4380115|16/02/2017|20/02/2017|Standard Class|   KC-16540| Kelly Collister|   Strasbourg|Alsace-Champagne-...|        France|Central|TEC-AC-10004269|     Technology| Accessories|Belkin Memory Car...|  690.12|       6|       0|      0|\n",
      "|    18|ES-2017-4380115|16/02/2017|20/02/2017|Standard Class|   KC-16540| Kelly Collister|   Strasbourg|Alsace-Champagne-...|        France|Central|OFF-LA-10001676|Office Supplies|      Labels|Hon Removable Lab...|    8.16|       1|       0|   1.14|\n",
      "|    19|ES-2018-2573330|03/11/2018|08/11/2018|Standard Class|   BF-11170|      Ben Ferrer|         Unna|North Rhine-Westp...|       Germany|Central|TEC-MA-10000811|     Technology|    Machines|Okidata Phone, Du...|  347.88|       4|       0|  76.44|\n",
      "|    20|ES-2018-2573330|03/11/2018|08/11/2018|Standard Class|   BF-11170|      Ben Ferrer|         Unna|North Rhine-Westp...|       Germany|Central|OFF-ST-10000648|Office Supplies|     Storage|Eldon File Cart, ...| 575.505|       5|     0.1| 12.705|\n",
      "+------+---------------+----------+----------+--------------+-----------+----------------+-------------+--------------------+--------------+-------+---------------+---------------+------------+--------------------+--------+--------+--------+-------+\n",
      "only showing top 20 rows\n",
      "\n"
     ]
    }
   ],
   "source": [
    "# we can also use Regex\n",
    "\n",
    "df.select(\"*\").show()"
   ]
  },
  {
   "cell_type": "code",
   "execution_count": 136,
   "id": "37b91700",
   "metadata": {
    "ExecuteTime": {
     "end_time": "2023-03-02T20:06:21.475297Z",
     "start_time": "2023-03-02T20:06:21.459299Z"
    }
   },
   "outputs": [
    {
     "data": {
      "text/plain": [
       "DataFrame[Row ID: string, Order ID: string, Order Date: string, Ship Date: string, Ship Mode: string, Customer ID: string, Customer Name: string, City: string, State: string, Country: string, Region: string, Product ID: string, Category: string, Sub-Category: string, Product Name: string, Sales: string, Quantity: string, Discount: string, Profit: string]"
      ]
     },
     "execution_count": 136,
     "metadata": {},
     "output_type": "execute_result"
    }
   ],
   "source": [
    "df"
   ]
  },
  {
   "cell_type": "code",
   "execution_count": 138,
   "id": "4cdf2dd4",
   "metadata": {
    "ExecuteTime": {
     "end_time": "2023-03-02T20:41:28.143876Z",
     "start_time": "2023-03-02T20:41:28.139877Z"
    }
   },
   "outputs": [],
   "source": [
    "# we want to get the unique values of a column"
   ]
  },
  {
   "cell_type": "code",
   "execution_count": 140,
   "id": "6157e6b5",
   "metadata": {
    "ExecuteTime": {
     "end_time": "2023-03-02T20:41:53.054395Z",
     "start_time": "2023-03-02T20:41:53.031393Z"
    }
   },
   "outputs": [
    {
     "data": {
      "text/plain": [
       "DataFrame[Country: string]"
      ]
     },
     "execution_count": 140,
     "metadata": {},
     "output_type": "execute_result"
    }
   ],
   "source": [
    "#lazy operation\n",
    "df.select(\"Country\").distinct()"
   ]
  },
  {
   "cell_type": "code",
   "execution_count": 143,
   "id": "36ff13d8",
   "metadata": {
    "ExecuteTime": {
     "end_time": "2023-03-02T20:42:51.763671Z",
     "start_time": "2023-03-02T20:42:51.557835Z"
    }
   },
   "outputs": [
    {
     "name": "stdout",
     "output_type": "stream",
     "text": [
      "+--------------+\n",
      "|       Country|\n",
      "+--------------+\n",
      "|        Sweden|\n",
      "|       Germany|\n",
      "|        France|\n",
      "|       Belgium|\n",
      "|       Finland|\n",
      "|         Italy|\n",
      "|        Norway|\n",
      "|         Spain|\n",
      "|       Denmark|\n",
      "|       Ireland|\n",
      "|   Switzerland|\n",
      "|      Portugal|\n",
      "|       Austria|\n",
      "|United Kingdom|\n",
      "|   Netherlands|\n",
      "+--------------+\n",
      "\n"
     ]
    }
   ],
   "source": [
    "#non-lazy operation\n",
    "df.select(\"Country\").distinct().show()"
   ]
  },
  {
   "cell_type": "code",
   "execution_count": 152,
   "id": "c2412fdc",
   "metadata": {
    "ExecuteTime": {
     "end_time": "2023-03-02T20:44:58.483026Z",
     "start_time": "2023-03-02T20:44:58.277443Z"
    }
   },
   "outputs": [
    {
     "name": "stdout",
     "output_type": "stream",
     "text": [
      "+--------------+\n",
      "|       Country|\n",
      "+--------------+\n",
      "|        Sweden|\n",
      "|       Germany|\n",
      "|        France|\n",
      "|       Belgium|\n",
      "|       Finland|\n",
      "|         Italy|\n",
      "|        Norway|\n",
      "|         Spain|\n",
      "|       Denmark|\n",
      "|       Ireland|\n",
      "|   Switzerland|\n",
      "|      Portugal|\n",
      "|       Austria|\n",
      "|United Kingdom|\n",
      "|   Netherlands|\n",
      "+--------------+\n",
      "\n"
     ]
    }
   ],
   "source": [
    "unique_countries = df.select(\"Country\").distinct().show()"
   ]
  },
  {
   "cell_type": "code",
   "execution_count": 154,
   "id": "4235e846",
   "metadata": {
    "ExecuteTime": {
     "end_time": "2023-03-02T20:45:17.804147Z",
     "start_time": "2023-03-02T20:45:17.800153Z"
    }
   },
   "outputs": [],
   "source": [
    "#show() is like print and returns None values\n",
    "unique_countries"
   ]
  },
  {
   "cell_type": "code",
   "execution_count": 155,
   "id": "87936486",
   "metadata": {
    "ExecuteTime": {
     "end_time": "2023-03-02T20:45:50.924108Z",
     "start_time": "2023-03-02T20:45:50.901123Z"
    }
   },
   "outputs": [],
   "source": [
    "unique_countries = df.select(\"Country\").distinct()"
   ]
  },
  {
   "cell_type": "code",
   "execution_count": 156,
   "id": "ec7f069d",
   "metadata": {
    "ExecuteTime": {
     "end_time": "2023-03-02T20:45:54.173160Z",
     "start_time": "2023-03-02T20:45:54.164160Z"
    }
   },
   "outputs": [
    {
     "data": {
      "text/plain": [
       "DataFrame[Country: string]"
      ]
     },
     "execution_count": 156,
     "metadata": {},
     "output_type": "execute_result"
    }
   ],
   "source": [
    "unique_countries"
   ]
  },
  {
   "cell_type": "code",
   "execution_count": 157,
   "id": "d55fd7e1",
   "metadata": {
    "ExecuteTime": {
     "end_time": "2023-03-02T20:46:03.199133Z",
     "start_time": "2023-03-02T20:46:03.021133Z"
    }
   },
   "outputs": [
    {
     "name": "stdout",
     "output_type": "stream",
     "text": [
      "+--------------+\n",
      "|       Country|\n",
      "+--------------+\n",
      "|        Sweden|\n",
      "|       Germany|\n",
      "|        France|\n",
      "|       Belgium|\n",
      "|       Finland|\n",
      "|         Italy|\n",
      "|        Norway|\n",
      "|         Spain|\n",
      "|       Denmark|\n",
      "|       Ireland|\n",
      "|   Switzerland|\n",
      "|      Portugal|\n",
      "|       Austria|\n",
      "|United Kingdom|\n",
      "|   Netherlands|\n",
      "+--------------+\n",
      "\n"
     ]
    }
   ],
   "source": [
    "unique_countries.show()"
   ]
  },
  {
   "cell_type": "code",
   "execution_count": 158,
   "id": "c312d3bb",
   "metadata": {
    "ExecuteTime": {
     "end_time": "2023-03-02T20:46:34.472036Z",
     "start_time": "2023-03-02T20:46:34.465048Z"
    }
   },
   "outputs": [
    {
     "data": {
      "text/plain": [
       "pyspark.sql.dataframe.DataFrame"
      ]
     },
     "execution_count": 158,
     "metadata": {},
     "output_type": "execute_result"
    }
   ],
   "source": [
    "type(unique_countries)"
   ]
  },
  {
   "cell_type": "code",
   "execution_count": 159,
   "id": "28623620",
   "metadata": {
    "ExecuteTime": {
     "end_time": "2023-03-02T20:46:54.604049Z",
     "start_time": "2023-03-02T20:46:54.387749Z"
    }
   },
   "outputs": [
    {
     "data": {
      "text/plain": [
       "15"
      ]
     },
     "execution_count": 159,
     "metadata": {},
     "output_type": "execute_result"
    }
   ],
   "source": [
    "unique_countries.count()"
   ]
  },
  {
   "cell_type": "code",
   "execution_count": 160,
   "id": "40f8cdad",
   "metadata": {
    "ExecuteTime": {
     "end_time": "2023-03-02T20:47:07.678277Z",
     "start_time": "2023-03-02T20:47:07.469184Z"
    }
   },
   "outputs": [
    {
     "data": {
      "text/plain": [
       "int"
      ]
     },
     "execution_count": 160,
     "metadata": {},
     "output_type": "execute_result"
    }
   ],
   "source": [
    "type(unique_countries.count())"
   ]
  },
  {
   "cell_type": "code",
   "execution_count": 296,
   "id": "501074ef",
   "metadata": {
    "ExecuteTime": {
     "end_time": "2023-03-02T21:46:55.649144Z",
     "start_time": "2023-03-02T21:46:55.370154Z"
    }
   },
   "outputs": [
    {
     "data": {
      "text/plain": [
       "3"
      ]
     },
     "execution_count": 296,
     "metadata": {},
     "output_type": "execute_result"
    }
   ],
   "source": [
    "# unique number of Segment\n",
    "df = spark.read.option(\"header\",\"true\").csv(\"C:/Users/mkaya/Downloads/Sample - EU Superstore.csv\")\n",
    "df.select(\"Segment\").distinct().count()"
   ]
  },
  {
   "cell_type": "code",
   "execution_count": 166,
   "id": "a657586b",
   "metadata": {
    "ExecuteTime": {
     "end_time": "2023-03-02T20:50:36.264016Z",
     "start_time": "2023-03-02T20:50:36.254497Z"
    }
   },
   "outputs": [
    {
     "data": {
      "text/plain": [
       "Column<'(Country = Portugal)'>"
      ]
     },
     "execution_count": 166,
     "metadata": {},
     "output_type": "execute_result"
    }
   ],
   "source": [
    "# how can we apply filtering conditions on our spark df\n",
    "\n",
    "df[\"Country\"] == \"Portugal\""
   ]
  },
  {
   "cell_type": "code",
   "execution_count": 175,
   "id": "58ec9634",
   "metadata": {
    "ExecuteTime": {
     "end_time": "2023-03-02T20:52:49.017992Z",
     "start_time": "2023-03-02T20:52:48.942498Z"
    }
   },
   "outputs": [
    {
     "name": "stdout",
     "output_type": "stream",
     "text": [
      "+--------------------+\n",
      "|(Country = Portugal)|\n",
      "+--------------------+\n",
      "|               false|\n",
      "|               false|\n",
      "|               false|\n",
      "|               false|\n",
      "|               false|\n",
      "|               false|\n",
      "|               false|\n",
      "|               false|\n",
      "|               false|\n",
      "|               false|\n",
      "|               false|\n",
      "|               false|\n",
      "|               false|\n",
      "|               false|\n",
      "|               false|\n",
      "|               false|\n",
      "|               false|\n",
      "|               false|\n",
      "|               false|\n",
      "|               false|\n",
      "+--------------------+\n",
      "only showing top 20 rows\n",
      "\n"
     ]
    }
   ],
   "source": [
    "df.select(df[\"Country\"] == \"Portugal\").show()"
   ]
  },
  {
   "cell_type": "code",
   "execution_count": 168,
   "id": "f3df33ff",
   "metadata": {
    "ExecuteTime": {
     "end_time": "2023-03-02T20:51:34.444541Z",
     "start_time": "2023-03-02T20:51:34.325892Z"
    }
   },
   "outputs": [
    {
     "name": "stdout",
     "output_type": "stream",
     "text": [
      "+------+---------------+----------+----------+--------------+-----------+-------------------+---------+--------+------+--------+------+---------------+---------------+------------+--------------------+-------+--------+--------+--------+\n",
      "|Row ID|       Order ID|Order Date| Ship Date|     Ship Mode|Customer ID|      Customer Name|  Segment|    City| State| Country|Region|     Product ID|       Category|Sub-Category|        Product Name|  Sales|Quantity|Discount|  Profit|\n",
      "+------+---------------+----------+----------+--------------+-----------+-------------------+---------+--------+------+--------+------+---------------+---------------+------------+--------------------+-------+--------+--------+--------+\n",
      "|   164|IT-2017-3695467|10/06/2017|14/06/2017|Standard Class|   SS-20140|   Saphhira Shifley|Corporate|  Lisbon|Lisboa|Portugal| South|OFF-AP-10001623|Office Supplies|  Appliances| Hoover Stove, White|3399.66|      12|     0.5|-3059.82|\n",
      "|   346|IT-2018-5630655|27/08/2018|03/09/2018|Standard Class|   ZC-21910|   Zuschuss Carroll| Consumer|  Lisbon|Lisboa|Portugal| South|OFF-PA-10001971|Office Supplies|       Paper|Eaton Memo Slips,...|  34.35|       5|     0.5|   -11.1|\n",
      "|   644|IT-2017-4007264|12/10/2017|16/10/2017|Standard Class|   JM-16195| Justin MacKendrick| Consumer|   Porto| Porto|Portugal| South|OFF-BI-10003650|Office Supplies|     Binders|Ibico Index Tab, ...|  17.82|       4|     0.5|  -11.46|\n",
      "|   666|IT-2016-2967452|22/08/2016|29/08/2016|Standard Class|   MW-18235|   Mitch Willingham|Corporate|   Porto| Porto|Portugal| South|OFF-ST-10002539|Office Supplies|     Storage|Fellowes Shelving...| 86.805|       3|     0.5| -41.715|\n",
      "|   667|IT-2016-2967452|22/08/2016|29/08/2016|Standard Class|   MW-18235|   Mitch Willingham|Corporate|   Porto| Porto|Portugal| South|TEC-CO-10002962|     Technology|     Copiers|Sharp Wireless Fa...| 178.68|       1|     0.5|  -60.78|\n",
      "|   873|IT-2018-2208571|26/12/2018|28/12/2018|   First Class|   MS-17365|Maribeth Schnelling| Consumer|  Lisbon|Lisboa|Portugal| South|OFF-BI-10000171|Office Supplies|     Binders|Wilson Jones Inde...|  20.43|       6|     0.5|   -9.09|\n",
      "|   874|IT-2018-2208571|26/12/2018|28/12/2018|   First Class|   MS-17365|Maribeth Schnelling| Consumer|  Lisbon|Lisboa|Portugal| South|TEC-CO-10002232|     Technology|     Copiers|       HP Ink, Laser| 321.75|       5|     0.5| -193.05|\n",
      "|  1188|IT-2016-2565333|07/03/2016|12/03/2016|  Second Class|   FA-14230|     Frank Atkinson|Corporate|Odivelas|Lisboa|Portugal| South|OFF-AR-10002094|Office Supplies|         Art|Boston Pencil Sha...|  29.22|       2|     0.5|  -21.66|\n",
      "|  1692|IT-2017-4281827|26/02/2017|01/03/2017|Standard Class|   AB-10600|          Ann Blume|Corporate| Amadora|Lisboa|Portugal| South|FUR-BO-10002892|      Furniture|   Bookcases|Safco Classic Boo...|1322.01|       6|     0.5| -317.43|\n",
      "|  1693|IT-2017-4281827|26/02/2017|01/03/2017|Standard Class|   AB-10600|          Ann Blume|Corporate| Amadora|Lisboa|Portugal| South|TEC-PH-10000037|     Technology|      Phones|Cisco Signal Boos...|  773.4|      10|     0.5|  -680.7|\n",
      "|  1694|IT-2017-4281827|26/02/2017|01/03/2017|Standard Class|   AB-10600|          Ann Blume|Corporate| Amadora|Lisboa|Portugal| South|FUR-FU-10000913|      Furniture| Furnishings|Rubbermaid Door S...|142.905|       7|     0.5|-105.945|\n",
      "|  2486|IT-2016-1941104|12/06/2016|16/06/2016|Standard Class|   PK-19075|          Pete Kriz| Consumer|   Feira|Aveiro|Portugal| South|TEC-PH-10003153|     Technology|      Phones|Samsung Signal Bo...|341.475|       5|     0.5|-341.475|\n",
      "|  2744|IT-2015-2421873|14/12/2015|19/12/2015|Standard Class|   LH-17155|   Logan Haushalter| Consumer| Amadora|Lisboa|Portugal| South|OFF-AR-10002805|Office Supplies|         Art|Boston Sketch Pad...|  121.5|       5|     0.5|   -17.1|\n",
      "|  2745|IT-2015-2421873|14/12/2015|19/12/2015|Standard Class|   LH-17155|   Logan Haushalter| Consumer| Amadora|Lisboa|Portugal| South|FUR-FU-10003069|      Furniture| Furnishings|Deflect-O Photo F...|122.325|       5|     0.5| -88.125|\n",
      "|  2746|IT-2015-2421873|14/12/2015|19/12/2015|Standard Class|   LH-17155|   Logan Haushalter| Consumer| Amadora|Lisboa|Portugal| South|FUR-BO-10001039|      Furniture|   Bookcases|Dania Classic Boo...| 410.76|       2|     0.5|  -57.54|\n",
      "|  2747|IT-2015-2421873|14/12/2015|19/12/2015|Standard Class|   LH-17155|   Logan Haushalter| Consumer| Amadora|Lisboa|Portugal| South|FUR-FU-10003540|      Furniture| Furnishings|Deflect-O Stackin...| 59.775|       5|     0.5| -26.325|\n",
      "|  2748|IT-2015-2421873|14/12/2015|19/12/2015|Standard Class|   LH-17155|   Logan Haushalter| Consumer| Amadora|Lisboa|Portugal| South|OFF-AR-10002156|Office Supplies|         Art|Stanley Highlight...|  36.75|       5|     0.5|  -22.05|\n",
      "|  2749|IT-2015-2421873|14/12/2015|19/12/2015|Standard Class|   LH-17155|   Logan Haushalter| Consumer| Amadora|Lisboa|Portugal| South|OFF-AP-10001178|Office Supplies|  Appliances|KitchenAid Stove,...|855.225|       3|     0.5|-376.335|\n",
      "|  2750|IT-2015-2421873|14/12/2015|19/12/2015|Standard Class|   LH-17155|   Logan Haushalter| Consumer| Amadora|Lisboa|Portugal| South|OFF-BI-10000171|Office Supplies|     Binders|Wilson Jones Inde...|   6.81|       2|     0.5|   -3.03|\n",
      "|  2760|IT-2017-3432584|10/12/2017|15/12/2017|Standard Class|   MY-17380|    Maribeth Yedwab|Corporate|  Lisbon|Lisboa|Portugal| South|OFF-AP-10001882|Office Supplies|  Appliances|Breville Coffee G...| 93.915|       3|     0.5| -18.855|\n",
      "+------+---------------+----------+----------+--------------+-----------+-------------------+---------+--------+------+--------+------+---------------+---------------+------------+--------------------+-------+--------+--------+--------+\n",
      "only showing top 20 rows\n",
      "\n"
     ]
    }
   ],
   "source": [
    "df.filter(df[\"Country\"] == \"Portugal\").show()"
   ]
  },
  {
   "cell_type": "code",
   "execution_count": 176,
   "id": "b4a037a9",
   "metadata": {
    "ExecuteTime": {
     "end_time": "2023-03-02T20:53:15.627734Z",
     "start_time": "2023-03-02T20:53:15.513736Z"
    }
   },
   "outputs": [
    {
     "data": {
      "text/plain": [
       "70"
      ]
     },
     "execution_count": 176,
     "metadata": {},
     "output_type": "execute_result"
    }
   ],
   "source": [
    "df.filter(df[\"Country\"] == \"Portugal\").count()"
   ]
  },
  {
   "cell_type": "markdown",
   "id": "821a8005",
   "metadata": {
    "ExecuteTime": {
     "end_time": "2023-03-02T21:27:20.924329Z",
     "start_time": "2023-03-02T21:27:20.915328Z"
    }
   },
   "source": [
    "# filtering options\n"
   ]
  },
  {
   "cell_type": "code",
   "execution_count": 182,
   "id": "d0bcdbcc",
   "metadata": {
    "ExecuteTime": {
     "end_time": "2023-03-02T20:55:32.826376Z",
     "start_time": "2023-03-02T20:55:32.722788Z"
    }
   },
   "outputs": [
    {
     "name": "stdout",
     "output_type": "stream",
     "text": [
      "+------+---------------+----------+----------+--------------+-----------+-----------------+-----------+-------------+-----------------+-------+------+---------------+---------------+------------+--------------------+-------+--------+--------+--------+\n",
      "|Row ID|       Order ID|Order Date| Ship Date|     Ship Mode|Customer ID|    Customer Name|    Segment|         City|            State|Country|Region|     Product ID|       Category|Sub-Category|        Product Name|  Sales|Quantity|Discount|  Profit|\n",
      "+------+---------------+----------+----------+--------------+-----------+-----------------+-----------+-------------+-----------------+-------+------+---------------+---------------+------------+--------------------+-------+--------+--------+--------+\n",
      "|    32|ES-2015-2801336|02/06/2015|06/06/2015|Standard Class|   DB-13270|Deborah Brumfield|Home Office|    Barcelona|        Catalonia|  Spain| South|OFF-BI-10002225|Office Supplies|     Binders|Cardinal Binding ...| 102.54|       2|       0|   35.88|\n",
      "|    35|ES-2017-4020783|25/11/2017|27/11/2017|  Second Class|   PN-18775|   Parhena Norris|Home Office|  Puertollano|Castile-La Mancha|  Spain| South|OFF-AR-10001228|Office Supplies|         Art|Stanley Markers, ...|  76.14|       3|       0|   25.11|\n",
      "|    55|ES-2018-1324878|03/07/2018|08/07/2018|Standard Class|   RR-19315|     Ralph Ritter|   Consumer|       Murcia|           Murcia|  Spain| South|FUR-BO-10003007|      Furniture|   Bookcases|Ikea Stackable Bo...| 854.28|       7|       0|  196.35|\n",
      "|    58|ES-2017-4122424|17/07/2017|20/07/2017|   First Class|   BE-11335|      Bill Eplett|Home Office|       Madrid|           Madrid|  Spain| South|OFF-AR-10001230|Office Supplies|         Art|Binney & Smith Ma...| 190.89|       7|       0|   32.34|\n",
      "|    59|ES-2017-4122424|17/07/2017|20/07/2017|   First Class|   BE-11335|      Bill Eplett|Home Office|       Madrid|           Madrid|  Spain| South|FUR-TA-10004544|      Furniture|      Tables|Chromcraft Coffee...|214.848|       2|     0.6|-247.092|\n",
      "|    79|ES-2018-3249626|10/07/2018|14/07/2018|Standard Class|   SV-20935|  Susan Vittorini|   Consumer|     Sabadell|        Catalonia|  Spain| South|OFF-SU-10004299|Office Supplies|    Supplies|Stiletto Trimmer,...|   85.5|       2|       0|   18.78|\n",
      "|   101|ES-2016-1530191|14/11/2016|16/11/2016|   First Class|   PB-18805|  Patrick Bzostek|Home Office|       Madrid|           Madrid|  Spain| South|OFF-BI-10004903|Office Supplies|     Binders|Ibico Hole Reinfo...|  25.47|       3|       0|    7.11|\n",
      "|   102|ES-2017-3971877|30/05/2017|02/06/2017|  Second Class|   KT-16465|    Kean Takahito|   Consumer|    Barcelona|        Catalonia|  Spain| South|OFF-AR-10004519|Office Supplies|         Art|Boston Canvas, Fl...|  164.7|       3|       0|   29.61|\n",
      "|   103|ES-2017-3971877|30/05/2017|02/06/2017|  Second Class|   KT-16465|    Kean Takahito|   Consumer|    Barcelona|        Catalonia|  Spain| South|OFF-BI-10001685|Office Supplies|     Binders|Avery Index Tab, ...|  20.07|       3|       0|    5.13|\n",
      "|   108|ES-2015-3805636|18/10/2015|25/10/2015|Standard Class|   GT-14710|        Greg Tran|   Consumer|    Barcelona|        Catalonia|  Spain| South|OFF-ST-10002608|Office Supplies|     Storage|Eldon Box, Indust...| 38.664|       4|     0.1|  11.544|\n",
      "|   109|ES-2015-3805636|18/10/2015|25/10/2015|Standard Class|   GT-14710|        Greg Tran|   Consumer|    Barcelona|        Catalonia|  Spain| South|FUR-BO-10004053|      Furniture|   Bookcases|Dania Library wit...| 723.72|       2|       0|  253.26|\n",
      "|   110|ES-2015-3805636|18/10/2015|25/10/2015|Standard Class|   GT-14710|        Greg Tran|   Consumer|    Barcelona|        Catalonia|  Spain| South|FUR-CH-10004462|      Furniture|      Chairs|Hon Executive Lea...|1838.52|       5|     0.2|  160.77|\n",
      "|   147|ES-2017-1621921|02/04/2017|03/04/2017|   First Class|   CM-11830|   Cari MacIntyre|  Corporate|Castelldefels|        Catalonia|  Spain| South|OFF-AR-10000823|Office Supplies|         Art|Stanley Pens, Wat...|  26.46|       2|       0|    8.46|\n",
      "|   148|ES-2017-1621921|02/04/2017|03/04/2017|   First Class|   CM-11830|   Cari MacIntyre|  Corporate|Castelldefels|        Catalonia|  Spain| South|OFF-AP-10003590|Office Supplies|  Appliances|KitchenAid Refrig...|2636.85|       5|       0|   949.2|\n",
      "|   149|ES-2017-1621921|02/04/2017|03/04/2017|   First Class|   CM-11830|   Cari MacIntyre|  Corporate|Castelldefels|        Catalonia|  Spain| South|OFF-PA-10001661|Office Supplies|       Paper|SanDisk Computer ...| 135.72|       4|       0|   14.88|\n",
      "|   150|ES-2017-1621921|02/04/2017|03/04/2017|   First Class|   CM-11830|   Cari MacIntyre|  Corporate|Castelldefels|        Catalonia|  Spain| South|OFF-PA-10002524|Office Supplies|       Paper|Enermax Note Card...| 227.28|       8|       0|   95.28|\n",
      "|   151|ES-2017-1621921|02/04/2017|03/04/2017|   First Class|   CM-11830|   Cari MacIntyre|  Corporate|Castelldefels|        Catalonia|  Spain| South|FUR-BO-10002926|      Furniture|   Bookcases|Bush Stackable Bo...| 370.53|       3|       0|   40.68|\n",
      "|   152|ES-2017-2926991|14/06/2017|21/06/2017|Standard Class|   SR-20740|    Steven Roelle|Home Office|       Madrid|           Madrid|  Spain| South|OFF-BI-10000179|Office Supplies|     Binders|Wilson Jones 3-Ho...|  83.97|       3|       0|   27.63|\n",
      "|   153|ES-2017-2926991|14/06/2017|21/06/2017|Standard Class|   SR-20740|    Steven Roelle|Home Office|       Madrid|           Madrid|  Spain| South|TEC-CO-10001926|     Technology|     Copiers|Hewlett Wireless ...| 760.38|       2|       0|  235.68|\n",
      "|   154|ES-2017-2926991|14/06/2017|21/06/2017|Standard Class|   SR-20740|    Steven Roelle|Home Office|       Madrid|           Madrid|  Spain| South|OFF-BI-10002128|Office Supplies|     Binders|Acco Binder Cover...|  44.46|       3|       0|   19.98|\n",
      "+------+---------------+----------+----------+--------------+-----------+-----------------+-----------+-------------+-----------------+-------+------+---------------+---------------+------------+--------------------+-------+--------+--------+--------+\n",
      "only showing top 20 rows\n",
      "\n"
     ]
    }
   ],
   "source": [
    "# isin and filter\n",
    "\n",
    "df[\"Country\"].isin([\"Portugal\", \"Spain\"])\n",
    "\n",
    "df.filter(df[\"Country\"].isin([\"Portugal\", \"Spain\"])).show()"
   ]
  },
  {
   "cell_type": "code",
   "execution_count": 188,
   "id": "9cfcb216",
   "metadata": {
    "ExecuteTime": {
     "end_time": "2023-03-02T20:57:16.570674Z",
     "start_time": "2023-03-02T20:57:16.551083Z"
    }
   },
   "outputs": [],
   "source": [
    "iberia_df = df.filter(df[\"Country\"].isin([\"Portugal\", \"Spain\"]))"
   ]
  },
  {
   "cell_type": "code",
   "execution_count": 191,
   "id": "2df3bcc3",
   "metadata": {
    "ExecuteTime": {
     "end_time": "2023-03-02T20:57:29.427730Z",
     "start_time": "2023-03-02T20:57:29.408731Z"
    }
   },
   "outputs": [
    {
     "data": {
      "text/plain": [
       "DataFrame[Row ID: string, Order ID: string, Order Date: string, Ship Date: string, Ship Mode: string, Customer ID: string, Customer Name: string, Segment: string, City: string, State: string, Country: string, Region: string, Product ID: string, Category: string, Sub-Category: string, Product Name: string, Sales: string, Quantity: string, Discount: string, Profit: string]"
      ]
     },
     "execution_count": 191,
     "metadata": {},
     "output_type": "execute_result"
    }
   ],
   "source": [
    "iberia_df"
   ]
  },
  {
   "cell_type": "code",
   "execution_count": 192,
   "id": "d648e55d",
   "metadata": {
    "ExecuteTime": {
     "end_time": "2023-03-02T20:57:34.133118Z",
     "start_time": "2023-03-02T20:57:34.065042Z"
    }
   },
   "outputs": [
    {
     "name": "stdout",
     "output_type": "stream",
     "text": [
      "+------+---------------+----------+----------+--------------+-----------+-----------------+-----------+-------------+-----------------+-------+------+---------------+---------------+------------+--------------------+-------+--------+--------+--------+\n",
      "|Row ID|       Order ID|Order Date| Ship Date|     Ship Mode|Customer ID|    Customer Name|    Segment|         City|            State|Country|Region|     Product ID|       Category|Sub-Category|        Product Name|  Sales|Quantity|Discount|  Profit|\n",
      "+------+---------------+----------+----------+--------------+-----------+-----------------+-----------+-------------+-----------------+-------+------+---------------+---------------+------------+--------------------+-------+--------+--------+--------+\n",
      "|    32|ES-2015-2801336|02/06/2015|06/06/2015|Standard Class|   DB-13270|Deborah Brumfield|Home Office|    Barcelona|        Catalonia|  Spain| South|OFF-BI-10002225|Office Supplies|     Binders|Cardinal Binding ...| 102.54|       2|       0|   35.88|\n",
      "|    35|ES-2017-4020783|25/11/2017|27/11/2017|  Second Class|   PN-18775|   Parhena Norris|Home Office|  Puertollano|Castile-La Mancha|  Spain| South|OFF-AR-10001228|Office Supplies|         Art|Stanley Markers, ...|  76.14|       3|       0|   25.11|\n",
      "|    55|ES-2018-1324878|03/07/2018|08/07/2018|Standard Class|   RR-19315|     Ralph Ritter|   Consumer|       Murcia|           Murcia|  Spain| South|FUR-BO-10003007|      Furniture|   Bookcases|Ikea Stackable Bo...| 854.28|       7|       0|  196.35|\n",
      "|    58|ES-2017-4122424|17/07/2017|20/07/2017|   First Class|   BE-11335|      Bill Eplett|Home Office|       Madrid|           Madrid|  Spain| South|OFF-AR-10001230|Office Supplies|         Art|Binney & Smith Ma...| 190.89|       7|       0|   32.34|\n",
      "|    59|ES-2017-4122424|17/07/2017|20/07/2017|   First Class|   BE-11335|      Bill Eplett|Home Office|       Madrid|           Madrid|  Spain| South|FUR-TA-10004544|      Furniture|      Tables|Chromcraft Coffee...|214.848|       2|     0.6|-247.092|\n",
      "|    79|ES-2018-3249626|10/07/2018|14/07/2018|Standard Class|   SV-20935|  Susan Vittorini|   Consumer|     Sabadell|        Catalonia|  Spain| South|OFF-SU-10004299|Office Supplies|    Supplies|Stiletto Trimmer,...|   85.5|       2|       0|   18.78|\n",
      "|   101|ES-2016-1530191|14/11/2016|16/11/2016|   First Class|   PB-18805|  Patrick Bzostek|Home Office|       Madrid|           Madrid|  Spain| South|OFF-BI-10004903|Office Supplies|     Binders|Ibico Hole Reinfo...|  25.47|       3|       0|    7.11|\n",
      "|   102|ES-2017-3971877|30/05/2017|02/06/2017|  Second Class|   KT-16465|    Kean Takahito|   Consumer|    Barcelona|        Catalonia|  Spain| South|OFF-AR-10004519|Office Supplies|         Art|Boston Canvas, Fl...|  164.7|       3|       0|   29.61|\n",
      "|   103|ES-2017-3971877|30/05/2017|02/06/2017|  Second Class|   KT-16465|    Kean Takahito|   Consumer|    Barcelona|        Catalonia|  Spain| South|OFF-BI-10001685|Office Supplies|     Binders|Avery Index Tab, ...|  20.07|       3|       0|    5.13|\n",
      "|   108|ES-2015-3805636|18/10/2015|25/10/2015|Standard Class|   GT-14710|        Greg Tran|   Consumer|    Barcelona|        Catalonia|  Spain| South|OFF-ST-10002608|Office Supplies|     Storage|Eldon Box, Indust...| 38.664|       4|     0.1|  11.544|\n",
      "|   109|ES-2015-3805636|18/10/2015|25/10/2015|Standard Class|   GT-14710|        Greg Tran|   Consumer|    Barcelona|        Catalonia|  Spain| South|FUR-BO-10004053|      Furniture|   Bookcases|Dania Library wit...| 723.72|       2|       0|  253.26|\n",
      "|   110|ES-2015-3805636|18/10/2015|25/10/2015|Standard Class|   GT-14710|        Greg Tran|   Consumer|    Barcelona|        Catalonia|  Spain| South|FUR-CH-10004462|      Furniture|      Chairs|Hon Executive Lea...|1838.52|       5|     0.2|  160.77|\n",
      "|   147|ES-2017-1621921|02/04/2017|03/04/2017|   First Class|   CM-11830|   Cari MacIntyre|  Corporate|Castelldefels|        Catalonia|  Spain| South|OFF-AR-10000823|Office Supplies|         Art|Stanley Pens, Wat...|  26.46|       2|       0|    8.46|\n",
      "|   148|ES-2017-1621921|02/04/2017|03/04/2017|   First Class|   CM-11830|   Cari MacIntyre|  Corporate|Castelldefels|        Catalonia|  Spain| South|OFF-AP-10003590|Office Supplies|  Appliances|KitchenAid Refrig...|2636.85|       5|       0|   949.2|\n",
      "|   149|ES-2017-1621921|02/04/2017|03/04/2017|   First Class|   CM-11830|   Cari MacIntyre|  Corporate|Castelldefels|        Catalonia|  Spain| South|OFF-PA-10001661|Office Supplies|       Paper|SanDisk Computer ...| 135.72|       4|       0|   14.88|\n",
      "|   150|ES-2017-1621921|02/04/2017|03/04/2017|   First Class|   CM-11830|   Cari MacIntyre|  Corporate|Castelldefels|        Catalonia|  Spain| South|OFF-PA-10002524|Office Supplies|       Paper|Enermax Note Card...| 227.28|       8|       0|   95.28|\n",
      "|   151|ES-2017-1621921|02/04/2017|03/04/2017|   First Class|   CM-11830|   Cari MacIntyre|  Corporate|Castelldefels|        Catalonia|  Spain| South|FUR-BO-10002926|      Furniture|   Bookcases|Bush Stackable Bo...| 370.53|       3|       0|   40.68|\n",
      "|   152|ES-2017-2926991|14/06/2017|21/06/2017|Standard Class|   SR-20740|    Steven Roelle|Home Office|       Madrid|           Madrid|  Spain| South|OFF-BI-10000179|Office Supplies|     Binders|Wilson Jones 3-Ho...|  83.97|       3|       0|   27.63|\n",
      "|   153|ES-2017-2926991|14/06/2017|21/06/2017|Standard Class|   SR-20740|    Steven Roelle|Home Office|       Madrid|           Madrid|  Spain| South|TEC-CO-10001926|     Technology|     Copiers|Hewlett Wireless ...| 760.38|       2|       0|  235.68|\n",
      "|   154|ES-2017-2926991|14/06/2017|21/06/2017|Standard Class|   SR-20740|    Steven Roelle|Home Office|       Madrid|           Madrid|  Spain| South|OFF-BI-10002128|Office Supplies|     Binders|Acco Binder Cover...|  44.46|       3|       0|   19.98|\n",
      "+------+---------------+----------+----------+--------------+-----------+-----------------+-----------+-------------+-----------------+-------+------+---------------+---------------+------------+--------------------+-------+--------+--------+--------+\n",
      "only showing top 20 rows\n",
      "\n"
     ]
    }
   ],
   "source": [
    "iberia_df.show()"
   ]
  },
  {
   "cell_type": "code",
   "execution_count": 194,
   "id": "92921d12",
   "metadata": {
    "ExecuteTime": {
     "end_time": "2023-03-02T20:57:43.512228Z",
     "start_time": "2023-03-02T20:57:43.410716Z"
    }
   },
   "outputs": [
    {
     "data": {
      "text/plain": [
       "929"
      ]
     },
     "execution_count": 194,
     "metadata": {},
     "output_type": "execute_result"
    }
   ],
   "source": [
    "iberia_df.count()"
   ]
  },
  {
   "cell_type": "markdown",
   "id": "8513b1be",
   "metadata": {
    "ExecuteTime": {
     "end_time": "2023-03-02T21:06:30.095356Z",
     "start_time": "2023-03-02T21:06:30.083358Z"
    }
   },
   "source": [
    "# and , or conditions\n",
    "\n"
   ]
  },
  {
   "cell_type": "code",
   "execution_count": 209,
   "id": "229cb93f",
   "metadata": {
    "ExecuteTime": {
     "end_time": "2023-03-02T21:10:57.965919Z",
     "start_time": "2023-03-02T21:10:57.891926Z"
    },
    "scrolled": true
   },
   "outputs": [
    {
     "name": "stdout",
     "output_type": "stream",
     "text": [
      "+------+---------------+----------+----------+--------------+-----------+-----------------+-----------+-------------+-----------------+-------+------+---------------+---------------+------------+--------------------+-------+--------+--------+--------+\n",
      "|Row ID|       Order ID|Order Date| Ship Date|     Ship Mode|Customer ID|    Customer Name|    Segment|         City|            State|Country|Region|     Product ID|       Category|Sub-Category|        Product Name|  Sales|Quantity|Discount|  Profit|\n",
      "+------+---------------+----------+----------+--------------+-----------+-----------------+-----------+-------------+-----------------+-------+------+---------------+---------------+------------+--------------------+-------+--------+--------+--------+\n",
      "|    32|ES-2015-2801336|02/06/2015|06/06/2015|Standard Class|   DB-13270|Deborah Brumfield|Home Office|    Barcelona|        Catalonia|  Spain| South|OFF-BI-10002225|Office Supplies|     Binders|Cardinal Binding ...| 102.54|       2|       0|   35.88|\n",
      "|    35|ES-2017-4020783|25/11/2017|27/11/2017|  Second Class|   PN-18775|   Parhena Norris|Home Office|  Puertollano|Castile-La Mancha|  Spain| South|OFF-AR-10001228|Office Supplies|         Art|Stanley Markers, ...|  76.14|       3|       0|   25.11|\n",
      "|    55|ES-2018-1324878|03/07/2018|08/07/2018|Standard Class|   RR-19315|     Ralph Ritter|   Consumer|       Murcia|           Murcia|  Spain| South|FUR-BO-10003007|      Furniture|   Bookcases|Ikea Stackable Bo...| 854.28|       7|       0|  196.35|\n",
      "|    58|ES-2017-4122424|17/07/2017|20/07/2017|   First Class|   BE-11335|      Bill Eplett|Home Office|       Madrid|           Madrid|  Spain| South|OFF-AR-10001230|Office Supplies|         Art|Binney & Smith Ma...| 190.89|       7|       0|   32.34|\n",
      "|    59|ES-2017-4122424|17/07/2017|20/07/2017|   First Class|   BE-11335|      Bill Eplett|Home Office|       Madrid|           Madrid|  Spain| South|FUR-TA-10004544|      Furniture|      Tables|Chromcraft Coffee...|214.848|       2|     0.6|-247.092|\n",
      "|    79|ES-2018-3249626|10/07/2018|14/07/2018|Standard Class|   SV-20935|  Susan Vittorini|   Consumer|     Sabadell|        Catalonia|  Spain| South|OFF-SU-10004299|Office Supplies|    Supplies|Stiletto Trimmer,...|   85.5|       2|       0|   18.78|\n",
      "|   101|ES-2016-1530191|14/11/2016|16/11/2016|   First Class|   PB-18805|  Patrick Bzostek|Home Office|       Madrid|           Madrid|  Spain| South|OFF-BI-10004903|Office Supplies|     Binders|Ibico Hole Reinfo...|  25.47|       3|       0|    7.11|\n",
      "|   102|ES-2017-3971877|30/05/2017|02/06/2017|  Second Class|   KT-16465|    Kean Takahito|   Consumer|    Barcelona|        Catalonia|  Spain| South|OFF-AR-10004519|Office Supplies|         Art|Boston Canvas, Fl...|  164.7|       3|       0|   29.61|\n",
      "|   103|ES-2017-3971877|30/05/2017|02/06/2017|  Second Class|   KT-16465|    Kean Takahito|   Consumer|    Barcelona|        Catalonia|  Spain| South|OFF-BI-10001685|Office Supplies|     Binders|Avery Index Tab, ...|  20.07|       3|       0|    5.13|\n",
      "|   108|ES-2015-3805636|18/10/2015|25/10/2015|Standard Class|   GT-14710|        Greg Tran|   Consumer|    Barcelona|        Catalonia|  Spain| South|OFF-ST-10002608|Office Supplies|     Storage|Eldon Box, Indust...| 38.664|       4|     0.1|  11.544|\n",
      "|   109|ES-2015-3805636|18/10/2015|25/10/2015|Standard Class|   GT-14710|        Greg Tran|   Consumer|    Barcelona|        Catalonia|  Spain| South|FUR-BO-10004053|      Furniture|   Bookcases|Dania Library wit...| 723.72|       2|       0|  253.26|\n",
      "|   110|ES-2015-3805636|18/10/2015|25/10/2015|Standard Class|   GT-14710|        Greg Tran|   Consumer|    Barcelona|        Catalonia|  Spain| South|FUR-CH-10004462|      Furniture|      Chairs|Hon Executive Lea...|1838.52|       5|     0.2|  160.77|\n",
      "|   147|ES-2017-1621921|02/04/2017|03/04/2017|   First Class|   CM-11830|   Cari MacIntyre|  Corporate|Castelldefels|        Catalonia|  Spain| South|OFF-AR-10000823|Office Supplies|         Art|Stanley Pens, Wat...|  26.46|       2|       0|    8.46|\n",
      "|   148|ES-2017-1621921|02/04/2017|03/04/2017|   First Class|   CM-11830|   Cari MacIntyre|  Corporate|Castelldefels|        Catalonia|  Spain| South|OFF-AP-10003590|Office Supplies|  Appliances|KitchenAid Refrig...|2636.85|       5|       0|   949.2|\n",
      "|   149|ES-2017-1621921|02/04/2017|03/04/2017|   First Class|   CM-11830|   Cari MacIntyre|  Corporate|Castelldefels|        Catalonia|  Spain| South|OFF-PA-10001661|Office Supplies|       Paper|SanDisk Computer ...| 135.72|       4|       0|   14.88|\n",
      "|   150|ES-2017-1621921|02/04/2017|03/04/2017|   First Class|   CM-11830|   Cari MacIntyre|  Corporate|Castelldefels|        Catalonia|  Spain| South|OFF-PA-10002524|Office Supplies|       Paper|Enermax Note Card...| 227.28|       8|       0|   95.28|\n",
      "|   151|ES-2017-1621921|02/04/2017|03/04/2017|   First Class|   CM-11830|   Cari MacIntyre|  Corporate|Castelldefels|        Catalonia|  Spain| South|FUR-BO-10002926|      Furniture|   Bookcases|Bush Stackable Bo...| 370.53|       3|       0|   40.68|\n",
      "|   152|ES-2017-2926991|14/06/2017|21/06/2017|Standard Class|   SR-20740|    Steven Roelle|Home Office|       Madrid|           Madrid|  Spain| South|OFF-BI-10000179|Office Supplies|     Binders|Wilson Jones 3-Ho...|  83.97|       3|       0|   27.63|\n",
      "|   153|ES-2017-2926991|14/06/2017|21/06/2017|Standard Class|   SR-20740|    Steven Roelle|Home Office|       Madrid|           Madrid|  Spain| South|TEC-CO-10001926|     Technology|     Copiers|Hewlett Wireless ...| 760.38|       2|       0|  235.68|\n",
      "|   154|ES-2017-2926991|14/06/2017|21/06/2017|Standard Class|   SR-20740|    Steven Roelle|Home Office|       Madrid|           Madrid|  Spain| South|OFF-BI-10002128|Office Supplies|     Binders|Acco Binder Cover...|  44.46|       3|       0|   19.98|\n",
      "+------+---------------+----------+----------+--------------+-----------+-----------------+-----------+-------------+-----------------+-------+------+---------------+---------------+------------+--------------------+-------+--------+--------+--------+\n",
      "only showing top 20 rows\n",
      "\n"
     ]
    }
   ],
   "source": [
    "(df[\"Country\"] == \"Portugal\")\n",
    "(df[\"Country\"] == \"Spain\")\n",
    "df.filter((df[\"Country\"] == \"Portugal\") | (df[\"Country\"] == \"Spain\")).show()"
   ]
  },
  {
   "cell_type": "code",
   "execution_count": 210,
   "id": "f14145a3",
   "metadata": {
    "ExecuteTime": {
     "end_time": "2023-03-02T21:11:03.265328Z",
     "start_time": "2023-03-02T21:11:03.171328Z"
    }
   },
   "outputs": [
    {
     "name": "stdout",
     "output_type": "stream",
     "text": [
      "+------+--------+----------+---------+---------+-----------+-------------+-------+----+-----+-------+------+----------+--------+------------+------------+-----+--------+--------+------+\n",
      "|Row ID|Order ID|Order Date|Ship Date|Ship Mode|Customer ID|Customer Name|Segment|City|State|Country|Region|Product ID|Category|Sub-Category|Product Name|Sales|Quantity|Discount|Profit|\n",
      "+------+--------+----------+---------+---------+-----------+-------------+-------+----+-----+-------+------+----------+--------+------------+------------+-----+--------+--------+------+\n",
      "+------+--------+----------+---------+---------+-----------+-------------+-------+----+-----+-------+------+----------+--------+------------+------------+-----+--------+--------+------+\n",
      "\n"
     ]
    }
   ],
   "source": [
    "df.filter((df[\"Country\"] == \"Portugal\")  & (df[\"Country\"] == \"Spain\")).show()"
   ]
  },
  {
   "cell_type": "code",
   "execution_count": 230,
   "id": "068f8d72",
   "metadata": {
    "ExecuteTime": {
     "end_time": "2023-03-02T21:15:51.728884Z",
     "start_time": "2023-03-02T21:15:51.646884Z"
    }
   },
   "outputs": [
    {
     "name": "stdout",
     "output_type": "stream",
     "text": [
      "+------+---------------+----------+----------+--------------+-----------+-----------------+-----------+-------------+-----------------+-------+------+---------------+---------------+------------+--------------------+-------+--------+--------+--------+\n",
      "|Row ID|       Order ID|Order Date| Ship Date|     Ship Mode|Customer ID|    Customer Name|    Segment|         City|            State|Country|Region|     Product ID|       Category|Sub-Category|        Product Name|  Sales|Quantity|Discount|  Profit|\n",
      "+------+---------------+----------+----------+--------------+-----------+-----------------+-----------+-------------+-----------------+-------+------+---------------+---------------+------------+--------------------+-------+--------+--------+--------+\n",
      "|    32|ES-2015-2801336|02/06/2015|06/06/2015|Standard Class|   DB-13270|Deborah Brumfield|Home Office|    Barcelona|        Catalonia|  Spain| South|OFF-BI-10002225|Office Supplies|     Binders|Cardinal Binding ...| 102.54|       2|       0|   35.88|\n",
      "|    35|ES-2017-4020783|25/11/2017|27/11/2017|  Second Class|   PN-18775|   Parhena Norris|Home Office|  Puertollano|Castile-La Mancha|  Spain| South|OFF-AR-10001228|Office Supplies|         Art|Stanley Markers, ...|  76.14|       3|       0|   25.11|\n",
      "|    55|ES-2018-1324878|03/07/2018|08/07/2018|Standard Class|   RR-19315|     Ralph Ritter|   Consumer|       Murcia|           Murcia|  Spain| South|FUR-BO-10003007|      Furniture|   Bookcases|Ikea Stackable Bo...| 854.28|       7|       0|  196.35|\n",
      "|    58|ES-2017-4122424|17/07/2017|20/07/2017|   First Class|   BE-11335|      Bill Eplett|Home Office|       Madrid|           Madrid|  Spain| South|OFF-AR-10001230|Office Supplies|         Art|Binney & Smith Ma...| 190.89|       7|       0|   32.34|\n",
      "|    59|ES-2017-4122424|17/07/2017|20/07/2017|   First Class|   BE-11335|      Bill Eplett|Home Office|       Madrid|           Madrid|  Spain| South|FUR-TA-10004544|      Furniture|      Tables|Chromcraft Coffee...|214.848|       2|     0.6|-247.092|\n",
      "|    79|ES-2018-3249626|10/07/2018|14/07/2018|Standard Class|   SV-20935|  Susan Vittorini|   Consumer|     Sabadell|        Catalonia|  Spain| South|OFF-SU-10004299|Office Supplies|    Supplies|Stiletto Trimmer,...|   85.5|       2|       0|   18.78|\n",
      "|   101|ES-2016-1530191|14/11/2016|16/11/2016|   First Class|   PB-18805|  Patrick Bzostek|Home Office|       Madrid|           Madrid|  Spain| South|OFF-BI-10004903|Office Supplies|     Binders|Ibico Hole Reinfo...|  25.47|       3|       0|    7.11|\n",
      "|   102|ES-2017-3971877|30/05/2017|02/06/2017|  Second Class|   KT-16465|    Kean Takahito|   Consumer|    Barcelona|        Catalonia|  Spain| South|OFF-AR-10004519|Office Supplies|         Art|Boston Canvas, Fl...|  164.7|       3|       0|   29.61|\n",
      "|   103|ES-2017-3971877|30/05/2017|02/06/2017|  Second Class|   KT-16465|    Kean Takahito|   Consumer|    Barcelona|        Catalonia|  Spain| South|OFF-BI-10001685|Office Supplies|     Binders|Avery Index Tab, ...|  20.07|       3|       0|    5.13|\n",
      "|   108|ES-2015-3805636|18/10/2015|25/10/2015|Standard Class|   GT-14710|        Greg Tran|   Consumer|    Barcelona|        Catalonia|  Spain| South|OFF-ST-10002608|Office Supplies|     Storage|Eldon Box, Indust...| 38.664|       4|     0.1|  11.544|\n",
      "|   109|ES-2015-3805636|18/10/2015|25/10/2015|Standard Class|   GT-14710|        Greg Tran|   Consumer|    Barcelona|        Catalonia|  Spain| South|FUR-BO-10004053|      Furniture|   Bookcases|Dania Library wit...| 723.72|       2|       0|  253.26|\n",
      "|   110|ES-2015-3805636|18/10/2015|25/10/2015|Standard Class|   GT-14710|        Greg Tran|   Consumer|    Barcelona|        Catalonia|  Spain| South|FUR-CH-10004462|      Furniture|      Chairs|Hon Executive Lea...|1838.52|       5|     0.2|  160.77|\n",
      "|   147|ES-2017-1621921|02/04/2017|03/04/2017|   First Class|   CM-11830|   Cari MacIntyre|  Corporate|Castelldefels|        Catalonia|  Spain| South|OFF-AR-10000823|Office Supplies|         Art|Stanley Pens, Wat...|  26.46|       2|       0|    8.46|\n",
      "|   148|ES-2017-1621921|02/04/2017|03/04/2017|   First Class|   CM-11830|   Cari MacIntyre|  Corporate|Castelldefels|        Catalonia|  Spain| South|OFF-AP-10003590|Office Supplies|  Appliances|KitchenAid Refrig...|2636.85|       5|       0|   949.2|\n",
      "|   149|ES-2017-1621921|02/04/2017|03/04/2017|   First Class|   CM-11830|   Cari MacIntyre|  Corporate|Castelldefels|        Catalonia|  Spain| South|OFF-PA-10001661|Office Supplies|       Paper|SanDisk Computer ...| 135.72|       4|       0|   14.88|\n",
      "|   150|ES-2017-1621921|02/04/2017|03/04/2017|   First Class|   CM-11830|   Cari MacIntyre|  Corporate|Castelldefels|        Catalonia|  Spain| South|OFF-PA-10002524|Office Supplies|       Paper|Enermax Note Card...| 227.28|       8|       0|   95.28|\n",
      "|   151|ES-2017-1621921|02/04/2017|03/04/2017|   First Class|   CM-11830|   Cari MacIntyre|  Corporate|Castelldefels|        Catalonia|  Spain| South|FUR-BO-10002926|      Furniture|   Bookcases|Bush Stackable Bo...| 370.53|       3|       0|   40.68|\n",
      "|   152|ES-2017-2926991|14/06/2017|21/06/2017|Standard Class|   SR-20740|    Steven Roelle|Home Office|       Madrid|           Madrid|  Spain| South|OFF-BI-10000179|Office Supplies|     Binders|Wilson Jones 3-Ho...|  83.97|       3|       0|   27.63|\n",
      "|   153|ES-2017-2926991|14/06/2017|21/06/2017|Standard Class|   SR-20740|    Steven Roelle|Home Office|       Madrid|           Madrid|  Spain| South|TEC-CO-10001926|     Technology|     Copiers|Hewlett Wireless ...| 760.38|       2|       0|  235.68|\n",
      "|   154|ES-2017-2926991|14/06/2017|21/06/2017|Standard Class|   SR-20740|    Steven Roelle|Home Office|       Madrid|           Madrid|  Spain| South|OFF-BI-10002128|Office Supplies|     Binders|Acco Binder Cover...|  44.46|       3|       0|   19.98|\n",
      "+------+---------------+----------+----------+--------------+-----------+-----------------+-----------+-------------+-----------------+-------+------+---------------+---------------+------------+--------------------+-------+--------+--------+--------+\n",
      "only showing top 20 rows\n",
      "\n"
     ]
    }
   ],
   "source": [
    "# When we filter by only one column, isin works pretty well.\n",
    "\n",
    "df.filter(df[\"Country\"].isin([\"Portugal\", \"Spain\"])).show()"
   ]
  },
  {
   "cell_type": "code",
   "execution_count": 231,
   "id": "539159d8",
   "metadata": {
    "ExecuteTime": {
     "end_time": "2023-03-02T21:16:22.254047Z",
     "start_time": "2023-03-02T21:16:22.156059Z"
    }
   },
   "outputs": [
    {
     "data": {
      "text/plain": [
       "929"
      ]
     },
     "execution_count": 231,
     "metadata": {},
     "output_type": "execute_result"
    }
   ],
   "source": [
    "df.filter(df[\"Country\"].isin([\"Portugal\", \"Spain\"])).count()"
   ]
  },
  {
   "cell_type": "code",
   "execution_count": 232,
   "id": "35306454",
   "metadata": {
    "ExecuteTime": {
     "end_time": "2023-03-02T21:17:57.119968Z",
     "start_time": "2023-03-02T21:17:57.037968Z"
    }
   },
   "outputs": [
    {
     "name": "stdout",
     "output_type": "stream",
     "text": [
      "+------+---------------+----------+----------+--------------+-----------+----------------+---------+--------+-------+--------+------+---------------+---------------+------------+--------------------+-------+--------+--------+--------+\n",
      "|Row ID|       Order ID|Order Date| Ship Date|     Ship Mode|Customer ID|   Customer Name|  Segment|    City|  State| Country|Region|     Product ID|       Category|Sub-Category|        Product Name|  Sales|Quantity|Discount|  Profit|\n",
      "+------+---------------+----------+----------+--------------+-----------+----------------+---------+--------+-------+--------+------+---------------+---------------+------------+--------------------+-------+--------+--------+--------+\n",
      "|   164|IT-2017-3695467|10/06/2017|14/06/2017|Standard Class|   SS-20140|Saphhira Shifley|Corporate|  Lisbon| Lisboa|Portugal| South|OFF-AP-10001623|Office Supplies|  Appliances| Hoover Stove, White|3399.66|      12|     0.5|-3059.82|\n",
      "|   666|IT-2016-2967452|22/08/2016|29/08/2016|Standard Class|   MW-18235|Mitch Willingham|Corporate|   Porto|  Porto|Portugal| South|OFF-ST-10002539|Office Supplies|     Storage|Fellowes Shelving...| 86.805|       3|     0.5| -41.715|\n",
      "|   667|IT-2016-2967452|22/08/2016|29/08/2016|Standard Class|   MW-18235|Mitch Willingham|Corporate|   Porto|  Porto|Portugal| South|TEC-CO-10002962|     Technology|     Copiers|Sharp Wireless Fa...| 178.68|       1|     0.5|  -60.78|\n",
      "|  1188|IT-2016-2565333|07/03/2016|12/03/2016|  Second Class|   FA-14230|  Frank Atkinson|Corporate|Odivelas| Lisboa|Portugal| South|OFF-AR-10002094|Office Supplies|         Art|Boston Pencil Sha...|  29.22|       2|     0.5|  -21.66|\n",
      "|  1692|IT-2017-4281827|26/02/2017|01/03/2017|Standard Class|   AB-10600|       Ann Blume|Corporate| Amadora| Lisboa|Portugal| South|FUR-BO-10002892|      Furniture|   Bookcases|Safco Classic Boo...|1322.01|       6|     0.5| -317.43|\n",
      "|  1693|IT-2017-4281827|26/02/2017|01/03/2017|Standard Class|   AB-10600|       Ann Blume|Corporate| Amadora| Lisboa|Portugal| South|TEC-PH-10000037|     Technology|      Phones|Cisco Signal Boos...|  773.4|      10|     0.5|  -680.7|\n",
      "|  1694|IT-2017-4281827|26/02/2017|01/03/2017|Standard Class|   AB-10600|       Ann Blume|Corporate| Amadora| Lisboa|Portugal| South|FUR-FU-10000913|      Furniture| Furnishings|Rubbermaid Door S...|142.905|       7|     0.5|-105.945|\n",
      "|  2760|IT-2017-3432584|10/12/2017|15/12/2017|Standard Class|   MY-17380| Maribeth Yedwab|Corporate|  Lisbon| Lisboa|Portugal| South|OFF-AP-10001882|Office Supplies|  Appliances|Breville Coffee G...| 93.915|       3|     0.5| -18.855|\n",
      "|  3011|IT-2018-5319822|12/11/2018|16/11/2018|Standard Class|   LC-16930|  Linda Cazamias|Corporate|   Porto|  Porto|Portugal| South|TEC-AC-10002738|     Technology| Accessories|Belkin Memory Car...|174.465|       3|     0.5| -69.795|\n",
      "|  3012|IT-2018-5319822|12/11/2018|16/11/2018|Standard Class|   LC-16930|  Linda Cazamias|Corporate|   Porto|  Porto|Portugal| South|OFF-BI-10000440|Office Supplies|     Binders|Acco Index Tab, E...|   25.2|       5|     0.5|    -2.1|\n",
      "|  3218|IT-2016-5223020|26/11/2016|02/12/2016|Standard Class|   BB-11545|   Brenda Bowman|Corporate|  Lisbon| Lisboa|Portugal| South|OFF-BI-10003397|Office Supplies|     Binders|Avery 3-Hole Punc...|  27.87|       2|     0.5|   -0.03|\n",
      "|  3219|IT-2016-5223020|26/11/2016|02/12/2016|Standard Class|   BB-11545|   Brenda Bowman|Corporate|  Lisbon| Lisboa|Portugal| South|OFF-BI-10001621|Office Supplies|     Binders|Cardinal Binding ...| 149.31|       6|     0.5|  -65.79|\n",
      "|  3220|IT-2016-5223020|26/11/2016|02/12/2016|Standard Class|   BB-11545|   Brenda Bowman|Corporate|  Lisbon| Lisboa|Portugal| South|OFF-EN-10001854|Office Supplies|   Envelopes|Jiffy Business En...|   45.9|       5|     0.5|   -29.4|\n",
      "|  4634|IT-2018-2211383|30/04/2018|04/05/2018|Standard Class|   LW-16825|  Laurel Workman|Corporate|  Lisbon| Lisboa|Portugal| South|OFF-BI-10003281|Office Supplies|     Binders|Ibico Binder, Rec...|   39.6|       5|     0.5|   -33.3|\n",
      "|  4728|IT-2015-1716540|10/04/2015|12/04/2015|  Second Class|   CS-12490|Cindy Schnelling|Corporate| Coimbra|Coimbra|Portugal| South|OFF-AR-10001599|Office Supplies|         Art|Binney & Smith Ca...| 205.44|       8|     0.5| -127.44|\n",
      "|  4729|IT-2015-1716540|10/04/2015|12/04/2015|  Second Class|   CS-12490|Cindy Schnelling|Corporate| Coimbra|Coimbra|Portugal| South|OFF-EN-10002013|Office Supplies|   Envelopes|Cameo Business En...|  16.95|       2|     0.5|   -4.77|\n",
      "|  5249|IT-2018-4365710|17/11/2018|21/11/2018|Standard Class|   NS-18640|    Noel Staavos|Corporate|   Braga|  Braga|Portugal| South|OFF-ST-10000872|Office Supplies|     Storage|Fellowes File Car...| 274.68|       4|     0.5| -274.68|\n",
      "|  5933|IT-2015-4233239|26/01/2015|30/01/2015|Standard Class|   AR-10405|Allen Rosenblatt|Corporate|  Lisbon| Lisboa|Portugal| South|TEC-CO-10001926|     Technology|     Copiers|Hewlett Wireless ...|570.285|       3|     0.5|-216.765|\n",
      "|  6820|IT-2015-5643162|10/05/2015|13/05/2015|   First Class|   KH-16690|Kristen Hastings|Corporate|   Porto|  Porto|Portugal| South|FUR-FU-10004095|      Furniture| Furnishings|Eldon Frame, Durable| 169.92|       3|     0.5|  -81.63|\n",
      "|  9251|IT-2018-3830887|02/12/2018|09/12/2018|Standard Class|   AR-10345|    Alex Russell|Corporate| Amadora| Lisboa|Portugal| South|TEC-AC-10002670|     Technology| Accessories|Logitech Mouse, E...|121.905|       9|     0.5| -66.015|\n",
      "+------+---------------+----------+----------+--------------+-----------+----------------+---------+--------+-------+--------+------+---------------+---------------+------------+--------------------+-------+--------+--------+--------+\n",
      "only showing top 20 rows\n",
      "\n"
     ]
    }
   ],
   "source": [
    "#But when we work on multiple columns, we should express them all individually\n",
    "\n",
    "df.filter((df[\"Segment\"] == \"Corporate\") & (df[\"Country\"] == \"Portugal\")).show()"
   ]
  },
  {
   "cell_type": "code",
   "execution_count": 236,
   "id": "e86665fb",
   "metadata": {
    "ExecuteTime": {
     "end_time": "2023-03-02T21:19:20.949015Z",
     "start_time": "2023-03-02T21:19:20.865148Z"
    }
   },
   "outputs": [
    {
     "data": {
      "text/plain": [
       "269"
      ]
     },
     "execution_count": 236,
     "metadata": {},
     "output_type": "execute_result"
    }
   ],
   "source": [
    "df.filter((df[\"Segment\"] == \"Corporate\") & (df[\"Country\"] == \"Spain\")).count()"
   ]
  },
  {
   "cell_type": "code",
   "execution_count": 237,
   "id": "6be1eece",
   "metadata": {
    "ExecuteTime": {
     "end_time": "2023-03-02T21:20:18.311020Z",
     "start_time": "2023-03-02T21:20:18.304020Z"
    }
   },
   "outputs": [
    {
     "data": {
      "text/plain": [
       "pyspark.sql.column.Column"
      ]
     },
     "execution_count": 237,
     "metadata": {},
     "output_type": "execute_result"
    }
   ],
   "source": [
    "type(df[\"Profit\"])"
   ]
  },
  {
   "cell_type": "code",
   "execution_count": 247,
   "id": "39b216de",
   "metadata": {
    "ExecuteTime": {
     "end_time": "2023-03-02T21:23:11.305267Z",
     "start_time": "2023-03-02T21:23:11.212272Z"
    }
   },
   "outputs": [
    {
     "data": {
      "text/plain": [
       "1992"
      ]
     },
     "execution_count": 247,
     "metadata": {},
     "output_type": "execute_result"
    }
   ],
   "source": [
    "df.filter(df[\"Profit\"] < 0).count()"
   ]
  },
  {
   "cell_type": "code",
   "execution_count": 256,
   "id": "2651726d",
   "metadata": {
    "ExecuteTime": {
     "end_time": "2023-03-02T21:28:58.936556Z",
     "start_time": "2023-03-02T21:28:58.838568Z"
    }
   },
   "outputs": [
    {
     "data": {
      "text/plain": [
       "151"
      ]
     },
     "execution_count": 256,
     "metadata": {},
     "output_type": "execute_result"
    }
   ],
   "source": [
    "df.filter((df[\"Profit\"] < 0) & ((df[\"Country\"] == \"Portugal\") | (df[\"Country\"] == \"Spain\"))).count()"
   ]
  },
  {
   "cell_type": "code",
   "execution_count": 257,
   "id": "f54ca01f",
   "metadata": {
    "ExecuteTime": {
     "end_time": "2023-03-02T21:29:03.401185Z",
     "start_time": "2023-03-02T21:29:03.303193Z"
    }
   },
   "outputs": [
    {
     "data": {
      "text/plain": [
       "151"
      ]
     },
     "execution_count": 257,
     "metadata": {},
     "output_type": "execute_result"
    }
   ],
   "source": [
    "df.filter((df[\"Profit\"] < 0) & (df[\"Country\"].isin(\"Portugal\", \"Spain\"))).count()"
   ]
  },
  {
   "cell_type": "markdown",
   "id": "e8aea65c",
   "metadata": {},
   "source": [
    "# create new columns"
   ]
  },
  {
   "cell_type": "code",
   "execution_count": 263,
   "id": "b200e6c2",
   "metadata": {
    "ExecuteTime": {
     "end_time": "2023-03-02T21:31:40.574296Z",
     "start_time": "2023-03-02T21:31:40.562286Z"
    }
   },
   "outputs": [
    {
     "data": {
      "text/plain": [
       "DataFrame[Row ID: string, Order ID: string, Order Date: string, Ship Date: string, Ship Mode: string, Customer ID: string, Customer Name: string, Segment: string, City: string, State: string, Country: string, Region: string, Product ID: string, Category: string, Sub-Category: string, Product Name: string, Sales: string, Quantity: string, Discount: string, Profit: string, Cost: double]"
      ]
     },
     "execution_count": 263,
     "metadata": {},
     "output_type": "execute_result"
    }
   ],
   "source": [
    "#withColumn method declares a new column\n",
    "\n",
    "df.withColumn(\"Cost\", df[\"Sales\"] - df[\"Profit\"])"
   ]
  },
  {
   "cell_type": "code",
   "execution_count": 261,
   "id": "ccb2b909",
   "metadata": {
    "ExecuteTime": {
     "end_time": "2023-03-02T21:31:09.606108Z",
     "start_time": "2023-03-02T21:31:09.590098Z"
    }
   },
   "outputs": [
    {
     "data": {
      "text/plain": [
       "['Row ID',\n",
       " 'Order ID',\n",
       " 'Order Date',\n",
       " 'Ship Date',\n",
       " 'Ship Mode',\n",
       " 'Customer ID',\n",
       " 'Customer Name',\n",
       " 'Segment',\n",
       " 'City',\n",
       " 'State',\n",
       " 'Country',\n",
       " 'Region',\n",
       " 'Product ID',\n",
       " 'Category',\n",
       " 'Sub-Category',\n",
       " 'Product Name',\n",
       " 'Sales',\n",
       " 'Quantity',\n",
       " 'Discount',\n",
       " 'Profit']"
      ]
     },
     "execution_count": 261,
     "metadata": {},
     "output_type": "execute_result"
    }
   ],
   "source": [
    "# cost is not here\n",
    "\n",
    "df.columns"
   ]
  },
  {
   "cell_type": "code",
   "execution_count": 264,
   "id": "a78bf760",
   "metadata": {
    "ExecuteTime": {
     "end_time": "2023-03-02T21:32:01.023441Z",
     "start_time": "2023-03-02T21:32:00.964776Z"
    },
    "scrolled": true
   },
   "outputs": [
    {
     "name": "stdout",
     "output_type": "stream",
     "text": [
      "+------+---------------+----------+----------+--------------+-----------+----------------+-----------+-------------+--------------------+--------------+-------+---------------+---------------+------------+--------------------+--------+--------+--------+-------+\n",
      "|Row ID|       Order ID|Order Date| Ship Date|     Ship Mode|Customer ID|   Customer Name|    Segment|         City|               State|       Country| Region|     Product ID|       Category|Sub-Category|        Product Name|   Sales|Quantity|Discount| Profit|\n",
      "+------+---------------+----------+----------+--------------+-----------+----------------+-----------+-------------+--------------------+--------------+-------+---------------+---------------+------------+--------------------+--------+--------+--------+-------+\n",
      "|     1|ES-2018-1311038|07/02/2018|11/02/2018|Standard Class|   AS-10045|  Aaron Smayling|  Corporate|        Leeds|             England|United Kingdom|  North|OFF-ST-10000988|Office Supplies|     Storage|Fellowes Folders,...|    79.2|       3|       0|   39.6|\n",
      "|     2|ES-2018-1311038|07/02/2018|11/02/2018|Standard Class|   AS-10045|  Aaron Smayling|  Corporate|        Leeds|             England|United Kingdom|  North|TEC-AC-10004144|     Technology| Accessories|SanDisk Numeric K...|  388.92|       7|       0|      0|\n",
      "|     3|ES-2018-1311038|07/02/2018|11/02/2018|Standard Class|   AS-10045|  Aaron Smayling|  Corporate|        Leeds|             England|United Kingdom|  North|OFF-LA-10001915|Office Supplies|      Labels|Avery Legal Exhib...|   35.19|       3|       0|  16.11|\n",
      "|     4|ES-2018-1311038|07/02/2018|11/02/2018|Standard Class|   AS-10045|  Aaron Smayling|  Corporate|        Leeds|             England|United Kingdom|  North|OFF-ST-10004550|Office Supplies|     Storage|Fellowes Folders,...|   50.94|       2|       0|   13.2|\n",
      "|     5|ES-2018-1311038|07/02/2018|11/02/2018|Standard Class|   AS-10045|  Aaron Smayling|  Corporate|        Leeds|             England|United Kingdom|  North|TEC-AC-10004068|     Technology| Accessories|Memorex Memory Ca...|  307.44|       3|       0|  73.71|\n",
      "|     6|ES-2018-1311038|07/02/2018|11/02/2018|Standard Class|   AS-10045|  Aaron Smayling|  Corporate|        Leeds|             England|United Kingdom|  North|OFF-ST-10002271|Office Supplies|     Storage|Rogers Shelving, ...|   122.4|       2|       0|  37.92|\n",
      "|     7|ES-2018-1311038|07/02/2018|11/02/2018|Standard Class|   AS-10045|  Aaron Smayling|  Corporate|        Leeds|             England|United Kingdom|  North|TEC-PH-10003963|     Technology|      Phones|Apple Signal Boos...|  413.82|       3|       0|  20.61|\n",
      "|     8|ES-2016-5113958|02/08/2016|07/08/2016|  Second Class|   EB-13840|   Ellis Ballard|  Corporate|West Bromwich|             England|United Kingdom|  North|TEC-CO-10004325|     Technology|     Copiers|Canon Personal Co...|  428.22|       3|       0| 192.69|\n",
      "|     9|ES-2016-5113958|02/08/2016|07/08/2016|  Second Class|   EB-13840|   Ellis Ballard|  Corporate|West Bromwich|             England|United Kingdom|  North|OFF-AP-10004512|Office Supplies|  Appliances|   Hoover Stove, Red| 3979.29|       7|       0|1989.54|\n",
      "|    10|ES-2016-5113958|02/08/2016|07/08/2016|  Second Class|   EB-13840|   Ellis Ballard|  Corporate|West Bromwich|             England|United Kingdom|  North|OFF-FA-10002393|Office Supplies|   Fasteners|Accos Push Pins, ...|   43.56|       3|       0|   12.6|\n",
      "|    11|ES-2016-2510515|20/06/2016|20/06/2016|      Same Day|   LH-17155|Logan Haushalter|   Consumer|   Le Bouscat|Aquitaine-Limousi...|        France|Central|OFF-LA-10002805|Office Supplies|      Labels|Hon Color Coded L...|   25.26|       2|       0|   0.48|\n",
      "|    12|ES-2016-2510515|20/06/2016|20/06/2016|      Same Day|   LH-17155|Logan Haushalter|   Consumer|   Le Bouscat|Aquitaine-Limousi...|        France|Central|OFF-AP-10002330|Office Supplies|  Appliances|Hamilton Beach St...|2443.905|       5|     0.1|760.305|\n",
      "|    13|ES-2016-2510515|20/06/2016|20/06/2016|      Same Day|   LH-17155|Logan Haushalter|   Consumer|   Le Bouscat|Aquitaine-Limousi...|        France|Central|OFF-AR-10000505|Office Supplies|         Art|Binney & Smith Pe...|   12.21|       1|       0|      0|\n",
      "|    14|ES-2016-2510515|20/06/2016|20/06/2016|      Same Day|   LH-17155|Logan Haushalter|   Consumer|   Le Bouscat|Aquitaine-Limousi...|        France|Central|TEC-PH-10002898|     Technology|      Phones|Samsung Smart Pho...|2167.296|       4|    0.15|790.416|\n",
      "|    15|ES-2016-2510515|20/06/2016|20/06/2016|      Same Day|   LH-17155|Logan Haushalter|   Consumer|   Le Bouscat|Aquitaine-Limousi...|        France|Central|OFF-ST-10001413|Office Supplies|     Storage|Rogers Folders, Blue| 138.105|       5|     0.1|-12.345|\n",
      "|    16|ES-2017-4380115|16/02/2017|20/02/2017|Standard Class|   KC-16540| Kelly Collister|   Consumer|   Strasbourg|Alsace-Champagne-...|        France|Central|OFF-ST-10003931|Office Supplies|     Storage|Smead Trays, Wire...| 128.385|       3|     0.1|  4.275|\n",
      "|    17|ES-2017-4380115|16/02/2017|20/02/2017|Standard Class|   KC-16540| Kelly Collister|   Consumer|   Strasbourg|Alsace-Champagne-...|        France|Central|TEC-AC-10004269|     Technology| Accessories|Belkin Memory Car...|  690.12|       6|       0|      0|\n",
      "|    18|ES-2017-4380115|16/02/2017|20/02/2017|Standard Class|   KC-16540| Kelly Collister|   Consumer|   Strasbourg|Alsace-Champagne-...|        France|Central|OFF-LA-10001676|Office Supplies|      Labels|Hon Removable Lab...|    8.16|       1|       0|   1.14|\n",
      "|    19|ES-2018-2573330|03/11/2018|08/11/2018|Standard Class|   BF-11170|      Ben Ferrer|Home Office|         Unna|North Rhine-Westp...|       Germany|Central|TEC-MA-10000811|     Technology|    Machines|Okidata Phone, Du...|  347.88|       4|       0|  76.44|\n",
      "|    20|ES-2018-2573330|03/11/2018|08/11/2018|Standard Class|   BF-11170|      Ben Ferrer|Home Office|         Unna|North Rhine-Westp...|       Germany|Central|OFF-ST-10000648|Office Supplies|     Storage|Eldon File Cart, ...| 575.505|       5|     0.1| 12.705|\n",
      "+------+---------------+----------+----------+--------------+-----------+----------------+-----------+-------------+--------------------+--------------+-------+---------------+---------------+------------+--------------------+--------+--------+--------+-------+\n",
      "only showing top 20 rows\n",
      "\n"
     ]
    }
   ],
   "source": [
    "df.show()"
   ]
  },
  {
   "cell_type": "code",
   "execution_count": 297,
   "id": "c9c7fe2c",
   "metadata": {
    "ExecuteTime": {
     "end_time": "2023-03-02T21:47:05.975234Z",
     "start_time": "2023-03-02T21:47:05.963236Z"
    }
   },
   "outputs": [],
   "source": [
    "df = df.withColumn(\"Cost\", df[\"Sales\"] - df[\"Profit\"])"
   ]
  },
  {
   "cell_type": "code",
   "execution_count": 268,
   "id": "b5ed7d49",
   "metadata": {
    "ExecuteTime": {
     "end_time": "2023-03-02T21:32:58.309121Z",
     "start_time": "2023-03-02T21:32:58.299112Z"
    }
   },
   "outputs": [
    {
     "data": {
      "text/plain": [
       "['Row ID',\n",
       " 'Order ID',\n",
       " 'Order Date',\n",
       " 'Ship Date',\n",
       " 'Ship Mode',\n",
       " 'Customer ID',\n",
       " 'Customer Name',\n",
       " 'Segment',\n",
       " 'City',\n",
       " 'State',\n",
       " 'Country',\n",
       " 'Region',\n",
       " 'Product ID',\n",
       " 'Category',\n",
       " 'Sub-Category',\n",
       " 'Product Name',\n",
       " 'Sales',\n",
       " 'Quantity',\n",
       " 'Discount',\n",
       " 'Profit',\n",
       " 'Cost']"
      ]
     },
     "execution_count": 268,
     "metadata": {},
     "output_type": "execute_result"
    }
   ],
   "source": [
    "df.columns"
   ]
  },
  {
   "cell_type": "code",
   "execution_count": 275,
   "id": "0bab52b6",
   "metadata": {
    "ExecuteTime": {
     "end_time": "2023-03-02T21:34:49.977195Z",
     "start_time": "2023-03-02T21:34:49.969193Z"
    }
   },
   "outputs": [
    {
     "ename": "TypeError",
     "evalue": "'Column' object is not callable",
     "output_type": "error",
     "traceback": [
      "\u001b[1;31m---------------------------------------------------------------------------\u001b[0m",
      "\u001b[1;31mTypeError\u001b[0m                                 Traceback (most recent call last)",
      "\u001b[1;32m~\\AppData\\Local\\Temp\\ipykernel_18920\\1177048276.py\u001b[0m in \u001b[0;36m<module>\u001b[1;34m\u001b[0m\n\u001b[1;32m----> 1\u001b[1;33m \u001b[0mdf\u001b[0m\u001b[1;33m[\u001b[0m\u001b[1;34m\"Cost\"\u001b[0m\u001b[1;33m]\u001b[0m\u001b[1;33m.\u001b[0m\u001b[0mshow\u001b[0m\u001b[1;33m(\u001b[0m\u001b[1;33m)\u001b[0m\u001b[1;33m\u001b[0m\u001b[1;33m\u001b[0m\u001b[0m\n\u001b[0m",
      "\u001b[1;31mTypeError\u001b[0m: 'Column' object is not callable"
     ]
    }
   ],
   "source": [
    "df[\"Cost\"].show()"
   ]
  },
  {
   "cell_type": "code",
   "execution_count": 277,
   "id": "245fc597",
   "metadata": {
    "ExecuteTime": {
     "end_time": "2023-03-02T21:34:59.500911Z",
     "start_time": "2023-03-02T21:34:59.433914Z"
    }
   },
   "outputs": [
    {
     "name": "stdout",
     "output_type": "stream",
     "text": [
      "+------------------+\n",
      "|              Cost|\n",
      "+------------------+\n",
      "|              39.6|\n",
      "|            388.92|\n",
      "|             19.08|\n",
      "|37.739999999999995|\n",
      "|233.73000000000002|\n",
      "|             84.48|\n",
      "|            393.21|\n",
      "|235.53000000000003|\n",
      "|           1989.75|\n",
      "|             30.96|\n",
      "|             24.78|\n",
      "|1683.6000000000004|\n",
      "|             12.21|\n",
      "|1376.8799999999997|\n",
      "|            150.45|\n",
      "|124.10999999999999|\n",
      "|            690.12|\n",
      "|7.0200000000000005|\n",
      "|            271.44|\n",
      "|             562.8|\n",
      "+------------------+\n",
      "only showing top 20 rows\n",
      "\n"
     ]
    }
   ],
   "source": [
    "df.select(\"Cost\").show()"
   ]
  },
  {
   "cell_type": "code",
   "execution_count": 279,
   "id": "462986b3",
   "metadata": {
    "ExecuteTime": {
     "end_time": "2023-03-02T21:35:30.389745Z",
     "start_time": "2023-03-02T21:35:30.325785Z"
    }
   },
   "outputs": [
    {
     "name": "stdout",
     "output_type": "stream",
     "text": [
      "+------------------+--------+-------+\n",
      "|              Cost|   Sales| Profit|\n",
      "+------------------+--------+-------+\n",
      "|              39.6|    79.2|   39.6|\n",
      "|            388.92|  388.92|      0|\n",
      "|             19.08|   35.19|  16.11|\n",
      "|37.739999999999995|   50.94|   13.2|\n",
      "|233.73000000000002|  307.44|  73.71|\n",
      "|             84.48|   122.4|  37.92|\n",
      "|            393.21|  413.82|  20.61|\n",
      "|235.53000000000003|  428.22| 192.69|\n",
      "|           1989.75| 3979.29|1989.54|\n",
      "|             30.96|   43.56|   12.6|\n",
      "|             24.78|   25.26|   0.48|\n",
      "|1683.6000000000004|2443.905|760.305|\n",
      "|             12.21|   12.21|      0|\n",
      "|1376.8799999999997|2167.296|790.416|\n",
      "|            150.45| 138.105|-12.345|\n",
      "|124.10999999999999| 128.385|  4.275|\n",
      "|            690.12|  690.12|      0|\n",
      "|7.0200000000000005|    8.16|   1.14|\n",
      "|            271.44|  347.88|  76.44|\n",
      "|             562.8| 575.505| 12.705|\n",
      "+------------------+--------+-------+\n",
      "only showing top 20 rows\n",
      "\n"
     ]
    }
   ],
   "source": [
    "df.select(\"Cost\", \"Sales\", \"Profit\").show()"
   ]
  },
  {
   "cell_type": "code",
   "execution_count": 280,
   "id": "9299273d",
   "metadata": {
    "ExecuteTime": {
     "end_time": "2023-03-02T21:36:15.542302Z",
     "start_time": "2023-03-02T21:36:15.532301Z"
    }
   },
   "outputs": [],
   "source": [
    "# bring everything together -> create a new column with these conditional statements\n",
    "\n"
   ]
  },
  {
   "cell_type": "code",
   "execution_count": 285,
   "id": "82285979",
   "metadata": {
    "ExecuteTime": {
     "end_time": "2023-03-02T21:41:20.431130Z",
     "start_time": "2023-03-02T21:41:20.410135Z"
    }
   },
   "outputs": [
    {
     "ename": "NameError",
     "evalue": "name 'when' is not defined",
     "output_type": "error",
     "traceback": [
      "\u001b[1;31m---------------------------------------------------------------------------\u001b[0m",
      "\u001b[1;31mNameError\u001b[0m                                 Traceback (most recent call last)",
      "\u001b[1;32m~\\AppData\\Local\\Temp\\ipykernel_18920\\3946420684.py\u001b[0m in \u001b[0;36m<module>\u001b[1;34m\u001b[0m\n\u001b[0;32m      1\u001b[0m \u001b[1;31m# Because we didn't import when\u001b[0m\u001b[1;33m\u001b[0m\u001b[1;33m\u001b[0m\u001b[0m\n\u001b[1;32m----> 2\u001b[1;33m df.withColumn(\"Profitable Flag\", when(df[\"Profit\"] > 0, \"Profitable\").\n\u001b[0m\u001b[0;32m      3\u001b[0m               \u001b[0mwhen\u001b[0m\u001b[1;33m(\u001b[0m\u001b[0mdf\u001b[0m\u001b[1;33m[\u001b[0m\u001b[1;34m\"Profit\"\u001b[0m\u001b[1;33m]\u001b[0m \u001b[1;33m<\u001b[0m \u001b[1;36m0\u001b[0m\u001b[1;33m,\u001b[0m \u001b[1;34m\"not Profitable\"\u001b[0m\u001b[1;33m)\u001b[0m\u001b[1;33m.\u001b[0m\u001b[1;33m\u001b[0m\u001b[1;33m\u001b[0m\u001b[0m\n\u001b[0;32m      4\u001b[0m               otherwise(\"Error\"))\n",
      "\u001b[1;31mNameError\u001b[0m: name 'when' is not defined"
     ]
    }
   ],
   "source": [
    "# Because we didn't import when\n",
    "\n",
    "df.withColumn(\"Profitable Flag\", when(df[\"Profit\"] > 0, \"Profitable\").\n",
    "              when(df[\"Profit\"] < 0, \"not Profitable\").\n",
    "              otherwise(\"Error\"))"
   ]
  },
  {
   "cell_type": "code",
   "execution_count": 286,
   "id": "564eac00",
   "metadata": {
    "ExecuteTime": {
     "end_time": "2023-03-02T21:41:35.227716Z",
     "start_time": "2023-03-02T21:41:35.218720Z"
    }
   },
   "outputs": [],
   "source": [
    "from pyspark.sql.functions import when"
   ]
  },
  {
   "cell_type": "code",
   "execution_count": 292,
   "id": "80f76aab",
   "metadata": {
    "ExecuteTime": {
     "end_time": "2023-03-02T21:45:33.512171Z",
     "start_time": "2023-03-02T21:45:33.440172Z"
    }
   },
   "outputs": [
    {
     "name": "stdout",
     "output_type": "stream",
     "text": [
      "+------+---------------+----------+----------+--------------+-----------+----------------+-----------+-------------+--------------------+--------------+-------+---------------+---------------+------------+--------------------+--------+--------+--------+-------+------------------+---------------+\n",
      "|Row ID|       Order ID|Order Date| Ship Date|     Ship Mode|Customer ID|   Customer Name|    Segment|         City|               State|       Country| Region|     Product ID|       Category|Sub-Category|        Product Name|   Sales|Quantity|Discount| Profit|              Cost|Profitable Flag|\n",
      "+------+---------------+----------+----------+--------------+-----------+----------------+-----------+-------------+--------------------+--------------+-------+---------------+---------------+------------+--------------------+--------+--------+--------+-------+------------------+---------------+\n",
      "|     1|ES-2018-1311038|07/02/2018|11/02/2018|Standard Class|   AS-10045|  Aaron Smayling|  Corporate|        Leeds|             England|United Kingdom|  North|OFF-ST-10000988|Office Supplies|     Storage|Fellowes Folders,...|    79.2|       3|       0|   39.6|              39.6|     Profitable|\n",
      "|     2|ES-2018-1311038|07/02/2018|11/02/2018|Standard Class|   AS-10045|  Aaron Smayling|  Corporate|        Leeds|             England|United Kingdom|  North|TEC-AC-10004144|     Technology| Accessories|SanDisk Numeric K...|  388.92|       7|       0|      0|            388.92|           Zero|\n",
      "|     3|ES-2018-1311038|07/02/2018|11/02/2018|Standard Class|   AS-10045|  Aaron Smayling|  Corporate|        Leeds|             England|United Kingdom|  North|OFF-LA-10001915|Office Supplies|      Labels|Avery Legal Exhib...|   35.19|       3|       0|  16.11|             19.08|     Profitable|\n",
      "|     4|ES-2018-1311038|07/02/2018|11/02/2018|Standard Class|   AS-10045|  Aaron Smayling|  Corporate|        Leeds|             England|United Kingdom|  North|OFF-ST-10004550|Office Supplies|     Storage|Fellowes Folders,...|   50.94|       2|       0|   13.2|37.739999999999995|     Profitable|\n",
      "|     5|ES-2018-1311038|07/02/2018|11/02/2018|Standard Class|   AS-10045|  Aaron Smayling|  Corporate|        Leeds|             England|United Kingdom|  North|TEC-AC-10004068|     Technology| Accessories|Memorex Memory Ca...|  307.44|       3|       0|  73.71|233.73000000000002|     Profitable|\n",
      "|     6|ES-2018-1311038|07/02/2018|11/02/2018|Standard Class|   AS-10045|  Aaron Smayling|  Corporate|        Leeds|             England|United Kingdom|  North|OFF-ST-10002271|Office Supplies|     Storage|Rogers Shelving, ...|   122.4|       2|       0|  37.92|             84.48|     Profitable|\n",
      "|     7|ES-2018-1311038|07/02/2018|11/02/2018|Standard Class|   AS-10045|  Aaron Smayling|  Corporate|        Leeds|             England|United Kingdom|  North|TEC-PH-10003963|     Technology|      Phones|Apple Signal Boos...|  413.82|       3|       0|  20.61|            393.21|     Profitable|\n",
      "|     8|ES-2016-5113958|02/08/2016|07/08/2016|  Second Class|   EB-13840|   Ellis Ballard|  Corporate|West Bromwich|             England|United Kingdom|  North|TEC-CO-10004325|     Technology|     Copiers|Canon Personal Co...|  428.22|       3|       0| 192.69|235.53000000000003|     Profitable|\n",
      "|     9|ES-2016-5113958|02/08/2016|07/08/2016|  Second Class|   EB-13840|   Ellis Ballard|  Corporate|West Bromwich|             England|United Kingdom|  North|OFF-AP-10004512|Office Supplies|  Appliances|   Hoover Stove, Red| 3979.29|       7|       0|1989.54|           1989.75|     Profitable|\n",
      "|    10|ES-2016-5113958|02/08/2016|07/08/2016|  Second Class|   EB-13840|   Ellis Ballard|  Corporate|West Bromwich|             England|United Kingdom|  North|OFF-FA-10002393|Office Supplies|   Fasteners|Accos Push Pins, ...|   43.56|       3|       0|   12.6|             30.96|     Profitable|\n",
      "|    11|ES-2016-2510515|20/06/2016|20/06/2016|      Same Day|   LH-17155|Logan Haushalter|   Consumer|   Le Bouscat|Aquitaine-Limousi...|        France|Central|OFF-LA-10002805|Office Supplies|      Labels|Hon Color Coded L...|   25.26|       2|       0|   0.48|             24.78|           Zero|\n",
      "|    12|ES-2016-2510515|20/06/2016|20/06/2016|      Same Day|   LH-17155|Logan Haushalter|   Consumer|   Le Bouscat|Aquitaine-Limousi...|        France|Central|OFF-AP-10002330|Office Supplies|  Appliances|Hamilton Beach St...|2443.905|       5|     0.1|760.305|1683.6000000000004|     Profitable|\n",
      "|    13|ES-2016-2510515|20/06/2016|20/06/2016|      Same Day|   LH-17155|Logan Haushalter|   Consumer|   Le Bouscat|Aquitaine-Limousi...|        France|Central|OFF-AR-10000505|Office Supplies|         Art|Binney & Smith Pe...|   12.21|       1|       0|      0|             12.21|           Zero|\n",
      "|    14|ES-2016-2510515|20/06/2016|20/06/2016|      Same Day|   LH-17155|Logan Haushalter|   Consumer|   Le Bouscat|Aquitaine-Limousi...|        France|Central|TEC-PH-10002898|     Technology|      Phones|Samsung Smart Pho...|2167.296|       4|    0.15|790.416|1376.8799999999997|     Profitable|\n",
      "|    15|ES-2016-2510515|20/06/2016|20/06/2016|      Same Day|   LH-17155|Logan Haushalter|   Consumer|   Le Bouscat|Aquitaine-Limousi...|        France|Central|OFF-ST-10001413|Office Supplies|     Storage|Rogers Folders, Blue| 138.105|       5|     0.1|-12.345|            150.45| not Profitable|\n",
      "|    16|ES-2017-4380115|16/02/2017|20/02/2017|Standard Class|   KC-16540| Kelly Collister|   Consumer|   Strasbourg|Alsace-Champagne-...|        France|Central|OFF-ST-10003931|Office Supplies|     Storage|Smead Trays, Wire...| 128.385|       3|     0.1|  4.275|124.10999999999999|     Profitable|\n",
      "|    17|ES-2017-4380115|16/02/2017|20/02/2017|Standard Class|   KC-16540| Kelly Collister|   Consumer|   Strasbourg|Alsace-Champagne-...|        France|Central|TEC-AC-10004269|     Technology| Accessories|Belkin Memory Car...|  690.12|       6|       0|      0|            690.12|           Zero|\n",
      "|    18|ES-2017-4380115|16/02/2017|20/02/2017|Standard Class|   KC-16540| Kelly Collister|   Consumer|   Strasbourg|Alsace-Champagne-...|        France|Central|OFF-LA-10001676|Office Supplies|      Labels|Hon Removable Lab...|    8.16|       1|       0|   1.14|7.0200000000000005|     Profitable|\n",
      "|    19|ES-2018-2573330|03/11/2018|08/11/2018|Standard Class|   BF-11170|      Ben Ferrer|Home Office|         Unna|North Rhine-Westp...|       Germany|Central|TEC-MA-10000811|     Technology|    Machines|Okidata Phone, Du...|  347.88|       4|       0|  76.44|            271.44|     Profitable|\n",
      "|    20|ES-2018-2573330|03/11/2018|08/11/2018|Standard Class|   BF-11170|      Ben Ferrer|Home Office|         Unna|North Rhine-Westp...|       Germany|Central|OFF-ST-10000648|Office Supplies|     Storage|Eldon File Cart, ...| 575.505|       5|     0.1| 12.705|             562.8|     Profitable|\n",
      "+------+---------------+----------+----------+--------------+-----------+----------------+-----------+-------------+--------------------+--------------+-------+---------------+---------------+------------+--------------------+--------+--------+--------+-------+------------------+---------------+\n",
      "only showing top 20 rows\n",
      "\n"
     ]
    }
   ],
   "source": [
    "df.withColumn(\"Profitable Flag\", when(df[\"Profit\"] > 0, \"Profitable\").\n",
    "             when(df[\"Profit\"] < 0 , \"not Profitable\").\n",
    "             when(df[\"Profit\"] == 0, \"Zero\").\n",
    "             otherwise(\"Error\")).show()"
   ]
  },
  {
   "cell_type": "code",
   "execution_count": 293,
   "id": "69cc51a4",
   "metadata": {
    "ExecuteTime": {
     "end_time": "2023-03-02T21:45:57.261795Z",
     "start_time": "2023-03-02T21:45:57.219277Z"
    }
   },
   "outputs": [
    {
     "ename": "AnalysisException",
     "evalue": "Column '`Profitable Flag`' does not exist. Did you mean one of the following? [Profit, Product Name, Product ID, Customer Name, Order Date, Sales, Ship Date, State, Category, City, Cost, Country, Customer ID, Order ID, Quantity, Row ID, Ship Mode, Sub-Category, Discount, Region, Segment];\n'Project [Profit#3255, 'Profitable Flag]\n+- Project [Row ID#3236, Order ID#3237, Order Date#3238, Ship Date#3239, Ship Mode#3240, Customer ID#3241, Customer Name#3242, Segment#3243, City#3244, State#3245, Country#3246, Region#3247, Product ID#3248, Category#3249, Sub-Category#3250, Product Name#3251, Sales#3252, Quantity#3253, Discount#3254, Profit#3255, (cast(Sales#3252 as double) - cast(Profit#3255 as double)) AS Cost#5759]\n   +- Relation [Row ID#3236,Order ID#3237,Order Date#3238,Ship Date#3239,Ship Mode#3240,Customer ID#3241,Customer Name#3242,Segment#3243,City#3244,State#3245,Country#3246,Region#3247,Product ID#3248,Category#3249,Sub-Category#3250,Product Name#3251,Sales#3252,Quantity#3253,Discount#3254,Profit#3255] csv\n",
     "output_type": "error",
     "traceback": [
      "\u001b[1;31m---------------------------------------------------------------------------\u001b[0m",
      "\u001b[1;31mAnalysisException\u001b[0m                         Traceback (most recent call last)",
      "\u001b[1;32m~\\AppData\\Local\\Temp\\ipykernel_18920\\1523073428.py\u001b[0m in \u001b[0;36m<module>\u001b[1;34m\u001b[0m\n\u001b[1;32m----> 1\u001b[1;33m \u001b[0mdf\u001b[0m\u001b[1;33m.\u001b[0m\u001b[0mselect\u001b[0m\u001b[1;33m(\u001b[0m\u001b[1;34m\"Profit\"\u001b[0m\u001b[1;33m,\u001b[0m \u001b[1;34m\"Profitable Flag\"\u001b[0m\u001b[1;33m)\u001b[0m\u001b[1;33m\u001b[0m\u001b[1;33m\u001b[0m\u001b[0m\n\u001b[0m",
      "\u001b[1;32mC:\\ProgramData\\Anaconda3\\lib\\site-packages\\pyspark\\sql\\dataframe.py\u001b[0m in \u001b[0;36mselect\u001b[1;34m(self, *cols)\u001b[0m\n\u001b[0;32m   1683\u001b[0m         \u001b[1;33m[\u001b[0m\u001b[0mRow\u001b[0m\u001b[1;33m(\u001b[0m\u001b[0mname\u001b[0m\u001b[1;33m=\u001b[0m\u001b[1;34m'Alice'\u001b[0m\u001b[1;33m,\u001b[0m \u001b[0mage\u001b[0m\u001b[1;33m=\u001b[0m\u001b[1;36m12\u001b[0m\u001b[1;33m)\u001b[0m\u001b[1;33m,\u001b[0m \u001b[0mRow\u001b[0m\u001b[1;33m(\u001b[0m\u001b[0mname\u001b[0m\u001b[1;33m=\u001b[0m\u001b[1;34m'Bob'\u001b[0m\u001b[1;33m,\u001b[0m \u001b[0mage\u001b[0m\u001b[1;33m=\u001b[0m\u001b[1;36m15\u001b[0m\u001b[1;33m)\u001b[0m\u001b[1;33m]\u001b[0m\u001b[1;33m\u001b[0m\u001b[1;33m\u001b[0m\u001b[0m\n\u001b[0;32m   1684\u001b[0m         \"\"\"\n\u001b[1;32m-> 1685\u001b[1;33m         \u001b[0mjdf\u001b[0m \u001b[1;33m=\u001b[0m \u001b[0mself\u001b[0m\u001b[1;33m.\u001b[0m\u001b[0m_jdf\u001b[0m\u001b[1;33m.\u001b[0m\u001b[0mselect\u001b[0m\u001b[1;33m(\u001b[0m\u001b[0mself\u001b[0m\u001b[1;33m.\u001b[0m\u001b[0m_jcols\u001b[0m\u001b[1;33m(\u001b[0m\u001b[1;33m*\u001b[0m\u001b[0mcols\u001b[0m\u001b[1;33m)\u001b[0m\u001b[1;33m)\u001b[0m\u001b[1;33m\u001b[0m\u001b[1;33m\u001b[0m\u001b[0m\n\u001b[0m\u001b[0;32m   1686\u001b[0m         \u001b[1;32mreturn\u001b[0m \u001b[0mDataFrame\u001b[0m\u001b[1;33m(\u001b[0m\u001b[0mjdf\u001b[0m\u001b[1;33m,\u001b[0m \u001b[0mself\u001b[0m\u001b[1;33m.\u001b[0m\u001b[0msql_ctx\u001b[0m\u001b[1;33m)\u001b[0m\u001b[1;33m\u001b[0m\u001b[1;33m\u001b[0m\u001b[0m\n\u001b[0;32m   1687\u001b[0m \u001b[1;33m\u001b[0m\u001b[0m\n",
      "\u001b[1;32mC:\\ProgramData\\Anaconda3\\lib\\site-packages\\py4j\\java_gateway.py\u001b[0m in \u001b[0;36m__call__\u001b[1;34m(self, *args)\u001b[0m\n\u001b[0;32m   1319\u001b[0m \u001b[1;33m\u001b[0m\u001b[0m\n\u001b[0;32m   1320\u001b[0m         \u001b[0manswer\u001b[0m \u001b[1;33m=\u001b[0m \u001b[0mself\u001b[0m\u001b[1;33m.\u001b[0m\u001b[0mgateway_client\u001b[0m\u001b[1;33m.\u001b[0m\u001b[0msend_command\u001b[0m\u001b[1;33m(\u001b[0m\u001b[0mcommand\u001b[0m\u001b[1;33m)\u001b[0m\u001b[1;33m\u001b[0m\u001b[1;33m\u001b[0m\u001b[0m\n\u001b[1;32m-> 1321\u001b[1;33m         return_value = get_return_value(\n\u001b[0m\u001b[0;32m   1322\u001b[0m             answer, self.gateway_client, self.target_id, self.name)\n\u001b[0;32m   1323\u001b[0m \u001b[1;33m\u001b[0m\u001b[0m\n",
      "\u001b[1;32mC:\\ProgramData\\Anaconda3\\lib\\site-packages\\pyspark\\sql\\utils.py\u001b[0m in \u001b[0;36mdeco\u001b[1;34m(*a, **kw)\u001b[0m\n\u001b[0;32m    115\u001b[0m                 \u001b[1;31m# Hide where the exception came from that shows a non-Pythonic\u001b[0m\u001b[1;33m\u001b[0m\u001b[1;33m\u001b[0m\u001b[0m\n\u001b[0;32m    116\u001b[0m                 \u001b[1;31m# JVM exception message.\u001b[0m\u001b[1;33m\u001b[0m\u001b[1;33m\u001b[0m\u001b[0m\n\u001b[1;32m--> 117\u001b[1;33m                 \u001b[1;32mraise\u001b[0m \u001b[0mconverted\u001b[0m \u001b[1;32mfrom\u001b[0m \u001b[1;32mNone\u001b[0m\u001b[1;33m\u001b[0m\u001b[1;33m\u001b[0m\u001b[0m\n\u001b[0m\u001b[0;32m    118\u001b[0m             \u001b[1;32melse\u001b[0m\u001b[1;33m:\u001b[0m\u001b[1;33m\u001b[0m\u001b[1;33m\u001b[0m\u001b[0m\n\u001b[0;32m    119\u001b[0m                 \u001b[1;32mraise\u001b[0m\u001b[1;33m\u001b[0m\u001b[1;33m\u001b[0m\u001b[0m\n",
      "\u001b[1;31mAnalysisException\u001b[0m: Column '`Profitable Flag`' does not exist. Did you mean one of the following? [Profit, Product Name, Product ID, Customer Name, Order Date, Sales, Ship Date, State, Category, City, Cost, Country, Customer ID, Order ID, Quantity, Row ID, Ship Mode, Sub-Category, Discount, Region, Segment];\n'Project [Profit#3255, 'Profitable Flag]\n+- Project [Row ID#3236, Order ID#3237, Order Date#3238, Ship Date#3239, Ship Mode#3240, Customer ID#3241, Customer Name#3242, Segment#3243, City#3244, State#3245, Country#3246, Region#3247, Product ID#3248, Category#3249, Sub-Category#3250, Product Name#3251, Sales#3252, Quantity#3253, Discount#3254, Profit#3255, (cast(Sales#3252 as double) - cast(Profit#3255 as double)) AS Cost#5759]\n   +- Relation [Row ID#3236,Order ID#3237,Order Date#3238,Ship Date#3239,Ship Mode#3240,Customer ID#3241,Customer Name#3242,Segment#3243,City#3244,State#3245,Country#3246,Region#3247,Product ID#3248,Category#3249,Sub-Category#3250,Product Name#3251,Sales#3252,Quantity#3253,Discount#3254,Profit#3255] csv\n"
     ]
    }
   ],
   "source": [
    "df.select(\"Profit\", \"Profitable Flag\")"
   ]
  },
  {
   "cell_type": "code",
   "execution_count": 298,
   "id": "957020c3",
   "metadata": {
    "ExecuteTime": {
     "end_time": "2023-03-02T21:47:46.645829Z",
     "start_time": "2023-03-02T21:47:46.632830Z"
    }
   },
   "outputs": [],
   "source": [
    "df = df.withColumn(\"Profitable Flag\", when(df[\"Profit\"] > 0, \"Profitable\").\n",
    "             when(df[\"Profit\"] < 0 , \"not Profitable\").\n",
    "             when(df[\"Profit\"] == 0, \"Zero\").\n",
    "             otherwise(\"Error\"))"
   ]
  },
  {
   "cell_type": "code",
   "execution_count": 301,
   "id": "e320fb44",
   "metadata": {
    "ExecuteTime": {
     "end_time": "2023-03-02T21:48:11.375550Z",
     "start_time": "2023-03-02T21:48:11.299551Z"
    }
   },
   "outputs": [
    {
     "name": "stdout",
     "output_type": "stream",
     "text": [
      "+-------+---------------+\n",
      "| Profit|Profitable Flag|\n",
      "+-------+---------------+\n",
      "|   39.6|     Profitable|\n",
      "|      0|           Zero|\n",
      "|  16.11|     Profitable|\n",
      "|   13.2|     Profitable|\n",
      "|  73.71|     Profitable|\n",
      "|  37.92|     Profitable|\n",
      "|  20.61|     Profitable|\n",
      "| 192.69|     Profitable|\n",
      "|1989.54|     Profitable|\n",
      "|   12.6|     Profitable|\n",
      "|   0.48|           Zero|\n",
      "|760.305|     Profitable|\n",
      "|      0|           Zero|\n",
      "|790.416|     Profitable|\n",
      "|-12.345| not Profitable|\n",
      "|  4.275|     Profitable|\n",
      "|      0|           Zero|\n",
      "|   1.14|     Profitable|\n",
      "|  76.44|     Profitable|\n",
      "| 12.705|     Profitable|\n",
      "+-------+---------------+\n",
      "only showing top 20 rows\n",
      "\n"
     ]
    }
   ],
   "source": [
    "df.select(\"Profit\", \"Profitable Flag\").show()"
   ]
  },
  {
   "cell_type": "code",
   "execution_count": 302,
   "id": "609d6d17",
   "metadata": {
    "ExecuteTime": {
     "end_time": "2023-03-02T21:52:46.989887Z",
     "start_time": "2023-03-02T21:52:46.980336Z"
    }
   },
   "outputs": [
    {
     "data": {
      "text/plain": [
       "['Row ID',\n",
       " 'Order ID',\n",
       " 'Order Date',\n",
       " 'Ship Date',\n",
       " 'Ship Mode',\n",
       " 'Customer ID',\n",
       " 'Customer Name',\n",
       " 'Segment',\n",
       " 'City',\n",
       " 'State',\n",
       " 'Country',\n",
       " 'Region',\n",
       " 'Product ID',\n",
       " 'Category',\n",
       " 'Sub-Category',\n",
       " 'Product Name',\n",
       " 'Sales',\n",
       " 'Quantity',\n",
       " 'Discount',\n",
       " 'Profit',\n",
       " 'Cost',\n",
       " 'Profitable Flag']"
      ]
     },
     "execution_count": 302,
     "metadata": {},
     "output_type": "execute_result"
    }
   ],
   "source": [
    "# We want to ultimately analyse profits and figure out the driver of profits\n",
    "\n",
    "df.columns"
   ]
  },
  {
   "cell_type": "code",
   "execution_count": 308,
   "id": "13c522bb",
   "metadata": {
    "ExecuteTime": {
     "end_time": "2023-03-02T21:53:32.965259Z",
     "start_time": "2023-03-02T21:53:32.914258Z"
    }
   },
   "outputs": [
    {
     "name": "stdout",
     "output_type": "stream",
     "text": [
      "+---------------+\n",
      "|       Order ID|\n",
      "+---------------+\n",
      "|ES-2018-1311038|\n",
      "|ES-2018-1311038|\n",
      "|ES-2018-1311038|\n",
      "|ES-2018-1311038|\n",
      "|ES-2018-1311038|\n",
      "+---------------+\n",
      "only showing top 5 rows\n",
      "\n"
     ]
    }
   ],
   "source": [
    "df.select(df.columns[1]).show(5)"
   ]
  },
  {
   "cell_type": "code",
   "execution_count": 309,
   "id": "a8602b79",
   "metadata": {
    "ExecuteTime": {
     "end_time": "2023-03-02T21:54:01.552472Z",
     "start_time": "2023-03-02T21:54:01.493486Z"
    }
   },
   "outputs": [
    {
     "name": "stdout",
     "output_type": "stream",
     "text": [
      "+--------+\n",
      "|Discount|\n",
      "+--------+\n",
      "|       0|\n",
      "|       0|\n",
      "|       0|\n",
      "|       0|\n",
      "|       0|\n",
      "|       0|\n",
      "|       0|\n",
      "|       0|\n",
      "|       0|\n",
      "|       0|\n",
      "|       0|\n",
      "|     0.1|\n",
      "|       0|\n",
      "|    0.15|\n",
      "|     0.1|\n",
      "|     0.1|\n",
      "|       0|\n",
      "|       0|\n",
      "|       0|\n",
      "|     0.1|\n",
      "+--------+\n",
      "only showing top 20 rows\n",
      "\n"
     ]
    }
   ],
   "source": [
    "df.select(\"Discount\").show()"
   ]
  },
  {
   "cell_type": "code",
   "execution_count": 319,
   "id": "6a968df3",
   "metadata": {
    "ExecuteTime": {
     "end_time": "2023-03-02T21:59:07.922641Z",
     "start_time": "2023-03-02T21:59:07.803643Z"
    }
   },
   "outputs": [],
   "source": [
    "df = spark.read.option(\"header\", \"true\").csv(\"C:/Users/mkaya/Downloads/Sample - EU Superstore.csv\")"
   ]
  },
  {
   "cell_type": "code",
   "execution_count": 346,
   "id": "3ac49f5d",
   "metadata": {
    "ExecuteTime": {
     "end_time": "2023-03-02T22:04:28.211751Z",
     "start_time": "2023-03-02T22:04:28.098752Z"
    }
   },
   "outputs": [
    {
     "data": {
      "text/plain": [
       "10000"
      ]
     },
     "execution_count": 346,
     "metadata": {},
     "output_type": "execute_result"
    }
   ],
   "source": [
    "# how many discounts == 0 ?\n",
    "#Discounts are all float so if we just write 0 it will thnik all discounts below 1 equal to zero\n",
    "df.filter(df[\"Discount\"] == 0).count()"
   ]
  },
  {
   "cell_type": "code",
   "execution_count": 347,
   "id": "321cf91e",
   "metadata": {
    "ExecuteTime": {
     "end_time": "2023-03-02T22:04:34.063082Z",
     "start_time": "2023-03-02T22:04:33.963094Z"
    }
   },
   "outputs": [
    {
     "data": {
      "text/plain": [
       "6134"
      ]
     },
     "execution_count": 347,
     "metadata": {},
     "output_type": "execute_result"
    }
   ],
   "source": [
    "df.filter(df[\"Discount\"] == 0.0).count()"
   ]
  },
  {
   "cell_type": "code",
   "execution_count": 350,
   "id": "111ec5eb",
   "metadata": {
    "ExecuteTime": {
     "end_time": "2023-03-02T22:06:03.007132Z",
     "start_time": "2023-03-02T22:06:02.893135Z"
    }
   },
   "outputs": [
    {
     "data": {
      "text/plain": [
       "1874"
      ]
     },
     "execution_count": 350,
     "metadata": {},
     "output_type": "execute_result"
    }
   ],
   "source": [
    "df.filter((df[\"Discount\"] > 0.0) & (df[\"Profit\"] >= 0)).count()"
   ]
  },
  {
   "cell_type": "code",
   "execution_count": 352,
   "id": "6ff4d734",
   "metadata": {
    "ExecuteTime": {
     "end_time": "2023-03-02T22:07:38.432450Z",
     "start_time": "2023-03-02T22:07:38.417379Z"
    }
   },
   "outputs": [],
   "source": [
    "df = df.withColumn(\"isDiscounted\", when(df[\"Discount\"] > 0.0, \"Y\").\n",
    "             otherwise(\"N\"))"
   ]
  },
  {
   "cell_type": "code",
   "execution_count": 356,
   "id": "49e20e18",
   "metadata": {
    "ExecuteTime": {
     "end_time": "2023-03-02T22:08:14.447075Z",
     "start_time": "2023-03-02T22:08:14.373077Z"
    }
   },
   "outputs": [
    {
     "name": "stdout",
     "output_type": "stream",
     "text": [
      "+--------+------------+\n",
      "|Discount|isDiscounted|\n",
      "+--------+------------+\n",
      "|       0|           N|\n",
      "|       0|           N|\n",
      "|       0|           N|\n",
      "|       0|           N|\n",
      "|       0|           N|\n",
      "|       0|           N|\n",
      "|       0|           N|\n",
      "|       0|           N|\n",
      "|       0|           N|\n",
      "|       0|           N|\n",
      "|       0|           N|\n",
      "|     0.1|           Y|\n",
      "|       0|           N|\n",
      "|    0.15|           Y|\n",
      "|     0.1|           Y|\n",
      "|     0.1|           Y|\n",
      "|       0|           N|\n",
      "|       0|           N|\n",
      "|       0|           N|\n",
      "|     0.1|           Y|\n",
      "+--------+------------+\n",
      "only showing top 20 rows\n",
      "\n"
     ]
    }
   ],
   "source": [
    "df.select(\"Discount\", \"isDiscounted\").show()"
   ]
  },
  {
   "cell_type": "markdown",
   "id": "d6700200",
   "metadata": {},
   "source": [
    "# .groupBy and aggregations"
   ]
  },
  {
   "cell_type": "code",
   "execution_count": 357,
   "id": "8eb4f8ae",
   "metadata": {
    "ExecuteTime": {
     "end_time": "2023-03-02T22:17:16.814653Z",
     "start_time": "2023-03-02T22:17:16.798731Z"
    }
   },
   "outputs": [
    {
     "data": {
      "text/plain": [
       "DataFrame[Row ID: string, Order ID: string, Order Date: string, Ship Date: string, Ship Mode: string, Customer ID: string, Customer Name: string, Segment: string, City: string, State: string, Country: string, Region: string, Product ID: string, Category: string, Sub-Category: string, Product Name: string, Sales: string, Quantity: string, Discount: string, Profit: string, isDiscounted: string]"
      ]
     },
     "execution_count": 357,
     "metadata": {},
     "output_type": "execute_result"
    }
   ],
   "source": [
    "df"
   ]
  },
  {
   "cell_type": "code",
   "execution_count": 365,
   "id": "e3e90f42",
   "metadata": {
    "ExecuteTime": {
     "end_time": "2023-03-02T22:18:59.127196Z",
     "start_time": "2023-03-02T22:18:59.108197Z"
    }
   },
   "outputs": [
    {
     "data": {
      "text/plain": [
       "DataFrame[Country: string, count: bigint]"
      ]
     },
     "execution_count": 365,
     "metadata": {},
     "output_type": "execute_result"
    }
   ],
   "source": [
    "#We need to state the columns and the aggregation function\n",
    "\n",
    "df.groupBy(\"Country\").count()"
   ]
  },
  {
   "cell_type": "code",
   "execution_count": 366,
   "id": "14fa7721",
   "metadata": {
    "ExecuteTime": {
     "end_time": "2023-03-02T22:19:15.823751Z",
     "start_time": "2023-03-02T22:19:15.677754Z"
    }
   },
   "outputs": [
    {
     "name": "stdout",
     "output_type": "stream",
     "text": [
      "+--------------+-----+\n",
      "|       Country|count|\n",
      "+--------------+-----+\n",
      "|        Sweden|  203|\n",
      "|       Germany| 2065|\n",
      "|        France| 2827|\n",
      "|       Belgium|  147|\n",
      "|       Finland|   64|\n",
      "|         Italy| 1108|\n",
      "|        Norway|   70|\n",
      "|         Spain|  859|\n",
      "|       Denmark|   65|\n",
      "|       Ireland|  106|\n",
      "|   Switzerland|   78|\n",
      "|      Portugal|   70|\n",
      "|       Austria|  270|\n",
      "|United Kingdom| 1633|\n",
      "|   Netherlands|  435|\n",
      "+--------------+-----+\n",
      "\n"
     ]
    }
   ],
   "source": [
    "df.groupBy(\"Country\").count().show()"
   ]
  },
  {
   "cell_type": "markdown",
   "id": "4ba71501",
   "metadata": {},
   "source": [
    "# .orderBy"
   ]
  },
  {
   "cell_type": "code",
   "execution_count": 368,
   "id": "d8877b3e",
   "metadata": {
    "ExecuteTime": {
     "end_time": "2023-03-02T22:21:13.950682Z",
     "start_time": "2023-03-02T22:21:13.691762Z"
    }
   },
   "outputs": [
    {
     "name": "stdout",
     "output_type": "stream",
     "text": [
      "+--------------+-----+\n",
      "|       Country|count|\n",
      "+--------------+-----+\n",
      "|       Finland|   64|\n",
      "|       Denmark|   65|\n",
      "|        Norway|   70|\n",
      "|      Portugal|   70|\n",
      "|   Switzerland|   78|\n",
      "|       Ireland|  106|\n",
      "|       Belgium|  147|\n",
      "|        Sweden|  203|\n",
      "|       Austria|  270|\n",
      "|   Netherlands|  435|\n",
      "|         Spain|  859|\n",
      "|         Italy| 1108|\n",
      "|United Kingdom| 1633|\n",
      "|       Germany| 2065|\n",
      "|        France| 2827|\n",
      "+--------------+-----+\n",
      "\n"
     ]
    }
   ],
   "source": [
    "df.groupBy(\"Country\").count().orderBy(\"count\").show()"
   ]
  },
  {
   "cell_type": "code",
   "execution_count": 370,
   "id": "3a5b5540",
   "metadata": {
    "ExecuteTime": {
     "end_time": "2023-03-02T22:22:03.485093Z",
     "start_time": "2023-03-02T22:22:03.307096Z"
    }
   },
   "outputs": [
    {
     "name": "stdout",
     "output_type": "stream",
     "text": [
      "+--------------+-----+\n",
      "|       Country|count|\n",
      "+--------------+-----+\n",
      "|        France| 2827|\n",
      "|       Germany| 2065|\n",
      "|United Kingdom| 1633|\n",
      "|         Italy| 1108|\n",
      "|         Spain|  859|\n",
      "|   Netherlands|  435|\n",
      "|       Austria|  270|\n",
      "|        Sweden|  203|\n",
      "|       Belgium|  147|\n",
      "|       Ireland|  106|\n",
      "|   Switzerland|   78|\n",
      "|        Norway|   70|\n",
      "|      Portugal|   70|\n",
      "|       Denmark|   65|\n",
      "|       Finland|   64|\n",
      "+--------------+-----+\n",
      "\n"
     ]
    }
   ],
   "source": [
    "df.groupBy(\"Country\").count().orderBy(\"count\", ascending = False).show()"
   ]
  },
  {
   "cell_type": "code",
   "execution_count": 375,
   "id": "bcd9d07b",
   "metadata": {
    "ExecuteTime": {
     "end_time": "2023-03-02T22:24:24.539352Z",
     "start_time": "2023-03-02T22:24:24.395357Z"
    }
   },
   "outputs": [
    {
     "name": "stdout",
     "output_type": "stream",
     "text": [
      "+--------------+-----+\n",
      "|       Country|count|\n",
      "+--------------+-----+\n",
      "|       Austria|  270|\n",
      "|       Belgium|  147|\n",
      "|       Denmark|   65|\n",
      "|       Finland|   64|\n",
      "|        France| 2827|\n",
      "|       Germany| 2065|\n",
      "|       Ireland|  106|\n",
      "|         Italy| 1108|\n",
      "|   Netherlands|  435|\n",
      "|        Norway|   70|\n",
      "|      Portugal|   70|\n",
      "|         Spain|  859|\n",
      "|        Sweden|  203|\n",
      "|   Switzerland|   78|\n",
      "|United Kingdom| 1633|\n",
      "+--------------+-----+\n",
      "\n"
     ]
    }
   ],
   "source": [
    "df.groupBy(\"Country\").count().orderBy(\"Country\").show()"
   ]
  },
  {
   "cell_type": "code",
   "execution_count": 377,
   "id": "74b987b5",
   "metadata": {
    "ExecuteTime": {
     "end_time": "2023-03-02T22:26:05.970085Z",
     "start_time": "2023-03-02T22:26:05.928085Z"
    },
    "collapsed": true
   },
   "outputs": [
    {
     "ename": "AnalysisException",
     "evalue": "Column 'Sales' does not exist. Did you mean one of the following? [count, Country];\n'Sort ['Sales ASC NULLS FIRST], true\n+- Aggregate [Country#6855], [Country#6855, count(1) AS count#8082L]\n   +- Project [Row ID#6845, Order ID#6846, Order Date#6847, Ship Date#6848, Ship Mode#6849, Customer ID#6850, Customer Name#6851, Segment#6852, City#6853, State#6854, Country#6855, Region#6856, Product ID#6857, Category#6858, Sub-Category#6859, Product Name#6860, Sales#6861, Quantity#6862, Discount#6863, Profit#6864, CASE WHEN (cast(Discount#6863 as double) > 0.0) THEN Y ELSE N END AS isDiscounted#7453]\n      +- Project [Row ID#6845, Order ID#6846, Order Date#6847, Ship Date#6848, Ship Mode#6849, Customer ID#6850, Customer Name#6851, Segment#6852, City#6853, State#6854, Country#6855, Region#6856, Product ID#6857, Category#6858, Sub-Category#6859, Product Name#6860, Sales#6861, Quantity#6862, Discount#6863, Profit#6864]\n         +- Project [Row ID#6845, Order ID#6846, Order Date#6847, Ship Date#6848, Ship Mode#6849, Customer ID#6850, Customer Name#6851, Segment#6852, City#6853, State#6854, Country#6855, Region#6856, Product ID#6857, Category#6858, Sub-Category#6859, Product Name#6860, Sales#6861, Quantity#6862, Discount#6863, Profit#6864, CASE WHEN (cast(Discount#6863 as int) > 0) THEN Y WHEN (cast(Discount#6863 as int) < 0) THEN N ELSE None END AS Discounted_or_Not#6928]\n            +- Project [Row ID#6845, Order ID#6846, Order Date#6847, Ship Date#6848, Ship Mode#6849, Customer ID#6850, Customer Name#6851, Segment#6852, City#6853, State#6854, Country#6855, Region#6856, Product ID#6857, Category#6858, Sub-Category#6859, Product Name#6860, Sales#6861, Quantity#6862, Discount#6863, Profit#6864, CASE WHEN (cast(Discount#6863 as int) > 0) THEN Y WHEN (cast(Discount#6863 as int) < 0) THEN N END AS Discounted_or_Not#6885]\n               +- Relation [Row ID#6845,Order ID#6846,Order Date#6847,Ship Date#6848,Ship Mode#6849,Customer ID#6850,Customer Name#6851,Segment#6852,City#6853,State#6854,Country#6855,Region#6856,Product ID#6857,Category#6858,Sub-Category#6859,Product Name#6860,Sales#6861,Quantity#6862,Discount#6863,Profit#6864] csv\n",
     "output_type": "error",
     "traceback": [
      "\u001b[1;31m---------------------------------------------------------------------------\u001b[0m",
      "\u001b[1;31mAnalysisException\u001b[0m                         Traceback (most recent call last)",
      "\u001b[1;32m~\\AppData\\Local\\Temp\\ipykernel_18920\\334453000.py\u001b[0m in \u001b[0;36m<module>\u001b[1;34m\u001b[0m\n\u001b[0;32m      1\u001b[0m \u001b[1;31m#It will give an error because after the groupby we lost all the other columns\u001b[0m\u001b[1;33m\u001b[0m\u001b[1;33m\u001b[0m\u001b[0m\n\u001b[0;32m      2\u001b[0m \u001b[1;33m\u001b[0m\u001b[0m\n\u001b[1;32m----> 3\u001b[1;33m \u001b[0mdf\u001b[0m\u001b[1;33m.\u001b[0m\u001b[0mgroupBy\u001b[0m\u001b[1;33m(\u001b[0m\u001b[1;34m\"Country\"\u001b[0m\u001b[1;33m)\u001b[0m\u001b[1;33m.\u001b[0m\u001b[0mcount\u001b[0m\u001b[1;33m(\u001b[0m\u001b[1;33m)\u001b[0m\u001b[1;33m.\u001b[0m\u001b[0morderBy\u001b[0m\u001b[1;33m(\u001b[0m\u001b[1;34m\"Sales\"\u001b[0m\u001b[1;33m)\u001b[0m\u001b[1;33m.\u001b[0m\u001b[0mshow\u001b[0m\u001b[1;33m(\u001b[0m\u001b[1;33m)\u001b[0m\u001b[1;33m\u001b[0m\u001b[1;33m\u001b[0m\u001b[0m\n\u001b[0m",
      "\u001b[1;32mC:\\ProgramData\\Anaconda3\\lib\\site-packages\\pyspark\\sql\\dataframe.py\u001b[0m in \u001b[0;36msort\u001b[1;34m(self, *cols, **kwargs)\u001b[0m\n\u001b[0;32m   1419\u001b[0m         \u001b[1;33m[\u001b[0m\u001b[0mRow\u001b[0m\u001b[1;33m(\u001b[0m\u001b[0mage\u001b[0m\u001b[1;33m=\u001b[0m\u001b[1;36m5\u001b[0m\u001b[1;33m,\u001b[0m \u001b[0mname\u001b[0m\u001b[1;33m=\u001b[0m\u001b[1;34m'Bob'\u001b[0m\u001b[1;33m)\u001b[0m\u001b[1;33m,\u001b[0m \u001b[0mRow\u001b[0m\u001b[1;33m(\u001b[0m\u001b[0mage\u001b[0m\u001b[1;33m=\u001b[0m\u001b[1;36m2\u001b[0m\u001b[1;33m,\u001b[0m \u001b[0mname\u001b[0m\u001b[1;33m=\u001b[0m\u001b[1;34m'Alice'\u001b[0m\u001b[1;33m)\u001b[0m\u001b[1;33m]\u001b[0m\u001b[1;33m\u001b[0m\u001b[1;33m\u001b[0m\u001b[0m\n\u001b[0;32m   1420\u001b[0m         \"\"\"\n\u001b[1;32m-> 1421\u001b[1;33m         \u001b[0mjdf\u001b[0m \u001b[1;33m=\u001b[0m \u001b[0mself\u001b[0m\u001b[1;33m.\u001b[0m\u001b[0m_jdf\u001b[0m\u001b[1;33m.\u001b[0m\u001b[0msort\u001b[0m\u001b[1;33m(\u001b[0m\u001b[0mself\u001b[0m\u001b[1;33m.\u001b[0m\u001b[0m_sort_cols\u001b[0m\u001b[1;33m(\u001b[0m\u001b[0mcols\u001b[0m\u001b[1;33m,\u001b[0m \u001b[0mkwargs\u001b[0m\u001b[1;33m)\u001b[0m\u001b[1;33m)\u001b[0m\u001b[1;33m\u001b[0m\u001b[1;33m\u001b[0m\u001b[0m\n\u001b[0m\u001b[0;32m   1422\u001b[0m         \u001b[1;32mreturn\u001b[0m \u001b[0mDataFrame\u001b[0m\u001b[1;33m(\u001b[0m\u001b[0mjdf\u001b[0m\u001b[1;33m,\u001b[0m \u001b[0mself\u001b[0m\u001b[1;33m.\u001b[0m\u001b[0msql_ctx\u001b[0m\u001b[1;33m)\u001b[0m\u001b[1;33m\u001b[0m\u001b[1;33m\u001b[0m\u001b[0m\n\u001b[0;32m   1423\u001b[0m \u001b[1;33m\u001b[0m\u001b[0m\n",
      "\u001b[1;32mC:\\ProgramData\\Anaconda3\\lib\\site-packages\\py4j\\java_gateway.py\u001b[0m in \u001b[0;36m__call__\u001b[1;34m(self, *args)\u001b[0m\n\u001b[0;32m   1319\u001b[0m \u001b[1;33m\u001b[0m\u001b[0m\n\u001b[0;32m   1320\u001b[0m         \u001b[0manswer\u001b[0m \u001b[1;33m=\u001b[0m \u001b[0mself\u001b[0m\u001b[1;33m.\u001b[0m\u001b[0mgateway_client\u001b[0m\u001b[1;33m.\u001b[0m\u001b[0msend_command\u001b[0m\u001b[1;33m(\u001b[0m\u001b[0mcommand\u001b[0m\u001b[1;33m)\u001b[0m\u001b[1;33m\u001b[0m\u001b[1;33m\u001b[0m\u001b[0m\n\u001b[1;32m-> 1321\u001b[1;33m         return_value = get_return_value(\n\u001b[0m\u001b[0;32m   1322\u001b[0m             answer, self.gateway_client, self.target_id, self.name)\n\u001b[0;32m   1323\u001b[0m \u001b[1;33m\u001b[0m\u001b[0m\n",
      "\u001b[1;32mC:\\ProgramData\\Anaconda3\\lib\\site-packages\\pyspark\\sql\\utils.py\u001b[0m in \u001b[0;36mdeco\u001b[1;34m(*a, **kw)\u001b[0m\n\u001b[0;32m    115\u001b[0m                 \u001b[1;31m# Hide where the exception came from that shows a non-Pythonic\u001b[0m\u001b[1;33m\u001b[0m\u001b[1;33m\u001b[0m\u001b[0m\n\u001b[0;32m    116\u001b[0m                 \u001b[1;31m# JVM exception message.\u001b[0m\u001b[1;33m\u001b[0m\u001b[1;33m\u001b[0m\u001b[0m\n\u001b[1;32m--> 117\u001b[1;33m                 \u001b[1;32mraise\u001b[0m \u001b[0mconverted\u001b[0m \u001b[1;32mfrom\u001b[0m \u001b[1;32mNone\u001b[0m\u001b[1;33m\u001b[0m\u001b[1;33m\u001b[0m\u001b[0m\n\u001b[0m\u001b[0;32m    118\u001b[0m             \u001b[1;32melse\u001b[0m\u001b[1;33m:\u001b[0m\u001b[1;33m\u001b[0m\u001b[1;33m\u001b[0m\u001b[0m\n\u001b[0;32m    119\u001b[0m                 \u001b[1;32mraise\u001b[0m\u001b[1;33m\u001b[0m\u001b[1;33m\u001b[0m\u001b[0m\n",
      "\u001b[1;31mAnalysisException\u001b[0m: Column 'Sales' does not exist. Did you mean one of the following? [count, Country];\n'Sort ['Sales ASC NULLS FIRST], true\n+- Aggregate [Country#6855], [Country#6855, count(1) AS count#8082L]\n   +- Project [Row ID#6845, Order ID#6846, Order Date#6847, Ship Date#6848, Ship Mode#6849, Customer ID#6850, Customer Name#6851, Segment#6852, City#6853, State#6854, Country#6855, Region#6856, Product ID#6857, Category#6858, Sub-Category#6859, Product Name#6860, Sales#6861, Quantity#6862, Discount#6863, Profit#6864, CASE WHEN (cast(Discount#6863 as double) > 0.0) THEN Y ELSE N END AS isDiscounted#7453]\n      +- Project [Row ID#6845, Order ID#6846, Order Date#6847, Ship Date#6848, Ship Mode#6849, Customer ID#6850, Customer Name#6851, Segment#6852, City#6853, State#6854, Country#6855, Region#6856, Product ID#6857, Category#6858, Sub-Category#6859, Product Name#6860, Sales#6861, Quantity#6862, Discount#6863, Profit#6864]\n         +- Project [Row ID#6845, Order ID#6846, Order Date#6847, Ship Date#6848, Ship Mode#6849, Customer ID#6850, Customer Name#6851, Segment#6852, City#6853, State#6854, Country#6855, Region#6856, Product ID#6857, Category#6858, Sub-Category#6859, Product Name#6860, Sales#6861, Quantity#6862, Discount#6863, Profit#6864, CASE WHEN (cast(Discount#6863 as int) > 0) THEN Y WHEN (cast(Discount#6863 as int) < 0) THEN N ELSE None END AS Discounted_or_Not#6928]\n            +- Project [Row ID#6845, Order ID#6846, Order Date#6847, Ship Date#6848, Ship Mode#6849, Customer ID#6850, Customer Name#6851, Segment#6852, City#6853, State#6854, Country#6855, Region#6856, Product ID#6857, Category#6858, Sub-Category#6859, Product Name#6860, Sales#6861, Quantity#6862, Discount#6863, Profit#6864, CASE WHEN (cast(Discount#6863 as int) > 0) THEN Y WHEN (cast(Discount#6863 as int) < 0) THEN N END AS Discounted_or_Not#6885]\n               +- Relation [Row ID#6845,Order ID#6846,Order Date#6847,Ship Date#6848,Ship Mode#6849,Customer ID#6850,Customer Name#6851,Segment#6852,City#6853,State#6854,Country#6855,Region#6856,Product ID#6857,Category#6858,Sub-Category#6859,Product Name#6860,Sales#6861,Quantity#6862,Discount#6863,Profit#6864] csv\n"
     ]
    }
   ],
   "source": [
    "#It will give an error because after the groupby we lost all the other columns\n",
    "\n",
    "df.groupBy(\"Country\").count().orderBy(\"Sales\").show()"
   ]
  },
  {
   "cell_type": "code",
   "execution_count": 378,
   "id": "0373e7fa",
   "metadata": {
    "ExecuteTime": {
     "end_time": "2023-03-02T22:27:13.996956Z",
     "start_time": "2023-03-02T22:27:13.727555Z"
    }
   },
   "outputs": [
    {
     "name": "stdout",
     "output_type": "stream",
     "text": [
      "+--------------+-----------+---------------+-----+\n",
      "|       Country|    Segment|       Category|count|\n",
      "+--------------+-----------+---------------+-----+\n",
      "|      Portugal|   Consumer|      Furniture|    6|\n",
      "|       Belgium|Home Office|     Technology|    3|\n",
      "|       Belgium|Home Office|      Furniture|    3|\n",
      "|        France|   Consumer|     Technology|  276|\n",
      "|        Norway|   Consumer|     Technology|    9|\n",
      "|       Finland|  Corporate|Office Supplies|    9|\n",
      "|       Finland|   Consumer|     Technology|    8|\n",
      "|       Germany|   Consumer|Office Supplies|  727|\n",
      "|United Kingdom|  Corporate|     Technology|  105|\n",
      "|       Ireland|Home Office|     Technology|    6|\n",
      "|         Spain|   Consumer|     Technology|   85|\n",
      "|       Germany|Home Office|      Furniture|   64|\n",
      "|       Finland|   Consumer|Office Supplies|   24|\n",
      "|         Spain|  Corporate|      Furniture|   45|\n",
      "|      Portugal|   Consumer|Office Supplies|   33|\n",
      "|         Italy|  Corporate|Office Supplies|  247|\n",
      "|       Finland|   Consumer|      Furniture|    7|\n",
      "|United Kingdom|Home Office|Office Supplies|  200|\n",
      "|       Austria|Home Office|Office Supplies|   39|\n",
      "|       Austria|   Consumer|Office Supplies|   98|\n",
      "+--------------+-----------+---------------+-----+\n",
      "only showing top 20 rows\n",
      "\n"
     ]
    }
   ],
   "source": [
    "df.groupby(\"Country\", \"Segment\", \"Category\").count().show()"
   ]
  },
  {
   "cell_type": "code",
   "execution_count": 380,
   "id": "f8b9d1b0",
   "metadata": {
    "ExecuteTime": {
     "end_time": "2023-03-02T22:30:13.206730Z",
     "start_time": "2023-03-02T22:30:13.189723Z"
    }
   },
   "outputs": [],
   "source": [
    "# our aggregation metrics so far has only been a count -> we can do better\n",
    "\n",
    "#max, sum, mean, median\n"
   ]
  },
  {
   "cell_type": "code",
   "execution_count": 394,
   "id": "e5ba6209",
   "metadata": {
    "ExecuteTime": {
     "end_time": "2023-03-02T22:38:13.678543Z",
     "start_time": "2023-03-02T22:38:13.528541Z"
    }
   },
   "outputs": [
    {
     "name": "stdout",
     "output_type": "stream",
     "text": [
      "+--------------+-----------+-------------------+\n",
      "|       Country|biggestSale|        totalProfit|\n",
      "+--------------+-----------+-------------------+\n",
      "|       Austria|      97.92|           21442.26|\n",
      "|       Belgium|       97.8|           11572.59|\n",
      "|       Denmark|      97.89|-4282.0470000000005|\n",
      "|       Finland|     990.15|            3905.73|\n",
      "|        France|     999.09| 109029.00299999975|\n",
      "|       Germany|    990.468| 107322.82049999991|\n",
      "|       Ireland|     981.36| -7392.381000000003|\n",
      "|         Italy|     990.36| 19828.757999999965|\n",
      "|   Netherlands|      99.54| -41070.07499999996|\n",
      "|        Norway|     964.08|            5167.77|\n",
      "|      Portugal|     93.915| -8703.059999999998|\n",
      "|         Spain|     990.45|  54390.11999999999|\n",
      "|        Sweden|     993.66|-17519.366999999987|\n",
      "|   Switzerland|       96.9|  7237.470000000001|\n",
      "|United Kingdom|      996.3| 111900.15000000001|\n",
      "+--------------+-----------+-------------------+\n",
      "\n"
     ]
    }
   ],
   "source": [
    "df.groupBy(\"Country\").agg({'Sales' : 'max', 'Profit':'sum'}).withColumnRenamed(\"max(Sales)\", \"biggestSale\").withColumnRenamed(\"sum(Profit)\", \"totalProfit\").show()"
   ]
  },
  {
   "cell_type": "code",
   "execution_count": 395,
   "id": "1c0f1bda",
   "metadata": {
    "ExecuteTime": {
     "end_time": "2023-03-02T22:40:12.384514Z",
     "start_time": "2023-03-02T22:40:12.366516Z"
    }
   },
   "outputs": [],
   "source": [
    "grouped_country = df.groupBy(\"Country\").agg({'Sales': 'max', 'Profit':'sum'}).withColumnRenamed('max(Sales)', 'biggestSale').withColumnRenamed('sum(Profit)', 'totalProfit')"
   ]
  },
  {
   "cell_type": "markdown",
   "id": "072bfe12",
   "metadata": {},
   "source": [
    "# Remove Decimals func.round()"
   ]
  },
  {
   "cell_type": "code",
   "execution_count": 397,
   "id": "6a678668",
   "metadata": {
    "ExecuteTime": {
     "end_time": "2023-03-02T22:40:48.500553Z",
     "start_time": "2023-03-02T22:40:48.355566Z"
    },
    "scrolled": true
   },
   "outputs": [
    {
     "name": "stdout",
     "output_type": "stream",
     "text": [
      "+--------------+-----------+-------------------+\n",
      "|       Country|biggestSale|        totalProfit|\n",
      "+--------------+-----------+-------------------+\n",
      "|       Austria|      97.92|           21442.26|\n",
      "|       Belgium|       97.8|           11572.59|\n",
      "|       Denmark|      97.89|-4282.0470000000005|\n",
      "|       Finland|     990.15|            3905.73|\n",
      "|        France|     999.09| 109029.00299999975|\n",
      "|       Germany|    990.468| 107322.82049999991|\n",
      "|       Ireland|     981.36| -7392.381000000003|\n",
      "|         Italy|     990.36| 19828.757999999965|\n",
      "|   Netherlands|      99.54| -41070.07499999996|\n",
      "|        Norway|     964.08|            5167.77|\n",
      "|      Portugal|     93.915| -8703.059999999998|\n",
      "|         Spain|     990.45|  54390.11999999999|\n",
      "|        Sweden|     993.66|-17519.366999999987|\n",
      "|   Switzerland|       96.9|  7237.470000000001|\n",
      "|United Kingdom|      996.3| 111900.15000000001|\n",
      "+--------------+-----------+-------------------+\n",
      "\n"
     ]
    }
   ],
   "source": [
    "# We want remove these useless insane decimals\n",
    "\n",
    "grouped_country.show()"
   ]
  },
  {
   "cell_type": "code",
   "execution_count": 398,
   "id": "642a8c24",
   "metadata": {
    "ExecuteTime": {
     "end_time": "2023-03-02T22:41:06.496859Z",
     "start_time": "2023-03-02T22:41:06.485859Z"
    }
   },
   "outputs": [],
   "source": [
    "import pyspark.sql.functions as func"
   ]
  },
  {
   "cell_type": "code",
   "execution_count": 403,
   "id": "54165f2e",
   "metadata": {
    "ExecuteTime": {
     "end_time": "2023-03-02T22:44:15.005940Z",
     "start_time": "2023-03-02T22:44:14.859952Z"
    }
   },
   "outputs": [
    {
     "name": "stdout",
     "output_type": "stream",
     "text": [
      "+--------------+-----------+-------------------+-------------+\n",
      "|       Country|biggestSale|        totalProfit|roundedProfit|\n",
      "+--------------+-----------+-------------------+-------------+\n",
      "|       Austria|      97.92|           21442.26|     21442.26|\n",
      "|       Belgium|       97.8|           11572.59|     11572.59|\n",
      "|       Denmark|      97.89|-4282.0470000000005|     -4282.05|\n",
      "|       Finland|     990.15|            3905.73|      3905.73|\n",
      "|        France|     999.09| 109029.00299999975|     109029.0|\n",
      "|       Germany|    990.468| 107322.82049999991|    107322.82|\n",
      "|       Ireland|     981.36| -7392.381000000003|     -7392.38|\n",
      "|         Italy|     990.36| 19828.757999999965|     19828.76|\n",
      "|   Netherlands|      99.54| -41070.07499999996|    -41070.07|\n",
      "|        Norway|     964.08|            5167.77|      5167.77|\n",
      "|      Portugal|     93.915| -8703.059999999998|     -8703.06|\n",
      "|         Spain|     990.45|  54390.11999999999|     54390.12|\n",
      "|        Sweden|     993.66|-17519.366999999987|    -17519.37|\n",
      "|   Switzerland|       96.9|  7237.470000000001|      7237.47|\n",
      "|United Kingdom|      996.3| 111900.15000000001|    111900.15|\n",
      "+--------------+-----------+-------------------+-------------+\n",
      "\n"
     ]
    }
   ],
   "source": [
    "grouped_country.withColumn('roundedProfit', func.round(grouped_country['totalProfit'], 2)).show()"
   ]
  },
  {
   "cell_type": "code",
   "execution_count": 407,
   "id": "75001ba1",
   "metadata": {
    "ExecuteTime": {
     "end_time": "2023-03-02T22:49:21.826061Z",
     "start_time": "2023-03-02T22:49:21.593707Z"
    }
   },
   "outputs": [
    {
     "name": "stdout",
     "output_type": "stream",
     "text": [
      "+-----------+-----------+---------------+------------------+-------------------+\n",
      "|    Country|    Segment|       Category|        sum(Sales)|        avg(Profit)|\n",
      "+-----------+-----------+---------------+------------------+-------------------+\n",
      "|     Sweden|Home Office|      Furniture|          4927.845| -714.7475000000001|\n",
      "|   Portugal|  Corporate|Office Supplies| 4464.449999999999|-287.99307692307696|\n",
      "|Netherlands|Home Office|      Furniture|          7045.761| -243.9093529411765|\n",
      "|Netherlands|   Consumer|     Technology|          17532.36|-225.96125000000004|\n",
      "|   Portugal|  Corporate|     Technology|          1818.735|           -218.811|\n",
      "|   Portugal|   Consumer|     Technology|           3112.32|-204.90749999999997|\n",
      "|    Ireland|Home Office|     Technology|           1906.53|-200.98000000000002|\n",
      "|Netherlands|   Consumer|      Furniture|20556.762000000002|-194.89152941176465|\n",
      "|     Sweden|   Consumer|      Furniture| 3389.489999999999|-157.86200000000002|\n",
      "|   Portugal|  Corporate|      Furniture|1679.9850000000001|         -130.09875|\n",
      "|Netherlands|  Corporate|     Technology|          4430.175|-120.35605263157896|\n",
      "|    Ireland|  Corporate|      Furniture|          1867.389|-120.27300000000001|\n",
      "|    Denmark|   Consumer|     Technology|           2529.12|-118.23666666666668|\n",
      "|    Denmark|  Corporate|     Technology| 824.5500000000001|           -114.444|\n",
      "|     Sweden|   Consumer|     Technology|3904.9049999999997|-111.17583333333333|\n",
      "|     Sweden|  Corporate|      Furniture|          2670.123|-104.20980000000002|\n",
      "|    Ireland|   Consumer|      Furniture|          1290.105|          -103.3275|\n",
      "|    Denmark|   Consumer|      Furniture|          1216.767|-102.11049999999999|\n",
      "|    Ireland|   Consumer|     Technology|           4940.28| -99.65571428571427|\n",
      "|Netherlands|Home Office|     Technology|2428.4100000000003| -91.90615384615384|\n",
      "+-----------+-----------+---------------+------------------+-------------------+\n",
      "only showing top 20 rows\n",
      "\n"
     ]
    }
   ],
   "source": [
    "df.groupBy(\"Country\", \"Segment\", \"Category\").agg({'Sales' : 'sum', 'Profit' : 'mean'}).orderBy(\"avg(Profit)\").show()"
   ]
  },
  {
   "cell_type": "code",
   "execution_count": 412,
   "id": "dec93af8",
   "metadata": {
    "ExecuteTime": {
     "end_time": "2023-03-02T22:55:53.377183Z",
     "start_time": "2023-03-02T22:55:53.337185Z"
    }
   },
   "outputs": [],
   "source": [
    "group = df.groupBy(\"Country\", \"Segment\", \"Category\").agg({\"Sales\" : \"sum\", \"Profit\" : \"mean\"}).orderBy(\"avg(Profit)\", ascending = False).withColumnRenamed(\"avg(Profit)\", \"averageProfit\").withColumnRenamed(\"sum(Sales)\", \"totalSale\")"
   ]
  },
  {
   "cell_type": "code",
   "execution_count": 413,
   "id": "85113045",
   "metadata": {
    "ExecuteTime": {
     "end_time": "2023-03-02T22:55:53.959973Z",
     "start_time": "2023-03-02T22:55:53.744977Z"
    }
   },
   "outputs": [
    {
     "name": "stdout",
     "output_type": "stream",
     "text": [
      "+--------------+-----------+----------+------------------+------------------+\n",
      "|       Country|    Segment|  Category|         totalSale|     averageProfit|\n",
      "+--------------+-----------+----------+------------------+------------------+\n",
      "|   Switzerland|  Corporate|Technology|           5703.75|           499.995|\n",
      "|       Belgium|Home Office|Technology|            2370.3|            334.34|\n",
      "|         Spain|Home Office|Technology|         19410.438| 242.8037142857143|\n",
      "|        Norway|  Corporate|Technology|           6638.01|238.45125000000002|\n",
      "|       Belgium|   Consumer|Technology| 5597.700000000001|228.02142857142863|\n",
      "|   Switzerland|   Consumer|Technology|           5410.35|            210.63|\n",
      "|       Finland|Home Office| Furniture|2246.2200000000003|200.49000000000004|\n",
      "|   Switzerland|   Consumer| Furniture|3996.2400000000007|198.43285714285716|\n",
      "|       Austria|   Consumer| Furniture|13766.160000000002|190.75571428571428|\n",
      "|       Austria|   Consumer|Technology|          12305.01|184.16714285714284|\n",
      "|       Austria|Home Office| Furniture|            3591.3|           181.446|\n",
      "|United Kingdom|   Consumer|Technology|110991.59700000002| 166.4458187919463|\n",
      "|       Austria|  Corporate|Technology|11086.140000000001|164.67666666666668|\n",
      "|United Kingdom|  Corporate|Technology|         68470.077| 163.3911142857143|\n",
      "|        Norway|  Corporate| Furniture|           1680.42|           162.705|\n",
      "|       Germany|   Consumer|Technology|146568.01200000008|156.91275348837198|\n",
      "|        Norway|   Consumer| Furniture|           2543.31|           148.485|\n",
      "|United Kingdom|   Consumer| Furniture|         67089.456|135.01614545454547|\n",
      "|United Kingdom|Home Office| Furniture|         21790.848|133.74599999999998|\n",
      "|       Belgium|  Corporate|Technology|           5747.01|           129.267|\n",
      "+--------------+-----------+----------+------------------+------------------+\n",
      "only showing top 20 rows\n",
      "\n"
     ]
    }
   ],
   "source": [
    "group.show()"
   ]
  },
  {
   "cell_type": "code",
   "execution_count": 418,
   "id": "1fc6bb6d",
   "metadata": {
    "ExecuteTime": {
     "end_time": "2023-03-02T22:57:37.843528Z",
     "start_time": "2023-03-02T22:57:37.821530Z"
    }
   },
   "outputs": [],
   "source": [
    "group = group.withColumn(\"averageProfit\", func.round(group[\"averageProfit\"], 2)).withColumn(\"totalSale\", func.round(group[\"totalSale\"], 2))"
   ]
  },
  {
   "cell_type": "code",
   "execution_count": 420,
   "id": "b610256c",
   "metadata": {
    "ExecuteTime": {
     "end_time": "2023-03-02T22:57:45.507262Z",
     "start_time": "2023-03-02T22:57:45.286264Z"
    }
   },
   "outputs": [
    {
     "name": "stdout",
     "output_type": "stream",
     "text": [
      "+--------------+-----------+----------+---------+-------------+\n",
      "|       Country|    Segment|  Category|totalSale|averageProfit|\n",
      "+--------------+-----------+----------+---------+-------------+\n",
      "|   Switzerland|  Corporate|Technology|  5703.75|        500.0|\n",
      "|       Belgium|Home Office|Technology|   2370.3|       334.34|\n",
      "|         Spain|Home Office|Technology| 19410.44|        242.8|\n",
      "|        Norway|  Corporate|Technology|  6638.01|       238.45|\n",
      "|       Belgium|   Consumer|Technology|   5597.7|       228.02|\n",
      "|   Switzerland|   Consumer|Technology|  5410.35|       210.63|\n",
      "|       Finland|Home Office| Furniture|  2246.22|       200.49|\n",
      "|   Switzerland|   Consumer| Furniture|  3996.24|       198.43|\n",
      "|       Austria|   Consumer| Furniture| 13766.16|       190.76|\n",
      "|       Austria|   Consumer|Technology| 12305.01|       184.17|\n",
      "|       Austria|Home Office| Furniture|   3591.3|       181.45|\n",
      "|United Kingdom|   Consumer|Technology| 110991.6|       166.45|\n",
      "|       Austria|  Corporate|Technology| 11086.14|       164.68|\n",
      "|United Kingdom|  Corporate|Technology| 68470.08|       163.39|\n",
      "|        Norway|  Corporate| Furniture|  1680.42|       162.71|\n",
      "|       Germany|   Consumer|Technology|146568.01|       156.91|\n",
      "|        Norway|   Consumer| Furniture|  2543.31|       148.49|\n",
      "|United Kingdom|   Consumer| Furniture| 67089.46|       135.02|\n",
      "|United Kingdom|Home Office| Furniture| 21790.85|       133.75|\n",
      "|       Belgium|  Corporate|Technology|  5747.01|       129.27|\n",
      "+--------------+-----------+----------+---------+-------------+\n",
      "only showing top 20 rows\n",
      "\n"
     ]
    }
   ],
   "source": [
    "group.show()"
   ]
  },
  {
   "cell_type": "markdown",
   "id": "83fe037b",
   "metadata": {},
   "source": [
    "# collect method"
   ]
  },
  {
   "cell_type": "code",
   "execution_count": 424,
   "id": "f03c9574",
   "metadata": {
    "ExecuteTime": {
     "end_time": "2023-03-02T23:02:03.734961Z",
     "start_time": "2023-03-02T23:02:03.581815Z"
    }
   },
   "outputs": [
    {
     "name": "stdout",
     "output_type": "stream",
     "text": [
      "+--------------+------------------+\n",
      "|       Country|        sum(Sales)|\n",
      "+--------------+------------------+\n",
      "|       Denmark| 8638.053000000002|\n",
      "|      Portugal|          15105.12|\n",
      "|       Ireland|16639.508999999995|\n",
      "|        Norway|20525.370000000003|\n",
      "|       Finland|20704.350000000002|\n",
      "|   Switzerland|24877.860000000004|\n",
      "|        Sweden|         30491.403|\n",
      "|       Belgium| 49226.70000000003|\n",
      "|   Netherlands| 77514.94500000008|\n",
      "|       Austria| 81162.00000000006|\n",
      "|         Spain| 287146.6800000002|\n",
      "|         Italy|289709.65799999936|\n",
      "|United Kingdom| 528576.2999999992|\n",
      "|       Germany| 628840.0305000001|\n",
      "|        France|  858931.082999999|\n",
      "+--------------+------------------+\n",
      "\n"
     ]
    }
   ],
   "source": [
    "# we want to bring the name of the country which has the lowest number of sales, which is 'Denmark'\n",
    "\n",
    "df.groupBy(\"Country\").agg({\"Sales\" : \"sum\"}).orderBy(\"sum(Sales)\").show()"
   ]
  },
  {
   "cell_type": "code",
   "execution_count": 425,
   "id": "8d013a92",
   "metadata": {
    "ExecuteTime": {
     "end_time": "2023-03-02T23:03:16.000517Z",
     "start_time": "2023-03-02T23:03:15.990921Z"
    }
   },
   "outputs": [],
   "source": [
    "# collect method -> returns all rows from all different exeutors into memory at the central level"
   ]
  },
  {
   "cell_type": "code",
   "execution_count": 429,
   "id": "ab8a968b",
   "metadata": {
    "ExecuteTime": {
     "end_time": "2023-03-02T23:05:43.767009Z",
     "start_time": "2023-03-02T23:05:43.745008Z"
    }
   },
   "outputs": [],
   "source": [
    "grouped_country = df.groupBy(\"Country\").agg({\"Sales\" : \"sum\"}).orderBy(\"sum(Sales)\", ascending = True).withColumnRenamed(\"sum(Sales)\", \"totalSale\")"
   ]
  },
  {
   "cell_type": "code",
   "execution_count": 430,
   "id": "73f1e3e1",
   "metadata": {
    "ExecuteTime": {
     "end_time": "2023-03-02T23:05:44.791434Z",
     "start_time": "2023-03-02T23:05:44.657436Z"
    }
   },
   "outputs": [
    {
     "name": "stdout",
     "output_type": "stream",
     "text": [
      "+--------------+------------------+\n",
      "|       Country|         totalSale|\n",
      "+--------------+------------------+\n",
      "|       Denmark| 8638.053000000002|\n",
      "|      Portugal|          15105.12|\n",
      "|       Ireland|16639.508999999995|\n",
      "|        Norway|20525.370000000003|\n",
      "|       Finland|20704.350000000002|\n",
      "|   Switzerland|24877.860000000004|\n",
      "|        Sweden|         30491.403|\n",
      "|       Belgium| 49226.70000000003|\n",
      "|   Netherlands| 77514.94500000008|\n",
      "|       Austria| 81162.00000000006|\n",
      "|         Spain| 287146.6800000002|\n",
      "|         Italy|289709.65799999936|\n",
      "|United Kingdom| 528576.2999999992|\n",
      "|       Germany| 628840.0305000001|\n",
      "|        France|  858931.082999999|\n",
      "+--------------+------------------+\n",
      "\n"
     ]
    }
   ],
   "source": [
    "grouped_country.show()"
   ]
  },
  {
   "cell_type": "code",
   "execution_count": 436,
   "id": "7f331473",
   "metadata": {
    "ExecuteTime": {
     "end_time": "2023-03-02T23:10:13.261215Z",
     "start_time": "2023-03-02T23:10:13.114076Z"
    }
   },
   "outputs": [
    {
     "data": {
      "text/plain": [
       "15"
      ]
     },
     "execution_count": 436,
     "metadata": {},
     "output_type": "execute_result"
    }
   ],
   "source": [
    "grouped_country.count()"
   ]
  },
  {
   "cell_type": "code",
   "execution_count": 434,
   "id": "0c726853",
   "metadata": {
    "ExecuteTime": {
     "end_time": "2023-03-02T23:06:21.637680Z",
     "start_time": "2023-03-02T23:06:21.573551Z"
    }
   },
   "outputs": [
    {
     "data": {
      "text/plain": [
       "Row(Country='Denmark', totalSale=8638.053000000002)"
      ]
     },
     "execution_count": 434,
     "metadata": {},
     "output_type": "execute_result"
    }
   ],
   "source": [
    "grouped_country.collect()[0]"
   ]
  },
  {
   "cell_type": "code",
   "execution_count": 435,
   "id": "16da210b",
   "metadata": {
    "ExecuteTime": {
     "end_time": "2023-03-02T23:06:38.839726Z",
     "start_time": "2023-03-02T23:06:38.807727Z"
    }
   },
   "outputs": [
    {
     "data": {
      "text/plain": [
       "'Denmark'"
      ]
     },
     "execution_count": 435,
     "metadata": {},
     "output_type": "execute_result"
    }
   ],
   "source": [
    "grouped_country.collect()[0][\"Country\"]"
   ]
  },
  {
   "cell_type": "code",
   "execution_count": 439,
   "id": "24ddb6cc",
   "metadata": {
    "ExecuteTime": {
     "end_time": "2023-03-02T23:11:19.412435Z",
     "start_time": "2023-03-02T23:11:19.345853Z"
    }
   },
   "outputs": [
    {
     "data": {
      "text/plain": [
       "'Denmark'"
      ]
     },
     "execution_count": 439,
     "metadata": {},
     "output_type": "execute_result"
    }
   ],
   "source": [
    "grouped_country.collect()[0][0]"
   ]
  },
  {
   "cell_type": "code",
   "execution_count": 440,
   "id": "a9226c9e",
   "metadata": {
    "ExecuteTime": {
     "end_time": "2023-03-02T23:11:21.496399Z",
     "start_time": "2023-03-02T23:11:21.434086Z"
    }
   },
   "outputs": [],
   "source": [
    "bottom_country_sales = grouped_country.collect()[0][0]"
   ]
  },
  {
   "cell_type": "code",
   "execution_count": 441,
   "id": "5dec40f7",
   "metadata": {
    "ExecuteTime": {
     "end_time": "2023-03-02T23:11:34.030568Z",
     "start_time": "2023-03-02T23:11:34.011570Z"
    }
   },
   "outputs": [
    {
     "data": {
      "text/plain": [
       "'Denmark'"
      ]
     },
     "execution_count": 441,
     "metadata": {},
     "output_type": "execute_result"
    }
   ],
   "source": [
    "bottom_country_sales"
   ]
  },
  {
   "cell_type": "code",
   "execution_count": 442,
   "id": "93258182",
   "metadata": {
    "ExecuteTime": {
     "end_time": "2023-03-02T23:11:45.110895Z",
     "start_time": "2023-03-02T23:11:45.100884Z"
    }
   },
   "outputs": [
    {
     "data": {
      "text/plain": [
       "str"
      ]
     },
     "execution_count": 442,
     "metadata": {},
     "output_type": "execute_result"
    }
   ],
   "source": [
    "type(bottom_country_sales)"
   ]
  },
  {
   "cell_type": "code",
   "execution_count": 444,
   "id": "1a01bcd2",
   "metadata": {
    "ExecuteTime": {
     "end_time": "2023-03-02T23:13:07.631898Z",
     "start_time": "2023-03-02T23:13:07.614898Z"
    }
   },
   "outputs": [],
   "source": [
    "### We should be very careful when use collect() method, beacuse this method brings all the data to the ram of the masternode,\n",
    "##so we can use this method if our data well grouped"
   ]
  },
  {
   "cell_type": "code",
   "execution_count": 445,
   "id": "4f82346b",
   "metadata": {
    "ExecuteTime": {
     "end_time": "2023-03-02T23:15:10.623284Z",
     "start_time": "2023-03-02T23:15:10.414286Z"
    }
   },
   "outputs": [],
   "source": [
    "# show me all the rows of the country which has the lowest sales\n",
    "\n",
    "lowest_name = df.groupBy(\"Country\").agg({'Sales' : 'sum'}).orderBy('sum(Sales)', ascending=True).collect()[0][0]"
   ]
  },
  {
   "cell_type": "code",
   "execution_count": 450,
   "id": "cde3682e",
   "metadata": {
    "ExecuteTime": {
     "end_time": "2023-03-02T23:15:57.907635Z",
     "start_time": "2023-03-02T23:15:57.795601Z"
    }
   },
   "outputs": [
    {
     "data": {
      "text/plain": [
       "65"
      ]
     },
     "execution_count": 450,
     "metadata": {},
     "output_type": "execute_result"
    }
   ],
   "source": [
    "df.filter(df[\"Country\"] == lowest_name).count()"
   ]
  },
  {
   "cell_type": "code",
   "execution_count": 454,
   "id": "d7bd3d0c",
   "metadata": {
    "ExecuteTime": {
     "end_time": "2023-03-02T23:16:53.829049Z",
     "start_time": "2023-03-02T23:16:53.771059Z"
    }
   },
   "outputs": [
    {
     "name": "stdout",
     "output_type": "stream",
     "text": [
      "+------+---------------+----------+----------+--------------+-----------+----------------+---------+-------+-------------+-------+------+---------------+---------------+------------+--------------------+------+--------+--------+-------+------------+\n",
      "|Row ID|       Order ID|Order Date| Ship Date|     Ship Mode|Customer ID|   Customer Name|  Segment|   City|        State|Country|Region|     Product ID|       Category|Sub-Category|        Product Name| Sales|Quantity|Discount| Profit|isDiscounted|\n",
      "+------+---------------+----------+----------+--------------+-----------+----------------+---------+-------+-------------+-------+------+---------------+---------------+------------+--------------------+------+--------+--------+-------+------------+\n",
      "|   626|ES-2015-4825230|18/01/2015|23/01/2015|  Second Class|   RB-19435| Richard Bierner| Consumer|Esbjerg|South Denmark|Denmark| North|OFF-BI-10004446|Office Supplies|     Binders|Acco Binding Mach...|25.545|       1|     0.5|-10.755|           Y|\n",
      "|   728|ES-2017-2219250|24/09/2017|29/09/2017|Standard Class|   AR-10405|Allen Rosenblatt|Corporate| Odense|South Denmark|Denmark| North|TEC-PH-10004825|     Technology|      Phones| Cisco Headset, VoIP| 88.53|       2|     0.5| -81.45|           Y|\n",
      "+------+---------------+----------+----------+--------------+-----------+----------------+---------+-------+-------------+-------+------+---------------+---------------+------------+--------------------+------+--------+--------+-------+------------+\n",
      "only showing top 2 rows\n",
      "\n"
     ]
    }
   ],
   "source": [
    "df[df[\"Country\"] == lowest_name].show(2)"
   ]
  },
  {
   "cell_type": "code",
   "execution_count": 455,
   "id": "e442ed55",
   "metadata": {
    "ExecuteTime": {
     "end_time": "2023-03-02T23:17:26.459864Z",
     "start_time": "2023-03-02T23:17:26.398879Z"
    }
   },
   "outputs": [
    {
     "name": "stdout",
     "output_type": "stream",
     "text": [
      "+------+---------------+----------+----------+--------------+-----------+----------------+---------+-------+-------------+-------+------+---------------+---------------+------------+--------------------+------+--------+--------+-------+------------+\n",
      "|Row ID|       Order ID|Order Date| Ship Date|     Ship Mode|Customer ID|   Customer Name|  Segment|   City|        State|Country|Region|     Product ID|       Category|Sub-Category|        Product Name| Sales|Quantity|Discount| Profit|isDiscounted|\n",
      "+------+---------------+----------+----------+--------------+-----------+----------------+---------+-------+-------------+-------+------+---------------+---------------+------------+--------------------+------+--------+--------+-------+------------+\n",
      "|   626|ES-2015-4825230|18/01/2015|23/01/2015|  Second Class|   RB-19435| Richard Bierner| Consumer|Esbjerg|South Denmark|Denmark| North|OFF-BI-10004446|Office Supplies|     Binders|Acco Binding Mach...|25.545|       1|     0.5|-10.755|           Y|\n",
      "|   728|ES-2017-2219250|24/09/2017|29/09/2017|Standard Class|   AR-10405|Allen Rosenblatt|Corporate| Odense|South Denmark|Denmark| North|TEC-PH-10004825|     Technology|      Phones| Cisco Headset, VoIP| 88.53|       2|     0.5| -81.45|           Y|\n",
      "+------+---------------+----------+----------+--------------+-----------+----------------+---------+-------+-------------+-------+------+---------------+---------------+------------+--------------------+------+--------+--------+-------+------------+\n",
      "only showing top 2 rows\n",
      "\n"
     ]
    }
   ],
   "source": [
    "# or we can use filter method also\n",
    "\n",
    "df.filter(df[\"Country\"] == lowest_name).show(2)"
   ]
  },
  {
   "cell_type": "code",
   "execution_count": 491,
   "id": "360c2d26",
   "metadata": {
    "ExecuteTime": {
     "end_time": "2023-03-02T23:27:37.481248Z",
     "start_time": "2023-03-02T23:27:37.289227Z"
    }
   },
   "outputs": [],
   "source": [
    "# get all the rows for the 3 bottom countries by profit\n",
    "\n",
    "bottom_three = df.groupBy(\"Country\").agg({\"Profit\" : \"sum\"}).orderBy(\"sum(Profit)\", ascending=True).collect()[0:3]"
   ]
  },
  {
   "cell_type": "code",
   "execution_count": 492,
   "id": "9ae6544a",
   "metadata": {
    "ExecuteTime": {
     "end_time": "2023-03-02T23:27:39.963917Z",
     "start_time": "2023-03-02T23:27:39.944929Z"
    }
   },
   "outputs": [
    {
     "data": {
      "text/plain": [
       "[Row(Country='Netherlands', sum(Profit)=-41070.07499999996),\n",
       " Row(Country='Sweden', sum(Profit)=-17519.366999999987),\n",
       " Row(Country='Portugal', sum(Profit)=-8703.059999999998)]"
      ]
     },
     "execution_count": 492,
     "metadata": {},
     "output_type": "execute_result"
    }
   ],
   "source": [
    "bottom_three"
   ]
  },
  {
   "cell_type": "code",
   "execution_count": 493,
   "id": "c20ee067",
   "metadata": {
    "ExecuteTime": {
     "end_time": "2023-03-02T23:27:40.684939Z",
     "start_time": "2023-03-02T23:27:40.665930Z"
    }
   },
   "outputs": [
    {
     "data": {
      "text/plain": [
       "list"
      ]
     },
     "execution_count": 493,
     "metadata": {},
     "output_type": "execute_result"
    }
   ],
   "source": [
    "type(bottom_three)"
   ]
  },
  {
   "cell_type": "code",
   "execution_count": 494,
   "id": "9c2b97dc",
   "metadata": {
    "ExecuteTime": {
     "end_time": "2023-03-02T23:27:49.653051Z",
     "start_time": "2023-03-02T23:27:49.642051Z"
    }
   },
   "outputs": [],
   "source": [
    "bottom_three = [element[0] for element in bottom_three]"
   ]
  },
  {
   "cell_type": "code",
   "execution_count": 495,
   "id": "f9f00dd0",
   "metadata": {
    "ExecuteTime": {
     "end_time": "2023-03-02T23:27:53.553552Z",
     "start_time": "2023-03-02T23:27:53.546551Z"
    }
   },
   "outputs": [
    {
     "data": {
      "text/plain": [
       "['Netherlands', 'Sweden', 'Portugal']"
      ]
     },
     "execution_count": 495,
     "metadata": {},
     "output_type": "execute_result"
    }
   ],
   "source": [
    "bottom_three"
   ]
  },
  {
   "cell_type": "code",
   "execution_count": 496,
   "id": "a9382e48",
   "metadata": {
    "ExecuteTime": {
     "end_time": "2023-03-02T23:27:59.388018Z",
     "start_time": "2023-03-02T23:27:59.372020Z"
    }
   },
   "outputs": [
    {
     "data": {
      "text/plain": [
       "list"
      ]
     },
     "execution_count": 496,
     "metadata": {},
     "output_type": "execute_result"
    }
   ],
   "source": [
    "type(bottom_three)"
   ]
  },
  {
   "cell_type": "code",
   "execution_count": 500,
   "id": "a15108f2",
   "metadata": {
    "ExecuteTime": {
     "end_time": "2023-03-02T23:29:00.276582Z",
     "start_time": "2023-03-02T23:29:00.186999Z"
    }
   },
   "outputs": [
    {
     "data": {
      "text/plain": [
       "708"
      ]
     },
     "execution_count": 500,
     "metadata": {},
     "output_type": "execute_result"
    }
   ],
   "source": [
    "df.filter(df[\"Country\"].isin(bottom_three)).count()"
   ]
  },
  {
   "cell_type": "code",
   "execution_count": 506,
   "id": "0e6f646d",
   "metadata": {
    "ExecuteTime": {
     "end_time": "2023-03-02T23:29:56.489486Z",
     "start_time": "2023-03-02T23:29:56.425488Z"
    }
   },
   "outputs": [
    {
     "name": "stdout",
     "output_type": "stream",
     "text": [
      "+------+---------------+----------+----------+--------------+-----------+---------------+---------+-----------+-------------+-----------+-------+---------------+---------------+------------+--------------------+------+--------+--------+-------+------------+\n",
      "|Row ID|       Order ID|Order Date| Ship Date|     Ship Mode|Customer ID|  Customer Name|  Segment|       City|        State|    Country| Region|     Product ID|       Category|Sub-Category|        Product Name| Sales|Quantity|Discount| Profit|isDiscounted|\n",
      "+------+---------------+----------+----------+--------------+-----------+---------------+---------+-----------+-------------+-----------+-------+---------------+---------------+------------+--------------------+------+--------+--------+-------+------------+\n",
      "|    41|IT-2017-2373016|08/11/2017|11/11/2017|   First Class|   CM-11830| Cari MacIntyre|Corporate|  The Hague|South Holland|Netherlands|Central|OFF-SU-10003907|Office Supplies|    Supplies|Stiletto Letter O...|    15|       1|     0.5|   -9.3|           Y|\n",
      "|    42|IT-2017-2373016|08/11/2017|11/11/2017|   First Class|   CM-11830| Cari MacIntyre|Corporate|  The Hague|South Holland|Netherlands|Central|OFF-BI-10001249|Office Supplies|     Binders|Acco Hole Reinfor...| 14.04|       4|     0.5|      0|           Y|\n",
      "|    43|IT-2017-2373016|08/11/2017|11/11/2017|   First Class|   CM-11830| Cari MacIntyre|Corporate|  The Hague|South Holland|Netherlands|Central|OFF-AR-10000823|Office Supplies|         Art|Stanley Pens, Wat...|33.075|       5|     0.5|-11.925|           Y|\n",
      "|    51|IT-2018-2321796|02/04/2018|07/04/2018|Standard Class|   IL-15100|    Ivan Liston| Consumer|      Nacka|    Stockholm|     Sweden|  North|OFF-ST-10002659|Office Supplies|     Storage|Smead Shelving, W...|    72|       3|     0.5|  -5.76|           Y|\n",
      "|   105|IT-2017-4388990|10/08/2017|13/08/2017|  Second Class|   MM-17260|Magdelene Morse| Consumer|Vlaardingen|South Holland|Netherlands|Central|FUR-FU-10004137|      Furniture| Furnishings|Tenex Light Bulb,...| 84.24|       6|     0.2| -15.84|           Y|\n",
      "+------+---------------+----------+----------+--------------+-----------+---------------+---------+-----------+-------------+-----------+-------+---------------+---------------+------------+--------------------+------+--------+--------+-------+------------+\n",
      "only showing top 5 rows\n",
      "\n"
     ]
    }
   ],
   "source": [
    "df.filter(df[\"Country\"].isin(bottom_three)).show(5)"
   ]
  },
  {
   "cell_type": "code",
   "execution_count": null,
   "id": "f7f7c0c6",
   "metadata": {},
   "outputs": [],
   "source": []
  }
 ],
 "metadata": {
  "kernelspec": {
   "display_name": "Python 3 (ipykernel)",
   "language": "python",
   "name": "python3"
  },
  "language_info": {
   "codemirror_mode": {
    "name": "ipython",
    "version": 3
   },
   "file_extension": ".py",
   "mimetype": "text/x-python",
   "name": "python",
   "nbconvert_exporter": "python",
   "pygments_lexer": "ipython3",
   "version": "3.9.13"
  },
  "toc": {
   "base_numbering": 1,
   "nav_menu": {},
   "number_sections": true,
   "sideBar": true,
   "skip_h1_title": false,
   "title_cell": "Table of Contents",
   "title_sidebar": "Contents",
   "toc_cell": false,
   "toc_position": {},
   "toc_section_display": true,
   "toc_window_display": false
  },
  "varInspector": {
   "cols": {
    "lenName": 16,
    "lenType": 16,
    "lenVar": 40
   },
   "kernels_config": {
    "python": {
     "delete_cmd_postfix": "",
     "delete_cmd_prefix": "del ",
     "library": "var_list.py",
     "varRefreshCmd": "print(var_dic_list())"
    },
    "r": {
     "delete_cmd_postfix": ") ",
     "delete_cmd_prefix": "rm(",
     "library": "var_list.r",
     "varRefreshCmd": "cat(var_dic_list()) "
    }
   },
   "types_to_exclude": [
    "module",
    "function",
    "builtin_function_or_method",
    "instance",
    "_Feature"
   ],
   "window_display": false
  }
 },
 "nbformat": 4,
 "nbformat_minor": 5
}

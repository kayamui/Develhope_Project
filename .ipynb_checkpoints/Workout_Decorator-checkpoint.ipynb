{
 "cells": [
  {
   "cell_type": "markdown",
   "id": "61fd95d5",
   "metadata": {},
   "source": [
    "# .split()\n",
    "## stringi list haline döndürür"
   ]
  },
  {
   "cell_type": "code",
   "execution_count": null,
   "id": "5776e0a0",
   "metadata": {},
   "outputs": [],
   "source": [
    "s = \"hello how are you?\""
   ]
  },
  {
   "cell_type": "code",
   "execution_count": 2,
   "id": "88795578",
   "metadata": {},
   "outputs": [
    {
     "data": {
      "text/plain": [
       "['hello', 'how', 'are', 'you?']"
      ]
     },
     "execution_count": 2,
     "metadata": {},
     "output_type": "execute_result"
    }
   ],
   "source": [
    "s.split(\" \") #With this code when my function sees a blank it splits the sentence. \n",
    "#Boşluk gördüğüm yerde split yap demek istiyorum bu kodu girerek."
   ]
  },
  {
   "cell_type": "code",
   "execution_count": 3,
   "id": "ce8965c5",
   "metadata": {},
   "outputs": [],
   "source": [
    "s2 = \"hello howare you ?\""
   ]
  },
  {
   "cell_type": "code",
   "execution_count": 4,
   "id": "621b31c1",
   "metadata": {},
   "outputs": [
    {
     "data": {
      "text/plain": [
       "['hello', 'howare', 'you', '?']"
      ]
     },
     "execution_count": 4,
     "metadata": {},
     "output_type": "execute_result"
    }
   ],
   "source": [
    "s2.split(\" \")"
   ]
  },
  {
   "cell_type": "code",
   "execution_count": 6,
   "id": "6417d4fd",
   "metadata": {},
   "outputs": [
    {
     "data": {
      "text/plain": [
       "['hello', 'how', 'are', 'you?']"
      ]
     },
     "execution_count": 6,
     "metadata": {},
     "output_type": "execute_result"
    }
   ],
   "source": [
    "s.split()\n",
    "#Default olarak boşluğa göre ayırıyor"
   ]
  },
  {
   "cell_type": "code",
   "execution_count": 7,
   "id": "fa76791e",
   "metadata": {},
   "outputs": [],
   "source": [
    "s3 = \"limon,portakal,elma\""
   ]
  },
  {
   "cell_type": "code",
   "execution_count": 8,
   "id": "621fc928",
   "metadata": {},
   "outputs": [
    {
     "data": {
      "text/plain": [
       "['limon,portakal,elma']"
      ]
     },
     "execution_count": 8,
     "metadata": {},
     "output_type": "execute_result"
    }
   ],
   "source": [
    "s3.split()"
   ]
  },
  {
   "cell_type": "code",
   "execution_count": 9,
   "id": "08dbca4c",
   "metadata": {},
   "outputs": [
    {
     "data": {
      "text/plain": [
       "['limon', 'portakal', 'elma']"
      ]
     },
     "execution_count": 9,
     "metadata": {},
     "output_type": "execute_result"
    }
   ],
   "source": [
    "s3.split(\",\")"
   ]
  },
  {
   "cell_type": "markdown",
   "id": "34f14fa0",
   "metadata": {},
   "source": [
    "# .join()\n",
    "## listi string haline döndürür"
   ]
  },
  {
   "cell_type": "code",
   "execution_count": 13,
   "id": "38bf7491",
   "metadata": {},
   "outputs": [],
   "source": [
    "l = ['limon', 'elma', 'portakal']"
   ]
  },
  {
   "cell_type": "code",
   "execution_count": 15,
   "id": "63f3da86",
   "metadata": {},
   "outputs": [
    {
     "data": {
      "text/plain": [
       "'limon,elma,portakal'"
      ]
     },
     "execution_count": 15,
     "metadata": {},
     "output_type": "execute_result"
    }
   ],
   "source": [
    "\",\".join(l)"
   ]
  },
  {
   "cell_type": "code",
   "execution_count": 14,
   "id": "c77bbbc9",
   "metadata": {},
   "outputs": [
    {
     "data": {
      "text/plain": [
       "'limon-elma-portakal'"
      ]
     },
     "execution_count": 14,
     "metadata": {},
     "output_type": "execute_result"
    }
   ],
   "source": [
    "\"-\".join(l)"
   ]
  },
  {
   "cell_type": "code",
   "execution_count": 16,
   "id": "e9392fe6",
   "metadata": {},
   "outputs": [],
   "source": [
    "l2 = \",\".join(l)"
   ]
  },
  {
   "cell_type": "code",
   "execution_count": 17,
   "id": "8d91a343",
   "metadata": {},
   "outputs": [
    {
     "data": {
      "text/plain": [
       "'limon,elma,portakal'"
      ]
     },
     "execution_count": 17,
     "metadata": {},
     "output_type": "execute_result"
    }
   ],
   "source": [
    "l2"
   ]
  },
  {
   "cell_type": "code",
   "execution_count": 18,
   "id": "0f7181f7",
   "metadata": {},
   "outputs": [
    {
     "data": {
      "text/plain": [
       "['limon', 'elma', 'portakal']"
      ]
     },
     "execution_count": 18,
     "metadata": {},
     "output_type": "execute_result"
    }
   ],
   "source": [
    "l2.split(\",\")"
   ]
  },
  {
   "cell_type": "code",
   "execution_count": 19,
   "id": "6a813246",
   "metadata": {},
   "outputs": [],
   "source": [
    "l3 = l2.split(\",\")"
   ]
  },
  {
   "cell_type": "code",
   "execution_count": 20,
   "id": "fdef9f7c",
   "metadata": {},
   "outputs": [
    {
     "data": {
      "text/plain": [
       "['limon', 'elma', 'portakal']"
      ]
     },
     "execution_count": 20,
     "metadata": {},
     "output_type": "execute_result"
    }
   ],
   "source": [
    "l3"
   ]
  },
  {
   "cell_type": "code",
   "execution_count": null,
   "id": "7ca2a526",
   "metadata": {},
   "outputs": [],
   "source": []
  }
 ],
 "metadata": {
  "kernelspec": {
   "display_name": "Python 3 (ipykernel)",
   "language": "python",
   "name": "python3"
  },
  "language_info": {
   "codemirror_mode": {
    "name": "ipython",
    "version": 3
   },
   "file_extension": ".py",
   "mimetype": "text/x-python",
   "name": "python",
   "nbconvert_exporter": "python",
   "pygments_lexer": "ipython3",
   "version": "3.9.13"
  }
 },
 "nbformat": 4,
 "nbformat_minor": 5
}

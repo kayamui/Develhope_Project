{
 "cells": [
  {
   "cell_type": "markdown",
   "id": "2cbf41da",
   "metadata": {},
   "source": [
    "# Magic Methods"
   ]
  },
  {
   "cell_type": "raw",
   "id": "284a6393",
   "metadata": {},
   "source": [
    "Magic methodları kullanarak bazı built-in davranışları değiştirebiliriz. Bunlar __ ile çevrilidir. Bunlara dunder method da denir. Bunlardan birini zaten görmüştük, __init__ methodu"
   ]
  },
  {
   "cell_type": "code",
   "execution_count": 13,
   "id": "1694f46d",
   "metadata": {},
   "outputs": [],
   "source": [
    "class Employee:\n",
    "    raise_percent = 1.05\n",
    "    num_emp = 0\n",
    "    def __init__(self,name,last,age,pay):\n",
    "        self.name = name\n",
    "        self.last = last\n",
    "        self.age = age\n",
    "        self.pay = pay\n",
    "        Employee.num_emp += 1\n",
    "    def apply_raise(self):\n",
    "        self.pay = self.pay * Employee.raise_percent #Buraya self.raise_percent yazınca da sorun çıkarmıyor sanırım selfi direk class adı olarak alıyor"
   ]
  },
  {
   "cell_type": "code",
   "execution_count": 14,
   "id": "5ffa156e",
   "metadata": {},
   "outputs": [],
   "source": [
    "emp_1 = Employee(\"Muhammed\", \"Kaya\", 27, 1000)"
   ]
  },
  {
   "cell_type": "code",
   "execution_count": 15,
   "id": "c8454298",
   "metadata": {},
   "outputs": [],
   "source": [
    "Employee.apply_raise(emp_1)"
   ]
  },
  {
   "cell_type": "code",
   "execution_count": 16,
   "id": "8a7ce544",
   "metadata": {},
   "outputs": [
    {
     "data": {
      "text/plain": [
       "{'name': 'Muhammed', 'last': 'Kaya', 'age': 27, 'pay': 1050.0}"
      ]
     },
     "execution_count": 16,
     "metadata": {},
     "output_type": "execute_result"
    }
   ],
   "source": [
    "emp_1.__dict__"
   ]
  },
  {
   "cell_type": "code",
   "execution_count": 34,
   "id": "befb4f48",
   "metadata": {},
   "outputs": [],
   "source": [
    "class IT(Employee):\n",
    "    def __init__(self, name, last, age, pay, lang):\n",
    "        super().__init__(name, last, age, pay)\n",
    "        self.lang = lang\n",
    "    def __str__(self):\n",
    "        return f\" IT(name = {self.name}, last = {self.last}, age = {self.age}, pay = {self.pay}, lang = {self.lang})\""
   ]
  },
  {
   "cell_type": "code",
   "execution_count": 40,
   "id": "4d66f907",
   "metadata": {},
   "outputs": [],
   "source": [
    "emp_IT_1 = IT(\"Charlie\", \"Brown\", \"22\", 3000, \"python3\")"
   ]
  },
  {
   "cell_type": "code",
   "execution_count": 25,
   "id": "b6f58318",
   "metadata": {},
   "outputs": [
    {
     "data": {
      "text/plain": [
       "{'name': 'Charlie',\n",
       " 'last': 'Brown',\n",
       " 'age': '22',\n",
       " 'pay': 3000,\n",
       " 'lang': 'python3'}"
      ]
     },
     "execution_count": 25,
     "metadata": {},
     "output_type": "execute_result"
    }
   ],
   "source": [
    "emp_IT_1.__dict__"
   ]
  },
  {
   "cell_type": "markdown",
   "id": "07dd8c2d",
   "metadata": {},
   "source": [
    "# __init__()"
   ]
  },
  {
   "cell_type": "raw",
   "id": "2c03a4a0",
   "metadata": {},
   "source": [
    "# emp_1 = Employee(\"James\", \"Hughes\", \"32\",500) gibi classtan obje oluşturmak istediğimiz zaman çağrılır. Class(...) formatında input olarak verilenleri kendine arguman olarak alır."
   ]
  },
  {
   "cell_type": "markdown",
   "id": "ca9743d3",
   "metadata": {},
   "source": [
    "#  __str__()"
   ]
  },
  {
   "cell_type": "raw",
   "id": "7c08dd45",
   "metadata": {},
   "source": [
    "# Objenin okunabilir bir tanımını oluşturur\n",
    "# Kısaca ben print(obje) yaptığım zaman bana çıktı olarak ne vermesini istiyorsam __str__() magic methodunu kullanırım"
   ]
  },
  {
   "cell_type": "code",
   "execution_count": 26,
   "id": "7fc90c8d",
   "metadata": {},
   "outputs": [],
   "source": [
    "class Employee:\n",
    "    raise_percent = 1.05\n",
    "    num_emp = 0\n",
    "    def __init__(self,name,last,age,pay):\n",
    "        self.name = name\n",
    "        self.last = last\n",
    "        self.age = age\n",
    "        self.pay = pay\n",
    "        Employee.num_emp += 1\n",
    "    def apply_raise(self):\n",
    "        self.pay = self.pay * Employee.raise_percent\n",
    "    def __str__(self):\n",
    "        return f\"Employee(name = {self.name}, last = {self.last}, age = {self.age}, pay = {self.pay})\""
   ]
  },
  {
   "cell_type": "code",
   "execution_count": 43,
   "id": "a765a9a2",
   "metadata": {},
   "outputs": [],
   "source": [
    "emp_1 = Employee(\"James\", \"Hughes\", \"32\", 5000)"
   ]
  },
  {
   "cell_type": "code",
   "execution_count": 44,
   "id": "096db340",
   "metadata": {},
   "outputs": [
    {
     "name": "stdout",
     "output_type": "stream",
     "text": [
      "Employee(name = James, last = Hughes, age = 32, pay = 5000)\n"
     ]
    }
   ],
   "source": [
    "print(emp_1)"
   ]
  },
  {
   "cell_type": "code",
   "execution_count": 41,
   "id": "879ef02f",
   "metadata": {},
   "outputs": [
    {
     "name": "stdout",
     "output_type": "stream",
     "text": [
      " IT(name = Charlie, last = Brown, age = 22, pay = 3000, lang = python3)\n"
     ]
    }
   ],
   "source": [
    "print(emp_IT_1)"
   ]
  },
  {
   "cell_type": "markdown",
   "id": "34e96754",
   "metadata": {},
   "source": [
    "# __add()__\n",
    "## Kısaca toplama işlemi yapmaya yarıyor"
   ]
  },
  {
   "cell_type": "code",
   "execution_count": 49,
   "id": "75ff84ea",
   "metadata": {},
   "outputs": [],
   "source": [
    "class Employee:\n",
    "    raise_percent = 1.05\n",
    "    num_emp = 0\n",
    "    def __init__(self,name,last,age,pay):\n",
    "        self.name = name\n",
    "        self.last = last\n",
    "        self.age = age\n",
    "        self.pay = pay\n",
    "        Employee.num_emp += 1\n",
    "    def apply_raise(self):\n",
    "        self.pay = self.pay * Employee.raise_percent\n",
    "    def __str__(self):\n",
    "        return f\"Employee(name = {self.name}, last = {self.last}, age = {self.age}, pay = {self.pay})\"\n",
    "    def __add__(self,other): # burada iki eleman toplayacağımız için buradaki other da ikinci self anlamına geliyor\n",
    "        return self.pay + other.pay"
   ]
  },
  {
   "cell_type": "code",
   "execution_count": 50,
   "id": "e549f235",
   "metadata": {},
   "outputs": [],
   "source": [
    "emp_1 = Employee(\"James\", \"Hughes\", \"32\", 5000)"
   ]
  },
  {
   "cell_type": "code",
   "execution_count": 51,
   "id": "e17804ab",
   "metadata": {},
   "outputs": [],
   "source": [
    "emp_IT_1 = IT(\"Charlie\", \"Brown\", \"22\", 3000, \"python3\")"
   ]
  },
  {
   "cell_type": "code",
   "execution_count": 52,
   "id": "3d99fb9d",
   "metadata": {},
   "outputs": [
    {
     "data": {
      "text/plain": [
       "8000"
      ]
     },
     "execution_count": 52,
     "metadata": {},
     "output_type": "execute_result"
    }
   ],
   "source": [
    "emp_1 + emp_IT_1"
   ]
  },
  {
   "cell_type": "markdown",
   "id": "fc7e81f1",
   "metadata": {},
   "source": [
    "# __len__()"
   ]
  },
  {
   "cell_type": "code",
   "execution_count": 53,
   "id": "be88ce3a",
   "metadata": {},
   "outputs": [
    {
     "data": {
      "text/plain": [
       "3"
      ]
     },
     "execution_count": 53,
     "metadata": {},
     "output_type": "execute_result"
    }
   ],
   "source": [
    "len([1,2,3])"
   ]
  },
  {
   "cell_type": "code",
   "execution_count": 63,
   "id": "83c57458",
   "metadata": {},
   "outputs": [],
   "source": [
    "class Employee:\n",
    "    raise_percent = 1.05\n",
    "    num_emp = 0\n",
    "    def __init__(self,name,last,age,pay):\n",
    "        self.name = name\n",
    "        self.last = last\n",
    "        self.age = age\n",
    "        self.pay = pay\n",
    "        Employee.num_emp += 1\n",
    "    def apply_raise(self):\n",
    "        self.pay = self.pay * Employee.raise_percent\n",
    "    def __str__(self):\n",
    "        return f\"Employee(name = {self.name}, last = {self.last}, age = {self.age}, pay = {self.pay})\"\n",
    "    def __add__(self,other): # burada iki eleman toplayacağımız için buradaki other da ikinci self anlamına geliyor\n",
    "        return self.pay + other.pay\n",
    "    def __len__(self):\n",
    "        return len(self.name)"
   ]
  },
  {
   "cell_type": "code",
   "execution_count": 64,
   "id": "49a283bb",
   "metadata": {},
   "outputs": [
    {
     "data": {
      "text/plain": [
       "5"
      ]
     },
     "execution_count": 64,
     "metadata": {},
     "output_type": "execute_result"
    }
   ],
   "source": [
    "Employee.__len__(emp_1)"
   ]
  },
  {
   "cell_type": "code",
   "execution_count": null,
   "id": "dc5f7d75",
   "metadata": {},
   "outputs": [],
   "source": []
  },
  {
   "cell_type": "code",
   "execution_count": null,
   "id": "5fd246c7",
   "metadata": {},
   "outputs": [],
   "source": []
  }
 ],
 "metadata": {
  "kernelspec": {
   "display_name": "Python 3 (ipykernel)",
   "language": "python",
   "name": "python3"
  },
  "language_info": {
   "codemirror_mode": {
    "name": "ipython",
    "version": 3
   },
   "file_extension": ".py",
   "mimetype": "text/x-python",
   "name": "python",
   "nbconvert_exporter": "python",
   "pygments_lexer": "ipython3",
   "version": "3.9.13"
  }
 },
 "nbformat": 4,
 "nbformat_minor": 5
}

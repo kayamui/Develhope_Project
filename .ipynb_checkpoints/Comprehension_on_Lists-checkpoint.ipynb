{
 "cells": [
  {
   "cell_type": "markdown",
   "id": "31f0d8b4",
   "metadata": {},
   "source": [
    "# List Comprehensions"
   ]
  },
  {
   "cell_type": "code",
   "execution_count": 1,
   "id": "41560401",
   "metadata": {},
   "outputs": [
    {
     "name": "stdout",
     "output_type": "stream",
     "text": [
      "[1, 4, 9, 16, 25, 36, 49, 64, 81, 100]\n"
     ]
    }
   ],
   "source": [
    "squares = []\n",
    "for i in range(1,11):\n",
    "    squares.append(i*i)\n",
    "print(squares)"
   ]
  },
  {
   "cell_type": "code",
   "execution_count": 2,
   "id": "20758df4",
   "metadata": {},
   "outputs": [
    {
     "data": {
      "text/plain": [
       "[1, 4, 9, 16, 25, 36, 49, 64, 81, 100]"
      ]
     },
     "execution_count": 2,
     "metadata": {},
     "output_type": "execute_result"
    }
   ],
   "source": [
    "squares = [i * i for i in range(1,11)]\n",
    "squares"
   ]
  },
  {
   "cell_type": "code",
   "execution_count": 6,
   "id": "73cf7b54",
   "metadata": {},
   "outputs": [],
   "source": [
    "# Using list comprehensions and functions together\n",
    "def cube(x):\n",
    "    return x * x * x  #x ** 3"
   ]
  },
  {
   "cell_type": "code",
   "execution_count": 7,
   "id": "7b41c6a2",
   "metadata": {},
   "outputs": [
    {
     "data": {
      "text/plain": [
       "[1, 8, 27, 64, 125, 216, 343, 512, 729, 1000]"
      ]
     },
     "execution_count": 7,
     "metadata": {},
     "output_type": "execute_result"
    }
   ],
   "source": [
    "cubes = [cube(x) for x in range(1,11)]\n",
    "cubes"
   ]
  },
  {
   "cell_type": "markdown",
   "id": "29848a16",
   "metadata": {},
   "source": [
    "# List Comprehensionlarda Conditional yapıların Kullanılması"
   ]
  },
  {
   "cell_type": "code",
   "execution_count": 8,
   "id": "a1ec4713",
   "metadata": {},
   "outputs": [
    {
     "data": {
      "text/plain": [
       "[1, 4, 9, 16, 25, 36, 49, 64, 81, 100]"
      ]
     },
     "execution_count": 8,
     "metadata": {},
     "output_type": "execute_result"
    }
   ],
   "source": [
    "squares"
   ]
  },
  {
   "cell_type": "code",
   "execution_count": 9,
   "id": "1128d84e",
   "metadata": {},
   "outputs": [
    {
     "data": {
      "text/plain": [
       "[1, 9, 25, 49, 81]"
      ]
     },
     "execution_count": 9,
     "metadata": {},
     "output_type": "execute_result"
    }
   ],
   "source": [
    "odd_squares = [e for e in squares if e % 2 != 0]\n",
    "odd_squares"
   ]
  },
  {
   "cell_type": "code",
   "execution_count": 18,
   "id": "9b72fc6f",
   "metadata": {},
   "outputs": [
    {
     "data": {
      "text/plain": [
       "[1, 9, 25, 49, 81]"
      ]
     },
     "execution_count": 18,
     "metadata": {},
     "output_type": "execute_result"
    }
   ],
   "source": [
    "odd3_squares = []\n",
    "for e in squares:\n",
    "    if e % 2 !=0:\n",
    "        odd3_squares.append(e)\n",
    "odd3_squares"
   ]
  },
  {
   "cell_type": "markdown",
   "id": "ae7991bb",
   "metadata": {},
   "source": [
    "# Set comprehensions"
   ]
  },
  {
   "cell_type": "code",
   "execution_count": 30,
   "id": "25be356e",
   "metadata": {},
   "outputs": [],
   "source": [
    "numbers = {1,2,3,4,5,6,7,1,2}"
   ]
  },
  {
   "cell_type": "code",
   "execution_count": 33,
   "id": "8ab4d6e8",
   "metadata": {},
   "outputs": [],
   "source": [
    "set_numbers = {s for s in numbers if s in [1,2,3,4,5,6,1,2]}"
   ]
  },
  {
   "cell_type": "code",
   "execution_count": 34,
   "id": "039c87c0",
   "metadata": {},
   "outputs": [
    {
     "data": {
      "text/plain": [
       "{1, 2, 3, 4, 5, 6}"
      ]
     },
     "execution_count": 34,
     "metadata": {},
     "output_type": "execute_result"
    }
   ],
   "source": [
    "set_numbers"
   ]
  },
  {
   "cell_type": "markdown",
   "id": "bb90ea34",
   "metadata": {},
   "source": [
    "# Dictionary Comprehensions"
   ]
  },
  {
   "cell_type": "code",
   "execution_count": 35,
   "id": "4d3a8cb0",
   "metadata": {},
   "outputs": [],
   "source": [
    "square_dict = {e:e * e for e in range(1,11)}"
   ]
  },
  {
   "cell_type": "code",
   "execution_count": 36,
   "id": "873e0715",
   "metadata": {},
   "outputs": [
    {
     "data": {
      "text/plain": [
       "{1: 1, 2: 4, 3: 9, 4: 16, 5: 25, 6: 36, 7: 49, 8: 64, 9: 81, 10: 100}"
      ]
     },
     "execution_count": 36,
     "metadata": {},
     "output_type": "execute_result"
    }
   ],
   "source": [
    "square_dict"
   ]
  },
  {
   "cell_type": "markdown",
   "id": "25bd8d2b",
   "metadata": {},
   "source": [
    "# Nested List Comprehensions"
   ]
  },
  {
   "cell_type": "code",
   "execution_count": 37,
   "id": "f717901e",
   "metadata": {},
   "outputs": [
    {
     "data": {
      "text/plain": [
       "[[0, 1, 2, 3, 4, 5, 6],\n",
       " [0, 1, 2, 3, 4, 5, 6],\n",
       " [0, 1, 2, 3, 4, 5, 6],\n",
       " [0, 1, 2, 3, 4, 5, 6],\n",
       " [0, 1, 2, 3, 4, 5, 6]]"
      ]
     },
     "execution_count": 37,
     "metadata": {},
     "output_type": "execute_result"
    }
   ],
   "source": [
    "m = [ [j for j in range(7)] for _ in range(5)]\n",
    "m"
   ]
  },
  {
   "cell_type": "code",
   "execution_count": 38,
   "id": "86c197a5",
   "metadata": {},
   "outputs": [],
   "source": [
    "m = [[10,11,12], [13,14], [15,16,17,18]] "
   ]
  },
  {
   "cell_type": "code",
   "execution_count": 39,
   "id": "2cc7b70a",
   "metadata": {},
   "outputs": [
    {
     "name": "stdout",
     "output_type": "stream",
     "text": [
      "[10, 11, 12]\n",
      "[13, 14]\n",
      "[15, 16, 17, 18]\n"
     ]
    }
   ],
   "source": [
    "for l in m:\n",
    "    print(l)"
   ]
  },
  {
   "cell_type": "code",
   "execution_count": 42,
   "id": "5719abe6",
   "metadata": {},
   "outputs": [
    {
     "name": "stdout",
     "output_type": "stream",
     "text": [
      "[10, 11, 12]\n",
      "10\n",
      "11\n",
      "12\n",
      "[13, 14]\n",
      "13\n",
      "14\n",
      "[15, 16, 17, 18]\n",
      "15\n",
      "16\n",
      "17\n",
      "18\n"
     ]
    },
    {
     "data": {
      "text/plain": [
       "[10, 11, 12, 13, 14, 15, 16, 17, 18]"
      ]
     },
     "execution_count": 42,
     "metadata": {},
     "output_type": "execute_result"
    }
   ],
   "source": [
    "new_m = []\n",
    "for l in m:\n",
    "    print(l)\n",
    "    for e in l:\n",
    "        new_m.append(e)\n",
    "        print(e)\n",
    "new_m"
   ]
  },
  {
   "cell_type": "code",
   "execution_count": 47,
   "id": "45324bd3",
   "metadata": {},
   "outputs": [],
   "source": [
    "flatten_m = [e for l in m for e in l] #ilk gördüğümüz eleman her zaman yeni listemizin elemanlarını oluışturacak yani bizim elemanlarımız e \n",
    "# burada demek istediği ilk önce bizim ana listemiz m den lyi çekmişiz, sonra lden e yi çekmişiz\n",
    "#yani büyükten küçüğe önce for l in m sonra e in l"
   ]
  },
  {
   "cell_type": "code",
   "execution_count": 44,
   "id": "a90a0640",
   "metadata": {},
   "outputs": [
    {
     "data": {
      "text/plain": [
       "[10, 11, 12, 13, 14, 15, 16, 17, 18]"
      ]
     },
     "execution_count": 44,
     "metadata": {},
     "output_type": "execute_result"
    }
   ],
   "source": [
    "flatten_m"
   ]
  },
  {
   "cell_type": "code",
   "execution_count": 49,
   "id": "acc535ab",
   "metadata": {},
   "outputs": [
    {
     "ename": "NameError",
     "evalue": "name 'y' is not defined",
     "output_type": "error",
     "traceback": [
      "\u001b[1;31m---------------------------------------------------------------------------\u001b[0m",
      "\u001b[1;31mNameError\u001b[0m                                 Traceback (most recent call last)",
      "\u001b[1;32m~\\AppData\\Local\\Temp\\ipykernel_9972\\43240794.py\u001b[0m in \u001b[0;36m<module>\u001b[1;34m\u001b[0m\n\u001b[1;32m----> 1\u001b[1;33m \u001b[0mflatten_m\u001b[0m \u001b[1;33m=\u001b[0m \u001b[1;33m[\u001b[0m\u001b[0mx\u001b[0m \u001b[1;32mfor\u001b[0m \u001b[0mx\u001b[0m \u001b[1;32min\u001b[0m \u001b[0my\u001b[0m \u001b[1;32mfor\u001b[0m \u001b[0my\u001b[0m \u001b[1;32min\u001b[0m \u001b[0mm\u001b[0m\u001b[1;33m]\u001b[0m\u001b[1;33m\u001b[0m\u001b[1;33m\u001b[0m\u001b[0m\n\u001b[0m\u001b[0;32m      2\u001b[0m \u001b[0mflatten_m\u001b[0m\u001b[1;33m\u001b[0m\u001b[1;33m\u001b[0m\u001b[0m\n",
      "\u001b[1;31mNameError\u001b[0m: name 'y' is not defined"
     ]
    }
   ],
   "source": [
    "flatten_m = [x for x in y for y in m]\n",
    "flatten_m\n",
    "#for sırası küçükten büyüğe sıralandığı için hata verdi"
   ]
  },
  {
   "cell_type": "code",
   "execution_count": 52,
   "id": "fddcfb7e",
   "metadata": {},
   "outputs": [],
   "source": [
    "flatten_even_m = [i for x in m for i in x if i % 2 == 0] #for ları alırken kümeleri büyükten küçüğe doğru sıralamak lazım"
   ]
  },
  {
   "cell_type": "code",
   "execution_count": 53,
   "id": "4a6d419d",
   "metadata": {},
   "outputs": [
    {
     "data": {
      "text/plain": [
       "[10, 12, 14, 16, 18]"
      ]
     },
     "execution_count": 53,
     "metadata": {},
     "output_type": "execute_result"
    }
   ],
   "source": [
    "flatten_even_m"
   ]
  },
  {
   "cell_type": "code",
   "execution_count": null,
   "id": "abdaf224",
   "metadata": {},
   "outputs": [],
   "source": []
  }
 ],
 "metadata": {
  "kernelspec": {
   "display_name": "Python 3 (ipykernel)",
   "language": "python",
   "name": "python3"
  },
  "language_info": {
   "codemirror_mode": {
    "name": "ipython",
    "version": 3
   },
   "file_extension": ".py",
   "mimetype": "text/x-python",
   "name": "python",
   "nbconvert_exporter": "python",
   "pygments_lexer": "ipython3",
   "version": "3.9.13"
  }
 },
 "nbformat": 4,
 "nbformat_minor": 5
}

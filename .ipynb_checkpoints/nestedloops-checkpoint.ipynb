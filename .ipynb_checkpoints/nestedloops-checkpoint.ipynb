{
 "cells": [
  {
   "cell_type": "code",
   "execution_count": 22,
   "id": "c8d37a07",
   "metadata": {},
   "outputs": [
    {
     "name": "stdout",
     "output_type": "stream",
     "text": [
      "2 5\n",
      "2 6\n",
      "2 7\n",
      "2 8\n",
      "2 9\n",
      "4 5\n",
      "4 6\n",
      "4 7\n",
      "4 8\n",
      "4 9\n",
      "6 5\n",
      "6 6\n",
      "6 7\n",
      "6 8\n",
      "6 9\n",
      "7 5\n",
      "7 6\n",
      "7 7\n",
      "7 8\n",
      "7 9\n",
      "9 5\n",
      "9 6\n",
      "9 7\n",
      "9 8\n",
      "9 9\n",
      "10 5\n",
      "10 6\n",
      "10 7\n",
      "10 8\n",
      "10 9\n",
      "The number of combinations are 30\n"
     ]
    }
   ],
   "source": [
    "count=0\n",
    "for i in [2,4,6,7,9,10]:\n",
    "    for j in [5,6,7,8,9]:\n",
    "        print(i,j)\n",
    "        count+=1\n",
    "print(f\"The number of combinations are {count}\")"
   ]
  },
  {
   "cell_type": "code",
   "execution_count": 7,
   "id": "94d9b69b",
   "metadata": {},
   "outputs": [
    {
     "data": {
      "text/plain": [
       "range(0, 5)"
      ]
     },
     "execution_count": 7,
     "metadata": {},
     "output_type": "execute_result"
    }
   ],
   "source": [
    "range(5)"
   ]
  },
  {
   "cell_type": "code",
   "execution_count": 9,
   "id": "52b59d49",
   "metadata": {},
   "outputs": [
    {
     "data": {
      "text/plain": [
       "range"
      ]
     },
     "execution_count": 9,
     "metadata": {},
     "output_type": "execute_result"
    }
   ],
   "source": [
    "type(range(5))"
   ]
  },
  {
   "cell_type": "code",
   "execution_count": 10,
   "id": "71510a5c",
   "metadata": {},
   "outputs": [
    {
     "data": {
      "text/plain": [
       "[0, 1, 2, 3, 4]"
      ]
     },
     "execution_count": 10,
     "metadata": {},
     "output_type": "execute_result"
    }
   ],
   "source": [
    "list(range(5))"
   ]
  },
  {
   "cell_type": "code",
   "execution_count": 14,
   "id": "07dfd244",
   "metadata": {},
   "outputs": [
    {
     "data": {
      "text/plain": [
       "range(0, 100)"
      ]
     },
     "execution_count": 14,
     "metadata": {},
     "output_type": "execute_result"
    }
   ],
   "source": [
    "range(100)"
   ]
  },
  {
   "cell_type": "code",
   "execution_count": 23,
   "id": "66273a1f",
   "metadata": {},
   "outputs": [
    {
     "data": {
      "text/plain": [
       "[0, 1, 2, 3, 4, 5, 6, 7, 8, 9]"
      ]
     },
     "execution_count": 23,
     "metadata": {},
     "output_type": "execute_result"
    }
   ],
   "source": [
    "list(range(10))"
   ]
  },
  {
   "cell_type": "code",
   "execution_count": 2,
   "id": "447d0971",
   "metadata": {},
   "outputs": [
    {
     "name": "stdout",
     "output_type": "stream",
     "text": [
      "0 H\n",
      "1 i\n",
      "2 ,\n",
      "3  \n",
      "4 i\n",
      "5  \n",
      "6 a\n",
      "7 m\n",
      "8  \n",
      "9 M\n",
      "10 u\n",
      "11 h\n",
      "12 a\n",
      "13 m\n",
      "14 m\n",
      "15 e\n",
      "16 d\n"
     ]
    }
   ],
   "source": [
    "string=(\"Hi, i am Muhammed\")\n",
    "len(string)\n",
    "for position in range(len(string)):\n",
    "    print(position, string[position])"
   ]
  },
  {
   "cell_type": "code",
   "execution_count": 32,
   "id": "97e537ad",
   "metadata": {},
   "outputs": [
    {
     "name": "stdout",
     "output_type": "stream",
     "text": [
      "6 a\n",
      "12 a\n"
     ]
    }
   ],
   "source": [
    "string=(\"Hi, i am Muhammed\")\n",
    "len(string)\n",
    "for position in range(len(string)):\n",
    "    if string[position]== \"a\":\n",
    "        print(position, string[position])"
   ]
  },
  {
   "cell_type": "code",
   "execution_count": 37,
   "id": "5d582b38",
   "metadata": {},
   "outputs": [
    {
     "name": "stdout",
     "output_type": "stream",
     "text": [
      "5\n",
      "6\n",
      "7\n",
      "8\n",
      "9\n",
      "10\n",
      "11\n",
      "12\n",
      "13\n",
      "14\n",
      "15\n",
      "16\n",
      "17\n",
      "18\n",
      "19\n"
     ]
    }
   ],
   "source": [
    "for num in range(5,20):\n",
    "    print(num)"
   ]
  },
  {
   "cell_type": "code",
   "execution_count": 46,
   "id": "ae609b2c",
   "metadata": {},
   "outputs": [
    {
     "name": "stdout",
     "output_type": "stream",
     "text": [
      "0\n",
      "1\n",
      "2\n",
      "3\n",
      "4\n",
      "5\n",
      "6\n",
      "7\n",
      "8\n",
      "9\n",
      "10\n",
      "11\n",
      "12\n",
      "13\n",
      "14\n",
      "15\n",
      "16\n",
      "17\n",
      "18\n",
      "19\n"
     ]
    }
   ],
   "source": [
    "for num2 in range(20):\n",
    "    print(num2)"
   ]
  },
  {
   "cell_type": "code",
   "execution_count": 47,
   "id": "fec57cda",
   "metadata": {},
   "outputs": [],
   "source": [
    "#range(a,b) gives you number from a to b-1"
   ]
  },
  {
   "cell_type": "code",
   "execution_count": 50,
   "id": "b86cfe95",
   "metadata": {},
   "outputs": [
    {
     "name": "stdout",
     "output_type": "stream",
     "text": [
      "0\n",
      "7\n",
      "14\n",
      "21\n",
      "28\n",
      "35\n",
      "42\n",
      "49\n",
      "56\n",
      "63\n",
      "70\n",
      "77\n",
      "84\n",
      "91\n",
      "98\n"
     ]
    }
   ],
   "source": [
    "for i in range(0,100,7):\n",
    "    print(i)"
   ]
  },
  {
   "cell_type": "code",
   "execution_count": 51,
   "id": "e145a8c9",
   "metadata": {},
   "outputs": [
    {
     "data": {
      "text/plain": [
       "range(0, 10)"
      ]
     },
     "execution_count": 51,
     "metadata": {},
     "output_type": "execute_result"
    }
   ],
   "source": [
    "range(10)"
   ]
  },
  {
   "cell_type": "code",
   "execution_count": 52,
   "id": "a449b569",
   "metadata": {},
   "outputs": [
    {
     "name": "stdout",
     "output_type": "stream",
     "text": [
      "range(0, 10)\n"
     ]
    }
   ],
   "source": [
    "print(range(10))"
   ]
  },
  {
   "cell_type": "code",
   "execution_count": 53,
   "id": "40a034d3",
   "metadata": {},
   "outputs": [
    {
     "data": {
      "text/plain": [
       "[0, 1, 2, 3, 4, 5, 6, 7, 8, 9]"
      ]
     },
     "execution_count": 53,
     "metadata": {},
     "output_type": "execute_result"
    }
   ],
   "source": [
    "list(range(10))"
   ]
  },
  {
   "cell_type": "code",
   "execution_count": 54,
   "id": "0689bdf1",
   "metadata": {},
   "outputs": [
    {
     "name": "stdout",
     "output_type": "stream",
     "text": [
      "1\n",
      "2\n",
      "3\n",
      "4\n",
      "5\n",
      "6\n",
      "7\n",
      "8\n",
      "9\n",
      "10\n"
     ]
    }
   ],
   "source": [
    "i=1\n",
    "while i<=10:\n",
    "    print(i)\n",
    "    i+=1"
   ]
  },
  {
   "cell_type": "code",
   "execution_count": 55,
   "id": "08518c01",
   "metadata": {},
   "outputs": [
    {
     "name": "stdout",
     "output_type": "stream",
     "text": [
      "1\n",
      "2\n",
      "3\n",
      "4\n",
      "5\n",
      "6\n",
      "7\n",
      "8\n",
      "9\n",
      "10\n"
     ]
    }
   ],
   "source": [
    "for i in range(1,11):\n",
    "    print(i)"
   ]
  },
  {
   "cell_type": "code",
   "execution_count": 59,
   "id": "3290798e",
   "metadata": {},
   "outputs": [],
   "source": [
    "names=[\"Muhammed\", \"Bushra\", \"Kaya\"]\n",
    "grades=[9, 8, 7]\n",
    "surnames=[\"A\",\"B\", \"C\"]"
   ]
  },
  {
   "cell_type": "code",
   "execution_count": 61,
   "id": "e52da01b",
   "metadata": {},
   "outputs": [
    {
     "name": "stdout",
     "output_type": "stream",
     "text": [
      "Muhammed A get 9\n",
      "Bushra B get 8\n",
      "Kaya C get 7\n"
     ]
    }
   ],
   "source": [
    "#zip function we use for parallel pairing\n",
    "for n, g, s in zip(names, grades, surnames):\n",
    "    print(f\"{n} {s} get {g}\")"
   ]
  },
  {
   "cell_type": "code",
   "execution_count": 63,
   "id": "9efe62dd",
   "metadata": {},
   "outputs": [
    {
     "name": "stdout",
     "output_type": "stream",
     "text": [
      "9\n",
      "8\n",
      "7\n"
     ]
    }
   ],
   "source": [
    "names=[\"Muhammed\", \"Bushra\", \"Kaya\"]\n",
    "grades=[9.4, 8.7, 7.3]\n",
    "surnames=[\"A\",\"B\", \"C\"]\n",
    "\n",
    "for p in map(int, grades):\n",
    "    print(p)"
   ]
  },
  {
   "cell_type": "code",
   "execution_count": 64,
   "id": "0c0d5543",
   "metadata": {},
   "outputs": [
    {
     "name": "stdout",
     "output_type": "stream",
     "text": [
      "0 Muhammed\n",
      "1 Bushra\n",
      "2 Kaya\n"
     ]
    }
   ],
   "source": [
    "for i,n in enumerate(names):\n",
    "    print(i, n)"
   ]
  },
  {
   "cell_type": "code",
   "execution_count": 89,
   "id": "682ab010",
   "metadata": {},
   "outputs": [
    {
     "name": "stdout",
     "output_type": "stream",
     "text": [
      "0 Muhammed\n"
     ]
    }
   ],
   "source": [
    "for i, n in enumerate(names):\n",
    "    print(i, n)\n",
    "    if i > 20:\n",
    "        break\n",
    "    if \"m\" in n:\n",
    "        break\n",
    "    print(i, n )"
   ]
  },
  {
   "cell_type": "code",
   "execution_count": 71,
   "id": "f757bbfb",
   "metadata": {},
   "outputs": [
    {
     "name": "stdout",
     "output_type": "stream",
     "text": [
      "(0, 'Muhammed')\n",
      "(1, 'Bushra')\n",
      "(2, 'Kaya')\n"
     ]
    }
   ],
   "source": [
    "for n in enumerate(names):\n",
    "    print(n)"
   ]
  },
  {
   "cell_type": "code",
   "execution_count": 90,
   "id": "f354cfd3",
   "metadata": {},
   "outputs": [
    {
     "name": "stdout",
     "output_type": "stream",
     "text": [
      "Kaya\n",
      "Bushra\n",
      "Muhammed\n"
     ]
    }
   ],
   "source": [
    "for i in reversed(names):\n",
    "    print(i)"
   ]
  },
  {
   "cell_type": "code",
   "execution_count": null,
   "id": "08d12e91",
   "metadata": {},
   "outputs": [],
   "source": []
  }
 ],
 "metadata": {
  "kernelspec": {
   "display_name": "Python 3 (ipykernel)",
   "language": "python",
   "name": "python3"
  },
  "language_info": {
   "codemirror_mode": {
    "name": "ipython",
    "version": 3
   },
   "file_extension": ".py",
   "mimetype": "text/x-python",
   "name": "python",
   "nbconvert_exporter": "python",
   "pygments_lexer": "ipython3",
   "version": "3.9.13"
  }
 },
 "nbformat": 4,
 "nbformat_minor": 5
}

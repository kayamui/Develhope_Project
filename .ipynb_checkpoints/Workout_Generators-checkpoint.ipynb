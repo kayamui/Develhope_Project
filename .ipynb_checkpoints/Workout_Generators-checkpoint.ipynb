{
 "cells": [
  {
   "cell_type": "markdown",
   "id": "6e73931c",
   "metadata": {},
   "source": [
    "# Generators"
   ]
  },
  {
   "cell_type": "raw",
   "id": "b37e5b2c",
   "metadata": {},
   "source": [
    "# Diyelim ki elimdeki bir sayının karesini almak istiyorum"
   ]
  },
  {
   "cell_type": "code",
   "execution_count": 5,
   "id": "e50a38d9",
   "metadata": {},
   "outputs": [],
   "source": [
    "def square(l):\n",
    "    res = []\n",
    "    for e in l:\n",
    "        res.append(e*e)\n",
    "    return res"
   ]
  },
  {
   "cell_type": "code",
   "execution_count": 6,
   "id": "63a6906b",
   "metadata": {},
   "outputs": [],
   "source": [
    "l = [1,2,3]"
   ]
  },
  {
   "cell_type": "code",
   "execution_count": 17,
   "id": "13accc9f",
   "metadata": {},
   "outputs": [
    {
     "data": {
      "text/plain": [
       "[1, 4, 9]"
      ]
     },
     "execution_count": 17,
     "metadata": {},
     "output_type": "execute_result"
    }
   ],
   "source": [
    "square(l) #Burada tüm sonuçları aynı anda verdi"
   ]
  },
  {
   "cell_type": "code",
   "execution_count": 18,
   "id": "2b69fd16",
   "metadata": {},
   "outputs": [],
   "source": [
    "def square_generator(l):\n",
    "    for e in l:\n",
    "        yield e*e #Bunun sayesinde her next dediğimde bir sonraki generatoru verecek"
   ]
  },
  {
   "cell_type": "code",
   "execution_count": 19,
   "id": "089dd7b8",
   "metadata": {},
   "outputs": [],
   "source": [
    "g = square_generator(l)"
   ]
  },
  {
   "cell_type": "code",
   "execution_count": 20,
   "id": "c9a56a43",
   "metadata": {},
   "outputs": [
    {
     "data": {
      "text/plain": [
       "<generator object square_generator at 0x000001EADDEFDBA0>"
      ]
     },
     "execution_count": 20,
     "metadata": {},
     "output_type": "execute_result"
    }
   ],
   "source": [
    "g"
   ]
  },
  {
   "cell_type": "code",
   "execution_count": 21,
   "id": "d514eef9",
   "metadata": {},
   "outputs": [
    {
     "data": {
      "text/plain": [
       "1"
      ]
     },
     "execution_count": 21,
     "metadata": {},
     "output_type": "execute_result"
    }
   ],
   "source": [
    "next(g)"
   ]
  },
  {
   "cell_type": "code",
   "execution_count": 22,
   "id": "8e88eaa7",
   "metadata": {},
   "outputs": [
    {
     "data": {
      "text/plain": [
       "4"
      ]
     },
     "execution_count": 22,
     "metadata": {},
     "output_type": "execute_result"
    }
   ],
   "source": [
    "next(g)"
   ]
  },
  {
   "cell_type": "code",
   "execution_count": 23,
   "id": "0500dcc1",
   "metadata": {},
   "outputs": [
    {
     "data": {
      "text/plain": [
       "9"
      ]
     },
     "execution_count": 23,
     "metadata": {},
     "output_type": "execute_result"
    }
   ],
   "source": [
    "next(g)"
   ]
  },
  {
   "cell_type": "code",
   "execution_count": 25,
   "id": "55864576",
   "metadata": {},
   "outputs": [
    {
     "ename": "StopIteration",
     "evalue": "",
     "output_type": "error",
     "traceback": [
      "\u001b[1;31m---------------------------------------------------------------------------\u001b[0m",
      "\u001b[1;31mStopIteration\u001b[0m                             Traceback (most recent call last)",
      "\u001b[1;32m~\\AppData\\Local\\Temp\\ipykernel_4184\\4031999314.py\u001b[0m in \u001b[0;36m<module>\u001b[1;34m\u001b[0m\n\u001b[1;32m----> 1\u001b[1;33m \u001b[0mnext\u001b[0m\u001b[1;33m(\u001b[0m\u001b[0mg\u001b[0m\u001b[1;33m)\u001b[0m \u001b[1;31m# Elemanlar bitti exhaust oldu\u001b[0m\u001b[1;33m\u001b[0m\u001b[1;33m\u001b[0m\u001b[0m\n\u001b[0m",
      "\u001b[1;31mStopIteration\u001b[0m: "
     ]
    }
   ],
   "source": [
    "next(g) # Elemanlar bitti exhaust oldu"
   ]
  },
  {
   "cell_type": "code",
   "execution_count": 26,
   "id": "2c27dfc4",
   "metadata": {},
   "outputs": [],
   "source": [
    "# Bir daha yeniden başlatmak istiyorum"
   ]
  },
  {
   "cell_type": "code",
   "execution_count": 28,
   "id": "64c6e088",
   "metadata": {},
   "outputs": [],
   "source": [
    "for res in g :\n",
    "    print(res) # g exhaust olduğu için bişey döndürmüyor g yi yeniden yaratmam lazım"
   ]
  },
  {
   "cell_type": "code",
   "execution_count": 29,
   "id": "b13264e0",
   "metadata": {},
   "outputs": [],
   "source": [
    "g = square_generator(l)"
   ]
  },
  {
   "cell_type": "code",
   "execution_count": 30,
   "id": "240939a0",
   "metadata": {},
   "outputs": [
    {
     "name": "stdout",
     "output_type": "stream",
     "text": [
      "1\n",
      "4\n",
      "9\n"
     ]
    }
   ],
   "source": [
    "for res in g :\n",
    "    print(res) # g exhaust olduğu için bişey döndürmüyor g yi yeniden yaratmam lazım"
   ]
  },
  {
   "cell_type": "code",
   "execution_count": 32,
   "id": "9dc9cfb5",
   "metadata": {},
   "outputs": [
    {
     "ename": "StopIteration",
     "evalue": "",
     "output_type": "error",
     "traceback": [
      "\u001b[1;31m---------------------------------------------------------------------------\u001b[0m",
      "\u001b[1;31mStopIteration\u001b[0m                             Traceback (most recent call last)",
      "\u001b[1;32m~\\AppData\\Local\\Temp\\ipykernel_4184\\1920774645.py\u001b[0m in \u001b[0;36m<module>\u001b[1;34m\u001b[0m\n\u001b[1;32m----> 1\u001b[1;33m \u001b[0mnext\u001b[0m\u001b[1;33m(\u001b[0m\u001b[0mg\u001b[0m\u001b[1;33m)\u001b[0m \u001b[1;31m#gene exhaust oldu\u001b[0m\u001b[1;33m\u001b[0m\u001b[1;33m\u001b[0m\u001b[0m\n\u001b[0m",
      "\u001b[1;31mStopIteration\u001b[0m: "
     ]
    }
   ],
   "source": [
    "next(g) #gene exhaust oldu"
   ]
  },
  {
   "cell_type": "markdown",
   "id": "bdf83e71",
   "metadata": {},
   "source": [
    " # List Comprehension Gibi Generator Oluşturma"
   ]
  },
  {
   "cell_type": "code",
   "execution_count": 33,
   "id": "31965d66",
   "metadata": {},
   "outputs": [],
   "source": [
    "l = [x*x for x in [1,2,3,4,5] ]"
   ]
  },
  {
   "cell_type": "code",
   "execution_count": 34,
   "id": "a1e43e46",
   "metadata": {},
   "outputs": [
    {
     "data": {
      "text/plain": [
       "[1, 4, 9, 16, 25]"
      ]
     },
     "execution_count": 34,
     "metadata": {},
     "output_type": "execute_result"
    }
   ],
   "source": [
    "l"
   ]
  },
  {
   "cell_type": "code",
   "execution_count": 44,
   "id": "7d20d598",
   "metadata": {},
   "outputs": [],
   "source": [
    "g = (x*x for x in [1,2,3,4,5]) # Tek farkı parantez içinde belirtincew generator oluyor"
   ]
  },
  {
   "cell_type": "code",
   "execution_count": 36,
   "id": "e49efcbf",
   "metadata": {},
   "outputs": [
    {
     "data": {
      "text/plain": [
       "<generator object <genexpr> at 0x000001EADDF17BA0>"
      ]
     },
     "execution_count": 36,
     "metadata": {},
     "output_type": "execute_result"
    }
   ],
   "source": [
    "g"
   ]
  },
  {
   "cell_type": "code",
   "execution_count": 37,
   "id": "e7833895",
   "metadata": {},
   "outputs": [
    {
     "data": {
      "text/plain": [
       "1"
      ]
     },
     "execution_count": 37,
     "metadata": {},
     "output_type": "execute_result"
    }
   ],
   "source": [
    "next(g)"
   ]
  },
  {
   "cell_type": "code",
   "execution_count": 38,
   "id": "d6c1d85f",
   "metadata": {},
   "outputs": [
    {
     "data": {
      "text/plain": [
       "4"
      ]
     },
     "execution_count": 38,
     "metadata": {},
     "output_type": "execute_result"
    }
   ],
   "source": [
    "next(g)"
   ]
  },
  {
   "cell_type": "code",
   "execution_count": 39,
   "id": "ba21a7a7",
   "metadata": {},
   "outputs": [
    {
     "data": {
      "text/plain": [
       "9"
      ]
     },
     "execution_count": 39,
     "metadata": {},
     "output_type": "execute_result"
    }
   ],
   "source": [
    "next(g)"
   ]
  },
  {
   "cell_type": "code",
   "execution_count": 40,
   "id": "8eaaa7ae",
   "metadata": {},
   "outputs": [
    {
     "data": {
      "text/plain": [
       "16"
      ]
     },
     "execution_count": 40,
     "metadata": {},
     "output_type": "execute_result"
    }
   ],
   "source": [
    "next(g)"
   ]
  },
  {
   "cell_type": "code",
   "execution_count": 41,
   "id": "c06b38dc",
   "metadata": {},
   "outputs": [
    {
     "data": {
      "text/plain": [
       "25"
      ]
     },
     "execution_count": 41,
     "metadata": {},
     "output_type": "execute_result"
    }
   ],
   "source": [
    "next(g)"
   ]
  },
  {
   "cell_type": "code",
   "execution_count": 42,
   "id": "52203042",
   "metadata": {},
   "outputs": [
    {
     "ename": "StopIteration",
     "evalue": "",
     "output_type": "error",
     "traceback": [
      "\u001b[1;31m---------------------------------------------------------------------------\u001b[0m",
      "\u001b[1;31mStopIteration\u001b[0m                             Traceback (most recent call last)",
      "\u001b[1;32m~\\AppData\\Local\\Temp\\ipykernel_4184\\4253931490.py\u001b[0m in \u001b[0;36m<module>\u001b[1;34m\u001b[0m\n\u001b[1;32m----> 1\u001b[1;33m \u001b[0mnext\u001b[0m\u001b[1;33m(\u001b[0m\u001b[0mg\u001b[0m\u001b[1;33m)\u001b[0m\u001b[1;33m\u001b[0m\u001b[1;33m\u001b[0m\u001b[0m\n\u001b[0m",
      "\u001b[1;31mStopIteration\u001b[0m: "
     ]
    }
   ],
   "source": [
    "next(g)"
   ]
  },
  {
   "cell_type": "code",
   "execution_count": 43,
   "id": "1922b64d",
   "metadata": {},
   "outputs": [],
   "source": [
    "g = (x*x for x in [1,2,3,4,5])"
   ]
  },
  {
   "cell_type": "markdown",
   "id": "f420652f",
   "metadata": {},
   "source": [
    "# Generator'ı List'e Çevirme"
   ]
  },
  {
   "cell_type": "code",
   "execution_count": 45,
   "id": "cb7a9325",
   "metadata": {},
   "outputs": [],
   "source": [
    "g = (x*x for x in [1,2,3,4,5])"
   ]
  },
  {
   "cell_type": "code",
   "execution_count": 46,
   "id": "3b5da425",
   "metadata": {},
   "outputs": [
    {
     "data": {
      "text/plain": [
       "1"
      ]
     },
     "execution_count": 46,
     "metadata": {},
     "output_type": "execute_result"
    }
   ],
   "source": [
    "next(g)"
   ]
  },
  {
   "cell_type": "code",
   "execution_count": 47,
   "id": "24b3b8e1",
   "metadata": {},
   "outputs": [],
   "source": [
    " g = (x*x for x in [1,2,3,4,5])"
   ]
  },
  {
   "cell_type": "code",
   "execution_count": 48,
   "id": "15f09bce",
   "metadata": {},
   "outputs": [
    {
     "data": {
      "text/plain": [
       "[1, 4, 9, 16, 25]"
      ]
     },
     "execution_count": 48,
     "metadata": {},
     "output_type": "execute_result"
    }
   ],
   "source": [
    "list(g)"
   ]
  },
  {
   "cell_type": "code",
   "execution_count": 49,
   "id": "e01f2c8d",
   "metadata": {},
   "outputs": [],
   "source": [
    "l = [1,2,3,4,5,6]"
   ]
  },
  {
   "cell_type": "code",
   "execution_count": 50,
   "id": "baa8fc30",
   "metadata": {},
   "outputs": [
    {
     "ename": "StopIteration",
     "evalue": "",
     "output_type": "error",
     "traceback": [
      "\u001b[1;31m---------------------------------------------------------------------------\u001b[0m",
      "\u001b[1;31mStopIteration\u001b[0m                             Traceback (most recent call last)",
      "\u001b[1;32m~\\AppData\\Local\\Temp\\ipykernel_4184\\4253931490.py\u001b[0m in \u001b[0;36m<module>\u001b[1;34m\u001b[0m\n\u001b[1;32m----> 1\u001b[1;33m \u001b[0mnext\u001b[0m\u001b[1;33m(\u001b[0m\u001b[0mg\u001b[0m\u001b[1;33m)\u001b[0m\u001b[1;33m\u001b[0m\u001b[1;33m\u001b[0m\u001b[0m\n\u001b[0m",
      "\u001b[1;31mStopIteration\u001b[0m: "
     ]
    }
   ],
   "source": [
    "next(g)"
   ]
  },
  {
   "cell_type": "code",
   "execution_count": 51,
   "id": "5397f914",
   "metadata": {},
   "outputs": [],
   "source": [
    "# Generatorların avantajı çok fazla elemanla uğraşıyorsak hafızada çok yer kaplayacağı zaman işimizi görür\n",
    "# list(generator) yaptığımız zaman bu özelliğini kaybeder hepsini liste şeklinde verir"
   ]
  },
  {
   "cell_type": "markdown",
   "id": "ff91b06c",
   "metadata": {},
   "source": [
    "# Generator Exercise"
   ]
  },
  {
   "cell_type": "code",
   "execution_count": 52,
   "id": "cd42f929",
   "metadata": {},
   "outputs": [],
   "source": [
    "# range() benzeri fonksiyon oluşturma"
   ]
  },
  {
   "cell_type": "code",
   "execution_count": 54,
   "id": "c4a6420d",
   "metadata": {},
   "outputs": [],
   "source": [
    "def range_generator(start, end, step):\n",
    "    current = start\n",
    "    \n",
    "    while current < end:\n",
    "        yield current #Bunu gördüğü yerde durur next dediğim anda burdan devam eder\n",
    "        current += step"
   ]
  },
  {
   "cell_type": "code",
   "execution_count": 65,
   "id": "c4b23341",
   "metadata": {},
   "outputs": [],
   "source": [
    "r = range_generator(1,20,3)"
   ]
  },
  {
   "cell_type": "code",
   "execution_count": 56,
   "id": "79399dec",
   "metadata": {},
   "outputs": [
    {
     "data": {
      "text/plain": [
       "1"
      ]
     },
     "execution_count": 56,
     "metadata": {},
     "output_type": "execute_result"
    }
   ],
   "source": [
    "next(r)"
   ]
  },
  {
   "cell_type": "code",
   "execution_count": 57,
   "id": "7b376d1b",
   "metadata": {},
   "outputs": [
    {
     "data": {
      "text/plain": [
       "4"
      ]
     },
     "execution_count": 57,
     "metadata": {},
     "output_type": "execute_result"
    }
   ],
   "source": [
    "next(r)"
   ]
  },
  {
   "cell_type": "code",
   "execution_count": 58,
   "id": "c7c367dd",
   "metadata": {},
   "outputs": [
    {
     "data": {
      "text/plain": [
       "7"
      ]
     },
     "execution_count": 58,
     "metadata": {},
     "output_type": "execute_result"
    }
   ],
   "source": [
    "next(r)"
   ]
  },
  {
   "cell_type": "code",
   "execution_count": 59,
   "id": "e0ff27f2",
   "metadata": {},
   "outputs": [
    {
     "data": {
      "text/plain": [
       "10"
      ]
     },
     "execution_count": 59,
     "metadata": {},
     "output_type": "execute_result"
    }
   ],
   "source": [
    "next(r)"
   ]
  },
  {
   "cell_type": "code",
   "execution_count": 60,
   "id": "4781147a",
   "metadata": {},
   "outputs": [
    {
     "data": {
      "text/plain": [
       "13"
      ]
     },
     "execution_count": 60,
     "metadata": {},
     "output_type": "execute_result"
    }
   ],
   "source": [
    "next(r)"
   ]
  },
  {
   "cell_type": "code",
   "execution_count": 61,
   "id": "69cbeb23",
   "metadata": {},
   "outputs": [
    {
     "data": {
      "text/plain": [
       "16"
      ]
     },
     "execution_count": 61,
     "metadata": {},
     "output_type": "execute_result"
    }
   ],
   "source": [
    "next(r)"
   ]
  },
  {
   "cell_type": "code",
   "execution_count": 62,
   "id": "6bf843d8",
   "metadata": {},
   "outputs": [
    {
     "data": {
      "text/plain": [
       "19"
      ]
     },
     "execution_count": 62,
     "metadata": {},
     "output_type": "execute_result"
    }
   ],
   "source": [
    "next(r)"
   ]
  },
  {
   "cell_type": "code",
   "execution_count": 63,
   "id": "00f14ac3",
   "metadata": {},
   "outputs": [
    {
     "ename": "StopIteration",
     "evalue": "",
     "output_type": "error",
     "traceback": [
      "\u001b[1;31m---------------------------------------------------------------------------\u001b[0m",
      "\u001b[1;31mStopIteration\u001b[0m                             Traceback (most recent call last)",
      "\u001b[1;32m~\\AppData\\Local\\Temp\\ipykernel_4184\\4134984757.py\u001b[0m in \u001b[0;36m<module>\u001b[1;34m\u001b[0m\n\u001b[1;32m----> 1\u001b[1;33m \u001b[0mnext\u001b[0m\u001b[1;33m(\u001b[0m\u001b[0mr\u001b[0m\u001b[1;33m)\u001b[0m\u001b[1;33m\u001b[0m\u001b[1;33m\u001b[0m\u001b[0m\n\u001b[0m",
      "\u001b[1;31mStopIteration\u001b[0m: "
     ]
    }
   ],
   "source": [
    "next(r)"
   ]
  },
  {
   "cell_type": "code",
   "execution_count": 66,
   "id": "ddf3ecba",
   "metadata": {},
   "outputs": [],
   "source": [
    "def range_generator(start, end, step):\n",
    "    current = start\n",
    "    \n",
    "    while current < end:\n",
    "        yield current #Bunu gördüğü yerde durur next dediğim anda burdan devam eder\n",
    "        print(current)\n",
    "        current += step"
   ]
  },
  {
   "cell_type": "code",
   "execution_count": 67,
   "id": "3159a4e9",
   "metadata": {},
   "outputs": [],
   "source": [
    "r = range_generator(1,20,3)"
   ]
  },
  {
   "cell_type": "code",
   "execution_count": 68,
   "id": "ec3f0080",
   "metadata": {},
   "outputs": [
    {
     "data": {
      "text/plain": [
       "1"
      ]
     },
     "execution_count": 68,
     "metadata": {},
     "output_type": "execute_result"
    }
   ],
   "source": [
    "next(r)"
   ]
  },
  {
   "cell_type": "code",
   "execution_count": 69,
   "id": "41f94deb",
   "metadata": {},
   "outputs": [
    {
     "name": "stdout",
     "output_type": "stream",
     "text": [
      "1\n"
     ]
    },
    {
     "data": {
      "text/plain": [
       "4"
      ]
     },
     "execution_count": 69,
     "metadata": {},
     "output_type": "execute_result"
    }
   ],
   "source": [
    "next(r)"
   ]
  },
  {
   "cell_type": "code",
   "execution_count": 70,
   "id": "cb0032ab",
   "metadata": {},
   "outputs": [
    {
     "name": "stdout",
     "output_type": "stream",
     "text": [
      "4\n"
     ]
    },
    {
     "data": {
      "text/plain": [
       "7"
      ]
     },
     "execution_count": 70,
     "metadata": {},
     "output_type": "execute_result"
    }
   ],
   "source": [
    "next(r)"
   ]
  },
  {
   "cell_type": "code",
   "execution_count": null,
   "id": "5ed4118c",
   "metadata": {},
   "outputs": [],
   "source": []
  }
 ],
 "metadata": {
  "kernelspec": {
   "display_name": "Python 3 (ipykernel)",
   "language": "python",
   "name": "python3"
  },
  "language_info": {
   "codemirror_mode": {
    "name": "ipython",
    "version": 3
   },
   "file_extension": ".py",
   "mimetype": "text/x-python",
   "name": "python",
   "nbconvert_exporter": "python",
   "pygments_lexer": "ipython3",
   "version": "3.9.13"
  }
 },
 "nbformat": 4,
 "nbformat_minor": 5
}

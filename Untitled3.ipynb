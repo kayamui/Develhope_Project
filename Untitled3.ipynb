{
 "cells": [
  {
   "cell_type": "code",
   "execution_count": 2,
   "id": "036ccba9",
   "metadata": {},
   "outputs": [],
   "source": [
    "dict ={}\n",
    "dict[\"name\"] = \"Muhammed\"\n",
    "dict[\"surname\"] = \"Kaya\""
   ]
  },
  {
   "cell_type": "code",
   "execution_count": 3,
   "id": "315c6153",
   "metadata": {},
   "outputs": [
    {
     "data": {
      "text/plain": [
       "{'name': 'Muhammed', 'surname': 'Kaya'}"
      ]
     },
     "execution_count": 3,
     "metadata": {},
     "output_type": "execute_result"
    }
   ],
   "source": [
    "dict"
   ]
  },
  {
   "cell_type": "code",
   "execution_count": 4,
   "id": "39f2dc8b",
   "metadata": {},
   "outputs": [],
   "source": [
    "dict[\"serial_number\"] = \"10644079348\""
   ]
  },
  {
   "cell_type": "code",
   "execution_count": 5,
   "id": "58fc4512",
   "metadata": {},
   "outputs": [
    {
     "data": {
      "text/plain": [
       "{'name': 'Muhammed', 'surname': 'Kaya', 'serial_number': '10644079348'}"
      ]
     },
     "execution_count": 5,
     "metadata": {},
     "output_type": "execute_result"
    }
   ],
   "source": [
    "dict"
   ]
  },
  {
   "cell_type": "code",
   "execution_count": 6,
   "id": "2a168d94",
   "metadata": {},
   "outputs": [],
   "source": [
    "dict = {}"
   ]
  },
  {
   "cell_type": "code",
   "execution_count": 7,
   "id": "ad403d2d",
   "metadata": {},
   "outputs": [
    {
     "data": {
      "text/plain": [
       "{}"
      ]
     },
     "execution_count": 7,
     "metadata": {},
     "output_type": "execute_result"
    }
   ],
   "source": [
    "dict"
   ]
  },
  {
   "cell_type": "code",
   "execution_count": 8,
   "id": "51c768b5",
   "metadata": {},
   "outputs": [],
   "source": [
    "dict[\"Muhammed\"] = {\"surname\": \"Kaya\", \"ID\" : \"10644079348\"} "
   ]
  },
  {
   "cell_type": "code",
   "execution_count": 9,
   "id": "6b283e6b",
   "metadata": {},
   "outputs": [
    {
     "data": {
      "text/plain": [
       "{'Muhammed': {'surname': 'Kaya', 'ID': '10644079348'}}"
      ]
     },
     "execution_count": 9,
     "metadata": {},
     "output_type": "execute_result"
    }
   ],
   "source": [
    "dict"
   ]
  },
  {
   "cell_type": "code",
   "execution_count": 10,
   "id": "a3be1ccf",
   "metadata": {},
   "outputs": [
    {
     "data": {
      "text/plain": [
       "{'surname': 'Kaya', 'ID': '10644079348'}"
      ]
     },
     "execution_count": 10,
     "metadata": {},
     "output_type": "execute_result"
    }
   ],
   "source": [
    "dict[\"Muhammed\"]"
   ]
  },
  {
   "cell_type": "code",
   "execution_count": 11,
   "id": "d7436470",
   "metadata": {},
   "outputs": [
    {
     "data": {
      "text/plain": [
       "'10644079348'"
      ]
     },
     "execution_count": 11,
     "metadata": {},
     "output_type": "execute_result"
    }
   ],
   "source": [
    "dict[\"Muhammed\"][\"ID\"]"
   ]
  },
  {
   "cell_type": "code",
   "execution_count": 33,
   "id": "532b5df6",
   "metadata": {},
   "outputs": [],
   "source": [
    "def nucleotid():\n",
    "    nucleotids = input(str(\"Please type one of Nucleotids :\\t\"))\n",
    "    while True:\n",
    "        if nucleotids.lower() == \"a\":\n",
    "            return \"T\"\n",
    "        elif nucleotids.lower() == \"t\":\n",
    "            return \"A\"\n",
    "        elif nucleotids.lower() == \"c\":\n",
    "            return \"G\"\n",
    "        elif nucleotids.lower() == \"g\":\n",
    "            return \"C\"\n",
    "        else:\n",
    "            return \"Wrong input\""
   ]
  },
  {
   "cell_type": "code",
   "execution_count": 34,
   "id": "c18dc8ae",
   "metadata": {},
   "outputs": [
    {
     "name": "stdout",
     "output_type": "stream",
     "text": [
      "Please type one of Nucleotids :\ta\n"
     ]
    },
    {
     "data": {
      "text/plain": [
       "'T'"
      ]
     },
     "execution_count": 34,
     "metadata": {},
     "output_type": "execute_result"
    }
   ],
   "source": [
    "nucleotid()"
   ]
  },
  {
   "cell_type": "code",
   "execution_count": 61,
   "id": "71e8fd05",
   "metadata": {},
   "outputs": [],
   "source": [
    "def leap_year(n):\n",
    "    if n % 100 == 0:\n",
    "        if n % 400 == 0:\n",
    "            if n % 4 == 0:\n",
    "                return \"Leap Year\"\n",
    "    return \"Not a Leap Year\""
   ]
  },
  {
   "cell_type": "code",
   "execution_count": 62,
   "id": "2794ea10",
   "metadata": {},
   "outputs": [
    {
     "data": {
      "text/plain": [
       "'Not a Leap Year'"
      ]
     },
     "execution_count": 62,
     "metadata": {},
     "output_type": "execute_result"
    }
   ],
   "source": [
    "leap_year(1998)"
   ]
  },
  {
   "cell_type": "code",
   "execution_count": 63,
   "id": "abbf4745",
   "metadata": {},
   "outputs": [
    {
     "data": {
      "text/plain": [
       "'Leap Year'"
      ]
     },
     "execution_count": 63,
     "metadata": {},
     "output_type": "execute_result"
    }
   ],
   "source": [
    "leap_year(2000)"
   ]
  },
  {
   "cell_type": "code",
   "execution_count": 64,
   "id": "e7125460",
   "metadata": {},
   "outputs": [
    {
     "data": {
      "text/plain": [
       "'Not a Leap Year'"
      ]
     },
     "execution_count": 64,
     "metadata": {},
     "output_type": "execute_result"
    }
   ],
   "source": [
    "leap_year(100)"
   ]
  },
  {
   "cell_type": "code",
   "execution_count": 65,
   "id": "958151eb",
   "metadata": {},
   "outputs": [
    {
     "data": {
      "text/plain": [
       "'Not a Leap Year'"
      ]
     },
     "execution_count": 65,
     "metadata": {},
     "output_type": "execute_result"
    }
   ],
   "source": [
    "leap_year(2100)"
   ]
  },
  {
   "cell_type": "code",
   "execution_count": 67,
   "id": "0b9e46d9",
   "metadata": {},
   "outputs": [
    {
     "data": {
      "text/plain": [
       "'Not a Leap Year'"
      ]
     },
     "execution_count": 67,
     "metadata": {},
     "output_type": "execute_result"
    }
   ],
   "source": [
    "leap_year(2500)"
   ]
  },
  {
   "cell_type": "code",
   "execution_count": 68,
   "id": "2df40c38",
   "metadata": {},
   "outputs": [
    {
     "data": {
      "text/plain": [
       "'Leap Year'"
      ]
     },
     "execution_count": 68,
     "metadata": {},
     "output_type": "execute_result"
    }
   ],
   "source": [
    "leap_year(2000)"
   ]
  },
  {
   "cell_type": "code",
   "execution_count": null,
   "id": "48faccab",
   "metadata": {},
   "outputs": [],
   "source": [
    "def all_leap_years():\n",
    "    n = 0\n",
    "    while n < 2023:\n",
    "        if n % 4 == 0:"
   ]
  }
 ],
 "metadata": {
  "kernelspec": {
   "display_name": "Python 3 (ipykernel)",
   "language": "python",
   "name": "python3"
  },
  "language_info": {
   "codemirror_mode": {
    "name": "ipython",
    "version": 3
   },
   "file_extension": ".py",
   "mimetype": "text/x-python",
   "name": "python",
   "nbconvert_exporter": "python",
   "pygments_lexer": "ipython3",
   "version": "3.9.13"
  }
 },
 "nbformat": 4,
 "nbformat_minor": 5
}

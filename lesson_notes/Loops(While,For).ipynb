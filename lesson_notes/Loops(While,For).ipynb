{
 "cells": [
  {
   "cell_type": "code",
   "execution_count": 17,
   "id": "46af3a94",
   "metadata": {},
   "outputs": [
    {
     "name": "stdout",
     "output_type": "stream",
     "text": [
      "0\n",
      "2\n",
      "4\n",
      "6\n",
      "8\n",
      "10\n",
      "12\n",
      "14\n",
      "16\n",
      "18\n",
      "Loop ended, a is:  20\n"
     ]
    }
   ],
   "source": [
    "a=0\n",
    "counter_loop=0\n",
    "while a>-1 and counter_loop<10:\n",
    "    print(a)\n",
    "    a+=2\n",
    "    counter_loop+=1\n",
    "else:\n",
    "    print(\"Loop ended, a is: \",a)\n",
    "        "
   ]
  },
  {
   "cell_type": "code",
   "execution_count": 53,
   "id": "263a526e",
   "metadata": {},
   "outputs": [],
   "source": [
    "text =\"Hello You\""
   ]
  },
  {
   "cell_type": "code",
   "execution_count": 20,
   "id": "eca8b59a",
   "metadata": {},
   "outputs": [
    {
     "data": {
      "text/plain": [
       "'Hello You'"
      ]
     },
     "execution_count": 20,
     "metadata": {},
     "output_type": "execute_result"
    }
   ],
   "source": [
    "text"
   ]
  },
  {
   "cell_type": "code",
   "execution_count": 21,
   "id": "bc14ed86",
   "metadata": {},
   "outputs": [
    {
     "data": {
      "text/plain": [
       "9"
      ]
     },
     "execution_count": 21,
     "metadata": {},
     "output_type": "execute_result"
    }
   ],
   "source": [
    "len(text)"
   ]
  },
  {
   "cell_type": "code",
   "execution_count": 22,
   "id": "34117f3f",
   "metadata": {},
   "outputs": [
    {
     "name": "stdout",
     "output_type": "stream",
     "text": [
      "Hello Y\n"
     ]
    }
   ],
   "source": [
    "print(text[:-2])"
   ]
  },
  {
   "cell_type": "code",
   "execution_count": 23,
   "id": "e0f7078a",
   "metadata": {},
   "outputs": [
    {
     "name": "stdout",
     "output_type": "stream",
     "text": [
      "\n"
     ]
    }
   ],
   "source": [
    "print(text[:0])"
   ]
  },
  {
   "cell_type": "code",
   "execution_count": 26,
   "id": "644170a8",
   "metadata": {},
   "outputs": [
    {
     "name": "stdout",
     "output_type": "stream",
     "text": [
      "Hello Y\n"
     ]
    }
   ],
   "source": [
    "print(text[0:7])"
   ]
  },
  {
   "cell_type": "code",
   "execution_count": 55,
   "id": "89910a6a",
   "metadata": {},
   "outputs": [
    {
     "name": "stdout",
     "output_type": "stream",
     "text": [
      "LOOP ENDED\n"
     ]
    }
   ],
   "source": [
    "while len(text)>0:\n",
    "    print(\"String is :\", text)\n",
    "    text=text[:-1]\n",
    "    print(\"--------\\nNEXT LOOP\\n--------\")\n",
    "else:\n",
    "        print(\"LOOP ENDED\")"
   ]
  },
  {
   "cell_type": "code",
   "execution_count": 56,
   "id": "cbda8ca6",
   "metadata": {},
   "outputs": [
    {
     "data": {
      "text/plain": [
       "''"
      ]
     },
     "execution_count": 56,
     "metadata": {},
     "output_type": "execute_result"
    }
   ],
   "source": [
    "text"
   ]
  },
  {
   "cell_type": "code",
   "execution_count": 99,
   "id": "4e14da10",
   "metadata": {},
   "outputs": [],
   "source": [
    "liste=[2,3,5,0,8,10,9,6,7,1,4]"
   ]
  },
  {
   "cell_type": "code",
   "execution_count": 94,
   "id": "31a54237",
   "metadata": {},
   "outputs": [
    {
     "data": {
      "text/plain": [
       "0"
      ]
     },
     "execution_count": 94,
     "metadata": {},
     "output_type": "execute_result"
    }
   ],
   "source": [
    "min(liste)"
   ]
  },
  {
   "cell_type": "code",
   "execution_count": 95,
   "id": "96b5e3b7",
   "metadata": {},
   "outputs": [],
   "source": [
    "liste.remove(0)"
   ]
  },
  {
   "cell_type": "code",
   "execution_count": 96,
   "id": "c6e499f9",
   "metadata": {},
   "outputs": [
    {
     "data": {
      "text/plain": [
       "[2, 3, 5, 8, 10, 9, 6, 7, 1, 4]"
      ]
     },
     "execution_count": 96,
     "metadata": {},
     "output_type": "execute_result"
    }
   ],
   "source": [
    "liste"
   ]
  },
  {
   "cell_type": "code",
   "execution_count": 97,
   "id": "0f84a014",
   "metadata": {},
   "outputs": [
    {
     "name": "stdout",
     "output_type": "stream",
     "text": [
      "10\n"
     ]
    }
   ],
   "source": [
    "print(len(liste))"
   ]
  },
  {
   "cell_type": "code",
   "execution_count": 113,
   "id": "3afcb820",
   "metadata": {},
   "outputs": [
    {
     "name": "stdout",
     "output_type": "stream",
     "text": [
      "Removing 0 from the list\n",
      "The remained list is [2, 3, 5, 8, 10, 9, 6, 7, 1, 4]\n",
      "Removing 1 from the list\n",
      "The remained list is [2, 3, 5, 8, 10, 9, 6, 7, 4]\n",
      "Removing 2 from the list\n",
      "The remained list is [3, 5, 8, 10, 9, 6, 7, 4]\n",
      "Removing 3 from the list\n",
      "The remained list is [5, 8, 10, 9, 6, 7, 4]\n",
      "Removing 4 from the list\n",
      "The remained list is [5, 8, 10, 9, 6, 7]\n",
      "Removing 5 from the list\n",
      "The remained list is [8, 10, 9, 6, 7]\n",
      "Removing 6 from the list\n",
      "The remained list is [8, 10, 9, 7]\n",
      "Removing 7 from the list\n",
      "The remained list is [8, 10, 9]\n",
      "Removing 8 from the list\n",
      "The remained list is [10, 9]\n",
      "Removing 9 from the list\n",
      "The remained list is [10]\n",
      "Removing 10 from the list\n",
      "The remained list is []\n",
      "-----------------------------\n",
      "\"ALL NUMBERS HAVE BEEN REMOVED\"\n"
     ]
    }
   ],
   "source": [
    "liste=[2,3,5,0,8,10,9,6,7,1,4]\n",
    "while len(liste)>0:\n",
    "    print(f\"Removing {min(liste)} from the list\")\n",
    "    liste.remove(min(liste))\n",
    "    print(f\"The remained list is {liste}\")\n",
    "else:\n",
    "    print(\"-----------------------------\\n\\\"ALL NUMBERS HAVE BEEN REMOVED\\\"\")"
   ]
  },
  {
   "cell_type": "code",
   "execution_count": 114,
   "id": "2de5b6c2",
   "metadata": {},
   "outputs": [],
   "source": [
    "# break command:    Go out of the loop, pass the loop statement\n",
    "# continue command: Jumps top of the loop (Do the loop again)\n",
    "# pass command:     Do nothing, empty statement placeholder\n",
    "# else:             Runs if the loop exited normally (Not with a break)"
   ]
  },
  {
   "cell_type": "code",
   "execution_count": 117,
   "id": "fcc503a7",
   "metadata": {},
   "outputs": [],
   "source": [
    "n=10\n",
    "i=0\n",
    "while n < 100 and i< 1000:\n",
    "    i+=1\n",
    "    pass"
   ]
  },
  {
   "cell_type": "code",
   "execution_count": 118,
   "id": "003fc958",
   "metadata": {},
   "outputs": [
    {
     "data": {
      "text/plain": [
       "1000"
      ]
     },
     "execution_count": 118,
     "metadata": {},
     "output_type": "execute_result"
    }
   ],
   "source": [
    "i"
   ]
  },
  {
   "cell_type": "code",
   "execution_count": 119,
   "id": "e4fbab5e",
   "metadata": {},
   "outputs": [],
   "source": [
    "#Problem:A Num has been given, we will print from that number to 0 which are only the \"even\" numbers\n",
    "#Example: For number 12, it will print 10, 8, 6, 4, 2, 0"
   ]
  },
  {
   "cell_type": "code",
   "execution_count": 135,
   "id": "5a2d9a97",
   "metadata": {},
   "outputs": [
    {
     "name": "stdout",
     "output_type": "stream",
     "text": [
      "12\n",
      "At this stop n is an odd number\n",
      "10\n",
      "At this stop n is an odd number\n",
      "8\n",
      "At this stop n is an odd number\n",
      "6\n",
      "At this stop n is an odd number\n",
      "4\n"
     ]
    }
   ],
   "source": [
    "n=12\n",
    "while n>0:\n",
    "    if n%2 == 0:\n",
    "        print(n)\n",
    "        n-=1\n",
    "        continue\n",
    "    print(\"At this stop n is an odd number\")\n",
    "    n=n-1\n",
    "    if n<=4:\n",
    "        print(n)\n",
    "        break\n",
    "    "
   ]
  },
  {
   "cell_type": "code",
   "execution_count": 187,
   "id": "865b3270",
   "metadata": {},
   "outputs": [],
   "source": [
    "student_name=\"Muhammed Kaya\"\n",
    "grade=5\n",
    "level= \"good\"\n",
    "mention = (f\"Well done {student_name}, wtih this grade you\")"
   ]
  },
  {
   "cell_type": "code",
   "execution_count": null,
   "id": "de0718de",
   "metadata": {},
   "outputs": [
    {
     "name": "stdout",
     "output_type": "stream",
     "text": [
      "Enter the student name \t:muhammed\n",
      "Grade of the student\t:8\n",
      "Well done muhammed, wtih this grade you are Excellent\n"
     ]
    }
   ],
   "source": [
    "while True:\n",
    "    student_name= input(\"Enter the student name \\t:\")\n",
    "    if student_name == \"exit\":\n",
    "        break\n",
    "    grade=int(input(\"Grade of the student\\t:\"))\n",
    "    level= \"Excellent\" if grade > 7 else \"Good\"  if grade >5  else \"ok\"\n",
    "    print(f\"Well done {student_name}, wtih this grade you are {level}\")\n",
    "print(\"Student grading has been ended\")"
   ]
  },
  {
   "cell_type": "code",
   "execution_count": 172,
   "id": "d3a2a1dc",
   "metadata": {},
   "outputs": [
    {
     "data": {
      "text/plain": [
       "'muhammed'"
      ]
     },
     "execution_count": 172,
     "metadata": {},
     "output_type": "execute_result"
    }
   ],
   "source": [
    "student_name"
   ]
  },
  {
   "cell_type": "code",
   "execution_count": null,
   "id": "0d7a117e",
   "metadata": {},
   "outputs": [],
   "source": [
    "grade"
   ]
  },
  {
   "cell_type": "code",
   "execution_count": null,
   "id": "64e94cd9",
   "metadata": {},
   "outputs": [],
   "source": []
  }
 ],
 "metadata": {
  "kernelspec": {
   "display_name": "Python 3 (ipykernel)",
   "language": "python",
   "name": "python3"
  },
  "language_info": {
   "codemirror_mode": {
    "name": "ipython",
    "version": 3
   },
   "file_extension": ".py",
   "mimetype": "text/x-python",
   "name": "python",
   "nbconvert_exporter": "python",
   "pygments_lexer": "ipython3",
   "version": "3.9.13"
  }
 },
 "nbformat": 4,
 "nbformat_minor": 5
}
